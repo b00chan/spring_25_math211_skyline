{
 "cells": [
  {
   "cell_type": "markdown",
   "id": "545da080",
   "metadata": {},
   "source": [
    "# [Python Reference Link](http://www.data8.org/sp20/python-reference.html)\n",
    "*Run the cell below so that we can set our modules up*"
   ]
  },
  {
   "cell_type": "code",
   "execution_count": 1,
   "id": "184ab73c",
   "metadata": {},
   "outputs": [],
   "source": [
    "import numpy as np\n",
    "from datascience import *"
   ]
  },
  {
   "cell_type": "code",
   "execution_count": 2,
   "id": "d98eb4c8",
   "metadata": {},
   "outputs": [],
   "source": [
    "# These lines set up graphing capabilities.\n",
    "import matplotlib\n",
    "%matplotlib inline\n",
    "import matplotlib.pyplot as plt\n",
    "plt.style.use('fivethirtyeight')\n",
    "import warnings\n",
    "warnings.simplefilter('ignore', FutureWarning)\n",
    "\n",
    "from ipywidgets import interact, interactive, fixed, interact_manual\n",
    "import ipywidgets as widgets"
   ]
  },
  {
   "cell_type": "markdown",
   "id": "fe2d22d8",
   "metadata": {},
   "source": [
    "# Regarding the demo request"
   ]
  },
  {
   "cell_type": "markdown",
   "id": "a859da1e",
   "metadata": {},
   "source": [
    "After writing this, you realize you also wanted to print out the 2nd and 3rd-highest years.  Instead of copying your code, you decide to put it in a function.  Since the rank varies, you make that an argument to your function.\n",
    "\n",
    "**Question 1.4.** Write a function called `print_kth_top_movie_year`.  It should take a single argument, the rank of the year (like 2, 3, or 5 in the above examples) and should use the table `movies_by_year`. It should print out a message like the one above.  \n",
    "\n",
    "*Note:* Your function shouldn't have a `return` statement.\n"
   ]
  },
  {
   "cell_type": "code",
   "execution_count": null,
   "id": "fa95bda4",
   "metadata": {},
   "outputs": [],
   "source": [
    "def print_kth_top_movie_year(k):\n",
    "    ...\n",
    "    print(...)\n",
    "  \n",
    "\n",
    "# Example calls to your function:\n",
    "print_kth_top_movie_year(2)\n",
    "print_kth_top_movie_year(3)"
   ]
  },
  {
   "cell_type": "code",
   "execution_count": null,
   "id": "1a781e90",
   "metadata": {},
   "outputs": [],
   "source": [
    "# interact also allows you to pass in an array for a function argument. It will\n",
    "# then present a dropdown menu of options.\n",
    "_ = interact(print_kth_top_movie_year, k=np.arange(1, 10))"
   ]
  },
  {
   "cell_type": "markdown",
   "id": "ed991192",
   "metadata": {},
   "source": [
    "### In response: \n",
    "`interact` comes from the `ipywidgets` module: [https://ipywidgets.readthedocs.io/en/stable/examples/Using%20Interact.html#](https://ipywidgets.readthedocs.io/en/stable/examples/Using%20Interact.html#)"
   ]
  },
  {
   "cell_type": "markdown",
   "id": "6f7d0cb4",
   "metadata": {},
   "source": [
    "# Demo for `tbl.join`\n",
    "<img src=\"table_join.png\" alt=\"drawing\" width=\"1200\"/>"
   ]
  },
  {
   "cell_type": "code",
   "execution_count": 10,
   "id": "45c5fe9b",
   "metadata": {},
   "outputs": [
    {
     "data": {
      "text/html": [
       "<table border=\"1\" class=\"dataframe\">\n",
       "    <thead>\n",
       "        <tr>\n",
       "            <th>Drink</th> <th>Cafe</th> <th>Price ($)</th>\n",
       "        </tr>\n",
       "    </thead>\n",
       "    <tbody>\n",
       "        <tr>\n",
       "            <td>Milk Tea</td> <td>Asha  </td> <td>5.5      </td>\n",
       "        </tr>\n",
       "        <tr>\n",
       "            <td>Espresso</td> <td>Strada</td> <td>1.75     </td>\n",
       "        </tr>\n",
       "        <tr>\n",
       "            <td>Latte   </td> <td>Strada</td> <td>3.25     </td>\n",
       "        </tr>\n",
       "        <tr>\n",
       "            <td>Espresso</td> <td>FSM   </td> <td>2        </td>\n",
       "        </tr>\n",
       "    </tbody>\n",
       "</table>"
      ],
      "text/plain": [
       "<IPython.core.display.HTML object>"
      ]
     },
     "metadata": {},
     "output_type": "display_data"
    },
    {
     "data": {
      "text/html": [
       "<table border=\"1\" class=\"dataframe\">\n",
       "    <thead>\n",
       "        <tr>\n",
       "            <th>Coupon</th> <th>Location</th>\n",
       "        </tr>\n",
       "    </thead>\n",
       "    <tbody>\n",
       "        <tr>\n",
       "            <td>10%   </td> <td>Asha    </td>\n",
       "        </tr>\n",
       "        <tr>\n",
       "            <td>25%   </td> <td>Strada  </td>\n",
       "        </tr>\n",
       "        <tr>\n",
       "            <td>5%    </td> <td>Asha    </td>\n",
       "        </tr>\n",
       "    </tbody>\n",
       "</table>"
      ],
      "text/plain": [
       "<IPython.core.display.HTML object>"
      ]
     },
     "metadata": {},
     "output_type": "display_data"
    }
   ],
   "source": [
    "drinks = Table.read_table('drinks.csv')\n",
    "discounts = Table.read_table('discounts.csv')\n",
    "\n",
    "drinks.show()\n",
    "discounts.show()"
   ]
  },
  {
   "cell_type": "code",
   "execution_count": 5,
   "id": "475b658e",
   "metadata": {},
   "outputs": [
    {
     "data": {
      "text/html": [
       "<table border=\"1\" class=\"dataframe\">\n",
       "    <thead>\n",
       "        <tr>\n",
       "            <th>Cafe</th> <th>Drink</th> <th>Price ($)</th> <th>Coupon</th>\n",
       "        </tr>\n",
       "    </thead>\n",
       "    <tbody>\n",
       "        <tr>\n",
       "            <td>Asha  </td> <td>Milk Tea</td> <td>5.5      </td> <td>10%   </td>\n",
       "        </tr>\n",
       "        <tr>\n",
       "            <td>Asha  </td> <td>Milk Tea</td> <td>5.5      </td> <td>5%    </td>\n",
       "        </tr>\n",
       "        <tr>\n",
       "            <td>Strada</td> <td>Espresso</td> <td>1.75     </td> <td>25%   </td>\n",
       "        </tr>\n",
       "        <tr>\n",
       "            <td>Strada</td> <td>Latte   </td> <td>3.25     </td> <td>25%   </td>\n",
       "        </tr>\n",
       "    </tbody>\n",
       "</table>"
      ],
      "text/plain": [
       "Cafe   | Drink    | Price ($) | Coupon\n",
       "Asha   | Milk Tea | 5.5       | 10%\n",
       "Asha   | Milk Tea | 5.5       | 5%\n",
       "Strada | Espresso | 1.75      | 25%\n",
       "Strada | Latte    | 3.25      | 25%"
      ]
     },
     "execution_count": 5,
     "metadata": {},
     "output_type": "execute_result"
    }
   ],
   "source": [
    "drinks.join('Cafe',discounts,'Location')"
   ]
  },
  {
   "cell_type": "code",
   "execution_count": 12,
   "id": "b1b3a285",
   "metadata": {},
   "outputs": [
    {
     "data": {
      "text/html": [
       "<table border=\"1\" class=\"dataframe\">\n",
       "    <thead>\n",
       "        <tr>\n",
       "            <th>Coupon</th> <th>Location</th>\n",
       "        </tr>\n",
       "    </thead>\n",
       "    <tbody>\n",
       "        <tr>\n",
       "            <td>10%   </td> <td>Asha    </td>\n",
       "        </tr>\n",
       "        <tr>\n",
       "            <td>25%   </td> <td>Strada  </td>\n",
       "        </tr>\n",
       "        <tr>\n",
       "            <td>5%    </td> <td>Asha    </td>\n",
       "        </tr>\n",
       "    </tbody>\n",
       "</table>"
      ],
      "text/plain": [
       "Coupon | Location\n",
       "10%    | Asha\n",
       "25%    | Strada\n",
       "5%     | Asha"
      ]
     },
     "execution_count": 12,
     "metadata": {},
     "output_type": "execute_result"
    }
   ],
   "source": [
    "discounts"
   ]
  },
  {
   "cell_type": "code",
   "execution_count": 13,
   "id": "53a8ce7f",
   "metadata": {},
   "outputs": [
    {
     "data": {
      "text/html": [
       "<table border=\"1\" class=\"dataframe\">\n",
       "    <thead>\n",
       "        <tr>\n",
       "            <th>Coupon</th> <th>Cafe</th>\n",
       "        </tr>\n",
       "    </thead>\n",
       "    <tbody>\n",
       "        <tr>\n",
       "            <td>10%   </td> <td>Asha  </td>\n",
       "        </tr>\n",
       "        <tr>\n",
       "            <td>25%   </td> <td>Strada</td>\n",
       "        </tr>\n",
       "        <tr>\n",
       "            <td>5%    </td> <td>Asha  </td>\n",
       "        </tr>\n",
       "    </tbody>\n",
       "</table>"
      ],
      "text/plain": [
       "Coupon | Cafe\n",
       "10%    | Asha\n",
       "25%    | Strada\n",
       "5%     | Asha"
      ]
     },
     "execution_count": 13,
     "metadata": {},
     "output_type": "execute_result"
    }
   ],
   "source": [
    "discounts = discounts.relabeled('Location','Cafe')\n",
    "discounts"
   ]
  },
  {
   "cell_type": "code",
   "execution_count": 14,
   "id": "5461ca1c",
   "metadata": {},
   "outputs": [
    {
     "data": {
      "text/html": [
       "<table border=\"1\" class=\"dataframe\">\n",
       "    <thead>\n",
       "        <tr>\n",
       "            <th>Cafe</th> <th>Drink</th> <th>Price ($)</th> <th>Coupon</th>\n",
       "        </tr>\n",
       "    </thead>\n",
       "    <tbody>\n",
       "        <tr>\n",
       "            <td>Asha  </td> <td>Milk Tea</td> <td>5.5      </td> <td>10%   </td>\n",
       "        </tr>\n",
       "        <tr>\n",
       "            <td>Asha  </td> <td>Milk Tea</td> <td>5.5      </td> <td>5%    </td>\n",
       "        </tr>\n",
       "        <tr>\n",
       "            <td>Strada</td> <td>Espresso</td> <td>1.75     </td> <td>25%   </td>\n",
       "        </tr>\n",
       "        <tr>\n",
       "            <td>Strada</td> <td>Latte   </td> <td>3.25     </td> <td>25%   </td>\n",
       "        </tr>\n",
       "    </tbody>\n",
       "</table>"
      ],
      "text/plain": [
       "Cafe   | Drink    | Price ($) | Coupon\n",
       "Asha   | Milk Tea | 5.5       | 10%\n",
       "Asha   | Milk Tea | 5.5       | 5%\n",
       "Strada | Espresso | 1.75      | 25%\n",
       "Strada | Latte    | 3.25      | 25%"
      ]
     },
     "execution_count": 14,
     "metadata": {},
     "output_type": "execute_result"
    }
   ],
   "source": [
    "drinks.join('Cafe',discounts)"
   ]
  },
  {
   "cell_type": "markdown",
   "id": "e85d107d",
   "metadata": {},
   "source": [
    "# Using Pivot Tables to Analyze Credit/Debit Card Statements"
   ]
  },
  {
   "cell_type": "markdown",
   "id": "c25a7ff2",
   "metadata": {},
   "source": [
    "Importing the csv file and storing it in the `spending` table"
   ]
  },
  {
   "cell_type": "code",
   "execution_count": 15,
   "id": "452329ef",
   "metadata": {},
   "outputs": [],
   "source": [
    "spending = Table.read_table('2022_CC_Transactions.csv')"
   ]
  },
  {
   "cell_type": "code",
   "execution_count": 51,
   "id": "5ded8664",
   "metadata": {
    "scrolled": true
   },
   "outputs": [
    {
     "data": {
      "text/html": [
       "<table border=\"1\" class=\"dataframe\">\n",
       "    <thead>\n",
       "        <tr>\n",
       "            <th>Transaction Date</th> <th>Posted Date</th> <th>Card No.</th> <th>Description</th> <th>Category</th> <th>Debit</th> <th>Credit</th> <th>Transaction</th>\n",
       "        </tr>\n",
       "    </thead>\n",
       "    <tbody>\n",
       "        <tr>\n",
       "            <td>2022-12-29      </td> <td>2022-12-30 </td> <td>7100    </td> <td>DOORDASH DASHPASS     </td> <td>Dining        </td> <td>9.99 </td> <td>nan   </td> <td>2022-12    </td>\n",
       "        </tr>\n",
       "        <tr>\n",
       "            <td>2022-12-27      </td> <td>2022-12-29 </td> <td>7100    </td> <td>HOMEROOM              </td> <td>Dining        </td> <td>54.86</td> <td>nan   </td> <td>2022-12    </td>\n",
       "        </tr>\n",
       "        <tr>\n",
       "            <td>2022-12-28      </td> <td>2022-12-29 </td> <td>7100    </td> <td>CHEVRON 0203186       </td> <td>Gas/Automotive</td> <td>40.49</td> <td>nan   </td> <td>2022-12    </td>\n",
       "        </tr>\n",
       "        <tr>\n",
       "            <td>2022-12-28      </td> <td>2022-12-29 </td> <td>7100    </td> <td>SUPER TACOS           </td> <td>Dining        </td> <td>35   </td> <td>nan   </td> <td>2022-12    </td>\n",
       "        </tr>\n",
       "        <tr>\n",
       "            <td>2022-12-27      </td> <td>2022-12-29 </td> <td>7100    </td> <td>STARBUCKS STORE 08676 </td> <td>Dining        </td> <td>4.25 </td> <td>nan   </td> <td>2022-12    </td>\n",
       "        </tr>\n",
       "        <tr>\n",
       "            <td>2022-12-27      </td> <td>2022-12-28 </td> <td>7100    </td> <td>OAKLAND PARK METER IPS</td> <td>Other Services</td> <td>2.25 </td> <td>nan   </td> <td>2022-12    </td>\n",
       "        </tr>\n",
       "        <tr>\n",
       "            <td>2022-12-28      </td> <td>2022-12-28 </td> <td>7100    </td> <td>APPLE.COM/BILL        </td> <td>Internet      </td> <td>0.99 </td> <td>nan   </td> <td>2022-12    </td>\n",
       "        </tr>\n",
       "        <tr>\n",
       "            <td>2022-12-28      </td> <td>2022-12-28 </td> <td>7100    </td> <td>APPLE.COM/BILL        </td> <td>Internet      </td> <td>14.99</td> <td>nan   </td> <td>2022-12    </td>\n",
       "        </tr>\n",
       "        <tr>\n",
       "            <td>2022-12-26      </td> <td>2022-12-27 </td> <td>7100    </td> <td>CHEVRON 0203186       </td> <td>Gas/Automotive</td> <td>13.68</td> <td>nan   </td> <td>2022-12    </td>\n",
       "        </tr>\n",
       "        <tr>\n",
       "            <td>2022-12-23      </td> <td>2022-12-24 </td> <td>7100    </td> <td>PARKWHIZ, INC.        </td> <td>Gas/Automotive</td> <td>13   </td> <td>nan   </td> <td>2022-12    </td>\n",
       "        </tr>\n",
       "    </tbody>\n",
       "</table>\n",
       "<p>... (1031 rows omitted)</p>"
      ],
      "text/plain": [
       "<IPython.core.display.HTML object>"
      ]
     },
     "metadata": {},
     "output_type": "display_data"
    }
   ],
   "source": [
    "#Take a look at all of your expenses\n",
    "spending.show(10)"
   ]
  },
  {
   "cell_type": "markdown",
   "id": "2053bd41",
   "metadata": {},
   "source": [
    "Now, let's reformat our transaction dates so that it only reports the month and year. We aim to examine how our spending habits change month-to-month. "
   ]
  },
  {
   "cell_type": "code",
   "execution_count": 24,
   "id": "9f223277",
   "metadata": {},
   "outputs": [
    {
     "data": {
      "text/plain": [
       "'2022-12-29'"
      ]
     },
     "execution_count": 24,
     "metadata": {},
     "output_type": "execute_result"
    }
   ],
   "source": [
    "spending.column('Transaction Date').item(0)"
   ]
  },
  {
   "cell_type": "code",
   "execution_count": 31,
   "id": "9688d8c0",
   "metadata": {},
   "outputs": [],
   "source": [
    "def extract_month_year(date):\n",
    "    ...\n",
    "    return date[:7]"
   ]
  },
  {
   "cell_type": "code",
   "execution_count": 32,
   "id": "daf73e56",
   "metadata": {},
   "outputs": [
    {
     "data": {
      "text/plain": [
       "'2022-12'"
      ]
     },
     "execution_count": 32,
     "metadata": {},
     "output_type": "execute_result"
    }
   ],
   "source": [
    "extract_month_year('2022-12-29')"
   ]
  },
  {
   "cell_type": "code",
   "execution_count": 40,
   "id": "1015080c",
   "metadata": {
    "scrolled": true
   },
   "outputs": [
    {
     "data": {
      "text/html": [
       "<table border=\"1\" class=\"dataframe\">\n",
       "    <thead>\n",
       "        <tr>\n",
       "            <th>Category</th> <th>2022-01</th> <th>2022-02</th> <th>2022-03</th> <th>2022-04</th> <th>2022-05</th> <th>2022-06</th> <th>2022-07</th> <th>2022-08</th> <th>2022-09</th> <th>2022-10</th> <th>2022-11</th> <th>2022-12</th>\n",
       "        </tr>\n",
       "    </thead>\n",
       "    <tbody>\n",
       "        <tr>\n",
       "            <td>Airfare       </td> <td>92.96  </td> <td>378.5  </td> <td>0      </td> <td>0      </td> <td>0      </td> <td>0      </td> <td>0      </td> <td>43.98  </td> <td>0      </td> <td>0      </td> <td>0      </td> <td>162.96 </td>\n",
       "        </tr>\n",
       "        <tr>\n",
       "            <td>Dining        </td> <td>879.63 </td> <td>1788.52</td> <td>3170.98</td> <td>1139.2 </td> <td>1333.11</td> <td>2573.59</td> <td>2386.9 </td> <td>1931.08</td> <td>1707.13</td> <td>2493.05</td> <td>3525.21</td> <td>3469.5 </td>\n",
       "        </tr>\n",
       "        <tr>\n",
       "            <td>Entertainment </td> <td>0      </td> <td>0      </td> <td>38.72  </td> <td>0      </td> <td>0      </td> <td>0      </td> <td>0      </td> <td>0      </td> <td>0      </td> <td>0      </td> <td>0      </td> <td>0      </td>\n",
       "        </tr>\n",
       "        <tr>\n",
       "            <td>Gas/Automotive</td> <td>173.94 </td> <td>167.62 </td> <td>169.62 </td> <td>298.2  </td> <td>263.09 </td> <td>457.99 </td> <td>345.75 </td> <td>302.39 </td> <td>397.87 </td> <td>235.35 </td> <td>219.92 </td> <td>409.75 </td>\n",
       "        </tr>\n",
       "        <tr>\n",
       "            <td>Health Care   </td> <td>0      </td> <td>0      </td> <td>0      </td> <td>0      </td> <td>0      </td> <td>0      </td> <td>0      </td> <td>0      </td> <td>106.01 </td> <td>0      </td> <td>0      </td> <td>200    </td>\n",
       "        </tr>\n",
       "        <tr>\n",
       "            <td>Insurance     </td> <td>251.51 </td> <td>273.41 </td> <td>249.75 </td> <td>249.75 </td> <td>249.75 </td> <td>249.75 </td> <td>249.75 </td> <td>249.75 </td> <td>249.75 </td> <td>289.41 </td> <td>289.42 </td> <td>289.42 </td>\n",
       "        </tr>\n",
       "        <tr>\n",
       "            <td>Internet      </td> <td>15.98  </td> <td>15.98  </td> <td>35.97  </td> <td>15.98  </td> <td>15.98  </td> <td>0.99   </td> <td>15.98  </td> <td>15.98  </td> <td>15.98  </td> <td>15.98  </td> <td>15.98  </td> <td>15.98  </td>\n",
       "        </tr>\n",
       "        <tr>\n",
       "            <td>Lodging       </td> <td>0      </td> <td>0      </td> <td>0      </td> <td>0      </td> <td>0      </td> <td>0      </td> <td>0      </td> <td>299.73 </td> <td>0      </td> <td>0      </td> <td>0      </td> <td>0      </td>\n",
       "        </tr>\n",
       "        <tr>\n",
       "            <td>Merchandise   </td> <td>473.87 </td> <td>436.03 </td> <td>770.08 </td> <td>283.09 </td> <td>329.14 </td> <td>348.02 </td> <td>5344.55</td> <td>503.8  </td> <td>444.47 </td> <td>960.31 </td> <td>662.56 </td> <td>398.07 </td>\n",
       "        </tr>\n",
       "        <tr>\n",
       "            <td>Other         </td> <td>365    </td> <td>0      </td> <td>0      </td> <td>0      </td> <td>0      </td> <td>0      </td> <td>0      </td> <td>0      </td> <td>0      </td> <td>162    </td> <td>0      </td> <td>0      </td>\n",
       "        </tr>\n",
       "    </tbody>\n",
       "</table>\n",
       "<p>... (5 rows omitted)</p>"
      ],
      "text/plain": [
       "Category       | 2022-01 | 2022-02 | 2022-03 | 2022-04 | 2022-05 | 2022-06 | 2022-07 | 2022-08 | 2022-09 | 2022-10 | 2022-11 | 2022-12\n",
       "Airfare        | 92.96   | 378.5   | 0       | 0       | 0       | 0       | 0       | 43.98   | 0       | 0       | 0       | 162.96\n",
       "Dining         | 879.63  | 1788.52 | 3170.98 | 1139.2  | 1333.11 | 2573.59 | 2386.9  | 1931.08 | 1707.13 | 2493.05 | 3525.21 | 3469.5\n",
       "Entertainment  | 0       | 0       | 38.72   | 0       | 0       | 0       | 0       | 0       | 0       | 0       | 0       | 0\n",
       "Gas/Automotive | 173.94  | 167.62  | 169.62  | 298.2   | 263.09  | 457.99  | 345.75  | 302.39  | 397.87  | 235.35  | 219.92  | 409.75\n",
       "Health Care    | 0       | 0       | 0       | 0       | 0       | 0       | 0       | 0       | 106.01  | 0       | 0       | 200\n",
       "Insurance      | 251.51  | 273.41  | 249.75  | 249.75  | 249.75  | 249.75  | 249.75  | 249.75  | 249.75  | 289.41  | 289.42  | 289.42\n",
       "Internet       | 15.98   | 15.98   | 35.97   | 15.98   | 15.98   | 0.99    | 15.98   | 15.98   | 15.98   | 15.98   | 15.98   | 15.98\n",
       "Lodging        | 0       | 0       | 0       | 0       | 0       | 0       | 0       | 299.73  | 0       | 0       | 0       | 0\n",
       "Merchandise    | 473.87  | 436.03  | 770.08  | 283.09  | 329.14  | 348.02  | 5344.55 | 503.8   | 444.47  | 960.31  | 662.56  | 398.07\n",
       "Other          | 365     | 0       | 0       | 0       | 0       | 0       | 0       | 0       | 0       | 162     | 0       | 0\n",
       "... (5 rows omitted)"
      ]
     },
     "execution_count": 40,
     "metadata": {},
     "output_type": "execute_result"
    }
   ],
   "source": [
    "transaction_array = spending.apply(extract_month_year,'Transaction Date')\n",
    "spending = spending.with_column('Transaction',transaction_array).where('Debit',are.above(0))\n",
    "spending.pivot('Transaction','Category','Debit',sum).drop('2021-12')"
   ]
  },
  {
   "cell_type": "code",
   "execution_count": 38,
   "id": "8afd4353",
   "metadata": {
    "scrolled": true
   },
   "outputs": [
    {
     "data": {
      "text/html": [
       "<table border=\"1\" class=\"dataframe\">\n",
       "    <thead>\n",
       "        <tr>\n",
       "            <th>Transaction Date</th> <th>Posted Date</th> <th>Card No.</th> <th>Description</th> <th>Category</th> <th>Debit</th> <th>Credit</th> <th>Transaction</th>\n",
       "        </tr>\n",
       "    </thead>\n",
       "    <tbody>\n",
       "        <tr>\n",
       "            <td>2022-01-31      </td> <td>2022-02-01 </td> <td>7100    </td> <td>HIMAWARI TEI          </td> <td>Dining  </td> <td>40   </td> <td>nan   </td> <td>2022-01    </td>\n",
       "        </tr>\n",
       "        <tr>\n",
       "            <td>2022-01-30      </td> <td>2022-01-31 </td> <td>7100    </td> <td>DD DOORDASH TACOBELL  </td> <td>Dining  </td> <td>21.92</td> <td>nan   </td> <td>2022-01    </td>\n",
       "        </tr>\n",
       "        <tr>\n",
       "            <td>2022-01-30      </td> <td>2022-01-31 </td> <td>7100    </td> <td>DD DOORDASH PHOLITTLE </td> <td>Dining  </td> <td>32.32</td> <td>nan   </td> <td>2022-01    </td>\n",
       "        </tr>\n",
       "        <tr>\n",
       "            <td>2022-01-29      </td> <td>2022-01-31 </td> <td>7100    </td> <td>DOORDASH DASHPASS     </td> <td>Dining  </td> <td>nan  </td> <td>9.99  </td> <td>2022-01    </td>\n",
       "        </tr>\n",
       "        <tr>\n",
       "            <td>2022-01-29      </td> <td>2022-01-31 </td> <td>7100    </td> <td>TST* NOODLEOSOPHY - SA</td> <td>Dining  </td> <td>28.65</td> <td>nan   </td> <td>2022-01    </td>\n",
       "        </tr>\n",
       "        <tr>\n",
       "            <td>2022-01-28      </td> <td>2022-01-29 </td> <td>7100    </td> <td>ICICLE CREAM ROLL     </td> <td>Dining  </td> <td>13.23</td> <td>nan   </td> <td>2022-01    </td>\n",
       "        </tr>\n",
       "        <tr>\n",
       "            <td>2022-01-28      </td> <td>2022-01-29 </td> <td>7100    </td> <td>REDWOOD SKYLINE       </td> <td>Dining  </td> <td>11.6 </td> <td>nan   </td> <td>2022-01    </td>\n",
       "        </tr>\n",
       "        <tr>\n",
       "            <td>2022-01-28      </td> <td>2022-01-29 </td> <td>7100    </td> <td>PEET'S #04502         </td> <td>Dining  </td> <td>4.25 </td> <td>nan   </td> <td>2022-01    </td>\n",
       "        </tr>\n",
       "        <tr>\n",
       "            <td>2022-01-26      </td> <td>2022-01-27 </td> <td>7100    </td> <td>MAJIKKU RAMEN         </td> <td>Dining  </td> <td>46   </td> <td>nan   </td> <td>2022-01    </td>\n",
       "        </tr>\n",
       "        <tr>\n",
       "            <td>2022-01-24      </td> <td>2022-01-25 </td> <td>7100    </td> <td>PEET'S #04502         </td> <td>Dining  </td> <td>3.25 </td> <td>nan   </td> <td>2022-01    </td>\n",
       "        </tr>\n",
       "    </tbody>\n",
       "</table>\n",
       "<p>... (28 rows omitted)</p>"
      ],
      "text/plain": [
       "Transaction Date | Posted Date | Card No. | Description            | Category | Debit | Credit | Transaction\n",
       "2022-01-31       | 2022-02-01  | 7100     | HIMAWARI TEI           | Dining   | 40    | nan    | 2022-01\n",
       "2022-01-30       | 2022-01-31  | 7100     | DD DOORDASH TACOBELL   | Dining   | 21.92 | nan    | 2022-01\n",
       "2022-01-30       | 2022-01-31  | 7100     | DD DOORDASH PHOLITTLE  | Dining   | 32.32 | nan    | 2022-01\n",
       "2022-01-29       | 2022-01-31  | 7100     | DOORDASH DASHPASS      | Dining   | nan   | 9.99   | 2022-01\n",
       "2022-01-29       | 2022-01-31  | 7100     | TST* NOODLEOSOPHY - SA | Dining   | 28.65 | nan    | 2022-01\n",
       "2022-01-28       | 2022-01-29  | 7100     | ICICLE CREAM ROLL      | Dining   | 13.23 | nan    | 2022-01\n",
       "2022-01-28       | 2022-01-29  | 7100     | REDWOOD SKYLINE        | Dining   | 11.6  | nan    | 2022-01\n",
       "2022-01-28       | 2022-01-29  | 7100     | PEET'S #04502          | Dining   | 4.25  | nan    | 2022-01\n",
       "2022-01-26       | 2022-01-27  | 7100     | MAJIKKU RAMEN          | Dining   | 46    | nan    | 2022-01\n",
       "2022-01-24       | 2022-01-25  | 7100     | PEET'S #04502          | Dining   | 3.25  | nan    | 2022-01\n",
       "... (28 rows omitted)"
      ]
     },
     "execution_count": 38,
     "metadata": {},
     "output_type": "execute_result"
    }
   ],
   "source": [
    "spending.where('Transaction','2022-01').where('Category','Dining')"
   ]
  },
  {
   "cell_type": "markdown",
   "id": "50acfa20",
   "metadata": {},
   "source": [
    "Let's use the function we just created to add a new column to our `spending` table. "
   ]
  },
  {
   "cell_type": "code",
   "execution_count": null,
   "id": "5c1323fc",
   "metadata": {},
   "outputs": [],
   "source": [
    "#creates the array of outputs from our transaction month/year function\n",
    "transaction_month = spending.apply(extract_month_year,'') \n",
    "\n",
    "#Now we add that array to the spending table\n",
    "spending = spending.with_column( '' , transaction_month)"
   ]
  },
  {
   "cell_type": "code",
   "execution_count": null,
   "id": "b2c7352f",
   "metadata": {},
   "outputs": [],
   "source": [
    "#Time to pivot!\n",
    "..."
   ]
  }
 ],
 "metadata": {
  "kernelspec": {
   "display_name": "Python 3 (ipykernel)",
   "language": "python",
   "name": "python3"
  },
  "language_info": {
   "codemirror_mode": {
    "name": "ipython",
    "version": 3
   },
   "file_extension": ".py",
   "mimetype": "text/x-python",
   "name": "python",
   "nbconvert_exporter": "python",
   "pygments_lexer": "ipython3",
   "version": "3.10.11"
  }
 },
 "nbformat": 4,
 "nbformat_minor": 5
}
