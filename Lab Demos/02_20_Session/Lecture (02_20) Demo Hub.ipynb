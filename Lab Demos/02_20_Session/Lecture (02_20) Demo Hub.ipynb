{
 "cells": [
  {
   "cell_type": "markdown",
   "id": "545da080",
   "metadata": {},
   "source": [
    "# [Python Reference Link](http://www.data8.org/sp20/python-reference.html)\n",
    "*Run the cell below so that we can set our modules up*"
   ]
  },
  {
   "cell_type": "code",
   "execution_count": 2,
   "id": "184ab73c",
   "metadata": {},
   "outputs": [],
   "source": [
    "import numpy as np\n",
    "from datascience import *"
   ]
  },
  {
   "cell_type": "code",
   "execution_count": null,
   "id": "d98eb4c8",
   "metadata": {},
   "outputs": [],
   "source": [
    "# These lines set up graphing capabilities.\n",
    "import matplotlib\n",
    "%matplotlib inline\n",
    "import matplotlib.pyplot as plt\n",
    "plt.style.use('fivethirtyeight')\n",
    "import warnings\n",
    "warnings.simplefilter('ignore', FutureWarning)\n",
    "\n",
    "from ipywidgets import interact, interactive, fixed, interact_manual\n",
    "import ipywidgets as widgets"
   ]
  },
  {
   "cell_type": "markdown",
   "id": "a618e27d",
   "metadata": {},
   "source": [
    "# Regarding the demo request"
   ]
  },
  {
   "cell_type": "markdown",
   "id": "40ac77e2",
   "metadata": {},
   "source": [
    "After writing this, you realize you also wanted to print out the 2nd and 3rd-highest years.  Instead of copying your code, you decide to put it in a function.  Since the rank varies, you make that an argument to your function.\n",
    "\n",
    "**Question 1.4.** Write a function called `print_kth_top_movie_year`.  It should take a single argument, the rank of the year (like 2, 3, or 5 in the above examples) and should use the table `movies_by_year`. It should print out a message like the one above.  \n",
    "\n",
    "*Note:* Your function shouldn't have a `return` statement.\n"
   ]
  },
  {
   "cell_type": "code",
   "execution_count": null,
   "id": "862b7fc4",
   "metadata": {},
   "outputs": [],
   "source": [
    "def print_kth_top_movie_year(k):\n",
    "    ...\n",
    "    print(...)\n",
    "  \n",
    "\n",
    "# Example calls to your function:\n",
    "print_kth_top_movie_year(2)\n",
    "print_kth_top_movie_year(3)"
   ]
  },
  {
   "cell_type": "code",
   "execution_count": null,
   "id": "158da4b3",
   "metadata": {},
   "outputs": [],
   "source": [
    "# interact also allows you to pass in an array for a function argument. It will\n",
    "# then present a dropdown menu of options.\n",
    "_ = interact(print_kth_top_movie_year, k=np.arange(1, 10))"
   ]
  },
  {
   "cell_type": "code",
   "execution_count": null,
   "id": "1b43fccd",
   "metadata": {},
   "outputs": [],
   "source": []
  },
  {
   "cell_type": "markdown",
   "id": "6f7d0cb4",
   "metadata": {},
   "source": [
    "# Demo for `tbl.join`\n",
    "<img src=\"table_join.png\" alt=\"drawing\" width=\"1200\"/>"
   ]
  },
  {
   "cell_type": "code",
   "execution_count": null,
   "id": "45c5fe9b",
   "metadata": {},
   "outputs": [],
   "source": [
    "drinks = Table.read_table('drinks.csv')\n",
    "discounts = Table.read_table('discounts.csv')\n",
    "\n",
    "drinks.show()\n",
    "discounts.show()"
   ]
  },
  {
   "cell_type": "code",
   "execution_count": null,
   "id": "475b658e",
   "metadata": {},
   "outputs": [],
   "source": []
  },
  {
   "cell_type": "code",
   "execution_count": null,
   "id": "53a8ce7f",
   "metadata": {},
   "outputs": [],
   "source": []
  },
  {
   "cell_type": "markdown",
   "id": "e85d107d",
   "metadata": {},
   "source": [
    "# Using Pivot Tables to Analyze Credit/Debit Card Statements"
   ]
  },
  {
   "cell_type": "markdown",
   "id": "c25a7ff2",
   "metadata": {},
   "source": [
    "Importing the csv file and storing it in the `spending` table"
   ]
  },
  {
   "cell_type": "code",
   "execution_count": null,
   "id": "452329ef",
   "metadata": {},
   "outputs": [],
   "source": [
    "spending = Table.read_table('...')"
   ]
  },
  {
   "cell_type": "code",
   "execution_count": null,
   "id": "5ded8664",
   "metadata": {},
   "outputs": [],
   "source": [
    "#Take a look at all of your expenses\n",
    "spending.show()"
   ]
  },
  {
   "cell_type": "markdown",
   "id": "2053bd41",
   "metadata": {},
   "source": [
    "Now, let's reformat our transaction dates so that it only reports the month and year. We aim to examine how our spending habits change month-to-month. "
   ]
  },
  {
   "cell_type": "code",
   "execution_count": null,
   "id": "9688d8c0",
   "metadata": {},
   "outputs": [],
   "source": [
    "def extract_month_year(date):\n",
    "    ...\n",
    "    return ..."
   ]
  },
  {
   "cell_type": "markdown",
   "id": "50acfa20",
   "metadata": {},
   "source": [
    "Let's use the function we just created to add a new column to our `spending` table. "
   ]
  },
  {
   "cell_type": "code",
   "execution_count": null,
   "id": "5c1323fc",
   "metadata": {},
   "outputs": [],
   "source": [
    "#creates the array of outputs from our transaction month/year function\n",
    "transaction_month = spending.apply(extract_month_year,'') \n",
    "\n",
    "#Now we add that array to the spending table\n",
    "spending = spending.with_column( '' , transaction_month)"
   ]
  },
  {
   "cell_type": "code",
   "execution_count": null,
   "id": "b2c7352f",
   "metadata": {},
   "outputs": [],
   "source": [
    "#Time to pivot!\n",
    "..."
   ]
  }
 ],
 "metadata": {
  "kernelspec": {
   "display_name": "Python 3 (ipykernel)",
   "language": "python",
   "name": "python3"
  },
  "language_info": {
   "codemirror_mode": {
    "name": "ipython",
    "version": 3
   },
   "file_extension": ".py",
   "mimetype": "text/x-python",
   "name": "python",
   "nbconvert_exporter": "python",
   "pygments_lexer": "ipython3",
   "version": "3.10.11"
  }
 },
 "nbformat": 4,
 "nbformat_minor": 5
}
