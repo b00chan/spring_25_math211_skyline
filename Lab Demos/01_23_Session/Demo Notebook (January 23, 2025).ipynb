{
 "cells": [
  {
   "cell_type": "markdown",
   "id": "7f85cd2c",
   "metadata": {},
   "source": [
    "# [Python Reference Link](http://www.data8.org/sp20/python-reference.html)\n",
    "*Run the cell below so that we can set our modules up*"
   ]
  },
  {
   "cell_type": "code",
   "execution_count": null,
   "id": "3b5e82ac",
   "metadata": {},
   "outputs": [],
   "source": [
    "import numpy as np\n",
    "from datascience import *\n",
    "import math"
   ]
  },
  {
   "cell_type": "markdown",
   "id": "c84e299c",
   "metadata": {},
   "source": [
    "# Numbers"
   ]
  },
  {
   "cell_type": "code",
   "execution_count": null,
   "id": "e3994415",
   "metadata": {},
   "outputs": [],
   "source": [
    "10/3"
   ]
  },
  {
   "cell_type": "code",
   "execution_count": null,
   "id": "d654e35c",
   "metadata": {},
   "outputs": [],
   "source": [
    "3"
   ]
  },
  {
   "cell_type": "code",
   "execution_count": null,
   "id": "f33d1e37",
   "metadata": {},
   "outputs": [],
   "source": [
    "3.0"
   ]
  },
  {
   "cell_type": "code",
   "execution_count": null,
   "id": "2977440d",
   "metadata": {},
   "outputs": [],
   "source": [
    "1.329487569238476592348765293456293478650234875029438"
   ]
  },
  {
   "cell_type": "code",
   "execution_count": null,
   "id": "71b03eed",
   "metadata": {},
   "outputs": [],
   "source": [
    "123.5**123"
   ]
  },
  {
   "cell_type": "markdown",
   "id": "0e47feaa",
   "metadata": {},
   "source": [
    "# Strings"
   ]
  },
  {
   "cell_type": "code",
   "execution_count": null,
   "id": "5d8b9506",
   "metadata": {},
   "outputs": [],
   "source": [
    "'Here is a string'"
   ]
  },
  {
   "cell_type": "code",
   "execution_count": null,
   "id": "f13b55d6",
   "metadata": {},
   "outputs": [],
   "source": [
    "\"Here is a string as well\""
   ]
  },
  {
   "cell_type": "code",
   "execution_count": null,
   "id": "0edcb73c",
   "metadata": {},
   "outputs": [],
   "source": [
    "greeting = 'hi, wassup'"
   ]
  },
  {
   "cell_type": "code",
   "execution_count": null,
   "id": "8d293c9b",
   "metadata": {},
   "outputs": [],
   "source": [
    "greeting"
   ]
  },
  {
   "cell_type": "code",
   "execution_count": null,
   "id": "2bd09fe4",
   "metadata": {},
   "outputs": [],
   "source": [
    "greeting +' class'"
   ]
  },
  {
   "cell_type": "code",
   "execution_count": null,
   "id": "27f0b155",
   "metadata": {},
   "outputs": [],
   "source": [
    "x = 'ha'\n",
    "'mua'+x*10"
   ]
  },
  {
   "cell_type": "markdown",
   "id": "4a9b11a0",
   "metadata": {},
   "source": [
    "# Types"
   ]
  },
  {
   "cell_type": "code",
   "execution_count": null,
   "id": "6343c3ee",
   "metadata": {},
   "outputs": [],
   "source": [
    "float(str(5678))"
   ]
  },
  {
   "cell_type": "code",
   "execution_count": null,
   "id": "bb82bd00",
   "metadata": {},
   "outputs": [],
   "source": [
    "type(greeting)"
   ]
  },
  {
   "cell_type": "code",
   "execution_count": null,
   "id": "6f2f8ee4",
   "metadata": {},
   "outputs": [],
   "source": [
    "abs?"
   ]
  },
  {
   "cell_type": "markdown",
   "id": "82507465",
   "metadata": {},
   "source": [
    "# Looking at the difference between Strings, Ints, and Floats"
   ]
  },
  {
   "cell_type": "code",
   "execution_count": null,
   "id": "21d07659",
   "metadata": {},
   "outputs": [],
   "source": [
    "print('4'+'4')\n",
    "print(4+4)"
   ]
  },
  {
   "cell_type": "code",
   "execution_count": null,
   "id": "502cc3f5",
   "metadata": {},
   "outputs": [],
   "source": []
  },
  {
   "cell_type": "markdown",
   "id": "48aa2e4c",
   "metadata": {},
   "source": [
    "# Arrays and the [NumPy Module](https://numpy.org/doc/stable/reference/index.html)"
   ]
  },
  {
   "cell_type": "code",
   "execution_count": null,
   "id": "acf32451",
   "metadata": {},
   "outputs": [],
   "source": [
    "first_four = make_array(1,2,3,4)"
   ]
  },
  {
   "cell_type": "code",
   "execution_count": null,
   "id": "82acad93",
   "metadata": {},
   "outputs": [],
   "source": [
    "first_four"
   ]
  },
  {
   "cell_type": "code",
   "execution_count": null,
   "id": "3937a8f4",
   "metadata": {},
   "outputs": [],
   "source": [
    "first_four * 4"
   ]
  },
  {
   "cell_type": "code",
   "execution_count": null,
   "id": "4e94bf1e",
   "metadata": {},
   "outputs": [],
   "source": [
    "random = make_array(1,4,\"this string\")"
   ]
  },
  {
   "cell_type": "code",
   "execution_count": null,
   "id": "dd0e71c0",
   "metadata": {},
   "outputs": [],
   "source": [
    "random*4"
   ]
  },
  {
   "cell_type": "markdown",
   "id": "7ed71787",
   "metadata": {},
   "source": [
    "# `np.arange` from the [NumPy](https://numpy.org/doc/stable/reference/generated/numpy.arange.html) module"
   ]
  },
  {
   "cell_type": "code",
   "execution_count": null,
   "id": "86711421",
   "metadata": {},
   "outputs": [],
   "source": [
    "#np.arange(stop)\n",
    "np.arange(6)"
   ]
  },
  {
   "cell_type": "code",
   "execution_count": null,
   "id": "9f968709",
   "metadata": {},
   "outputs": [],
   "source": [
    "#np.arange(start,stop)\n",
    "np.arange(6,10)"
   ]
  },
  {
   "cell_type": "code",
   "execution_count": null,
   "id": "2d8ba938",
   "metadata": {},
   "outputs": [],
   "source": [
    "#np.arange(start,stop,step)\n",
    "np.arange(2,8,3)"
   ]
  },
  {
   "cell_type": "markdown",
   "id": "56802e77",
   "metadata": {},
   "source": [
    "# Table Operations \n",
    "\n",
    "I strongly recommend adding the [Python Reference Page](https://www.data8.org/sp20/python-reference.html) to your bookmarks for reference! It is a sort of cheat sheet for the course! \n",
    "\n",
    "### Importing a Table\n",
    "First, we will start with looking at how to import our data into the notebook:\n",
    "<img src=\"Creating_Table.png\" alt=\"drawing\" width=\"1200\"/>\n",
    "*From the Python reference page"
   ]
  },
  {
   "cell_type": "code",
   "execution_count": null,
   "id": "c280553c",
   "metadata": {},
   "outputs": [],
   "source": [
    "spotify = Table().read_table('spotify_songs.csv')\n",
    "spotify"
   ]
  },
  {
   "cell_type": "code",
   "execution_count": null,
   "id": "4b67fa2a",
   "metadata": {},
   "outputs": [],
   "source": [
    "survey = Table().read_table('Math211_ClassSurvey_1_23_Export.csv')"
   ]
  },
  {
   "cell_type": "code",
   "execution_count": null,
   "id": "4d6da352",
   "metadata": {},
   "outputs": [],
   "source": [
    "survey"
   ]
  },
  {
   "cell_type": "code",
   "execution_count": null,
   "id": "36039c72",
   "metadata": {},
   "outputs": [],
   "source": [
    "spotify.show(3)"
   ]
  },
  {
   "cell_type": "code",
   "execution_count": null,
   "id": "6487c1e5",
   "metadata": {},
   "outputs": [],
   "source": []
  },
  {
   "cell_type": "markdown",
   "id": "10c673ce",
   "metadata": {},
   "source": [
    "### Taking a look at the Table\n",
    "\n",
    "Whenever we want to take a look at the table itself. \n",
    "<img src=\"Table_show.png\" alt=\"drawing\" width=\"1200\"/>"
   ]
  },
  {
   "cell_type": "code",
   "execution_count": null,
   "id": "773a6a80",
   "metadata": {
    "scrolled": true
   },
   "outputs": [],
   "source": [
    "survey.show(100)"
   ]
  },
  {
   "cell_type": "markdown",
   "id": "9e543e00",
   "metadata": {},
   "source": [
    "### Identifying the Dimensions of a Table\n",
    "\n",
    "In other words, the number of rows and columns in a given table.\n",
    "<img src=\"Table_dimensions.png\" alt=\"drawing\" width=\"1200\"/>\n"
   ]
  },
  {
   "cell_type": "code",
   "execution_count": null,
   "id": "1618c5cf",
   "metadata": {},
   "outputs": [],
   "source": [
    "spotify.num_rows"
   ]
  },
  {
   "cell_type": "code",
   "execution_count": null,
   "id": "d86036a4",
   "metadata": {},
   "outputs": [],
   "source": [
    "spotify.num_columns"
   ]
  },
  {
   "cell_type": "markdown",
   "id": "5837812e",
   "metadata": {},
   "source": [
    "### Narrowing down the number of columns from the original table \n",
    "\n",
    "This can be done by choosing which columns to **only include (i.e. 'select')** or which columns to **exclude (i.e. 'drop')** from the original table. \n",
    "\n",
    "<img src=\"Table_select_drop.png\" alt=\"drawing\" width=\"1200\"/>"
   ]
  },
  {
   "cell_type": "code",
   "execution_count": null,
   "id": "cdaff5d5",
   "metadata": {},
   "outputs": [],
   "source": [
    "survey.select(\"How many cars do you own?\",\"How many siblings do you have?\")"
   ]
  },
  {
   "cell_type": "code",
   "execution_count": null,
   "id": "a2a5e4a1",
   "metadata": {},
   "outputs": [],
   "source": [
    "spotify = spotify.drop(\"track_id\", \"track_album_id\",\"playlist_id\")\n",
    "spotify"
   ]
  },
  {
   "cell_type": "markdown",
   "id": "88a6843f",
   "metadata": {},
   "source": [
    "### Sorting columns of a table\n",
    "\n",
    "This is our first method (i.e. 'action') that contains an optional argument:\n",
    "<img src=\"Table_sort.png\" alt=\"drawing\" width=\"1200\"/>\n",
    "\n",
    "If you want to sort from small -> large, or A - Z, then we will sort in **ascending** order. <br>\n",
    "If you want to sort from large -> small, or Z - A, then we will sort in **descending** order."
   ]
  },
  {
   "cell_type": "code",
   "execution_count": null,
   "id": "95654db0",
   "metadata": {},
   "outputs": [],
   "source": [
    "spotify.sort(\"track_album_release_date\",descending = True)"
   ]
  },
  {
   "cell_type": "markdown",
   "id": "bd769951",
   "metadata": {},
   "source": [
    "### Filtering our table based upon a condition\n",
    "\n",
    "Sometimes we want to narrow down our list of individuals based upon a status or condition and look at them in their own table. We can do so using the following method: \n",
    "<img src=\"Table_where.png\" alt=\"drawing\" width=\"1200\"/>\n",
    "\n",
    "Note that our condition is defined as a predicate. The table of predicates below: \n",
    "<img src=\"Table_where_predicates.png\" alt=\"drawing\" width=\"1200\"/>"
   ]
  },
  {
   "cell_type": "code",
   "execution_count": null,
   "id": "bc53047a",
   "metadata": {},
   "outputs": [],
   "source": [
    "survey.where(\"What is your starter Pokemon?\",are.equal_to(\"Charmander\"))"
   ]
  },
  {
   "cell_type": "markdown",
   "id": "d152edf2",
   "metadata": {},
   "source": [
    "# Building Tables with `tbl.with_column`\n",
    "\n",
    "We can append columns to a table using the following method. \n",
    "<img src=\"tbl.with_column.png\" alt=\"drawing\" width=\"1200\"/>"
   ]
  },
  {
   "cell_type": "code",
   "execution_count": null,
   "id": "69e35d53",
   "metadata": {},
   "outputs": [],
   "source": [
    "subscription = make_array('Netflix','HBO Max','Hulu','Crunchyroll','Spotify','DoorDash','AmazonPrime','Discord Nitro')\n",
    "subscription"
   ]
  },
  {
   "cell_type": "code",
   "execution_count": null,
   "id": "3df74ba8",
   "metadata": {},
   "outputs": [],
   "source": [
    "#Amazon and Discord are annual fees\n",
    "month_fee_cost = make_array(19.99,14.99,9.99,9.99,9.99,9.99,(130/12),(169.97/12))\n",
    "month_fee_cost"
   ]
  },
  {
   "cell_type": "code",
   "execution_count": null,
   "id": "d69ad731",
   "metadata": {},
   "outputs": [],
   "source": [
    "bryans_monthly_subscriptions = Table().with_columns('Subscription',subscription,'$$ per month',month_fee_cost)\n",
    "bryans_monthly_subscriptions"
   ]
  },
  {
   "cell_type": "code",
   "execution_count": null,
   "id": "b26f0220",
   "metadata": {},
   "outputs": [],
   "source": [
    "#annual_cost = bryans_monthly_subscriptions.column('$$ per month') * 12\n",
    "#OR, below\n",
    "annual_cost = month_fee_cost *12 \n",
    "annual_cost"
   ]
  },
  {
   "cell_type": "code",
   "execution_count": null,
   "id": "2708cd00",
   "metadata": {},
   "outputs": [],
   "source": [
    "new_table = bryans_monthly_subscriptions.with_column('$$ each year',annual_cost)#.drop('$$ per month')\n",
    "new_table"
   ]
  },
  {
   "cell_type": "code",
   "execution_count": null,
   "id": "438ac987",
   "metadata": {},
   "outputs": [],
   "source": [
    "sum(annual_cost)"
   ]
  }
 ],
 "metadata": {
  "kernelspec": {
   "display_name": "Python 3 (ipykernel)",
   "language": "python",
   "name": "python3"
  },
  "language_info": {
   "codemirror_mode": {
    "name": "ipython",
    "version": 3
   },
   "file_extension": ".py",
   "mimetype": "text/x-python",
   "name": "python",
   "nbconvert_exporter": "python",
   "pygments_lexer": "ipython3",
   "version": "3.10.11"
  }
 },
 "nbformat": 4,
 "nbformat_minor": 5
}
