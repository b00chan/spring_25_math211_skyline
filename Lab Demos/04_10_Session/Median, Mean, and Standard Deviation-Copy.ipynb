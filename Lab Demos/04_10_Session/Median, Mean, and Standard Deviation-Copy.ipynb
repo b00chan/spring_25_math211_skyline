{
 "cells": [
  {
   "cell_type": "markdown",
   "id": "bdfa628c",
   "metadata": {},
   "source": [
    "# [Python Reference Link](http://www.data8.org/sp20/python-reference.html)\n",
    "*Run the cell below so that we can set our modules up*# Importing our modules"
   ]
  },
  {
   "cell_type": "code",
   "execution_count": null,
   "id": "b3dc7a25",
   "metadata": {},
   "outputs": [],
   "source": [
    "import numpy as np\n",
    "from datascience import *\n",
    "import math as m\n",
    "\n",
    "# These lines do some fancy plotting magic.\n",
    "import matplotlib\n",
    "%matplotlib inline\n",
    "import matplotlib.pyplot as plt\n",
    "plt.style.use('fivethirtyeight')\n",
    "import warnings\n",
    "warnings.simplefilter('ignore', FutureWarning)"
   ]
  },
  {
   "cell_type": "code",
   "execution_count": null,
   "id": "7889dcb2",
   "metadata": {
    "scrolled": false
   },
   "outputs": [],
   "source": [
    "births = Table.read_table('baby.csv').drop(5)\n",
    "births"
   ]
  },
  {
   "cell_type": "markdown",
   "id": "0172fe0a",
   "metadata": {},
   "source": [
    "# Mean vs. Median"
   ]
  },
  {
   "cell_type": "markdown",
   "id": "862f2cad",
   "metadata": {},
   "source": [
    "#### Calculating the mean and the median"
   ]
  },
  {
   "cell_type": "code",
   "execution_count": null,
   "id": "34059621",
   "metadata": {},
   "outputs": [],
   "source": [
    "sample_data = make_array(2,3,3,9)\n",
    "print('sample data:',sample_data)\n",
    "print('mean/average:',np.mean(sample_data))\n",
    "print('median:',np.median(sample_data))"
   ]
  },
  {
   "cell_type": "markdown",
   "id": "efce0fbc",
   "metadata": {},
   "source": [
    "#### Visualizing the concept of the mean acting as the 'Center of Gravity"
   ]
  },
  {
   "cell_type": "code",
   "execution_count": null,
   "id": "a892550f",
   "metadata": {},
   "outputs": [],
   "source": [
    "Table().with_column('Sample Data', sample_data).hist(bins=np.arange(0,10,1))\n",
    "plt.ylim(-0.04,0.5)\n",
    "plt.plot([0,10],[0,0],color='grey',lw=2)\n",
    "plt.scatter(np.mean(sample_data),-0.015,marker='^',color='red',s=100)\n",
    "plt.title('Average as a \"Center of Gravity\"')"
   ]
  },
  {
   "cell_type": "markdown",
   "id": "e93907b4",
   "metadata": {},
   "source": [
    "#### A histogram of a Symmetric Distribution (more specifically, a Normal Distribution; Bell-Shaped Curve)"
   ]
  },
  {
   "cell_type": "code",
   "execution_count": null,
   "id": "81bcfc4d",
   "metadata": {},
   "outputs": [],
   "source": [
    "weight_bins = np.arange(50,180,10)\n",
    "births.hist(\"Birth Weight\",bins=weight_bins)"
   ]
  },
  {
   "cell_type": "markdown",
   "id": "5d012e72",
   "metadata": {},
   "source": [
    "#### A Histogram of a Right-Skewed Distribution"
   ]
  },
  {
   "cell_type": "code",
   "execution_count": null,
   "id": "894b6b72",
   "metadata": {},
   "outputs": [],
   "source": [
    "input_values = np.arange(0,15,0.1)\n",
    "exponential_curve = 0.25*m.e**(0.25*input_values)\n",
    "\n",
    "r_skew_bins = np.arange(0,12,1)\n",
    "Table().with_columns('values',exponential_curve).hist(bins=r_skew_bins)"
   ]
  },
  {
   "cell_type": "markdown",
   "id": "244a18eb",
   "metadata": {},
   "source": [
    "#### A Histogram of a Left-Skewed Distribution"
   ]
  },
  {
   "cell_type": "code",
   "execution_count": null,
   "id": "599fc0f5",
   "metadata": {},
   "outputs": [],
   "source": [
    "reverse_exponential = 130 - exponential_curve\n",
    "\n",
    "l_skew_bins = np.arange(118,130,1)\n",
    "Table().with_columns('others',reverse_exponential).hist(bins = l_skew_bins)"
   ]
  },
  {
   "cell_type": "markdown",
   "id": "5bb08f77",
   "metadata": {},
   "source": [
    "## Let's look at the relationship between the Mean and the Median between these different distribution types"
   ]
  },
  {
   "cell_type": "code",
   "execution_count": null,
   "id": "92ffb4af",
   "metadata": {},
   "outputs": [],
   "source": [
    "births.hist(\"Birth Weight\",bins=weight_bins)\n",
    "plt.scatter(np.mean(births.column('Birth Weight')), 0, color='red', zorder=2, s=50, label=\"Mean\")\n",
    "plt.scatter(np.median(births.column('Birth Weight')), 0, color='blue', zorder=2, s=50, label=\"Median\")\n",
    "plt.legend()\n",
    "plt.ylim(-0.001, 0.03); "
   ]
  },
  {
   "cell_type": "code",
   "execution_count": null,
   "id": "b68a330f",
   "metadata": {},
   "outputs": [],
   "source": [
    "Table().with_columns('values',exponential_curve).hist(bins=r_skew_bins)\n",
    "plt.scatter(np.mean(exponential_curve), 0, color='red', zorder=2, s=50, label=\"Mean\")\n",
    "plt.scatter(np.median(exponential_curve), 0, color='blue', zorder=2, s=50, label=\"Median\")\n",
    "plt.legend()\n",
    "plt.ylim(-0.005, 0.37);"
   ]
  },
  {
   "cell_type": "code",
   "execution_count": null,
   "id": "d094b687",
   "metadata": {},
   "outputs": [],
   "source": [
    "Table().with_columns('others',reverse_exponential).hist(bins = l_skew_bins)\n",
    "plt.scatter(np.mean(reverse_exponential), 0, color='red', zorder=2, s=50, label=\"Mean\")\n",
    "plt.scatter(np.median(reverse_exponential), 0, color='blue', zorder=2, s=50, label=\"Median\")\n",
    "plt.legend()\n",
    "plt.ylim(-0.005, 0.37);"
   ]
  },
  {
   "cell_type": "markdown",
   "id": "df22a026",
   "metadata": {},
   "source": [
    "# Quantifying Variability i.e. Standard Deviation"
   ]
  },
  {
   "cell_type": "code",
   "execution_count": null,
   "id": "ba35b6ed",
   "metadata": {},
   "outputs": [],
   "source": [
    "#since we are computing a formula, we will use some methods from the math module\n",
    "import math"
   ]
  },
  {
   "cell_type": "code",
   "execution_count": null,
   "id": "4a262621",
   "metadata": {},
   "outputs": [],
   "source": [
    "birth_weights = births.column('Birth Weight')\n",
    "print('mean:',np.mean(birth_weights))\n",
    "print('birth weights:',birth_weights)"
   ]
  },
  {
   "cell_type": "markdown",
   "id": "9081a994",
   "metadata": {},
   "source": [
    "### Root Mean Square of \"***Deviations from Average***\"\n",
    "We first want to measure the deviations from average (i.e. look at how far away each data point is from the mean/average)"
   ]
  },
  {
   "cell_type": "code",
   "execution_count": null,
   "id": "ffdc5327",
   "metadata": {},
   "outputs": [],
   "source": [
    "deviations = ...\n",
    "deviations_table = Table().with_columns('Birth Weights',birth_weights,\n",
    "                                       'Average',np.ones(len(birth_weights))*np.mean(birth_weights),\n",
    "                                       'Deviations', deviations)\n",
    "deviations_table.show()\n",
    "print('Here is the array of deviations:')\n",
    "deviations"
   ]
  },
  {
   "cell_type": "markdown",
   "id": "f639b0f2",
   "metadata": {},
   "source": [
    "### Root Mean \"***Square***\" of Deviations from Average\n",
    "An effort to turn all the values positive by squaring each deviation from average"
   ]
  },
  {
   "cell_type": "code",
   "execution_count": null,
   "id": "91568fc1",
   "metadata": {},
   "outputs": [],
   "source": [
    "square_deviations = ...\n",
    "square_deviations"
   ]
  },
  {
   "cell_type": "markdown",
   "id": "4e964fc2",
   "metadata": {},
   "source": [
    "### Root \"***Mean***\" Square of Deviations from Average\n",
    "Now we compute the mean/average of the square deviations from above"
   ]
  },
  {
   "cell_type": "code",
   "execution_count": null,
   "id": "4d610e81",
   "metadata": {},
   "outputs": [],
   "source": [
    "mean_square_deviations = ...\n",
    "mean_square_deviations"
   ]
  },
  {
   "cell_type": "markdown",
   "id": "1514e2cd",
   "metadata": {},
   "source": [
    "### \"***Root***\" Mean Square of Deviations from Average\n",
    "Since we squared the deviations above, we are going to undo that by taking the square root. "
   ]
  },
  {
   "cell_type": "code",
   "execution_count": null,
   "id": "a20b8361",
   "metadata": {},
   "outputs": [],
   "source": [
    "root_mean_square_deviations = ...\n",
    "root_mean_square_deviations"
   ]
  },
  {
   "cell_type": "code",
   "execution_count": null,
   "id": "2ba97b46",
   "metadata": {},
   "outputs": [],
   "source": [
    "np.std(birth_weights)"
   ]
  },
  {
   "cell_type": "markdown",
   "id": "8e0bfb7f",
   "metadata": {},
   "source": [
    "# Looking at the relationship between Standard Deviation and Histograms"
   ]
  },
  {
   "cell_type": "code",
   "execution_count": null,
   "id": "92711fc7",
   "metadata": {
    "scrolled": false
   },
   "outputs": [],
   "source": [
    "for each_label in births.labels:\n",
    "    \n",
    "    the_mean = np.mean(births.column(each_label))\n",
    "    the_standard_deviation = np.std(births.column(each_label))\n",
    "    title_string = ('Mean: ({mean}) & Standard Deviation: ({std})'\n",
    "                    .format(mean = the_mean, std = the_standard_deviation))\n",
    "    \n",
    "    births.hist(each_label)\n",
    "    \n",
    "    \n",
    "    plt.scatter(the_mean,-0.00015,color='blue',s=100)\n",
    "    plt.scatter(the_mean - the_standard_deviation\n",
    "                ,-0.00015,marker = '^',color='red',s=100)\n",
    "    plt.scatter(the_mean + the_standard_deviation\n",
    "                ,-0.00015,marker = '^',color='red',s=100)\n",
    "    plt.title(title_string)"
   ]
  },
  {
   "cell_type": "code",
   "execution_count": null,
   "id": "53b0ad83",
   "metadata": {},
   "outputs": [],
   "source": []
  }
 ],
 "metadata": {
  "kernelspec": {
   "display_name": "Python 3 (ipykernel)",
   "language": "python",
   "name": "python3"
  },
  "language_info": {
   "codemirror_mode": {
    "name": "ipython",
    "version": 3
   },
   "file_extension": ".py",
   "mimetype": "text/x-python",
   "name": "python",
   "nbconvert_exporter": "python",
   "pygments_lexer": "ipython3",
   "version": "3.10.11"
  }
 },
 "nbformat": 4,
 "nbformat_minor": 5
}
