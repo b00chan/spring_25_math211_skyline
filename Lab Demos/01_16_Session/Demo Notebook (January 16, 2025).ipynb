{
 "cells": [
  {
   "cell_type": "markdown",
   "id": "07e5c021",
   "metadata": {},
   "source": [
    "# Welcome to JupyterHub Notebooks!\n",
    "Click the following Hyperlink for the: [Python Reference Page](https://www.data8.org/sp20/python-reference.html)"
   ]
  },
  {
   "cell_type": "markdown",
   "id": "e3614a09",
   "metadata": {},
   "source": [
    "### Checklist for each time you open a notebook file:\n",
    "1. Toggle Line Numbers 'On'\n",
    "2. 'Save and Checkpoint'\n",
    "3. Run all previous cells (if you are continuing your work from before)"
   ]
  },
  {
   "cell_type": "markdown",
   "id": "09831e11",
   "metadata": {},
   "source": [
    "#### Here is a text cell\n",
    "\n",
    "Text cells (like this one) can be edited by double-clicking on them. They're written in a simple format called [Markdown](http://daringfireball.net/projects/markdown/syntax) to add formatting and section headings.  You don't need to learn Markdown, but you might want to."
   ]
  },
  {
   "cell_type": "code",
   "execution_count": null,
   "id": "6a750cdc",
   "metadata": {},
   "outputs": [],
   "source": [
    "# Here is a code cell, \n",
    "print('Hello World')"
   ]
  },
  {
   "cell_type": "markdown",
   "id": "194d7751",
   "metadata": {},
   "source": [
    "### The Kernel"
   ]
  },
  {
   "cell_type": "code",
   "execution_count": null,
   "id": "0139e459",
   "metadata": {},
   "outputs": [],
   "source": [
    "while True:\n",
    "    pass"
   ]
  },
  {
   "cell_type": "markdown",
   "id": "5794648a",
   "metadata": {},
   "source": [
    "### Adding and Deleting Cells"
   ]
  },
  {
   "cell_type": "code",
   "execution_count": null,
   "id": "985c87a3",
   "metadata": {},
   "outputs": [],
   "source": []
  },
  {
   "cell_type": "code",
   "execution_count": null,
   "id": "ec582b00",
   "metadata": {},
   "outputs": [],
   "source": []
  },
  {
   "cell_type": "markdown",
   "id": "e95d1437",
   "metadata": {},
   "source": [
    "# Submitting Notebooks"
   ]
  },
  {
   "cell_type": "code",
   "execution_count": null,
   "id": "1d992058",
   "metadata": {},
   "outputs": [],
   "source": []
  }
 ],
 "metadata": {
  "kernelspec": {
   "display_name": "Python 3 (ipykernel)",
   "language": "python",
   "name": "python3"
  },
  "language_info": {
   "codemirror_mode": {
    "name": "ipython",
    "version": 3
   },
   "file_extension": ".py",
   "mimetype": "text/x-python",
   "name": "python",
   "nbconvert_exporter": "python",
   "pygments_lexer": "ipython3",
   "version": "3.10.11"
  }
 },
 "nbformat": 4,
 "nbformat_minor": 5
}
