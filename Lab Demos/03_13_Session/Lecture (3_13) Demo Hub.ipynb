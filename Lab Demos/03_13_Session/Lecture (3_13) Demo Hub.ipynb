{
 "cells": [
  {
   "cell_type": "markdown",
   "id": "ad2e12c1",
   "metadata": {},
   "source": [
    "# [Python Reference Link](http://www.data8.org/sp20/python-reference.html)\n",
    "*Run the cell below so that we can set our modules up*"
   ]
  },
  {
   "cell_type": "code",
   "execution_count": null,
   "id": "ed49d269",
   "metadata": {},
   "outputs": [],
   "source": [
    "import numpy as np\n",
    "from datascience import *\n",
    "\n",
    "# These lines set up graphing capabilities.\n",
    "import matplotlib\n",
    "%matplotlib inline\n",
    "import matplotlib.pyplot as plt\n",
    "plt.style.use('fivethirtyeight')\n",
    "import warnings\n",
    "warnings.simplefilter('ignore', FutureWarning)\n",
    "\n",
    "from ipywidgets import interact, interactive, fixed, interact_manual\n",
    "import ipywidgets as widgets"
   ]
  },
  {
   "cell_type": "markdown",
   "id": "a516e52d",
   "metadata": {},
   "source": [
    "# From the probability demo"
   ]
  },
  {
   "cell_type": "markdown",
   "id": "a4c7eb2d",
   "metadata": {},
   "source": [
    "The cell below is a function that I have defined to analyze an input list/array and prints out a statement that reports the element that repeats the most consecutively, and the length of that streak "
   ]
  },
  {
   "cell_type": "code",
   "execution_count": null,
   "id": "6ba3e859",
   "metadata": {},
   "outputs": [],
   "source": [
    "def longest_consecutive(input_list):\n",
    "    \n",
    "    longest_repeat = None         #the element in the list that repeats the most, so far\n",
    "    \n",
    "    current_number = None          #the element that the program is 'currently checking,' always testing\n",
    "                                   # to see if it exceeds the max\n",
    "    \n",
    "    repeated_times = 0             #the number of times the longest_repeat appears consecutively\n",
    "    \n",
    "    current_number_repeat = 0      #the number of times the current_number appears consecutively\n",
    "    \n",
    "    #this for-loop checks the elements in the list, in order, item by item.\n",
    "    for i in input_list:\n",
    "        \n",
    "        if current_number != i:   #if item 'i' in the input_list is different than the current_number we are tracking\n",
    "            current_number = i    # we are tracking a new element, therefore re-assign 'i' to 'current_number'\n",
    "            current_number_repeat = 1  #we are re-starting the count so it starts off as 1.\n",
    "        else:\n",
    "            current_number_repeat += 1   #if item 'i' is the same as the current-number, then it is a succeeding term\n",
    "                                         #in a consecutive sequence, therefore increase the count by one. \n",
    "        \n",
    "        \n",
    "        #if at any point the current_number reaches a higher number of consecutive terms, we have a new leader in \n",
    "        #consecutive terms in the list. Thus, we re-assign our 'current' variables to the variables that hold info\n",
    "        #on the greatest value.\n",
    "        \n",
    "        if current_number_repeat > repeated_times:  \n",
    "            longest_repeat = current_number\n",
    "            repeated_times = current_number_repeat\n",
    "            \n",
    "    print('The longest streak was',longest_repeat,'which showed up',repeated_times,'times')\n",
    "    #return longest_repeat , repeated_times"
   ]
  },
  {
   "cell_type": "markdown",
   "id": "4993159f",
   "metadata": {},
   "source": [
    "The cell below uses the `np.random.choice` method to randomly samples from the array containing the results of a coin flip, to simulate 100 coin flips (originally, however, feel free to tweak this value). We finally use the defined function above (i.e.`longest_consecutive`) to print out the result that resulted the most consecutive times."
   ]
  },
  {
   "cell_type": "code",
   "execution_count": null,
   "id": "92467836",
   "metadata": {},
   "outputs": [],
   "source": [
    "#feel free to run this cell as many times as you would like. Take note on how large the streaks get based upon the \n",
    "#number of coin flips you are simulating. \n",
    "\n",
    "number_of_flips = 100\n",
    "#originally 100\n",
    "\n",
    "coin_flip_results = make_array('T','H')\n",
    "\n",
    "hella_coin_flips = np.random.choice( coin_flip_results , number_of_flips )\n",
    "\n",
    "\n",
    "print(hella_coin_flips)\n",
    "longest_consecutive(hella_coin_flips)"
   ]
  },
  {
   "cell_type": "code",
   "execution_count": null,
   "id": "59b4f2c5",
   "metadata": {},
   "outputs": [],
   "source": [
    "sum(hella_coin_flips == 'H')"
   ]
  }
 ],
 "metadata": {
  "kernelspec": {
   "display_name": "Python 3 (ipykernel)",
   "language": "python",
   "name": "python3"
  },
  "language_info": {
   "codemirror_mode": {
    "name": "ipython",
    "version": 3
   },
   "file_extension": ".py",
   "mimetype": "text/x-python",
   "name": "python",
   "nbconvert_exporter": "python",
   "pygments_lexer": "ipython3",
   "version": "3.10.11"
  }
 },
 "nbformat": 4,
 "nbformat_minor": 5
}
