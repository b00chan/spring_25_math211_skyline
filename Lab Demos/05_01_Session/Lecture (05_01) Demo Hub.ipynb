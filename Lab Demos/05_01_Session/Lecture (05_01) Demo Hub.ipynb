{
 "cells": [
  {
   "cell_type": "markdown",
   "id": "b8ea87f8",
   "metadata": {},
   "source": [
    "# [Python Reference Link](http://www.data8.org/sp20/python-reference.html)\n",
    "*Run the cell below so that we can set our modules up*# Importing our modules"
   ]
  },
  {
   "cell_type": "code",
   "execution_count": null,
   "id": "5088eff9",
   "metadata": {},
   "outputs": [],
   "source": [
    "import numpy as np\n",
    "from datascience import *\n",
    "import math as m\n",
    "\n",
    "# These lines do some fancy plotting magic.\n",
    "import matplotlib\n",
    "%matplotlib inline\n",
    "import matplotlib.pyplot as plt\n",
    "plt.style.use('fivethirtyeight')\n",
    "import warnings\n",
    "warnings.simplefilter('ignore', FutureWarning)"
   ]
  },
  {
   "cell_type": "code",
   "execution_count": null,
   "id": "1de04bf4",
   "metadata": {},
   "outputs": [],
   "source": [
    "birds = Table.read_table('snowy_plover.csv')\n",
    "birds"
   ]
  },
  {
   "cell_type": "markdown",
   "id": "6713290c",
   "metadata": {},
   "source": [
    "# The Residual & The Root Mean Square Error"
   ]
  },
  {
   "cell_type": "code",
   "execution_count": null,
   "id": "bfa6ccd6",
   "metadata": {},
   "outputs": [],
   "source": [
    "# Let's run this cell \n",
    "\n",
    "def x_y_estimate_residual(table, x_col, y_col):\n",
    "    x_array = table.column(x_col)\n",
    "    y_array = table.column(y_col)\n",
    "\n",
    "    x_mean = np.mean(x_array)\n",
    "    x_std = np.std(x_array)\n",
    "\n",
    "    y_mean = np.mean(y_array)\n",
    "    y_std = np.std(y_array)\n",
    "\n",
    "    x_su = (x_array - x_mean)/x_std\n",
    "    y_su = (y_array - y_mean)/y_std\n",
    "\n",
    "    r_value = np.mean(x_su*y_su)\n",
    "    slope = r_value*(y_std/x_std)\n",
    "    intercept = y_mean - slope * x_mean\n",
    "    \n",
    "    estimate = slope*x_array + intercept\n",
    "    \n",
    "    output_table = table.select(x_col,y_col).with_columns('Estimate',estimate,\n",
    "                                                          'Residual',y_array - estimate)\n",
    "    print(slope,intercept)\n",
    "    \n",
    "    return output_table\n",
    "\n",
    "def lin_reg_slope_intercept(table,x_col,y_col):\n",
    "    x_array = birds.column(x_col)\n",
    "    y_array = birds.column(y_col)\n",
    "\n",
    "    x_mean = np.mean(x_array)\n",
    "    x_std = np.std(x_array)\n",
    "\n",
    "    y_mean = np.mean(y_array)\n",
    "    y_std = np.std(y_array)\n",
    "\n",
    "    x_su = (x_array - x_mean)/x_std\n",
    "    y_su = (y_array - y_mean)/y_std\n",
    "\n",
    "    r_value = np.mean(x_su*y_su)\n",
    "    slope = r_value*(y_std/x_std)\n",
    "    intercept = y_mean - slope * x_mean\n",
    "    \n",
    "    return make_array(slope,intercept)\n",
    "\n",
    "x_y_estimate_residual(birds,'Egg Weight','Bird Weight')"
   ]
  },
  {
   "cell_type": "code",
   "execution_count": null,
   "id": "04d8b05b",
   "metadata": {},
   "outputs": [],
   "source": [
    "residual = x_y_estimate_residual(birds,'Egg Weight','Bird Weight').column('Residual')\n",
    "residual"
   ]
  },
  {
   "cell_type": "code",
   "execution_count": null,
   "id": "ace31191",
   "metadata": {},
   "outputs": [],
   "source": [
    "birds_with_residual = birds.with_columns('Residual',residual)\n",
    "birds_with_residual"
   ]
  },
  {
   "cell_type": "markdown",
   "id": "441b4d86",
   "metadata": {},
   "source": [
    "## The Root Mean Square Error Formula\n",
    "<img src=\"root_mean_square_error.png\" alt=\"drawing\" width=\"1200\"/>"
   ]
  },
  {
   "cell_type": "code",
   "execution_count": null,
   "id": "21cdab76",
   "metadata": {},
   "outputs": [],
   "source": [
    "error = residual"
   ]
  },
  {
   "cell_type": "markdown",
   "id": "0595197b",
   "metadata": {},
   "source": [
    "#### Square the Error"
   ]
  },
  {
   "cell_type": "code",
   "execution_count": null,
   "id": "1882c4bd",
   "metadata": {},
   "outputs": [],
   "source": [
    "squared_error = error..."
   ]
  },
  {
   "cell_type": "markdown",
   "id": "e0d99ef4",
   "metadata": {},
   "source": [
    "#### Take the **mean** of the squared errors"
   ]
  },
  {
   "cell_type": "code",
   "execution_count": null,
   "id": "1f3a3c74",
   "metadata": {},
   "outputs": [],
   "source": [
    "mean_squared_error = squared_error..."
   ]
  },
  {
   "cell_type": "markdown",
   "id": "30160423",
   "metadata": {},
   "source": [
    "#### Take the square root "
   ]
  },
  {
   "cell_type": "code",
   "execution_count": null,
   "id": "4d910246",
   "metadata": {},
   "outputs": [],
   "source": [
    "root_mean_squared_error = mean_squared_error..."
   ]
  },
  {
   "cell_type": "markdown",
   "id": "013ab10b",
   "metadata": {},
   "source": [
    "#### Let's put it all together in a one-line calculation"
   ]
  },
  {
   "cell_type": "code",
   "execution_count": null,
   "id": "6bbad45e",
   "metadata": {},
   "outputs": [],
   "source": [
    "#let's put it all together in a one-line calculation\n",
    "root_mean_square_error = ...\n",
    "root_mean_square_error"
   ]
  },
  {
   "cell_type": "markdown",
   "id": "27099ddd",
   "metadata": {},
   "source": [
    "### Let's define the function `rmse` to calculate the root mean square error\n",
    "\n",
    "Given any proposed slope & intercept, it will calculate the root mean square error of the estimated column of 'Bird Weights' corresponding to the column of 'Egg Weights'"
   ]
  },
  {
   "cell_type": "code",
   "execution_count": null,
   "id": "ea34a3ab",
   "metadata": {},
   "outputs": [],
   "source": [
    "def rmse(slope,intercept):\n",
    "    x_array = birds.column('Egg Weight')\n",
    "    y_array = birds.column('Bird Weight')\n",
    "    \n",
    "    prediction = slope*x_array + intercept\n",
    "    prediction_error = y_array - prediction\n",
    "    \n",
    "    return np.sqrt(np.mean(prediction_error**2))"
   ]
  },
  {
   "cell_type": "code",
   "execution_count": null,
   "id": "25d8306a",
   "metadata": {},
   "outputs": [],
   "source": [
    "m_b_array = lin_reg_slope_intercept(birds,'Egg Weight','Bird Weight')\n",
    "m_slope = m_b_array.item(0)\n",
    "b_intercept = m_b_array.item(1)\n",
    "print(m_slope,b_intercept)"
   ]
  },
  {
   "cell_type": "code",
   "execution_count": null,
   "id": "9844bda2",
   "metadata": {},
   "outputs": [],
   "source": [
    "rmse(m_slope,b_intercept)"
   ]
  },
  {
   "cell_type": "code",
   "execution_count": null,
   "id": "846af304",
   "metadata": {},
   "outputs": [],
   "source": [
    "test_m = 2\n",
    "test_b = 1\n",
    "print(rmse(2,1))\n",
    "\n",
    "graph_x_min = min(birds.column('Egg Weight'))-.2\n",
    "graph_x_max = max(birds.column('Egg Weight'))+.2\n",
    "\n",
    "graph_y_min = test_m*graph_x_min +test_b\n",
    "graph_y_max = test_m*graph_x_max +test_b\n",
    "\n",
    "birds.scatter('Egg Weight','Bird Weight')\n",
    "plt.plot(make_array(graph_x_min,graph_x_max),make_array(graph_y_min,graph_y_max))"
   ]
  },
  {
   "cell_type": "code",
   "execution_count": null,
   "id": "b3214ef8",
   "metadata": {},
   "outputs": [],
   "source": [
    "rmse(.075,0.5)"
   ]
  },
  {
   "cell_type": "code",
   "execution_count": null,
   "id": "bd39771e",
   "metadata": {},
   "outputs": [],
   "source": [
    "rmse(.025,1.5)"
   ]
  },
  {
   "cell_type": "code",
   "execution_count": null,
   "id": "6ee92084",
   "metadata": {},
   "outputs": [],
   "source": [
    "rmse(5,10)"
   ]
  },
  {
   "cell_type": "code",
   "execution_count": null,
   "id": "dd154128",
   "metadata": {},
   "outputs": [],
   "source": [
    "rmse(2,1)"
   ]
  },
  {
   "cell_type": "code",
   "execution_count": null,
   "id": "bb803270",
   "metadata": {},
   "outputs": [],
   "source": [
    "slopes = make_array()\n",
    "intercepts = make_array()\n",
    "these_rmse = make_array()\n",
    "\n",
    "for m in np.arange(0,2,0.1):\n",
    "    for b in np.arange(-1,1,0.1):\n",
    "        \n",
    "        #storing the slope-intercept pair into their respective arrays\n",
    "        slopes = np.append(slopes,m)\n",
    "        intercepts = np.append(intercepts,b)\n",
    "        \n",
    "        # calculates the root mean square error of the the slope-intercept pair above\n",
    "        this_rmse = rmse(m,b)\n",
    "        \n",
    "        #stores the resulting rmse into it's own array\n",
    "        these_rmse = np.append(these_rmse,this_rmse)\n",
    "\n",
    "#combining the three arrays above into a table\n",
    "slope_intercept_residual_table = Table().with_columns('Slopes (m)',slopes,\n",
    "                                    'Intercepts (b)', intercepts,\n",
    "                                    'RMSE',these_rmse)\n",
    "slope_intercept_residual_table.show()\n",
    "slope_intercept_residual_table.num_rows"
   ]
  },
  {
   "cell_type": "code",
   "execution_count": null,
   "id": "8ec5acae",
   "metadata": {},
   "outputs": [],
   "source": [
    "slopes = make_array()\n",
    "intercepts = make_array()\n",
    "these_rmse = make_array()\n",
    "\n",
    "for m in np.arange(0,2,0.01):\n",
    "    for b in np.arange(-1,1,0.01):\n",
    "        this_rmse = rmse(m,b)\n",
    "        \n",
    "        slopes = np.append(slopes,m)\n",
    "        intercepts = np.append(intercepts,b)\n",
    "        these_rmse = np.append(these_rmse,this_rmse)\n",
    "\n",
    "slope_intercept_residual_table = Table().with_columns('Slopes (m)',slopes,\n",
    "                                    'Intercepts (b)', intercepts,\n",
    "                                    'RMSE',these_rmse)\n",
    "slope_intercept_residual_table.show()\n",
    "slope_intercept_residual_table.num_rows"
   ]
  },
  {
   "cell_type": "code",
   "execution_count": null,
   "id": "4a263ba2",
   "metadata": {
    "scrolled": true
   },
   "outputs": [],
   "source": [
    "slope_intercept_residual_table.sort('RMSE')"
   ]
  },
  {
   "cell_type": "code",
   "execution_count": null,
   "id": "0e968bf7",
   "metadata": {
    "scrolled": true
   },
   "outputs": [],
   "source": [
    "len(slope_intercept_residual_table.column('RMSE'))"
   ]
  },
  {
   "cell_type": "code",
   "execution_count": null,
   "id": "dad2cf09",
   "metadata": {},
   "outputs": [],
   "source": [
    "sorted_slope_intercept_residual_table = slope_intercept_residual_table.sort('RMSE')\n",
    "\n",
    "slopes_x = sorted_slope_intercept_residual_table.column('Slopes (m)')\n",
    "intercepts_y = sorted_slope_intercept_residual_table.column('Intercepts (b)')\n",
    "residual_colors = sorted_slope_intercept_residual_table.column('RMSE')\n",
    "\n",
    "\n",
    "plt.figure(figsize=(6,6))\n",
    "plt.scatter(slopes_x, intercepts_y, c = residual_colors, cmap=\"Blues_r\")\n",
    "plt.colorbar()\n",
    "plt.xlabel('Slope')\n",
    "plt.ylabel('Intercept') "
   ]
  },
  {
   "cell_type": "markdown",
   "id": "f19ad022",
   "metadata": {},
   "source": [
    "# The `minimize` function and Optimization"
   ]
  },
  {
   "cell_type": "code",
   "execution_count": null,
   "id": "8c360536",
   "metadata": {},
   "outputs": [],
   "source": [
    "minimize(rmse)"
   ]
  },
  {
   "cell_type": "code",
   "execution_count": null,
   "id": "a76b64ea",
   "metadata": {},
   "outputs": [],
   "source": [
    "#re-printing what we originally calculated using the formulas above\n",
    "print(m_slope,b_intercept)"
   ]
  },
  {
   "cell_type": "code",
   "execution_count": null,
   "id": "6351d620",
   "metadata": {},
   "outputs": [],
   "source": []
  },
  {
   "cell_type": "markdown",
   "id": "135fa276",
   "metadata": {},
   "source": [
    "# The Distance Formula"
   ]
  },
  {
   "cell_type": "code",
   "execution_count": null,
   "id": "47d42c02",
   "metadata": {},
   "outputs": [],
   "source": [
    "iris =  Table.read_table(\"IRIS.csv\")\n",
    "iris"
   ]
  },
  {
   "cell_type": "code",
   "execution_count": null,
   "id": "f13beabb",
   "metadata": {},
   "outputs": [],
   "source": [
    "#let's pick two of the column labels above and observe the scatter plot. \n",
    "# Note that each of the three species will be a different color on the plot to help us differentiate \n",
    "# the iris flower species\n",
    "\n",
    "iris.scatter('sepal_length' , 'sepal_width' , group = 'species')"
   ]
  },
  {
   "cell_type": "code",
   "execution_count": null,
   "id": "9d41b307",
   "metadata": {
    "scrolled": false
   },
   "outputs": [],
   "source": [
    "#Now let's look at comparing ALL of the labels to each other in pairwise comparisons\n",
    "#run the code below \n",
    "\n",
    "labels_without_species = list(iris.labels)[:-1]\n",
    "plotted_pairs = []\n",
    "\n",
    "for x in labels_without_species:\n",
    "    for y in labels_without_species:\n",
    "        \n",
    "        ordered_pair =  {x,y}\n",
    "        \n",
    "        if (x != y) and (ordered_pair not in plotted_pairs):\n",
    "            iris.scatter(x,y,group='species')\n",
    "            plotted_pairs.append(ordered_pair)\n",
    "            \n",
    "print(plotted_pairs)   "
   ]
  },
  {
   "cell_type": "code",
   "execution_count": null,
   "id": "2fb587b1",
   "metadata": {},
   "outputs": [],
   "source": [
    "((3 - 0)**2 + (4 - 0)**2)**(0.5)"
   ]
  },
  {
   "cell_type": "code",
   "execution_count": null,
   "id": "2f5b1823",
   "metadata": {},
   "outputs": [],
   "source": [
    "first = make_array(0,0,0,0)\n",
    "second = make_array(3,4,12,25)\n",
    "\n",
    "(sum((first - second)**2))**(1/2)"
   ]
  },
  {
   "cell_type": "markdown",
   "id": "b4733526",
   "metadata": {},
   "source": [
    "#### The following function below is defined for you homework 12"
   ]
  },
  {
   "cell_type": "code",
   "execution_count": null,
   "id": "7bbda15b",
   "metadata": {},
   "outputs": [],
   "source": [
    "# row (input): a row from the table \n",
    "# features (input): an array of column labels. These labels are the attributes that will help us classify individuals. \n",
    "# Note: the attributes must be numerical to help us pass them through the distance function defined above. \n",
    "\n",
    "def row_to_array(row, features):\n",
    "    \"\"\"Converts a row to an array of its features.\"\"\"\n",
    "    arr = make_array()\n",
    "    for feature in features:\n",
    "        arr = np.append(arr, row.item(feature))\n",
    "    return arr"
   ]
  },
  {
   "cell_type": "code",
   "execution_count": null,
   "id": "f5308d8e",
   "metadata": {},
   "outputs": [],
   "source": [
    "iris"
   ]
  },
  {
   "cell_type": "code",
   "execution_count": null,
   "id": "54b919c4",
   "metadata": {},
   "outputs": [],
   "source": [
    "iris.take(make_array(0,1,-1))"
   ]
  },
  {
   "cell_type": "code",
   "execution_count": null,
   "id": "963b5f1d",
   "metadata": {},
   "outputs": [],
   "source": [
    "array_of_iris_features = iris.drop('species').labels\n",
    "\n",
    "print(array_of_iris_features)\n",
    "\n",
    "first_setosa = row_to_array(iris.row(0),array_of_iris_features)\n",
    "second_setosa = row_to_array(iris.row(1),array_of_iris_features)\n",
    "last_virginica = row_to_array(iris.row(-1),array_of_iris_features)\n",
    "\n",
    "(sum((first_setosa - last_virginica)**2))**(0.5)"
   ]
  },
  {
   "cell_type": "markdown",
   "id": "492eca56",
   "metadata": {},
   "source": [
    "#### Let's convert the process into a single function"
   ]
  },
  {
   "cell_type": "code",
   "execution_count": null,
   "id": "5e5335df",
   "metadata": {},
   "outputs": [],
   "source": [
    "def distance(array_one,array_two):\n",
    "    return (sum((array_one - array_two)**2))**(0.5)"
   ]
  },
  {
   "cell_type": "code",
   "execution_count": null,
   "id": "b536f237",
   "metadata": {},
   "outputs": [],
   "source": [
    "distance(first_setosa,second_setosa)"
   ]
  },
  {
   "cell_type": "code",
   "execution_count": null,
   "id": "96a8dc3c",
   "metadata": {},
   "outputs": [],
   "source": [
    "distance(first_setosa,last_virginica)"
   ]
  },
  {
   "cell_type": "code",
   "execution_count": null,
   "id": "da999673",
   "metadata": {},
   "outputs": [],
   "source": [
    "distance(second_setosa,last_virginica)"
   ]
  }
 ],
 "metadata": {
  "kernelspec": {
   "display_name": "Python 3 (ipykernel)",
   "language": "python",
   "name": "python3"
  },
  "language_info": {
   "codemirror_mode": {
    "name": "ipython",
    "version": 3
   },
   "file_extension": ".py",
   "mimetype": "text/x-python",
   "name": "python",
   "nbconvert_exporter": "python",
   "pygments_lexer": "ipython3",
   "version": "3.10.11"
  }
 },
 "nbformat": 4,
 "nbformat_minor": 5
}
