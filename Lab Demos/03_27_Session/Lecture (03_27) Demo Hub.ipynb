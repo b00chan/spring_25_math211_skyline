{
 "cells": [
  {
   "cell_type": "markdown",
   "id": "0de5ea98",
   "metadata": {},
   "source": [
    "# [Python Reference Link](http://www.data8.org/sp20/python-reference.html)\n",
    "*Run the cell below so that we can set our modules up*"
   ]
  },
  {
   "cell_type": "code",
   "execution_count": null,
   "id": "3f3e1ea5",
   "metadata": {},
   "outputs": [],
   "source": [
    "import numpy as np\n",
    "from datascience import *\n",
    "\n",
    "# These lines set up graphing capabilities.\n",
    "import matplotlib\n",
    "%matplotlib inline\n",
    "import matplotlib.pyplot as plt\n",
    "plt.style.use('fivethirtyeight')\n",
    "import warnings\n",
    "warnings.simplefilter('ignore', FutureWarning)\n",
    "\n",
    "from ipywidgets import interact, interactive, fixed, interact_manual\n",
    "import ipywidgets as widgets"
   ]
  },
  {
   "cell_type": "markdown",
   "id": "4b681ad6",
   "metadata": {},
   "source": [
    "## Hypothesis Test Simulation: Does your phone affect Uber/Lyft prices?"
   ]
  },
  {
   "cell_type": "code",
   "execution_count": null,
   "id": "51c3b117",
   "metadata": {},
   "outputs": [],
   "source": [
    "link_for_a_b_testing_results = 'https://docs.google.com/spreadsheets/d/1greliLsEMnZrb_d1B2l3e6vrl3blpO3ksj7pi4kMiYY/export?format=csv'\n",
    "\n",
    "ride_share_table = Table().read_table(link_for_a_b_testing_results).drop('Timestamp')\n",
    "ride_share_table"
   ]
  },
  {
   "cell_type": "markdown",
   "id": "d6bddc1f",
   "metadata": {},
   "source": [
    "### \"Define my test statistic\" based upon my Hypothesis"
   ]
  },
  {
   "cell_type": "code",
   "execution_count": null,
   "id": "04d0ce86",
   "metadata": {},
   "outputs": [],
   "source": [
    "grouped_by_phone = ride_share_table..."
   ]
  },
  {
   "cell_type": "code",
   "execution_count": null,
   "id": "89333fbb",
   "metadata": {},
   "outputs": [],
   "source": [
    "average_by_phone_type_array = "
   ]
  },
  {
   "cell_type": "code",
   "execution_count": null,
   "id": "96562a00",
   "metadata": {},
   "outputs": [],
   "source": [
    "test_statistic = "
   ]
  },
  {
   "cell_type": "markdown",
   "id": "d8705fe9",
   "metadata": {},
   "source": [
    "### Shuffle the labels of the original sample"
   ]
  },
  {
   "cell_type": "code",
   "execution_count": null,
   "id": "e74f4b29",
   "metadata": {},
   "outputs": [],
   "source": [
    "# Run this cell a few times to observe that the order of the rows keep changing each time we run it\n",
    "ride_share_table.sample(ride_share_table.num_rows,with_replacement=False)"
   ]
  },
  {
   "cell_type": "code",
   "execution_count": null,
   "id": "3ee5c53b",
   "metadata": {},
   "outputs": [],
   "source": [
    "shuffled_labels = ride_share_table.sample(ride_share_table.num_rows,with_replacement=False).column(...)"
   ]
  },
  {
   "cell_type": "code",
   "execution_count": null,
   "id": "edb5c3a4",
   "metadata": {},
   "outputs": [],
   "source": [
    "simulated_shuffle = ride_share_table.with_column('shuffled_label',shuffled_labels)"
   ]
  },
  {
   "cell_type": "markdown",
   "id": "716f03a2",
   "metadata": {},
   "source": [
    "### Find your simulated test statistic"
   ]
  },
  {
   "cell_type": "code",
   "execution_count": null,
   "id": "c19c1d7a",
   "metadata": {},
   "outputs": [],
   "source": []
  },
  {
   "cell_type": "markdown",
   "id": "b9885b66",
   "metadata": {},
   "source": [
    "### Repeat many times"
   ]
  },
  {
   "cell_type": "code",
   "execution_count": null,
   "id": "4fd6bfe8",
   "metadata": {},
   "outputs": [],
   "source": [
    "num_simulations = ...\n",
    "simulated_statistics_ab = make_array()\n",
    "\n",
    "for i in np.arange(num_simulations):\n",
    "    ...\n",
    "    \n",
    "    \n",
    "simulated_statistics_ab"
   ]
  },
  {
   "cell_type": "markdown",
   "id": "30f447f0",
   "metadata": {},
   "source": [
    "### Calculate p-value"
   ]
  },
  {
   "cell_type": "code",
   "execution_count": null,
   "id": "428bc3f3",
   "metadata": {},
   "outputs": [],
   "source": [
    "observed_diff_ab = test_statistic"
   ]
  },
  {
   "cell_type": "code",
   "execution_count": null,
   "id": "ce33ba22",
   "metadata": {},
   "outputs": [],
   "source": [
    "Table().with_columns('Simulated Statistic', simulated_statistics_ab).hist()\n",
    "plt.scatter(observed_diff_ab, -0.002, color='red', s=70);"
   ]
  },
  {
   "cell_type": "code",
   "execution_count": null,
   "id": "b7fe2c84",
   "metadata": {},
   "outputs": [],
   "source": [
    "p_value = np.count_nonzero(simulated_statistics_ab < observed_diff_ab)/num_simulations\n",
    "p_value"
   ]
  }
 ],
 "metadata": {
  "kernelspec": {
   "display_name": "Python 3 (ipykernel)",
   "language": "python",
   "name": "python3"
  },
  "language_info": {
   "codemirror_mode": {
    "name": "ipython",
    "version": 3
   },
   "file_extension": ".py",
   "mimetype": "text/x-python",
   "name": "python",
   "nbconvert_exporter": "python",
   "pygments_lexer": "ipython3",
   "version": "3.10.11"
  }
 },
 "nbformat": 4,
 "nbformat_minor": 5
}
