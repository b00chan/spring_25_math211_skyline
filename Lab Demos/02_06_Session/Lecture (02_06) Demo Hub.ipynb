{
 "cells": [
  {
   "cell_type": "markdown",
   "id": "ad2e12c1",
   "metadata": {},
   "source": [
    "# [Python Reference Link](http://www.data8.org/sp20/python-reference.html)\n",
    "*Run the cell below so that we can set our modules up*"
   ]
  },
  {
   "cell_type": "code",
   "execution_count": null,
   "id": "ed49d269",
   "metadata": {},
   "outputs": [],
   "source": [
    "import numpy as np\n",
    "from datascience import *\n",
    "\n",
    "# These lines set up graphing capabilities.\n",
    "import matplotlib\n",
    "%matplotlib inline\n",
    "import matplotlib.pyplot as plt\n",
    "plt.style.use('fivethirtyeight')\n",
    "import warnings\n",
    "warnings.simplefilter('ignore', FutureWarning)\n",
    "\n",
    "from ipywidgets import interact, interactive, fixed, interact_manual\n",
    "import ipywidgets as widgets"
   ]
  },
  {
   "cell_type": "markdown",
   "id": "5b6a4570",
   "metadata": {},
   "source": [
    "# Creating Functions"
   ]
  },
  {
   "cell_type": "code",
   "execution_count": null,
   "id": "2569931d",
   "metadata": {},
   "outputs": [],
   "source": [
    "def triple(sample_input):\n",
    "    #\n",
    "    ...\n",
    "    return ..."
   ]
  },
  {
   "cell_type": "code",
   "execution_count": null,
   "id": "dd84ce87",
   "metadata": {},
   "outputs": [],
   "source": [
    "triple()"
   ]
  },
  {
   "cell_type": "code",
   "execution_count": null,
   "id": "b3b217d0",
   "metadata": {},
   "outputs": [],
   "source": [
    "triple(8)"
   ]
  },
  {
   "cell_type": "code",
   "execution_count": null,
   "id": "3f1728b1",
   "metadata": {},
   "outputs": [],
   "source": [
    "triple('Haha')"
   ]
  },
  {
   "cell_type": "code",
   "execution_count": null,
   "id": "e5b520f7",
   "metadata": {},
   "outputs": [],
   "source": [
    "def convert_fahrenheit_to_celsius(degree_f):\n",
    "    ...\n",
    "    return ...\n",
    "    "
   ]
  },
  {
   "cell_type": "code",
   "execution_count": null,
   "id": "cb0c708a",
   "metadata": {},
   "outputs": [],
   "source": [
    "convert_fahrenheit_to_celsius(100)"
   ]
  },
  {
   "cell_type": "markdown",
   "id": "c5f4467f",
   "metadata": {},
   "source": [
    "# Applying Functions\n",
    "We will use Spring 2024's survey data to practice applying our functions"
   ]
  },
  {
   "cell_type": "code",
   "execution_count": null,
   "id": "783b5878",
   "metadata": {
    "scrolled": true
   },
   "outputs": [],
   "source": [
    "math211_survey = Table.read_table('Sp24_Math_211_Survey_cleaned.csv')\n",
    "math211_survey.show(50)"
   ]
  },
  {
   "cell_type": "markdown",
   "id": "182c554c",
   "metadata": {},
   "source": [
    "### Inquiry: \n",
    "Although the survey lists our responses about desired travel destination, **by name**, I want to capture a sense of **how far** they are from our campus. So, I used a website (called [\"distance.to\"](https://www.distance.to/San-Bruno,CA,USA) to find the distance to each mentioned travel destination and I got the following table: "
   ]
  },
  {
   "cell_type": "code",
   "execution_count": null,
   "id": "2f00f240",
   "metadata": {
    "scrolled": true
   },
   "outputs": [],
   "source": [
    "travel_distances = Table.read_table('Travel_Destination_Distance_and_PrimaryLanguage.csv')\n",
    "travel_distances.show()"
   ]
  },
  {
   "cell_type": "markdown",
   "id": "1047e23b",
   "metadata": {},
   "source": [
    "### Practice Exercises:"
   ]
  },
  {
   "cell_type": "markdown",
   "id": "f0e58801",
   "metadata": {},
   "source": [
    "##### Question: How far away is Japan?"
   ]
  },
  {
   "cell_type": "code",
   "execution_count": null,
   "id": "60180554",
   "metadata": {},
   "outputs": [],
   "source": [
    "travel_distances"
   ]
  },
  {
   "cell_type": "markdown",
   "id": "be4c33ac",
   "metadata": {},
   "source": [
    "##### Question: How far away is Thailand?"
   ]
  },
  {
   "cell_type": "code",
   "execution_count": null,
   "id": "a02c7325",
   "metadata": {},
   "outputs": [],
   "source": []
  },
  {
   "cell_type": "markdown",
   "id": "c6c658ab",
   "metadata": {},
   "source": [
    "##### Question: How far away is Lake Tahoe?"
   ]
  },
  {
   "cell_type": "code",
   "execution_count": null,
   "id": "59cba005",
   "metadata": {},
   "outputs": [],
   "source": []
  },
  {
   "cell_type": "markdown",
   "id": "4d382131",
   "metadata": {},
   "source": [
    "##### Question: How far away is India?"
   ]
  },
  {
   "cell_type": "code",
   "execution_count": null,
   "id": "2d1540ce",
   "metadata": {},
   "outputs": [],
   "source": []
  },
  {
   "cell_type": "markdown",
   "id": "d4a14e4d",
   "metadata": {},
   "source": [
    "##### Question: How far away is Oregon?"
   ]
  },
  {
   "cell_type": "code",
   "execution_count": null,
   "id": "74b4bf51",
   "metadata": {},
   "outputs": [],
   "source": []
  },
  {
   "cell_type": "markdown",
   "id": "189c5427",
   "metadata": {},
   "source": [
    "##### Question: What primary language is spoken Brazil?"
   ]
  },
  {
   "cell_type": "code",
   "execution_count": null,
   "id": "38a59f4d",
   "metadata": {},
   "outputs": [],
   "source": []
  },
  {
   "cell_type": "markdown",
   "id": "2bfc15e7",
   "metadata": {},
   "source": [
    "### Converting the process as a function"
   ]
  },
  {
   "cell_type": "code",
   "execution_count": null,
   "id": "efe9a521",
   "metadata": {},
   "outputs": [],
   "source": [
    "def find_distance(travel_destination):\n",
    "    ...\n",
    "    return ..."
   ]
  },
  {
   "cell_type": "code",
   "execution_count": null,
   "id": "64746dec",
   "metadata": {},
   "outputs": [],
   "source": [
    "mileage"
   ]
  },
  {
   "cell_type": "code",
   "execution_count": null,
   "id": "95eb8c75",
   "metadata": {},
   "outputs": [],
   "source": [
    "find_distance('Singapore')"
   ]
  },
  {
   "cell_type": "markdown",
   "id": "136ccaa1",
   "metadata": {},
   "source": [
    "### Applying our function to the table\n",
    "First, we will start with looking at how to import our data into the notebook:\n",
    "<img src=\"apply_function.png\" alt=\"drawing\" width=\"1200\"/>\n",
    "*From the [Python reference](http://www.data8.org/sp20/python-reference.html) page"
   ]
  },
  {
   "cell_type": "code",
   "execution_count": null,
   "id": "571303f3",
   "metadata": {},
   "outputs": [],
   "source": [
    "# Selecting a narrower set of columns (for easier viewing)\n",
    "math211_survey.select('Timestamp','Surveyor','GPA','Introversion/Extroversion','Travel')"
   ]
  },
  {
   "cell_type": "code",
   "execution_count": null,
   "id": "be9903dc",
   "metadata": {},
   "outputs": [],
   "source": [
    "..."
   ]
  },
  {
   "cell_type": "code",
   "execution_count": null,
   "id": "f7acb023",
   "metadata": {},
   "outputs": [],
   "source": [
    "..."
   ]
  },
  {
   "cell_type": "markdown",
   "id": "63a196ca",
   "metadata": {},
   "source": [
    "## Side Note: Benford's Law"
   ]
  },
  {
   "cell_type": "code",
   "execution_count": null,
   "id": "d1baff69",
   "metadata": {},
   "outputs": [],
   "source": []
  },
  {
   "cell_type": "code",
   "execution_count": null,
   "id": "16754f8a",
   "metadata": {},
   "outputs": [],
   "source": []
  }
 ],
 "metadata": {
  "kernelspec": {
   "display_name": "Python 3 (ipykernel)",
   "language": "python",
   "name": "python3"
  },
  "language_info": {
   "codemirror_mode": {
    "name": "ipython",
    "version": 3
   },
   "file_extension": ".py",
   "mimetype": "text/x-python",
   "name": "python",
   "nbconvert_exporter": "python",
   "pygments_lexer": "ipython3",
   "version": "3.10.11"
  }
 },
 "nbformat": 4,
 "nbformat_minor": 5
}
