{
 "cells": [
  {
   "cell_type": "markdown",
   "id": "8f246f8d",
   "metadata": {},
   "source": [
    "# [Python Reference Link](http://www.data8.org/sp20/python-reference.html)\n",
    "*Run the cell below so that we can set our modules up*"
   ]
  },
  {
   "cell_type": "code",
   "execution_count": null,
   "id": "b2ff526c",
   "metadata": {},
   "outputs": [],
   "source": [
    "import numpy as np\n",
    "from datascience import *\n",
    "from IPython.display import YouTubeVideo\n",
    "\n",
    "# These lines do some fancy plotting magic.\n",
    "import matplotlib\n",
    "%matplotlib inline\n",
    "import matplotlib.pyplot as plt\n",
    "plt.style.use('fivethirtyeight')\n",
    "import warnings\n",
    "warnings.simplefilter('ignore', FutureWarning)"
   ]
  },
  {
   "cell_type": "markdown",
   "id": "f743ad86",
   "metadata": {},
   "source": [
    "## Hypothesis Test Simulation: Comparing Distributions (Using TVD as a Test Statistic)\n",
    "\n",
    "We are re-visitng the 'Swain v. Alabama' Supreme Court Case by investigating Jury representation a bit more locally. Consider the following study conducted by the American Civil Liberties Union of Northern California on [Jury representataion in Alameda County](https://www.aclunc.org/sites/default/files/racial_and_ethnic_disparities_in_alameda_county_jury_pools.pdf)"
   ]
  },
  {
   "cell_type": "code",
   "execution_count": null,
   "id": "112e5b59",
   "metadata": {},
   "outputs": [],
   "source": [
    "jury = Table().read_table('Jury_Alameda.csv')\n",
    "jury"
   ]
  },
  {
   "cell_type": "code",
   "execution_count": null,
   "id": "35cab78d",
   "metadata": {},
   "outputs": [],
   "source": [
    "def total_variation_distance(distribution1, distribution2):\n",
    "    return ..."
   ]
  },
  {
   "cell_type": "code",
   "execution_count": null,
   "id": "997a7a85",
   "metadata": {},
   "outputs": [],
   "source": [
    "jury.column('Panel')"
   ]
  },
  {
   "cell_type": "code",
   "execution_count": null,
   "id": "37015f4d",
   "metadata": {},
   "outputs": [],
   "source": [
    "observed_tvd = ...\n",
    "observed_tvd"
   ]
  },
  {
   "cell_type": "code",
   "execution_count": null,
   "id": "13d7756e",
   "metadata": {},
   "outputs": [],
   "source": [
    "sample_proportions(...)"
   ]
  },
  {
   "cell_type": "code",
   "execution_count": null,
   "id": "b7a8e523",
   "metadata": {},
   "outputs": [],
   "source": [
    "#for one simulation\n",
    "simulated_tvd = ...\n",
    "simulated_tvd"
   ]
  },
  {
   "cell_type": "code",
   "execution_count": null,
   "id": "dd1b396c",
   "metadata": {},
   "outputs": [],
   "source": [
    "simulated_tvds = make_array()\n",
    "\n",
    "for i in np.arange(10000):\n",
    "    sim_jury = ...\n",
    "    sim_tvd = ...\n",
    "    simulated_tvds = ...\n",
    "\n",
    "simulated_tvds"
   ]
  },
  {
   "cell_type": "code",
   "execution_count": null,
   "id": "7acda711",
   "metadata": {},
   "outputs": [],
   "source": [
    "Table().with_column(\"Simulated TVDs\", simulated_tvds).hist()\n",
    "plt.scatter(observed_tvd, 0, color='red', s=70, zorder=2);\n",
    "plt.show();"
   ]
  },
  {
   "cell_type": "code",
   "execution_count": null,
   "id": "38bfa7c6",
   "metadata": {},
   "outputs": [],
   "source": [
    "p_value_tvd = ...\n",
    "p_value_tvd"
   ]
  },
  {
   "cell_type": "code",
   "execution_count": null,
   "id": "ce4b1f3f",
   "metadata": {},
   "outputs": [],
   "source": []
  }
 ],
 "metadata": {
  "kernelspec": {
   "display_name": "Python 3 (ipykernel)",
   "language": "python",
   "name": "python3"
  },
  "language_info": {
   "codemirror_mode": {
    "name": "ipython",
    "version": 3
   },
   "file_extension": ".py",
   "mimetype": "text/x-python",
   "name": "python",
   "nbconvert_exporter": "python",
   "pygments_lexer": "ipython3",
   "version": "3.10.11"
  }
 },
 "nbformat": 4,
 "nbformat_minor": 5
}
