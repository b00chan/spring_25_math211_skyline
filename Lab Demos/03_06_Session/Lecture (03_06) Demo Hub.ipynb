{
 "cells": [
  {
   "cell_type": "markdown",
   "id": "318c124f",
   "metadata": {},
   "source": [
    "# [Python Reference Link](http://www.data8.org/sp20/python-reference.html)\n",
    "*Run the cell below so that we can set our modules up*"
   ]
  },
  {
   "cell_type": "code",
   "execution_count": null,
   "id": "437fd2d7",
   "metadata": {},
   "outputs": [],
   "source": [
    "import numpy as np\n",
    "from datascience import *"
   ]
  },
  {
   "cell_type": "code",
   "execution_count": null,
   "id": "6f462a20",
   "metadata": {},
   "outputs": [],
   "source": [
    "# These lines set up graphing capabilities.\n",
    "import matplotlib\n",
    "%matplotlib inline\n",
    "import matplotlib.pyplot as plt\n",
    "plt.style.use('fivethirtyeight')\n",
    "import warnings\n",
    "warnings.simplefilter('ignore', FutureWarning)\n",
    "\n",
    "from ipywidgets import interact, interactive, fixed, interact_manual\n",
    "import ipywidgets as widgets"
   ]
  },
  {
   "cell_type": "code",
   "execution_count": null,
   "id": "1972a46f",
   "metadata": {},
   "outputs": [],
   "source": [
    "sample_records = Table.read_table('sample_records.csv').drop(0)\n",
    "sample_records"
   ]
  },
  {
   "cell_type": "markdown",
   "id": "be0c01cd",
   "metadata": {},
   "source": [
    "# Accessing Rows of our data"
   ]
  },
  {
   "cell_type": "code",
   "execution_count": null,
   "id": "84522587",
   "metadata": {},
   "outputs": [],
   "source": [
    "sample_records.show(1) #show me the first row of the table (i.e. a display method like 'print')"
   ]
  },
  {
   "cell_type": "code",
   "execution_count": null,
   "id": "2d4b2ee0",
   "metadata": {},
   "outputs": [],
   "source": [
    "first_row = sample_records.row(0) #retrieve the fdirst row of the table, as an array\n",
    "first_row"
   ]
  },
  {
   "cell_type": "code",
   "execution_count": null,
   "id": "05f4467a",
   "metadata": {},
   "outputs": [],
   "source": [
    "first_row.item('Random_ID')"
   ]
  },
  {
   "cell_type": "code",
   "execution_count": null,
   "id": "2af05d1e",
   "metadata": {},
   "outputs": [],
   "source": [
    "first_row.item(2)"
   ]
  },
  {
   "cell_type": "markdown",
   "id": "863cb50c",
   "metadata": {},
   "source": [
    "# Applying a function across the entire row"
   ]
  },
  {
   "cell_type": "code",
   "execution_count": null,
   "id": "c77d3c8c",
   "metadata": {},
   "outputs": [],
   "source": [
    "sample_records.apply(sum) # this does not work BECAUSE some columns have strings in them"
   ]
  },
  {
   "cell_type": "code",
   "execution_count": null,
   "id": "6b5687b5",
   "metadata": {},
   "outputs": [],
   "source": [
    "sample_records.select('STUDENT_UNITS','GRADE_QUALITY_POINTS').apply(sum)\n",
    "#now it works becasue we selected columns with ONLY NUMBERS"
   ]
  },
  {
   "cell_type": "markdown",
   "id": "1bbfc11e",
   "metadata": {},
   "source": [
    "# Comparison Statements"
   ]
  },
  {
   "cell_type": "markdown",
   "id": "5742e1af",
   "metadata": {},
   "source": [
    "### Assignments vs. Comparisons"
   ]
  },
  {
   "cell_type": "code",
   "execution_count": null,
   "id": "73e108ba",
   "metadata": {},
   "outputs": [],
   "source": [
    "this_variable = 7 #assignment line \n",
    "this_variable"
   ]
  },
  {
   "cell_type": "code",
   "execution_count": null,
   "id": "e6b23cad",
   "metadata": {},
   "outputs": [],
   "source": [
    "this_variable == 7"
   ]
  },
  {
   "cell_type": "code",
   "execution_count": null,
   "id": "16e3c3ca",
   "metadata": {},
   "outputs": [],
   "source": [
    "this_variable == 6"
   ]
  },
  {
   "cell_type": "code",
   "execution_count": null,
   "id": "65d11e2f",
   "metadata": {},
   "outputs": [],
   "source": [
    "this_variable = 6 \n",
    "this_variable"
   ]
  },
  {
   "cell_type": "code",
   "execution_count": null,
   "id": "3cb075e4",
   "metadata": {},
   "outputs": [],
   "source": [
    "this_variable == 6, this_variable == 7 "
   ]
  },
  {
   "cell_type": "code",
   "execution_count": null,
   "id": "045b8528",
   "metadata": {},
   "outputs": [],
   "source": [
    "this_variable >1"
   ]
  },
  {
   "cell_type": "code",
   "execution_count": null,
   "id": "cabd5c32",
   "metadata": {},
   "outputs": [],
   "source": [
    "this_variable != 5"
   ]
  },
  {
   "cell_type": "code",
   "execution_count": null,
   "id": "584296c2",
   "metadata": {},
   "outputs": [],
   "source": [
    "2 < this_variable <50"
   ]
  },
  {
   "cell_type": "code",
   "execution_count": null,
   "id": "f90158be",
   "metadata": {},
   "outputs": [],
   "source": [
    "is_this_variable_between = (2 < this_variable <50)\n",
    "is_this_variable_between"
   ]
  },
  {
   "cell_type": "markdown",
   "id": "14ed1d5b",
   "metadata": {},
   "source": [
    "### Aggregating Comparisons"
   ]
  },
  {
   "cell_type": "code",
   "execution_count": null,
   "id": "4fb349e4",
   "metadata": {},
   "outputs": [],
   "source": [
    "this_array = make_array(1, 2, 4, 8, 16, 32, 64, 67)"
   ]
  },
  {
   "cell_type": "code",
   "execution_count": null,
   "id": "2c84b813",
   "metadata": {},
   "outputs": [],
   "source": [
    "this_array > 20"
   ]
  },
  {
   "cell_type": "code",
   "execution_count": null,
   "id": "f2cbab12",
   "metadata": {},
   "outputs": [],
   "source": [
    "this_array % 2 # this is a way we can check if a number is divisible by 2"
   ]
  },
  {
   "cell_type": "code",
   "execution_count": null,
   "id": "b6f9d159",
   "metadata": {},
   "outputs": [],
   "source": [
    "sum(this_array>20)"
   ]
  },
  {
   "cell_type": "markdown",
   "id": "7891f85b",
   "metadata": {},
   "source": [
    "# Control Statements"
   ]
  },
  {
   "cell_type": "code",
   "execution_count": null,
   "id": "41f5c227",
   "metadata": {},
   "outputs": [],
   "source": [
    "x = 20\n",
    "s = 'You are 20'"
   ]
  },
  {
   "cell_type": "code",
   "execution_count": null,
   "id": "cebb8f48",
   "metadata": {},
   "outputs": [],
   "source": [
    "if x >= 21:\n",
    "    s = 'You may enter this bar/nightclub'\n",
    "s"
   ]
  },
  {
   "cell_type": "code",
   "execution_count": null,
   "id": "9df2157c",
   "metadata": {},
   "outputs": [],
   "source": [
    "if x >= 18:\n",
    "    s = 'You can legally vote'\n",
    "s"
   ]
  },
  {
   "cell_type": "markdown",
   "id": "eab361b9",
   "metadata": {},
   "source": [
    "### Combining Control Statements"
   ]
  },
  {
   "cell_type": "code",
   "execution_count": null,
   "id": "d58fbcce",
   "metadata": {},
   "outputs": [],
   "source": [
    "sample_records.group('Random_ID',sum)"
   ]
  },
  {
   "cell_type": "code",
   "execution_count": null,
   "id": "c1664484",
   "metadata": {},
   "outputs": [],
   "source": [
    "#determining our students as 'Full-Time', 'Part-Time', and 'Less Than Part Time'\n",
    "# we look at the Number of units to determine this classification\n",
    "\n",
    "def classify_time(num_units):\n",
    "    ...\n",
    "    return classification"
   ]
  },
  {
   "cell_type": "code",
   "execution_count": null,
   "id": "ea8abc56",
   "metadata": {},
   "outputs": [],
   "source": []
  },
  {
   "cell_type": "code",
   "execution_count": null,
   "id": "916888ce",
   "metadata": {},
   "outputs": [],
   "source": []
  },
  {
   "cell_type": "markdown",
   "id": "e495c44a",
   "metadata": {},
   "source": [
    "# `for` loops"
   ]
  },
  {
   "cell_type": "code",
   "execution_count": null,
   "id": "5e92a10b",
   "metadata": {},
   "outputs": [],
   "source": [
    "for pet in make_array('cat','dog','rabbit','ferret'):\n",
    "    print_pet = pet.capitalize()\n",
    "    print('I love my '+print_pet)"
   ]
  },
  {
   "cell_type": "code",
   "execution_count": null,
   "id": "1da1a844",
   "metadata": {},
   "outputs": [],
   "source": [
    "for beer_num in np.arange(99,0,-1):\n",
    "    print(beer_num,\"bottles of beer on the wall,\",beer_num,\"bottles of beer!\")\n",
    "    print(\"take one down, pass it around!\",beer_num-1,\"bottles of beer on the wall!\")"
   ]
  },
  {
   "cell_type": "markdown",
   "id": "60b3a0c1",
   "metadata": {},
   "source": [
    "## `for` practice: using a `for`-loop to analyze our [STEM Center webpage](https://skylinecollege.edu/stemcenter/)"
   ]
  },
  {
   "cell_type": "code",
   "execution_count": null,
   "id": "8cb822ec",
   "metadata": {},
   "outputs": [],
   "source": [
    "STEM_Center_Webpage_string = 'The Skyline College STEM Center brings together academic and student support services for students taking science, technology, engineering and math courses.The center supports student success by ensuring students have access to resources such as academic tutoring, counseling services, a resource depository for STEM pathways and transfer, a hub for internships and work based learning opportunities, as well as a place where students and staff can collaborate and build a community and supportive connection. This STEM Center was brought to campus by a U.S. Department of Education, Title V, Developing Hispanic-Serving Institutions Program “Strengthening Pathways to Success in STEM” grant awarded in 2018.'\n",
    "STEM_Center_Webpage_string"
   ]
  },
  {
   "cell_type": "markdown",
   "id": "2fde1e46",
   "metadata": {},
   "source": [
    "We'll use the `.split()` method to store each word into a list:"
   ]
  },
  {
   "cell_type": "code",
   "execution_count": null,
   "id": "3fbda523",
   "metadata": {},
   "outputs": [],
   "source": [
    "STEM_split = STEM_Center_Webpage_string.split()\n",
    "STEM_split"
   ]
  },
  {
   "cell_type": "code",
   "execution_count": null,
   "id": "386b5642",
   "metadata": {},
   "outputs": [],
   "source": [
    "#before we check the 'STEM_split' list, we have not found any words matching 'student' (not yet anyway)\n",
    "student_count = 0 \n",
    "\n",
    "#this for-loop will help us look through the list, word by word\n",
    "for word in STEM_split:\n",
    "    print('checking: ',word)\n",
    "    \n",
    "    if word == 'students':\n",
    "        #once we find the student, we will increase our student_count variable by adding +1 to it's \n",
    "        #previous value\n",
    "        \n",
    "        print(word + ' Found!') #this confirms we matched 'student'\n",
    "        \n",
    "        print(\"old count:\",student_count)\n",
    "        student_count = (student_count + 1) #this will update the count\n",
    "        \n",
    "        #student_count += 1\n",
    "        print(\"new count:\",student_count)\n",
    "        \n",
    "student_count"
   ]
  },
  {
   "cell_type": "markdown",
   "id": "6bb12241",
   "metadata": {},
   "source": [
    "# Sampling Methods"
   ]
  },
  {
   "cell_type": "markdown",
   "id": "bfacdcb9",
   "metadata": {},
   "source": [
    "## `np.random.choice`\n",
    "<img src=\"random_choice.png\" alt=\"drawing\" width=\"1200\"/>\n",
    "\n",
    "*From the [Python reference](http://www.data8.org/sp20/python-reference.html) page\n",
    "\n",
    "Consider the array of food we could get at the Sky Cafe here on campus: "
   ]
  },
  {
   "cell_type": "code",
   "execution_count": null,
   "id": "5758b54f",
   "metadata": {},
   "outputs": [],
   "source": [
    "cafe_lunch_options = make_array('Salad Bar','Chicken Tendies','Quesadilla','Burger','Just hella fries',\n",
    "                                'Daily Special','Sandwich','Cup Noodle')\n",
    "cafe_lunch_options"
   ]
  },
  {
   "cell_type": "markdown",
   "id": "fccefdb8",
   "metadata": {},
   "source": [
    "#### I forgot to bring my lunch from home today, what am I getting? Run the cell below:"
   ]
  },
  {
   "cell_type": "code",
   "execution_count": null,
   "id": "0171bfd2",
   "metadata": {},
   "outputs": [],
   "source": [
    "np.random.choice(cafe_lunch_options)"
   ]
  },
  {
   "cell_type": "markdown",
   "id": "ec727c7d",
   "metadata": {},
   "source": [
    "#### Amapola also forgot hers. She said, \"I don't know, surprise me.\" What are we each getting?"
   ]
  },
  {
   "cell_type": "code",
   "execution_count": null,
   "id": "42c46034",
   "metadata": {},
   "outputs": [],
   "source": [
    "np.random.choice(cafe_lunch_options,2)"
   ]
  },
  {
   "cell_type": "code",
   "execution_count": null,
   "id": "7ad4f60b",
   "metadata": {},
   "outputs": [],
   "source": [
    "weekday= make_array('Monday','Tuesday','Wednesday','Thursday','Friday')\n",
    "for day in weekday:\n",
    "    im_eating = np.random.choice(cafe_lunch_options)\n",
    "    print(day,im_eating)"
   ]
  },
  {
   "cell_type": "markdown",
   "id": "59ad17a6",
   "metadata": {},
   "source": [
    "## `tbl.sample`\n",
    "<img src=\"table_sample.png\" alt=\"drawing\" width=\"1200\"/>\n",
    "\n",
    "*From the [Python reference](http://www.data8.org/sp20/python-reference.html) page"
   ]
  },
  {
   "cell_type": "code",
   "execution_count": null,
   "id": "dddb7c77",
   "metadata": {},
   "outputs": [],
   "source": [
    "cafe_options_table = Table().with_columns('What I can eat',cafe_lunch_options)\n",
    "cafe_options_table"
   ]
  },
  {
   "cell_type": "code",
   "execution_count": null,
   "id": "f700e88f",
   "metadata": {},
   "outputs": [],
   "source": [
    "cafe_options_table.sample(5).with_columns('Day of Week',weekday)"
   ]
  },
  {
   "cell_type": "code",
   "execution_count": null,
   "id": "65f79404",
   "metadata": {},
   "outputs": [],
   "source": [
    "cafe_options_table.sample(5,with_replacement = False).with_columns('Day of Week',weekday)"
   ]
  },
  {
   "cell_type": "markdown",
   "id": "bbc5a26d",
   "metadata": {},
   "source": [
    "# Appending Arrays"
   ]
  },
  {
   "cell_type": "code",
   "execution_count": null,
   "id": "cbe47a61",
   "metadata": {},
   "outputs": [],
   "source": [
    "weekday"
   ]
  },
  {
   "cell_type": "code",
   "execution_count": null,
   "id": "0d1a3c96",
   "metadata": {},
   "outputs": [],
   "source": [
    "add_saturday = np.append(weekday,'Saturday')\n",
    "add_saturday"
   ]
  },
  {
   "cell_type": "code",
   "execution_count": null,
   "id": "2e71b7a9",
   "metadata": {},
   "outputs": [],
   "source": [
    "weekend = make_array('Saturday','Sunday')"
   ]
  },
  {
   "cell_type": "code",
   "execution_count": null,
   "id": "829c1210",
   "metadata": {},
   "outputs": [],
   "source": [
    "full_week = np.append(weekday,weekend)"
   ]
  },
  {
   "cell_type": "code",
   "execution_count": null,
   "id": "570d36b2",
   "metadata": {},
   "outputs": [],
   "source": [
    "full_week"
   ]
  }
 ],
 "metadata": {
  "kernelspec": {
   "display_name": "Python 3 (ipykernel)",
   "language": "python",
   "name": "python3"
  },
  "language_info": {
   "codemirror_mode": {
    "name": "ipython",
    "version": 3
   },
   "file_extension": ".py",
   "mimetype": "text/x-python",
   "name": "python",
   "nbconvert_exporter": "python",
   "pygments_lexer": "ipython3",
   "version": "3.10.11"
  }
 },
 "nbformat": 4,
 "nbformat_minor": 5
}
