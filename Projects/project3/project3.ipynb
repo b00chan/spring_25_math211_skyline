{
 "cells": [
  {
   "cell_type": "code",
   "execution_count": null,
   "id": "45a98181",
   "metadata": {
    "deletable": false,
    "editable": false
   },
   "outputs": [],
   "source": [
    "# Initialize Otter\n",
    "import otter\n",
    "grader = otter.Notebook(\"project3.ipynb\")"
   ]
  },
  {
   "cell_type": "markdown",
   "id": "34617f77",
   "metadata": {},
   "source": [
    "# Project 3: Movie Classification\n",
    "\n",
    "Welcome to the third project of Data 8! You will build a classification model that guesses whether a movie is a comedy or a thriller by using only the number of times chosen words appear in the movie's screenplay. By the end of the project, you should know how to:\n",
    "\n",
    "1. Build a k-nearest-neighbors classifier.\n",
    "2. Test a classifier on data."
   ]
  },
  {
   "cell_type": "markdown",
   "id": "a36767a2",
   "metadata": {},
   "source": [
    "### Logistics\n",
    "\n",
    "**Rules.** Don't share your code with anybody but your partner, if you have one. You are welcome to discuss questions with other students, but don't share the answers. The experience of solving the problems in this project will prepare you for exams (and life). If someone asks you for the answer, resist! Instead, you can demonstrate how you would solve a similar problem.\n",
    "\n",
    "**Support.** You are not alone! Come to office hours and talk to your classmates. If you're ever feeling overwhelmed or don't know how to make progress, email for help.\n",
    "\n",
    "**Tests.** The tests that are given are **not comprehensive** and passing the tests for a question **does not** mean that you answered the question correctly. Tests usually only check that your table has the correct column labels. However, more tests will be applied to verify the correctness of your submission in order to assign your final score, so be careful and check your work! You might want to create your own checks along the way to see if your answers make sense. Additionally, before you submit, make sure that none of your cells take a very long time to run (several minutes).\n",
    "\n",
    "**Free Response Questions.** Make sure that you put the answers to the written questions in the indicated cell we provide. **Every free response question should include an explanation** that adequately answers the question. Your written work will be uploaded to Gradescope automatically after the project deadline; there is no action required on your part for this. \n",
    "\n",
    "**Advice.** Develop your answers incrementally. To perform a complicated task, break it up into steps, perform each step on a different line, give a new name to each result, and check that each intermediate result is what you expect. You can add any additional names or functions you want to the provided cells. Make sure that you are using distinct and meaningful variable names throughout the notebook. Along that line, **DO NOT** reuse the variable names that we use when we grade your answers. \n",
    "\n",
    "You **never** have to use just one line in this project or any others. Use intermediate variables and multiple lines as much as you would like!\n",
    "\n",
    "All of the concepts necessary for this project are found in the textbook. If you are stuck on a particular problem, reading through the relevant textbook section often will help clarify the concept.\n",
    "\n",
    "\n",
    "---\n",
    "\n",
    "To get started, load `datascience`, `numpy`, `plots`, and `d8error`. Make sure to also run the first cell of this notebook to load `otter`."
   ]
  },
  {
   "cell_type": "code",
   "execution_count": 1,
   "id": "ffaf3bcd",
   "metadata": {
    "execution": {
     "iopub.execute_input": "2022-04-16T06:01:56.045203Z",
     "iopub.status.busy": "2022-04-16T06:01:56.044513Z",
     "iopub.status.idle": "2022-04-16T06:01:57.535906Z",
     "shell.execute_reply": "2022-04-16T06:01:57.535091Z"
    },
    "scrolled": true
   },
   "outputs": [],
   "source": [
    "# Run this cell to set up the notebook, but please don't change it.\n",
    "import numpy as np\n",
    "import math\n",
    "import datascience\n",
    "from datascience import *\n",
    "\n",
    "# These lines set up the plotting functionality and formatting.\n",
    "import matplotlib\n",
    "%matplotlib inline\n",
    "import matplotlib.pyplot as plots\n",
    "plots.style.use('fivethirtyeight')\n",
    "import warnings\n",
    "warnings.simplefilter(\"ignore\")\n",
    "\n",
    "import d8error"
   ]
  },
  {
   "cell_type": "markdown",
   "id": "f789b107",
   "metadata": {},
   "source": [
    "# Part 1: The Dataset\n",
    "\n",
    "In this project, we are exploring movie screenplays. We'll be trying to predict each movie's genre from the text of its screenplay. In particular, we have compiled a list of 5,000 words that occur in conversations between movie characters. For each movie, our dataset tells us the frequency with which each of these words occurs in certain conversations in its screenplay. All words have been converted to lowercase.\n",
    "\n",
    "Run the cell below to read the `movies` table. **It may take up to a minute to load.**"
   ]
  },
  {
   "cell_type": "code",
   "execution_count": 2,
   "id": "2d3710a8",
   "metadata": {
    "execution": {
     "iopub.execute_input": "2022-04-16T06:01:57.540057Z",
     "iopub.status.busy": "2022-04-16T06:01:57.539504Z",
     "iopub.status.idle": "2022-04-16T06:01:59.114357Z",
     "shell.execute_reply": "2022-04-16T06:01:59.113501Z"
    }
   },
   "outputs": [],
   "source": [
    "movies = Table.read_table('movies.csv')"
   ]
  },
  {
   "cell_type": "markdown",
   "id": "e6295243",
   "metadata": {},
   "source": [
    "Here is one row of the table and some of the frequencies of words that were said in the movie."
   ]
  },
  {
   "cell_type": "code",
   "execution_count": null,
   "id": "c6204a50",
   "metadata": {
    "execution": {
     "iopub.execute_input": "2022-04-16T06:01:59.118029Z",
     "iopub.status.busy": "2022-04-16T06:01:59.117760Z",
     "iopub.status.idle": "2022-04-16T06:01:59.153370Z",
     "shell.execute_reply": "2022-04-16T06:01:59.152576Z"
    }
   },
   "outputs": [],
   "source": [
    "movies.where(\"Title\", \"runaway bride\").select(0, 1, 2, 3, 4, 14, 49, 1042, 4004)"
   ]
  },
  {
   "cell_type": "markdown",
   "id": "61f26870",
   "metadata": {},
   "source": [
    "The above cell prints a few columns of the row for the comedy movie *Runaway Bride*.  The movie contains 4895 words. The word \"it\" appears 115 times, as it makes up  $\\frac{115}{4895} \\approx 0.0234092$ of the words in the movie. The word \"england\" doesn't appear at all.\n",
    "\n",
    "Additional context: This numerical representation of a body of text, one that describes only the frequencies of individual words, is called a bag-of-words representation. This is a model that is often used in [NLP](https://en.wikipedia.org/wiki/Natural_language_processing). A lot of information is discarded in this representation: the order of the words, the context of each word, who said what, the cast of characters and actors, etc. However, a bag-of-words representation is often used for machine learning applications as a reasonable starting point, because a great deal of information is also retained and expressed in a convenient and compact format. \n",
    "\n",
    "In this project, we will investigate whether this representation is sufficient to build an accurate genre classifier."
   ]
  },
  {
   "cell_type": "markdown",
   "id": "6e0033d6",
   "metadata": {},
   "source": [
    "All movie titles are unique. The `row_for_title` function provides fast access to the one row for each title. \n",
    "\n",
    "*Note: All movies in our dataset have their titles lower-cased.* "
   ]
  },
  {
   "cell_type": "code",
   "execution_count": null,
   "id": "b4edbf6c",
   "metadata": {
    "execution": {
     "iopub.execute_input": "2022-04-16T06:01:59.156795Z",
     "iopub.status.busy": "2022-04-16T06:01:59.156554Z",
     "iopub.status.idle": "2022-04-16T06:02:01.299062Z",
     "shell.execute_reply": "2022-04-16T06:02:01.298333Z"
    }
   },
   "outputs": [],
   "source": [
    "title_index = movies.index_by('Title')\n",
    "def row_for_title(title):\n",
    "    \"\"\"Return the row for a title, similar to the following expression (but faster)\n",
    "    \n",
    "    movies.where('Title', title).row(0)\n",
    "    \"\"\"\n",
    "    return title_index.get(title)[0]\n",
    "\n",
    "row_for_title('toy story')"
   ]
  },
  {
   "cell_type": "markdown",
   "id": "4fee8f16",
   "metadata": {},
   "source": [
    "For example, the fastest way to find the frequency of \"fun\" in the movie *Toy Story* is to access the `'fun'` item from its row. Check the original table to see if this worked for you!"
   ]
  },
  {
   "cell_type": "code",
   "execution_count": null,
   "id": "0923bbd0",
   "metadata": {
    "execution": {
     "iopub.execute_input": "2022-04-16T06:02:01.304108Z",
     "iopub.status.busy": "2022-04-16T06:02:01.303726Z",
     "iopub.status.idle": "2022-04-16T06:02:01.310030Z",
     "shell.execute_reply": "2022-04-16T06:02:01.309297Z"
    }
   },
   "outputs": [],
   "source": [
    "row_for_title('toy story').item('fun') "
   ]
  },
  {
   "cell_type": "markdown",
   "id": "9bbdc4c3",
   "metadata": {},
   "source": [
    "#### Question 1.0\n",
    "Set `expected_row_sum` to the number that you __expect__ will result from summing all proportions in each row, excluding the first five columns. Think about what any one row adds up to.\n"
   ]
  },
  {
   "cell_type": "code",
   "execution_count": 6,
   "id": "40383102",
   "metadata": {
    "deletable": false,
    "execution": {
     "iopub.execute_input": "2022-04-16T06:02:01.313346Z",
     "iopub.status.busy": "2022-04-16T06:02:01.313138Z",
     "iopub.status.idle": "2022-04-16T06:02:01.316218Z",
     "shell.execute_reply": "2022-04-16T06:02:01.315560Z"
    },
    "tags": [
     "otter_assign_solution_cell"
    ]
   },
   "outputs": [],
   "source": [
    "# Set row_sum to a number that's the (approximate) sum of each row of word proportions.\n",
    "expected_row_sum = ..."
   ]
  },
  {
   "cell_type": "code",
   "execution_count": null,
   "id": "7389b83f",
   "metadata": {
    "deletable": false,
    "editable": false
   },
   "outputs": [],
   "source": [
    "grader.check(\"q1_0\")"
   ]
  },
  {
   "cell_type": "markdown",
   "id": "ef8750bb",
   "metadata": {},
   "source": [
    "This dataset was extracted from [a dataset from Cornell University](http://www.cs.cornell.edu/~cristian/Cornell_Movie-Dialogs_Corpus.html). After transforming the dataset (e.g., converting the words to lowercase, removing the naughty words, and converting the counts to frequencies), we created this new dataset containing the frequency of 5000 common words in each movie."
   ]
  },
  {
   "cell_type": "code",
   "execution_count": null,
   "id": "f6c16a57",
   "metadata": {
    "execution": {
     "iopub.execute_input": "2022-04-16T06:02:01.335163Z",
     "iopub.status.busy": "2022-04-16T06:02:01.334539Z",
     "iopub.status.idle": "2022-04-16T06:02:02.894838Z",
     "shell.execute_reply": "2022-04-16T06:02:02.893841Z"
    }
   },
   "outputs": [],
   "source": [
    "print('Words with frequencies:', movies.drop(np.arange(5)).num_columns) \n",
    "print('Movies with genres:', movies.num_rows)"
   ]
  },
  {
   "cell_type": "markdown",
   "id": "f9e1dfd3",
   "metadata": {},
   "source": [
    "## 1.1. Word Stemming\n",
    "The columns other than \"Title\", \"Year\", \"Rating\", \"Genre\", and \"# Words\" in the `movies` table are all words that appear in some of the movies in our dataset.  These words have been *stemmed*, or abbreviated heuristically, in an attempt to make different [inflected](https://en.wikipedia.org/wiki/Inflection) forms of the same base word into the same string.  For example, the column \"manag\" is the sum of proportions of the words \"manage\", \"manager\", \"managed\", and \"managerial\" (and perhaps others) in each movie. This is a common technique used in machine learning and natural language processing.\n",
    "\n",
    "Stemming makes it a little tricky to search for the words you want to use, so we have provided another table called `vocab_table` that will let you see examples of unstemmed versions of each stemmed word. Run the code below to load it.\n",
    "\n",
    "**Note:** You should use `vocab_table` for the rest of Section 1.1, not `vocab_mapping`. "
   ]
  },
  {
   "cell_type": "code",
   "execution_count": null,
   "id": "98b41179",
   "metadata": {
    "execution": {
     "iopub.execute_input": "2022-04-16T06:02:02.898617Z",
     "iopub.status.busy": "2022-04-16T06:02:02.898278Z",
     "iopub.status.idle": "2022-04-16T06:02:04.509578Z",
     "shell.execute_reply": "2022-04-16T06:02:04.508890Z"
    }
   },
   "outputs": [],
   "source": [
    "# Just run this cell.\n",
    "vocab_mapping = Table.read_table('stem.csv')\n",
    "stemmed = np.take(movies.labels, np.arange(3, len(movies.labels)))\n",
    "vocab_table = Table().with_column('Stem', stemmed).join('Stem', vocab_mapping)\n",
    "vocab_table.take(np.arange(1100, 1110))"
   ]
  },
  {
   "cell_type": "markdown",
   "id": "bdcee24b",
   "metadata": {},
   "source": [
    "#### Question 1.1.1\n",
    "Using `vocab_table`, find the stemmed version of the word \"elements\" and assign the value to `stemmed_message`.\n"
   ]
  },
  {
   "cell_type": "code",
   "execution_count": null,
   "id": "02b99b0a",
   "metadata": {
    "execution": {
     "iopub.execute_input": "2022-04-16T06:02:04.512744Z",
     "iopub.status.busy": "2022-04-16T06:02:04.512513Z",
     "iopub.status.idle": "2022-04-16T06:02:04.550718Z",
     "shell.execute_reply": "2022-04-16T06:02:04.539367Z"
    },
    "tags": [
     "otter_assign_solution_cell"
    ]
   },
   "outputs": [],
   "source": [
    "stemmed_message = ...\n",
    "stemmed_message"
   ]
  },
  {
   "cell_type": "code",
   "execution_count": null,
   "id": "87bc15ae",
   "metadata": {
    "deletable": false,
    "editable": false
   },
   "outputs": [],
   "source": [
    "grader.check(\"q1_1_1\")"
   ]
  },
  {
   "cell_type": "markdown",
   "id": "11b0ea1a",
   "metadata": {},
   "source": [
    "#### Question 1.1.2\n",
    "What stem in the dataset has the most words that are shortened to it? Assign `most_stem` to that stem. \n"
   ]
  },
  {
   "cell_type": "code",
   "execution_count": null,
   "id": "b172ff21",
   "metadata": {
    "execution": {
     "iopub.execute_input": "2022-04-16T06:02:04.587233Z",
     "iopub.status.busy": "2022-04-16T06:02:04.586949Z",
     "iopub.status.idle": "2022-04-16T06:02:04.967683Z",
     "shell.execute_reply": "2022-04-16T06:02:04.966795Z"
    },
    "tags": [
     "otter_assign_solution_cell"
    ]
   },
   "outputs": [],
   "source": [
    "most_stem = ...\n",
    "most_stem"
   ]
  },
  {
   "cell_type": "code",
   "execution_count": null,
   "id": "5c7a5463",
   "metadata": {
    "deletable": false,
    "editable": false
   },
   "outputs": [],
   "source": [
    "grader.check(\"q1_1_2\")"
   ]
  },
  {
   "cell_type": "markdown",
   "id": "2b0059a0",
   "metadata": {},
   "source": [
    "#### Question 1.1.3\n",
    "What is the longest word in the dataset whose stem wasn't shortened? Assign that to `longest_uncut`. Break ties alphabetically from Z to A (so if your options are \"cat\" or \"bat\", you should pick \"cat\"). Note that when sorting letters, the letter `a` is smaller than the letter `z`.\n",
    "\n",
    "*Hint 1:* `vocab_table` has 2 columns: one for stems and one for the unstemmed (normal) word. Find the longest word that wasn't cut at all (same length as stem).\n",
    "\n",
    "*Hint 2:* There is a table function that allows you to compute a function on every element in a column. Check [Python Reference](http://data8.org/sp22/python-reference.html) if you aren't sure which one.\n",
    "\n",
    "*Hint 3:* Check the comments in the cell below if you are stuck.\n"
   ]
  },
  {
   "cell_type": "code",
   "execution_count": null,
   "id": "c0b47d33",
   "metadata": {
    "execution": {
     "iopub.execute_input": "2022-04-16T06:02:04.993088Z",
     "iopub.status.busy": "2022-04-16T06:02:04.992847Z",
     "iopub.status.idle": "2022-04-16T06:02:05.088282Z",
     "shell.execute_reply": "2022-04-16T06:02:05.087279Z"
    },
    "for_assignment_type": "student",
    "tags": [
     "otter_assign_solution_cell"
    ]
   },
   "outputs": [],
   "source": [
    "# In our solution, we found it useful to first add columns with\n",
    "# the length of the word and the length of the stem,\n",
    "# and then to add a column with the difference between those lengths.\n",
    "# What will the difference be if the word is not shortened?\n",
    "\n",
    "tbl_with_lens = ...\n",
    "tbl_with_diff = ...\n",
    "\n",
    "longest_uncut = ...\n",
    "longest_uncut"
   ]
  },
  {
   "cell_type": "code",
   "execution_count": null,
   "id": "0fa2128d",
   "metadata": {
    "deletable": false,
    "editable": false
   },
   "outputs": [],
   "source": [
    "grader.check(\"q1_1_3\")"
   ]
  },
  {
   "cell_type": "markdown",
   "id": "721cd71f",
   "metadata": {},
   "source": [
    "#### Question 1.1.4\n",
    "How many stems have only one word that is shortened to them? For example, if the stem \"book\" only maps to the word \"books\" and if the stem \"a\" only maps to the word \"a,\" both should be counted as stems that map only to a single word.\n",
    "\n",
    "Assign `count_single_stems` to the count of stems that map to one word only. \n"
   ]
  },
  {
   "cell_type": "code",
   "execution_count": null,
   "id": "3ec7db73",
   "metadata": {
    "execution": {
     "iopub.execute_input": "2022-04-16T06:02:05.112122Z",
     "iopub.status.busy": "2022-04-16T06:02:05.111816Z",
     "iopub.status.idle": "2022-04-16T06:02:05.507597Z",
     "shell.execute_reply": "2022-04-16T06:02:05.506868Z"
    },
    "tags": [
     "otter_assign_solution_cell"
    ]
   },
   "outputs": [],
   "source": [
    "count_single_stems = ...\n",
    "count_single_stems"
   ]
  },
  {
   "cell_type": "code",
   "execution_count": null,
   "id": "80c92ceb",
   "metadata": {
    "deletable": false,
    "editable": false
   },
   "outputs": [],
   "source": [
    "grader.check(\"q1_1_4\")"
   ]
  },
  {
   "cell_type": "markdown",
   "id": "ad854055",
   "metadata": {},
   "source": [
    "## 1.2. Exploratory Data Analysis: Linear Regression"
   ]
  },
  {
   "cell_type": "markdown",
   "id": "b160243e",
   "metadata": {},
   "source": [
    "Let's explore our dataset before trying to build a classifier. To start, we’ll use the associated proportions to investigate the relationship between different words.\n",
    "\n",
    "The first association we'll investigate is the association between the proportion of words that are \"outer\" and the proportion of words that are \"space\". \n",
    "\n",
    "As usual, we'll investigate our data visually before performing any numerical analysis.\n",
    "\n",
    "Run the cell below to plot a scatter diagram of \"space\" proportions vs \"outer\" proportions and to create the `outer_space` table. Each point on the scatter plot represents one movie."
   ]
  },
  {
   "cell_type": "code",
   "execution_count": null,
   "id": "b7b2f930",
   "metadata": {
    "execution": {
     "iopub.execute_input": "2022-04-16T06:02:05.528931Z",
     "iopub.status.busy": "2022-04-16T06:02:05.528351Z",
     "iopub.status.idle": "2022-04-16T06:02:05.809857Z",
     "shell.execute_reply": "2022-04-16T06:02:05.808590Z"
    }
   },
   "outputs": [],
   "source": [
    "# Just run this cell!\n",
    "outer_space = movies.select(\"outer\", \"space\")\n",
    "outer_space.scatter(\"outer\", \"space\")\n",
    "plots.axis([-0.0005, 0.001, -0.0005, 0.003]);\n",
    "plots.xticks(rotation=45);"
   ]
  },
  {
   "cell_type": "markdown",
   "id": "74c962b3",
   "metadata": {},
   "source": [
    "#### Question 1.2.1\n",
    "Looking at that chart it is difficult to see if there is an association. Calculate the correlation coefficient for the potential linear association between proportion of words that are \"outer\" and the proportion of words that are \"space\" for every movie in the dataset, and assign it to `outer_space_r`. \n",
    "\n",
    "*Hint:* If you need a refresher on how to calculate the correlation coefficient check out [Ch 15.1](https://inferentialthinking.com/chapters/15/1/Correlation.html#calculating-r)."
   ]
  },
  {
   "cell_type": "code",
   "execution_count": null,
   "id": "151e8a8e",
   "metadata": {
    "execution": {
     "iopub.execute_input": "2022-04-16T06:02:05.813966Z",
     "iopub.status.busy": "2022-04-16T06:02:05.813282Z",
     "iopub.status.idle": "2022-04-16T06:02:05.822390Z",
     "shell.execute_reply": "2022-04-16T06:02:05.821490Z"
    },
    "tags": [
     "otter_assign_solution_cell"
    ]
   },
   "outputs": [],
   "source": [
    "# These two arrays should make your code cleaner!\n",
    "outer = movies.column(\"outer\")\n",
    "space = movies.column(\"space\")\n",
    "\n",
    "outer_su = ...\n",
    "space_su = ...\n",
    "\n",
    "outer_space_r = ...\n",
    "outer_space_r"
   ]
  },
  {
   "cell_type": "code",
   "execution_count": null,
   "id": "02e523c6",
   "metadata": {
    "deletable": false,
    "editable": false
   },
   "outputs": [],
   "source": [
    "grader.check(\"q1_2_1\")"
   ]
  },
  {
   "cell_type": "markdown",
   "id": "90379c0c",
   "metadata": {},
   "source": [
    "<!-- BEGIN QUESTION -->\n",
    "\n",
    "#### Question 1.2.2\n",
    "Choose two *different* words in the dataset with a magnitude (absolute value) of correlation higher than 0.2 and plot a scatter plot with a line of best fit for them. Please do not pick \"outer\" and \"space\" or \"san\" and \"francisco\". The code to plot the scatter plot and line of best fit is given for you, you just need to calculate the correct values to `r`, `slope` and `intercept`. \n",
    "\n",
    "*Hint 1:* It's easier to think of words with a positive correlation, i.e. words that are often mentioned together*. Try to think of common phrases or idioms.\n",
    "\n",
    "*Hint 2:* Refer to [Section 15.2](https://inferentialthinking.com/chapters/15/2/Regression_Line.html#units-of-measurement-of-the-slope) of the textbook for the formulas. \n"
   ]
  },
  {
   "cell_type": "code",
   "execution_count": null,
   "id": "7eb11c48",
   "metadata": {
    "execution": {
     "iopub.execute_input": "2022-04-16T06:02:05.843183Z",
     "iopub.status.busy": "2022-04-16T06:02:05.842899Z",
     "iopub.status.idle": "2022-04-16T06:02:06.182758Z",
     "shell.execute_reply": "2022-04-16T06:02:06.182099Z"
    },
    "tags": [
     "otter_assign_solution_cell"
    ]
   },
   "outputs": [],
   "source": [
    "word_x = ...\n",
    "word_y = ...\n",
    "\n",
    "# These arrays should make your code cleaner!\n",
    "arr_x = movies.column(word_x)\n",
    "arr_y = movies.column(word_y)\n",
    "\n",
    "x_su = ...\n",
    "y_su = ...\n",
    "\n",
    "r = ...\n",
    "\n",
    "slope = ...\n",
    "intercept = ...\n",
    "\n",
    "# DON'T CHANGE THESE LINES OF CODE\n",
    "movies.scatter(word_x, word_y)\n",
    "max_x = max(movies.column(word_x))\n",
    "plots.title(f\"Correlation: {r}, magnitude greater than .2: {abs(r) >= 0.2}\")\n",
    "plots.plot([0, max_x * 1.3], [intercept, intercept + slope * (max_x*1.3)], color='gold');"
   ]
  },
  {
   "cell_type": "markdown",
   "id": "06279e53",
   "metadata": {},
   "source": [
    "<!-- END QUESTION -->\n",
    "\n",
    "#### Question 1.2.3\n",
    "Imagine that you picked the words \"san\" and \"francisco\" as the two words that you would expect to be correlated because they compose the city name San Francisco. Assign `san_francisco` to either the number 1 or the number 2 according to which statement is true regarding the correlation between \"san\" and \"francisco.\" \n",
    "\n",
    "1. \"san\" can also preceed other city names like San Diego and San Jose. This might lead to \"san\" appearing in movies without \"francisco,\" and would reduce the correlation between \"san\" and \"francisco.\"\n",
    "2. \"san\" can also preceed other city names like San Diego and San Jose. The fact that \"san\" could appear more often in front of different cities and without \"francisco\" would increase the correlation between \"san\" and \"francisco.\" \n"
   ]
  },
  {
   "cell_type": "code",
   "execution_count": 29,
   "id": "c9e53670",
   "metadata": {
    "execution": {
     "iopub.execute_input": "2022-04-16T06:02:06.186740Z",
     "iopub.status.busy": "2022-04-16T06:02:06.186514Z",
     "iopub.status.idle": "2022-04-16T06:02:06.190152Z",
     "shell.execute_reply": "2022-04-16T06:02:06.189484Z"
    },
    "tags": [
     "otter_assign_solution_cell"
    ]
   },
   "outputs": [],
   "source": [
    "san_francisco = ..."
   ]
  },
  {
   "cell_type": "code",
   "execution_count": null,
   "id": "a00d5dba",
   "metadata": {
    "deletable": false,
    "editable": false
   },
   "outputs": [],
   "source": [
    "grader.check(\"q1_2_3\")"
   ]
  },
  {
   "cell_type": "markdown",
   "id": "25948f86",
   "metadata": {},
   "source": [
    "## 1.3. Splitting the dataset\n",
    "Now, we're going to use our `movies` dataset for two purposes.\n",
    "\n",
    "1. First, we want to *train* movie genre classifiers.\n",
    "2. Second, we want to *test* the performance of our classifiers. \n",
    "\n",
    "Hence, we need two different datasets: *training* and *test*. \n",
    "\n",
    "The purpose of a classifier is to classify unseen data that is similar to the training data. The test dataset will help us determine the accuracy of our predictions by comparing the actual genres of the movies with the genres that our classifier predicts. Therefore, we must ensure that there are no movies that appear in both sets. We do so by splitting the dataset randomly. The dataset has already been permuted randomly, so it's easy to split.  We just take the first 85% of the dataset for training and the rest for test. \n",
    "\n",
    "Run the code below (without changing it) to separate the datasets into two tables."
   ]
  },
  {
   "cell_type": "code",
   "execution_count": null,
   "id": "1be7f633",
   "metadata": {
    "execution": {
     "iopub.execute_input": "2022-04-16T06:02:06.210560Z",
     "iopub.status.busy": "2022-04-16T06:02:06.210363Z",
     "iopub.status.idle": "2022-04-16T06:02:06.281834Z",
     "shell.execute_reply": "2022-04-16T06:02:06.280969Z"
    }
   },
   "outputs": [],
   "source": [
    "# Here we have defined the proportion of our data\n",
    "# that we want to designate for training as 17/20ths\n",
    "# of our total dataset.  3/20ths of the data is\n",
    "# reserved for testing.\n",
    "\n",
    "training_proportion = 17/20\n",
    "\n",
    "num_movies = movies.num_rows\n",
    "num_train = int(num_movies * training_proportion)\n",
    "num_test = num_movies - num_train\n",
    "\n",
    "train_movies = movies.take(np.arange(num_train))\n",
    "test_movies = movies.take(np.arange(num_train, num_movies))\n",
    "\n",
    "print(\"Training: \",   train_movies.num_rows, \";\",\n",
    "      \"Test: \",       test_movies.num_rows)"
   ]
  },
  {
   "cell_type": "markdown",
   "id": "81f360fd",
   "metadata": {},
   "source": [
    "<!-- BEGIN QUESTION -->\n",
    "\n",
    "#### Question 1.3.1\n",
    "Draw a horizontal bar chart with two bars that show the proportion of Comedy movies in each dataset (`train_movies` and `test_movies`). The two bars should be labeled \"Training\" and \"Test\". Complete the function `comedy_proportion` first; it should help you create the bar chart. \n",
    "\n",
    "*Hint*: Refer to [Section 7.1](https://inferentialthinking.com/chapters/07/1/Visualizing_Categorical_Distributions.html#bar-chart) of the textbook if you need a refresher on bar charts.\n"
   ]
  },
  {
   "cell_type": "code",
   "execution_count": null,
   "id": "0d28ed07",
   "metadata": {
    "execution": {
     "iopub.execute_input": "2022-04-16T06:02:06.285955Z",
     "iopub.status.busy": "2022-04-16T06:02:06.285732Z",
     "iopub.status.idle": "2022-04-16T06:02:06.538309Z",
     "shell.execute_reply": "2022-04-16T06:02:06.537435Z"
    },
    "for_assignment_type": "solution",
    "tags": [
     "otter_assign_solution_cell"
    ]
   },
   "outputs": [],
   "source": [
    "def comedy_proportion(table):\n",
    "    # Return the proportion of movies in a table that have the comedy genre.\n",
    "    ...\n",
    "    return ...\n",
    "\n",
    "# The staff solution took multiple lines.  Start by creating a table.\n",
    "# If you get stuck, think about what sort of table you need for barh to work\n",
    "..."
   ]
  },
  {
   "cell_type": "markdown",
   "id": "3b043ec5",
   "metadata": {},
   "source": [
    "<!-- END QUESTION -->\n",
    "\n",
    "# Part 2: K-Nearest Neighbors - A Guided Example\n",
    "\n",
    "[K-Nearest Neighbors (k-NN)](https://inferentialthinking.com/chapters/17/1/Nearest_Neighbors.html) is a classification algorithm.  Given some numerical *attributes* (also called *features*) of an unseen example, it decides which category that example belongs to based on its similarity to previously seen examples. Predicting the category of an example is called *labeling*, and the predicted category is also called a *label*.\n",
    "\n",
    "An attribute (feature) we have about each movie is *the proportion of times a particular word appears in the movie*, and the labels are two movie genres: comedy and thriller.  The algorithm requires many previously seen examples for which both the attributes and labels are known: that's the `train_movies` table.\n",
    "\n",
    "To build understanding, we're going to visualize the algorithm instead of just describing it."
   ]
  },
  {
   "cell_type": "markdown",
   "id": "e6b53166",
   "metadata": {},
   "source": [
    "## 2.1. Classifying a movie\n",
    "\n",
    "In k-NN, we classify a movie by finding the `k` movies in the *training set* that are most similar according to the features we choose. We call those movies with similar features the *nearest neighbors*.  The k-NN algorithm assigns the movie to the most common category among its `k` nearest neighbors.\n",
    "\n",
    "Let's limit ourselves to just 2 features for now, so we can plot each movie.  The features we will use are the proportions of the words \"water\" and \"feel\" in the movie.  Taking the movie *Monty Python and the Holy Grail* (in the test set), 0.000804074 of its words are \"water\" and 0.0010721 are \"feel\". This movie appears in the test set, so let's imagine that we don't yet know its genre.\n",
    "\n",
    "First, we need to make our notion of similarity more precise.  We will say that the *distance* between two movies is the straight-line distance between them when we plot their features on a scatter diagram. \n",
    "\n",
    "**This distance is called the Euclidean (\"yoo-KLID-ee-un\") distance, whose formula is $\\sqrt{(x_1 - x_2)^2 + (y_1 - y_2)^2}$.**\n",
    "\n",
    "For example, in the movie *Clerks.* (in the training set), 0.00016293 of all the words in the movie are \"water\" and 0.00154786 are \"feel\".  Its distance from *Monty Python and the Holy Grail* on this 2-word feature set is $\\sqrt{(0.000804074 - 0.000162933)^2 + (0.0010721 - 0.00154786)^2} \\approx 0.000798379$.  (If we included more or different features, the distance could be different.)\n",
    "\n",
    "A third movie, *The Godfather* (in the training set), has 0 \"water\" and 0.00015122 \"feel\". \n",
    "\n",
    "The function below creates a plot to display the \"water\" and \"feel\" features of a test movie and some training movies. As you can see in the result, *Monty Python and the Holy Grail* is more similar to *Clerks.* than to the *The Godfather* based on these features, which makes sense as both movies are comedy movies, while *The Godfather* is a thriller."
   ]
  },
  {
   "cell_type": "code",
   "execution_count": null,
   "id": "5b91d749",
   "metadata": {
    "execution": {
     "iopub.execute_input": "2022-04-16T06:02:06.542334Z",
     "iopub.status.busy": "2022-04-16T06:02:06.542105Z",
     "iopub.status.idle": "2022-04-16T06:02:07.026536Z",
     "shell.execute_reply": "2022-04-16T06:02:07.025632Z"
    }
   },
   "outputs": [],
   "source": [
    "# Just run this cell.\n",
    "def plot_with_two_features(test_movie, training_movies, x_feature, y_feature):\n",
    "    \"\"\"Plot a test movie and training movies using two features.\"\"\"\n",
    "    test_row = row_for_title(test_movie)\n",
    "    distances = Table().with_columns(\n",
    "            x_feature, [test_row.item(x_feature)],\n",
    "            y_feature, [test_row.item(y_feature)],\n",
    "            'Color',   ['unknown'],\n",
    "            'Title',   [test_movie]\n",
    "        )\n",
    "    for movie in training_movies:\n",
    "        row = row_for_title(movie)\n",
    "        distances.append([row.item(x_feature), row.item(y_feature), row.item('Genre'), movie])\n",
    "    distances.scatter(x_feature, y_feature, group='Color', labels='Title', s=50)\n",
    "    \n",
    "training = [\"clerks.\", \"the godfather\"] \n",
    "plot_with_two_features(\"monty python and the holy grail\", training, \"water\", \"feel\")\n",
    "plots.axis([-0.0008, 0.001, -0.004, 0.007]);"
   ]
  },
  {
   "cell_type": "markdown",
   "id": "94471f55",
   "metadata": {},
   "source": [
    "#### Question 2.1.1\n",
    "\n",
    "Compute the Euclidean distance (defined in the section above) between the two movies, *Monty Python and the Holy Grail* and *The Godfather*, using the `water` and `feel` features only.  Assign it the name `one_distance`. \n",
    "\n",
    "*Hint 1:* If you have a row, you can use `item` to get a value from a column by its name.  For example, if `r` is a row, then `r.item(\"Genre\")` is the value in column `\"Genre\"` in row `r`.\n",
    "\n",
    "*Hint 2:* Refer to the beginning of Part 1 if you don't remember what `row_for_title` does.\n",
    "\n",
    "*Hint 3:* In the formula for Euclidean distance, think carefully about what `x` and `y` represent. Refer to the example in the text above if you are unsure.\n"
   ]
  },
  {
   "cell_type": "code",
   "execution_count": null,
   "id": "14c7241e",
   "metadata": {
    "deletable": false,
    "execution": {
     "iopub.execute_input": "2022-04-16T06:02:07.030543Z",
     "iopub.status.busy": "2022-04-16T06:02:07.030207Z",
     "iopub.status.idle": "2022-04-16T06:02:07.041776Z",
     "shell.execute_reply": "2022-04-16T06:02:07.040857Z"
    },
    "tags": [
     "otter_assign_solution_cell"
    ]
   },
   "outputs": [],
   "source": [
    "python = row_for_title(\"monty python and the holy grail\") \n",
    "godfather = row_for_title(\"the godfather\") \n",
    "\n",
    "one_distance = ...\n",
    "one_distance"
   ]
  },
  {
   "cell_type": "code",
   "execution_count": null,
   "id": "4de9aa39",
   "metadata": {
    "deletable": false,
    "editable": false
   },
   "outputs": [],
   "source": [
    "grader.check(\"q2_1_1\")"
   ]
  },
  {
   "cell_type": "markdown",
   "id": "e9dd9178",
   "metadata": {},
   "source": [
    "Below, we've added a third training movie, *The Silence of the Lambs*. Before, the point closest to *Monty Python and the Holy Grail* was *Clerks.*, a comedy movie. However, now the closest point is *The Silence of the Lambs*, a thriller movie."
   ]
  },
  {
   "cell_type": "code",
   "execution_count": null,
   "id": "d5a37480",
   "metadata": {
    "execution": {
     "iopub.execute_input": "2022-04-16T06:02:07.081610Z",
     "iopub.status.busy": "2022-04-16T06:02:07.080795Z",
     "iopub.status.idle": "2022-04-16T06:02:07.567083Z",
     "shell.execute_reply": "2022-04-16T06:02:07.566469Z"
    }
   },
   "outputs": [],
   "source": [
    "training = [\"clerks.\", \"the godfather\", \"the silence of the lambs\"] \n",
    "plot_with_two_features(\"monty python and the holy grail\", training, \"water\", \"feel\") \n",
    "plots.axis([-0.0008, 0.001, -0.004, 0.007]);"
   ]
  },
  {
   "cell_type": "markdown",
   "id": "c21c8ec0",
   "metadata": {},
   "source": [
    "#### Question 2.1.2\n",
    "Complete the function `distance_two_features` that computes the Euclidean distance between any two movies, using two features. The last two lines call your function to show that *Monty Python and the Holy Grail* is closer to *The Silence of the Lambs* than it is to *Clerks*. \n"
   ]
  },
  {
   "cell_type": "code",
   "execution_count": null,
   "id": "4946f7fc",
   "metadata": {
    "deletable": false,
    "execution": {
     "iopub.execute_input": "2022-04-16T06:02:07.571277Z",
     "iopub.status.busy": "2022-04-16T06:02:07.571061Z",
     "iopub.status.idle": "2022-04-16T06:02:07.584130Z",
     "shell.execute_reply": "2022-04-16T06:02:07.583041Z"
    },
    "tags": [
     "otter_assign_solution_cell"
    ]
   },
   "outputs": [],
   "source": [
    "def distance_two_features(title0, title1, x_feature, y_feature):\n",
    "    \"\"\"Compute the distance between two movies with titles title0 and title1.\n",
    "    \n",
    "    Only the features named x_feature and y_feature are used when computing the distance.\n",
    "    \"\"\"\n",
    "    row0 = ...\n",
    "    row1 = ...\n",
    "    return ...\n",
    "\n",
    "for movie in make_array(\"clerks.\", \"the silence of the lambs\"):\n",
    "    movie_distance = distance_two_features(movie, \"monty python and the holy grail\", \"water\", \"feel\")\n",
    "    print(movie, 'distance:\\t', movie_distance)"
   ]
  },
  {
   "cell_type": "code",
   "execution_count": null,
   "id": "7e7d90bf",
   "metadata": {
    "deletable": false,
    "editable": false
   },
   "outputs": [],
   "source": [
    "grader.check(\"q2_1_2\")"
   ]
  },
  {
   "cell_type": "markdown",
   "id": "b925bf19",
   "metadata": {},
   "source": [
    "#### Question 2.1.3\n",
    "Define the function `distance_from_python` so that it works as described in its documentation. \n",
    "\n",
    "**Note:** Your solution should not use arithmetic operations directly. Instead, it should make use of existing functionality above!\n"
   ]
  },
  {
   "cell_type": "code",
   "execution_count": null,
   "id": "073e970f",
   "metadata": {
    "deletable": false,
    "execution": {
     "iopub.execute_input": "2022-04-16T06:02:07.611267Z",
     "iopub.status.busy": "2022-04-16T06:02:07.610965Z",
     "iopub.status.idle": "2022-04-16T06:02:07.620053Z",
     "shell.execute_reply": "2022-04-16T06:02:07.619200Z"
    },
    "tags": [
     "otter_assign_solution_cell"
    ]
   },
   "outputs": [],
   "source": [
    "def distance_from_python(title):\n",
    "    \"\"\"The distance between the given movie and \"monty python and the holy grail\", \n",
    "    based on the features \"water\" and \"feel\".\n",
    "    \n",
    "    This function takes a single argument:\n",
    "      title: A string, the name of a movie.\n",
    "    \"\"\"\n",
    "    \n",
    "    return ...\n",
    "\n",
    "# Calculate the distance between \"Clerks.\" and \"Monty Python and the Holy Grail\"\n",
    "distance_from_python('clerks.')"
   ]
  },
  {
   "cell_type": "code",
   "execution_count": null,
   "id": "b459a2b9",
   "metadata": {
    "deletable": false,
    "editable": false
   },
   "outputs": [],
   "source": [
    "grader.check(\"q2_1_3\")"
   ]
  },
  {
   "cell_type": "markdown",
   "id": "5e951d19",
   "metadata": {},
   "source": [
    "#### Question 2.1.4\n",
    "\n",
    "Using the features `\"water\"` and `\"feel\"`, what are the names and genres of the 5 movies in the **training set** closest to *Monty Python and the Holy Grail*?  To answer this question, make a **table** named `close_movies` containing those 5 movies with columns `\"Title\"`, `\"Genre\"`, `\"water\"`, and `\"feel\"`, as well as a column called `\"distance from python\"` that contains the distance from *Monty Python and the Holy Grail*.  The table should be **sorted in ascending order by `\"distance from python\"`**.\n",
    "\n",
    "*Note:* Why are smaller distances from *Monty Python and the Holy Grail* more helpful in helping us classify the movie?\n",
    "\n",
    "*Hint:* Your final table should only have 5 rows. How can you get the first five rows of a table?\n",
    "\n"
   ]
  },
  {
   "cell_type": "code",
   "execution_count": 45,
   "id": "54881f50",
   "metadata": {
    "execution": {
     "iopub.execute_input": "2022-04-16T06:02:07.643669Z",
     "iopub.status.busy": "2022-04-16T06:02:07.642881Z",
     "iopub.status.idle": "2022-04-16T06:02:08.009004Z",
     "shell.execute_reply": "2022-04-16T06:02:08.008187Z"
    },
    "for_assignment_type": "solution",
    "tags": [
     "otter_assign_solution_cell"
    ]
   },
   "outputs": [],
   "source": [
    "# The staff solution took multiple lines.\n",
    "...\n",
    "close_movies = ...\n",
    "close_movies"
   ]
  },
  {
   "cell_type": "code",
   "execution_count": null,
   "id": "992a4e91",
   "metadata": {
    "deletable": false,
    "editable": false
   },
   "outputs": [],
   "source": [
    "grader.check(\"q2_1_4\")"
   ]
  },
  {
   "cell_type": "markdown",
   "id": "1799e8b6",
   "metadata": {},
   "source": [
    "#### Question 2.1.5\n",
    "Next, we'll clasify *Monty Python and the Holy Grail* based on the genres of the closest movies. \n",
    "\n",
    "To do so, define the function `most_common` so that it works as described in its documentation below. \n"
   ]
  },
  {
   "cell_type": "code",
   "execution_count": null,
   "id": "c118bf37",
   "metadata": {
    "deletable": false,
    "execution": {
     "iopub.execute_input": "2022-04-16T06:02:08.049732Z",
     "iopub.status.busy": "2022-04-16T06:02:08.049529Z",
     "iopub.status.idle": "2022-04-16T06:02:08.057259Z",
     "shell.execute_reply": "2022-04-16T06:02:08.056530Z"
    },
    "scrolled": true,
    "tags": [
     "otter_assign_solution_cell"
    ]
   },
   "outputs": [],
   "source": [
    "def most_common(label, table):\n",
    "    \"\"\"The most common element in a column of a table.\n",
    "    \n",
    "    This function takes two arguments:\n",
    "      label: The label of a column, a string.\n",
    "      table: A table.\n",
    "     \n",
    "    It returns the most common value in the label column of the table.\n",
    "    In case of a tie, it returns any one of the most common values.    \n",
    "    \"\"\"\n",
    "    return ...\n",
    "\n",
    "# Calling most_common on your table of 5 nearest neighbors classifies\n",
    "# \"monty python and the holy grail\" as a thriller movie, 3 votes to 2. \n",
    "most_common('Genre', close_movies)"
   ]
  },
  {
   "cell_type": "code",
   "execution_count": null,
   "id": "5cd1db51",
   "metadata": {
    "deletable": false,
    "editable": false
   },
   "outputs": [],
   "source": [
    "grader.check(\"q2_1_5\")"
   ]
  },
  {
   "cell_type": "markdown",
   "id": "ae7bf1bd",
   "metadata": {},
   "source": [
    "Congratulations are in order -- you've classified your first movie! However, we can see that the classifier doesn't work too well since it categorized *Monty Python and the Holy Grail* as a thriller movie (unless you count the thrilling holy hand grenade scene). Let's see if we can do better!"
   ]
  },
  {
   "cell_type": "markdown",
   "id": "78308b74",
   "metadata": {},
   "source": [
    "# Congratulations\n",
    "\n",
    "<img src=\"opo1.jpeg\" alt=\"drawing\" width=\"300\"/>\n",
    "\n",
    "Opo wants to congratulate you on reaching the checkpoint! \n",
    "\n",
    "Your instructor may want you to submit your work on Part 1 as a checkpoint to your progress.\n",
    "\n",
    "Run the cells that Opo is looking.\n",
    "\n",
    "<img src=\"opo.jpeg\" alt=\"drawing\" width=\"300\"/>\n",
    "\n"
   ]
  },
  {
   "cell_type": "code",
   "execution_count": null,
   "id": "553669be",
   "metadata": {
    "execution": {
     "iopub.execute_input": "2022-04-16T06:02:08.093618Z",
     "iopub.status.busy": "2022-04-16T06:02:08.092824Z",
     "iopub.status.idle": "2022-04-16T06:02:08.840316Z",
     "shell.execute_reply": "2022-04-16T06:02:08.839085Z"
    }
   },
   "outputs": [],
   "source": [
    "checkpoint_tests = [\"q1_0\", \"q1_1_1\",\"q1_1_2\",\"q1_1_3\",\"q1_1_4\",\"q1_2_1\",\"q1_2_3\",\n",
    "                    \"q2_1_1\",\"q2_1_2\",\"q2_1_3\",\"q2_1_4\",\"q2_1_5\"]\n",
    "for test in checkpoint_tests:\n",
    "    display(grader.check(test))"
   ]
  },
  {
   "cell_type": "markdown",
   "id": "d1ea4480",
   "metadata": {},
   "source": [
    "# Part 3: Features"
   ]
  },
  {
   "cell_type": "markdown",
   "id": "729a6de9",
   "metadata": {},
   "source": [
    "Now, we're going to extend our classifier to consider more than two features at a time.\n",
    "\n",
    "Euclidean distance still makes sense with more than two features. For `n` different features, we compute the difference between corresponding feature values for two movies, square each of the `n`  differences, sum up the resulting numbers, and take the square root of the sum."
   ]
  },
  {
   "cell_type": "markdown",
   "id": "5c2967a6",
   "metadata": {},
   "source": [
    "#### Question 3.0\n",
    "Write a function called `distance` to compute the Euclidean distance between two **arrays** of **numerical** features (e.g. arrays of the proportions of times that different words appear). The function should be able to calculate the Euclidean distance between two arrays of arbitrary (but equal) length.\n",
    "\n",
    "Next, use the function you just defined to compute the distance **between the first and second movie** in the **training set** *using all of the features*.  (Remember that the first five columns of your tables are not features.)\n",
    "\n",
    "*Hint 1:* To convert rows to arrays, use `np.array`. For example, if `t` was a table, `np.array(t.row(0))` converts row 0 of `t` into an array.\n",
    "\n",
    "*Hint 2:* Make sure to drop the first five columns of the table before you compute `distance_first_to_second`, as these columns do not contain any features (the proportions of words). \n"
   ]
  },
  {
   "cell_type": "code",
   "execution_count": null,
   "id": "887cfea7",
   "metadata": {
    "deletable": false,
    "execution": {
     "iopub.execute_input": "2022-04-16T06:02:09.005245Z",
     "iopub.status.busy": "2022-04-16T06:02:09.004354Z",
     "iopub.status.idle": "2022-04-16T06:02:11.635856Z",
     "shell.execute_reply": "2022-04-16T06:02:11.635025Z"
    },
    "tags": [
     "otter_assign_solution_cell"
    ]
   },
   "outputs": [],
   "source": [
    "def distance(features_array1, features_array2):\n",
    "    \"\"\"The Euclidean distance between two arrays of feature values.\"\"\"\n",
    "    return ...\n",
    "\n",
    "distance_first_to_second = ...\n",
    "distance_first_to_second"
   ]
  },
  {
   "cell_type": "code",
   "execution_count": null,
   "id": "f59f2b91",
   "metadata": {
    "deletable": false,
    "editable": false
   },
   "outputs": [],
   "source": [
    "grader.check(\"q3_0\")"
   ]
  },
  {
   "cell_type": "markdown",
   "id": "1b1cfada",
   "metadata": {},
   "source": [
    "## 3.1. Creating your own feature set\n",
    "\n",
    "Unfortunately, using all of the features has some downsides.  One clear downside is the lack of *computational efficiency* -- computing Euclidean distances just takes a long time when we have lots of features.  You might have noticed that in the last question!\n",
    "\n",
    "So we're going to select just 20.  We'd like to choose features that are very *discriminative*. That is, features which lead us to correctly classify as much of the test set as possible.  This process of choosing features that will make a classifier work well is sometimes called *feature selection*, or, more broadly, *feature engineering*."
   ]
  },
  {
   "cell_type": "markdown",
   "id": "b3586475",
   "metadata": {},
   "source": [
    "In this question, we will help you get started on selecting more effective features for distinguishing comedy from thriller movies. The plot below (generated for you) shows the average number of times each word occurs in a comedy movie on the horizontal axis and the average number of times it occurs in an thriller movie on the vertical axis. \n",
    "\n",
    "\n",
    "*Note: The line graphed is the line of best fit, NOT the line y=x.*"
   ]
  },
  {
   "cell_type": "markdown",
   "id": "87e12b4d",
   "metadata": {},
   "source": [
    "![alt text](word_plot.png \"Title\")"
   ]
  },
  {
   "cell_type": "markdown",
   "id": "f0662547",
   "metadata": {},
   "source": [
    "Questions 3.1.1 through 3.1.4 will ask you to interpret the plot above. For each question, select one of the following choices and assign its number to the provided name.\n",
    "1. The word is common in both comedy and thriller movies \n",
    "2. The word is uncommon in comedy movies and common in thriller movies\n",
    "3. The word is common in comedy movies and uncommon in thriller movies\n",
    "4. The word is uncommon in both comedy and thriller movies\n",
    "5. It is not possible to say from the plot \n",
    "    \n",
    "**Question 3.1.1**\n",
    "\n",
    "What properties do words in the bottom left corner of the plot have? Your answer should be a single integer from 1 to 5, corresponding to the correct statement from the choices above.\n"
   ]
  },
  {
   "cell_type": "code",
   "execution_count": 62,
   "id": "764ed275",
   "metadata": {
    "deletable": false,
    "execution": {
     "iopub.execute_input": "2022-04-16T06:02:11.729731Z",
     "iopub.status.busy": "2022-04-16T06:02:11.729405Z",
     "iopub.status.idle": "2022-04-16T06:02:11.733028Z",
     "shell.execute_reply": "2022-04-16T06:02:11.732346Z"
    },
    "tags": [
     "otter_assign_solution_cell"
    ]
   },
   "outputs": [],
   "source": [
    "bottom_left = ..."
   ]
  },
  {
   "cell_type": "code",
   "execution_count": null,
   "id": "5cc3ed0e",
   "metadata": {
    "deletable": false,
    "editable": false
   },
   "outputs": [],
   "source": [
    "grader.check(\"q3_1_1\")"
   ]
  },
  {
   "cell_type": "markdown",
   "id": "ddfd2db1",
   "metadata": {},
   "source": [
    "**Question 3.1.2**\n",
    "\n",
    "What properties do words in the bottom right corner have?\n"
   ]
  },
  {
   "cell_type": "code",
   "execution_count": 65,
   "id": "5da8b872",
   "metadata": {
    "deletable": false,
    "execution": {
     "iopub.execute_input": "2022-04-16T06:02:11.752253Z",
     "iopub.status.busy": "2022-04-16T06:02:11.751788Z",
     "iopub.status.idle": "2022-04-16T06:02:11.782950Z",
     "shell.execute_reply": "2022-04-16T06:02:11.782085Z"
    },
    "tags": [
     "otter_assign_solution_cell"
    ]
   },
   "outputs": [],
   "source": [
    "bottom_right = ..."
   ]
  },
  {
   "cell_type": "code",
   "execution_count": null,
   "id": "01435d23",
   "metadata": {
    "deletable": false,
    "editable": false
   },
   "outputs": [],
   "source": [
    "grader.check(\"q3_1_2\")"
   ]
  },
  {
   "cell_type": "markdown",
   "id": "251a2cf5",
   "metadata": {},
   "source": [
    "**Question 3.1.3**\n",
    "\n",
    "What properties do words in the top right corner have? \n"
   ]
  },
  {
   "cell_type": "code",
   "execution_count": 68,
   "id": "99c59a5a",
   "metadata": {
    "deletable": false,
    "execution": {
     "iopub.execute_input": "2022-04-16T06:02:11.801221Z",
     "iopub.status.busy": "2022-04-16T06:02:11.800743Z",
     "iopub.status.idle": "2022-04-16T06:02:11.804237Z",
     "shell.execute_reply": "2022-04-16T06:02:11.803486Z"
    },
    "tags": [
     "otter_assign_solution_cell"
    ]
   },
   "outputs": [],
   "source": [
    "top_right = ..."
   ]
  },
  {
   "cell_type": "code",
   "execution_count": null,
   "id": "4ccf9cf2",
   "metadata": {
    "deletable": false,
    "editable": false
   },
   "outputs": [],
   "source": [
    "grader.check(\"q3_1_3\")"
   ]
  },
  {
   "cell_type": "markdown",
   "id": "bb0c647e",
   "metadata": {},
   "source": [
    "**Question 3.1.4**\n",
    "\n",
    "What properties do words in the top left corner have?\n"
   ]
  },
  {
   "cell_type": "code",
   "execution_count": 71,
   "id": "904c5ec8",
   "metadata": {
    "deletable": false,
    "execution": {
     "iopub.execute_input": "2022-04-16T06:02:11.822238Z",
     "iopub.status.busy": "2022-04-16T06:02:11.822031Z",
     "iopub.status.idle": "2022-04-16T06:02:11.825757Z",
     "shell.execute_reply": "2022-04-16T06:02:11.824971Z"
    },
    "tags": [
     "otter_assign_solution_cell"
    ]
   },
   "outputs": [],
   "source": [
    "top_left = ..."
   ]
  },
  {
   "cell_type": "code",
   "execution_count": null,
   "id": "231e2dec",
   "metadata": {
    "deletable": false,
    "editable": false
   },
   "outputs": [],
   "source": [
    "grader.check(\"q3_1_4\")"
   ]
  },
  {
   "cell_type": "markdown",
   "id": "3b3e9642",
   "metadata": {},
   "source": [
    "**Question 3.1.5**\n",
    "\n",
    "If we see a movie with a lot of words that are common for comedy movies but uncommon for thriller movies, what would be a reasonable guess about the genre of the movie? Assign `movie_genre` to the integer corresponding to your answer:\n",
    "1. It is a thriller movie.\n",
    "2. It is a comedy movie.\n"
   ]
  },
  {
   "cell_type": "code",
   "execution_count": 74,
   "id": "c5b59afb",
   "metadata": {
    "deletable": false,
    "execution": {
     "iopub.execute_input": "2022-04-16T06:02:11.846566Z",
     "iopub.status.busy": "2022-04-16T06:02:11.845860Z",
     "iopub.status.idle": "2022-04-16T06:02:11.882544Z",
     "shell.execute_reply": "2022-04-16T06:02:11.881442Z"
    },
    "tags": [
     "otter_assign_solution_cell"
    ]
   },
   "outputs": [],
   "source": [
    "movie_genre_guess = ..."
   ]
  },
  {
   "cell_type": "code",
   "execution_count": null,
   "id": "d95d00ff",
   "metadata": {
    "deletable": false,
    "editable": false
   },
   "outputs": [],
   "source": [
    "grader.check(\"q3_1_5\")"
   ]
  },
  {
   "cell_type": "markdown",
   "id": "713830ba",
   "metadata": {},
   "source": [
    "#### Question 3.1.6\n",
    "Using the plot above, make an array of at least 10 common words that you think might let you **distinguish** between comedy and thriller movies. Make sure to choose words that are **frequent enough** that every movie contains at least one of them. Don't just choose the most frequent words though--you can do much better.\n"
   ]
  },
  {
   "cell_type": "code",
   "execution_count": 77,
   "id": "1d76c24a",
   "metadata": {
    "deletable": false,
    "execution": {
     "iopub.execute_input": "2022-04-16T06:02:11.902115Z",
     "iopub.status.busy": "2022-04-16T06:02:11.901512Z",
     "iopub.status.idle": "2022-04-16T06:02:11.916648Z",
     "shell.execute_reply": "2022-04-16T06:02:11.915701Z"
    },
    "tags": [
     "otter_assign_solution_cell"
    ]
   },
   "outputs": [],
   "source": [
    "# Set my_features to an array of at least 10 features (strings that are column labels)\n",
    "\n",
    "my_features = ...\n",
    "\n",
    "# Select the 10 features of interest from both the train and test sets\n",
    "train_my_features = train_movies.select(my_features)\n",
    "test_my_features = test_movies.select(my_features)"
   ]
  },
  {
   "cell_type": "code",
   "execution_count": null,
   "id": "8803796d",
   "metadata": {
    "deletable": false,
    "editable": false
   },
   "outputs": [],
   "source": [
    "grader.check(\"q3_1_6\")"
   ]
  },
  {
   "cell_type": "markdown",
   "id": "c8585561",
   "metadata": {},
   "source": [
    "This test makes sure that you have chosen words such that at least one appears in each movie. If you can't find words that satisfy this test just through intuition, try writing code to print out the titles of movies that do not contain any words from your list, then look at the words they do contain."
   ]
  },
  {
   "cell_type": "markdown",
   "id": "0d6d6c08",
   "metadata": {},
   "source": [
    "<!-- BEGIN QUESTION -->\n",
    "\n",
    "#### Question 3.1.7\n",
    "In two sentences or less, describe how you selected your features.\n"
   ]
  },
  {
   "cell_type": "markdown",
   "id": "01481008",
   "metadata": {},
   "source": [
    "_Type your answer here, replacing this text._"
   ]
  },
  {
   "cell_type": "markdown",
   "id": "f805f778",
   "metadata": {},
   "source": [
    "<!-- END QUESTION -->\n",
    "\n",
    "Next, let's classify the first movie from our test set using these features.  You can examine the movie by running the cells below. Do you think it will be classified correctly?"
   ]
  },
  {
   "cell_type": "code",
   "execution_count": null,
   "id": "5c298333",
   "metadata": {
    "execution": {
     "iopub.execute_input": "2022-04-16T06:02:12.012876Z",
     "iopub.status.busy": "2022-04-16T06:02:12.012647Z",
     "iopub.status.idle": "2022-04-16T06:02:12.038763Z",
     "shell.execute_reply": "2022-04-16T06:02:12.037918Z"
    }
   },
   "outputs": [],
   "source": [
    "print(\"Movie:\")\n",
    "test_movies.take(0).select('Title', 'Genre').show()\n",
    "print(\"Features:\")\n",
    "test_my_features.take(0).show()"
   ]
  },
  {
   "cell_type": "markdown",
   "id": "f6108cab",
   "metadata": {},
   "source": [
    "As before, we want to look for the movies in the training set that are most like our test movie.  We will calculate the Euclidean distances from the test movie (using `my_features`) to all movies in the training set.  You could do this with a `for` loop, but to make it computationally faster, we have provided a function, `fast_distances`, to do this for you.  Read its documentation to make sure you understand what it does.  (You don't need to understand the code in its body unless you want to.)"
   ]
  },
  {
   "cell_type": "code",
   "execution_count": 84,
   "id": "57dfc4b8",
   "metadata": {
    "execution": {
     "iopub.execute_input": "2022-04-16T06:02:12.042593Z",
     "iopub.status.busy": "2022-04-16T06:02:12.042365Z",
     "iopub.status.idle": "2022-04-16T06:02:12.053148Z",
     "shell.execute_reply": "2022-04-16T06:02:12.052437Z"
    }
   },
   "outputs": [],
   "source": [
    "# Just run this cell to define fast_distances.\n",
    "\n",
    "def fast_distances(test_row, train_table):\n",
    "    \"\"\"Return an array of the distances between test_row and each row in train_table.\n",
    "\n",
    "    Takes 2 arguments:\n",
    "      test_row: A row of a table containing features of one\n",
    "        test movie (e.g., test_my_features.row(0)).\n",
    "      train_table: A table of features (for example, the whole\n",
    "        table train_my_features).\"\"\"\n",
    "    assert train_table.num_columns < 50, \"Make sure you're not using all the features of the movies table.\"\n",
    "    assert type(test_row) != datascience.tables.Table, \"Make sure you are passing in a row object to fast_distances.\"\n",
    "    assert len(test_row) == len(train_table.row(0)), \"Make sure the length of test row is the same as the length of a row in train_table.\"\n",
    "    counts_matrix = np.asmatrix(train_table.columns).transpose()\n",
    "    diff = np.tile(np.array(list(test_row)), [counts_matrix.shape[0], 1]) - counts_matrix\n",
    "    np.random.seed(0) # For tie breaking purposes\n",
    "    distances = np.squeeze(np.asarray(np.sqrt(np.square(diff).sum(1))))\n",
    "    eps = np.random.uniform(size=distances.shape)*1e-10 #Noise for tie break\n",
    "    distances = distances + eps\n",
    "    return distances"
   ]
  },
  {
   "cell_type": "markdown",
   "id": "185f6545",
   "metadata": {},
   "source": [
    "#### Question 3.1.8\n",
    "Use the `fast_distances` function provided above to compute the distance from the first movie in your test set to all the movies in your training set, **using your set of features**. Make a new table called `genre_and_distances` with one row for each movie in the training set and two columns:\n",
    "* The `\"Genre\"` of the training movie\n",
    "* The `\"Distance\"` from the first movie in the test set \n",
    "\n",
    "Ensure that `genre_and_distances` is **sorted in ascending order by distance to the first test movie**.\n",
    "\n",
    "*Hint:* Think about how you can use the variables you defined in 3.1.6.\n"
   ]
  },
  {
   "cell_type": "code",
   "execution_count": 85,
   "id": "67acb1a8",
   "metadata": {
    "execution": {
     "iopub.execute_input": "2022-04-16T06:02:12.056777Z",
     "iopub.status.busy": "2022-04-16T06:02:12.056576Z",
     "iopub.status.idle": "2022-04-16T06:02:12.087221Z",
     "shell.execute_reply": "2022-04-16T06:02:12.086389Z"
    },
    "for_assignment_type": "solution",
    "tags": [
     "otter_assign_solution_cell"
    ]
   },
   "outputs": [
    {
     "data": {
      "text/html": [
       "<table border=\"1\" class=\"dataframe\">\n",
       "    <thead>\n",
       "        <tr>\n",
       "            <th>Genre</th> <th>Distance</th>\n",
       "        </tr>\n",
       "    </thead>\n",
       "    <tbody>\n",
       "        <tr>\n",
       "            <td>comedy  </td> <td>0.0085332 </td>\n",
       "        </tr>\n",
       "        <tr>\n",
       "            <td>comedy  </td> <td>0.00951263</td>\n",
       "        </tr>\n",
       "        <tr>\n",
       "            <td>thriller</td> <td>0.00970644</td>\n",
       "        </tr>\n",
       "        <tr>\n",
       "            <td>comedy  </td> <td>0.0109106 </td>\n",
       "        </tr>\n",
       "    </tbody>\n",
       "</table>\n",
       "<p>... (279 rows omitted)</p>"
      ],
      "text/plain": [
       "<IPython.core.display.HTML object>"
      ]
     },
     "metadata": {},
     "output_type": "display_data"
    }
   ],
   "source": [
    "# The staff solution took multiple lines of code.\n",
    "genre_and_distances = ...\n",
    "genre_and_distances"
   ]
  },
  {
   "cell_type": "code",
   "execution_count": null,
   "id": "585bfbc3",
   "metadata": {
    "deletable": false,
    "editable": false
   },
   "outputs": [],
   "source": [
    "grader.check(\"q3_1_8\")"
   ]
  },
  {
   "cell_type": "markdown",
   "id": "b689fefb",
   "metadata": {},
   "source": [
    "#### Question 3.1.9\n",
    "Now compute the 7-nearest neighbors classification of the first movie in the test set.  That is, decide on its genre by finding the most common genre among its 7 nearest neighbors in the training set, according to the distances you've calculated.  Then check whether your classifier chose the right genre.  (Depending on the features you chose, your classifier might not get this movie right, and that's okay.)\n",
    "\n",
    "*Hint:* You should use the `most_common` function that was defined earlier.\n"
   ]
  },
  {
   "cell_type": "code",
   "execution_count": null,
   "id": "f098f562",
   "metadata": {
    "deletable": false,
    "execution": {
     "iopub.execute_input": "2022-04-16T06:02:12.133606Z",
     "iopub.status.busy": "2022-04-16T06:02:12.132924Z",
     "iopub.status.idle": "2022-04-16T06:02:12.140565Z",
     "shell.execute_reply": "2022-04-16T06:02:12.139812Z"
    },
    "tags": [
     "otter_assign_solution_cell"
    ]
   },
   "outputs": [],
   "source": [
    "# Set my_assigned_genre to the most common genre among these.\n",
    "my_assigned_genre = ...\n",
    "\n",
    "# Set my_assigned_genre_was_correct to True if my_assigned_genre\n",
    "# matches the actual genre of the first movie in the test set, False otherwise.\n",
    "my_assigned_genre_was_correct = ...\n",
    "\n",
    "print(\"The assigned genre, {}, was{}correct.\".format(my_assigned_genre, \" \" if my_assigned_genre_was_correct else \" not \"))"
   ]
  },
  {
   "cell_type": "code",
   "execution_count": null,
   "id": "c5520df9",
   "metadata": {
    "deletable": false,
    "editable": false
   },
   "outputs": [],
   "source": [
    "grader.check(\"q3_1_9\")"
   ]
  },
  {
   "cell_type": "markdown",
   "id": "818dc11c",
   "metadata": {},
   "source": [
    "## 3.2. A classifier function\n",
    "\n",
    "Now we can write a single function that encapsulates the whole process of classification."
   ]
  },
  {
   "cell_type": "markdown",
   "id": "510ec455",
   "metadata": {},
   "source": [
    "#### Question 3.2.1\n",
    "Write a function called `classify`.  It should take the following four arguments:\n",
    "* A row of features for a movie to classify (e.g., `test_my_features.row(0)`).\n",
    "* A table with a column for each feature (e.g., `train_my_features`).\n",
    "* An array of classes (e.g. the labels \"comedy\" or \"thriller\") that has as many items as the previous table has rows, and in the same order. *Hint:* What are the labels of each row in the training set? \n",
    "* `k`, the number of neighbors to use in classification.\n",
    "\n",
    "It should return the class a `k`-nearest neighbor classifier picks for the given row of features (the string `'comedy'` or the string `'thriller'`). \n"
   ]
  },
  {
   "cell_type": "code",
   "execution_count": 93,
   "id": "fce488f2",
   "metadata": {
    "deletable": false,
    "execution": {
     "iopub.execute_input": "2022-04-16T06:02:12.193581Z",
     "iopub.status.busy": "2022-04-16T06:02:12.193359Z",
     "iopub.status.idle": "2022-04-16T06:02:12.197839Z",
     "shell.execute_reply": "2022-04-16T06:02:12.197122Z"
    },
    "tags": [
     "otter_assign_solution_cell"
    ]
   },
   "outputs": [],
   "source": [
    "def classify(test_row, train_features, train_labels, k):\n",
    "    \"\"\"Return the most common class among k nearest neigbors to test_row.\"\"\"\n",
    "    distances = fast_distances(test_row, train_features)\n",
    "    genre_and_distances = ...\n",
    "    return ..."
   ]
  },
  {
   "cell_type": "code",
   "execution_count": null,
   "id": "4c2bb8bd",
   "metadata": {
    "deletable": false,
    "editable": false
   },
   "outputs": [],
   "source": [
    "grader.check(\"q3_2_1\")"
   ]
  },
  {
   "cell_type": "markdown",
   "id": "f8d21bc1",
   "metadata": {},
   "source": [
    "#### Question 3.2.2\n",
    "\n",
    "Assign `godzilla_genre` to the genre predicted by your classifier for the movie \"godzilla\" in the test set, using **15 neighbors** and using your 10 features. \n",
    "\n",
    "*Hint:* The `row_for_title` function will not work here.\n"
   ]
  },
  {
   "cell_type": "code",
   "execution_count": null,
   "id": "8af14a25",
   "metadata": {
    "deletable": false,
    "execution": {
     "iopub.execute_input": "2022-04-16T06:02:12.251744Z",
     "iopub.status.busy": "2022-04-16T06:02:12.251221Z",
     "iopub.status.idle": "2022-04-16T06:02:12.323447Z",
     "shell.execute_reply": "2022-04-16T06:02:12.322799Z"
    },
    "tags": [
     "otter_assign_solution_cell"
    ]
   },
   "outputs": [],
   "source": [
    "# The staff solution first defined a row called godzilla_features.\n",
    "godzilla_features = ...\n",
    "godzilla_genre = ...\n",
    "godzilla_genre"
   ]
  },
  {
   "cell_type": "code",
   "execution_count": null,
   "id": "0dea4e2c",
   "metadata": {
    "deletable": false,
    "editable": false
   },
   "outputs": [],
   "source": [
    "grader.check(\"q3_2_2\")"
   ]
  },
  {
   "cell_type": "markdown",
   "id": "ea919406",
   "metadata": {},
   "source": [
    "Finally, when we evaluate our classifier, it will be useful to have a classification function that is specialized to use a fixed training set and a fixed value of `k`."
   ]
  },
  {
   "cell_type": "markdown",
   "id": "5a526390",
   "metadata": {},
   "source": [
    "#### Question 3.2.3\n",
    "Create a classification function that takes as its argument a row containing your 10 features and classifies that row using the 15-nearest neighbors algorithm with `train_my_features` as its training set. \n"
   ]
  },
  {
   "cell_type": "code",
   "execution_count": null,
   "id": "d2ec2967",
   "metadata": {
    "deletable": false,
    "execution": {
     "iopub.execute_input": "2022-04-16T06:02:12.340963Z",
     "iopub.status.busy": "2022-04-16T06:02:12.340487Z",
     "iopub.status.idle": "2022-04-16T06:02:12.348207Z",
     "shell.execute_reply": "2022-04-16T06:02:12.347536Z"
    },
    "tags": [
     "otter_assign_solution_cell"
    ]
   },
   "outputs": [],
   "source": [
    "def classify_feature_row(row):\n",
    "    return ...\n",
    "\n",
    "# When you're done, this should produce 'thriller' or 'comedy'.\n",
    "classify_feature_row(test_my_features.row(0))"
   ]
  },
  {
   "cell_type": "code",
   "execution_count": null,
   "id": "42d877d6",
   "metadata": {
    "deletable": false,
    "editable": false
   },
   "outputs": [],
   "source": [
    "grader.check(\"q3_2_3\")"
   ]
  },
  {
   "cell_type": "markdown",
   "id": "927ace11",
   "metadata": {},
   "source": [
    "## 3.3. Evaluating your classifier"
   ]
  },
  {
   "cell_type": "markdown",
   "id": "35b95e72",
   "metadata": {},
   "source": [
    "Now that it's easy to use the classifier, let's see how accurate it is on the whole test set.\n",
    "\n",
    "**Question 3.3.1**\n",
    "\n",
    "Use `classify_feature_row` and `apply` to classify every movie in the test set.  Assign these guesses as an array to `test_guesses`.  Then, compute the proportion of correct classifications.\n",
    "\n",
    "*Hint 1*: If you do not specify any columns in `tbl.apply(...)`, your function will be applied to every row object in `tbl`.\n",
    "\n",
    "*Hint 2*: Which dataset do you want to apply this function to?\n"
   ]
  },
  {
   "cell_type": "code",
   "execution_count": null,
   "id": "b4943b78",
   "metadata": {
    "deletable": false,
    "execution": {
     "iopub.execute_input": "2022-04-16T06:02:12.412664Z",
     "iopub.status.busy": "2022-04-16T06:02:12.412028Z",
     "iopub.status.idle": "2022-04-16T06:02:12.495073Z",
     "shell.execute_reply": "2022-04-16T06:02:12.494218Z"
    },
    "tags": [
     "otter_assign_solution_cell"
    ]
   },
   "outputs": [],
   "source": [
    "test_guesses = ...\n",
    "proportion_correct = ...\n",
    "proportion_correct"
   ]
  },
  {
   "cell_type": "code",
   "execution_count": null,
   "id": "e1881626",
   "metadata": {
    "deletable": false,
    "editable": false
   },
   "outputs": [],
   "source": [
    "grader.check(\"q3_3_1\")"
   ]
  },
  {
   "cell_type": "markdown",
   "id": "9c8f0c04",
   "metadata": {},
   "source": [
    "**Question 3.3.2** \n",
    "\n",
    "An important part of evaluating your classifiers is figuring out where they make mistakes. Assign the name `test_movie_correctness` to a table with three columns, `'Title'`, `'Genre'`, and `'Was correct'`. \n",
    "\n",
    "- The `'Genre'` column should contain the original genres, not the ones you predicted. \n",
    "- The `'Was correct'` column should contain `True` or `False` depending on whether or not the movie was classified correctly.\n"
   ]
  },
  {
   "cell_type": "code",
   "execution_count": 103,
   "id": "21f4ea94",
   "metadata": {
    "deletable": false,
    "execution": {
     "iopub.execute_input": "2022-04-16T06:02:12.514816Z",
     "iopub.status.busy": "2022-04-16T06:02:12.514626Z",
     "iopub.status.idle": "2022-04-16T06:02:13.858922Z",
     "shell.execute_reply": "2022-04-16T06:02:13.858246Z"
    },
    "for_assignment_type": "student",
    "manual_problem_id": "test_movie_correctness",
    "tags": [
     "otter_assign_solution_cell"
    ]
   },
   "outputs": [
    {
     "data": {
      "text/html": [
       "<table border=\"1\" class=\"dataframe\">\n",
       "    <thead>\n",
       "        <tr>\n",
       "            <th>Title</th> <th>Genre</th> <th>Was correct</th>\n",
       "        </tr>\n",
       "    </thead>\n",
       "    <tbody>\n",
       "        <tr>\n",
       "            <td>ghostbusters ii               </td> <td>comedy  </td> <td>True       </td>\n",
       "        </tr>\n",
       "        <tr>\n",
       "            <td>intolerable cruelty           </td> <td>comedy  </td> <td>True       </td>\n",
       "        </tr>\n",
       "        <tr>\n",
       "            <td>book of shadows: blair witch 2</td> <td>thriller</td> <td>True       </td>\n",
       "        </tr>\n",
       "        <tr>\n",
       "            <td>broadcast news                </td> <td>comedy  </td> <td>True       </td>\n",
       "        </tr>\n",
       "        <tr>\n",
       "            <td>mission: impossible           </td> <td>thriller</td> <td>True       </td>\n",
       "        </tr>\n",
       "    </tbody>\n",
       "</table>\n",
       "<p>... (45 rows omitted)</p>"
      ],
      "text/plain": [
       "<IPython.core.display.HTML object>"
      ]
     },
     "metadata": {},
     "output_type": "display_data"
    }
   ],
   "source": [
    "# Feel free to use multiple lines of code\n",
    "# but make sure to assign test_movie_correctness to the proper table!\n",
    "test_movie_correctness = ...\n",
    "test_movie_correctness.sort('Was correct', descending = True).show(5)"
   ]
  },
  {
   "cell_type": "code",
   "execution_count": null,
   "id": "b48ef971",
   "metadata": {
    "deletable": false,
    "editable": false
   },
   "outputs": [],
   "source": [
    "grader.check(\"q3_3_2\")"
   ]
  },
  {
   "cell_type": "markdown",
   "id": "36036e69",
   "metadata": {},
   "source": [
    "<!-- BEGIN QUESTION -->\n",
    "\n",
    "**Question 3.3.3** \n",
    "\n",
    "Do you see a pattern in the types of movies your classifier misclassifies? In two sentences or less, describe any patterns you see in the results or any other interesting findings from the table above. If you need some help, try looking up the movies that your classifier got wrong on Wikipedia. \n"
   ]
  },
  {
   "cell_type": "markdown",
   "id": "c311e091",
   "metadata": {},
   "source": [
    "_Type your answer here, replacing this text._"
   ]
  },
  {
   "cell_type": "markdown",
   "id": "d6240ac9",
   "metadata": {},
   "source": [
    "<!-- END QUESTION -->\n",
    "\n",
    "At this point, you've gone through one cycle of classifier design.  Let's summarize the steps:\n",
    "1. From available data, select test and training sets.\n",
    "2. Choose an algorithm you're going to use for k-NN classification.\n",
    "3. Identify some features.\n",
    "4. Define a classifier function using your features and the training set.\n",
    "5. Evaluate its performance (the proportion of correct classifications) on the test set."
   ]
  },
  {
   "cell_type": "markdown",
   "id": "e1d571e1",
   "metadata": {},
   "source": [
    "# Part 4: Explorations\n",
    "Now that you know how to evaluate a classifier, it's time to build another one.\n",
    "\n",
    "Your friends are big fans of comedy and thriller movies. They have created their own dataset of movies that they want to watch, but they need your help in determining the genre of each movie in their dataset (comedy or thriller). You have never seen any of the movies in your friends' dataset, so none of your friends' movies are present in your training or test set from earlier. In other words, this new dataset of movies can function as another test set that we are going to make predictions on based on our original training data. \n",
    "\n",
    "Run the following cell to load your friends' movie data."
   ]
  },
  {
   "cell_type": "code",
   "execution_count": 107,
   "id": "c89d7787",
   "metadata": {
    "execution": {
     "iopub.execute_input": "2022-04-16T06:02:13.896034Z",
     "iopub.status.busy": "2022-04-16T06:02:13.895356Z",
     "iopub.status.idle": "2022-04-16T06:02:14.728494Z",
     "shell.execute_reply": "2022-04-16T06:02:14.727711Z"
    }
   },
   "outputs": [
    {
     "data": {
      "text/html": [
       "<table border=\"1\" class=\"dataframe\">\n",
       "    <thead>\n",
       "        <tr>\n",
       "            <th>Title</th> <th>Year</th> <th>Rating</th> <th>Genre</th> <th># Words</th> <th>she</th> <th>decid</th> <th>talk</th> <th>wit</th> <th>razor</th> <th>slam</th> <th>credit</th> <th>rai</th> <th>hugh</th> <th>breez</th> <th>conscienc</th> <th>audienc</th> <th>cathi</th> <th>log</th> <th>met</th> <th>chosen</th> <th>grip</th> <th>booz</th> <th>bianca</th> <th>doubl</th> <th>agent</th> <th>exit</th> <th>carpent</th> <th>underground</th> <th>clemenza</th> <th>gain</th> <th>neg</th> <th>majesti</th> <th>studio</th> <th>chri</th> <th>spin</th> <th>greater</th> <th>eaten</th> <th>vibrat</th> <th>stupid</th> <th>cigarett</th> <th>jesu</th> <th>mani</th> <th>violin</th> <th>financi</th> <th>bai</th> <th>cop</th> <th>neighbor</th> <th>cd</th> <th>england</th> <th>made</th> <th>conni</th> <th>instinct</th> <th>took</th> <th>jacquelin</th> <th>mace</th> <th>disappear</th> <th>waltz</th> <th>behind</th> <th>bourbon</th> <th>favorit</th> <th>benni</th> <th>manhattan</th> <th>nixon</th> <th>lunch</th> <th>principl</th> <th>tradit</th> <th>counterfeit</th> <th>sophi</th> <th>third</th> <th>exist</th> <th>wouldv</th> <th>hero</th> <th>theyr</th> <th>anytim</th> <th>christin</th> <th>vallei</th> <th>chess</th> <th>paid</th> <th>burglar</th> <th>nostril</th> <th>rubber</th> <th>human</th> <th>british</th> <th>plissken</th> <th>eddi</th> <th>gee</th> <th>offend</th> <th>rebecca</th> <th>anger</th> <th>plant</th> <th>famou</th> <th>repres</th> <th>latest</th> <th>rent</th> <th>dip</th> <th>bell</th> <th>andi</th> <th>so</th> <th>london</th> <th>cooler</th> <th>keaton</th> <th>portland</th> <th>headlin</th> <th>whatta</th> <th>fatal</th> <th>sew</th> <th>cheer</th> <th>davi</th> <th>feed</th> <th>hudson</th> <th>ambros</th> <th>digest</th> <th>redi</th> <th>fri</th> <th>staff</th> <th>casino</th> <th>occasion</th> <th>shadow</th> <th>work</th> <th>restrain</th> <th>face</th> <th>exercis</th> <th>sidnei</th> <th>pile</th> <th>whyd</th> <th>teenag</th> <th>her</th> <th>retir</th> <th>hazard</th> <th>roth</th> <th>hurrican</th> <th>impuls</th> <th>ranger</th> <th>pour</th> <th>lester</th> <th>slash</th> <th>deer</th> <th>could</th> <th>vital</th> <th>qualiti</th> <th>coma</th> <th>incred</th> <th>hank</th> <th>famili</th> <th>duchess</th> <th>global</th> <th>virgin</th> <th>scientif</th> <th>between</th> <th>holidai</th> <th>qualifi</th> <th>moor</th> <th>happili</th> <th>arizona</th> <th>non</th> <th>bruce</th> <th>ankl</th> <th>constant</th> <th>buzz</th> <th>harder</th> <th>ing</th> <th>christian</th> <th>palmer</th> <th>tent</th> <th>sunset</th> <th>damour</th> <th>cohaagen</th> <th>advertis</th> <th>sensat</th> <th>local</th> <th>there</th> <th>terri</th> <th>sedat</th> <th>rotten</th> <th>struck</th> <th>deck</th> <th>past</th> <th>bro</th> <th>ann</th> <th>dump</th> <th>kane</th> <th>slot</th> <th>immun</th> <th>block</th> <th>lil</th> <th>technic</th> <th>tactic</th> <th>pencil</th> <th>outsid</th> <th>laboratori</th> <th>easi</th> <th>nephew</th> <th>coffin</th> <th>pretti</th> <th>coward</th> <th>verbal</th> <th>permiss</th> <th>bartend</th> <th>wont</th> <th>watch</th> <th>lindenmey</th> <th>cosmo</th> <th>capabl</th> <th>flirt</th> <th>huge</th> <th>berkelei</th> <th>max</th> <th>walter</th> <th>lime</th> <th>rico</th> <th>marvin</th> <th>aboard</th> <th>bacon</th> <th>account</th> <th>kirk</th> <th>quaid</th> <th>stunt</th> <th>closet</th> <th>due</th> <th>nuclear</th> <th>blind</th> <th>pussi</th> <th>howdi</th> <th>snuff</th> <th>eas</th> <th>now</th> <th>leak</th> <th>underwear</th> <th>westlei</th> <th>mayb</th> <th>theo</th> <th>limo</th> <th>cousin</th> <th>illeg</th> <th>silli</th> <th>against</th> <th>done</th> <th>district</th> <th>invad</th> <th>ryan</th> <th>wait</th> <th>grudg</th> <th>charact</th> <th>hick</th> <th>jami</th> <th>lifetim</th> <th>lecktor</th> <th>and</th> <th>republican</th> <th>life</th> <th>hidden</th> <th>wire</th> <th>paranoia</th> <th>network</th> <th>messi</th> <th>uthatu</th> <th>effort</th> <th>carri</th> <th>windham</th> <th>fun</th> <th>psychologist</th> <th>sean</th> <th>scent</th> <th>answer</th> <th>mom</th> <th>wake</th> <th>sign</th> <th>ho</th> <th>relat</th> <th>jame</th> <th>fat</th> <th>myself</th> <th>disrupt</th> <th>scan</th> <th>vagu</th> <th>basket</th> <th>christma</th> <th>estim</th> <th>em</th> <th>union</th> <th>involv</th> <th>norman</th> <th>suspici</th> <th>becom</th> <th>shoe</th> <th>librari</th> <th>administr</th> <th>ford</th> <th>complic</th> <th>stuck</th> <th>justic</th> <th>attack</th> <th>releas</th> <th>econom</th> <th>hesit</th> <th>autopsi</th> <th>jurisdict</th> <th>four</th> <th>factor</th> <th>inquiri</th> <th>lion</th> <th>meanwhil</th> <th>prison</th> <th>blair</th> <th>seri</th> <th>groceri</th> <th>surgeri</th> <th>season</th> <th>christi</th> <th>clean</th> <th>ow</th> <th>wrestl</th> <th>en</th> <th>moral</th> <th>hungri</th> <th>cole</th> <th>surfer</th> <th>sixteen</th> <th>angl</th> <th>shame</th> <th>barrel</th> <th>major</th> <th>ago</th> <th>lott</th> <th>airplan</th> <th>worth</th> <th>train</th> <th>easili</th> <th>feller</th> <th>valentin</th> <th>harvei</th> <th>wherev</th> <th>francisco</th> <th>true</th> <th>dramat</th> <th>boston</th> <th>besid</th> <th>inspector</th> <th>orlean</th> <th>opportun</th> <th>nearli</th> <th>lindsei</th> <th>photograph</th> <th>frame</th> <th>at</th> <th>psychopath</th> <th>press</th> <th>youyou</th> <th>havana</th> <th>australia</th> <th>plai</th> <th>mayfield</th> <th>chick</th> <th>stewart</th> <th>seven</th> <th>reflect</th> <th>outer</th> <th>vega</th> <th>anywai</th> <th>prime</th> <th>farmer</th> <th>backyard</th> <th>joe</th> <th>otherwis</th> <th>cowgirl</th> <th>grate</th> <th>clerk</th> <th>dispos</th> <th>tow</th> <th>mari</th> <th>certifi</th> <th>thi</th> <th>wheel</th> <th>privaci</th> <th>todai</th> <th>nathan</th> <th>teller</th> <th>plot</th> <th>correct</th> <th>couch</th> <th>job</th> <th>hurt</th> <th>inject</th> <th>chocol</th> <th>session</th> <th>outrag</th> <th>reduc</th> <th>knew</th> <th>jd</th> <th>perfum</th> <th>fabric</th> <th>bodyguard</th> <th>think</th> <th>il</th> <th>yesterdai</th> <th>side</th> <th>doesnt</th> <th>ronni</th> <th>blank</th> <th>jess</th> <th>push</th> <th>ahh</th> <th>jealou</th> <th>alter</th> <th>blew</th> <th>bu</th> <th>off</th> <th>sweetheart</th> <th>abl</th> <th>angelo</th> <th>nicer</th> <th>coupla</th> <th>resum</th> <th>coke</th> <th>strangl</th> <th>gut</th> <th>morn</th> <th>miracl</th> <th>bit</th> <th>intimid</th> <th>pipelin</th> <th>sour</th> <th>shep</th> <th>vivian</th> <th>grave</th> <th>chemic</th> <th>czech</th> <th>scholarship</th> <th>oldfashion</th> <th>accent</th> <th>spitz</th> <th>dirti</th> <th>shot</th> <th>lit</th> <th>cedar</th> <th>pirat</th> <th>weather</th> <th>stun</th> <th>learn</th> <th>wick</th> <th>bring</th> <th>slack</th> <th>brave</th> <th>shakespear</th> <th>monkei</th> <th>presum</th> <th>vacat</th> <th>faint</th> <th>strap</th> <th>stephen</th> <th>maggi</th> <th>indic</th> <th>sundai</th> <th>nois</th> <th>organ</th> <th>terranc</th> <th>foundat</th> <th>littl</th> <th>perman</th> <th>insid</th> <th>stabl</th> <th>sharp</th> <th>uptight</th> <th>wholl</th> <th>jeffrei</th> <th>root</th> <th>thy</th> <th>josi</th> <th>woman</th> <th>post</th> <th>judg</th> <th>ralph</th> <th>amaz</th> <th>surf</th> <th>naughti</th> <th>norm</th> <th>glove</th> <th>cigar</th> <th>wendi</th> <th>corpor</th> <th>statement</th> <th>defin</th> <th>drawn</th> <th>progress</th> <th>year.1</th> <th>shovel</th> <th>sequenc</th> <th>andand</th> <th>reel</th> <th>held</th> <th>youv</th> <th>trick</th> <th>horseman</th> <th>whoa</th> <th>emploi</th> <th>chain</th> <th>cmon</th> <th>brief</th> <th>creativ</th> <th>moscow</th> <th>challeng</th> <th>walli</th> <th>golf</th> <th>abort</th> <th>aha</th> <th>bent</th> <th>exclus</th> <th>amber</th> <th>figur</th> <th>healthi</th> <th>ransom</th> <th>steer</th> <th>blow</th> <th>bark</th> <th>imbecil</th> <th>mother</th> <th>had</th> <th>whatev</th> <th>donit</th> <th>goodby</th> <th>terrifi</th> <th>cash</th> <th>descript</th> <th>spell</th> <th>west</th> <th>shoulda</th> <th>when</th> <th>wear</th> <th>crop</th> <th>trapper</th> <th>donat</th> <th>breath</th> <th>bracelet</th> <th>lover</th> <th>afraid</th> <th>vice</th> <th>ms</th> <th>didnt</th> <th>kill</th> <th>depth</th> <th>si</th> <th>experiment</th> <th>dna</th> <th>desmond</th> <th>coconut</th> <th>dil</th> <th>llewelyn</th> <th>spoil</th> <th>lung</th> <th>attent</th> <th>offens</th> <th>babi</th> <th>havin</th> <th>mustnt</th> <th>creepi</th> <th>daniel</th> <th>abandon</th> <th>less</th> <th>go</th> <th>negoti</th> <th>butcher</th> <th>sudden</th> <th>templ</th> <th>ii</th> <th>alex</th> <th>deal</th> <th>rememb</th> <th>polic</th> <th>gasolin</th> <th>luggag</th> <th>smooth</th> <th>declar</th> <th>chase</th> <th>host</th> <th>uptown</th> <th>heavi</th> <th>tenni</th> <th>picard</th> <th>success</th> <th>as</th> <th>heroin</th> <th>hi</th> <th>seduc</th> <th>den</th> <th>accur</th> <th>parasit</th> <th>fiddl</th> <th>altern</th> <th>chees</th> <th>flatter</th> <th>lloyd</th> <th>collector</th> <th>athlet</th> <th>useless</th> <th>yeh</th> <th>lawsuit</th> <th>guitar</th> <th>apart</th> <th>strong</th> <th>ditch</th> <th>doc</th> <th>wors</th> <th>trigger</th> <th>mister</th> <th>request</th> <th>direct</th> <th>telephon</th> <th>expir</th> <th>blond</th> <th>energi</th> <th>eh</th> <th>damag</th> <th>across</th> <th>anni</th> <th>eleven</th> <th>episod</th> <th>reliant</th> <th>jason</th> <th>get</th> <th>duh</th> <th>victori</th> <th>speci</th> <th>includ</th> <th>time</th> <th>imagin</th> <th>hang</th> <th>estat</th> <th>full</th> <th>sleep</th> <th>receiv</th> <th>grei</th> <th>belief</th> <th>itali</th> <th>separ</th> <th>claw</th> <th>circuit</th> <th>memo</th> <th>monei</th> <th>anna</th> <th>term</th> <th>drunk</th> <th>everydai</th> <th>haldeman</th> <th>frozen</th> <th>castro</th> <th>soup</th> <th>mornin</th> <th>starship</th> <th>dawn</th> <th>curtain</th> <th>pipe</th> <th>twist</th> <th>downtown</th> <th>drive</th> <th>tank</th> <th>servant</th> <th>circumst</th> <th>town</th> <th>beat</th> <th>wooden</th> <th>thursdai</th> <th>ordinari</th> <th>acid</th> <th>must</th> <th>literatur</th> <th>carol</th> <th>homework</th> <th>present</th> <th>lunat</th> <th>lifestyl</th> <th>rat</th> <th>satisfi</th> <th>funni</th> <th>gang</th> <th>jewelri</th> <th>develop</th> <th>yell</th> <th>stash</th> <th>ab</th> <th>mm</th> <th>thumb</th> <th>to</th> <th>lift</th> <th>re</th> <th>mud</th> <th>taranski</th> <th>camel</th> <th>cancer</th> <th>valiant</th> <th>leavin</th> <th>sand</th> <th>themselv</th> <th>stai</th> <th>junki</th> <th>dinner</th> <th>subject</th> <th>ax</th> <th>thankyou</th> <th>squad</th> <th>charl</th> <th>pretend</th> <th>mumford</th> <th>player</th> <th>sorri</th> <th>feet</th> <th>dee</th> <th>casual</th> <th>check</th> <th>fugit</th> <th>garden</th> <th>million</th> <th>suppos</th> <th>observ</th> <th>low</th> <th>cathol</th> <th>parad</th> <th>confus</th> <th>appli</th> <th>uhura</th> <th>sane</th> <th>beverli</th> <th>princip</th> <th>helen</th> <th>drain</th> <th>want</th> <th>maam</th> <th>care</th> <th>tomorrow</th> <th>abus</th> <th>parent</th> <th>diner</th> <th>proud</th> <th>squeez</th> <th>allerg</th> <th>displai</th> <th>rave</th> <th>da</th> <th>tabl</th> <th>kip</th> <th>string</th> <th>ik</th> <th>microwav</th> <th>tongu</th> <th>miner</th> <th>montana</th> <th>ident</th> <th>gaston</th> <th>individu</th> <th>treasur</th> <th>brown</th> <th>delic</th> <th>forbidden</th> <th>blah</th> <th>although</th> <th>cold</th> <th>strategi</th> <th>psycholog</th> <th>fill</th> <th>profession</th> <th>rig</th> <th>theori</th> <th>psychiatr</th> <th>raw</th> <th>critic</th> <th>contribut</th> <th>fart</th> <th>bitter</th> <th>lemm</th> <th>isol</th> <th>drug</th> <th>also</th> <th>type</th> <th>oblig</th> <th>jen</th> <th>feder</th> <th>note</th> <th>perhap</th> <th>dwayn</th> <th>wolf</th> <th>central</th> <th>annoi</th> <th>cycl</th> <th>accid</th> <th>puzzl</th> <th>invis</th> <th>ronald</th> <th>mercuri</th> <th>escap</th> <th>damon</th> <th>acr</th> <th>spy</th> <th>gig</th> <th>armor</th> <th>gotten</th> <th>swana</th> <th>scene</th> <th>marla</th> <th>penetr</th> <th>shock</th> <th>sunk</th> <th>iv</th> <th>diari</th> <th>atlant</th> <th>absenc</th> <th>corps</th> <th>relai</th> <th>rip</th> <th>bull</th> <th>requir</th> <th>buck</th> <th>complain</th> <th>russia</th> <th>arctic</th> <th>schedul</th> <th>casei</th> <th>temperatur</th> <th>tree</th> <th>unbeliev</th> <th>graduat</th> <th>place</th> <th>communist</th> <th>nine</th> <th>vulner</th> <th>hike</th> <th>raymond</th> <th>laura</th> <th>manifest</th> <th>cellular</th> <th>repress</th> <th>divid</th> <th>lesson</th> <th>crate</th> <th>coin</th> <th>bachelor</th> <th>carl</th> <th>sport</th> <th>simpli</th> <th>politician</th> <th>destroi</th> <th>juno</th> <th>castor</th> <th>liter</th> <th>dwight</th> <th>malkovich</th> <th>cord</th> <th>edmund</th> <th>walk</th> <th>cake</th> <th>protect</th> <th>nearest</th> <th>takin</th> <th>comrad</th> <th>dai</th> <th>tour</th> <th>whose</th> <th>partial</th> <th>vada</th> <th>delight</th> <th>godfath</th> <th>cheat</th> <th>harmless</th> <th>romant</th> <th>pound</th> <th>im</th> <th>violat</th> <th>chief</th> <th>onlin</th> <th>pleasur</th> <th>crystal</th> <th>luther</th> <th>festiv</th> <th>along</th> <th>admir</th> <th>owner</th> <th>prove</th> <th>giron</th> <th>lydia</th> <th>dad</th> <th>ultim</th> <th>hawkin</th> <th>hei</th> <th>father</th> <th>rot</th> <th>doll</th> <th>fountain</th> <th>williamson</th> <th>horror</th> <th>ell</th> <th>media</th> <th>russian</th> <th>carefulli</th> <th>verifi</th> <th>prepar</th> <th>cia</th> <th>flew</th> <th>logic</th> <th>affect</th> <th>skirt</th> <th>nineteen</th> <th>breakdown</th> <th>william</th> <th>batteri</th> <th>shore</th> <th>project</th> <th>strength</th> <th>bail</th> <th>piti</th> <th>harbor</th> <th>oper</th> <th>yanke</th> <th>orphan</th> <th>squar</th> <th>gari</th> <th>driven</th> <th>nanci</th> <th>leonard</th> <th>nonsens</th> <th>anybodi</th> <th>strict</th> <th>riddl</th> <th>boulevard</th> <th>articl</th> <th>shop</th> <th>mexico</th> <th>ruin</th> <th>did</th> <th>annett</th> <th>piano</th> <th>chest</th> <th>becker</th> <th>strip</th> <th>stroll</th> <th>philosophi</th> <th>footbal</th> <th>whom</th> <th>flight</th> <th>refriger</th> <th>loretta</th> <th>geniu</th> <th>condit</th> <th>for</th> <th>anyon</th> <th>ideal</th> <th>terribl</th> <th>otho</th> <th>self</th> <th>swore</th> <th>ring</th> <th>baron</th> <th>civilian</th> <th>panick</th> <th>settl</th> <th>spread</th> <th>turn</th> <th>blast</th> <th>growth</th> <th>seal</th> <th>box</th> <th>locker</th> <th>help</th> <th>cast</th> <th>jennif</th> <th>regan</th> <th>stole</th> <th>yessir</th> <th>randi</th> <th>left</th> <th>explain</th> <th>inspect</th> <th>tribun</th> <th>pop</th> <th>bed</th> <th>encourag</th> <th>bubbl</th> <th>contact</th> <th>patrick</th> <th>domino</th> <th>reliev</th> <th>superman</th> <th>sector</th> <th>entranc</th> <th>corner</th> <th>mama</th> <th>supposedli</th> <th>yo</th> <th>role</th> <th>wai</th> <th>vicki</th> <th>buddi</th> <th>wizard</th> <th>heal</th> <th>element</th> <th>here</th> <th>leather</th> <th>hardli</th> <th>their</th> <th>sworn</th> <th>africa</th> <th>yearold</th> <th>sphere</th> <th>psych</th> <th>behalf</th> <th>moren</th> <th>shelter</th> <th>dr</th> <th>weight</th> <th>ami</th> <th>pike</th> <th>gitt</th> <th>kinda</th> <th>liber</th> <th>badg</th> <th>last</th> <th>from</th> <th>uhhuh</th> <th>afford</th> <th>shag</th> <th>presenc</th> <th>jai</th> <th>hall</th> <th>worst</th> <th>agenc</th> <th>threat</th> <th>jaw</th> <th>hold</th> <th>someplac</th> <th>birth</th> <th>junk</th> <th>natali</th> <th>graveyard</th> <th>march</th> <th>focu</th> <th>graviti</th> <th>smoke</th> <th>normal</th> <th>congress</th> <th>ash</th> <th>predict</th> <th>copper</th> <th>court</th> <th>wealth</th> <th>it</th> <th>um</th> <th>issu</th> <th>misunderstand</th> <th>berlin</th> <th>structur</th> <th>hardwar</th> <th>casanova</th> <th>worship</th> <th>unhappi</th> <th>spit</th> <th>quadrant</th> <th>downstair</th> <th>see</th> <th>gentlemen</th> <th>intern</th> <th>conrad</th> <th>flame</th> <th>within</th> <th>drum</th> <th>yet</th> <th>differ</th> <th>jacket</th> <th>onto</th> <th>prospect</th> <th>nation</th> <th>soft</th> <th>girl</th> <th>counter</th> <th>rug</th> <th>neutral</th> <th>elli</th> <th>transmiss</th> <th>integr</th> <th>cadillac</th> <th>hose</th> <th>lillian</th> <th>clip</th> <th>stanlei</th> <th>marriag</th> <th>built</th> <th>paso</th> <th>subwai</th> <th>whiskei</th> <th>kyle</th> <th>sai</th> <th>barzini</th> <th>virginia</th> <th>lou</th> <th>slip</th> <th>pageant</th> <th>tellin</th> <th>taylor</th> <th>proof</th> <th>yank</th> <th>yacht</th> <th>bless</th> <th>brooklyn</th> <th>argu</th> <th>pistol</th> <th>bo</th> <th>unnecessari</th> <th>share</th> <th>th</th> <th>sabotag</th> <th>china</th> <th>hojon</th> <th>intim</th> <th>chop</th> <th>comic</th> <th>compuls</th> <th>bingo</th> <th>make</th> <th>vulcan</th> <th>parri</th> <th>shouldnt</th> <th>disconnect</th> <th>toon</th> <th>forc</th> <th>annabel</th> <th>clown</th> <th>sentenc</th> <th>with</th> <th>cartoon</th> <th>suspicion</th> <th>willi</th> <th>brook</th> <th>revers</th> <th>luci</th> <th>visitor</th> <th>wave</th> <th>stick</th> <th>cuban</th> <th>sweep</th> <th>comment</th> <th>elimin</th> <th>spencer</th> <th>monica</th> <th>debat</th> <th>coron</th> <th>lie</th> <th>ourselv</th> <th>weapon</th> <th>kate</th> <th>distant</th> <th>grade</th> <th>atf</th> <th>balloon</th> <th>southern</th> <th>chang</th> <th>oppos</th> <th>indict</th> <th>respect</th> <th>sure</th> <th>jane</th> <th>doubt</th> <th>princ</th> <th>admiss</th> <th>ador</th> <th>jungl</th> <th>paint</th> <th>south</th> <th>event</th> <th>taxi</th> <th>voic</th> <th>video</th> <th>convert</th> <th>couldnt</th> <th>citi</th> <th>motiv</th> <th>rel</th> <th>herself</th> <th>curios</th> <th>buffalo</th> <th>terrorist</th> <th>write</th> <th>school</th> <th>wing</th> <th>smack</th> <th>marti</th> <th>counti</th> <th>pud</th> <th>thatd</th> <th>readi</th> <th>manrai</th> <th>airlin</th> <th>romeo</th> <th>weekend</th> <th>apolog</th> <th>ladi</th> <th>emili</th> <th>maker</th> <th>dian</th> <th>barf</th> <th>quest</th> <th>crown</th> <th>expect</th> <th>gull</th> <th>pump</th> <th>depress</th> <th>interrog</th> <th>instant</th> <th>barri</th> <th>book</th> <th>ahm</th> <th>shutup</th> <th>larri</th> <th>seriou</th> <th>hobbi</th> <th>unotu</th> <th>kingdom</th> <th>on</th> <th>quarter</th> <th>nicki</th> <th>pierr</th> <th>dream</th> <th>clarenc</th> <th>buffi</th> <th>winner</th> <th>scatter</th> <th>erik</th> <th>bike</th> <th>bean</th> <th>unabl</th> <th>women</th> <th>maya</th> <th>tommi</th> <th>seventyf</th> <th>curs</th> <th>maintain</th> <th>genesi</th> <th>background</th> <th>dude</th> <th>satellit</th> <th>hour</th> <th>extend</th> <th>transport</th> <th>hull</th> <th>top</th> <th>grief</th> <th>evid</th> <th>gradi</th> <th>onc</th> <th>philadelphia</th> <th>honesti</th> <th>super</th> <th>florida</th> <th>gentleman</th> <th>cannot</th> <th>too</th> <th>fuss</th> <th>hasnt</th> <th>lookin</th> <th>arrang</th> <th>brill</th> <th>sale</th> <th>month</th> <th>intact</th> <th>foolish</th> <th>newspap</th> <th>transit</th> <th>roi</th> <th>whew</th> <th>uwhatu</th> <th>main</th> <th>bat</th> <th>line</th> <th>snake</th> <th>bald</th> <th>cage</th> <th>toward</th> <th>sold</th> <th>till</th> <th>mood</th> <th>warn</th> <th>johnni</th> <th>mustv</th> <th>scream</th> <th>undress</th> <th>absolut</th> <th>flaw</th> <th>bake</th> <th>mmm</th> <th>jerri</th> <th>employe</th> <th>quot</th> <th>waitin</th> <th>benefit</th> <th>werent</th> <th>fulfil</th> <th>plastic</th> <th>tribe</th> <th>yknow</th> <th>hope</th> <th>layer</th> <th>tom</th> <th>reaction</th> <th>san</th> <th>katrina</th> <th>identifi</th> <th>red</th> <th>exorc</th> <th>iron</th> <th>beer</th> <th>santo</th> <th>bruis</th> <th>stab</th> <th>louis</th> <th>agreement</th> <th>coulda</th> <th>film</th> <th>rufu</th> <th>soil</th> <th>playin</th> <th>millionair</th> <th>middl</th> <th>closer</th> <th>spirit</th> <th>accident</th> <th>yer</th> <th>traffic</th> <th>what</th> <th>convict</th> <th>sack</th> <th>examin</th> <th>compound</th> <th>squid</th> <th>gimm</th> <th>fault</th> <th>mysteri</th> <th>sea</th> <th>barbara</th> <th>surpris</th> <th>rm</th> <th>hid</th> <th>sewer</th> <th>kilomet</th> <th>lisa</th> <th>workshop</th> <th>safeti</th> <th>touch</th> <th>jersei</th> <th>frequent</th> <th>enjoi</th> <th>loos</th> <th>homeless</th> <th>ah</th> <th>extens</th> <th>termin</th> <th>level</th> <th>violent</th> <th>rush</th> <th>coordin</th> <th>earli</th> <th>wa</th> <th>dizzi</th> <th>privat</th> <th>gwen</th> <th>suicid</th> <th>headquart</th> <th>educ</th> <th>sort</th> <th>handsom</th> <th>stella</th> <th>ac</th> <th>audit</th> <th>antiqu</th> <th>dot</th> <th>technolog</th> <th>motion</th> <th>hairi</th> <th>site</th> <th>student</th> <th>up</th> <th>either</th> <th>pry</th> <th>conspiraci</th> <th>basi</th> <th>timer</th> <th>heat</th> <th>lawson</th> <th>hear</th> <th>ui</th> <th>fool</th> <th>mere</th> <th>huh</th> <th>donni</th> <th>none</th> <th>fifth</th> <th>becaus</th> <th>lamb</th> <th>interpret</th> <th>increas</th> <th>tower</th> <th>mickei</th> <th>colleagu</th> <th>confer</th> <th>hollow</th> <th>leon</th> <th>thou</th> <th>fran</th> <th>percent</th> <th>six</th> <th>limp</th> <th>arrowai</th> <th>explod</th> <th>friendli</th> <th>breakfast</th> <th>greek</th> <th>need</th> <th>rome</th> <th>beast</th> <th>rehab</th> <th>ben</th> <th>land</th> <th>river</th> <th>frank</th> <th>smash</th> <th>quicker</th> <th>former</th> <th>lower</th> <th>rap</th> <th>nick</th> <th>came</th> <th>hopeless</th> <th>comedian</th> <th>right</th> <th>yall</th> <th>truli</th> <th>not</th> <th>soze</th> <th>forgotten</th> <th>tight</th> <th>pro</th> <th>sona</th> <th>under</th> <th>precis</th> <th>center</th> <th>stiff</th> <th>virtual</th> <th>author</th> <th>dry</th> <th>theyll</th> <th>golden</th> <th>final</th> <th>properli</th> <th>paper</th> <th>older</th> <th>serv</th> <th>dant</th> <th>whistl</th> <th>suffer</th> <th>confid</th> <th>fraud</th> <th>brain</th> <th>minu</th> <th>twentyf</th> <th>cut</th> <th>atmospher</th> <th>bid</th> <th>curv</th> <th>pizza</th> <th>bench</th> <th>tattoo</th> <th>poor</th> <th>enid</th> <th>pink</th> <th>bathroom</th> <th>cramp</th> <th>hill</th> <th>sight</th> <th>patrol</th> <th>niec</th> <th>calib</th> <th>hafta</th> <th>journei</th> <th>poster</th> <th>thruster</th> <th>dela</th> <th>celebr</th> <th>myer</th> <th>ruth</th> <th>suzi</th> <th>bunni</th> <th>male</th> <th>margi</th> <th>bate</th> <th>naw</th> <th>than</th> <th>msieu</th> <th>lone</th> <th>mole</th> <th>briefcas</th> <th>rudi</th> <th>excel</th> <th>madman</th> <th>nazi</th> <th>flop</th> <th>invent</th> <th>signor</th> <th>suggest</th> <th>edward</th> <th>station</th> <th>senat</th> <th>amen</th> <th>hip</th> <th>price</th> <th>awai</th> <th>randal</th> <th>high</th> <th>field</th> <th>spiritu</th> <th>tone</th> <th>citizen</th> <th>stair</th> <th>equal</th> <th>nor</th> <th>sixth</th> <th>gettin</th> <th>ground</th> <th>control</th> <th>awak</th> <th>oak</th> <th>enterpris</th> <th>slightli</th> <th>lee</th> <th>scope</th> <th>holli</th> <th>hunch</th> <th>ethic</th> <th>nasti</th> <th>fall</th> <th>wednesdai</th> <th>gulf</th> <th>dont</th> <th>pictur</th> <th>awar</th> <th>sponsor</th> <th>seattl</th> <th>english</th> <th>introduc</th> <th>health</th> <th>hallucin</th> <th>quickli</th> <th>jacob</th> <th>crew</th> <th>cuervo</th> <th>alabama</th> <th>teresa</th> <th>bain</th> <th>precog</th> <th>brake</th> <th>professor</th> <th>somethin</th> <th>formal</th> <th>unload</th> <th>curiou</th> <th>daddi</th> <th>porch</th> <th>model</th> <th>vehicl</th> <th>wisdom</th> <th>find</th> <th>ruben</th> <th>both</th> <th>report</th> <th>denver</th> <th>helicopt</th> <th>complex</th> <th>neednt</th> <th>be</th> <th>greet</th> <th>spock</th> <th>song</th> <th>bibl</th> <th>lipstick</th> <th>stroke</th> <th>persuad</th> <th>recommend</th> <th>deliveri</th> <th>hors</th> <th>shut</th> <th>zone</th> <th>bomb</th> <th>linda</th> <th>tube</th> <th>gross</th> <th>order</th> <th>dillon</th> <th>action</th> <th>spot</th> <th>resign</th> <th>barn</th> <th>bush</th> <th>itu</th> <th>cry</th> <th>decemb</th> <th>manufactur</th> <th>satisfact</th> <th>fairi</th> <th>excit</th> <th>extraordinari</th> <th>thoma</th> <th>musician</th> <th>black</th> <th>mmmmm</th> <th>fuel</th> <th>board</th> <th>joei</th> <th>detail</th> <th>stewardess</th> <th>hunt</th> <th>mum</th> <th>preacher</th> <th>shown</th> <th>bread</th> <th>mind</th> <th>saint</th> <th>oclock</th> <th>sail</th> <th>stranger</th> <th>smile</th> <th>product</th> <th>rubi</th> <th>disabl</th> <th>question</th> <th>philip</th> <th>exampl</th> <th>freddi</th> <th>stori</th> <th>chariti</th> <th>franklin</th> <th>routin</th> <th>engin</th> <th>lax</th> <th>blade</th> <th>chew</th> <th>buljanoff</th> <th>counselor</th> <th>houston</th> <th>alright</th> <th>support</th> <th>wheelchair</th> <th>goe</th> <th>rachel</th> <th>stuff</th> <th>neck</th> <th>have</th> <th>divis</th> <th>anniversari</th> <th>diamond</th> <th>sparazza</th> <th>try</th> <th>appar</th> <th>joker</th> <th>dentist</th> <th>section</th> <th>gallagh</th> <th>slept</th> <th>bank</th> <th>hurri</th> <th>dure</th> <th>sunni</th> <th>ink</th> <th>vein</th> <th>immigr</th> <th>concentr</th> <th>kat</th> <th>eager</th> <th>don</th> <th>somewher</th> <th>religi</th> <th>pierc</th> <th>bureau</th> <th>theyd</th> <th>mueller</th> <th>familiar</th> <th>bonu</th> <th>austrian</th> <th>violenc</th> <th>produc</th> <th>tonight</th> <th>royal</th> <th>breakin</th> <th>map</th> <th>sayin</th> <th>discuss</th> <th>hed</th> <th>strictli</th> <th>led</th> <th>mile</th> <th>thisll</th> <th>dammit</th> <th>leav</th> <th>dummi</th> <th>reactor</th> <th>sauc</th> <th>rice</th> <th>coupl</th> <th>clever</th> <th>choic</th> <th>chrissak</th> <th>director</th> <th>kastl</th> <th>borg</th> <th>fax</th> <th>brought</th> <th>disturb</th> <th>poison</th> <th>grissom</th> <th>shake</th> <th>corrupt</th> <th>stall</th> <th>sarah</th> <th>starter</th> <th>alik</th> <th>quiet</th> <th>entertain</th> <th>demonstr</th> <th>oxygen</th> <th>asham</th> <th>undercov</th> <th>beef</th> <th>nice</th> <th>televis</th> <th>oscar</th> <th>tourist</th> <th>practic</th> <th>mount</th> <th>swedish</th> <th>compani</th> <th>twenti</th> <th>shall</th> <th>sherman</th> <th>daryl</th> <th>forev</th> <th>crowd</th> <th>tap</th> <th>fix</th> <th>store</th> <th>grail</th> <th>vietnam</th> <th>candl</th> <th>whoop</th> <th>taken</th> <th>end</th> <th>eleph</th> <th>prefer</th> <th>brian</th> <th>lamar</th> <th>ma</th> <th>victoria</th> <th>surviv</th> <th>three</th> <th>bobbi</th> <th>stage</th> <th>steed</th> <th>macfarlan</th> <th>spider</th> <th>trial</th> <th>suprem</th> <th>awfulli</th> <th>foot</th> <th>ar</th> <th>thrown</th> <th>ask</th> <th>cap</th> <th>strang</th> <th>phoenix</th> <th>boot</th> <th>georgia</th> <th>replac</th> <th>reckon</th> <th>divorc</th> <th>arrest</th> <th>horni</th> <th>grandfath</th> <th>problem</th> <th>bust</th> <th>pari</th> <th>roommat</th> <th>consum</th> <th>ag</th> <th>been</th> <th>spaghetti</th> <th>minimum</th> <th>car</th> <th>recruit</th> <th>farm</th> <th>dave</th> <th>tape</th> <th>regular</th> <th>decor</th> <th>shirt</th> <th>multipl</th> <th>mechan</th> <th>effici</th> <th>all</th> <th>thiev</th> <th>pose</th> <th>silenc</th> <th>lenni</th> <th>radiat</th> <th>doesn</th> <th>worri</th> <th>garrison</th> <th>bound</th> <th>superior</th> <th>cure</th> <th>belli</th> <th>mmmm</th> <th>of</th> <th>bride</th> <th>hole</th> <th>toler</th> <th>content</th> <th>applic</th> <th>frequenc</th> <th>sore</th> <th>ranch</th> <th>fair</th> <th>nowher</th> <th>monitor</th> <th>peanut</th> <th>presid</th> <th>cooper</th> <th>speech</th> <th>canyon</th> <th>humili</th> <th>primari</th> <th>anchor</th> <th>everi</th> <th>fiance</th> <th>temporari</th> <th>nyah</th> <th>greenleaf</th> <th>marvel</th> <th>enough</th> <th>extra</th> <th>breast</th> <th>properti</th> <th>social</th> <th>hug</th> <th>tempt</th> <th>dracula</th> <th>richard</th> <th>rob</th> <th>guinea</th> <th>wanna</th> <th>hate</th> <th>dash</th> <th>pull</th> <th>lab</th> <th>disast</th> <th>lobbi</th> <th>plug</th> <th>rear</th> <th>conveni</th> <th>bounti</th> <th>auggi</th> <th>thee</th> <th>proposit</th> <th>jeep</th> <th>pee</th> <th>josephin</th> <th>gestur</th> <th>profil</th> <th>mimi</th> <th>infect</th> <th>coincid</th> <th>mel</th> <th>knock</th> <th>search</th> <th>pan</th> <th>if</th> <th>odd</th> <th>jenni</th> <th>howd</th> <th>simon</th> <th>dodg</th> <th>outfit</th> <th>floor</th> <th>uhh</th> <th>nah</th> <th>jimmi</th> <th>chuck</th> <th>rich</th> <th>emot</th> <th>destruct</th> <th>blue</th> <th>game</th> <th>peculiar</th> <th>internet</th> <th>paranoid</th> <th>paradis</th> <th>deposit</th> <th>look</th> <th>count</th> <th>ooz</th> <th>gale</th> <th>plumb</th> <th>shouldv</th> <th>giant</th> <th>sooz</th> <th>gino</th> <th>waitress</th> <th>conceiv</th> <th>messag</th> <th>door</th> <th>mondai</th> <th>mayor</th> <th>fanci</th> <th>cuba</th> <th>most</th> <th>barrier</th> <th>eject</th> <th>grew</th> <th>alic</th> <th>jazz</th> <th>thread</th> <th>commun</th> <th>treati</th> <th>lieuten</th> <th>tran</th> <th>mackelwai</th> <th>colonel</th> <th>vincent</th> <th>pant</th> <th>simpl</th> <th>shave</th> <th>snoop</th> <th>flower</th> <th>barton</th> <th>trailer</th> <th>towel</th> <th>sheldon</th> <th>comput</th> <th>medic</th> <th>hit</th> <th>grow</th> <th>ventur</th> <th>mistaken</th> <th>difficulti</th> <th>thirtyf</th> <th>pm</th> <th>peter</th> <th>orang</th> <th>kei</th> <th>earl</th> <th>ex</th> <th>vault</th> <th>doe</th> <th>music</th> <th>romanc</th> <th>blanket</th> <th>colleg</th> <th>fog</th> <th>bad</th> <th>novel</th> <th>kidnap</th> <th>consult</th> <th>recogn</th> <th>laugh</th> <th>shooter</th> <th>galaxi</th> <th>paulin</th> <th>procedur</th> <th>seed</th> <th>radioact</th> <th>ars</th> <th>total</th> <th>theater</th> <th>cute</th> <th>iraq</th> <th>net</th> <th>laplant</th> <th>waiter</th> <th>print</th> <th>milo</th> <th>judgment</th> <th>act</th> <th>gone</th> <th>lecter</th> <th>draft</th> <th>build</th> <th>vow</th> <th>steam</th> <th>veteran</th> <th>eighth</th> <th>insect</th> <th>entir</th> <th>hon</th> <th>okai</th> <th>fourteen</th> <th>meet</th> <th>tens</th> <th>doin</th> <th>hat</th> <th>sub</th> <th>counsel</th> <th>channel</th> <th>close</th> <th>daylight</th> <th>loser</th> <th>tend</th> <th>judgement</th> <th>accus</th> <th>coast</th> <th>everywher</th> <th>welli</th> <th>yep</th> <th>label</th> <th>chines</th> <th>kim</th> <th>rather</th> <th>publish</th> <th>neat</th> <th>askin</th> <th>pearl</th> <th>bond</th> <th>labor</th> <th>cover</th> <th>forget</th> <th>warrior</th> <th>asid</th> <th>favor</th> <th>sheep</th> <th>crook</th> <th>imag</th> <th>wimp</th> <th>coach</th> <th>seller</th> <th>impact</th> <th>shoot</th> <th>soda</th> <th>mitch</th> <th>western</th> <th>gift</th> <th>shred</th> <th>compromis</th> <th>fridai</th> <th>scout</th> <th>steve</th> <th>solar</th> <th>evan</th> <th>rule</th> <th>dylan</th> <th>han</th> <th>faith</th> <th>umyu</th> <th>wise</th> <th>tortur</th> <th>girlfriend</th> <th>anywher</th> <th>air</th> <th>murder</th> <th>younger</th> <th>handl</th> <th>albanian</th> <th>laser</th> <th>dull</th> <th>guidanc</th> <th>live</th> <th>dish</th> <th>dancer</th> <th>heh</th> <th>samuel</th> <th>lawn</th> <th>defeat</th> <th>photon</th> <th>mason</th> <th>goal</th> <th>prescott</th> <th>insur</th> <th>deep</th> <th>lugosi</th> <th>singl</th> <th>chancellor</th> <th>avail</th> <th>acknowledg</th> <th>dread</th> <th>manual</th> <th>ll</th> <th>stew</th> <th>pai</th> <th>crawford</th> <th>janet</th> <th>loan</th> <th>rib</th> <th>peel</th> <th>hormon</th> <th>about</th> <th>ohio</th> <th>advisor</th> <th>crusher</th> <th>centuri</th> <th>govern</th> <th>probabl</th> <th>slow</th> <th>homicid</th> <th>shift</th> <th>sentiment</th> <th>sophist</th> <th>mock</th> <th>supper</th> <th>washington</th> <th>inn</th> <th>polici</th> <th>call</th> <th>surgic</th> <th>talent</th> <th>futur</th> <th>appl</th> <th>hiya</th> <th>should</th> <th>hoop</th> <th>joseph</th> <th>uisu</th> <th>unit</th> <th>radar</th> <th>magnific</th> <th>rendezv</th> <th>anxiou</th> <th>featur</th> <th>discov</th> <th>dental</th> <th>legal</th> <th>shuttl</th> <th>word</th> <th>tool</th> <th>deceas</th> <th>consider</th> <th>noon</th> <th>york</th> <th>lauri</th> <th>fell</th> <th>reject</th> <th>ton</th> <th>lead</th> <th>marin</th> <th>name</th> <th>commiss</th> <th>windshield</th> <th>captain</th> <th>winter</th> <th>slap</th> <th>burst</th> <th>mallori</th> <th>goodnight</th> <th>polish</th> <th>letter</th> <th>voyag</th> <th>sandi</th> <th>ta</th> <th>commission</th> <th>joke</th> <th>idea</th> <th>deserv</th> <th>shove</th> <th>rd</th> <th>mistak</th> <th>earthquak</th> <th>worm</th> <th>abil</th> <th>guarante</th> <th>outta</th> <th>mutual</th> <th>prize</th> <th>welcom</th> <th>seventi</th> <th>trunk</th> <th>teas</th> <th>access</th> <th>jacki</th> <th>refresh</th> <th>affirm</th> <th>ill</th> <th>gregor</th> <th>chet</th> <th>complet</th> <th>mill</th> <th>speak</th> <th>whatiya</th> <th>prei</th> <th>fed</th> <th>flash</th> <th>crab</th> <th>wet</th> <th>warm</th> <th>hoover</th> <th>flood</th> <th>regard</th> <th>hamburg</th> <th>anim</th> <th>random</th> <th>lick</th> <th>liabl</th> <th>unknown</th> <th>histori</th> <th>highli</th> <th>fred</th> <th>peggi</th> <th>emerg</th> <th>maid</th> <th>relax</th> <th>whaddya</th> <th>give</th> <th>starfleet</th> <th>rout</th> <th>resourc</th> <th>night</th> <th>statu</th> <th>spare</th> <th>abov</th> <th>save</th> <th>fett</th> <th>goat</th> <th>career</th> <th>van</th> <th>puke</th> <th>disagre</th> <th>reveng</th> <th>femal</th> <th>penni</th> <th>better</th> <th>rex</th> <th>marg</th> <th>but</th> <th>border</th> <th>phil</th> <th>twentyseven</th> <th>sixti</th> <th>delai</th> <th>jewel</th> <th>uiu</th> <th>leash</th> <th>berni</th> <th>nickel</th> <th>aim</th> <th>uyouu</th> <th>advic</th> <th>gold</th> <th>actress</th> <th>whisper</th> <th>goin</th> <th>particularli</th> <th>gossip</th> <th>runnin</th> <th>peni</th> <th>minut</th> <th>scandal</th> <th>awkward</th> <th>crank</th> <th>ev</th> <th>owen</th> <th>diet</th> <th>cargo</th> <th>fashion</th> <th>tale</th> <th>quietli</th> <th>son</th> <th>geek</th> <th>devot</th> <th>madelein</th> <th>luke</th> <th>laval</th> <th>seventeen</th> <th>yourselv</th> <th>sleev</th> <th>robberi</th> <th>debt</th> <th>flow</th> <th>mark</th> <th>subtl</th> <th>symbol</th> <th>prank</th> <th>illus</th> <th>restor</th> <th>catch</th> <th>predat</th> <th>temper</th> <th>globe</th> <th>pacif</th> <th>ethel</th> <th>phaser</th> <th>midnight</th> <th>lock</th> <th>adult</th> <th>brandon</th> <th>kitchen</th> <th>noi</th> <th>toni</th> <th>mo</th> <th>awhil</th> <th>actor</th> <th>length</th> <th>pinch</th> <th>throw</th> <th>tunnel</th> <th>materi</th> <th>function</th> <th>zip</th> <th>visa</th> <th>josh</th> <th>shed</th> <th>crash</th> <th>craig</th> <th>he</th> <th>perri</th> <th>pathet</th> <th>eastern</th> <th>demand</th> <th>sheet</th> <th>data</th> <th>fbi</th> <th>insist</th> <th>regist</th> <th>fame</th> <th>particular</th> <th>upon</th> <th>screen</th> <th>becki</th> <th>ya</th> <th>attornei</th> <th>clai</th> <th>mate</th> <th>interview</th> <th>yard</th> <th>duke</th> <th>footprint</th> <th>user</th> <th>influenc</th> <th>swallow</th> <th>lula</th> <th>plate</th> <th>queen</th> <th>until</th> <th>rode</th> <th>creat</th> <th>disappoint</th> <th>region</th> <th>marcia</th> <th>defens</th> <th>sensit</th> <th>defend</th> <th>miseri</th> <th>take</th> <th>oil</th> <th>holi</th> <th>polit</th> <th>crazi</th> <th>interrupt</th> <th>luca</th> <th>franc</th> <th>pete</th> <th>afternoon</th> <th>distress</th> <th>finder</th> <th>around</th> <th>europ</th> <th>sit</th> <th>follow</th> <th>intellectu</th> <th>tee</th> <th>planet</th> <th>perk</th> <th>dame</th> <th>wife</th> <th>distanc</th> <th>breed</th> <th>height</th> <th>compens</th> <th>storm</th> <th>appoint</th> <th>daphn</th> <th>salesman</th> <th>scoobi</th> <th>distinct</th> <th>alon</th> <th>remot</th> <th>boss</th> <th>pawn</th> <th>wonder</th> <th>easier</th> <th>lt</th> <th>zero</th> <th>stake</th> <th>food</th> <th>forest</th> <th>june</th> <th>pickup</th> <th>sensor</th> <th>choke</th> <th>situat</th> <th>david</th> <th>blackmail</th> <th>atom</th> <th>necessarili</th> <th>albert</th> <th>advantag</th> <th>fli</th> <th>horn</th> <th>metal</th> <th>consequ</th> <th>sloan</th> <th>tragic</th> <th>determin</th> <th>meter</th> <th>toast</th> <th>disguis</th> <th>loud</th> <th>employ</th> <th>xxxxxx</th> <th>cat</th> <th>math</th> <th>sue</th> <th>foul</th> <th>like</th> <th>ferri</th> <th>praetor</th> <th>marri</th> <th>stamp</th> <th>lainei</th> <th>gai</th> <th>potato</th> <th>licens</th> <th>some</th> <th>sylvia</th> <th>tag</th> <th>caught</th> <th>runner</th> <th>unpleas</th> <th>typic</th> <th>dive</th> <th>devic</th> <th>alien</th> <th>deadlin</th> <th>landlord</th> <th>bridg</th> <th>sink</th> <th>affair</th> <th>record</th> <th>thinkin</th> <th>gate</th> <th>austin</th> <th>poker</th> <th>liquor</th> <th>cow</th> <th>run</th> <th>yourself</th> <th>tie</th> <th>slightest</th> <th>businessman</th> <th>martini</th> <th>dell</th> <th>stone</th> <th>iti</th> <th>dri</th> <th>scanner</th> <th>effect</th> <th>appreci</th> <th>shark</th> <th>child</th> <th>bend</th> <th>slice</th> <th>hair</th> <th>patienc</th> <th>ga</th> <th>disco</th> <th>expert</th> <th>implant</th> <th>dealer</th> <th>oooh</th> <th>beavi</th> <th>troubl</th> <th>lesli</th> <th>lectur</th> <th>youd</th> <th>baldwin</th> <th>scienc</th> <th>surg</th> <th>uallu</th> <th>ooh</th> <th>harvard</th> <th>smart</th> <th>statist</th> <th>sheila</th> <th>haul</th> <th>livingston</th> <th>exhaust</th> <th>jail</th> <th>biggest</th> <th>hudsuck</th> <th>rocket</th> <th>trace</th> <th>punish</th> <th>contain</th> <th>twomblei</th> <th>intend</th> <th>flynn</th> <th>describ</th> <th>contract</th> <th>straighten</th> <th>reilli</th> <th>regula</th> <th>tremend</th> <th>love</th> <th>setup</th> <th>enforc</th> <th>castl</th> <th>lousi</th> <th>bloke</th> <th>marietta</th> <th>cooki</th> <th>someon</th> <th>design</th> <th>address</th> <th>knowi</th> <th>award</th> <th>tick</th> <th>unconsci</th> <th>weve</th> <th>cleveland</th> <th>sweeti</th> <th>intellect</th> <th>beard</th> <th>surrend</th> <th>vinci</th> <th>hildi</th> <th>tail</th> <th>dignan</th> <th>moss</th> <th>photo</th> <th>myth</th> <th>tuesdai</th> <th>stress</th> <th>limb</th> <th>wallet</th> <th>tooth</th> <th>bare</th> <th>ten</th> <th>guilti</th> <th>inform</th> <th>list</th> <th>husband</th> <th>visual</th> <th>ross</th> <th>jabez</th> <th>cape</th> <th>atlanta</th> <th>champion</th> <th>valuabl</th> <th>respons</th> <th>addit</th> <th>spike</th> <th>lighten</th> <th>wagon</th> <th>owl</th> <th>dog</th> <th>santa</th> <th>fantasi</th> <th>belt</th> <th>unowu</th> <th>enorm</th> <th>kind</th> <th>light</th> <th>investig</th> <th>lila</th> <th>laundri</th> <th>jessica</th> <th>jodi</th> <th>masturb</th> <th>porter</th> <th>la</th> <th>couldn</th> <th>canada</th> <th>dress</th> <th>port</th> <th>alwai</th> <th>explor</th> <th>bateman</th> <th>governor</th> <th>sat</th> <th>fought</th> <th>perimet</th> <th>wasnt</th> <th>testimoni</th> <th>conklin</th> <th>cart</th> <th>caus</th> <th>number</th> <th>crane</th> <th>loyalti</th> <th>fake</th> <th>puff</th> <th>accompani</th> <th>cultur</th> <th>fenc</th> <th>outa</th> <th>cal</th> <th>whenev</th> <th>roach</th> <th>transmitt</th> <th>fingerprint</th> <th>mail</th> <th>kaufman</th> <th>pole</th> <th>engag</th> <th>plain</th> <th>suppli</th> <th>reserv</th> <th>few</th> <th>sandwich</th> <th>fredo</th> <th>safe</th> <th>hockei</th> <th>hous</th> <th>elain</th> <th>knox</th> <th>oath</th> <th>wander</th> <th>latin</th> <th>same</th> <th>git</th> <th>garbag</th> <th>charg</th> <th>knowledg</th> <th>uknowu</th> <th>veronica</th> <th>john</th> <th>connel</th> <th>anticip</th> <th>drown</th> <th>rose</th> <th>carpet</th> <th>circu</th> <th>sebastian</th> <th>cmere</th> <th>irish</th> <th>robert</th> <th>fork</th> <th>lazi</th> <th>flare</th> <th>bobo</th> <th>guess</th> <th>hippi</th> <th>the</th> <th>specif</th> <th>offici</th> <th>god</th> <th>exhibit</th> <th>madam</th> <th>privileg</th> <th>scrambl</th> <th>con</th> <th>handi</th> <th>rifl</th> <th>peep</th> <th>moron</th> <th>resent</th> <th>lai</th> <th>scotch</th> <th>brenner</th> <th>lake</th> <th>therel</th> <th>gordo</th> <th>everett</th> <th>neural</th> <th>madison</th> <th>realiz</th> <th>georg</th> <th>skate</th> <th>drink</th> <th>goddam</th> <th>anyhow</th> <th>jew</th> <th>popul</th> <th>freedom</th> <th>togeth</th> <th>attempt</th> <th>adel</th> <th>coat</th> <th>mob</th> <th>higher</th> <th>cowboi</th> <th>heel</th> <th>inconveni</th> <th>respond</th> <th>patch</th> <th>mostli</th> <th>fan</th> <th>highwai</th> <th>reason</th> <th>soon</th> <th>helpless</th> <th>then</th> <th>cobb</th> <th>weird</th> <th>parker</th> <th>seen</th> <th>happier</th> <th>roast</th> <th>tip</th> <th>legend</th> <th>behavior</th> <th>secur</th> <th>tatum</th> <th>especi</th> <th>jeez</th> <th>your</th> <th>dispatch</th> <th>heart</th> <th>test</th> <th>webster</th> <th>categori</th> <th>chicken</th> <th>alibi</th> <th>wouldn</th> <th>hyster</th> <th>mankind</th> <th>north</th> <th>kiss</th> <th>mighti</th> <th>levi</th> <th>fond</th> <th>rain</th> <th>obsess</th> <th>michael</th> <th>corleon</th> <th>vision</th> <th>edg</th> <th>command</th> <th>nineti</th> <th>gin</th> <th>nix</th> <th>amus</th> <th>afterward</th> <th>wanta</th> <th>thorwald</th> <th>by</th> <th>rag</th> <th>jack</th> <th>desert</th> <th>maureen</th> <th>own</th> <th>heck</th> <th>walker</th> <th>empti</th> <th>grunemann</th> <th>relief</th> <th>narrow</th> <th>saavik</th> <th>seymour</th> <th>anonym</th> <th>footag</th> <th>territori</th> <th>maniac</th> <th>envelop</th> <th>despis</th> <th>definit</th> <th>return</th> <th>nobodi</th> <th>eventu</th> <th>rita</th> <th>pepper</th> <th>prep</th> <th>stand</th> <th>deepli</th> <th>park</th> <th>aunt</th> <th>youth</th> <th>water</th> <th>els</th> <th>starl</th> <th>allei</th> <th>snow</th> <th>pope</th> <th>wax</th> <th>object</th> <th>basic</th> <th>file</th> <th>dismiss</th> <th>much</th> <th>sometim</th> <th>warrant</th> <th>drama</th> <th>android</th> <th>wast</th> <th>brick</th> <th>restless</th> <th>unusu</th> <th>orbit</th> <th>headach</th> <th>ambul</th> <th>pier</th> <th>talkin</th> <th>instal</th> <th>toss</th> <th>pure</th> <th>maxin</th> <th>canadian</th> <th>amount</th> <th>shatter</th> <th>spoke</th> <th>danc</th> <th>ir</th> <th>proven</th> <th>broke</th> <th>ninotchka</th> <th>lili</th> <th>dat</th> <th>scum</th> <th>psychic</th> <th>guest</th> <th>architect</th> <th>vancouv</th> <th>balconi</th> <th>my</th> <th>resist</th> <th>juic</th> <th>reliabl</th> <th>will</th> <th>launch</th> <th>tire</th> <th>villag</th> <th>ordel</th> <th>broad</th> <th>juri</th> <th>mccoi</th> <th>italian</th> <th>item</th> <th>process</th> <th>sake</th> <th>diseas</th> <th>kelli</th> <th>contest</th> <th>champagn</th> <th>cabinet</th> <th>plead</th> <th>era</th> <th>sergeant</th> <th>nervou</th> <th>imposs</th> <th>cruel</th> <th>claud</th> <th>movi</th> <th>cruis</th> <th>daughter</th> <th>premier</th> <th>law</th> <th>intent</th> <th>liz</th> <th>nake</th> <th>petti</th> <th>mirror</th> <th>ha</th> <th>each</th> <th>never</th> <th>do</th> <th>exact</th> <th>rescu</th> <th>drivin</th> <th>limit</th> <th>ti</th> <th>manag</th> <th>thirsti</th> <th>bargain</th> <th>origin</th> <th>acceler</th> <th>pilot</th> <th>guid</th> <th>mummi</th> <th>mad</th> <th>frighten</th> <th>factori</th> <th>cotton</th> <th>rape</th> <th>chef</th> <th>leg</th> <th>calm</th> <th>fail</th> <th>interior</th> <th>germ</th> <th>inch</th> <th>donald</th> <th>smear</th> <th>berserk</th> <th>finest</th> <th>hard</th> <th>bourn</th> <th>brilliant</th> <th>solv</th> <th>fireman</th> <th>electr</th> <th>moment</th> <th>wound</th> <th>begun</th> <th>while</th> <th>militari</th> <th>scoop</th> <th>saw</th> <th>machin</th> <th>german</th> <th>enemi</th> <th>creatur</th> <th>throat</th> <th>stuf</th> <th>impli</th> <th>burnt</th> <th>mall</th> <th>navi</th> <th>rude</th> <th>lean</th> <th>bullet</th> <th>sissi</th> <th>dough</th> <th>reynold</th> <th>promot</th> <th>burn</th> <th>rise</th> <th>guard</th> <th>deton</th> <th>gloriou</th> <th>confidenti</th> <th>lost</th> <th>desk</th> <th>thin</th> <th>superhero</th> <th>wive</th> <th>pooch</th> <th>col</th> <th>gambl</th> <th>crimin</th> <th>can</th> <th>tiger</th> <th>pair</th> <th>below</th> <th>him</th> <th>un</th> <th>mortgag</th> <th>toto</th> <th>dine</th> <th>gun</th> <th>thirti</th> <th>warp</th> <th>sid</th> <th>standard</th> <th>deliv</th> <th>couldv</th> <th>sandra</th> <th>wide</th> <th>daydai</th> <th>nail</th> <th>novemb</th> <th>speck</th> <th>broken</th> <th>fulli</th> <th>di</th> <th>concept</th> <th>plenti</th> <th>sara</th> <th>toilet</th> <th>smyth</th> <th>dirt</th> <th>skull</th> <th>match</th> <th>win</th> <th>abduct</th> <th>chamber</th> <th>putter</th> <th>advanc</th> <th>baxter</th> <th>group</th> <th>onli</th> <th>commerci</th> <th>uniqu</th> <th>bet</th> <th>back</th> <th>aisl</th> <th>darlin</th> <th>creation</th> <th>target</th> <th>sip</th> <th>sam</th> <th>worker</th> <th>five</th> <th>ladder</th> <th>capit</th> <th>smaller</th> <th>merri</th> <th>won</th> <th>howard</th> <th>eleg</th> <th>bee</th> <th>digit</th> <th>lowel</th> <th>outstand</th> <th>meant</th> <th>precaut</th> <th>degre</th> <th>suspend</th> <th>week</th> <th>evacu</th> <th>wow</th> <th>loui</th> <th>iii</th> <th>per</th> <th>tenth</th> <th>open</th> <th>possibl</th> <th>old</th> <th>primit</th> <th>keyser</th> <th>fianc</th> <th>point</th> <th>bone</th> <th>alreadi</th> <th>straight</th> <th>henri</th> <th>hack</th> <th>rank</th> <th>scott</th> <th>fold</th> <th>nothin</th> <th>kendal</th> <th>bar</th> <th>ant</th> <th>meredith</th> <th>musta</th> <th>dollar</th> <th>retard</th> <th>volum</th> <th>ocean</th> <th>acquaint</th> <th>jon</th> <th>dozen</th> <th>treat</th> <th>fund</th> <th>crush</th> <th>accomplish</th> <th>cabl</th> <th>stock</th> <th>pig</th> <th>recent</th> <th>ed</th> <th>escort</th> <th>east</th> <th>vodka</th> <th>natur</th> <th>fella</th> <th>missil</th> <th>ancient</th> <th>how</th> <th>rumor</th> <th>torn</th> <th>palei</th> <th>well</th> <th>fear</th> <th>detroit</th> <th>civil</th> <th>current</th> <th>advis</th> <th>elect</th> <th>pill</th> <th>artist</th> <th>bastaldi</th> <th>market</th> <th>symptom</th> <th>therapi</th> <th>toi</th> <th>scumbag</th> <th>satan</th> <th>ouch</th> <th>jeff</th> <th>cemeteri</th> <th>sorta</th> <th>deni</th> <th>sister</th> <th>givin</th> <th>boi</th> <th>closest</th> <th>mission</th> <th>stabil</th> <th>identif</th> <th>set</th> <th>rebel</th> <th>salli</th> <th>joint</th> <th>zoo</th> <th>version</th> <th>camper</th> <th>directli</th> <th>kid</th> <th>jim</th> <th>viru</th> <th>desir</th> <th>tide</th> <th>cell</th> <th>mulwrai</th> <th>sod</th> <th>domini</th> <th>dealt</th> <th>pane</th> <th>trade</th> <th>spose</th> <th>eleanor</th> <th>someth</th> <th>milk</th> <th>honestli</th> <th>sap</th> <th>graham</th> <th>tune</th> <th>secretari</th> <th>chao</th> <th>backup</th> <th>freez</th> <th>obvious</th> <th>believ</th> <th>delmar</th> <th>sting</th> <th>happiest</th> <th>broadcast</th> <th>haunt</th> <th>haven</th> <th>kong</th> <th>gonna</th> <th>without</th> <th>lip</th> <th>spill</th> <th>psychiatrist</th> <th>suddenli</th> <th>realli</th> <th>byeby</th> <th>coffe</th> <th>opinion</th> <th>borrow</th> <th>lechter</th> <th>cuff</th> <th>overload</th> <th>attract</th> <th>rid</th> <th>bertrand</th> <th>mordechai</th> <th>amanda</th> <th>nicknam</th> <th>gather</th> <th>mr</th> <th>miss</th> <th>fascin</th> <th>hound</th> <th>lid</th> <th>joi</th> <th>weak</th> <th>though</th> <th>alfr</th> <th>comfort</th> <th>ich</th> <th>gallon</th> <th>narcot</th> <th>evelyn</th> <th>duck</th> <th>bucket</th> <th>cabin</th> <th>settlement</th> <th>send</th> <th>milli</th> <th>israel</th> <th>alcohol</th> <th>suspect</th> <th>robinson</th> <th>doug</th> <th>alan</th> <th>sleepi</th> <th>adventur</th> <th>ridicul</th> <th>crabtre</th> <th>lawyer</th> <th>reward</th> <th>cloth</th> <th>riot</th> <th>seek</th> <th>other</th> <th>pet</th> <th>everyth</th> <th>found</th> <th>basketbal</th> <th>liar</th> <th>wouldnt</th> <th>fit</th> <th>stop</th> <th>cleaner</th> <th>paul</th> <th>execut</th> <th>alpha</th> <th>movement</th> <th>cheek</th> <th>recov</th> <th>phillip</th> <th>seem</th> <th>leo</th> <th>rand</th> <th>bright</th> <th>moon</th> <th>fallen</th> <th>prayer</th> <th>betti</th> <th>fantast</th> <th>theyv</th> <th>drove</th> <th>turkei</th> <th>modern</th> <th>edi</th> <th>jonah</th> <th>exagger</th> <th>mine</th> <th>envi</th> <th>big</th> <th>krueger</th> <th>faster</th> <th>alli</th> <th>fine</th> <th>iraqi</th> <th>appear</th> <th>independ</th> <th>poni</th> <th>invest</th> <th>hooker</th> <th>dictat</th> <th>medicin</th> <th>honei</th> <th>shine</th> <th>comedi</th> <th>unou</th> <th>who</th> <th>late</th> <th>boost</th> <th>gentli</th> <th>sun</th> <th>dunno</th> <th>improv</th> <th>chairman</th> <th>honest</th> <th>shout</th> <th>invas</th> <th>hadnt</th> <th>fox</th> <th>powder</th> <th>quick</th> <th>breaker</th> <th>breach</th> <th>dope</th> <th>frustrat</th> <th>cent</th> <th>long</th> <th>interest</th> <th>freak</th> <th>marsh</th> <th>maria</th> <th>shhhh</th> <th>cloak</th> <th>solid</th> <th>id.1</th> <th>nobl</th> <th>swing</th> <th>evalu</th> <th>member</th> <th>skunk</th> <th>zira</th> <th>conduct</th> <th>buyer</th> <th>instanc</th> <th>financ</th> <th>protest</th> <th>karl</th> <th>dent</th> <th>jake</th> <th>goofi</th> <th>au</th> <th>plu</th> <th>ahead</th> <th>possess</th> <th>prototyp</th> <th>whatd</th> <th>road</th> <th>fifti</th> <th>down</th> <th>viciou</th> <th>destin</th> <th>ride</th> <th>hmm</th> <th>democrat</th> <th>daili</th> <th>remov</th> <th>catherin</th> <th>unlock</th> <th>hot</th> <th>yuh</th> <th>lewi</th> <th>concern</th> <th>mouth</th> <th>didn</th> <th>merci</th> <th>lotta</th> <th>sacrific</th> <th>chekov</th> <th>rock</th> <th>instead</th> <th>egon</th> <th>sank</th> <th>probe</th> <th>pit</th> <th>rest</th> <th>confront</th> <th>magic</th> <th>mean</th> <th>similar</th> <th>itd</th> <th>flesh</th> <th>bunch</th> <th>donut</th> <th>soldier</th> <th>dork</th> <th>short</th> <th>innoc</th> <th>fight</th> <th>grai</th> <th>bout</th> <th>befor</th> <th>encount</th> <th>lombardo</th> <th>arriv</th> <th>date</th> <th>worn</th> <th>frankenstein</th> <th>budget</th> <th>gag</th> <th>part</th> <th>forgot</th> <th>blake</th> <th>himself</th> <th>facil</th> <th>thousand</th> <th>frankli</th> <th>whatcha</th> <th>struggl</th> <th>lad</th> <th>a</th> <th>resid</th> <th>salad</th> <th>told</th> <th>brother</th> <th>rmph</th> <th>which</th> <th>philosoph</th> <th>clear</th> <th>cracker</th> <th>zavitz</th> <th>tell</th> <th>conclus</th> <th>collin</th> <th>shhh</th> <th>tickl</th> <th>delus</th> <th>ship</th> <th>band</th> <th>naiv</th> <th>sever</th> <th>wreck</th> <th>torch</th> <th>gym</th> <th>bang</th> <th>man</th> <th>aid</th> <th>purchas</th> <th>review</th> <th>lantern</th> <th>new</th> <th>nunez</th> <th>wish</th> <th>nest</th> <th>fortun</th> <th>bud</th> <th>excus</th> <th>rattl</th> <th>knight</th> <th>broadwai</th> <th>destini</th> <th>smell</th> <th>rick</th> <th>mommi</th> <th>klingon</th> <th>staci</th> <th>calcul</th> <th>signific</th> <th>arrog</th> <th>mac</th> <th>offic</th> <th>pitch</th> <th>detect</th> <th>hood</th> <th>relationship</th> <th>sunshin</th> <th>arlyn</th> <th>gentl</th> <th>heard</th> <th>babe</th> <th>beg</th> <th>princess</th> <th>memphi</th> <th>addict</th> <th>incid</th> <th>reput</th> <th>forth</th> <th>club</th> <th>theme</th> <th>anthoni</th> <th>corn</th> <th>suitcas</th> <th>went</th> <th>worthi</th> <th>jessi</th> <th>announc</th> <th>panic</th> <th>pleasant</th> <th>bath</th> <th>pauli</th> <th>sampl</th> <th>policeman</th> <th>co</th> <th>sonni</th> <th>gave</th> <th>weigh</th> <th>attic</th> <th>incident</th> <th>quarantin</th> <th>got</th> <th>napkin</th> <th>chair</th> <th>grandmoth</th> <th>theft</th> <th>disord</th> <th>blame</th> <th>stronger</th> <th>perform</th> <th>absurd</th> <th>mitchel</th> <th>cab</th> <th>mutant</th> <th>corbett</th> <th>travi</th> <th>erica</th> <th>pressur</th> <th>larg</th> <th>toddi</th> <th>gum</th> <th>trap</th> <th>twelv</th> <th>treatment</th> <th>xrai</th> <th>callin</th> <th>rope</th> <th>japan</th> <th>pot</th> <th>method</th> <th>enter</th> <th>confess</th> <th>killer</th> <th>constantli</th> <th>scar</th> <th>concert</th> <th>thirteen</th> <th>debbi</th> <th>knot</th> <th>pension</th> <th>bob</th> <th>home</th> <th>walt</th> <th>troi</th> <th>argument</th> <th>desper</th> <th>jeremi</th> <th>epp</th> <th>havent</th> <th>ugh</th> <th>dewei</th> <th>dumb</th> <th>deputi</th> <th>phone</th> <th>worf</th> <th>spook</th> <th>avenu</th> <th>hm</th> <th>keep</th> <th>happen</th> <th>plane</th> <th>cartel</th> <th>brush</th> <th>betrai</th> <th>geez</th> <th>spark</th> <th>tryin</th> <th>injur</th> <th>lauren</th> <th>jam</th> <th>jill</th> <th>mikei</th> <th>cocain</th> <th>drop</th> <th>harri</th> <th>paus</th> <th>space</th> <th>sound</th> <th>julia</th> <th>warehous</th> <th>remark</th> <th>rum</th> <th>snap</th> <th>meantim</th> <th>candi</th> <th>proper</th> <th>realist</th> <th>arthur</th> <th>sh</th> <th>survivor</th> <th>teeth</th> <th>de</th> <th>sens</th> <th>maneuv</th> <th>poetri</th> <th>overnight</th> <th>bow</th> <th>dalla</th> <th>discharg</th> <th>bill</th> <th>fly</th> <th>realiti</th> <th>compar</th> <th>upstair</th> <th>pritchett</th> <th>terrif</th> <th>anoth</th> <th>kiddin</th> <th>unfair</th> <th>brace</th> <th>chimera</th> <th>feather</th> <th>regul</th> <th>hump</th> <th>thank</th> <th>matur</th> <th>valu</th> <th>even</th> <th>shoulder</th> <th>booth</th> <th>ribbon</th> <th>ceas</th> <th>base</th> <th>dan</th> <th>smokei</th> <th>coup</th> <th>thick</th> <th>bui</th> <th>stud</th> <th>scenario</th> <th>laid</th> <th>mexican</th> <th>prior</th> <th>bra</th> <th>leader</th> <th>charli</th> <th>fairli</th> <th>nurs</th> <th>ahhh</th> <th>texa</th> <th>lui</th> <th>except</th> <th>august</th> <th>sittin</th> <th>bait</th> <th>power</th> <th>kansa</th> <th>scotti</th> <th>swipe</th> <th>videotap</th> <th>opposit</th> <th>expand</th> <th>neighborhood</th> <th>out</th> <th>melt</th> <th>difficult</th> <th>crow</th> <th>occup</th> <th>swine</th> <th>expens</th> <th>brad</th> <th>balanc</th> <th>tension</th> <th>smarter</th> <th>team</th> <th>salari</th> <th>expos</th> <th>incom</th> <th>special</th> <th>thea</th> <th>needl</th> <th>aggress</th> <th>necessari</th> <th>burk</th> <th>uniform</th> <th>crawl</th> <th>hundr</th> <th>radio</th> <th>into</th> <th>singer</th> <th>explan</th> <th>sollozzo</th> <th>beauti</th> <th>whole</th> <th>attach</th> <th>bleed</th> <th>card</th> <th>longer</th> <th>good</th> <th>draw</th> <th>rate</th> <th>enlighten</th> <th>startin</th> <th>demon</th> <th>street</th> <th>thatll</th> <th>convers</th> <th>nerv</th> <th>telegram</th> <th>therer</th> <th>stan</th> <th>momma</th> <th>nightmar</th> <th>combat</th> <th>brand</th> <th>greatest</th> <th>color</th> <th>sourc</th> <th>swap</th> <th>preciou</th> <th>greas</th> <th>manipul</th> <th>blood</th> <th>batman</th> <th>hitler</th> <th>visit</th> <th>india</th> <th>poke</th> <th>baltimor</th> <th>tear</th> <th>fate</th> <th>cours</th> <th>stu</th> <th>vampir</th> <th>vessel</th> <th>creep</th> <th>margaret</th> <th>bigger</th> <th>error</th> <th>repair</th> <th>grab</th> <th>nope</th> <th>period</th> <th>construct</th> <th>email</th> <th>shinzon</th> <th>activ</th> <th>bradi</th> <th>sprai</th> <th>steel</th> <th>shack</th> <th>til</th> <th>woodi</th> <th>roman</th> <th>risk</th> <th>peach</th> <th>instruct</th> <th>plagu</th> <th>provid</th> <th>grandma</th> <th>tough</th> <th>schmuck</th> <th>souvenir</th> <th>stain</th> <th>wine</th> <th>carla</th> <th>mckenna</th> <th>rexroth</th> <th>spend</th> <th>i</th> <th>susi</th> <th>brodi</th> <th>far</th> <th>sweater</th> <th>appeal</th> <th>vibe</th> <th>poet</th> <th>oz</th> <th>finch</th> <th>busi</th> <th>perfect</th> <th>boyfriend</th> <th>lemon</th> <th>hand</th> <th>charm</th> <th>sustain</th> <th>retain</th> <th>continu</th> <th>hammer</th> <th>ripper</th> <th>personnel</th> <th>beaten</th> <th>remind</th> <th>joan</th> <th>witch</th> <th>second</th> <th>impress</th> <th>hint</th> <th>avoid</th> <th>billi</th> <th>wipe</th> <th>calvin</th> <th>shrink</th> <th>darn</th> <th>is</th> <th>show</th> <th>first</th> <th>intellig</th> <th>kit</th> <th>collar</th> <th>bundi</th> <th>feel</th> <th>martha</th> <th>fortyeight</th> <th>franki</th> <th>rehears</th> <th>reunion</th> <th>previou</th> <th>fire</th> <th>specimen</th> <th>exactli</th> <th>gotta</th> <th>claric</th> <th>you</th> <th>psychot</th> <th>liberti</th> <th>ever</th> <th>indian</th> <th>karen</th> <th>ear</th> <th>uncl</th> <th>mar</th> <th>surround</th> <th>wood</th> <th>airport</th> <th>jean</th> <th>prescript</th> <th>occupi</th> <th>slave</th> <th>yup</th> <th>cri</th> <th>threw</th> <th>extort</th> <th>cheap</th> <th>melvin</th> <th>strain</th> <th>solut</th> <th>skye</th> <th>packag</th> <th>young</th> <th>agre</th> <th>purs</th> <th>puppet</th> <th>clearli</th> <th>ellen</th> <th>serious</th> <th>applejack</th> <th>threaten</th> <th>swear</th> <th>journalist</th> <th>beth</th> <th>feelin</th> <th>danni</th> <th>hmmm</th> <th>stomach</th> <th>certif</th> <th>them</th> <th>wigand</th> <th>electron</th> <th>surfac</th> <th>op</th> <th>edit</th> <th>backward</th> <th>buckaroo</th> <th>fare</th> <th>mhm</th> <th>cynic</th> <th>fee</th> <th>blown</th> <th>workin</th> <th>eric</th> <th>gear</th> <th>chill</th> <th>public</th> <th>elizabeth</th> <th>dy</th> <th>great</th> <th>load</th> <th>melani</th> <th>unless</th> <th>mora</th> <th>nativ</th> <th>gene</th> <th>wind</th> <th>code</th> <th>bribe</th> <th>dieter</th> <th>boil</th> <th>deliber</th> <th>ritual</th> <th>dolor</th> <th>pride</th> <th>molli</th> <th>felt</th> <th>oswald</th> <th>drank</th> <th>el</th> <th>soap</th> <th>suck</th> <th>psycho</th> <th>prom</th> <th>dig</th> <th>sword</th> <th>exchang</th> <th>duti</th> <th>parti</th> <th>juliet</th> <th>seventh</th> <th>given</th> <th>hawk</th> <th>fry</th> <th>thei</th> <th>vinc</th> <th>notion</th> <th>consid</th> <th>upset</th> <th>ve</th> <th>yeah</th> <th>compet</th> <th>ticket</th> <th>doom</th> <th>ski</th> <th>courthous</th> <th>alert</th> <th>tan</th> <th>nam</th> <th>posit</th> <th>urgent</th> <th>tast</th> <th>makeup</th> <th>parol</th> <th>schwartz</th> <th>doctor</th> <th>aw</th> <th>christ</th> <th>scari</th> <th>walkin</th> <th>wrist</th> <th>cattl</th> <th>truck</th> <th>eighteen</th> <th>ethan</th> <th>idiot</th> <th>hotel</th> <th>hook</th> <th>notic</th> <th>heali</th> <th>benjamin</th> <th>octob</th> <th>ought</th> <th>isnt</th> <th>drew</th> <th>whether</th> <th>seat</th> <th>matter</th> <th>er</th> <th>int</th> <th>arent</th> <th>aubrei</th> <th>lookout</th> <th>gabe</th> <th>cliff</th> <th>hail</th> <th>horribl</th> <th>heaven</th> <th>hospit</th> <th>whatsoev</th> <th>supernatur</th> <th>lot</th> <th>establish</th> <th>select</th> <th>motor</th> <th>brenda</th> <th>guilt</th> <th>glori</th> <th>move</th> <th>rage</th> <th>decent</th> <th>religion</th> <th>pillow</th> <th>sincer</th> <th>steven</th> <th>winston</th> <th>arm</th> <th>system</th> <th>score</th> <th>isn</th> <th>wallac</th> <th>lane</th> <th>burger</th> <th>bowl</th> <th>umeu</th> <th>journal</th> <th>lonnegan</th> <th>teddi</th> <th>pd</th> <th>trooper</th> <th>puppi</th> <th>prosecut</th> <th>badli</th> <th>thought</th> <th>troop</th> <th>forti</th> <th>highest</th> <th>dust</th> <th>begin</th> <th>lapd</th> <th>priest</th> <th>turk</th> <th>hawaii</th> <th>amateur</th> <th>honor</th> <th>ap</th> <th>lodg</th> <th>lombard</th> <th>academi</th> <th>gibson</th> <th>injuri</th> <th>wha</th> <th>therefor</th> <th>victor</th> <th>profess</th> <th>strike</th> <th>deed</th> <th>grand</th> <th>penthous</th> <th>yellow</th> <th>insult</th> <th>genuin</th> <th>ward</th> <th>mi</th> <th>stolen</th> <th>banana</th> <th>speed</th> <th>piec</th> <th>born</th> <th>oughta</th> <th>hacker</th> <th>stream</th> <th>smith</th> <th>choir</th> <th>variou</th> <th>weed</th> <th>boundari</th> <th>panti</th> <th>accord</th> <th>best</th> <th>condom</th> <th>whatll</th> <th>carlo</th> <th>promis</th> <th>barrett</th> <th>pentagon</th> <th>sooner</th> <th>nexu</th> <th>bloodi</th> <th>said</th> <th>mississippi</th> <th>legitim</th> <th>syndrom</th> <th>repli</th> <th>purpl</th> <th>break</th> <th>wash</th> <th>motel</th> <th>wrap</th> <th>fifteen</th> <th>sell</th> <th>bravo</th> <th>world</th> <th>beaumont</th> <th>switch</th> <th>adrian</th> <th>after</th> <th>vanish</th> <th>window</th> <th>interfer</th> <th>countri</th> <th>wretch</th> <th>sugar</th> <th>captur</th> <th>wed</th> <th>adrenalin</th> <th>dorothi</th> <th>jude</th> <th>gorgeou</th> <th>corneliu</th> <th>flip</th> <th>beyond</th> <th>mix</th> <th>bandit</th> <th>rabbit</th> <th>rare</th> <th>cecil</th> <th>belong</th> <th>collaps</th> <th>resort</th> <th>cuz</th> <th>trevor</th> <th>lovebird</th> <th>express</th> <th>dutch</th> <th>scare</th> <th>kept</th> <th>stephani</th> <th>signatur</th> <th>warren</th> <th>battl</th> <th>insight</th> <th>next</th> <th>lamp</th> <th>trail</th> <th>kent</th> <th>forg</th> <th>ran</th> <th>proce</th> <th>shade</th> <th>asylum</th> <th>kubelik</th> <th>vallen</th> <th>in</th> <th>everyon</th> <th>kidnei</th> <th>hostil</th> <th>pie</th> <th>written</th> <th>bye</th> <th>refer</th> <th>explos</th> <th>tucker</th> <th>swayzak</th> <th>lord</th> <th>room</th> <th>split</th> <th>udou</th> <th>whack</th> <th>lo</th> <th>drawer</th> <th>wild</th> <th>hire</th> <th>among</th> <th>disgust</th> <th>pocket</th> <th>margo</th> <th>ignor</th> <th>goodlook</th> <th>claim</th> <th>approach</th> <th>fruit</th> <th>raid</th> <th>phrase</th> <th>luck</th> <th>kevin</th> <th>autograph</th> <th>core</th> <th>download</th> <th>evil</th> <th>strand</th> <th>woulda</th> <th>branch</th> <th>ghost</th> <th>pack</th> <th>robber</th> <th>dime</th> <th>angri</th> <th>ju</th> <th>uyouru</th> <th>drill</th> <th>preserv</th> <th>serial</th> <th>option</th> <th>oldest</th> <th>pattern</th> <th>herb</th> <th>row</th> <th>ball</th> <th>equip</th> <th>drift</th> <th>mike</th> <th>tyler</th> <th>choos</th> <th>nag</th> <th>bookstor</th> <th>happi</th> <th>haircut</th> <th>candid</th> <th>tim</th> <th>friend</th> <th>sneak</th> <th>those</th> <th>wayn</th> <th>straw</th> <th>cynthia</th> <th>ad</th> <th>two</th> <th>eyebal</th> <th>carv</th> <th>overlook</th> <th>contractor</th> <th>languag</th> <th>fortyf</th> <th>admit</th> <th>slight</th> <th>popular</th> <th>compliment</th> <th>del</th> <th>listen</th> <th>mess</th> <th>free</th> <th>keen</th> <th>noth</th> <th>acquir</th> <th>earlier</th> <th>bluff</th> <th>twentyfour</th> <th>steak</th> <th>california</th> <th>dial</th> <th>industri</th> <th>hopefulli</th> <th>probli</th> <th>certainli</th> <th>magnet</th> <th>mobil</th> <th>elvi</th> <th>parlor</th> <th>utah</th> <th>we</th> <th>phoni</th> <th>sec</th> <th>fellow</th> <th>eagl</th> <th>achiev</th> <th>denni</th> <th>head</th> <th>bore</th> <th>dyou</th> <th>junior</th> <th>bite</th> <th>through</th> <th>grenad</th> <th>phase</th> <th>fabul</th> <th>diplomat</th> <th>wrong</th> <th>itll</th> <th>again</th> <th>dock</th> <th>bear</th> <th>minor</th> <th>white</th> <th>environ</th> <th>patient</th> <th>mug</th> <th>lighthous</th> <th>upsid</th> <th>nasal</th> <th>navig</th> <th>sad</th> <th>research</th> <th>case</th> <th>gu</th> <th>brutal</th> <th>aint</th> <th>sinc</th> <th>nichola</th> <th>intrud</th> <th>dare</th> <th>were</th> <th>import</th> <th>pi</th> <th>babysit</th> <th>race</th> <th>oh</th> <th>flag</th> <th>shaw</th> <th>teacher</th> <th>pimp</th> <th>diego</th> <th>victim</th> <th>anymor</th> <th>round</th> <th>rough</th> <th>occas</th> <th>sulu</th> <th>woke</th> <th>chose</th> <th>convent</th> <th>prioriti</th> <th>treadston</th> <th>drag</th> <th>maud</th> <th>monster</th> <th>ic</th> <th>or</th> <th>gener</th> <th>penguin</th> <th>earth</th> <th>dc</th> <th>cave</th> <th>fleet</th> <th>wrote</th> <th>goddammit</th> <th>venic</th> <th>wade</th> <th>spoken</th> <th>unfortun</th> <th>campaign</th> <th>fever</th> <th>marcu</th> <th>almost</th> <th>these</th> <th>sick</th> <th>reach</th> <th>screw</th> <th>grace</th> <th>anyth</th> <th>empir</th> <th>rack</th> <th>nell</th> <th>divin</th> <th>violet</th> <th>sing</th> <th>friendship</th> <th>loomi</th> <th>basebal</th> <th>stood</th> <th>clark</th> <th>bottl</th> <th>marylin</th> <th>sin</th> <th>juli</th> <th>halfwai</th> <th>spanish</th> <th>hannah</th> <th>shower</th> <th>murphi</th> <th>pal</th> <th>why</th> <th>leagu</th> <th>our</th> <th>die</th> <th>glad</th> <th>depart</th> <th>mightv</th> <th>deborah</th> <th>spent</th> <th>heather</th> <th>grant</th> <th>delici</th> <th>bloom</th> <th>halloween</th> <th>selfish</th> <th>mack</th> <th>pleas</th> <th>later</th> <th>tomb</th> <th>veri</th> <th>al</th> <th>filthi</th> <th>bein</th> <th>cream</th> <th>invit</th> <th>ay</th> <th>mountain</th> <th>tax</th> <th>liquid</th> <th>suffici</th> <th>start</th> <th>particl</th> <th>taught</th> <th>worthless</th> <th>caitlin</th> <th>paperwork</th> <th>duffi</th> <th>fade</th> <th>lothar</th> <th>courag</th> <th>puls</th> <th>fighter</th> <th>galleri</th> <th>restaur</th> <th>sky</th> <th>hollywood</th> <th>accept</th> <th>trip</th> <th>grid</th> <th>vigo</th> <th>cellar</th> <th>urg</th> <th>recal</th> <th>task</th> <th>nose</th> <th>circul</th> <th>sperm</th> <th>experi</th> <th>rust</th> <th>thirtyseven</th> <th>lame</th> <th>editor</th> <th>univers</th> <th>children</th> <th>slug</th> <th>ration</th> <th>adam</th> <th>mailbox</th> <th>twentytwo</th> <th>reveal</th> <th>eat</th> <th>tobacco</th> <th>schuyler</th> <th>widow</th> <th>forgiv</th> <th>punch</th> <th>transfer</th> <th>humor</th> <th>thrill</th> <th>jewish</th> <th>elbow</th> <th>teach</th> <th>flush</th> <th>pace</th> <th>copi</th> <th>locat</th> <th>senior</th> <th>mantan</th> <th>auto</th> <th>chemistri</th> <th>bolt</th> <th>steadi</th> <th>kick</th> <th>ego</th> <th>underneath</th> <th>approv</th> <th>cloud</th> <th>studi</th> <th>hunter</th> <th>clue</th> <th>roof</th> <th>french</th> <th>billion</th> <th>streak</th> <th>chauncei</th> <th>judi</th> <th>cost</th> <th>campbel</th> <th>contrari</th> <th>bought</th> <th>negro</th> <th>seein</th> <th>area</th> <th>testifi</th> <th>remain</th> <th>summer</th> <th>dunbar</th> <th>racket</th> <th>no</th> <th>decis</th> <th>gardin</th> <th>miami</th> <th>dark</th> <th>bird</th> <th>reverend</th> <th>loyal</th> <th>clair</th> <th>master</th> <th>finger</th> <th>stink</th> <th>expedit</th> <th>skip</th> <th>pardon</th> <th>jone</th> <th>fals</th> <th>toe</th> <th>gal</th> <th>might</th> <th>approxim</th> <th>norvil</th> <th>sheriff</th> <th>behav</th> <th>punk</th> <th>uareu</th> <th>inde</th> <th>maximum</th> <th>vernon</th> <th>hide</th> <th>hampshir</th> <th>put</th> <th>shh</th> <th>program</th> <th>plan</th> <th>scratch</th> <th>ban</th> <th>adopt</th> <th>ninth</th> <th>gui</th> <th>physic</th> <th>enhanc</th> <th>dead</th> <th>bounc</th> <th>perspect</th> <th>column</th> <th>refus</th> <th>knife</th> <th>dragon</th> <th>caesar</th> <th>spacecraft</th> <th>step</th> <th>genet</th> <th>bowler</th> <th>driver</th> <th>result</th> <th>bishop</th> <th>crime</th> <th>ram</th> <th>howr</th> <th>st</th> <th>memori</th> <th>dana</th> <th>upper</th> <th>front</th> <th>twice</th> <th>susan</th> <th>whoever</th> <th>know</th> <th>actual</th> <th>war</th> <th>egg</th> <th>johnson</th> <th>island</th> <th>pervert</th> <th>muscl</th> <th>darryl</th> <th>umm</th> <th>fourth</th> <th>fresh</th> <th>recept</th> <th>crack</th> <th>vote</th> <th>betcha</th> <th>skywir</th> <th>donovan</th> <th>societi</th> <th>uncomfort</th> <th>commit</th> <th>mai</th> <th>april</th> <th>purpos</th> <th>stare</th> <th>common</th> <th>campu</th> <th>mask</th> <th>opera</th> <th>kennedi</th> <th>bree</th> <th>acm</th> <th>dug</th> <th>climb</th> <th>chicago</th> <th>ey</th> <th>pinta</th> <th>lack</th> <th>hung</th> <th>camp</th> <th>clinic</th> <th>spat</th> <th>uthisu</th> <th>sock</th> <th>dawson</th> <th>museum</th> <th>vacuum</th> <th>leap</th> <th>romulan</th> <th>soviet</th> <th>freewai</th> <th>half</th> <th>profit</th> <th>iri</th> <th>real</th> <th>client</th> <th>an</th> <th>dynamit</th> <th>eugen</th> <th>nuke</th> <th>robin</th> <th>rub</th> <th>gloria</th> <th>becam</th> <th>deceiv</th> <th>distract</th> <th>matthew</th> <th>ken</th> <th>where</th> <th>america</th> <th>bela</th> <th>often</th> <th>sox</th> <th>dear</th> <th>partner</th> <th>devil</th> <th>harm</th> <th>shotgun</th> <th>adjust</th> <th>scheme</th> <th>let</th> <th>trash</th> <th>sherri</th> <th>script</th> <th>join</th> <th>clock</th> <th>allison</th> <th>confirm</th> <th>clau</th> <th>probat</th> <th>rhyme</th> <th>whale</th> <th>nsa</th> <th>gruner</th> <th>somedai</th> <th>tripl</th> <th>forward</th> <th>pool</th> <th>flat</th> <th>sole</th> <th>american</th> <th>pentang</th> <th>grown</th> <th>frederick</th> <th>perfectli</th> <th>potenti</th> <th>mccaffrei</th> <th>form</th> <th>nap</th> <th>slide</th> <th>elev</th> <th>thelma</th> <th>fink</th> <th>pumpkin</th> <th>lilli</th> <th>farewel</th> <th>swann</th> <th>meal</th> <th>fergu</th> <th>mention</th> <th>cant</th> <th>pain</th> <th>tri</th> <th>ok</th> <th>crisi</th> <th>jose</th> <th>would</th> <th>beach</th> <th>size</th> <th>angel</th> <th>cancel</th> <th>tuck</th> <th>cook</th> <th>began</th> <th>pregnanc</th> <th>king</th> <th>finish</th> <th>automat</th> <th>overwhelm</th> <th>fast</th> <th>intens</th> <th>translat</th> <th>sucker</th> <th>etern</th> <th>still</th> <th>beneath</th> <th>funer</th> <th>immedi</th> <th>prai</th> <th>theatr</th> <th>ceremoni</th> <th>pregnant</th> <th>capac</th> <th>dya</th> <th>killain</th> <th>maroon</th> <th>sammi</th> <th>gordon</th> <th>bother</th> <th>hah</th> <th>cartman</th> <th>crude</th> <th>bedroom</th> <th>mustang</th> <th>offer</th> <th>path</th> <th>doyl</th> <th>viktor</th> <th>iim</th> <th>buff</th> <th>disk</th> <th>birthdai</th> <th>kilo</th> <th>lap</th> <th>am</th> <th>poem</th> <th>least</th> <th>pick</th> <th>pad</th> <th>slowli</th> <th>garag</th> <th>person</th> <th>permit</th> <th>further</th> <th>connect</th> <th>surgeon</th> <th>freezer</th> <th>obviou</th> <th>dinosaur</th> <th>audrei</th> <th>furnitur</th> <th>scientist</th> <th>roll</th> <th>collect</th> <th>chat</th> <th>attend</th> <th>document</th> <th>chapter</th> <th>death</th> <th>venkman</th> <th>fingernail</th> <th>sweet</th> <th>ol</th> <th>stalk</th> <th>salt</th> <th>tobi</th> <th>camera</th> <th>entri</th> <th>congratul</th> <th>inspir</th> <th>jackson</th> <th>simul</th> <th>friedman</th> <th>pale</th> <th>kathryn</th> <th>somebodi</th> <th>splendid</th> <th>eighti</th> <th>eras</th> <th>digniti</th> <th>swim</th> <th>ly</th> <th>star</th> <th>ye</th> <th>shy</th> <th>pin</th> <th>outpost</th> <th>rais</th> <th>yah</th> <th>leopard</th> <th>exposur</th> <th>puttin</th> <th>martin</th> <th>chip</th> <th>somehow</th> <th>jaeger</th> <th>silent</th> <th>fact</th> <th>ni</th> <th>tub</th> <th>bag</th> <th>initi</th> <th>buri</th> <th>council</th> <th>andrew</th> <th>brazil</th> <th>neil</th> <th>suit</th> <th>aliv</th> <th>us</th> <th>gabriel</th> <th>expertis</th> <th>secret</th> <th>cherri</th> <th>crippl</th> <th>cross</th> <th>silver</th> <th>thief</th> <th>whip</th> <th>insan</th> <th>riplei</th> <th>foreign</th> <th>ted</th> <th>glimps</th> <th>lebowski</th> <th>me</th> <th>peopl</th> <th>koessler</th> <th>minist</th> <th>kristen</th> <th>faze</th> <th>payment</th> <th>dean</th> <th>regret</th> <th>histor</th> <th>slaughter</th> <th>near</th> <th>popcorn</th> <th>japanes</th> <th>fuse</th> <th>lucki</th> <th>mous</th> <th>wherer</th> <th>powel</th> <th>vanessa</th> <th>inherit</th> <th>meat</th> <th>sang</th> <th>bert</th> <th>scale</th> <th>scam</th> <th>servic</th> <th>porno</th> <th>spring</th> <th>storag</th> <th>small</th> <th>thing</th> <th>tragedi</th> <th>makin</th> <th>just</th> <th>costum</th> <th>averag</th> <th>experienc</th> <th>click</th> <th>lose</th> <th>folk</th> <th>danger</th> <th>mayflow</th> <th>more</th> <th>view</th> <th>jasper</th> <th>hostag</th> <th>swamp</th> <th>cup</th> <th>hatch</th> <th>echo</th> <th>cindi</th> <th>buddyboi</th> <th>depend</th> <th>rang</th> <th>harold</th> <th>instrument</th> <th>deeper</th> <th>beam</th> <th>fish</th> <th>writer</th> <th>stir</th> <th>penelop</th> <th>react</th> <th>knive</th> <th>mafia</th> <th>carter</th> <th>whod</th> <th>lincoln</th> <th>swell</th> <th>boat</th> <th>certain</th> <th>jet</th> <th>steal</th> <th>safer</th> <th>larger</th> <th>magazin</th> <th>edgar</th> <th>pittsburgh</th> <th>committe</th> <th>truth</th> <th>green</th> <th>over</th> <th>prevent</th> <th>impati</th> <th>tv</th> <th>ian</th> <th>alarm</th> <th>boom</th> <th>tripp</th> <th>basement</th> <th>torpedo</th> <th>such</th> <th>sir</th> <th>whatr</th> <th>jump</th> <th>shari</th> <th>kenni</th> <th>oti</th> <th>sweat</th> <th>spine</th> <th>everybodi</th> <th>salon</th> <th>asian</th> <th>miser</th> <th>church</th> <th>trust</th> <th>peac</th> <th>surveil</th> <th>understand</th> <th>picnic</th> <th>skipper</th> <th>bodi</th> <th>itself</th> <th>mental</th> <th>come</th> <th>shortli</th> <th>bizarr</th> <th>evolv</th> <th>tea</th> <th>known</th> <th>unlik</th> <th>arni</th> <th>whistler</th> <th>firm</th> <th>occur</th> <th>grandpa</th> <th>traitor</th> <th>that</th> <th>gosh</th> <th>wynant</th> <th>hopkin</th> <th>cough</th> <th>butch</th> <th>agn</th> <th>wichita</th> <th>tall</th> <th>sent</th> <th>manner</th> <th>artifici</th> <th>dumper</th> <th>palac</th> <th>track</th> <th>twin</th> <th>darl</th> <th>stark</th> <th>despit</th> <th>alvi</th> <th>pen</th> <th>wore</th> <th>ani</th> <th>marshal</th> <th>deaf</th> <th>stretch</th> <th>chopper</th> <th>coloni</th> <th>shaft</th> <th>pat</th> <th>hal</th> <th>allow</th> <th>knee</th> <th>ugli</th> <th>combin</th> <th>sheldrak</th> <th>wall</th> <th>complaint</th> <th>understood</th> <th>varieti</th> <th>roger</th> <th>page</th> <th>alphabet</th> <th>men</th> <th>palm</th> <th>terror</th> <th>li</th> <th>skill</th> <th>childhood</th> <th>wilder</th> <th>elliot</th> <th>specialist</th> <th>travel</th> <th>howev</th> <th>exploit</th> <th>quit</th> <th>mph</th> <th>traci</th> <th>extrem</th> <th>torranc</th> <th>fiction</th> <th>measur</th> <th>bug</th> <th>lawrenc</th> <th>pendergast</th> <th>cb</th> <th>art</th> <th>convinc</th> <th>float</th> <th>hop</th> <th>armi</th> <th>socal</th> <th>sailor</th> <th>circl</th> <th>pursu</th> <th>notifi</th> <th>creasi</th> <th>sum</th> <th>restrict</th> <th>shield</th> <th>rocco</th> <th>asleep</th> <th>failur</th> <th>memor</th> <th>mon</th> <th>cool</th> <th>emma</th> <th>shape</th> <th>state</th> <th>discount</th> <th>youll</th> <th>repeat</th> <th>neither</th> <th>chart</th> <th>soul</th> <th>dose</th> <th>kai</th> <th>wilson</th> <th>valet</th> <th>tore</th> <th>sacr</th> <th>rorschach</th> <th>custom</th> <th>imit</th> <th>rekal</th> <th>railroad</th> <th>monsieur</th> <th>read</th> <th>lighter</th> <th>utterli</th> <th>loss</th> <th>appropri</th> <th>veget</th> <th>oklahoma</th> <th>oliv</th> <th>habit</th> <th>slick</th> <th>intuit</th> <th>rod</th> <th>dedic</th> <th>propos</th> <th>corridor</th> <th>nut</th> <th>auction</th> <th>flu</th> <th>bottom</th> <th>patron</th> <th>uwhyu</th> <th>richi</th> <th>link</th> <th>signal</th> <th>custodi</th> <th>chanc</th> <th>sayer</th> <th>skin</th> <th>mortal</th> <th>add</th> <th>honeymoon</th> <th>receipt</th> <th>nun</th> <th>usual</th> <th>starv</th> <th>eight</th> <th>morgu</th> <th>comin</th> <th>style</th> <th>cadet</th> <th>uh</th> <th>uhuh</th> <th>earn</th> <th>tini</th> <th>volunt</th>\n",
       "        </tr>\n",
       "    </thead>\n",
       "    <tbody>\n",
       "        <tr>\n",
       "            <td>black rain           </td> <td>1989/I</td> <td>6.4   </td> <td>thriller</td> <td>2834   </td> <td>0.00336952</td> <td>0          </td> <td>0.00149757 </td> <td>0          </td> <td>0    </td> <td>0   </td> <td>0     </td> <td>0         </td> <td>0   </td> <td>0    </td> <td>0        </td> <td>0          </td> <td>0    </td> <td>0        </td> <td>0.000374392</td> <td>0        </td> <td>0   </td> <td>0          </td> <td>0     </td> <td>0          </td> <td>0    </td> <td>0   </td> <td>0      </td> <td>0          </td> <td>0       </td> <td>0   </td> <td>0        </td> <td>0      </td> <td>0     </td> <td>0   </td> <td>0   </td> <td>0      </td> <td>0    </td> <td>0     </td> <td>0          </td> <td>0          </td> <td>0          </td> <td>0.000374392</td> <td>0     </td> <td>0          </td> <td>0          </td> <td>0.000374392</td> <td>0         </td> <td>0   </td> <td>0      </td> <td>0.000748783</td> <td>0.000374392</td> <td>0       </td> <td>0.00187196 </td> <td>0        </td> <td>0   </td> <td>0.000374392</td> <td>0.000374392</td> <td>0.000374392</td> <td>0      </td> <td>0      </td> <td>0    </td> <td>0          </td> <td>0    </td> <td>0.000374392</td> <td>0        </td> <td>0     </td> <td>0.000748783</td> <td>0    </td> <td>0          </td> <td>0    </td> <td>0     </td> <td>0        </td> <td>0.00149757</td> <td>0          </td> <td>0          </td> <td>0     </td> <td>0    </td> <td>0.000374392</td> <td>0      </td> <td>0      </td> <td>0     </td> <td>0    </td> <td>0      </td> <td>0       </td> <td>0   </td> <td>0   </td> <td>0     </td> <td>0      </td> <td>0    </td> <td>0.000748783</td> <td>0    </td> <td>0     </td> <td>0     </td> <td>0   </td> <td>0   </td> <td>0   </td> <td>0   </td> <td>0.00224635</td> <td>0     </td> <td>0     </td> <td>0     </td> <td>0       </td> <td>0      </td> <td>0          </td> <td>0    </td> <td>0   </td> <td>0    </td> <td>0   </td> <td>0   </td> <td>0     </td> <td>0     </td> <td>0     </td> <td>0   </td> <td>0          </td> <td>0    </td> <td>0.000748783</td> <td>0       </td> <td>0     </td> <td>0.00374392</td> <td>0       </td> <td>0          </td> <td>0          </td> <td>0     </td> <td>0          </td> <td>0          </td> <td>0     </td> <td>0.00299513</td> <td>0.000374392</td> <td>0          </td> <td>0   </td> <td>0         </td> <td>0     </td> <td>0     </td> <td>0   </td> <td>0     </td> <td>0    </td> <td>0   </td> <td>0.00224635</td> <td>0    </td> <td>0      </td> <td>0          </td> <td>0.000374392</td> <td>0   </td> <td>0.000748783</td> <td>0      </td> <td>0     </td> <td>0          </td> <td>0       </td> <td>0      </td> <td>0      </td> <td>0      </td> <td>0   </td> <td>0      </td> <td>0      </td> <td>0   </td> <td>0          </td> <td>0   </td> <td>0       </td> <td>0   </td> <td>0          </td> <td>0   </td> <td>0        </td> <td>0     </td> <td>0   </td> <td>0     </td> <td>0     </td> <td>0       </td> <td>0       </td> <td>0     </td> <td>0.000374392</td> <td>0.00112317</td> <td>0    </td> <td>0          </td> <td>0     </td> <td>0     </td> <td>0   </td> <td>0.000374392</td> <td>0          </td> <td>0          </td> <td>0          </td> <td>0   </td> <td>0   </td> <td>0    </td> <td>0          </td> <td>0   </td> <td>0      </td> <td>0     </td> <td>0     </td> <td>0.00112317 </td> <td>0         </td> <td>0          </td> <td>0     </td> <td>0     </td> <td>0          </td> <td>0     </td> <td>0     </td> <td>0      </td> <td>0      </td> <td>0.00112317 </td> <td>0.000374392</td> <td>0        </td> <td>0    </td> <td>0          </td> <td>0    </td> <td>0   </td> <td>0       </td> <td>0   </td> <td>0     </td> <td>0   </td> <td>0   </td> <td>0     </td> <td>0     </td> <td>0    </td> <td>0      </td> <td>0   </td> <td>0    </td> <td>0    </td> <td>0          </td> <td>0          </td> <td>0      </td> <td>0          </td> <td>0.000374392</td> <td>0    </td> <td>0    </td> <td>0          </td> <td>0.00224635</td> <td>0   </td> <td>0          </td> <td>0      </td> <td>0.00262074 </td> <td>0   </td> <td>0   </td> <td>0          </td> <td>0.000374392</td> <td>0    </td> <td>0          </td> <td>0.000374392</td> <td>0       </td> <td>0    </td> <td>0   </td> <td>0.00149757 </td> <td>0    </td> <td>0          </td> <td>0   </td> <td>0   </td> <td>0      </td> <td>0      </td> <td>0.0089854</td> <td>0         </td> <td>0.000374392</td> <td>0     </td> <td>0          </td> <td>0       </td> <td>0      </td> <td>0        </td> <td>0     </td> <td>0     </td> <td>0.000374392</td> <td>0      </td> <td>0   </td> <td>0           </td> <td>0   </td> <td>0    </td> <td>0.000374392</td> <td>0          </td> <td>0          </td> <td>0.000374392</td> <td>0   </td> <td>0    </td> <td>0   </td> <td>0          </td> <td>0.000748783</td> <td>0      </td> <td>0          </td> <td>0          </td> <td>0     </td> <td>0        </td> <td>0    </td> <td>0          </td> <td>0    </td> <td>0          </td> <td>0     </td> <td>0        </td> <td>0.000374392</td> <td>0   </td> <td>0      </td> <td>0          </td> <td>0   </td> <td>0          </td> <td>0          </td> <td>0        </td> <td>0.000374392</td> <td>0     </td> <td>0     </td> <td>0        </td> <td>0      </td> <td>0        </td> <td>0.000374392</td> <td>0     </td> <td>0      </td> <td>0          </td> <td>0       </td> <td>0.000748783</td> <td>0    </td> <td>0          </td> <td>0.000374392</td> <td>0          </td> <td>0     </td> <td>0      </td> <td>0          </td> <td>0          </td> <td>0     </td> <td>0   </td> <td>0    </td> <td>0          </td> <td>0   </td> <td>0     </td> <td>0          </td> <td>0   </td> <td>0.000374392</td> <td>0     </td> <td>0    </td> <td>0          </td> <td>0   </td> <td>0      </td> <td>0          </td> <td>0.000748783</td> <td>0     </td> <td>0     </td> <td>0       </td> <td>0     </td> <td>0     </td> <td>0        </td> <td>0          </td> <td>0     </td> <td>0          </td> <td>0.000374392</td> <td>0.00187196</td> <td>0        </td> <td>0        </td> <td>0.000374392</td> <td>0      </td> <td>0         </td> <td>0          </td> <td>0.00374392</td> <td>0         </td> <td>0        </td> <td>0     </td> <td>0     </td> <td>0        </td> <td>0          </td> <td>0       </td> <td>0          </td> <td>0      </td> <td>0.00112317 </td> <td>0        </td> <td>0    </td> <td>0.000374392</td> <td>0.000374392</td> <td>0          </td> <td>0     </td> <td>0       </td> <td>0          </td> <td>0        </td> <td>0      </td> <td>0          </td> <td>0    </td> <td>0     </td> <td>0   </td> <td>0         </td> <td>0      </td> <td>0.0089854 </td> <td>0          </td> <td>0      </td> <td>0          </td> <td>0        </td> <td>0     </td> <td>0   </td> <td>0      </td> <td>0    </td> <td>0.000374392</td> <td>0          </td> <td>0          </td> <td>0     </td> <td>0        </td> <td>0     </td> <td>0    </td> <td>0.000748783</td> <td>0   </td> <td>0     </td> <td>0        </td> <td>0        </td> <td>0.00524148</td> <td>0   </td> <td>0          </td> <td>0.000374392</td> <td>0.00112317 </td> <td>0.000374392</td> <td>0    </td> <td>0   </td> <td>0          </td> <td>0          </td> <td>0     </td> <td>0    </td> <td>0          </td> <td>0.000374392</td> <td>0.000748783</td> <td>0         </td> <td>0          </td> <td>0     </td> <td>0    </td> <td>0     </td> <td>0    </td> <td>0   </td> <td>0      </td> <td>0   </td> <td>0.000374392</td> <td>0          </td> <td>0          </td> <td>0      </td> <td>0      </td> <td>0   </td> <td>0   </td> <td>0     </td> <td>0    </td> <td>0          </td> <td>0    </td> <td>0          </td> <td>0         </td> <td>0     </td> <td>0    </td> <td>0.000374392</td> <td>0.000374392</td> <td>0   </td> <td>0    </td> <td>0    </td> <td>0        </td> <td>0   </td> <td>0          </td> <td>0          </td> <td>0.000374392</td> <td>0    </td> <td>0    </td> <td>0         </td> <td>0     </td> <td>0     </td> <td>0    </td> <td>0    </td> <td>0    </td> <td>0      </td> <td>0    </td> <td>0    </td> <td>0          </td> <td>0   </td> <td>0    </td> <td>0      </td> <td>0      </td> <td>0.00112317</td> <td>0     </td> <td>0.000374392</td> <td>0    </td> <td>0    </td> <td>0      </td> <td>0        </td> <td>0      </td> <td>0   </td> <td>0   </td> <td>0   </td> <td>0          </td> <td>0          </td> <td>0   </td> <td>0    </td> <td>0          </td> <td>0   </td> <td>0      </td> <td>0   </td> <td>0          </td> <td>0    </td> <td>0    </td> <td>0     </td> <td>0        </td> <td>0    </td> <td>0    </td> <td>0        </td> <td>0.00149757</td> <td>0     </td> <td>0      </td> <td>0     </td> <td>0   </td> <td>0   </td> <td>0.000374392</td> <td>0          </td> <td>0       </td> <td>0.000374392</td> <td>0     </td> <td>0    </td> <td>0          </td> <td>0    </td> <td>0      </td> <td>0     </td> <td>0       </td> <td>0    </td> <td>0   </td> <td>0    </td> <td>0   </td> <td>0   </td> <td>0     </td> <td>0    </td> <td>0          </td> <td>0      </td> <td>0     </td> <td>0    </td> <td>0          </td> <td>0   </td> <td>0      </td> <td>0         </td> <td>0.00112317 </td> <td>0.000374392</td> <td>0    </td> <td>0.000374392</td> <td>0      </td> <td>0          </td> <td>0       </td> <td>0    </td> <td>0         </td> <td>0          </td> <td>0.00262074</td> <td>0.000374392</td> <td>0   </td> <td>0      </td> <td>0    </td> <td>0.000374392</td> <td>0       </td> <td>0    </td> <td>0.000374392</td> <td>0   </td> <td>0   </td> <td>0.00149757 </td> <td>0.00187196</td> <td>0    </td> <td>0   </td> <td>0         </td> <td>0   </td> <td>0      </td> <td>0      </td> <td>0   </td> <td>0       </td> <td>0          </td> <td>0   </td> <td>0          </td> <td>0          </td> <td>0.000374392</td> <td>0    </td> <td>0     </td> <td>0     </td> <td>0          </td> <td>0      </td> <td>0          </td> <td>0.00561587</td> <td>0.000748783</td> <td>0      </td> <td>0          </td> <td>0    </td> <td>0          </td> <td>0   </td> <td>0.00224635 </td> <td>0.00112317 </td> <td>0.00112317</td> <td>0      </td> <td>0     </td> <td>0     </td> <td>0     </td> <td>0          </td> <td>0   </td> <td>0          </td> <td>0    </td> <td>0    </td> <td>0     </td> <td>0      </td> <td>0.000748783</td> <td>0          </td> <td>0.00187196</td> <td>0    </td> <td>0          </td> <td>0    </td> <td>0      </td> <td>0    </td> <td>0     </td> <td>0.00112317 </td> <td>0      </td> <td>0    </td> <td>0        </td> <td>0     </td> <td>0      </td> <td>0   </td> <td>0      </td> <td>0     </td> <td>0          </td> <td>0          </td> <td>0          </td> <td>0   </td> <td>0          </td> <td>0          </td> <td>0     </td> <td>0      </td> <td>0     </td> <td>0       </td> <td>0.000374392</td> <td>0    </td> <td>0     </td> <td>0   </td> <td>0.000374392</td> <td>0          </td> <td>0   </td> <td>0          </td> <td>0     </td> <td>0      </td> <td>0    </td> <td>0.00711344</td> <td>0   </td> <td>0          </td> <td>0    </td> <td>0          </td> <td>0.00299513</td> <td>0.000374392</td> <td>0.000374392</td> <td>0          </td> <td>0.000374392</td> <td>0.000374392</td> <td>0          </td> <td>0   </td> <td>0     </td> <td>0    </td> <td>0          </td> <td>0   </td> <td>0      </td> <td>0   </td> <td>0.000374392</td> <td>0   </td> <td>0          </td> <td>0.000374392</td> <td>0       </td> <td>0       </td> <td>0     </td> <td>0     </td> <td>0   </td> <td>0     </td> <td>0       </td> <td>0.000374392</td> <td>0      </td> <td>0   </td> <td>0          </td> <td>0          </td> <td>0.000374392</td> <td>0   </td> <td>0      </td> <td>0       </td> <td>0.000748783</td> <td>0.000374392</td> <td>0     </td> <td>0       </td> <td>0       </td> <td>0   </td> <td>0.000748783</td> <td>0        </td> <td>0    </td> <td>0       </td> <td>0      </td> <td>0    </td> <td>0       </td> <td>0          </td> <td>0      </td> <td>0          </td> <td>0          </td> <td>0      </td> <td>0      </td> <td>0          </td> <td>0          </td> <td>0   </td> <td>0   </td> <td>0          </td> <td>0.0213403</td> <td>0          </td> <td>0   </td> <td>0   </td> <td>0       </td> <td>0    </td> <td>0     </td> <td>0      </td> <td>0     </td> <td>0        </td> <td>0       </td> <td>0          </td> <td>0          </td> <td>0     </td> <td>0      </td> <td>0   </td> <td>0       </td> <td>0.000374392</td> <td>0.000374392</td> <td>0        </td> <td>0      </td> <td>0     </td> <td>0.000748783</td> <td>0          </td> <td>0   </td> <td>0     </td> <td>0.000748783</td> <td>0    </td> <td>0     </td> <td>0         </td> <td>0.00112317 </td> <td>0          </td> <td>0.000374392</td> <td>0     </td> <td>0    </td> <td>0     </td> <td>0    </td> <td>0    </td> <td>0   </td> <td>0      </td> <td>0      </td> <td>0    </td> <td>0    </td> <td>0.00673905</td> <td>0          </td> <td>0.00149757 </td> <td>0.000748783</td> <td>0          </td> <td>0          </td> <td>0    </td> <td>0    </td> <td>0          </td> <td>0     </td> <td>0      </td> <td>0   </td> <td>0   </td> <td>0         </td> <td>0   </td> <td>0        </td> <td>0   </td> <td>0       </td> <td>0.000374392</td> <td>0    </td> <td>0          </td> <td>0        </td> <td>0     </td> <td>0          </td> <td>0.000374392</td> <td>0    </td> <td>0    </td> <td>0        </td> <td>0   </td> <td>0        </td> <td>0.000374392</td> <td>0       </td> <td>0          </td> <td>0.000374392</td> <td>0          </td> <td>0   </td> <td>0     </td> <td>0        </td> <td>0.000374392</td> <td>0     </td> <td>0          </td> <td>0          </td> <td>0     </td> <td>0          </td> <td>0   </td> <td>0.000374392</td> <td>0.000374392</td> <td>0        </td> <td>0.000374392</td> <td>0   </td> <td>0    </td> <td>0        </td> <td>0          </td> <td>0    </td> <td>0.000374392</td> <td>0      </td> <td>0    </td> <td>0        </td> <td>0          </td> <td>0    </td> <td>0    </td> <td>0     </td> <td>0      </td> <td>0    </td> <td>0    </td> <td>0   </td> <td>0   </td> <td>0   </td> <td>0    </td> <td>0          </td> <td>0    </td> <td>0.000374392</td> <td>0    </td> <td>0     </td> <td>0          </td> <td>0          </td> <td>0.00187196 </td> <td>0    </td> <td>0.000374392</td> <td>0          </td> <td>0    </td> <td>0    </td> <td>0   </td> <td>0          </td> <td>0     </td> <td>0          </td> <td>0       </td> <td>0     </td> <td>0     </td> <td>0        </td> <td>0    </td> <td>0          </td> <td>0   </td> <td>0       </td> <td>0      </td> <td>0.00187196 </td> <td>0        </td> <td>0.000748783</td> <td>0     </td> <td>0   </td> <td>0          </td> <td>0    </td> <td>0       </td> <td>0       </td> <td>0      </td> <td>0    </td> <td>0          </td> <td>0    </td> <td>0   </td> <td>0       </td> <td>0   </td> <td>0    </td> <td>0          </td> <td>0         </td> <td>0        </td> <td>0   </td> <td>0     </td> <td>0    </td> <td>0     </td> <td>0        </td> <td>0   </td> <td>0     </td> <td>0          </td> <td>0.000748783</td> <td>0          </td> <td>0      </td> <td>0    </td> <td>0     </td> <td>0.00112317 </td> <td>0.000748783</td> <td>0          </td> <td>0      </td> <td>0   </td> <td>0      </td> <td>0.000374392</td> <td>0    </td> <td>0       </td> <td>0     </td> <td>0    </td> <td>0.00561587</td> <td>0     </td> <td>0.000748783</td> <td>0    </td> <td>0      </td> <td>0      </td> <td>0     </td> <td>0     </td> <td>0.000748783</td> <td>0    </td> <td>0          </td> <td>0          </td> <td>0    </td> <td>0          </td> <td>0          </td> <td>0    </td> <td>0     </td> <td>0.00374392 </td> <td>0         </td> <td>0   </td> <td>0   </td> <td>0       </td> <td>0         </td> <td>0     </td> <td>0   </td> <td>0    </td> <td>0      </td> <td>0        </td> <td>0     </td> <td>0          </td> <td>0   </td> <td>0.000374392</td> <td>0    </td> <td>0     </td> <td>0    </td> <td>0       </td> <td>0        </td> <td>0      </td> <td>0      </td> <td>0    </td> <td>0      </td> <td>0       </td> <td>0.000374392</td> <td>0   </td> <td>0     </td> <td>0        </td> <td>0    </td> <td>0     </td> <td>0          </td> <td>0   </td> <td>0     </td> <td>0    </td> <td>0          </td> <td>0      </td> <td>0.000748783</td> <td>0     </td> <td>0    </td> <td>0        </td> <td>0     </td> <td>0          </td> <td>0     </td> <td>0   </td> <td>0.00224635</td> <td>0     </td> <td>0    </td> <td>0        </td> <td>0     </td> <td>0          </td> <td>0     </td> <td>0         </td> <td>0      </td> <td>0          </td> <td>0        </td> <td>0       </td> <td>0      </td> <td>0    </td> <td>0          </td> <td>0.0127293 </td> <td>0.000374392</td> <td>0    </td> <td>0          </td> <td>0   </td> <td>0          </td> <td>0          </td> <td>0   </td> <td>0    </td> <td>0       </td> <td>0     </td> <td>0    </td> <td>0     </td> <td>0.000374392</td> <td>0          </td> <td>0     </td> <td>0          </td> <td>0.000374392</td> <td>0          </td> <td>0.00299513 </td> <td>0   </td> <td>0     </td> <td>0    </td> <td>0.000374392</td> <td>0     </td> <td>0    </td> <td>0.000748783</td> <td>0          </td> <td>0      </td> <td>0     </td> <td>0          </td> <td>0.000748783</td> <td>0       </td> <td>0    </td> <td>0      </td> <td>0      </td> <td>0     </td> <td>0     </td> <td>0       </td> <td>0     </td> <td>0          </td> <td>0          </td> <td>0   </td> <td>0         </td> <td>0          </td> <td>0   </td> <td>0.00299513 </td> <td>0    </td> <td>0          </td> <td>0     </td> <td>0   </td> <td>0      </td> <td>0.00299513</td> <td>0      </td> <td>0          </td> <td>0.000748783</td> <td>0    </td> <td>0     </td> <td>0          </td> <td>0     </td> <td>0        </td> <td>0     </td> <td>0          </td> <td>0      </td> <td>0   </td> <td>0          </td> <td>0   </td> <td>0         </td> <td>0   </td> <td>0          </td> <td>0    </td> <td>0        </td> <td>0.00187196 </td> <td>0.00262074 </td> <td>0    </td> <td>0.000374392</td> <td>0   </td> <td>0      </td> <td>0          </td> <td>0          </td> <td>0          </td> <td>0    </td> <td>0     </td> <td>0   </td> <td>0          </td> <td>0          </td> <td>0          </td> <td>0   </td> <td>0     </td> <td>0        </td> <td>0    </td> <td>0   </td> <td>0      </td> <td>0          </td> <td>0          </td> <td>0       </td> <td>0   </td> <td>0      </td> <td>0     </td> <td>0.000374392</td> <td>0     </td> <td>0.0168476</td> <td>0   </td> <td>0   </td> <td>0            </td> <td>0     </td> <td>0       </td> <td>0      </td> <td>0       </td> <td>0      </td> <td>0      </td> <td>0   </td> <td>0       </td> <td>0          </td> <td>0.00112317</td> <td>0        </td> <td>0     </td> <td>0     </td> <td>0    </td> <td>0          </td> <td>0          </td> <td>0          </td> <td>0.000374392</td> <td>0          </td> <td>0.000374392</td> <td>0       </td> <td>0.000374392</td> <td>0.000374392</td> <td>0.000374392</td> <td>0      </td> <td>0   </td> <td>0      </td> <td>0   </td> <td>0        </td> <td>0     </td> <td>0       </td> <td>0   </td> <td>0      </td> <td>0        </td> <td>0          </td> <td>0      </td> <td>0          </td> <td>0   </td> <td>0.000374392</td> <td>0          </td> <td>0   </td> <td>0.00599027 </td> <td>0      </td> <td>0       </td> <td>0   </td> <td>0          </td> <td>0      </td> <td>0     </td> <td>0     </td> <td>0        </td> <td>0.000374392</td> <td>0    </td> <td>0          </td> <td>0       </td> <td>0   </td> <td>0        </td> <td>0          </td> <td>0          </td> <td>0          </td> <td>0          </td> <td>0      </td> <td>0    </td> <td>0    </td> <td>0    </td> <td>0          </td> <td>0          </td> <td>0      </td> <td>0    </td> <td>0.000374392</td> <td>0     </td> <td>0    </td> <td>0          </td> <td>0         </td> <td>0   </td> <td>0.000374392</td> <td>0      </td> <td>0         </td> <td>0          </td> <td>0.00748783</td> <td>0      </td> <td>0        </td> <td>0        </td> <td>0    </td> <td>0        </td> <td>0   </td> <td>0      </td> <td>0          </td> <td>0.000748783</td> <td>0    </td> <td>0        </td> <td>0      </td> <td>0     </td> <td>0      </td> <td>0     </td> <td>0    </td> <td>0    </td> <td>0        </td> <td>0      </td> <td>0          </td> <td>0   </td> <td>0      </td> <td>0          </td> <td>0   </td> <td>0      </td> <td>0       </td> <td>0.00112317 </td> <td>0    </td> <td>0        </td> <td>0.000374392</td> <td>0.00149757 </td> <td>0   </td> <td>0          </td> <td>0    </td> <td>0     </td> <td>0   </td> <td>0    </td> <td>0          </td> <td>0    </td> <td>0          </td> <td>0          </td> <td>0          </td> <td>0          </td> <td>0      </td> <td>0.00112317 </td> <td>0.00112317 </td> <td>0          </td> <td>0   </td> <td>0      </td> <td>0     </td> <td>0      </td> <td>0        </td> <td>0          </td> <td>0          </td> <td>0   </td> <td>0    </td> <td>0    </td> <td>0          </td> <td>0   </td> <td>0          </td> <td>0.000374392</td> <td>0     </td> <td>0     </td> <td>0    </td> <td>0          </td> <td>0.000748783</td> <td>0          </td> <td>0    </td> <td>0    </td> <td>0   </td> <td>0          </td> <td>0    </td> <td>0    </td> <td>0.00112317</td> <td>0   </td> <td>0   </td> <td>0      </td> <td>0          </td> <td>0      </td> <td>0    </td> <td>0.000748783</td> <td>0   </td> <td>0.000374392</td> <td>0         </td> <td>0          </td> <td>0    </td> <td>0    </td> <td>0          </td> <td>0.0146013 </td> <td>0          </td> <td>0    </td> <td>0    </td> <td>0    </td> <td>0      </td> <td>0    </td> <td>0     </td> <td>0      </td> <td>0   </td> <td>0   </td> <td>0   </td> <td>0    </td> <td>0        </td> <td>0   </td> <td>0    </td> <td>0       </td> <td>0   </td> <td>0       </td> <td>0     </td> <td>0         </td> <td>0         </td> <td>0       </td> <td>0.00149757</td> <td>0     </td> <td>0          </td> <td>0   </td> <td>0.000374392</td> <td>0    </td> <td>0   </td> <td>0    </td> <td>0.000374392</td> <td>0           </td> <td>0      </td> <td>0    </td> <td>0        </td> <td>0        </td> <td>0          </td> <td>0.00224635</td> <td>0   </td> <td>0          </td> <td>0          </td> <td>0     </td> <td>0    </td> <td>0   </td> <td>0.000748783</td> <td>0     </td> <td>0      </td> <td>0        </td> <td>0      </td> <td>0   </td> <td>0   </td> <td>0     </td> <td>0          </td> <td>0   </td> <td>0.000374392</td> <td>0    </td> <td>0   </td> <td>0   </td> <td>0     </td> <td>0        </td> <td>0          </td> <td>0   </td> <td>0        </td> <td>0     </td> <td>0        </td> <td>0          </td> <td>0          </td> <td>0.000374392</td> <td>0   </td> <td>0   </td> <td>0   </td> <td>0.000748783</td> <td>0      </td> <td>0   </td> <td>0     </td> <td>0      </td> <td>0.000374392</td> <td>0     </td> <td>0          </td> <td>0    </td> <td>0          </td> <td>0.000374392</td> <td>0    </td> <td>0          </td> <td>0          </td> <td>0.000748783</td> <td>0      </td> <td>0       </td> <td>0          </td> <td>0    </td> <td>0          </td> <td>0          </td> <td>0    </td> <td>0          </td> <td>0   </td> <td>0          </td> <td>0        </td> <td>0        </td> <td>0   </td> <td>0   </td> <td>0   </td> <td>0     </td> <td>0         </td> <td>0          </td> <td>0     </td> <td>0.000374392</td> <td>0       </td> <td>0   </td> <td>0      </td> <td>0.00861101</td> <td>0.000374392</td> <td>0   </td> <td>0        </td> <td>0       </td> <td>0.000374392</td> <td>0          </td> <td>0          </td> <td>0          </td> <td>0   </td> <td>0      </td> <td>0      </td> <td>0   </td> <td>0   </td> <td>0    </td> <td>0      </td> <td>0   </td> <td>0       </td> <td>0        </td> <td>0          </td> <td>0     </td> <td>0          </td> <td>0        </td> <td>0          </td> <td>0       </td> <td>0          </td> <td>0     </td> <td>0          </td> <td>0        </td> <td>0      </td> <td>0   </td> <td>0      </td> <td>0          </td> <td>0.00411831</td> <td>0          </td> <td>0          </td> <td>0   </td> <td>0          </td> <td>0        </td> <td>0   </td> <td>0          </td> <td>0          </td> <td>0         </td> <td>0   </td> <td>0    </td> <td>0     </td> <td>0         </td> <td>0        </td> <td>0          </td> <td>0          </td> <td>0   </td> <td>0          </td> <td>0.00299513</td> <td>0.000748783</td> <td>0          </td> <td>0         </td> <td>0   </td> <td>0    </td> <td>0.000374392</td> <td>0     </td> <td>0.000374392</td> <td>0   </td> <td>0.000374392</td> <td>0          </td> <td>0          </td> <td>0    </td> <td>0          </td> <td>0    </td> <td>0.00112317 </td> <td>0   </td> <td>0        </td> <td>0      </td> <td>0    </td> <td>0     </td> <td>0       </td> <td>0     </td> <td>0     </td> <td>0   </td> <td>0   </td> <td>0   </td> <td>0          </td> <td>0.000748783</td> <td>0   </td> <td>0      </td> <td>0     </td> <td>0       </td> <td>0        </td> <td>0    </td> <td>0.00187196</td> <td>0.000748783</td> <td>0    </td> <td>0    </td> <td>0   </td> <td>0   </td> <td>0    </td> <td>0.000748783</td> <td>0          </td> <td>0.000374392</td> <td>0        </td> <td>0    </td> <td>0.000374392</td> <td>0.00861101</td> <td>0.000374392</td> <td>0.000374392</td> <td>0       </td> <td>0.00299513</td> <td>0   </td> <td>0          </td> <td>0.00861101</td> <td>0   </td> <td>0        </td> <td>0.000374392</td> <td>0   </td> <td>0   </td> <td>0.000748783</td> <td>0          </td> <td>0     </td> <td>0    </td> <td>0      </td> <td>0        </td> <td>0   </td> <td>0.000374392</td> <td>0     </td> <td>0          </td> <td>0       </td> <td>0.000748783</td> <td>0        </td> <td>0.000748783</td> <td>0   </td> <td>0     </td> <td>0.000374392</td> <td>0     </td> <td>0    </td> <td>0          </td> <td>0   </td> <td>0          </td> <td>0.000374392</td> <td>0        </td> <td>0   </td> <td>0   </td> <td>0          </td> <td>0          </td> <td>0     </td> <td>0          </td> <td>0   </td> <td>0   </td> <td>0          </td> <td>0    </td> <td>0        </td> <td>0    </td> <td>0     </td> <td>0   </td> <td>0    </td> <td>0          </td> <td>0          </td> <td>0     </td> <td>0       </td> <td>0   </td> <td>0     </td> <td>0   </td> <td>0   </td> <td>0   </td> <td>0    </td> <td>0          </td> <td>0    </td> <td>0   </td> <td>0   </td> <td>0.000748783</td> <td>0    </td> <td>0   </td> <td>0   </td> <td>0       </td> <td>0   </td> <td>0          </td> <td>0     </td> <td>0   </td> <td>0   </td> <td>0          </td> <td>0     </td> <td>0          </td> <td>0     </td> <td>0.000748783</td> <td>0       </td> <td>0   </td> <td>0   </td> <td>0.000374392</td> <td>0          </td> <td>0     </td> <td>0.000374392</td> <td>0    </td> <td>0      </td> <td>0   </td> <td>0      </td> <td>0          </td> <td>0    </td> <td>0   </td> <td>0    </td> <td>0          </td> <td>0         </td> <td>0.000374392</td> <td>0   </td> <td>0   </td> <td>0          </td> <td>0       </td> <td>0.000748783</td> <td>0    </td> <td>0    </td> <td>0    </td> <td>0    </td> <td>0    </td> <td>0          </td> <td>0        </td> <td>0   </td> <td>0.0108574 </td> <td>0     </td> <td>0   </td> <td>0      </td> <td>0     </td> <td>0.000374392</td> <td>0       </td> <td>0          </td> <td>0          </td> <td>0          </td> <td>0    </td> <td>0   </td> <td>0     </td> <td>0      </td> <td>0     </td> <td>0   </td> <td>0     </td> <td>0          </td> <td>0        </td> <td>0       </td> <td>0     </td> <td>0     </td> <td>0     </td> <td>0          </td> <td>0    </td> <td>0    </td> <td>0     </td> <td>0     </td> <td>0.00299513 </td> <td>0    </td> <td>0.000748783</td> <td>0          </td> <td>0     </td> <td>0       </td> <td>0          </td> <td>0     </td> <td>0.0101086 </td> <td>0        </td> <td>0    </td> <td>0          </td> <td>0   </td> <td>0       </td> <td>0     </td> <td>0      </td> <td>0        </td> <td>0       </td> <td>0          </td> <td>0          </td> <td>0   </td> <td>0          </td> <td>0    </td> <td>0          </td> <td>0    </td> <td>0.000374392</td> <td>0     </td> <td>0     </td> <td>0          </td> <td>0     </td> <td>0   </td> <td>0        </td> <td>0   </td> <td>0          </td> <td>0     </td> <td>0.000374392</td> <td>0        </td> <td>0        </td> <td>0    </td> <td>0            </td> <td>0    </td> <td>0       </td> <td>0          </td> <td>0    </td> <td>0   </td> <td>0          </td> <td>0   </td> <td>0          </td> <td>0          </td> <td>0.000374392</td> <td>0   </td> <td>0       </td> <td>0    </td> <td>0    </td> <td>0.000374392</td> <td>0          </td> <td>0          </td> <td>0   </td> <td>0          </td> <td>0          </td> <td>0      </td> <td>0   </td> <td>0          </td> <td>0          </td> <td>0     </td> <td>0     </td> <td>0     </td> <td>0          </td> <td>0      </td> <td>0       </td> <td>0     </td> <td>0    </td> <td>0   </td> <td>0    </td> <td>0   </td> <td>0        </td> <td>0        </td> <td>0          </td> <td>0          </td> <td>0      </td> <td>0         </td> <td>0          </td> <td>0     </td> <td>0          </td> <td>0        </td> <td>0.00411831</td> <td>0          </td> <td>0          </td> <td>0      </td> <td>0       </td> <td>0          </td> <td>0    </td> <td>0    </td> <td>0          </td> <td>0          </td> <td>0      </td> <td>0        </td> <td>0.000374392</td> <td>0          </td> <td>0          </td> <td>0    </td> <td>0   </td> <td>0   </td> <td>0     </td> <td>0       </td> <td>0          </td> <td>0    </td> <td>0   </td> <td>0.000374392</td> <td>0     </td> <td>0         </td> <td>0     </td> <td>0    </td> <td>0         </td> <td>0          </td> <td>0   </td> <td>0       </td> <td>0      </td> <td>0.000374392</td> <td>0.000374392</td> <td>0    </td> <td>0      </td> <td>0        </td> <td>0    </td> <td>0      </td> <td>0.000374392</td> <td>0       </td> <td>0   </td> <td>0          </td> <td>0     </td> <td>0     </td> <td>0.00224635 </td> <td>0        </td> <td>0      </td> <td>0   </td> <td>0.000748783</td> <td>0.000374392</td> <td>0     </td> <td>0          </td> <td>0        </td> <td>0       </td> <td>0    </td> <td>0   </td> <td>0   </td> <td>0         </td> <td>0.000374392</td> <td>0          </td> <td>0      </td> <td>0          </td> <td>0      </td> <td>0    </td> <td>0          </td> <td>0      </td> <td>0   </td> <td>0          </td> <td>0        </td> <td>0       </td> <td>0          </td> <td>0    </td> <td>0       </td> <td>0          </td> <td>0.00187196 </td> <td>0      </td> <td>0    </td> <td>0      </td> <td>0          </td> <td>0    </td> <td>0          </td> <td>0.000374392</td> <td>0          </td> <td>0          </td> <td>0      </td> <td>0    </td> <td>0.000374392</td> <td>0          </td> <td>0   </td> <td>0          </td> <td>0    </td> <td>0    </td> <td>0      </td> <td>0    </td> <td>0    </td> <td>0          </td> <td>0.000374392</td> <td>0    </td> <td>0     </td> <td>0    </td> <td>0    </td> <td>0   </td> <td>0       </td> <td>0     </td> <td>0.00149757 </td> <td>0    </td> <td>0    </td> <td>0    </td> <td>0        </td> <td>0     </td> <td>0    </td> <td>0     </td> <td>0      </td> <td>0   </td> <td>0.00336952</td> <td>0     </td> <td>0.00187196 </td> <td>0        </td> <td>0     </td> <td>0      </td> <td>0          </td> <td>0      </td> <td>0     </td> <td>0     </td> <td>0          </td> <td>0          </td> <td>0    </td> <td>0        </td> <td>0.000748783</td> <td>0.000374392</td> <td>0   </td> <td>0      </td> <td>0     </td> <td>0          </td> <td>0.00149757</td> <td>0        </td> <td>0      </td> <td>0.000374392</td> <td>0      </td> <td>0   </td> <td>0   </td> <td>0          </td> <td>0          </td> <td>0    </td> <td>0          </td> <td>0      </td> <td>0     </td> <td>0     </td> <td>0.00411831</td> <td>0    </td> <td>0          </td> <td>0          </td> <td>0    </td> <td>0     </td> <td>0    </td> <td>0          </td> <td>0       </td> <td>0.000374392</td> <td>0       </td> <td>0          </td> <td>0          </td> <td>0   </td> <td>0.0116061</td> <td>0    </td> <td>0.000374392</td> <td>0.000748783</td> <td>0          </td> <td>0     </td> <td>0       </td> <td>0.000374392</td> <td>0    </td> <td>0   </td> <td>0.000374392</td> <td>0          </td> <td>0     </td> <td>0     </td> <td>0     </td> <td>0     </td> <td>0     </td> <td>0        </td> <td>0      </td> <td>0     </td> <td>0          </td> <td>0     </td> <td>0        </td> <td>0   </td> <td>0        </td> <td>0     </td> <td>0.000374392</td> <td>0          </td> <td>0     </td> <td>0         </td> <td>0     </td> <td>0          </td> <td>0          </td> <td>0      </td> <td>0      </td> <td>0          </td> <td>0     </td> <td>0          </td> <td>0.000374392</td> <td>0         </td> <td>0.00112317 </td> <td>0   </td> <td>0     </td> <td>0    </td> <td>0.000374392</td> <td>0   </td> <td>0      </td> <td>0     </td> <td>0    </td> <td>0   </td> <td>0       </td> <td>0   </td> <td>0   </td> <td>0       </td> <td>0     </td> <td>0     </td> <td>0   </td> <td>0     </td> <td>0      </td> <td>0   </td> <td>0          </td> <td>0          </td> <td>0   </td> <td>0.00636466</td> <td>0   </td> <td>0    </td> <td>0.000374392</td> <td>0          </td> <td>0   </td> <td>0     </td> <td>0          </td> <td>0          </td> <td>0          </td> <td>0    </td> <td>0    </td> <td>0          </td> <td>0   </td> <td>0          </td> <td>0          </td> <td>0          </td> <td>0       </td> <td>0       </td> <td>0          </td> <td>0      </td> <td>0.000374392</td> <td>0.00336952</td> <td>0.000374392</td> <td>0   </td> <td>0   </td> <td>0    </td> <td>0        </td> <td>0        </td> <td>0   </td> <td>0   </td> <td>0          </td> <td>0      </td> <td>0          </td> <td>0          </td> <td>0          </td> <td>0.000374392</td> <td>0    </td> <td>0   </td> <td>0          </td> <td>0      </td> <td>0    </td> <td>0          </td> <td>0   </td> <td>0   </td> <td>0          </td> <td>0     </td> <td>0     </td> <td>0.000374392</td> <td>0   </td> <td>0        </td> <td>0          </td> <td>0      </td> <td>0   </td> <td>0          </td> <td>0    </td> <td>0    </td> <td>0     </td> <td>0     </td> <td>0      </td> <td>0    </td> <td>0      </td> <td>0     </td> <td>0          </td> <td>0.00149757 </td> <td>0        </td> <td>0     </td> <td>0        </td> <td>0         </td> <td>0      </td> <td>0          </td> <td>0          </td> <td>0    </td> <td>0.000374392</td> <td>0   </td> <td>0          </td> <td>0    </td> <td>0.00149757 </td> <td>0          </td> <td>0     </td> <td>0      </td> <td>0          </td> <td>0   </td> <td>0          </td> <td>0    </td> <td>0          </td> <td>0      </td> <td>0     </td> <td>0.000374392</td> <td>0      </td> <td>0     </td> <td>0     </td> <td>0       </td> <td>0   </td> <td>0       </td> <td>0   </td> <td>0          </td> <td>0      </td> <td>0          </td> <td>0   </td> <td>0   </td> <td>0      </td> <td>0     </td> <td>0.000748783</td> <td>0   </td> <td>0       </td> <td>0         </td> <td>0          </td> <td>0     </td> <td>0    </td> <td>0          </td> <td>0   </td> <td>0    </td> <td>0      </td> <td>0          </td> <td>0     </td> <td>0          </td> <td>0          </td> <td>0.00112317</td> <td>0          </td> <td>0.000748783</td> <td>0   </td> <td>0   </td> <td>0   </td> <td>0   </td> <td>0      </td> <td>0      </td> <td>0.000748783</td> <td>0       </td> <td>0    </td> <td>0   </td> <td>0        </td> <td>0          </td> <td>0        </td> <td>0        </td> <td>0    </td> <td>0   </td> <td>0    </td> <td>0          </td> <td>0   </td> <td>0          </td> <td>0      </td> <td>0          </td> <td>0    </td> <td>0    </td> <td>0        </td> <td>0    </td> <td>0          </td> <td>0          </td> <td>0      </td> <td>0        </td> <td>0          </td> <td>0    </td> <td>0    </td> <td>0   </td> <td>0   </td> <td>0    </td> <td>0     </td> <td>0     </td> <td>0          </td> <td>0   </td> <td>0    </td> <td>0      </td> <td>0   </td> <td>0    </td> <td>0        </td> <td>0     </td> <td>0    </td> <td>0    </td> <td>0    </td> <td>0          </td> <td>0.000374392</td> <td>0    </td> <td>0   </td> <td>0    </td> <td>0   </td> <td>0          </td> <td>0     </td> <td>0         </td> <td>0.000374392</td> <td>0          </td> <td>0       </td> <td>0      </td> <td>0          </td> <td>0       </td> <td>0    </td> <td>0   </td> <td>0      </td> <td>0.000748783</td> <td>0   </td> <td>0     </td> <td>0   </td> <td>0     </td> <td>0   </td> <td>0     </td> <td>0     </td> <td>0    </td> <td>0   </td> <td>0       </td> <td>0          </td> <td>0          </td> <td>0     </td> <td>0    </td> <td>0         </td> <td>0        </td> <td>0         </td> <td>0.000374392</td> <td>0     </td> <td>0   </td> <td>0   </td> <td>0.00187196 </td> <td>0       </td> <td>0    </td> <td>0          </td> <td>0   </td> <td>0          </td> <td>0     </td> <td>0.00149757</td> <td>0        </td> <td>0      </td> <td>0      </td> <td>0      </td> <td>0     </td> <td>0          </td> <td>0.000748783</td> <td>0      </td> <td>0.000374392</td> <td>0        </td> <td>0      </td> <td>0   </td> <td>0     </td> <td>0          </td> <td>0   </td> <td>0     </td> <td>0.00224635 </td> <td>0          </td> <td>0     </td> <td>0.000374392</td> <td>0   </td> <td>0   </td> <td>0.00224635 </td> <td>0   </td> <td>0     </td> <td>0   </td> <td>0          </td> <td>0          </td> <td>0       </td> <td>0      </td> <td>0     </td> <td>0     </td> <td>0        </td> <td>0     </td> <td>0    </td> <td>0     </td> <td>0.000748783</td> <td>0   </td> <td>0     </td> <td>0          </td> <td>0        </td> <td>0.00187196</td> <td>0    </td> <td>0          </td> <td>0        </td> <td>0   </td> <td>0          </td> <td>0    </td> <td>0.000374392</td> <td>0      </td> <td>0          </td> <td>0.000374392</td> <td>0     </td> <td>0          </td> <td>0    </td> <td>0      </td> <td>0        </td> <td>0          </td> <td>0        </td> <td>0    </td> <td>0    </td> <td>0   </td> <td>0         </td> <td>0   </td> <td>0.000374392</td> <td>0.000374392</td> <td>0.000374392</td> <td>0          </td> <td>0          </td> <td>0        </td> <td>0   </td> <td>0   </td> <td>0       </td> <td>0          </td> <td>0     </td> <td>0          </td> <td>0          </td> <td>0      </td> <td>0          </td> <td>0          </td> <td>0     </td> <td>0    </td> <td>0      </td> <td>0     </td> <td>0.00336952 </td> <td>0     </td> <td>0   </td> <td>0.000374392</td> <td>0   </td> <td>0.00149757 </td> <td>0      </td> <td>0   </td> <td>0.000748783</td> <td>0    </td> <td>0   </td> <td>0   </td> <td>0.000374392</td> <td>0     </td> <td>0    </td> <td>0     </td> <td>0        </td> <td>0   </td> <td>0     </td> <td>0          </td> <td>0    </td> <td>0      </td> <td>0          </td> <td>0         </td> <td>0          </td> <td>0    </td> <td>0          </td> <td>0   </td> <td>0          </td> <td>0      </td> <td>0.00299513</td> <td>0        </td> <td>0   </td> <td>0      </td> <td>0.00149757 </td> <td>0    </td> <td>0.000748783</td> <td>0        </td> <td>0.00112317 </td> <td>0   </td> <td>0   </td> <td>0          </td> <td>0   </td> <td>0   </td> <td>0      </td> <td>0     </td> <td>0          </td> <td>0    </td> <td>0.000748783</td> <td>0   </td> <td>0   </td> <td>0.00262074</td> <td>0     </td> <td>0   </td> <td>0          </td> <td>0        </td> <td>0    </td> <td>0    </td> <td>0   </td> <td>0    </td> <td>0          </td> <td>0.000374392</td> <td>0   </td> <td>0    </td> <td>0          </td> <td>0.000374392</td> <td>0      </td> <td>0        </td> <td>0.000374392</td> <td>0           </td> <td>0          </td> <td>0     </td> <td>0          </td> <td>0.000748783</td> <td>0      </td> <td>0      </td> <td>0    </td> <td>0   </td> <td>0   </td> <td>0          </td> <td>0    </td> <td>0      </td> <td>0        </td> <td>0      </td> <td>0          </td> <td>0   </td> <td>0    </td> <td>0       </td> <td>0   </td> <td>0    </td> <td>0          </td> <td>0       </td> <td>0        </td> <td>0          </td> <td>0.000374392</td> <td>0          </td> <td>0          </td> <td>0    </td> <td>0     </td> <td>0    </td> <td>0    </td> <td>0     </td> <td>0.000374392</td> <td>0     </td> <td>0     </td> <td>0    </td> <td>0    </td> <td>0    </td> <td>0     </td> <td>0          </td> <td>0          </td> <td>0    </td> <td>0      </td> <td>0        </td> <td>0          </td> <td>0   </td> <td>0   </td> <td>0    </td> <td>0    </td> <td>0     </td> <td>0    </td> <td>0          </td> <td>0     </td> <td>0     </td> <td>0          </td> <td>0          </td> <td>0.000748783</td> <td>0   </td> <td>0.000374392</td> <td>0          </td> <td>0    </td> <td>0.0089854 </td> <td>0    </td> <td>0     </td> <td>0      </td> <td>0     </td> <td>0    </td> <td>0   </td> <td>0   </td> <td>0     </td> <td>0          </td> <td>0   </td> <td>0         </td> <td>0          </td> <td>0          </td> <td>0    </td> <td>0   </td> <td>0       </td> <td>0   </td> <td>0   </td> <td>0        </td> <td>0          </td> <td>0          </td> <td>0        </td> <td>0   </td> <td>0       </td> <td>0      </td> <td>0   </td> <td>0.00112317 </td> <td>0.000374392</td> <td>0          </td> <td>0          </td> <td>0    </td> <td>0         </td> <td>0     </td> <td>0     </td> <td>0          </td> <td>0     </td> <td>0     </td> <td>0          </td> <td>0.00411831 </td> <td>0   </td> <td>0          </td> <td>0    </td> <td>0          </td> <td>0.000374392</td> <td>0   </td> <td>0    </td> <td>0   </td> <td>0        </td> <td>0       </td> <td>0     </td> <td>0.00112317 </td> <td>0    </td> <td>0          </td> <td>0.000374392</td> <td>0         </td> <td>0   </td> <td>0     </td> <td>0   </td> <td>0   </td> <td>0.000748783</td> <td>0      </td> <td>0        </td> <td>0     </td> <td>0      </td> <td>0    </td> <td>0          </td> <td>0    </td> <td>0       </td> <td>0     </td> <td>0       </td> <td>0          </td> <td>0    </td> <td>0.000374392</td> <td>0   </td> <td>0.000374392</td> <td>0        </td> <td>0   </td> <td>0          </td> <td>0    </td> <td>0.000374392</td> <td>0     </td> <td>0   </td> <td>0          </td> <td>0     </td> <td>0          </td> <td>0          </td> <td>0    </td> <td>0        </td> <td>0   </td> <td>0          </td> <td>0          </td> <td>0        </td> <td>0   </td> <td>0   </td> <td>0          </td> <td>0          </td> <td>0    </td> <td>0     </td> <td>0       </td> <td>0    </td> <td>0    </td> <td>0      </td> <td>0   </td> <td>0     </td> <td>0     </td> <td>0          </td> <td>0   </td> <td>0   </td> <td>0   </td> <td>0.00374392</td> <td>0    </td> <td>0      </td> <td>0.000374392</td> <td>0    </td> <td>0     </td> <td>0          </td> <td>0     </td> <td>0          </td> <td>0.00262074 </td> <td>0     </td> <td>0          </td> <td>0     </td> <td>0     </td> <td>0      </td> <td>0        </td> <td>0.000374392</td> <td>0    </td> <td>0    </td> <td>0      </td> <td>0       </td> <td>0    </td> <td>0   </td> <td>0     </td> <td>0          </td> <td>0      </td> <td>0   </td> <td>0     </td> <td>0    </td> <td>0          </td> <td>0          </td> <td>0          </td> <td>0          </td> <td>0.000374392</td> <td>0          </td> <td>0          </td> <td>0      </td> <td>0   </td> <td>0          </td> <td>0   </td> <td>0   </td> <td>0      </td> <td>0     </td> <td>0      </td> <td>0          </td> <td>0          </td> <td>0        </td> <td>0          </td> <td>0          </td> <td>0          </td> <td>0          </td> <td>0     </td> <td>0     </td> <td>0          </td> <td>0     </td> <td>0   </td> <td>0    </td> <td>0          </td> <td>0    </td> <td>0        </td> <td>0.000374392</td> <td>0      </td> <td>0     </td> <td>0   </td> <td>0    </td> <td>0   </td> <td>0      </td> <td>0          </td> <td>0      </td> <td>0     </td> <td>0   </td> <td>0         </td> <td>0      </td> <td>0          </td> <td>0.000748783</td> <td>0      </td> <td>0.000374392</td> <td>0    </td> <td>0     </td> <td>0      </td> <td>0       </td> <td>0.000374392</td> <td>0    </td> <td>0      </td> <td>0       </td> <td>0         </td> <td>0     </td> <td>0     </td> <td>0      </td> <td>0          </td> <td>0    </td> <td>0     </td> <td>0          </td> <td>0          </td> <td>0    </td> <td>0       </td> <td>0    </td> <td>0.00187196 </td> <td>0          </td> <td>0      </td> <td>0    </td> <td>0    </td> <td>0          </td> <td>0          </td> <td>0.000374392</td> <td>0          </td> <td>0     </td> <td>0        </td> <td>0    </td> <td>0          </td> <td>0    </td> <td>0    </td> <td>0   </td> <td>0     </td> <td>0   </td> <td>0.000374392</td> <td>0   </td> <td>0          </td> <td>0         </td> <td>0   </td> <td>0          </td> <td>0    </td> <td>0          </td> <td>0          </td> <td>0          </td> <td>0          </td> <td>0   </td> <td>0          </td> <td>0     </td> <td>0   </td> <td>0    </td> <td>0   </td> <td>0      </td> <td>0          </td> <td>0      </td> <td>0      </td> <td>0    </td> <td>0    </td> <td>0          </td> <td>0    </td> <td>0   </td> <td>0          </td> <td>0    </td> <td>0      </td> <td>0   </td> <td>0    </td> <td>0    </td> <td>0.000374392</td> <td>0        </td> <td>0          </td> <td>0   </td> <td>0.000374392</td> <td>0      </td> <td>0   </td> <td>0      </td> <td>0     </td> <td>0   </td> <td>0     </td> <td>0     </td> <td>0    </td> <td>0   </td> <td>0.00112317 </td> <td>0     </td> <td>0      </td> <td>0       </td> <td>0   </td> <td>0     </td> <td>0      </td> <td>0.000748783</td> <td>0        </td> <td>0.000748783</td> <td>0          </td> <td>0.000374392</td> <td>0.000748783</td> <td>0    </td> <td>0      </td> <td>0.000374392</td> <td>0          </td> <td>0        </td> <td>0     </td> <td>0          </td> <td>0   </td> <td>0   </td> <td>0          </td> <td>0    </td> <td>0        </td> <td>0          </td> <td>0   </td> <td>0      </td> <td>0   </td> <td>0    </td> <td>0    </td> <td>0     </td> <td>0     </td> <td>0.000374392</td> <td>0       </td> <td>0    </td> <td>0.000374392</td> <td>0     </td> <td>0.000374392</td> <td>0    </td> <td>0   </td> <td>0   </td> <td>0          </td> <td>0    </td> <td>0          </td> <td>0   </td> <td>0     </td> <td>0          </td> <td>0          </td> <td>0     </td> <td>0       </td> <td>0          </td> <td>0     </td> <td>0.000374392</td> <td>0    </td> <td>0          </td> <td>0     </td> <td>0    </td> <td>0        </td> <td>0    </td> <td>0    </td> <td>0.000374392</td> <td>0   </td> <td>0   </td> <td>0    </td> <td>0   </td> <td>0.000374392</td> <td>0    </td> <td>0.0366904</td> <td>0     </td> <td>0.000374392</td> <td>0.000374392</td> <td>0      </td> <td>0    </td> <td>0          </td> <td>0      </td> <td>0   </td> <td>0    </td> <td>0   </td> <td>0        </td> <td>0    </td> <td>0     </td> <td>0        </td> <td>0.000374392</td> <td>0      </td> <td>0   </td> <td>0     </td> <td>0    </td> <td>0      </td> <td>0     </td> <td>0      </td> <td>0          </td> <td>0    </td> <td>0          </td> <td>0.00112317 </td> <td>0     </td> <td>0          </td> <td>0   </td> <td>0    </td> <td>0      </td> <td>0          </td> <td>0      </td> <td>0   </td> <td>0          </td> <td>0   </td> <td>0     </td> <td>0          </td> <td>0   </td> <td>0        </td> <td>0          </td> <td>0    </td> <td>0          </td> <td>0          </td> <td>0      </td> <td>0.000374392</td> <td>0.000374392</td> <td>0          </td> <td>0.00187196</td> <td>0   </td> <td>0.000374392</td> <td>0     </td> <td>0.000374392</td> <td>0      </td> <td>0    </td> <td>0   </td> <td>0        </td> <td>0       </td> <td>0.000374392</td> <td>0    </td> <td>0     </td> <td>0   </td> <td>0.0153501 </td> <td>0          </td> <td>0         </td> <td>0          </td> <td>0      </td> <td>0       </td> <td>0          </td> <td>0        </td> <td>0     </td> <td>0     </td> <td>0      </td> <td>0        </td> <td>0         </td> <td>0     </td> <td>0        </td> <td>0   </td> <td>0        </td> <td>0     </td> <td>0        </td> <td>0      </td> <td>0     </td> <td>0   </td> <td>0          </td> <td>0          </td> <td>0          </td> <td>0   </td> <td>0.000374392</td> <td>0        </td> <td>0    </td> <td>0       </td> <td>0.00149757 </td> <td>0          </td> <td>0          </td> <td>0          </td> <td>0      </td> <td>0          </td> <td>0   </td> <td>0     </td> <td>0    </td> <td>0        </td> <td>0     </td> <td>0     </td> <td>0     </td> <td>0      </td> <td>0          </td> <td>0     </td> <td>0        </td> <td>0     </td> <td>0      </td> <td>0     </td> <td>0        </td> <td>0          </td> <td>0          </td> <td>0     </td> <td>0   </td> <td>0     </td> <td>0   </td> <td>0.00112317 </td> <td>0     </td> <td>0          </td> <td>0   </td> <td>0    </td> <td>0          </td> <td>0          </td> <td>0    </td> <td>0.000374392</td> <td>0          </td> <td>0   </td> <td>0   </td> <td>0        </td> <td>0        </td> <td>0.000374392</td> <td>0      </td> <td>0.000374392</td> <td>0          </td> <td>0        </td> <td>0    </td> <td>0      </td> <td>0          </td> <td>0          </td> <td>0       </td> <td>0          </td> <td>0    </td> <td>0      </td> <td>0          </td> <td>0   </td> <td>0     </td> <td>0     </td> <td>0          </td> <td>0          </td> <td>0    </td> <td>0       </td> <td>0          </td> <td>0      </td> <td>0    </td> <td>0          </td> <td>0   </td> <td>0     </td> <td>0    </td> <td>0        </td> <td>0   </td> <td>0   </td> <td>0   </td> <td>0      </td> <td>0    </td> <td>0        </td> <td>0      </td> <td>0          </td> <td>0.00486709</td> <td>0     </td> <td>0   </td> <td>0      </td> <td>0.00112317</td> <td>0     </td> <td>0          </td> <td>0     </td> <td>0    </td> <td>0    </td> <td>0   </td> <td>0    </td> <td>0      </td> <td>0   </td> <td>0      </td> <td>0.000748783</td> <td>0     </td> <td>0    </td> <td>0        </td> <td>0       </td> <td>0      </td> <td>0    </td> <td>0   </td> <td>0         </td> <td>0          </td> <td>0          </td> <td>0    </td> <td>0    </td> <td>0          </td> <td>0          </td> <td>0          </td> <td>0      </td> <td>0        </td> <td>0     </td> <td>0   </td> <td>0   </td> <td>0    </td> <td>0          </td> <td>0.00112317 </td> <td>0          </td> <td>0.00112317 </td> <td>0.00561587</td> <td>0    </td> <td>0    </td> <td>0     </td> <td>0          </td> <td>0         </td> <td>0    </td> <td>0          </td> <td>0      </td> <td>0     </td> <td>0      </td> <td>0    </td> <td>0   </td> <td>0    </td> <td>0          </td> <td>0       </td> <td>0      </td> <td>0     </td> <td>0          </td> <td>0   </td> <td>0          </td> <td>0          </td> <td>0   </td> <td>0       </td> <td>0   </td> <td>0   </td> <td>0     </td> <td>0    </td> <td>0      </td> <td>0.000374392</td> <td>0.000374392</td> <td>0    </td> <td>0        </td> <td>0        </td> <td>0      </td> <td>0     </td> <td>0.000374392</td> <td>0    </td> <td>0        </td> <td>0.00112317 </td> <td>0          </td> <td>0    </td> <td>0          </td> <td>0     </td> <td>0          </td> <td>0        </td> <td>0      </td> <td>0.000374392</td> <td>0   </td> <td>0    </td> <td>0    </td> <td>0   </td> <td>0   </td> <td>0   </td> <td>0   </td> <td>0.000374392</td> <td>0    </td> <td>0    </td> <td>0      </td> <td>0     </td> <td>0.000374392</td> <td>0   </td> <td>0          </td> <td>0    </td> <td>0      </td> <td>0         </td> <td>0.000748783</td> <td>0        </td> <td>0          </td> <td>0        </td> <td>0   </td> <td>0    </td> <td>0   </td> <td>0.000374392</td> <td>0.000748783</td> <td>0.00524148</td> <td>0          </td> <td>0   </td> <td>0    </td> <td>0.0089854 </td> <td>0   </td> <td>0      </td> <td>0   </td> <td>0   </td> <td>0.00149757 </td> <td>0.000374392</td> <td>0   </td> <td>0   </td> <td>0          </td> <td>0    </td> <td>0          </td> <td>0     </td> <td>0          </td> <td>0     </td> <td>0.000374392</td> <td>0     </td> <td>0        </td> <td>0          </td> <td>0          </td> <td>0.000374392</td> <td>0      </td> <td>0.000374392</td> <td>0   </td> <td>0     </td> <td>0    </td> <td>0   </td> <td>0        </td> <td>0          </td> <td>0        </td> <td>0     </td> <td>0          </td> <td>0     </td> <td>0     </td> <td>0     </td> <td>0    </td> <td>0.00112317</td> <td>0       </td> <td>0          </td> <td>0          </td> <td>0.00112317</td> <td>0   </td> <td>0     </td> <td>0       </td> <td>0          </td> <td>0   </td> <td>0   </td> <td>0     </td> <td>0.000748783</td> <td>0     </td> <td>0    </td> <td>0        </td> <td>0    </td> <td>0          </td> <td>0     </td> <td>0   </td> <td>0   </td> <td>0          </td> <td>0    </td> <td>0       </td> <td>0          </td> <td>0      </td> <td>0          </td> <td>0      </td> <td>0          </td> <td>0    </td> <td>0          </td> <td>0   </td> <td>0   </td> <td>0   </td> <td>0          </td> <td>0          </td> <td>0          </td> <td>0.00112317 </td> <td>0     </td> <td>0     </td> <td>0    </td> <td>0          </td> <td>0        </td> <td>0.000374392</td> <td>0          </td> <td>0    </td> <td>0        </td> <td>0        </td> <td>0    </td> <td>0   </td> <td>0     </td> <td>0         </td> <td>0          </td> <td>0   </td> <td>0       </td> <td>0          </td> <td>0.000374392</td> <td>0     </td> <td>0    </td> <td>0    </td> <td>0       </td> <td>0   </td> <td>0          </td> <td>0    </td> <td>0   </td> <td>0    </td> <td>0         </td> <td>0   </td> <td>0    </td> <td>0   </td> <td>0     </td> <td>0   </td> <td>0.000374392</td> <td>0   </td> <td>0          </td> <td>0    </td> <td>0    </td> <td>0     </td> <td>0      </td> <td>0.00374392</td> <td>0    </td> <td>0   </td> <td>0    </td> <td>0.000748783</td> <td>0        </td> <td>0         </td> <td>0    </td> <td>0.000374392</td> <td>0    </td> <td>0    </td> <td>0          </td> <td>0     </td> <td>0       </td> <td>0          </td> <td>0      </td> <td>0      </td> <td>0   </td> <td>0      </td> <td>0          </td> <td>0   </td> <td>0   </td> <td>0       </td> <td>0    </td> <td>0   </td> <td>0        </td> <td>0.000748783</td> <td>0          </td> <td>0          </td> <td>0          </td> <td>0          </td> <td>0      </td> <td>0   </td> <td>0    </td> <td>0    </td> <td>0    </td> <td>0   </td> <td>0        </td> <td>0     </td> <td>0          </td> <td>0          </td> <td>0   </td> <td>0   </td> <td>0.000374392</td> <td>0.000374392</td> <td>0          </td> <td>0      </td> <td>0   </td> <td>0     </td> <td>0.000374392</td> <td>0   </td> <td>0        </td> <td>0    </td> <td>0      </td> <td>0.00149757 </td> <td>0   </td> <td>0       </td> <td>0   </td> <td>0     </td> <td>0   </td> <td>0          </td> <td>0   </td> <td>0.000374392</td> <td>0          </td> <td>0          </td> <td>0          </td> <td>0     </td> <td>0    </td> <td>0        </td> <td>0        </td> <td>0    </td> <td>0    </td> <td>0   </td> <td>0.00149757</td> <td>0.000748783</td> <td>0   </td> <td>0          </td> <td>0           </td> <td>0        </td> <td>0          </td> <td>0    </td> <td>0.000374392</td> <td>0      </td> <td>0     </td> <td>0      </td> <td>0   </td> <td>0       </td> <td>0        </td> <td>0.00112317 </td> <td>0       </td> <td>0        </td> <td>0         </td> <td>0      </td> <td>0     </td> <td>0.000748783</td> <td>0.000374392</td> <td>0     </td> <td>0    </td> <td>0   </td> <td>0   </td> <td>0          </td> <td>0          </td> <td>0   </td> <td>0          </td> <td>0.0044927</td> <td>0     </td> <td>0     </td> <td>0     </td> <td>0        </td> <td>0     </td> <td>0          </td> <td>0         </td> <td>0.000374392</td> <td>0    </td> <td>0     </td> <td>0          </td> <td>0      </td> <td>0       </td> <td>0   </td> <td>0   </td> <td>0     </td> <td>0       </td> <td>0          </td> <td>0      </td> <td>0     </td> <td>0     </td> <td>0          </td> <td>0   </td> <td>0   </td> <td>0.00112317 </td> <td>0   </td> <td>0          </td> <td>0.000748783</td> <td>0        </td> <td>0   </td> <td>0.000748783</td> <td>0        </td> <td>0.000748783</td> <td>0      </td> <td>0          </td> <td>0     </td> <td>0    </td> <td>0          </td> <td>0    </td> <td>0          </td> <td>0          </td> <td>0          </td> <td>0   </td> <td>0   </td> <td>0          </td> <td>0          </td> <td>0     </td> <td>0.000374392</td> <td>0    </td> <td>0          </td> <td>0.000374392</td> <td>0    </td> <td>0     </td> <td>0        </td> <td>0   </td> <td>0    </td> <td>0      </td> <td>0          </td> <td>0   </td> <td>0.00149757 </td> <td>0      </td> <td>0.000374392</td> <td>0   </td> <td>0.000748783</td> <td>0    </td> <td>0          </td> <td>0       </td> <td>0   </td> <td>0     </td> <td>0          </td> <td>0     </td> <td>0          </td> <td>0          </td> <td>0    </td> <td>0     </td> <td>0   </td> <td>0.00224635</td> <td>0          </td> <td>0    </td> <td>0     </td> <td>0   </td> <td>0          </td> <td>0          </td> <td>0       </td> <td>0          </td> <td>0        </td> <td>0          </td> <td>0          </td> <td>0   </td> <td>0     </td> <td>0          </td> <td>0      </td> <td>0     </td> <td>0.000374392</td> <td>0       </td> <td>0.000374392</td> <td>0.000374392</td> <td>0.000374392</td> <td>0          </td> <td>0    </td> <td>0    </td> <td>0    </td> <td>0    </td> <td>0    </td> <td>0.00149757 </td> <td>0   </td> <td>0          </td> <td>0    </td> <td>0          </td> <td>0    </td> <td>0   </td> <td>0        </td> <td>0    </td> <td>0      </td> <td>0     </td> <td>0      </td> <td>0   </td> <td>0          </td> <td>0   </td> <td>0    </td> <td>0   </td> <td>0        </td> <td>0          </td> <td>0      </td> <td>0       </td> <td>0.00112317 </td> <td>0          </td> <td>0          </td> <td>0.00112317 </td> <td>0     </td> <td>0     </td> <td>0.000374392</td> <td>0   </td> <td>0       </td> <td>0    </td> <td>0          </td> <td>0       </td> <td>0     </td> <td>0.000374392</td> <td>0   </td> <td>0.000748783</td> <td>0        </td> <td>0          </td> <td>0   </td> <td>0          </td> <td>0    </td> <td>0       </td> <td>0     </td> <td>0         </td> <td>0        </td> <td>0   </td> <td>0   </td> <td>0    </td> <td>0   </td> <td>0.000374392</td> <td>0       </td> <td>0    </td> <td>0.00149757</td> <td>0          </td> <td>0        </td> <td>0          </td> <td>0          </td> <td>0        </td> <td>0          </td> <td>0          </td> <td>0.00112317</td> <td>0          </td> <td>0          </td> <td>0   </td> <td>0          </td> <td>0.000374392</td> <td>0      </td> <td>0       </td> <td>0          </td> <td>0          </td> <td>0          </td> <td>0           </td> <td>0     </td> <td>0   </td> <td>0.000374392</td> <td>0        </td> <td>0    </td> <td>0          </td> <td>0    </td> <td>0.000374392</td> <td>0          </td> <td>0      </td> <td>0      </td> <td>0   </td> <td>0.0269562</td> <td>0    </td> <td>0    </td> <td>0          </td> <td>0          </td> <td>0   </td> <td>0          </td> <td>0        </td> <td>0          </td> <td>0      </td> <td>0     </td> <td>0.00262074</td> <td>0      </td> <td>0     </td> <td>0          </td> <td>0    </td> <td>0    </td> <td>0   </td> <td>0          </td> <td>0   </td> <td>0    </td> <td>0    </td> <td>0          </td> <td>0   </td> <td>0        </td> <td>0.00374392 </td> <td>0          </td> <td>0      </td> <td>0     </td> <td>0      </td> <td>0.00336952 </td> <td>0         </td> <td>0          </td> <td>0   </td> <td>0     </td> <td>0          </td> <td>0          </td> <td>0    </td> <td>0     </td> <td>0       </td> <td>0      </td> <td>0.000748783</td> <td>0   </td> <td>0    </td> <td>0      </td> <td>0    </td> <td>0          </td> <td>0       </td> <td>0    </td> <td>0   </td> <td>0.00262074 </td> <td>0          </td> <td>0.00299513 </td> <td>0.000374392</td> <td>0           </td> <td>0          </td> <td>0    </td> <td>0    </td> <td>0.000748783</td> <td>0   </td> <td>0   </td> <td>0       </td> <td>0     </td> <td>0        </td> <td>0          </td> <td>0    </td> <td>0    </td> <td>0          </td> <td>0    </td> <td>0          </td> <td>0   </td> <td>0      </td> <td>0          </td> <td>0     </td> <td>0    </td> <td>0      </td> <td>0          </td> <td>0       </td> <td>0          </td> <td>0    </td> <td>0    </td> <td>0          </td> <td>0   </td> <td>0    </td> <td>0.000374392</td> <td>0        </td> <td>0    </td> <td>0       </td> <td>0        </td> <td>0.0044927 </td> <td>0     </td> <td>0        </td> <td>0        </td> <td>0    </td> <td>0          </td> <td>0.000748783</td> <td>0       </td> <td>0      </td> <td>0     </td> <td>0      </td> <td>0   </td> <td>0     </td> <td>0      </td> <td>0    </td> <td>0    </td> <td>0      </td> <td>0   </td> <td>0    </td> <td>0.000374392</td> <td>0          </td> <td>0         </td> <td>0        </td> <td>0          </td> <td>0     </td> <td>0   </td> <td>0.000748783</td> <td>0.000374392</td> <td>0     </td> <td>0          </td> <td>0          </td> <td>0.000374392</td> <td>0         </td> <td>0   </td> <td>0         </td> <td>0          </td> <td>0    </td> <td>0   </td> <td>0      </td> <td>0   </td> <td>0.00224635 </td> <td>0   </td> <td>0   </td> <td>0       </td> <td>0     </td> <td>0     </td> <td>0   </td> <td>0          </td> <td>0   </td> <td>0    </td> <td>0.000374392</td> <td>0     </td> <td>0          </td> <td>0   </td> <td>0    </td> <td>0          </td> <td>0   </td> <td>0.00262074</td> <td>0.00112317 </td> <td>0.00224635 </td> <td>0     </td> <td>0    </td> <td>0     </td> <td>0   </td> <td>0    </td> <td>0          </td> <td>0    </td> <td>0     </td> <td>0         </td> <td>0   </td> <td>0    </td> <td>0     </td> <td>0.000748783</td> <td>0    </td> <td>0   </td> <td>0          </td> <td>0          </td> <td>0        </td> <td>0       </td> <td>0     </td> <td>0   </td> <td>0   </td> <td>0      </td> <td>0          </td> <td>0     </td> <td>0      </td> <td>0     </td> <td>0   </td> <td>0       </td> <td>0          </td> <td>0          </td> <td>0          </td> <td>0     </td> <td>0.000374392</td> <td>0          </td> <td>0.000374392</td> <td>0    </td> <td>0       </td> <td>0.000374392</td> <td>0          </td> <td>0      </td> <td>0     </td> <td>0          </td> <td>0        </td> <td>0     </td> <td>0          </td> <td>0     </td> <td>0     </td> <td>0    </td> <td>0      </td> <td>0.000374392</td> <td>0.000374392</td> <td>0   </td> <td>0.000748783</td> <td>0    </td> <td>0   </td> <td>0.00187196 </td> <td>0          </td> <td>0          </td> <td>0     </td> <td>0   </td> <td>0        </td> <td>0   </td> <td>0     </td> <td>0   </td> <td>0    </td> <td>0.000748783</td> <td>0          </td> <td>0          </td> <td>0          </td> <td>0      </td> <td>0    </td> <td>0   </td> <td>0     </td> <td>0.00486709</td> <td>0     </td> <td>0.000374392</td> <td>0   </td> <td>0   </td> <td>0   </td> <td>0          </td> <td>0     </td> <td>0     </td> <td>0   </td> <td>0          </td> <td>0    </td> <td>0     </td> <td>0    </td> <td>0       </td> <td>0      </td> <td>0     </td> <td>0           </td> <td>0.00374392</td> <td>0   </td> <td>0        </td> <td>0   </td> <td>0          </td> <td>0    </td> <td>0     </td> <td>0   </td> <td>0     </td> <td>0      </td> <td>0.000374392</td> <td>0          </td> <td>0          </td> <td>0          </td> <td>0        </td> <td>0.000374392</td> <td>0   </td> <td>0    </td> <td>0      </td> <td>0        </td> <td>0          </td> <td>0.000374392</td> <td>0    </td> <td>0          </td> <td>0          </td> <td>0.000374392</td> <td>0     </td> <td>0     </td> <td>0       </td> <td>0          </td> <td>0          </td> <td>0     </td> <td>0    </td> <td>0          </td> <td>0          </td> <td>0.00224635 </td> <td>0          </td> <td>0   </td> <td>0        </td> <td>0      </td> <td>0          </td> <td>0.000748783</td> <td>0          </td> <td>0      </td> <td>0   </td> <td>0       </td> <td>0     </td> <td>0          </td> <td>0    </td> <td>0          </td> <td>0        </td> <td>0    </td> <td>0          </td> <td>0    </td> <td>0    </td> <td>0   </td> <td>0          </td> <td>0    </td> <td>0      </td> <td>0          </td> <td>0     </td> <td>0     </td> <td>0.000374392</td> <td>0    </td> <td>0          </td> <td>0       </td> <td>0.000374392</td> <td>0   </td> <td>0.000374392</td> <td>0   </td> <td>0     </td> <td>0     </td> <td>0    </td> <td>0       </td> <td>0        </td> <td>0    </td> <td>0     </td> <td>0.000748783</td> <td>0          </td> <td>0.000374392</td> <td>0          </td> <td>0    </td> <td>0      </td> <td>0          </td> <td>0    </td> <td>0    </td> <td>0          </td> <td>0    </td> <td>0   </td> <td>0          </td> <td>0    </td> <td>0        </td> <td>0    </td> <td>0       </td> <td>0    </td> <td>0     </td> <td>0          </td> <td>0          </td> <td>0      </td> <td>0       </td> <td>0          </td> <td>0   </td> <td>0    </td> <td>0      </td> <td>0      </td> <td>0          </td> <td>0.0359416</td> <td>0   </td> <td>0    </td> <td>0.000374392</td> <td>0      </td> <td>0     </td> <td>0   </td> <td>0   </td> <td>0   </td> <td>0          </td> <td>0          </td> <td>0.000374392</td> <td>0        </td> <td>0    </td> <td>0.000748783</td> <td>0    </td> <td>0      </td> <td>0     </td> <td>0.000374392</td> <td>0     </td> <td>0     </td> <td>0.000748783</td> <td>0     </td> <td>0          </td> <td>0   </td> <td>0    </td> <td>0          </td> <td>0.000748783</td> <td>0   </td> <td>0    </td> <td>0    </td> <td>0   </td> <td>0     </td> <td>0     </td> <td>0   </td> <td>0.00823662</td> <td>0.000748783</td> <td>0.00112317 </td> <td>0       </td> <td>0          </td> <td>0     </td> <td>0    </td> <td>0.00112317 </td> <td>0     </td> <td>0         </td> <td>0     </td> <td>0      </td> <td>0      </td> <td>0          </td> <td>0.000748783</td> <td>0       </td> <td>0          </td> <td>0.000374392</td> <td>0     </td> <td>0.0479221</td> <td>0      </td> <td>0      </td> <td>0.00112317 </td> <td>0     </td> <td>0    </td> <td>0          </td> <td>0   </td> <td>0   </td> <td>0       </td> <td>0   </td> <td>0      </td> <td>0          </td> <td>0          </td> <td>0     </td> <td>0    </td> <td>0   </td> <td>0   </td> <td>0          </td> <td>0     </td> <td>0    </td> <td>0     </td> <td>0     </td> <td>0          </td> <td>0   </td> <td>0.000374392</td> <td>0.00112317 </td> <td>0          </td> <td>0   </td> <td>0        </td> <td>0      </td> <td>0    </td> <td>0          </td> <td>0        </td> <td>0          </td> <td>0          </td> <td>0         </td> <td>0          </td> <td>0     </td> <td>0    </td> <td>0   </td> <td>0          </td> <td>0        </td> <td>0.00224635 </td> <td>0     </td> <td>0          </td> <td>0     </td> <td>0   </td> <td>0   </td> <td>0       </td> <td>0       </td> <td>0   </td> <td>0   </td> <td>0    </td> <td>0   </td> <td>0          </td> <td>0        </td> <td>0   </td> <td>0        </td> <td>0          </td> <td>0          </td> <td>0          </td> <td>0          </td> <td>0.00149757 </td> <td>0   </td> <td>0     </td> <td>0          </td> <td>0   </td> <td>0    </td> <td>0          </td> <td>0        </td> <td>0          </td> <td>0          </td> <td>0     </td> <td>0   </td> <td>0      </td> <td>0     </td> <td>0    </td> <td>0    </td> <td>0    </td> <td>0          </td> <td>0     </td> <td>0          </td> <td>0          </td> <td>0          </td> <td>0   </td> <td>0          </td> <td>0   </td> <td>0        </td> <td>0    </td> <td>0      </td> <td>0.000748783</td> <td>0.000374392</td> <td>0     </td> <td>0      </td> <td>0          </td> <td>0         </td> <td>0   </td> <td>0.00336952 </td> <td>0   </td> <td>0     </td> <td>0          </td> <td>0    </td> <td>0   </td> <td>0.00112317</td> <td>0          </td> <td>0         </td> <td>0   </td> <td>0   </td> <td>0        </td> <td>0    </td> <td>0   </td> <td>0.000374392</td> <td>0          </td> <td>0     </td> <td>0   </td> <td>0     </td> <td>0    </td> <td>0       </td> <td>0         </td> <td>0          </td> <td>0.000748783</td> <td>0    </td> <td>0     </td> <td>0    </td> <td>0    </td> <td>0          </td> <td>0       </td> <td>0    </td> <td>0          </td> <td>0.000748783</td> <td>0          </td> <td>0          </td> <td>0    </td> <td>0       </td> <td>0          </td> <td>0          </td> <td>0.000374392</td> <td>0   </td> <td>0        </td> <td>0          </td> <td>0          </td> <td>0   </td> <td>0   </td> <td>0          </td> <td>0     </td> <td>0      </td> <td>0   </td> <td>0    </td> <td>0   </td> <td>0      </td> <td>0          </td> <td>0          </td> <td>0          </td> <td>0         </td> <td>0.000374392</td> <td>0        </td> <td>0     </td> <td>0    </td> <td>0     </td> <td>0          </td> <td>0    </td> <td>0.000748783</td> <td>0   </td> <td>0.000748783</td> <td>0       </td> <td>0     </td> <td>0     </td> <td>0     </td> <td>0      </td> <td>0          </td> <td>0          </td> <td>0    </td> <td>0   </td> <td>0     </td> <td>0   </td> <td>0     </td> <td>0   </td> <td>0   </td> <td>0      </td> <td>0       </td> <td>0          </td> <td>0        </td> <td>0      </td> <td>0    </td> <td>0       </td> <td>0    </td> <td>0.000374392</td> <td>0    </td> <td>0.000374392</td> <td>0      </td> <td>0   </td> <td>0          </td> <td>0   </td> <td>0          </td> <td>0   </td> <td>0     </td> <td>0          </td> <td>0.000748783</td> <td>0   </td> <td>0   </td> <td>0      </td> <td>0      </td> <td>0     </td> <td>0        </td> <td>0   </td> <td>0       </td> <td>0     </td> <td>0      </td> <td>0     </td> <td>0        </td> <td>0        </td> <td>0       </td> <td>0     </td> <td>0          </td> <td>0     </td> <td>0   </td> <td>0   </td> <td>0          </td> <td>0     </td> <td>0          </td> <td>0          </td> <td>0          </td> <td>0     </td> <td>0     </td> <td>0     </td> <td>0    </td> <td>0    </td> <td>0     </td> <td>0          </td> <td>0       </td> <td>0    </td> <td>0          </td> <td>0.000748783</td> <td>0     </td> <td>0     </td> <td>0    </td> <td>0.000374392</td> <td>0      </td> <td>0       </td> <td>0     </td> <td>0   </td> <td>0     </td> <td>0.00262074 </td> <td>0          </td> <td>0      </td> <td>0      </td> <td>0    </td> <td>0    </td> <td>0.000748783</td> <td>0          </td> <td>0          </td> <td>0   </td> <td>0          </td> <td>0.000374392</td> <td>0    </td> <td>0          </td> <td>0       </td> <td>0     </td> <td>0     </td> <td>0.000374392</td> <td>0     </td> <td>0.000374392</td> <td>0       </td> <td>0.000374392</td> <td>0     </td> <td>0          </td> <td>0     </td> <td>0          </td> <td>0          </td> <td>0      </td> <td>0   </td> <td>0      </td> <td>0       </td> <td>0          </td> <td>0     </td> <td>0   </td> <td>0     </td> <td>0     </td> <td>0          </td> <td>0    </td> <td>0.000374392</td> <td>0      </td> <td>0.000374392</td> <td>0   </td> <td>0     </td> <td>0       </td> <td>0      </td> <td>0    </td> <td>0          </td> <td>0          </td> <td>0       </td> <td>0        </td> <td>0     </td> <td>0    </td> <td>0      </td> <td>0          </td> <td>0   </td> <td>0    </td> <td>0   </td> <td>0   </td> <td>0        </td> <td>0    </td> <td>0.000374392</td> <td>0     </td> <td>0      </td> <td>0     </td> <td>0.0112317</td> <td>0          </td> <td>0          </td> <td>0          </td> <td>0          </td> <td>0      </td> <td>0          </td> <td>0    </td> <td>0          </td> <td>0     </td> <td>0      </td> <td>0          </td> <td>0.000748783</td> <td>0        </td> <td>0   </td> <td>0    </td> <td>0          </td> <td>0     </td> <td>0          </td> <td>0   </td> <td>0          </td> <td>0          </td> <td>0        </td> <td>0    </td> <td>0    </td> <td>0       </td> <td>0        </td> <td>0       </td> <td>0    </td> <td>0   </td> <td>0     </td> <td>0.000374392</td> <td>0    </td> <td>0.000374392</td> <td>0          </td> <td>0       </td> <td>0          </td> <td>0     </td> <td>0          </td> <td>0     </td> <td>0          </td> <td>0          </td> <td>0     </td> <td>0.000374392</td> <td>0    </td> <td>0   </td> <td>0     </td> <td>0          </td> <td>0      </td> <td>0        </td> <td>0          </td> <td>0     </td> <td>0      </td> <td>0   </td> <td>0          </td> <td>0.000748783</td> <td>0    </td> <td>0    </td> <td>0   </td> <td>0    </td> <td>0    </td> <td>0   </td> <td>0       </td> <td>0          </td> <td>0          </td> <td>0     </td> <td>0   </td> <td>0.00112317 </td> <td>0          </td> <td>0          </td> <td>0   </td> <td>0    </td> <td>0      </td> <td>0   </td> <td>0.00112317 </td> <td>0     </td> <td>0   </td> <td>0       </td> <td>0         </td> <td>0.000748783</td> <td>0         </td> <td>0        </td> <td>0     </td> <td>0      </td> <td>0          </td> <td>0   </td> <td>0          </td> <td>0   </td> <td>0          </td> <td>0   </td> <td>0.000374392</td> <td>0     </td> <td>0      </td> <td>0    </td> <td>0.000748783</td> <td>0    </td> <td>0         </td> <td>0   </td> <td>0       </td> <td>0        </td> <td>0     </td> <td>0        </td> <td>0     </td> <td>0        </td> <td>0.000374392</td> <td>0     </td> <td>0   </td> <td>0.0101086</td> <td>0    </td> <td>0   </td> <td>0        </td> <td>0   </td> <td>0     </td> <td>0    </td> <td>0.000748783</td> <td>0          </td> <td>0   </td> <td>0         </td> <td>0        </td> <td>0.00149757 </td> <td>0        </td> <td>0    </td> <td>0.000374392</td> <td>0       </td> <td>0.000374392</td> <td>0.000748783</td> <td>0         </td> <td>0   </td> <td>0          </td> <td>0    </td> <td>0    </td> <td>0      </td> <td>0          </td> <td>0          </td> <td>0        </td> <td>0    </td> <td>0    </td> <td>0    </td> <td>0   </td> <td>0       </td> <td>0.000374392</td> <td>0   </td> <td>0     </td> <td>0          </td> <td>0.000748783</td> <td>0      </td> <td>0     </td> <td>0          </td> <td>0.0044927 </td> <td>0          </td> <td>0   </td> <td>0      </td> <td>0   </td> <td>0         </td> <td>0   </td> <td>0   </td> <td>0          </td> <td>0   </td> <td>0    </td> <td>0          </td> <td>0.000748783</td> <td>0          </td> <td>0          </td> <td>0        </td> <td>0   </td> <td>0          </td> <td>0    </td> <td>0          </td> <td>0          </td> <td>0        </td> <td>0          </td> <td>0   </td> <td>0          </td> <td>0          </td> <td>0.00149757 </td> <td>0          </td> <td>0      </td> <td>0          </td> <td>0        </td> <td>0   </td> <td>0    </td> <td>0    </td> <td>0          </td> <td>0    </td> <td>0   </td> <td>0          </td> <td>0        </td> <td>0       </td> <td>0    </td> <td>0         </td> <td>0          </td> <td>0.00112317 </td> <td>0          </td> <td>0          </td> <td>0          </td> <td>0    </td> <td>0.00187196 </td> <td>0    </td> <td>0   </td> <td>0   </td> <td>0    </td> <td>0     </td> <td>0   </td> <td>0         </td> <td>0    </td> <td>0          </td> <td>0        </td> <td>0    </td> <td>0          </td> <td>0      </td> <td>0          </td> <td>0   </td> <td>0      </td> <td>0      </td> <td>0     </td> <td>0     </td> <td>0     </td> <td>0.000374392</td> <td>0.00411831 </td> <td>0    </td> <td>0.00224635 </td> <td>0          </td> <td>0   </td> <td>0          </td> <td>0.000374392</td> <td>0      </td> <td>0        </td> <td>0      </td> <td>0    </td> <td>0     </td> <td>0    </td> <td>0        </td> <td>0      </td> <td>0   </td> <td>0.000374392</td> <td>0          </td> <td>0   </td> <td>0.00224635 </td> <td>0   </td> <td>0     </td> <td>0   </td> <td>0    </td> <td>0.000374392</td> <td>0   </td> <td>0       </td> <td>0   </td> <td>0     </td> <td>0      </td> <td>0.00149757 </td> <td>0      </td> <td>0        </td> <td>0        </td> <td>0      </td> <td>0        </td> <td>0    </td> <td>0   </td> <td>0     </td> <td>0     </td> <td>0          </td> <td>0          </td> <td>0      </td> <td>0      </td> <td>0        </td> <td>0        </td> <td>0     </td> <td>0         </td> <td>0   </td> <td>0   </td> <td>0     </td> <td>0   </td> <td>0    </td> <td>0   </td> <td>0          </td> <td>0     </td> <td>0    </td> <td>0     </td> <td>0   </td> <td>0          </td> <td>0   </td> <td>0     </td> <td>0      </td> <td>0       </td> <td>0          </td> <td>0     </td> <td>0   </td> <td>0      </td> <td>0        </td> <td>0        </td> <td>0.000748783</td> <td>0      </td> <td>0       </td> <td>0    </td> <td>0          </td> <td>0          </td> <td>0          </td> <td>0.000374392</td> <td>0        </td> <td>0     </td> <td>0    </td> <td>0    </td> <td>0    </td> <td>0   </td> <td>0   </td> <td>0        </td> <td>0     </td> <td>0     </td> <td>0        </td> <td>0        </td> <td>0   </td> <td>0     </td> <td>0          </td> <td>0   </td> <td>0          </td> <td>0          </td> <td>0        </td> <td>0    </td> <td>0     </td> <td>0   </td> <td>0   </td> <td>0.000374392</td> <td>0      </td> <td>0     </td> <td>0       </td> <td>0   </td> <td>0   </td> <td>0      </td> <td>0       </td> <td>0.000374392</td> <td>0    </td> <td>0    </td> <td>0.000374392</td> <td>0          </td> <td>0     </td> <td>0          </td> <td>0         </td> <td>0        </td> <td>0.00486709</td> <td>0    </td> <td>0     </td> <td>0    </td> <td>0.000374392</td> <td>0   </td> <td>0       </td> <td>0    </td> <td>0    </td> <td>0          </td> <td>0          </td> <td>0          </td> <td>0      </td> <td>0.000374392</td> <td>0     </td> <td>0   </td> <td>0        </td> <td>0          </td> <td>0   </td> <td>0.000748783</td> <td>0          </td> <td>0     </td> <td>0      </td> <td>0    </td> <td>0          </td> <td>0    </td> <td>0   </td> <td>0      </td> <td>0     </td> <td>0          </td> <td>0       </td> <td>0.000748783</td> <td>0   </td> <td>0      </td> <td>0.00112317 </td> <td>0      </td> <td>0   </td> <td>0    </td> <td>0          </td> <td>0.00262074</td> <td>0          </td> <td>0     </td> <td>0.000748783</td> <td>0          </td> <td>0       </td> <td>0     </td> <td>0          </td> <td>0        </td> <td>0     </td> <td>0     </td> <td>0         </td> <td>0          </td> <td>0    </td> <td>0     </td> <td>0          </td> <td>0     </td> <td>0     </td> <td>0          </td> <td>0   </td> <td>0   </td> <td>0          </td> <td>0        </td> <td>0   </td> <td>0    </td> <td>0.000374392</td> <td>0          </td> <td>0    </td> <td>0          </td> <td>0.00861101</td> <td>0          </td> <td>0          </td> <td>0   </td> <td>0      </td> <td>0          </td> <td>0      </td> <td>0          </td> <td>0     </td> <td>0   </td> <td>0     </td> <td>0          </td> <td>0          </td> <td>0          </td> <td>0   </td> <td>0     </td> <td>0     </td> <td>0      </td> <td>0          </td> <td>0        </td> <td>0.000374392</td> <td>0.000748783</td> <td>0    </td> <td>0     </td> <td>0    </td> <td>0     </td> <td>0    </td> <td>0   </td> <td>0    </td> <td>0      </td> <td>0   </td> <td>0   </td> <td>0   </td> <td>0    </td> <td>0      </td> <td>0          </td> <td>0    </td> <td>0   </td> <td>0   </td> <td>0        </td> <td>0     </td> <td>0   </td> <td>0     </td> <td>0   </td> <td>0     </td> <td>0     </td> <td>0     </td> <td>0   </td> <td>0      </td> <td>0     </td> <td>0      </td> <td>0          </td> <td>0.000374392</td> <td>0   </td> <td>0.000374392</td> <td>0          </td> <td>0.00149757 </td> <td>0      </td> <td>0    </td> <td>0   </td> <td>0    </td> <td>0        </td> <td>0     </td> <td>0    </td> <td>0     </td> <td>0          </td> <td>0      </td> <td>0   </td> <td>0.00411831 </td> <td>0      </td> <td>0   </td> <td>0    </td> <td>0   </td> <td>0   </td> <td>0.00149757 </td> <td>0.000374392</td> <td>0   </td> <td>0      </td> <td>0          </td> <td>0          </td> <td>0.00411831</td> <td>0          </td> <td>0          </td> <td>0     </td> <td>0          </td> <td>0    </td> <td>0      </td> <td>0      </td> <td>0   </td> <td>0     </td> <td>0    </td> <td>0    </td> <td>0   </td> <td>0     </td> <td>0          </td> <td>0    </td> <td>0          </td> <td>0   </td> <td>0   </td> <td>0   </td> <td>0          </td> <td>0      </td> <td>0        </td> <td>0        </td> <td>0          </td> <td>0      </td> <td>0        </td> <td>0.000374392</td> <td>0   </td> <td>0        </td> <td>0         </td> <td>0     </td> <td>0   </td> <td>0      </td> <td>0    </td> <td>0      </td> <td>0    </td> <td>0   </td> <td>0    </td> <td>0          </td> <td>0.00336952</td> <td>0          </td> <td>0          </td> <td>0          </td> <td>0    </td> <td>0   </td> <td>0.00262074 </td> <td>0        </td> <td>0          </td> <td>0    </td> <td>0        </td> <td>0   </td> <td>0   </td> <td>0        </td> <td>0       </td> <td>0          </td> <td>0          </td> <td>0      </td> <td>0        </td> <td>0   </td> <td>0          </td> <td>0.000374392</td> <td>0     </td> <td>0    </td> <td>0.00112317</td> <td>0      </td> <td>0    </td> <td>0     </td> <td>0          </td> <td>0     </td> <td>0       </td> <td>0          </td> <td>0    </td> <td>0   </td> <td>0      </td> <td>0     </td> <td>0    </td> <td>0     </td> <td>0     </td> <td>0   </td> <td>0      </td> <td>0    </td> <td>0          </td> <td>0      </td> <td>0          </td> <td>0   </td> <td>0   </td> <td>0     </td> <td>0   </td> <td>0   </td> <td>0   </td> <td>0       </td> <td>0   </td> <td>0   </td> <td>0.000748783</td> <td>0   </td> <td>0          </td> <td>0          </td> <td>0.000374392</td> <td>0     </td> <td>0    </td> <td>0.000374392</td> <td>0     </td> <td>0          </td> <td>0          </td> <td>0      </td> <td>0      </td> <td>0     </td> <td>0       </td> <td>0     </td> <td>0          </td> <td>0        </td> <td>0.000748783</td> <td>0      </td> <td>0        </td> <td>0          </td> <td>0.000374392</td> <td>0      </td> <td>0          </td> <td>0      </td> <td>0         </td> <td>0          </td> <td>0   </td> <td>0    </td> <td>0          </td> <td>0   </td> <td>0     </td> <td>0    </td> <td>0        </td> <td>0          </td> <td>0      </td> <td>0    </td> <td>0       </td> <td>0   </td> <td>0      </td> <td>0.000374392</td> <td>0          </td> <td>0     </td> <td>0   </td> <td>0      </td> <td>0        </td> <td>0          </td> <td>0          </td> <td>0.00149757 </td> <td>0   </td> <td>0        </td> <td>0      </td> <td>0   </td> <td>0   </td> <td>0      </td> <td>0      </td> <td>0     </td> <td>0     </td> <td>0   </td> <td>0      </td> <td>0     </td> <td>0     </td> <td>0   </td> <td>0   </td> <td>0   </td> <td>0.00112317</td> <td>0    </td> <td>0          </td> <td>0      </td> <td>0     </td> <td>0     </td> <td>0   </td> <td>0          </td> <td>0          </td> <td>0.00262074</td> <td>0      </td> <td>0       </td> <td>0          </td> <td>0     </td> <td>0     </td> <td>0          </td> <td>0        </td> <td>0          </td> <td>0   </td> <td>0          </td> <td>0     </td> <td>0.000748783</td> <td>0   </td> <td>0     </td> <td>0       </td> <td>0.0116061 </td> <td>0.000748783</td> <td>0       </td> <td>0     </td> <td>0      </td> <td>0   </td> <td>0      </td> <td>0   </td> <td>0     </td> <td>0     </td> <td>0        </td> <td>0          </td> <td>0      </td> <td>0.00149757</td> <td>0   </td> <td>0.000748783</td> <td>0   </td> <td>0.000374392</td> <td>0    </td> <td>0      </td> <td>0          </td> <td>0   </td> <td>0   </td> <td>0   </td> <td>0    </td> <td>0          </td> <td>0          </td> <td>0    </td> <td>0     </td> <td>0     </td> <td>0.000748783</td> <td>0.00112317</td> <td>0        </td> <td>0    </td> <td>0.00262074</td> <td>0     </td> <td>0        </td> <td>0        </td> <td>0          </td> <td>0.000748783</td> <td>0          </td> <td>0.000374392</td> <td>0      </td> <td>0.000748783</td> <td>0   </td> <td>0     </td> <td>0     </td> <td>0    </td> <td>0.000374392</td> <td>0    </td> <td>0   </td> <td>0    </td> <td>0       </td> <td>0     </td> <td>0.000374392</td> <td>0     </td> <td>0         </td> <td>0          </td> <td>0   </td> <td>0.000374392</td> <td>0     </td> <td>0   </td> <td>0      </td> <td>0    </td> <td>0    </td> <td>0.000374392</td> <td>0     </td> <td>0   </td> <td>0      </td> <td>0    </td> <td>0   </td> <td>0        </td> <td>0   </td> <td>0          </td> <td>0    </td> <td>0     </td> <td>0          </td> <td>0          </td> <td>0         </td> <td>0       </td> <td>0.000374392</td> <td>0          </td> <td>0.000748783</td> <td>0      </td> <td>0     </td> <td>0          </td> <td>0   </td> <td>0          </td> <td>0   </td> <td>0    </td> <td>0          </td> <td>0      </td> <td>0.000374392</td> <td>0          </td> <td>0          </td> <td>0          </td> <td>0    </td> <td>0    </td> <td>0   </td> <td>0          </td> <td>0    </td> <td>0          </td> <td>0    </td> <td>0.000374392</td> <td>0    </td> <td>0          </td> <td>0.000748783</td> <td>0          </td> <td>0      </td> <td>0.000374392</td> <td>0     </td> <td>0      </td> <td>0          </td> <td>0          </td> <td>0          </td> <td>0.00336952 </td> <td>0      </td> <td>0     </td> <td>0    </td> <td>0   </td> <td>0          </td> <td>0.000374392</td> <td>0   </td> <td>0       </td> <td>0   </td> <td>0    </td> <td>0      </td> <td>0      </td> <td>0.0089854</td> <td>0   </td> <td>0     </td> <td>0     </td> <td>0          </td> <td>0    </td> <td>0   </td> <td>0      </td> <td>0   </td> <td>0   </td> <td>0     </td> <td>0       </td> <td>0     </td> <td>0    </td> <td>0.000374392</td> <td>0          </td> <td>0   </td> <td>0    </td> <td>0     </td> <td>0   </td> <td>0.000374392</td> <td>0   </td> <td>0.000748783</td> <td>0      </td> <td>0          </td> <td>0.000374392</td> <td>0          </td> <td>0          </td> <td>0    </td> <td>0   </td> <td>0   </td> <td>0.000748783</td> <td>0   </td> <td>0.000748783</td> <td>0     </td> <td>0       </td> <td>0          </td> <td>0        </td> <td>0          </td> <td>0      </td> <td>0    </td> <td>0   </td> <td>0       </td> <td>0.000374392</td> <td>0   </td> <td>0          </td> <td>0          </td> <td>0    </td> <td>0        </td> <td>0     </td> <td>0     </td> <td>0         </td> <td>0     </td> <td>0        </td> <td>0      </td> <td>0          </td> <td>0   </td> <td>0    </td> <td>0     </td> <td>0      </td> <td>0      </td> <td>0     </td> <td>0        </td> <td>0      </td> <td>0         </td> <td>0          </td> <td>0   </td> <td>0      </td> <td>0    </td> <td>0   </td> <td>0.000374392</td> <td>0    </td> <td>0     </td> <td>0    </td> <td>0    </td> <td>0        </td> <td>0     </td> <td>0   </td> <td>0       </td> <td>0     </td> <td>0    </td> <td>0          </td> <td>0        </td> <td>0          </td> <td>0   </td> <td>0.000748783</td> <td>0   </td> <td>0          </td> <td>0          </td> <td>0       </td> <td>0.00112317 </td> <td>0          </td> <td>0          </td> <td>0    </td> <td>0   </td> <td>0   </td> <td>0   </td> <td>0     </td> <td>0    </td> <td>0   </td> <td>0   </td> <td>0        </td> <td>0     </td> <td>0   </td> <td>0    </td> <td>0       </td> <td>0       </td> <td>0.000374392</td> <td>0      </td> <td>0      </td> <td>0   </td> <td>0       </td> <td>0    </td> <td>0       </td> <td>0   </td> <td>0    </td> <td>0    </td> <td>0     </td> <td>0   </td> <td>0    </td> <td>0     </td> <td>0       </td> <td>0          </td> <td>0      </td> <td>0   </td> <td>0        </td> <td>0     </td> <td>0    </td> <td>0    </td> <td>0        </td> <td>0     </td> <td>0      </td> <td>0.000748783</td> <td>0    </td> <td>0          </td> <td>0     </td> <td>0        </td> <td>0        </td> <td>0      </td> <td>0   </td> <td>0.000374392</td> <td>0    </td> <td>0          </td> <td>0        </td> <td>0    </td> <td>0          </td> <td>0         </td> <td>0          </td> <td>0          </td> <td>0   </td> <td>0   </td> <td>0          </td>\n",
       "        </tr>\n",
       "        <tr>\n",
       "            <td>bringing out the dead</td> <td>1999  </td> <td>6.8   </td> <td>thriller</td> <td>5415   </td> <td>0.0050077 </td> <td>0          </td> <td>0.00192604 </td> <td>0          </td> <td>0    </td> <td>0   </td> <td>0     </td> <td>0         </td> <td>0   </td> <td>0    </td> <td>0        </td> <td>0          </td> <td>0    </td> <td>0        </td> <td>0          </td> <td>0        </td> <td>0   </td> <td>0.000192604</td> <td>0     </td> <td>0.000192604</td> <td>0    </td> <td>0   </td> <td>0      </td> <td>0          </td> <td>0       </td> <td>0   </td> <td>0        </td> <td>0      </td> <td>0     </td> <td>0   </td> <td>0   </td> <td>0      </td> <td>0    </td> <td>0     </td> <td>0.000192604</td> <td>0.000385208</td> <td>0.000577812</td> <td>0.000770416</td> <td>0     </td> <td>0.000192604</td> <td>0          </td> <td>0.000770416</td> <td>0         </td> <td>0   </td> <td>0      </td> <td>0.000192604</td> <td>0          </td> <td>0       </td> <td>0.000192604</td> <td>0        </td> <td>0   </td> <td>0          </td> <td>0          </td> <td>0.000385208</td> <td>0      </td> <td>0      </td> <td>0    </td> <td>0          </td> <td>0    </td> <td>0          </td> <td>0        </td> <td>0     </td> <td>0          </td> <td>0    </td> <td>0          </td> <td>0    </td> <td>0     </td> <td>0        </td> <td>0.00096302</td> <td>0.000192604</td> <td>0          </td> <td>0     </td> <td>0    </td> <td>0.000192604</td> <td>0      </td> <td>0      </td> <td>0     </td> <td>0    </td> <td>0      </td> <td>0       </td> <td>0   </td> <td>0   </td> <td>0     </td> <td>0      </td> <td>0    </td> <td>0.000192604</td> <td>0    </td> <td>0     </td> <td>0     </td> <td>0   </td> <td>0   </td> <td>0   </td> <td>0   </td> <td>0.00250385</td> <td>0     </td> <td>0     </td> <td>0     </td> <td>0       </td> <td>0      </td> <td>0.000192604</td> <td>0    </td> <td>0   </td> <td>0    </td> <td>0   </td> <td>0   </td> <td>0     </td> <td>0     </td> <td>0     </td> <td>0   </td> <td>0.000385208</td> <td>0    </td> <td>0          </td> <td>0       </td> <td>0     </td> <td>0.00134823</td> <td>0       </td> <td>0.000577812</td> <td>0          </td> <td>0     </td> <td>0          </td> <td>0          </td> <td>0     </td> <td>0.00365948</td> <td>0          </td> <td>0          </td> <td>0   </td> <td>0         </td> <td>0     </td> <td>0     </td> <td>0   </td> <td>0     </td> <td>0    </td> <td>0   </td> <td>0.00154083</td> <td>0    </td> <td>0      </td> <td>0.000192604</td> <td>0          </td> <td>0   </td> <td>0.000385208</td> <td>0      </td> <td>0     </td> <td>0.000192604</td> <td>0       </td> <td>0      </td> <td>0      </td> <td>0      </td> <td>0   </td> <td>0      </td> <td>0      </td> <td>0   </td> <td>0          </td> <td>0   </td> <td>0       </td> <td>0   </td> <td>0          </td> <td>0   </td> <td>0        </td> <td>0     </td> <td>0   </td> <td>0     </td> <td>0     </td> <td>0       </td> <td>0       </td> <td>0     </td> <td>0          </td> <td>0.00577812</td> <td>0    </td> <td>0.000192604</td> <td>0     </td> <td>0     </td> <td>0   </td> <td>0          </td> <td>0          </td> <td>0          </td> <td>0          </td> <td>0   </td> <td>0   </td> <td>0    </td> <td>0.000192604</td> <td>0   </td> <td>0      </td> <td>0     </td> <td>0     </td> <td>0.000577812</td> <td>0         </td> <td>0.000770416</td> <td>0     </td> <td>0     </td> <td>0.000385208</td> <td>0     </td> <td>0     </td> <td>0      </td> <td>0      </td> <td>0.00096302 </td> <td>0.000385208</td> <td>0        </td> <td>0    </td> <td>0          </td> <td>0    </td> <td>0   </td> <td>0       </td> <td>0   </td> <td>0     </td> <td>0   </td> <td>0   </td> <td>0     </td> <td>0     </td> <td>0    </td> <td>0      </td> <td>0   </td> <td>0    </td> <td>0    </td> <td>0          </td> <td>0          </td> <td>0      </td> <td>0.000192604</td> <td>0.000192604</td> <td>0    </td> <td>0    </td> <td>0          </td> <td>0.00192604</td> <td>0   </td> <td>0.000192604</td> <td>0      </td> <td>0.00192604 </td> <td>0   </td> <td>0   </td> <td>0          </td> <td>0          </td> <td>0    </td> <td>0.000192604</td> <td>0.000577812</td> <td>0       </td> <td>0    </td> <td>0   </td> <td>0.00211864 </td> <td>0    </td> <td>0          </td> <td>0   </td> <td>0   </td> <td>0      </td> <td>0      </td> <td>0.0104006</td> <td>0         </td> <td>0.000577812</td> <td>0     </td> <td>0          </td> <td>0       </td> <td>0      </td> <td>0        </td> <td>0     </td> <td>0     </td> <td>0          </td> <td>0      </td> <td>0   </td> <td>0           </td> <td>0   </td> <td>0    </td> <td>0.00154083 </td> <td>0.000385208</td> <td>0          </td> <td>0.000577812</td> <td>0   </td> <td>0    </td> <td>0   </td> <td>0.000385208</td> <td>0.000385208</td> <td>0      </td> <td>0.000192604</td> <td>0          </td> <td>0     </td> <td>0        </td> <td>0    </td> <td>0          </td> <td>0    </td> <td>0.000577812</td> <td>0     </td> <td>0        </td> <td>0.000192604</td> <td>0   </td> <td>0      </td> <td>0          </td> <td>0   </td> <td>0          </td> <td>0          </td> <td>0        </td> <td>0.000192604</td> <td>0     </td> <td>0     </td> <td>0        </td> <td>0      </td> <td>0        </td> <td>0.000770416</td> <td>0     </td> <td>0      </td> <td>0.000192604</td> <td>0       </td> <td>0.000385208</td> <td>0    </td> <td>0.000192604</td> <td>0          </td> <td>0          </td> <td>0     </td> <td>0      </td> <td>0          </td> <td>0.000385208</td> <td>0     </td> <td>0   </td> <td>0    </td> <td>0.000577812</td> <td>0   </td> <td>0     </td> <td>0.000192604</td> <td>0   </td> <td>0          </td> <td>0     </td> <td>0    </td> <td>0.000770416</td> <td>0   </td> <td>0      </td> <td>0.000192604</td> <td>0          </td> <td>0     </td> <td>0     </td> <td>0       </td> <td>0     </td> <td>0     </td> <td>0        </td> <td>0.000192604</td> <td>0     </td> <td>0.000192604</td> <td>0          </td> <td>0         </td> <td>0        </td> <td>0        </td> <td>0          </td> <td>0      </td> <td>0         </td> <td>0          </td> <td>0.00346687</td> <td>0         </td> <td>0        </td> <td>0     </td> <td>0     </td> <td>0        </td> <td>0.000385208</td> <td>0       </td> <td>0          </td> <td>0      </td> <td>0          </td> <td>0        </td> <td>0    </td> <td>0          </td> <td>0.000192604</td> <td>0.000192604</td> <td>0     </td> <td>0       </td> <td>0.000192604</td> <td>0        </td> <td>0      </td> <td>0          </td> <td>0    </td> <td>0     </td> <td>0   </td> <td>0.00134823</td> <td>0      </td> <td>0.00558552</td> <td>0          </td> <td>0      </td> <td>0.000192604</td> <td>0        </td> <td>0     </td> <td>0   </td> <td>0      </td> <td>0    </td> <td>0.00192604 </td> <td>0.000577812</td> <td>0.000192604</td> <td>0     </td> <td>0        </td> <td>0     </td> <td>0    </td> <td>0.000192604</td> <td>0   </td> <td>0     </td> <td>0        </td> <td>0        </td> <td>0.00404468</td> <td>0   </td> <td>0.000385208</td> <td>0.000192604</td> <td>0.000385208</td> <td>0          </td> <td>0    </td> <td>0   </td> <td>0.000385208</td> <td>0          </td> <td>0     </td> <td>0    </td> <td>0          </td> <td>0.000385208</td> <td>0.00134823 </td> <td>0         </td> <td>0          </td> <td>0     </td> <td>0    </td> <td>0     </td> <td>0    </td> <td>0   </td> <td>0      </td> <td>0   </td> <td>0          </td> <td>0.000385208</td> <td>0          </td> <td>0      </td> <td>0      </td> <td>0   </td> <td>0   </td> <td>0     </td> <td>0    </td> <td>0.000192604</td> <td>0    </td> <td>0          </td> <td>0         </td> <td>0     </td> <td>0    </td> <td>0          </td> <td>0.00096302 </td> <td>0   </td> <td>0    </td> <td>0    </td> <td>0        </td> <td>0   </td> <td>0.000577812</td> <td>0          </td> <td>0.00096302 </td> <td>0    </td> <td>0    </td> <td>0         </td> <td>0     </td> <td>0     </td> <td>0    </td> <td>0    </td> <td>0    </td> <td>0      </td> <td>0    </td> <td>0    </td> <td>0          </td> <td>0   </td> <td>0    </td> <td>0      </td> <td>0      </td> <td>0.00134823</td> <td>0     </td> <td>0.000577812</td> <td>0    </td> <td>0    </td> <td>0      </td> <td>0        </td> <td>0      </td> <td>0   </td> <td>0   </td> <td>0   </td> <td>0.000577812</td> <td>0.000192604</td> <td>0   </td> <td>0    </td> <td>0.000192604</td> <td>0   </td> <td>0      </td> <td>0   </td> <td>0          </td> <td>0    </td> <td>0    </td> <td>0     </td> <td>0        </td> <td>0    </td> <td>0    </td> <td>0        </td> <td>0.00231125</td> <td>0     </td> <td>0      </td> <td>0     </td> <td>0   </td> <td>0   </td> <td>0.000385208</td> <td>0          </td> <td>0       </td> <td>0          </td> <td>0     </td> <td>0    </td> <td>0.000577812</td> <td>0    </td> <td>0      </td> <td>0     </td> <td>0       </td> <td>0    </td> <td>0   </td> <td>0    </td> <td>0   </td> <td>0   </td> <td>0     </td> <td>0    </td> <td>0          </td> <td>0      </td> <td>0     </td> <td>0    </td> <td>0          </td> <td>0   </td> <td>0      </td> <td>0.00134823</td> <td>0.00250385 </td> <td>0          </td> <td>0    </td> <td>0.000192604</td> <td>0      </td> <td>0          </td> <td>0       </td> <td>0    </td> <td>0         </td> <td>0          </td> <td>0.00269646</td> <td>0.000192604</td> <td>0   </td> <td>0      </td> <td>0    </td> <td>0.000192604</td> <td>0       </td> <td>0    </td> <td>0          </td> <td>0   </td> <td>0   </td> <td>0.000770416</td> <td>0.00192604</td> <td>0    </td> <td>0   </td> <td>0         </td> <td>0   </td> <td>0      </td> <td>0      </td> <td>0   </td> <td>0       </td> <td>0          </td> <td>0   </td> <td>0          </td> <td>0          </td> <td>0.00096302 </td> <td>0    </td> <td>0     </td> <td>0     </td> <td>0          </td> <td>0      </td> <td>0          </td> <td>0.011171  </td> <td>0          </td> <td>0      </td> <td>0          </td> <td>0    </td> <td>0          </td> <td>0   </td> <td>0          </td> <td>0.00096302 </td> <td>0         </td> <td>0      </td> <td>0     </td> <td>0     </td> <td>0     </td> <td>0          </td> <td>0   </td> <td>0.000192604</td> <td>0    </td> <td>0    </td> <td>0     </td> <td>0      </td> <td>0.00192604 </td> <td>0.000192604</td> <td>0.00096302</td> <td>0    </td> <td>0          </td> <td>0    </td> <td>0      </td> <td>0    </td> <td>0     </td> <td>0          </td> <td>0      </td> <td>0    </td> <td>0        </td> <td>0     </td> <td>0      </td> <td>0   </td> <td>0      </td> <td>0     </td> <td>0.000192604</td> <td>0.000385208</td> <td>0          </td> <td>0   </td> <td>0.000385208</td> <td>0          </td> <td>0     </td> <td>0      </td> <td>0     </td> <td>0       </td> <td>0          </td> <td>0    </td> <td>0     </td> <td>0   </td> <td>0.000192604</td> <td>0          </td> <td>0   </td> <td>0.000192604</td> <td>0     </td> <td>0      </td> <td>0    </td> <td>0.00635593</td> <td>0   </td> <td>0          </td> <td>0    </td> <td>0.000192604</td> <td>0.00520031</td> <td>0.000192604</td> <td>0          </td> <td>0          </td> <td>0.000385208</td> <td>0.00154083 </td> <td>0          </td> <td>0   </td> <td>0     </td> <td>0    </td> <td>0          </td> <td>0   </td> <td>0      </td> <td>0   </td> <td>0.000192604</td> <td>0   </td> <td>0.000192604</td> <td>0.00096302 </td> <td>0       </td> <td>0       </td> <td>0     </td> <td>0     </td> <td>0   </td> <td>0     </td> <td>0       </td> <td>0          </td> <td>0      </td> <td>0   </td> <td>0          </td> <td>0          </td> <td>0.00096302 </td> <td>0   </td> <td>0      </td> <td>0       </td> <td>0          </td> <td>0.000192604</td> <td>0     </td> <td>0       </td> <td>0       </td> <td>0   </td> <td>0.000577812</td> <td>0        </td> <td>0    </td> <td>0       </td> <td>0      </td> <td>0    </td> <td>0       </td> <td>0.000192604</td> <td>0      </td> <td>0          </td> <td>0.000192604</td> <td>0      </td> <td>0      </td> <td>0          </td> <td>0          </td> <td>0   </td> <td>0   </td> <td>0.000192604</td> <td>0.0283128</td> <td>0          </td> <td>0   </td> <td>0   </td> <td>0       </td> <td>0    </td> <td>0     </td> <td>0      </td> <td>0     </td> <td>0        </td> <td>0       </td> <td>0.000385208</td> <td>0.000385208</td> <td>0     </td> <td>0      </td> <td>0   </td> <td>0       </td> <td>0          </td> <td>0          </td> <td>0        </td> <td>0      </td> <td>0     </td> <td>0.00134823 </td> <td>0          </td> <td>0   </td> <td>0     </td> <td>0.000385208</td> <td>0    </td> <td>0     </td> <td>0         </td> <td>0.000577812</td> <td>0          </td> <td>0          </td> <td>0     </td> <td>0    </td> <td>0     </td> <td>0    </td> <td>0    </td> <td>0   </td> <td>0      </td> <td>0      </td> <td>0    </td> <td>0    </td> <td>0.00423729</td> <td>0          </td> <td>0.00096302 </td> <td>0.000577812</td> <td>0          </td> <td>0.000385208</td> <td>0    </td> <td>0    </td> <td>0          </td> <td>0     </td> <td>0      </td> <td>0   </td> <td>0   </td> <td>0         </td> <td>0   </td> <td>0        </td> <td>0   </td> <td>0       </td> <td>0          </td> <td>0    </td> <td>0          </td> <td>0        </td> <td>0     </td> <td>0          </td> <td>0          </td> <td>0    </td> <td>0    </td> <td>0        </td> <td>0   </td> <td>0        </td> <td>0          </td> <td>0       </td> <td>0.000192604</td> <td>0.000192604</td> <td>0          </td> <td>0   </td> <td>0     </td> <td>0        </td> <td>0          </td> <td>0     </td> <td>0.000192604</td> <td>0          </td> <td>0     </td> <td>0          </td> <td>0   </td> <td>0.000577812</td> <td>0          </td> <td>0        </td> <td>0          </td> <td>0   </td> <td>0    </td> <td>0        </td> <td>0          </td> <td>0    </td> <td>0          </td> <td>0      </td> <td>0    </td> <td>0        </td> <td>0.000192604</td> <td>0    </td> <td>0    </td> <td>0     </td> <td>0      </td> <td>0    </td> <td>0    </td> <td>0   </td> <td>0   </td> <td>0   </td> <td>0    </td> <td>0          </td> <td>0    </td> <td>0.000192604</td> <td>0    </td> <td>0     </td> <td>0.000770416</td> <td>0          </td> <td>0.00211864 </td> <td>0    </td> <td>0          </td> <td>0          </td> <td>0    </td> <td>0    </td> <td>0   </td> <td>0.000192604</td> <td>0     </td> <td>0          </td> <td>0       </td> <td>0     </td> <td>0     </td> <td>0        </td> <td>0    </td> <td>0          </td> <td>0   </td> <td>0       </td> <td>0      </td> <td>0.00096302 </td> <td>0        </td> <td>0.000192604</td> <td>0     </td> <td>0   </td> <td>0          </td> <td>0    </td> <td>0       </td> <td>0       </td> <td>0      </td> <td>0    </td> <td>0          </td> <td>0    </td> <td>0   </td> <td>0       </td> <td>0   </td> <td>0    </td> <td>0          </td> <td>0         </td> <td>0        </td> <td>0   </td> <td>0     </td> <td>0    </td> <td>0     </td> <td>0        </td> <td>0   </td> <td>0     </td> <td>0.000577812</td> <td>0          </td> <td>0          </td> <td>0      </td> <td>0    </td> <td>0     </td> <td>0.000385208</td> <td>0          </td> <td>0          </td> <td>0      </td> <td>0   </td> <td>0      </td> <td>0          </td> <td>0    </td> <td>0       </td> <td>0     </td> <td>0    </td> <td>0.00808937</td> <td>0     </td> <td>0.000192604</td> <td>0    </td> <td>0      </td> <td>0      </td> <td>0     </td> <td>0     </td> <td>0          </td> <td>0    </td> <td>0          </td> <td>0          </td> <td>0    </td> <td>0          </td> <td>0          </td> <td>0    </td> <td>0     </td> <td>0.000192604</td> <td>0.00288906</td> <td>0   </td> <td>0   </td> <td>0       </td> <td>0         </td> <td>0     </td> <td>0   </td> <td>0    </td> <td>0      </td> <td>0        </td> <td>0     </td> <td>0          </td> <td>0   </td> <td>0          </td> <td>0    </td> <td>0     </td> <td>0    </td> <td>0       </td> <td>0        </td> <td>0      </td> <td>0      </td> <td>0    </td> <td>0      </td> <td>0       </td> <td>0          </td> <td>0   </td> <td>0     </td> <td>0        </td> <td>0    </td> <td>0     </td> <td>0          </td> <td>0   </td> <td>0     </td> <td>0    </td> <td>0          </td> <td>0      </td> <td>0.000192604</td> <td>0     </td> <td>0    </td> <td>0        </td> <td>0     </td> <td>0          </td> <td>0     </td> <td>0   </td> <td>0.00096302</td> <td>0     </td> <td>0    </td> <td>0        </td> <td>0     </td> <td>0          </td> <td>0     </td> <td>0         </td> <td>0      </td> <td>0          </td> <td>0        </td> <td>0       </td> <td>0      </td> <td>0    </td> <td>0          </td> <td>0.00731895</td> <td>0.000385208</td> <td>0    </td> <td>0.000385208</td> <td>0   </td> <td>0          </td> <td>0.000192604</td> <td>0   </td> <td>0    </td> <td>0       </td> <td>0     </td> <td>0    </td> <td>0     </td> <td>0.000577812</td> <td>0.000192604</td> <td>0     </td> <td>0          </td> <td>0          </td> <td>0.000192604</td> <td>0.00154083 </td> <td>0   </td> <td>0     </td> <td>0    </td> <td>0          </td> <td>0     </td> <td>0    </td> <td>0.000577812</td> <td>0.000192604</td> <td>0      </td> <td>0     </td> <td>0          </td> <td>0.000577812</td> <td>0       </td> <td>0    </td> <td>0      </td> <td>0      </td> <td>0     </td> <td>0     </td> <td>0       </td> <td>0     </td> <td>0.000192604</td> <td>0.000192604</td> <td>0   </td> <td>0         </td> <td>0          </td> <td>0   </td> <td>0.00192604 </td> <td>0    </td> <td>0          </td> <td>0     </td> <td>0   </td> <td>0      </td> <td>0.0048151 </td> <td>0      </td> <td>0          </td> <td>0.000577812</td> <td>0    </td> <td>0     </td> <td>0.000192604</td> <td>0     </td> <td>0        </td> <td>0     </td> <td>0          </td> <td>0      </td> <td>0   </td> <td>0.000192604</td> <td>0   </td> <td>0         </td> <td>0   </td> <td>0          </td> <td>0    </td> <td>0        </td> <td>0.00154083 </td> <td>0.00096302 </td> <td>0    </td> <td>0          </td> <td>0   </td> <td>0      </td> <td>0          </td> <td>0          </td> <td>0.000385208</td> <td>0    </td> <td>0     </td> <td>0   </td> <td>0.00115562 </td> <td>0          </td> <td>0          </td> <td>0   </td> <td>0     </td> <td>0        </td> <td>0    </td> <td>0   </td> <td>0      </td> <td>0.000192604</td> <td>0          </td> <td>0       </td> <td>0   </td> <td>0      </td> <td>0     </td> <td>0          </td> <td>0     </td> <td>0.0229199</td> <td>0   </td> <td>0   </td> <td>0            </td> <td>0     </td> <td>0       </td> <td>0      </td> <td>0       </td> <td>0      </td> <td>0      </td> <td>0   </td> <td>0       </td> <td>0          </td> <td>0.00308166</td> <td>0        </td> <td>0     </td> <td>0     </td> <td>0    </td> <td>0          </td> <td>0          </td> <td>0.000385208</td> <td>0.000385208</td> <td>0          </td> <td>0.000385208</td> <td>0       </td> <td>0          </td> <td>0          </td> <td>0.000192604</td> <td>0      </td> <td>0   </td> <td>0      </td> <td>0   </td> <td>0        </td> <td>0     </td> <td>0       </td> <td>0   </td> <td>0      </td> <td>0        </td> <td>0.000192604</td> <td>0      </td> <td>0          </td> <td>0   </td> <td>0          </td> <td>0.000385208</td> <td>0   </td> <td>0.00327427 </td> <td>0      </td> <td>0       </td> <td>0   </td> <td>0          </td> <td>0      </td> <td>0     </td> <td>0     </td> <td>0        </td> <td>0.000385208</td> <td>0    </td> <td>0.000192604</td> <td>0       </td> <td>0   </td> <td>0        </td> <td>0          </td> <td>0          </td> <td>0          </td> <td>0          </td> <td>0      </td> <td>0    </td> <td>0    </td> <td>0    </td> <td>0          </td> <td>0          </td> <td>0      </td> <td>0    </td> <td>0.00134823 </td> <td>0     </td> <td>0    </td> <td>0.000385208</td> <td>0         </td> <td>0   </td> <td>0          </td> <td>0      </td> <td>0         </td> <td>0          </td> <td>0.00520031</td> <td>0      </td> <td>0        </td> <td>0        </td> <td>0    </td> <td>0        </td> <td>0   </td> <td>0      </td> <td>0.000192604</td> <td>0          </td> <td>0    </td> <td>0        </td> <td>0      </td> <td>0     </td> <td>0      </td> <td>0     </td> <td>0    </td> <td>0    </td> <td>0        </td> <td>0      </td> <td>0          </td> <td>0   </td> <td>0      </td> <td>0          </td> <td>0   </td> <td>0      </td> <td>0       </td> <td>0.000192604</td> <td>0    </td> <td>0        </td> <td>0          </td> <td>0.00134823 </td> <td>0   </td> <td>0.000192604</td> <td>0    </td> <td>0     </td> <td>0   </td> <td>0    </td> <td>0          </td> <td>0    </td> <td>0          </td> <td>0.000385208</td> <td>0.000577812</td> <td>0          </td> <td>0      </td> <td>0          </td> <td>0.000577812</td> <td>0          </td> <td>0   </td> <td>0      </td> <td>0     </td> <td>0      </td> <td>0        </td> <td>0          </td> <td>0.000385208</td> <td>0   </td> <td>0    </td> <td>0    </td> <td>0          </td> <td>0   </td> <td>0          </td> <td>0.000192604</td> <td>0     </td> <td>0     </td> <td>0    </td> <td>0.000192604</td> <td>0          </td> <td>0.000192604</td> <td>0    </td> <td>0    </td> <td>0   </td> <td>0          </td> <td>0    </td> <td>0    </td> <td>0         </td> <td>0   </td> <td>0   </td> <td>0      </td> <td>0          </td> <td>0      </td> <td>0    </td> <td>0          </td> <td>0   </td> <td>0          </td> <td>0.00096302</td> <td>0          </td> <td>0    </td> <td>0    </td> <td>0          </td> <td>0.0117488 </td> <td>0          </td> <td>0    </td> <td>0    </td> <td>0    </td> <td>0      </td> <td>0    </td> <td>0     </td> <td>0      </td> <td>0   </td> <td>0   </td> <td>0   </td> <td>0    </td> <td>0        </td> <td>0   </td> <td>0    </td> <td>0       </td> <td>0   </td> <td>0       </td> <td>0     </td> <td>0         </td> <td>0         </td> <td>0       </td> <td>0.00134823</td> <td>0     </td> <td>0          </td> <td>0   </td> <td>0          </td> <td>0    </td> <td>0   </td> <td>0    </td> <td>0.000385208</td> <td>0           </td> <td>0      </td> <td>0    </td> <td>0        </td> <td>0        </td> <td>0.000192604</td> <td>0.00250385</td> <td>0   </td> <td>0.000385208</td> <td>0          </td> <td>0     </td> <td>0    </td> <td>0   </td> <td>0.000577812</td> <td>0     </td> <td>0      </td> <td>0        </td> <td>0      </td> <td>0   </td> <td>0   </td> <td>0     </td> <td>0          </td> <td>0   </td> <td>0          </td> <td>0    </td> <td>0   </td> <td>0   </td> <td>0     </td> <td>0        </td> <td>0          </td> <td>0   </td> <td>0        </td> <td>0     </td> <td>0        </td> <td>0.000385208</td> <td>0          </td> <td>0          </td> <td>0   </td> <td>0   </td> <td>0   </td> <td>0          </td> <td>0      </td> <td>0   </td> <td>0     </td> <td>0      </td> <td>0.000192604</td> <td>0     </td> <td>0.000192604</td> <td>0    </td> <td>0          </td> <td>0.000192604</td> <td>0    </td> <td>0.00231125 </td> <td>0.000192604</td> <td>0          </td> <td>0      </td> <td>0       </td> <td>0.000770416</td> <td>0    </td> <td>0          </td> <td>0.000385208</td> <td>0    </td> <td>0          </td> <td>0   </td> <td>0.000192604</td> <td>0        </td> <td>0        </td> <td>0   </td> <td>0   </td> <td>0   </td> <td>0     </td> <td>0         </td> <td>0.000192604</td> <td>0     </td> <td>0          </td> <td>0       </td> <td>0   </td> <td>0      </td> <td>0.00885978</td> <td>0          </td> <td>0   </td> <td>0        </td> <td>0       </td> <td>0          </td> <td>0          </td> <td>0.000385208</td> <td>0.000192604</td> <td>0   </td> <td>0      </td> <td>0      </td> <td>0   </td> <td>0   </td> <td>0    </td> <td>0      </td> <td>0   </td> <td>0       </td> <td>0        </td> <td>0.000192604</td> <td>0     </td> <td>0.000192604</td> <td>0        </td> <td>0.000192604</td> <td>0       </td> <td>0.000192604</td> <td>0     </td> <td>0.000577812</td> <td>0        </td> <td>0      </td> <td>0   </td> <td>0      </td> <td>0.000577812</td> <td>0.00751156</td> <td>0          </td> <td>0          </td> <td>0   </td> <td>0.000192604</td> <td>0        </td> <td>0   </td> <td>0.000385208</td> <td>0          </td> <td>0         </td> <td>0   </td> <td>0    </td> <td>0     </td> <td>0         </td> <td>0        </td> <td>0          </td> <td>0          </td> <td>0   </td> <td>0          </td> <td>0.0046225 </td> <td>0.000385208</td> <td>0          </td> <td>0         </td> <td>0   </td> <td>0    </td> <td>0          </td> <td>0     </td> <td>0.000385208</td> <td>0   </td> <td>0          </td> <td>0          </td> <td>0.000770416</td> <td>0    </td> <td>0          </td> <td>0    </td> <td>0.000577812</td> <td>0   </td> <td>0        </td> <td>0      </td> <td>0    </td> <td>0     </td> <td>0       </td> <td>0     </td> <td>0     </td> <td>0   </td> <td>0   </td> <td>0   </td> <td>0          </td> <td>0.000577812</td> <td>0   </td> <td>0      </td> <td>0     </td> <td>0       </td> <td>0        </td> <td>0    </td> <td>0.00288906</td> <td>0          </td> <td>0    </td> <td>0    </td> <td>0   </td> <td>0   </td> <td>0    </td> <td>0.0046225  </td> <td>0.000192604</td> <td>0          </td> <td>0        </td> <td>0    </td> <td>0          </td> <td>0         </td> <td>0.00115562 </td> <td>0          </td> <td>0       </td> <td>0.00269646</td> <td>0   </td> <td>0          </td> <td>0.00616333</td> <td>0   </td> <td>0        </td> <td>0          </td> <td>0   </td> <td>0   </td> <td>0          </td> <td>0          </td> <td>0     </td> <td>0    </td> <td>0      </td> <td>0        </td> <td>0   </td> <td>0.000577812</td> <td>0     </td> <td>0.000385208</td> <td>0       </td> <td>0          </td> <td>0        </td> <td>0          </td> <td>0   </td> <td>0     </td> <td>0.000192604</td> <td>0     </td> <td>0    </td> <td>0.000770416</td> <td>0   </td> <td>0          </td> <td>0.000385208</td> <td>0        </td> <td>0   </td> <td>0   </td> <td>0.00096302 </td> <td>0          </td> <td>0     </td> <td>0.000192604</td> <td>0   </td> <td>0   </td> <td>0.000192604</td> <td>0    </td> <td>0        </td> <td>0    </td> <td>0     </td> <td>0   </td> <td>0    </td> <td>0.000192604</td> <td>0          </td> <td>0     </td> <td>0       </td> <td>0   </td> <td>0     </td> <td>0   </td> <td>0   </td> <td>0   </td> <td>0    </td> <td>0.000192604</td> <td>0    </td> <td>0   </td> <td>0   </td> <td>0.000577812</td> <td>0    </td> <td>0   </td> <td>0   </td> <td>0       </td> <td>0   </td> <td>0          </td> <td>0     </td> <td>0   </td> <td>0   </td> <td>0          </td> <td>0     </td> <td>0          </td> <td>0     </td> <td>0          </td> <td>0       </td> <td>0   </td> <td>0   </td> <td>0          </td> <td>0.000192604</td> <td>0     </td> <td>0.000577812</td> <td>0    </td> <td>0      </td> <td>0   </td> <td>0      </td> <td>0.000192604</td> <td>0    </td> <td>0   </td> <td>0    </td> <td>0          </td> <td>0         </td> <td>0          </td> <td>0   </td> <td>0   </td> <td>0.000192604</td> <td>0       </td> <td>0          </td> <td>0    </td> <td>0    </td> <td>0    </td> <td>0    </td> <td>0    </td> <td>0.000385208</td> <td>0        </td> <td>0   </td> <td>0.00635593</td> <td>0     </td> <td>0   </td> <td>0      </td> <td>0     </td> <td>0.000192604</td> <td>0       </td> <td>0.000192604</td> <td>0.000192604</td> <td>0.000192604</td> <td>0    </td> <td>0   </td> <td>0     </td> <td>0      </td> <td>0     </td> <td>0   </td> <td>0     </td> <td>0.000192604</td> <td>0        </td> <td>0       </td> <td>0     </td> <td>0     </td> <td>0     </td> <td>0          </td> <td>0    </td> <td>0    </td> <td>0     </td> <td>0     </td> <td>0.000192604</td> <td>0    </td> <td>0.000192604</td> <td>0          </td> <td>0     </td> <td>0       </td> <td>0.000192604</td> <td>0     </td> <td>0.00654854</td> <td>0        </td> <td>0    </td> <td>0          </td> <td>0   </td> <td>0       </td> <td>0     </td> <td>0      </td> <td>0        </td> <td>0       </td> <td>0          </td> <td>0.000192604</td> <td>0   </td> <td>0.000192604</td> <td>0    </td> <td>0.000770416</td> <td>0    </td> <td>0.000192604</td> <td>0     </td> <td>0     </td> <td>0          </td> <td>0     </td> <td>0   </td> <td>0        </td> <td>0   </td> <td>0.000192604</td> <td>0     </td> <td>0          </td> <td>0        </td> <td>0        </td> <td>0    </td> <td>0            </td> <td>0    </td> <td>0       </td> <td>0          </td> <td>0    </td> <td>0   </td> <td>0          </td> <td>0   </td> <td>0          </td> <td>0          </td> <td>0          </td> <td>0   </td> <td>0       </td> <td>0    </td> <td>0    </td> <td>0.000192604</td> <td>0.000192604</td> <td>0.000385208</td> <td>0   </td> <td>0.000192604</td> <td>0          </td> <td>0      </td> <td>0   </td> <td>0          </td> <td>0          </td> <td>0     </td> <td>0     </td> <td>0     </td> <td>0.000577812</td> <td>0      </td> <td>0       </td> <td>0     </td> <td>0    </td> <td>0   </td> <td>0    </td> <td>0   </td> <td>0        </td> <td>0        </td> <td>0.000192604</td> <td>0.000192604</td> <td>0      </td> <td>0         </td> <td>0.000385208</td> <td>0     </td> <td>0.000385208</td> <td>0        </td> <td>0.00520031</td> <td>0.000192604</td> <td>0          </td> <td>0      </td> <td>0       </td> <td>0.00096302 </td> <td>0    </td> <td>0    </td> <td>0.000192604</td> <td>0          </td> <td>0      </td> <td>0        </td> <td>0          </td> <td>0.000192604</td> <td>0          </td> <td>0    </td> <td>0   </td> <td>0   </td> <td>0     </td> <td>0       </td> <td>0.000192604</td> <td>0    </td> <td>0   </td> <td>0          </td> <td>0     </td> <td>0.00115562</td> <td>0     </td> <td>0    </td> <td>0         </td> <td>0          </td> <td>0   </td> <td>0       </td> <td>0      </td> <td>0          </td> <td>0.00115562 </td> <td>0    </td> <td>0      </td> <td>0        </td> <td>0    </td> <td>0      </td> <td>0.000577812</td> <td>0       </td> <td>0   </td> <td>0          </td> <td>0     </td> <td>0     </td> <td>0.000385208</td> <td>0        </td> <td>0      </td> <td>0   </td> <td>0          </td> <td>0.000770416</td> <td>0     </td> <td>0.000192604</td> <td>0        </td> <td>0       </td> <td>0    </td> <td>0   </td> <td>0   </td> <td>0.00096302</td> <td>0          </td> <td>0.000192604</td> <td>0      </td> <td>0          </td> <td>0      </td> <td>0    </td> <td>0          </td> <td>0      </td> <td>0   </td> <td>0.000385208</td> <td>0        </td> <td>0       </td> <td>0          </td> <td>0    </td> <td>0       </td> <td>0.000385208</td> <td>0.000770416</td> <td>0      </td> <td>0    </td> <td>0      </td> <td>0          </td> <td>0    </td> <td>0          </td> <td>0          </td> <td>0          </td> <td>0          </td> <td>0      </td> <td>0    </td> <td>0.000192604</td> <td>0          </td> <td>0   </td> <td>0.000385208</td> <td>0    </td> <td>0    </td> <td>0      </td> <td>0    </td> <td>0    </td> <td>0.000385208</td> <td>0          </td> <td>0    </td> <td>0     </td> <td>0    </td> <td>0    </td> <td>0   </td> <td>0       </td> <td>0     </td> <td>0.00250385 </td> <td>0    </td> <td>0    </td> <td>0    </td> <td>0        </td> <td>0     </td> <td>0    </td> <td>0     </td> <td>0      </td> <td>0   </td> <td>0.00211864</td> <td>0     </td> <td>0.00096302 </td> <td>0        </td> <td>0     </td> <td>0      </td> <td>0          </td> <td>0      </td> <td>0     </td> <td>0     </td> <td>0          </td> <td>0.000770416</td> <td>0    </td> <td>0        </td> <td>0.000577812</td> <td>0.000192604</td> <td>0   </td> <td>0      </td> <td>0     </td> <td>0.000192604</td> <td>0.00250385</td> <td>0        </td> <td>0      </td> <td>0          </td> <td>0      </td> <td>0   </td> <td>0   </td> <td>0          </td> <td>0.000192604</td> <td>0    </td> <td>0          </td> <td>0      </td> <td>0     </td> <td>0     </td> <td>0.0050077 </td> <td>0    </td> <td>0          </td> <td>0          </td> <td>0    </td> <td>0     </td> <td>0    </td> <td>0.00115562 </td> <td>0       </td> <td>0          </td> <td>0       </td> <td>0.000385208</td> <td>0.000192604</td> <td>0   </td> <td>0.0107858</td> <td>0    </td> <td>0          </td> <td>0          </td> <td>0          </td> <td>0     </td> <td>0       </td> <td>0          </td> <td>0    </td> <td>0   </td> <td>0          </td> <td>0.000192604</td> <td>0     </td> <td>0     </td> <td>0     </td> <td>0     </td> <td>0     </td> <td>0        </td> <td>0      </td> <td>0     </td> <td>0.000577812</td> <td>0     </td> <td>0        </td> <td>0   </td> <td>0        </td> <td>0     </td> <td>0.000770416</td> <td>0          </td> <td>0     </td> <td>0         </td> <td>0     </td> <td>0.000192604</td> <td>0          </td> <td>0      </td> <td>0      </td> <td>0          </td> <td>0     </td> <td>0.000192604</td> <td>0.000577812</td> <td>0         </td> <td>0.000770416</td> <td>0   </td> <td>0     </td> <td>0    </td> <td>0          </td> <td>0   </td> <td>0      </td> <td>0     </td> <td>0    </td> <td>0   </td> <td>0       </td> <td>0   </td> <td>0   </td> <td>0       </td> <td>0     </td> <td>0     </td> <td>0   </td> <td>0     </td> <td>0      </td> <td>0   </td> <td>0.000192604</td> <td>0          </td> <td>0   </td> <td>0.00327427</td> <td>0   </td> <td>0    </td> <td>0          </td> <td>0          </td> <td>0   </td> <td>0     </td> <td>0          </td> <td>0          </td> <td>0          </td> <td>0    </td> <td>0    </td> <td>0          </td> <td>0   </td> <td>0.000192604</td> <td>0          </td> <td>0.000385208</td> <td>0       </td> <td>0       </td> <td>0          </td> <td>0      </td> <td>0          </td> <td>0.00558552</td> <td>0          </td> <td>0   </td> <td>0   </td> <td>0    </td> <td>0        </td> <td>0        </td> <td>0   </td> <td>0   </td> <td>0          </td> <td>0      </td> <td>0          </td> <td>0.000192604</td> <td>0          </td> <td>0          </td> <td>0    </td> <td>0   </td> <td>0.000192604</td> <td>0      </td> <td>0    </td> <td>0.000385208</td> <td>0   </td> <td>0   </td> <td>0          </td> <td>0     </td> <td>0     </td> <td>0          </td> <td>0   </td> <td>0        </td> <td>0          </td> <td>0      </td> <td>0   </td> <td>0          </td> <td>0    </td> <td>0    </td> <td>0     </td> <td>0     </td> <td>0      </td> <td>0    </td> <td>0      </td> <td>0     </td> <td>0.000770416</td> <td>0.000577812</td> <td>0        </td> <td>0     </td> <td>0        </td> <td>0         </td> <td>0      </td> <td>0          </td> <td>0          </td> <td>0    </td> <td>0          </td> <td>0   </td> <td>0          </td> <td>0    </td> <td>0.000385208</td> <td>0.000577812</td> <td>0     </td> <td>0      </td> <td>0          </td> <td>0   </td> <td>0.00192604 </td> <td>0    </td> <td>0          </td> <td>0      </td> <td>0     </td> <td>0          </td> <td>0      </td> <td>0     </td> <td>0     </td> <td>0       </td> <td>0   </td> <td>0       </td> <td>0   </td> <td>0.000192604</td> <td>0      </td> <td>0          </td> <td>0   </td> <td>0   </td> <td>0      </td> <td>0     </td> <td>0          </td> <td>0   </td> <td>0       </td> <td>0         </td> <td>0.000385208</td> <td>0     </td> <td>0    </td> <td>0.000385208</td> <td>0   </td> <td>0    </td> <td>0      </td> <td>0.000192604</td> <td>0     </td> <td>0          </td> <td>0.000577812</td> <td>0.00231125</td> <td>0.000192604</td> <td>0.000192604</td> <td>0   </td> <td>0   </td> <td>0   </td> <td>0   </td> <td>0      </td> <td>0      </td> <td>0.000385208</td> <td>0       </td> <td>0    </td> <td>0   </td> <td>0        </td> <td>0          </td> <td>0        </td> <td>0        </td> <td>0    </td> <td>0   </td> <td>0    </td> <td>0.000385208</td> <td>0   </td> <td>0.000192604</td> <td>0      </td> <td>0          </td> <td>0    </td> <td>0    </td> <td>0        </td> <td>0    </td> <td>0          </td> <td>0.000192604</td> <td>0      </td> <td>0        </td> <td>0.000192604</td> <td>0    </td> <td>0    </td> <td>0   </td> <td>0   </td> <td>0    </td> <td>0     </td> <td>0     </td> <td>0.000770416</td> <td>0   </td> <td>0    </td> <td>0      </td> <td>0   </td> <td>0    </td> <td>0        </td> <td>0     </td> <td>0    </td> <td>0    </td> <td>0    </td> <td>0          </td> <td>0.00115562 </td> <td>0    </td> <td>0   </td> <td>0    </td> <td>0   </td> <td>0          </td> <td>0     </td> <td>0         </td> <td>0          </td> <td>0.000192604</td> <td>0       </td> <td>0      </td> <td>0.000192604</td> <td>0       </td> <td>0    </td> <td>0   </td> <td>0      </td> <td>0.00096302 </td> <td>0   </td> <td>0     </td> <td>0   </td> <td>0     </td> <td>0   </td> <td>0     </td> <td>0     </td> <td>0    </td> <td>0   </td> <td>0       </td> <td>0          </td> <td>0          </td> <td>0     </td> <td>0    </td> <td>0         </td> <td>0        </td> <td>0         </td> <td>0          </td> <td>0     </td> <td>0   </td> <td>0   </td> <td>0          </td> <td>0       </td> <td>0    </td> <td>0          </td> <td>0   </td> <td>0          </td> <td>0     </td> <td>0.00365948</td> <td>0        </td> <td>0      </td> <td>0      </td> <td>0      </td> <td>0     </td> <td>0          </td> <td>0          </td> <td>0      </td> <td>0.000770416</td> <td>0        </td> <td>0      </td> <td>0   </td> <td>0     </td> <td>0          </td> <td>0   </td> <td>0     </td> <td>0.00327427 </td> <td>0.000192604</td> <td>0     </td> <td>0.000385208</td> <td>0   </td> <td>0   </td> <td>0.00096302 </td> <td>0   </td> <td>0     </td> <td>0   </td> <td>0.000192604</td> <td>0          </td> <td>0       </td> <td>0      </td> <td>0     </td> <td>0     </td> <td>0        </td> <td>0     </td> <td>0    </td> <td>0     </td> <td>0          </td> <td>0   </td> <td>0     </td> <td>0.000192604</td> <td>0        </td> <td>0         </td> <td>0    </td> <td>0.000192604</td> <td>0        </td> <td>0   </td> <td>0          </td> <td>0    </td> <td>0.00115562 </td> <td>0      </td> <td>0          </td> <td>0.000577812</td> <td>0     </td> <td>0          </td> <td>0    </td> <td>0      </td> <td>0        </td> <td>0          </td> <td>0        </td> <td>0    </td> <td>0    </td> <td>0   </td> <td>0         </td> <td>0   </td> <td>0          </td> <td>0          </td> <td>0.000192604</td> <td>0.000192604</td> <td>0          </td> <td>0        </td> <td>0   </td> <td>0   </td> <td>0       </td> <td>0.000385208</td> <td>0     </td> <td>0          </td> <td>0          </td> <td>0      </td> <td>0          </td> <td>0          </td> <td>0     </td> <td>0    </td> <td>0      </td> <td>0     </td> <td>0.00269646 </td> <td>0     </td> <td>0   </td> <td>0          </td> <td>0   </td> <td>0          </td> <td>0      </td> <td>0   </td> <td>0          </td> <td>0    </td> <td>0   </td> <td>0   </td> <td>0.000385208</td> <td>0     </td> <td>0    </td> <td>0     </td> <td>0        </td> <td>0   </td> <td>0     </td> <td>0          </td> <td>0    </td> <td>0      </td> <td>0          </td> <td>0         </td> <td>0          </td> <td>0    </td> <td>0.000192604</td> <td>0   </td> <td>0.000577812</td> <td>0      </td> <td>0.00250385</td> <td>0        </td> <td>0   </td> <td>0      </td> <td>0.00288906 </td> <td>0    </td> <td>0          </td> <td>0        </td> <td>0.000770416</td> <td>0   </td> <td>0   </td> <td>0          </td> <td>0   </td> <td>0   </td> <td>0      </td> <td>0     </td> <td>0.000192604</td> <td>0    </td> <td>0.00327427 </td> <td>0   </td> <td>0   </td> <td>0.00365948</td> <td>0     </td> <td>0   </td> <td>0          </td> <td>0        </td> <td>0    </td> <td>0    </td> <td>0   </td> <td>0    </td> <td>0          </td> <td>0          </td> <td>0   </td> <td>0    </td> <td>0          </td> <td>0          </td> <td>0      </td> <td>0        </td> <td>0          </td> <td>0           </td> <td>0          </td> <td>0     </td> <td>0          </td> <td>0.00115562 </td> <td>0      </td> <td>0      </td> <td>0    </td> <td>0   </td> <td>0   </td> <td>0.000192604</td> <td>0    </td> <td>0      </td> <td>0        </td> <td>0      </td> <td>0          </td> <td>0   </td> <td>0    </td> <td>0       </td> <td>0   </td> <td>0    </td> <td>0          </td> <td>0       </td> <td>0        </td> <td>0.000192604</td> <td>0          </td> <td>0.000192604</td> <td>0.000192604</td> <td>0    </td> <td>0     </td> <td>0    </td> <td>0    </td> <td>0     </td> <td>0          </td> <td>0     </td> <td>0     </td> <td>0    </td> <td>0    </td> <td>0    </td> <td>0     </td> <td>0          </td> <td>0.000192604</td> <td>0    </td> <td>0      </td> <td>0        </td> <td>0.000192604</td> <td>0   </td> <td>0   </td> <td>0    </td> <td>0    </td> <td>0     </td> <td>0    </td> <td>0.000385208</td> <td>0     </td> <td>0     </td> <td>0          </td> <td>0.000192604</td> <td>0          </td> <td>0   </td> <td>0          </td> <td>0.000385208</td> <td>0    </td> <td>0.0186826 </td> <td>0    </td> <td>0     </td> <td>0      </td> <td>0     </td> <td>0    </td> <td>0   </td> <td>0   </td> <td>0     </td> <td>0          </td> <td>0   </td> <td>0         </td> <td>0          </td> <td>0.000192604</td> <td>0    </td> <td>0   </td> <td>0       </td> <td>0   </td> <td>0   </td> <td>0        </td> <td>0          </td> <td>0.000192604</td> <td>0        </td> <td>0   </td> <td>0       </td> <td>0      </td> <td>0   </td> <td>0.000192604</td> <td>0          </td> <td>0.000385208</td> <td>0.000192604</td> <td>0    </td> <td>0         </td> <td>0     </td> <td>0     </td> <td>0          </td> <td>0     </td> <td>0     </td> <td>0.000385208</td> <td>0.00423729 </td> <td>0   </td> <td>0.000192604</td> <td>0    </td> <td>0.00231125 </td> <td>0          </td> <td>0   </td> <td>0    </td> <td>0   </td> <td>0        </td> <td>0       </td> <td>0     </td> <td>0.00154083 </td> <td>0    </td> <td>0.000385208</td> <td>0.000577812</td> <td>0         </td> <td>0   </td> <td>0     </td> <td>0   </td> <td>0   </td> <td>0          </td> <td>0      </td> <td>0        </td> <td>0     </td> <td>0      </td> <td>0    </td> <td>0          </td> <td>0    </td> <td>0       </td> <td>0     </td> <td>0       </td> <td>0          </td> <td>0    </td> <td>0          </td> <td>0   </td> <td>0          </td> <td>0        </td> <td>0   </td> <td>0          </td> <td>0    </td> <td>0.00115562 </td> <td>0     </td> <td>0   </td> <td>0          </td> <td>0     </td> <td>0          </td> <td>0          </td> <td>0    </td> <td>0        </td> <td>0   </td> <td>0          </td> <td>0          </td> <td>0        </td> <td>0   </td> <td>0   </td> <td>0.000192604</td> <td>0          </td> <td>0    </td> <td>0     </td> <td>0       </td> <td>0    </td> <td>0    </td> <td>0      </td> <td>0   </td> <td>0     </td> <td>0     </td> <td>0.000192604</td> <td>0   </td> <td>0   </td> <td>0   </td> <td>0.00423729</td> <td>0    </td> <td>0      </td> <td>0.000192604</td> <td>0    </td> <td>0     </td> <td>0          </td> <td>0     </td> <td>0          </td> <td>0.0050077  </td> <td>0     </td> <td>0          </td> <td>0     </td> <td>0     </td> <td>0      </td> <td>0        </td> <td>0          </td> <td>0    </td> <td>0    </td> <td>0      </td> <td>0       </td> <td>0    </td> <td>0   </td> <td>0     </td> <td>0          </td> <td>0      </td> <td>0   </td> <td>0     </td> <td>0    </td> <td>0          </td> <td>0          </td> <td>0.00115562 </td> <td>0.000577812</td> <td>0          </td> <td>0          </td> <td>0          </td> <td>0      </td> <td>0   </td> <td>0.000192604</td> <td>0   </td> <td>0   </td> <td>0      </td> <td>0     </td> <td>0      </td> <td>0.000192604</td> <td>0          </td> <td>0        </td> <td>0.000192604</td> <td>0          </td> <td>0          </td> <td>0.000192604</td> <td>0     </td> <td>0     </td> <td>0.000192604</td> <td>0     </td> <td>0   </td> <td>0    </td> <td>0.000192604</td> <td>0    </td> <td>0        </td> <td>0.000385208</td> <td>0      </td> <td>0     </td> <td>0   </td> <td>0    </td> <td>0   </td> <td>0      </td> <td>0          </td> <td>0      </td> <td>0     </td> <td>0   </td> <td>0         </td> <td>0      </td> <td>0.000192604</td> <td>0          </td> <td>0      </td> <td>0          </td> <td>0    </td> <td>0     </td> <td>0      </td> <td>0       </td> <td>0          </td> <td>0    </td> <td>0      </td> <td>0       </td> <td>0         </td> <td>0     </td> <td>0     </td> <td>0      </td> <td>0.00115562 </td> <td>0    </td> <td>0     </td> <td>0          </td> <td>0.000192604</td> <td>0    </td> <td>0       </td> <td>0    </td> <td>0.00096302 </td> <td>0          </td> <td>0      </td> <td>0    </td> <td>0    </td> <td>0          </td> <td>0.000192604</td> <td>0.000577812</td> <td>0          </td> <td>0     </td> <td>0        </td> <td>0    </td> <td>0.000385208</td> <td>0    </td> <td>0    </td> <td>0   </td> <td>0     </td> <td>0   </td> <td>0          </td> <td>0   </td> <td>0          </td> <td>0.00096302</td> <td>0   </td> <td>0          </td> <td>0    </td> <td>0.000192604</td> <td>0.000192604</td> <td>0.000192604</td> <td>0.000192604</td> <td>0   </td> <td>0          </td> <td>0     </td> <td>0   </td> <td>0    </td> <td>0   </td> <td>0      </td> <td>0          </td> <td>0      </td> <td>0      </td> <td>0    </td> <td>0    </td> <td>0          </td> <td>0    </td> <td>0   </td> <td>0          </td> <td>0    </td> <td>0      </td> <td>0   </td> <td>0    </td> <td>0    </td> <td>0.000577812</td> <td>0        </td> <td>0          </td> <td>0   </td> <td>0          </td> <td>0      </td> <td>0   </td> <td>0      </td> <td>0     </td> <td>0   </td> <td>0     </td> <td>0     </td> <td>0    </td> <td>0   </td> <td>0.00192604 </td> <td>0     </td> <td>0      </td> <td>0       </td> <td>0   </td> <td>0     </td> <td>0      </td> <td>0.000385208</td> <td>0        </td> <td>0          </td> <td>0.000192604</td> <td>0.000385208</td> <td>0.00173344 </td> <td>0    </td> <td>0      </td> <td>0          </td> <td>0          </td> <td>0        </td> <td>0     </td> <td>0.000385208</td> <td>0   </td> <td>0   </td> <td>0.000192604</td> <td>0    </td> <td>0        </td> <td>0          </td> <td>0   </td> <td>0      </td> <td>0   </td> <td>0    </td> <td>0    </td> <td>0     </td> <td>0     </td> <td>0.000192604</td> <td>0       </td> <td>0    </td> <td>0          </td> <td>0     </td> <td>0.000385208</td> <td>0    </td> <td>0   </td> <td>0   </td> <td>0          </td> <td>0    </td> <td>0.000192604</td> <td>0   </td> <td>0     </td> <td>0          </td> <td>0          </td> <td>0     </td> <td>0       </td> <td>0.000192604</td> <td>0     </td> <td>0          </td> <td>0    </td> <td>0.000192604</td> <td>0     </td> <td>0    </td> <td>0        </td> <td>0    </td> <td>0    </td> <td>0          </td> <td>0   </td> <td>0   </td> <td>0    </td> <td>0   </td> <td>0.000770416</td> <td>0    </td> <td>0.0323575</td> <td>0     </td> <td>0          </td> <td>0.000385208</td> <td>0      </td> <td>0    </td> <td>0          </td> <td>0      </td> <td>0   </td> <td>0    </td> <td>0   </td> <td>0        </td> <td>0    </td> <td>0     </td> <td>0        </td> <td>0          </td> <td>0      </td> <td>0   </td> <td>0     </td> <td>0    </td> <td>0      </td> <td>0     </td> <td>0      </td> <td>0          </td> <td>0    </td> <td>0          </td> <td>0.00115562 </td> <td>0     </td> <td>0          </td> <td>0   </td> <td>0    </td> <td>0      </td> <td>0          </td> <td>0      </td> <td>0   </td> <td>0.000385208</td> <td>0   </td> <td>0     </td> <td>0          </td> <td>0   </td> <td>0        </td> <td>0.000192604</td> <td>0    </td> <td>0.000192604</td> <td>0          </td> <td>0      </td> <td>0.000770416</td> <td>0          </td> <td>0.000192604</td> <td>0.00192604</td> <td>0   </td> <td>0          </td> <td>0     </td> <td>0.000577812</td> <td>0      </td> <td>0    </td> <td>0   </td> <td>0        </td> <td>0       </td> <td>0          </td> <td>0    </td> <td>0     </td> <td>0   </td> <td>0.00751156</td> <td>0.000192604</td> <td>0.00134823</td> <td>0.000192604</td> <td>0      </td> <td>0       </td> <td>0.000192604</td> <td>0        </td> <td>0     </td> <td>0     </td> <td>0      </td> <td>0        </td> <td>0         </td> <td>0     </td> <td>0        </td> <td>0   </td> <td>0        </td> <td>0     </td> <td>0        </td> <td>0      </td> <td>0     </td> <td>0   </td> <td>0.000385208</td> <td>0          </td> <td>0          </td> <td>0   </td> <td>0          </td> <td>0        </td> <td>0    </td> <td>0       </td> <td>0.000385208</td> <td>0          </td> <td>0          </td> <td>0.000192604</td> <td>0      </td> <td>0.000770416</td> <td>0   </td> <td>0     </td> <td>0    </td> <td>0        </td> <td>0     </td> <td>0     </td> <td>0     </td> <td>0      </td> <td>0          </td> <td>0     </td> <td>0        </td> <td>0     </td> <td>0      </td> <td>0     </td> <td>0        </td> <td>0          </td> <td>0.000770416</td> <td>0     </td> <td>0   </td> <td>0     </td> <td>0   </td> <td>0.000577812</td> <td>0     </td> <td>0          </td> <td>0   </td> <td>0    </td> <td>0.000770416</td> <td>0.000770416</td> <td>0    </td> <td>0          </td> <td>0          </td> <td>0   </td> <td>0   </td> <td>0        </td> <td>0        </td> <td>0          </td> <td>0      </td> <td>0.000577812</td> <td>0.000192604</td> <td>0        </td> <td>0    </td> <td>0      </td> <td>0          </td> <td>0          </td> <td>0       </td> <td>0          </td> <td>0    </td> <td>0      </td> <td>0.000385208</td> <td>0   </td> <td>0     </td> <td>0     </td> <td>0          </td> <td>0          </td> <td>0    </td> <td>0       </td> <td>0          </td> <td>0      </td> <td>0    </td> <td>0          </td> <td>0   </td> <td>0     </td> <td>0    </td> <td>0        </td> <td>0   </td> <td>0   </td> <td>0   </td> <td>0      </td> <td>0    </td> <td>0        </td> <td>0      </td> <td>0.000385208</td> <td>0.00866718</td> <td>0     </td> <td>0   </td> <td>0      </td> <td>0.00154083</td> <td>0     </td> <td>0.000192604</td> <td>0     </td> <td>0    </td> <td>0    </td> <td>0   </td> <td>0    </td> <td>0      </td> <td>0   </td> <td>0      </td> <td>0          </td> <td>0     </td> <td>0    </td> <td>0        </td> <td>0       </td> <td>0      </td> <td>0    </td> <td>0   </td> <td>0         </td> <td>0          </td> <td>0.000385208</td> <td>0    </td> <td>0    </td> <td>0          </td> <td>0.000192604</td> <td>0.000577812</td> <td>0      </td> <td>0        </td> <td>0     </td> <td>0   </td> <td>0   </td> <td>0    </td> <td>0.000192604</td> <td>0.000577812</td> <td>0.000192604</td> <td>0.00115562 </td> <td>0.00674114</td> <td>0    </td> <td>0    </td> <td>0     </td> <td>0          </td> <td>0.00096302</td> <td>0    </td> <td>0          </td> <td>0      </td> <td>0     </td> <td>0      </td> <td>0    </td> <td>0   </td> <td>0    </td> <td>0.000192604</td> <td>0       </td> <td>0      </td> <td>0     </td> <td>0.000192604</td> <td>0   </td> <td>0.000385208</td> <td>0          </td> <td>0   </td> <td>0       </td> <td>0   </td> <td>0   </td> <td>0     </td> <td>0    </td> <td>0      </td> <td>0          </td> <td>0.00096302 </td> <td>0    </td> <td>0        </td> <td>0        </td> <td>0      </td> <td>0     </td> <td>0.000192604</td> <td>0    </td> <td>0        </td> <td>0.000770416</td> <td>0          </td> <td>0    </td> <td>0          </td> <td>0     </td> <td>0          </td> <td>0        </td> <td>0      </td> <td>0          </td> <td>0   </td> <td>0    </td> <td>0    </td> <td>0   </td> <td>0   </td> <td>0   </td> <td>0   </td> <td>0          </td> <td>0    </td> <td>0    </td> <td>0      </td> <td>0     </td> <td>0.000577812</td> <td>0   </td> <td>0          </td> <td>0    </td> <td>0      </td> <td>0         </td> <td>0          </td> <td>0        </td> <td>0          </td> <td>0        </td> <td>0   </td> <td>0    </td> <td>0   </td> <td>0          </td> <td>0          </td> <td>0.00423729</td> <td>0.000192604</td> <td>0   </td> <td>0    </td> <td>0.00828197</td> <td>0   </td> <td>0      </td> <td>0   </td> <td>0   </td> <td>0          </td> <td>0          </td> <td>0   </td> <td>0   </td> <td>0          </td> <td>0    </td> <td>0          </td> <td>0     </td> <td>0          </td> <td>0     </td> <td>0          </td> <td>0     </td> <td>0        </td> <td>0          </td> <td>0          </td> <td>0.000192604</td> <td>0      </td> <td>0.000385208</td> <td>0   </td> <td>0     </td> <td>0    </td> <td>0   </td> <td>0        </td> <td>0          </td> <td>0        </td> <td>0     </td> <td>0          </td> <td>0     </td> <td>0     </td> <td>0     </td> <td>0    </td> <td>0.00173344</td> <td>0       </td> <td>0          </td> <td>0.000192604</td> <td>0.00288906</td> <td>0   </td> <td>0     </td> <td>0       </td> <td>0          </td> <td>0   </td> <td>0   </td> <td>0     </td> <td>0.000577812</td> <td>0     </td> <td>0    </td> <td>0        </td> <td>0    </td> <td>0          </td> <td>0     </td> <td>0   </td> <td>0   </td> <td>0          </td> <td>0    </td> <td>0       </td> <td>0.000192604</td> <td>0      </td> <td>0          </td> <td>0      </td> <td>0.00154083 </td> <td>0    </td> <td>0.000192604</td> <td>0   </td> <td>0   </td> <td>0   </td> <td>0.000192604</td> <td>0          </td> <td>0          </td> <td>0.000192604</td> <td>0     </td> <td>0     </td> <td>0    </td> <td>0.000192604</td> <td>0        </td> <td>0.000192604</td> <td>0.000385208</td> <td>0    </td> <td>0        </td> <td>0        </td> <td>0    </td> <td>0   </td> <td>0     </td> <td>0         </td> <td>0          </td> <td>0   </td> <td>0       </td> <td>0.000192604</td> <td>0          </td> <td>0     </td> <td>0    </td> <td>0    </td> <td>0       </td> <td>0   </td> <td>0          </td> <td>0    </td> <td>0   </td> <td>0    </td> <td>0         </td> <td>0   </td> <td>0    </td> <td>0   </td> <td>0     </td> <td>0   </td> <td>0          </td> <td>0   </td> <td>0.000192604</td> <td>0    </td> <td>0    </td> <td>0     </td> <td>0      </td> <td>0.00269646</td> <td>0    </td> <td>0   </td> <td>0    </td> <td>0.00231125 </td> <td>0        </td> <td>0         </td> <td>0    </td> <td>0          </td> <td>0    </td> <td>0    </td> <td>0.000192604</td> <td>0     </td> <td>0       </td> <td>0          </td> <td>0      </td> <td>0      </td> <td>0   </td> <td>0      </td> <td>0          </td> <td>0   </td> <td>0   </td> <td>0       </td> <td>0    </td> <td>0   </td> <td>0        </td> <td>0          </td> <td>0.000577812</td> <td>0          </td> <td>0.000385208</td> <td>0.000192604</td> <td>0      </td> <td>0   </td> <td>0    </td> <td>0    </td> <td>0    </td> <td>0   </td> <td>0        </td> <td>0     </td> <td>0          </td> <td>0.000770416</td> <td>0   </td> <td>0   </td> <td>0          </td> <td>0          </td> <td>0          </td> <td>0      </td> <td>0   </td> <td>0     </td> <td>0          </td> <td>0   </td> <td>0        </td> <td>0    </td> <td>0      </td> <td>0.00231125 </td> <td>0   </td> <td>0       </td> <td>0   </td> <td>0     </td> <td>0   </td> <td>0          </td> <td>0   </td> <td>0.000385208</td> <td>0          </td> <td>0          </td> <td>0.00096302 </td> <td>0     </td> <td>0    </td> <td>0        </td> <td>0        </td> <td>0    </td> <td>0    </td> <td>0   </td> <td>0.00269646</td> <td>0          </td> <td>0   </td> <td>0.000385208</td> <td>0           </td> <td>0        </td> <td>0.000577812</td> <td>0    </td> <td>0.00096302 </td> <td>0      </td> <td>0     </td> <td>0      </td> <td>0   </td> <td>0       </td> <td>0        </td> <td>0          </td> <td>0       </td> <td>0        </td> <td>0         </td> <td>0      </td> <td>0     </td> <td>0.00115562 </td> <td>0.000577812</td> <td>0     </td> <td>0    </td> <td>0   </td> <td>0   </td> <td>0.000192604</td> <td>0.000770416</td> <td>0   </td> <td>0          </td> <td>0        </td> <td>0     </td> <td>0     </td> <td>0     </td> <td>0        </td> <td>0     </td> <td>0          </td> <td>0         </td> <td>0.000192604</td> <td>0    </td> <td>0     </td> <td>0.000192604</td> <td>0      </td> <td>0       </td> <td>0   </td> <td>0   </td> <td>0     </td> <td>0       </td> <td>0.000192604</td> <td>0      </td> <td>0     </td> <td>0     </td> <td>0          </td> <td>0   </td> <td>0   </td> <td>0.000770416</td> <td>0   </td> <td>0.000192604</td> <td>0          </td> <td>0        </td> <td>0   </td> <td>0.000770416</td> <td>0        </td> <td>0.00096302 </td> <td>0      </td> <td>0          </td> <td>0     </td> <td>0    </td> <td>0.000192604</td> <td>0    </td> <td>0.000385208</td> <td>0          </td> <td>0.000770416</td> <td>0   </td> <td>0   </td> <td>0          </td> <td>0.000385208</td> <td>0     </td> <td>0          </td> <td>0    </td> <td>0          </td> <td>0          </td> <td>0    </td> <td>0     </td> <td>0        </td> <td>0   </td> <td>0    </td> <td>0      </td> <td>0          </td> <td>0   </td> <td>0.000577812</td> <td>0      </td> <td>0.000577812</td> <td>0   </td> <td>0.000385208</td> <td>0    </td> <td>0          </td> <td>0       </td> <td>0   </td> <td>0     </td> <td>0.000192604</td> <td>0     </td> <td>0.000385208</td> <td>0          </td> <td>0    </td> <td>0     </td> <td>0   </td> <td>0.00250385</td> <td>0.00096302 </td> <td>0    </td> <td>0     </td> <td>0   </td> <td>0          </td> <td>0.000385208</td> <td>0       </td> <td>0          </td> <td>0        </td> <td>0          </td> <td>0.000192604</td> <td>0   </td> <td>0     </td> <td>0.000385208</td> <td>0      </td> <td>0     </td> <td>0          </td> <td>0       </td> <td>0          </td> <td>0.00115562 </td> <td>0.000192604</td> <td>0          </td> <td>0    </td> <td>0    </td> <td>0    </td> <td>0    </td> <td>0    </td> <td>0.000770416</td> <td>0   </td> <td>0.000577812</td> <td>0    </td> <td>0          </td> <td>0    </td> <td>0   </td> <td>0        </td> <td>0    </td> <td>0      </td> <td>0     </td> <td>0      </td> <td>0   </td> <td>0.000192604</td> <td>0   </td> <td>0    </td> <td>0   </td> <td>0        </td> <td>0          </td> <td>0      </td> <td>0       </td> <td>0.000192604</td> <td>0          </td> <td>0          </td> <td>0.00192604 </td> <td>0     </td> <td>0     </td> <td>0.000385208</td> <td>0   </td> <td>0       </td> <td>0    </td> <td>0          </td> <td>0       </td> <td>0     </td> <td>0.000192604</td> <td>0   </td> <td>0          </td> <td>0        </td> <td>0.000192604</td> <td>0   </td> <td>0          </td> <td>0    </td> <td>0       </td> <td>0     </td> <td>0         </td> <td>0        </td> <td>0   </td> <td>0   </td> <td>0    </td> <td>0   </td> <td>0.000192604</td> <td>0       </td> <td>0    </td> <td>0.00173344</td> <td>0          </td> <td>0        </td> <td>0          </td> <td>0          </td> <td>0        </td> <td>0          </td> <td>0          </td> <td>0         </td> <td>0          </td> <td>0.000770416</td> <td>0   </td> <td>0          </td> <td>0.000577812</td> <td>0      </td> <td>0       </td> <td>0.000192604</td> <td>0.000192604</td> <td>0          </td> <td>0           </td> <td>0     </td> <td>0   </td> <td>0.000192604</td> <td>0        </td> <td>0    </td> <td>0.000577812</td> <td>0    </td> <td>0          </td> <td>0          </td> <td>0      </td> <td>0      </td> <td>0   </td> <td>0.0263867</td> <td>0    </td> <td>0    </td> <td>0.00173344 </td> <td>0.000385208</td> <td>0   </td> <td>0          </td> <td>0        </td> <td>0          </td> <td>0      </td> <td>0     </td> <td>0.00308166</td> <td>0      </td> <td>0     </td> <td>0          </td> <td>0    </td> <td>0    </td> <td>0   </td> <td>0          </td> <td>0   </td> <td>0    </td> <td>0    </td> <td>0.000192604</td> <td>0   </td> <td>0        </td> <td>0.00288906 </td> <td>0.000192604</td> <td>0      </td> <td>0     </td> <td>0      </td> <td>0.000385208</td> <td>0         </td> <td>0.000385208</td> <td>0   </td> <td>0     </td> <td>0          </td> <td>0.000577812</td> <td>0    </td> <td>0     </td> <td>0       </td> <td>0      </td> <td>0.000192604</td> <td>0   </td> <td>0    </td> <td>0      </td> <td>0    </td> <td>0.000192604</td> <td>0       </td> <td>0    </td> <td>0   </td> <td>0.000192604</td> <td>0.000192604</td> <td>0          </td> <td>0.000192604</td> <td>0           </td> <td>0          </td> <td>0    </td> <td>0    </td> <td>0.000385208</td> <td>0   </td> <td>0   </td> <td>0       </td> <td>0     </td> <td>0        </td> <td>0          </td> <td>0    </td> <td>0    </td> <td>0.000192604</td> <td>0    </td> <td>0.000192604</td> <td>0   </td> <td>0      </td> <td>0.00115562 </td> <td>0     </td> <td>0    </td> <td>0      </td> <td>0          </td> <td>0       </td> <td>0.000192604</td> <td>0    </td> <td>0    </td> <td>0          </td> <td>0   </td> <td>0    </td> <td>0.000770416</td> <td>0        </td> <td>0    </td> <td>0       </td> <td>0        </td> <td>0.0048151 </td> <td>0     </td> <td>0        </td> <td>0        </td> <td>0    </td> <td>0.000192604</td> <td>0          </td> <td>0       </td> <td>0      </td> <td>0     </td> <td>0      </td> <td>0   </td> <td>0     </td> <td>0      </td> <td>0    </td> <td>0    </td> <td>0      </td> <td>0   </td> <td>0    </td> <td>0          </td> <td>0          </td> <td>0.00096302</td> <td>0        </td> <td>0.000192604</td> <td>0     </td> <td>0   </td> <td>0          </td> <td>0          </td> <td>0     </td> <td>0          </td> <td>0          </td> <td>0          </td> <td>0         </td> <td>0   </td> <td>0         </td> <td>0.000192604</td> <td>0    </td> <td>0   </td> <td>0      </td> <td>0   </td> <td>0.00115562 </td> <td>0   </td> <td>0   </td> <td>0       </td> <td>0     </td> <td>0     </td> <td>0   </td> <td>0.000577812</td> <td>0   </td> <td>0    </td> <td>0          </td> <td>0     </td> <td>0.000385208</td> <td>0   </td> <td>0    </td> <td>0.000385208</td> <td>0   </td> <td>0.00192604</td> <td>0.00173344 </td> <td>0          </td> <td>0     </td> <td>0    </td> <td>0     </td> <td>0   </td> <td>0    </td> <td>0          </td> <td>0    </td> <td>0     </td> <td>0         </td> <td>0   </td> <td>0    </td> <td>0     </td> <td>0.000385208</td> <td>0    </td> <td>0   </td> <td>0          </td> <td>0          </td> <td>0        </td> <td>0       </td> <td>0     </td> <td>0   </td> <td>0   </td> <td>0      </td> <td>0          </td> <td>0     </td> <td>0      </td> <td>0     </td> <td>0   </td> <td>0       </td> <td>0          </td> <td>0.000385208</td> <td>0.000770416</td> <td>0     </td> <td>0          </td> <td>0          </td> <td>0          </td> <td>0    </td> <td>0       </td> <td>0          </td> <td>0          </td> <td>0      </td> <td>0     </td> <td>0.000385208</td> <td>0        </td> <td>0     </td> <td>0.000192604</td> <td>0     </td> <td>0     </td> <td>0    </td> <td>0      </td> <td>0          </td> <td>0          </td> <td>0   </td> <td>0.00134823 </td> <td>0    </td> <td>0   </td> <td>0.000385208</td> <td>0.000192604</td> <td>0          </td> <td>0     </td> <td>0   </td> <td>0        </td> <td>0   </td> <td>0     </td> <td>0   </td> <td>0    </td> <td>0          </td> <td>0          </td> <td>0          </td> <td>0          </td> <td>0      </td> <td>0    </td> <td>0   </td> <td>0     </td> <td>0         </td> <td>0     </td> <td>0.000192604</td> <td>0   </td> <td>0   </td> <td>0   </td> <td>0.000192604</td> <td>0     </td> <td>0     </td> <td>0   </td> <td>0          </td> <td>0    </td> <td>0     </td> <td>0    </td> <td>0       </td> <td>0      </td> <td>0     </td> <td>0.000385208 </td> <td>0.00674114</td> <td>0   </td> <td>0        </td> <td>0   </td> <td>0.000192604</td> <td>0    </td> <td>0     </td> <td>0   </td> <td>0     </td> <td>0      </td> <td>0          </td> <td>0          </td> <td>0.000192604</td> <td>0          </td> <td>0        </td> <td>0.000192604</td> <td>0   </td> <td>0    </td> <td>0      </td> <td>0        </td> <td>0.000385208</td> <td>0          </td> <td>0    </td> <td>0          </td> <td>0.00096302 </td> <td>0.000577812</td> <td>0     </td> <td>0     </td> <td>0       </td> <td>0.000192604</td> <td>0          </td> <td>0     </td> <td>0    </td> <td>0          </td> <td>0          </td> <td>0.00231125 </td> <td>0          </td> <td>0   </td> <td>0        </td> <td>0      </td> <td>0          </td> <td>0.00096302 </td> <td>0          </td> <td>0      </td> <td>0   </td> <td>0       </td> <td>0     </td> <td>0          </td> <td>0    </td> <td>0          </td> <td>0        </td> <td>0    </td> <td>0.000385208</td> <td>0    </td> <td>0    </td> <td>0   </td> <td>0          </td> <td>0    </td> <td>0      </td> <td>0.00096302 </td> <td>0     </td> <td>0     </td> <td>0.000385208</td> <td>0    </td> <td>0.000192604</td> <td>0       </td> <td>0          </td> <td>0   </td> <td>0          </td> <td>0   </td> <td>0     </td> <td>0     </td> <td>0    </td> <td>0       </td> <td>0        </td> <td>0    </td> <td>0     </td> <td>0          </td> <td>0          </td> <td>0          </td> <td>0          </td> <td>0    </td> <td>0      </td> <td>0.000192604</td> <td>0    </td> <td>0    </td> <td>0          </td> <td>0    </td> <td>0   </td> <td>0          </td> <td>0    </td> <td>0        </td> <td>0    </td> <td>0       </td> <td>0    </td> <td>0     </td> <td>0          </td> <td>0.00096302 </td> <td>0      </td> <td>0       </td> <td>0          </td> <td>0   </td> <td>0    </td> <td>0      </td> <td>0      </td> <td>0          </td> <td>0.0325501</td> <td>0   </td> <td>0    </td> <td>0          </td> <td>0      </td> <td>0     </td> <td>0   </td> <td>0   </td> <td>0   </td> <td>0          </td> <td>0.000385208</td> <td>0          </td> <td>0        </td> <td>0    </td> <td>0          </td> <td>0    </td> <td>0      </td> <td>0     </td> <td>0          </td> <td>0     </td> <td>0     </td> <td>0          </td> <td>0     </td> <td>0          </td> <td>0   </td> <td>0    </td> <td>0.000385208</td> <td>0          </td> <td>0   </td> <td>0    </td> <td>0    </td> <td>0   </td> <td>0     </td> <td>0     </td> <td>0   </td> <td>0.00712635</td> <td>0.00096302 </td> <td>0.00115562 </td> <td>0       </td> <td>0.000385208</td> <td>0     </td> <td>0    </td> <td>0.00173344 </td> <td>0     </td> <td>0         </td> <td>0     </td> <td>0      </td> <td>0      </td> <td>0          </td> <td>0.00211864 </td> <td>0       </td> <td>0.000192604</td> <td>0.000385208</td> <td>0     </td> <td>0.0364022</td> <td>0      </td> <td>0      </td> <td>0.00173344 </td> <td>0     </td> <td>0    </td> <td>0          </td> <td>0   </td> <td>0   </td> <td>0       </td> <td>0   </td> <td>0      </td> <td>0          </td> <td>0.000192604</td> <td>0     </td> <td>0    </td> <td>0   </td> <td>0   </td> <td>0          </td> <td>0     </td> <td>0    </td> <td>0     </td> <td>0     </td> <td>0.000192604</td> <td>0   </td> <td>0          </td> <td>0.00134823 </td> <td>0          </td> <td>0   </td> <td>0        </td> <td>0      </td> <td>0    </td> <td>0.000192604</td> <td>0        </td> <td>0          </td> <td>0.000192604</td> <td>0         </td> <td>0          </td> <td>0     </td> <td>0    </td> <td>0   </td> <td>0.000577812</td> <td>0        </td> <td>0.000577812</td> <td>0     </td> <td>0          </td> <td>0     </td> <td>0   </td> <td>0   </td> <td>0       </td> <td>0       </td> <td>0   </td> <td>0   </td> <td>0    </td> <td>0   </td> <td>0          </td> <td>0        </td> <td>0   </td> <td>0        </td> <td>0          </td> <td>0          </td> <td>0.000192604</td> <td>0.000577812</td> <td>0.000770416</td> <td>0   </td> <td>0     </td> <td>0.000192604</td> <td>0   </td> <td>0    </td> <td>0          </td> <td>0        </td> <td>0.000577812</td> <td>0          </td> <td>0     </td> <td>0   </td> <td>0      </td> <td>0     </td> <td>0    </td> <td>0    </td> <td>0    </td> <td>0.000385208</td> <td>0     </td> <td>0.000192604</td> <td>0.000385208</td> <td>0.000192604</td> <td>0   </td> <td>0.000385208</td> <td>0   </td> <td>0        </td> <td>0    </td> <td>0      </td> <td>0.000192604</td> <td>0          </td> <td>0     </td> <td>0      </td> <td>0          </td> <td>0         </td> <td>0   </td> <td>0.00269646 </td> <td>0   </td> <td>0     </td> <td>0          </td> <td>0    </td> <td>0   </td> <td>0.00115562</td> <td>0          </td> <td>0         </td> <td>0   </td> <td>0   </td> <td>0        </td> <td>0    </td> <td>0   </td> <td>0          </td> <td>0.000192604</td> <td>0     </td> <td>0   </td> <td>0     </td> <td>0    </td> <td>0       </td> <td>0.00096302</td> <td>0.000192604</td> <td>0.000192604</td> <td>0    </td> <td>0     </td> <td>0    </td> <td>0    </td> <td>0.000192604</td> <td>0       </td> <td>0    </td> <td>0          </td> <td>0          </td> <td>0          </td> <td>0.000192604</td> <td>0    </td> <td>0       </td> <td>0.000192604</td> <td>0.000192604</td> <td>0.00115562 </td> <td>0   </td> <td>0        </td> <td>0          </td> <td>0.000192604</td> <td>0   </td> <td>0   </td> <td>0.000385208</td> <td>0     </td> <td>0      </td> <td>0   </td> <td>0    </td> <td>0   </td> <td>0      </td> <td>0          </td> <td>0.00134823 </td> <td>0          </td> <td>0         </td> <td>0.000385208</td> <td>0        </td> <td>0     </td> <td>0    </td> <td>0     </td> <td>0.000192604</td> <td>0    </td> <td>0.00115562 </td> <td>0   </td> <td>0          </td> <td>0       </td> <td>0     </td> <td>0     </td> <td>0     </td> <td>0      </td> <td>0.000385208</td> <td>0          </td> <td>0    </td> <td>0   </td> <td>0     </td> <td>0   </td> <td>0     </td> <td>0   </td> <td>0   </td> <td>0      </td> <td>0       </td> <td>0          </td> <td>0        </td> <td>0      </td> <td>0    </td> <td>0       </td> <td>0    </td> <td>0.00096302 </td> <td>0    </td> <td>0          </td> <td>0      </td> <td>0   </td> <td>0.000192604</td> <td>0   </td> <td>0.000192604</td> <td>0   </td> <td>0     </td> <td>0          </td> <td>0          </td> <td>0   </td> <td>0   </td> <td>0      </td> <td>0      </td> <td>0     </td> <td>0        </td> <td>0   </td> <td>0       </td> <td>0     </td> <td>0      </td> <td>0     </td> <td>0        </td> <td>0        </td> <td>0       </td> <td>0     </td> <td>0          </td> <td>0     </td> <td>0   </td> <td>0   </td> <td>0          </td> <td>0     </td> <td>0.000192604</td> <td>0.000192604</td> <td>0.000192604</td> <td>0     </td> <td>0     </td> <td>0     </td> <td>0    </td> <td>0    </td> <td>0     </td> <td>0          </td> <td>0       </td> <td>0    </td> <td>0.000192604</td> <td>0.000577812</td> <td>0     </td> <td>0     </td> <td>0    </td> <td>0.000385208</td> <td>0      </td> <td>0       </td> <td>0     </td> <td>0   </td> <td>0     </td> <td>0.000770416</td> <td>0          </td> <td>0      </td> <td>0      </td> <td>0    </td> <td>0    </td> <td>0.00115562 </td> <td>0.000192604</td> <td>0          </td> <td>0   </td> <td>0.000577812</td> <td>0.000385208</td> <td>0    </td> <td>0.000577812</td> <td>0       </td> <td>0     </td> <td>0     </td> <td>0.00096302 </td> <td>0     </td> <td>0.00096302 </td> <td>0       </td> <td>0          </td> <td>0     </td> <td>0          </td> <td>0     </td> <td>0.000385208</td> <td>0.000192604</td> <td>0      </td> <td>0   </td> <td>0      </td> <td>0       </td> <td>0.000192604</td> <td>0     </td> <td>0   </td> <td>0     </td> <td>0     </td> <td>0.000385208</td> <td>0    </td> <td>0          </td> <td>0      </td> <td>0          </td> <td>0   </td> <td>0     </td> <td>0       </td> <td>0      </td> <td>0    </td> <td>0          </td> <td>0          </td> <td>0       </td> <td>0        </td> <td>0     </td> <td>0    </td> <td>0      </td> <td>0.000385208</td> <td>0   </td> <td>0    </td> <td>0   </td> <td>0   </td> <td>0        </td> <td>0    </td> <td>0          </td> <td>0     </td> <td>0      </td> <td>0     </td> <td>0.0132897</td> <td>0.000770416</td> <td>0.000192604</td> <td>0          </td> <td>0.000192604</td> <td>0      </td> <td>0          </td> <td>0    </td> <td>0          </td> <td>0     </td> <td>0      </td> <td>0.000577812</td> <td>0.00115562 </td> <td>0        </td> <td>0   </td> <td>0    </td> <td>0.000385208</td> <td>0     </td> <td>0          </td> <td>0   </td> <td>0          </td> <td>0          </td> <td>0        </td> <td>0    </td> <td>0    </td> <td>0       </td> <td>0        </td> <td>0       </td> <td>0    </td> <td>0   </td> <td>0     </td> <td>0          </td> <td>0    </td> <td>0          </td> <td>0          </td> <td>0       </td> <td>0          </td> <td>0     </td> <td>0          </td> <td>0     </td> <td>0.000192604</td> <td>0          </td> <td>0     </td> <td>0          </td> <td>0    </td> <td>0   </td> <td>0     </td> <td>0          </td> <td>0      </td> <td>0        </td> <td>0          </td> <td>0     </td> <td>0      </td> <td>0   </td> <td>0.000385208</td> <td>0          </td> <td>0    </td> <td>0    </td> <td>0   </td> <td>0    </td> <td>0    </td> <td>0   </td> <td>0       </td> <td>0          </td> <td>0          </td> <td>0     </td> <td>0   </td> <td>0.000385208</td> <td>0.000192604</td> <td>0.000192604</td> <td>0   </td> <td>0    </td> <td>0      </td> <td>0   </td> <td>0.00269646 </td> <td>0     </td> <td>0   </td> <td>0       </td> <td>0         </td> <td>0          </td> <td>0         </td> <td>0        </td> <td>0     </td> <td>0      </td> <td>0          </td> <td>0   </td> <td>0.000770416</td> <td>0   </td> <td>0          </td> <td>0   </td> <td>0.000770416</td> <td>0     </td> <td>0      </td> <td>0    </td> <td>0          </td> <td>0    </td> <td>0         </td> <td>0   </td> <td>0       </td> <td>0        </td> <td>0     </td> <td>0        </td> <td>0     </td> <td>0        </td> <td>0          </td> <td>0     </td> <td>0   </td> <td>0.0050077</td> <td>0    </td> <td>0   </td> <td>0        </td> <td>0   </td> <td>0     </td> <td>0    </td> <td>0.000770416</td> <td>0          </td> <td>0   </td> <td>0         </td> <td>0        </td> <td>0.000385208</td> <td>0        </td> <td>0    </td> <td>0          </td> <td>0       </td> <td>0.000385208</td> <td>0.000192604</td> <td>0.00154083</td> <td>0   </td> <td>0          </td> <td>0    </td> <td>0    </td> <td>0      </td> <td>0.000770416</td> <td>0          </td> <td>0        </td> <td>0    </td> <td>0    </td> <td>0    </td> <td>0   </td> <td>0       </td> <td>0          </td> <td>0   </td> <td>0     </td> <td>0.000385208</td> <td>0.00115562 </td> <td>0      </td> <td>0     </td> <td>0          </td> <td>0.00269646</td> <td>0.000192604</td> <td>0   </td> <td>0      </td> <td>0   </td> <td>0.00231125</td> <td>0   </td> <td>0   </td> <td>0          </td> <td>0   </td> <td>0    </td> <td>0          </td> <td>0.000192604</td> <td>0          </td> <td>0.000192604</td> <td>0        </td> <td>0   </td> <td>0.000192604</td> <td>0    </td> <td>0          </td> <td>0.000192604</td> <td>0        </td> <td>0          </td> <td>0   </td> <td>0.000192604</td> <td>0          </td> <td>0.000770416</td> <td>0.000192604</td> <td>0      </td> <td>0          </td> <td>0        </td> <td>0   </td> <td>0    </td> <td>0    </td> <td>0          </td> <td>0    </td> <td>0   </td> <td>0.000192604</td> <td>0        </td> <td>0       </td> <td>0    </td> <td>0.00115562</td> <td>0.00115562 </td> <td>0.00115562 </td> <td>0.00211864 </td> <td>0          </td> <td>0          </td> <td>0    </td> <td>0.00115562 </td> <td>0    </td> <td>0   </td> <td>0   </td> <td>0    </td> <td>0     </td> <td>0   </td> <td>0         </td> <td>0    </td> <td>0.000192604</td> <td>0        </td> <td>0    </td> <td>0.000385208</td> <td>0      </td> <td>0          </td> <td>0   </td> <td>0      </td> <td>0      </td> <td>0     </td> <td>0     </td> <td>0     </td> <td>0          </td> <td>0.00134823 </td> <td>0    </td> <td>0.00134823 </td> <td>0.00096302 </td> <td>0   </td> <td>0          </td> <td>0          </td> <td>0      </td> <td>0        </td> <td>0      </td> <td>0    </td> <td>0     </td> <td>0    </td> <td>0        </td> <td>0      </td> <td>0   </td> <td>0.000192604</td> <td>0.000192604</td> <td>0   </td> <td>0.00115562 </td> <td>0   </td> <td>0     </td> <td>0   </td> <td>0    </td> <td>0          </td> <td>0   </td> <td>0       </td> <td>0   </td> <td>0     </td> <td>0      </td> <td>0.00115562 </td> <td>0      </td> <td>0        </td> <td>0        </td> <td>0      </td> <td>0        </td> <td>0    </td> <td>0   </td> <td>0     </td> <td>0     </td> <td>0.000192604</td> <td>0.000192604</td> <td>0      </td> <td>0      </td> <td>0        </td> <td>0        </td> <td>0     </td> <td>0         </td> <td>0   </td> <td>0   </td> <td>0     </td> <td>0   </td> <td>0    </td> <td>0   </td> <td>0          </td> <td>0     </td> <td>0    </td> <td>0     </td> <td>0   </td> <td>0          </td> <td>0   </td> <td>0     </td> <td>0      </td> <td>0       </td> <td>0          </td> <td>0     </td> <td>0   </td> <td>0      </td> <td>0        </td> <td>0        </td> <td>0.000577812</td> <td>0      </td> <td>0       </td> <td>0    </td> <td>0          </td> <td>0          </td> <td>0.000192604</td> <td>0          </td> <td>0        </td> <td>0     </td> <td>0    </td> <td>0    </td> <td>0    </td> <td>0   </td> <td>0   </td> <td>0        </td> <td>0     </td> <td>0     </td> <td>0        </td> <td>0        </td> <td>0   </td> <td>0     </td> <td>0          </td> <td>0   </td> <td>0          </td> <td>0          </td> <td>0        </td> <td>0    </td> <td>0     </td> <td>0   </td> <td>0   </td> <td>0          </td> <td>0      </td> <td>0     </td> <td>0       </td> <td>0   </td> <td>0   </td> <td>0      </td> <td>0       </td> <td>0          </td> <td>0    </td> <td>0    </td> <td>0          </td> <td>0          </td> <td>0     </td> <td>0.000192604</td> <td>0         </td> <td>0        </td> <td>0.0094376 </td> <td>0    </td> <td>0     </td> <td>0    </td> <td>0          </td> <td>0   </td> <td>0       </td> <td>0    </td> <td>0    </td> <td>0          </td> <td>0          </td> <td>0.000385208</td> <td>0      </td> <td>0          </td> <td>0     </td> <td>0   </td> <td>0        </td> <td>0          </td> <td>0   </td> <td>0.00096302 </td> <td>0.000192604</td> <td>0     </td> <td>0      </td> <td>0    </td> <td>0          </td> <td>0    </td> <td>0   </td> <td>0      </td> <td>0     </td> <td>0          </td> <td>0       </td> <td>0.00134823 </td> <td>0   </td> <td>0      </td> <td>0          </td> <td>0      </td> <td>0   </td> <td>0    </td> <td>0.000192604</td> <td>0.00231125</td> <td>0          </td> <td>0     </td> <td>0.00231125 </td> <td>0          </td> <td>0       </td> <td>0     </td> <td>0.000385208</td> <td>0        </td> <td>0     </td> <td>0     </td> <td>0         </td> <td>0.000577812</td> <td>0    </td> <td>0     </td> <td>0.000192604</td> <td>0     </td> <td>0     </td> <td>0.000192604</td> <td>0   </td> <td>0   </td> <td>0.000192604</td> <td>0        </td> <td>0   </td> <td>0    </td> <td>0          </td> <td>0.000192604</td> <td>0    </td> <td>0          </td> <td>0.00654854</td> <td>0          </td> <td>0.000192604</td> <td>0   </td> <td>0      </td> <td>0.000385208</td> <td>0      </td> <td>0          </td> <td>0     </td> <td>0   </td> <td>0     </td> <td>0          </td> <td>0          </td> <td>0          </td> <td>0   </td> <td>0     </td> <td>0     </td> <td>0      </td> <td>0.000192604</td> <td>0        </td> <td>0          </td> <td>0          </td> <td>0    </td> <td>0     </td> <td>0    </td> <td>0     </td> <td>0    </td> <td>0   </td> <td>0    </td> <td>0      </td> <td>0   </td> <td>0   </td> <td>0   </td> <td>0    </td> <td>0      </td> <td>0.000192604</td> <td>0    </td> <td>0   </td> <td>0   </td> <td>0        </td> <td>0     </td> <td>0   </td> <td>0     </td> <td>0   </td> <td>0     </td> <td>0     </td> <td>0     </td> <td>0   </td> <td>0      </td> <td>0     </td> <td>0      </td> <td>0.000192604</td> <td>0          </td> <td>0   </td> <td>0.000385208</td> <td>0.000192604</td> <td>0.000770416</td> <td>0      </td> <td>0    </td> <td>0   </td> <td>0    </td> <td>0        </td> <td>0     </td> <td>0    </td> <td>0     </td> <td>0.000192604</td> <td>0      </td> <td>0   </td> <td>0.00211864 </td> <td>0      </td> <td>0   </td> <td>0    </td> <td>0   </td> <td>0   </td> <td>0.000192604</td> <td>0          </td> <td>0   </td> <td>0      </td> <td>0.000192604</td> <td>0          </td> <td>0.00288906</td> <td>0          </td> <td>0          </td> <td>0     </td> <td>0          </td> <td>0    </td> <td>0      </td> <td>0      </td> <td>0   </td> <td>0     </td> <td>0    </td> <td>0    </td> <td>0   </td> <td>0     </td> <td>0.000385208</td> <td>0    </td> <td>0.000192604</td> <td>0   </td> <td>0   </td> <td>0   </td> <td>0          </td> <td>0      </td> <td>0        </td> <td>0        </td> <td>0          </td> <td>0      </td> <td>0        </td> <td>0.000192604</td> <td>0   </td> <td>0        </td> <td>0         </td> <td>0     </td> <td>0   </td> <td>0      </td> <td>0    </td> <td>0      </td> <td>0    </td> <td>0   </td> <td>0    </td> <td>0          </td> <td>0.00327427</td> <td>0.000385208</td> <td>0          </td> <td>0.000192604</td> <td>0    </td> <td>0   </td> <td>0.000770416</td> <td>0        </td> <td>0.000192604</td> <td>0    </td> <td>0        </td> <td>0   </td> <td>0   </td> <td>0        </td> <td>0       </td> <td>0.000192604</td> <td>0.000192604</td> <td>0      </td> <td>0        </td> <td>0   </td> <td>0          </td> <td>0.000192604</td> <td>0     </td> <td>0    </td> <td>0.00096302</td> <td>0      </td> <td>0    </td> <td>0     </td> <td>0          </td> <td>0     </td> <td>0       </td> <td>0.000385208</td> <td>0    </td> <td>0   </td> <td>0      </td> <td>0     </td> <td>0    </td> <td>0     </td> <td>0     </td> <td>0   </td> <td>0      </td> <td>0    </td> <td>0.000192604</td> <td>0      </td> <td>0          </td> <td>0   </td> <td>0   </td> <td>0     </td> <td>0   </td> <td>0   </td> <td>0   </td> <td>0       </td> <td>0   </td> <td>0   </td> <td>0.00096302 </td> <td>0   </td> <td>0.000385208</td> <td>0.000577812</td> <td>0          </td> <td>0     </td> <td>0    </td> <td>0.000577812</td> <td>0     </td> <td>0.000192604</td> <td>0.000192604</td> <td>0      </td> <td>0      </td> <td>0     </td> <td>0       </td> <td>0     </td> <td>0          </td> <td>0        </td> <td>0          </td> <td>0      </td> <td>0        </td> <td>0          </td> <td>0          </td> <td>0      </td> <td>0.000577812</td> <td>0      </td> <td>0         </td> <td>0          </td> <td>0   </td> <td>0    </td> <td>0.000192604</td> <td>0   </td> <td>0     </td> <td>0    </td> <td>0        </td> <td>0          </td> <td>0      </td> <td>0    </td> <td>0       </td> <td>0   </td> <td>0      </td> <td>0          </td> <td>0          </td> <td>0     </td> <td>0   </td> <td>0      </td> <td>0        </td> <td>0          </td> <td>0          </td> <td>0.00096302 </td> <td>0   </td> <td>0        </td> <td>0      </td> <td>0   </td> <td>0   </td> <td>0      </td> <td>0      </td> <td>0     </td> <td>0     </td> <td>0   </td> <td>0      </td> <td>0     </td> <td>0     </td> <td>0   </td> <td>0   </td> <td>0   </td> <td>0         </td> <td>0    </td> <td>0          </td> <td>0      </td> <td>0     </td> <td>0     </td> <td>0   </td> <td>0          </td> <td>0.000192604</td> <td>0.00173344</td> <td>0      </td> <td>0       </td> <td>0          </td> <td>0     </td> <td>0     </td> <td>0          </td> <td>0        </td> <td>0          </td> <td>0   </td> <td>0          </td> <td>0     </td> <td>0          </td> <td>0   </td> <td>0     </td> <td>0       </td> <td>0.0121341 </td> <td>0.00231125 </td> <td>0       </td> <td>0     </td> <td>0      </td> <td>0   </td> <td>0      </td> <td>0   </td> <td>0     </td> <td>0     </td> <td>0        </td> <td>0.000192604</td> <td>0      </td> <td>0         </td> <td>0   </td> <td>0.000192604</td> <td>0   </td> <td>0          </td> <td>0    </td> <td>0      </td> <td>0          </td> <td>0   </td> <td>0   </td> <td>0   </td> <td>0    </td> <td>0          </td> <td>0.000577812</td> <td>0    </td> <td>0     </td> <td>0     </td> <td>0.000192604</td> <td>0.00308166</td> <td>0        </td> <td>0    </td> <td>0.0050077 </td> <td>0     </td> <td>0        </td> <td>0        </td> <td>0          </td> <td>0          </td> <td>0.000192604</td> <td>0.000192604</td> <td>0      </td> <td>0.00096302 </td> <td>0   </td> <td>0     </td> <td>0     </td> <td>0    </td> <td>0.000385208</td> <td>0    </td> <td>0   </td> <td>0    </td> <td>0       </td> <td>0     </td> <td>0          </td> <td>0     </td> <td>0         </td> <td>0          </td> <td>0   </td> <td>0          </td> <td>0     </td> <td>0   </td> <td>0      </td> <td>0    </td> <td>0    </td> <td>0          </td> <td>0     </td> <td>0   </td> <td>0      </td> <td>0    </td> <td>0   </td> <td>0        </td> <td>0   </td> <td>0          </td> <td>0    </td> <td>0     </td> <td>0          </td> <td>0          </td> <td>0         </td> <td>0       </td> <td>0          </td> <td>0.000192604</td> <td>0.00288906 </td> <td>0      </td> <td>0     </td> <td>0.000192604</td> <td>0   </td> <td>0          </td> <td>0   </td> <td>0    </td> <td>0          </td> <td>0      </td> <td>0.000192604</td> <td>0          </td> <td>0          </td> <td>0.000192604</td> <td>0    </td> <td>0    </td> <td>0   </td> <td>0          </td> <td>0    </td> <td>0.000577812</td> <td>0    </td> <td>0          </td> <td>0    </td> <td>0          </td> <td>0.000192604</td> <td>0          </td> <td>0      </td> <td>0.000385208</td> <td>0     </td> <td>0      </td> <td>0.000577812</td> <td>0          </td> <td>0          </td> <td>0.00423729 </td> <td>0      </td> <td>0     </td> <td>0    </td> <td>0   </td> <td>0          </td> <td>0          </td> <td>0   </td> <td>0       </td> <td>0   </td> <td>0    </td> <td>0      </td> <td>0      </td> <td>0.0186826</td> <td>0   </td> <td>0     </td> <td>0     </td> <td>0          </td> <td>0    </td> <td>0   </td> <td>0      </td> <td>0   </td> <td>0   </td> <td>0     </td> <td>0       </td> <td>0     </td> <td>0    </td> <td>0          </td> <td>0.000385208</td> <td>0   </td> <td>0    </td> <td>0     </td> <td>0   </td> <td>0          </td> <td>0   </td> <td>0.00096302 </td> <td>0      </td> <td>0          </td> <td>0          </td> <td>0          </td> <td>0.000192604</td> <td>0    </td> <td>0   </td> <td>0   </td> <td>0          </td> <td>0   </td> <td>0          </td> <td>0     </td> <td>0       </td> <td>0.000385208</td> <td>0        </td> <td>0          </td> <td>0      </td> <td>0    </td> <td>0   </td> <td>0       </td> <td>0          </td> <td>0   </td> <td>0.000192604</td> <td>0          </td> <td>0    </td> <td>0        </td> <td>0     </td> <td>0     </td> <td>0         </td> <td>0     </td> <td>0        </td> <td>0      </td> <td>0.000385208</td> <td>0   </td> <td>0    </td> <td>0     </td> <td>0      </td> <td>0      </td> <td>0     </td> <td>0        </td> <td>0      </td> <td>0         </td> <td>0          </td> <td>0   </td> <td>0      </td> <td>0    </td> <td>0   </td> <td>0.000192604</td> <td>0    </td> <td>0     </td> <td>0    </td> <td>0    </td> <td>0        </td> <td>0     </td> <td>0   </td> <td>0       </td> <td>0     </td> <td>0    </td> <td>0          </td> <td>0        </td> <td>0          </td> <td>0   </td> <td>0.000192604</td> <td>0   </td> <td>0          </td> <td>0          </td> <td>0       </td> <td>0.000192604</td> <td>0          </td> <td>0          </td> <td>0    </td> <td>0   </td> <td>0   </td> <td>0   </td> <td>0     </td> <td>0    </td> <td>0   </td> <td>0   </td> <td>0        </td> <td>0     </td> <td>0   </td> <td>0    </td> <td>0       </td> <td>0       </td> <td>0          </td> <td>0      </td> <td>0      </td> <td>0   </td> <td>0       </td> <td>0    </td> <td>0       </td> <td>0   </td> <td>0    </td> <td>0    </td> <td>0     </td> <td>0   </td> <td>0    </td> <td>0     </td> <td>0       </td> <td>0.000192604</td> <td>0      </td> <td>0   </td> <td>0        </td> <td>0     </td> <td>0    </td> <td>0    </td> <td>0        </td> <td>0     </td> <td>0      </td> <td>0.000577812</td> <td>0    </td> <td>0          </td> <td>0     </td> <td>0        </td> <td>0        </td> <td>0      </td> <td>0   </td> <td>0.000192604</td> <td>0    </td> <td>0          </td> <td>0        </td> <td>0    </td> <td>0          </td> <td>0         </td> <td>0          </td> <td>0          </td> <td>0   </td> <td>0   </td> <td>0.000192604</td>\n",
       "        </tr>\n",
       "        <tr>\n",
       "            <td>basic                </td> <td>2003  </td> <td>6.3   </td> <td>thriller</td> <td>7538   </td> <td>0.0001374 </td> <td>0.000412201</td> <td>0.00316021 </td> <td>0.000687002</td> <td>0    </td> <td>0   </td> <td>0     </td> <td>0.00219841</td> <td>0   </td> <td>0    </td> <td>0.0001374</td> <td>0          </td> <td>0    </td> <td>0.0001374</td> <td>0          </td> <td>0.0001374</td> <td>0   </td> <td>0          </td> <td>0     </td> <td>0          </td> <td>0    </td> <td>0   </td> <td>0      </td> <td>0          </td> <td>0       </td> <td>0   </td> <td>0.0001374</td> <td>0      </td> <td>0     </td> <td>0   </td> <td>0   </td> <td>0      </td> <td>0    </td> <td>0     </td> <td>0.0001374  </td> <td>0.000274801</td> <td>0.000274801</td> <td>0.0001374  </td> <td>0     </td> <td>0          </td> <td>0          </td> <td>0.0012366  </td> <td>0         </td> <td>0   </td> <td>0      </td> <td>0.0010992  </td> <td>0          </td> <td>0       </td> <td>0.000549602</td> <td>0        </td> <td>0   </td> <td>0.0001374  </td> <td>0          </td> <td>0.000274801</td> <td>0      </td> <td>0      </td> <td>0    </td> <td>0          </td> <td>0    </td> <td>0          </td> <td>0.0001374</td> <td>0     </td> <td>0          </td> <td>0    </td> <td>0.000274801</td> <td>0    </td> <td>0     </td> <td>0.0001374</td> <td>0.0010992 </td> <td>0          </td> <td>0          </td> <td>0     </td> <td>0    </td> <td>0          </td> <td>0      </td> <td>0      </td> <td>0     </td> <td>0    </td> <td>0      </td> <td>0       </td> <td>0   </td> <td>0   </td> <td>0     </td> <td>0      </td> <td>0    </td> <td>0          </td> <td>0    </td> <td>0     </td> <td>0     </td> <td>0   </td> <td>0   </td> <td>0   </td> <td>0   </td> <td>0.00522121</td> <td>0     </td> <td>0     </td> <td>0     </td> <td>0       </td> <td>0      </td> <td>0          </td> <td>0    </td> <td>0   </td> <td>0    </td> <td>0   </td> <td>0   </td> <td>0     </td> <td>0     </td> <td>0     </td> <td>0   </td> <td>0          </td> <td>0    </td> <td>0          </td> <td>0       </td> <td>0     </td> <td>0.00219841</td> <td>0       </td> <td>0.000549602</td> <td>0.000549602</td> <td>0     </td> <td>0          </td> <td>0.000274801</td> <td>0     </td> <td>0.0001374 </td> <td>0          </td> <td>0          </td> <td>0   </td> <td>0.00178621</td> <td>0     </td> <td>0     </td> <td>0   </td> <td>0     </td> <td>0    </td> <td>0   </td> <td>0.0010992 </td> <td>0    </td> <td>0      </td> <td>0          </td> <td>0          </td> <td>0   </td> <td>0          </td> <td>0      </td> <td>0     </td> <td>0.000274801</td> <td>0       </td> <td>0      </td> <td>0      </td> <td>0      </td> <td>0   </td> <td>0      </td> <td>0      </td> <td>0   </td> <td>0          </td> <td>0   </td> <td>0       </td> <td>0   </td> <td>0.0001374  </td> <td>0   </td> <td>0        </td> <td>0     </td> <td>0   </td> <td>0     </td> <td>0     </td> <td>0       </td> <td>0       </td> <td>0     </td> <td>0          </td> <td>0.00343501</td> <td>0    </td> <td>0          </td> <td>0     </td> <td>0     </td> <td>0   </td> <td>0.000274801</td> <td>0          </td> <td>0          </td> <td>0          </td> <td>0   </td> <td>0   </td> <td>0    </td> <td>0          </td> <td>0   </td> <td>0      </td> <td>0     </td> <td>0     </td> <td>0.0001374  </td> <td>0         </td> <td>0.0001374  </td> <td>0     </td> <td>0     </td> <td>0.0001374  </td> <td>0     </td> <td>0     </td> <td>0      </td> <td>0      </td> <td>0.0012366  </td> <td>0.000412201</td> <td>0        </td> <td>0    </td> <td>0.000412201</td> <td>0    </td> <td>0   </td> <td>0       </td> <td>0   </td> <td>0     </td> <td>0   </td> <td>0   </td> <td>0     </td> <td>0     </td> <td>0    </td> <td>0      </td> <td>0   </td> <td>0    </td> <td>0    </td> <td>0          </td> <td>0.0001374  </td> <td>0      </td> <td>0          </td> <td>0          </td> <td>0    </td> <td>0    </td> <td>0.0001374  </td> <td>0.00247321</td> <td>0   </td> <td>0          </td> <td>0      </td> <td>0.00261061 </td> <td>0   </td> <td>0   </td> <td>0          </td> <td>0          </td> <td>0    </td> <td>0.000412201</td> <td>0.0012366  </td> <td>0       </td> <td>0    </td> <td>0   </td> <td>0.0010992  </td> <td>0    </td> <td>0.000274801</td> <td>0   </td> <td>0   </td> <td>0      </td> <td>0      </td> <td>0.0204727</td> <td>0         </td> <td>0.000549602</td> <td>0     </td> <td>0.0001374  </td> <td>0       </td> <td>0      </td> <td>0.0001374</td> <td>0     </td> <td>0     </td> <td>0.000412201</td> <td>0      </td> <td>0   </td> <td>0           </td> <td>0   </td> <td>0    </td> <td>0.000412201</td> <td>0.0001374  </td> <td>0          </td> <td>0.000274801</td> <td>0   </td> <td>0    </td> <td>0   </td> <td>0          </td> <td>0.000274801</td> <td>0      </td> <td>0          </td> <td>0          </td> <td>0     </td> <td>0.0001374</td> <td>0    </td> <td>0.000274801</td> <td>0    </td> <td>0.000549602</td> <td>0     </td> <td>0.0001374</td> <td>0.0001374  </td> <td>0   </td> <td>0      </td> <td>0          </td> <td>0   </td> <td>0          </td> <td>0.0001374  </td> <td>0.0001374</td> <td>0.000274801</td> <td>0     </td> <td>0     </td> <td>0.0001374</td> <td>0      </td> <td>0        </td> <td>0.000549602</td> <td>0     </td> <td>0      </td> <td>0          </td> <td>0       </td> <td>0.0001374  </td> <td>0    </td> <td>0          </td> <td>0          </td> <td>0.000274801</td> <td>0     </td> <td>0      </td> <td>0          </td> <td>0.000412201</td> <td>0     </td> <td>0   </td> <td>0    </td> <td>0          </td> <td>0   </td> <td>0     </td> <td>0.000274801</td> <td>0   </td> <td>0          </td> <td>0     </td> <td>0    </td> <td>0.000549602</td> <td>0   </td> <td>0      </td> <td>0          </td> <td>0.000549602</td> <td>0     </td> <td>0     </td> <td>0       </td> <td>0     </td> <td>0     </td> <td>0        </td> <td>0.000274801</td> <td>0     </td> <td>0          </td> <td>0.0001374  </td> <td>0         </td> <td>0.0001374</td> <td>0.0001374</td> <td>0          </td> <td>0      </td> <td>0         </td> <td>0.000412201</td> <td>0.00247321</td> <td>0         </td> <td>0.0001374</td> <td>0     </td> <td>0     </td> <td>0        </td> <td>0.000274801</td> <td>0       </td> <td>0          </td> <td>0      </td> <td>0.000274801</td> <td>0.0001374</td> <td>0    </td> <td>0          </td> <td>0          </td> <td>0          </td> <td>0     </td> <td>0       </td> <td>0          </td> <td>0.0001374</td> <td>0      </td> <td>0.0001374  </td> <td>0    </td> <td>0     </td> <td>0   </td> <td>0         </td> <td>0      </td> <td>0.00893103</td> <td>0          </td> <td>0      </td> <td>0          </td> <td>0.0001374</td> <td>0     </td> <td>0   </td> <td>0      </td> <td>0    </td> <td>0.000274801</td> <td>0.0001374  </td> <td>0          </td> <td>0     </td> <td>0.0001374</td> <td>0     </td> <td>0    </td> <td>0.000961803</td> <td>0   </td> <td>0     </td> <td>0.0001374</td> <td>0        </td> <td>0.00357241</td> <td>0   </td> <td>0.0001374  </td> <td>0.0001374  </td> <td>0.0012366  </td> <td>0          </td> <td>0    </td> <td>0   </td> <td>0.0001374  </td> <td>0          </td> <td>0     </td> <td>0    </td> <td>0.000274801</td> <td>0          </td> <td>0.001374   </td> <td>0         </td> <td>0          </td> <td>0     </td> <td>0    </td> <td>0     </td> <td>0    </td> <td>0   </td> <td>0      </td> <td>0   </td> <td>0.000412201</td> <td>0          </td> <td>0.0001374  </td> <td>0      </td> <td>0      </td> <td>0   </td> <td>0   </td> <td>0     </td> <td>0    </td> <td>0          </td> <td>0    </td> <td>0          </td> <td>0         </td> <td>0     </td> <td>0    </td> <td>0          </td> <td>0.000961803</td> <td>0   </td> <td>0    </td> <td>0    </td> <td>0.0001374</td> <td>0   </td> <td>0.0001374  </td> <td>0          </td> <td>0.000274801</td> <td>0    </td> <td>0    </td> <td>0         </td> <td>0     </td> <td>0     </td> <td>0    </td> <td>0    </td> <td>0    </td> <td>0      </td> <td>0    </td> <td>0    </td> <td>0          </td> <td>0   </td> <td>0    </td> <td>0      </td> <td>0      </td> <td>0.0015114 </td> <td>0     </td> <td>0          </td> <td>0    </td> <td>0    </td> <td>0      </td> <td>0.0001374</td> <td>0      </td> <td>0   </td> <td>0   </td> <td>0   </td> <td>0          </td> <td>0          </td> <td>0   </td> <td>0    </td> <td>0          </td> <td>0   </td> <td>0      </td> <td>0   </td> <td>0.000274801</td> <td>0    </td> <td>0    </td> <td>0     </td> <td>0        </td> <td>0    </td> <td>0    </td> <td>0.0001374</td> <td>0.001374  </td> <td>0     </td> <td>0      </td> <td>0     </td> <td>0   </td> <td>0   </td> <td>0.000961803</td> <td>0.000274801</td> <td>0       </td> <td>0          </td> <td>0     </td> <td>0    </td> <td>0.0001374  </td> <td>0    </td> <td>0      </td> <td>0     </td> <td>0       </td> <td>0    </td> <td>0   </td> <td>0    </td> <td>0   </td> <td>0   </td> <td>0     </td> <td>0    </td> <td>0.000274801</td> <td>0      </td> <td>0     </td> <td>0    </td> <td>0.0001374  </td> <td>0   </td> <td>0      </td> <td>0.0001374 </td> <td>0.0016488  </td> <td>0.0001374  </td> <td>0    </td> <td>0.0001374  </td> <td>0      </td> <td>0          </td> <td>0       </td> <td>0    </td> <td>0.00741962</td> <td>0          </td> <td>0.0015114 </td> <td>0.0001374  </td> <td>0   </td> <td>0      </td> <td>0    </td> <td>0          </td> <td>0       </td> <td>0    </td> <td>0          </td> <td>0   </td> <td>0   </td> <td>0.00412201 </td> <td>0.00412201</td> <td>0    </td> <td>0   </td> <td>0         </td> <td>0   </td> <td>0      </td> <td>0      </td> <td>0   </td> <td>0       </td> <td>0          </td> <td>0   </td> <td>0          </td> <td>0.000274801</td> <td>0          </td> <td>0    </td> <td>0     </td> <td>0     </td> <td>0          </td> <td>0      </td> <td>0.0001374  </td> <td>0.00632042</td> <td>0          </td> <td>0      </td> <td>0          </td> <td>0    </td> <td>0          </td> <td>0   </td> <td>0.000274801</td> <td>0.000549602</td> <td>0.0001374 </td> <td>0      </td> <td>0     </td> <td>0     </td> <td>0     </td> <td>0.0001374  </td> <td>0   </td> <td>0          </td> <td>0    </td> <td>0    </td> <td>0     </td> <td>0      </td> <td>0.00233581 </td> <td>0          </td> <td>0.00274801</td> <td>0    </td> <td>0          </td> <td>0    </td> <td>0      </td> <td>0    </td> <td>0     </td> <td>0          </td> <td>0      </td> <td>0    </td> <td>0        </td> <td>0     </td> <td>0      </td> <td>0   </td> <td>0      </td> <td>0     </td> <td>0.0001374  </td> <td>0          </td> <td>0          </td> <td>0   </td> <td>0.000274801</td> <td>0          </td> <td>0     </td> <td>0      </td> <td>0     </td> <td>0       </td> <td>0          </td> <td>0    </td> <td>0     </td> <td>0   </td> <td>0          </td> <td>0.0001374  </td> <td>0   </td> <td>0          </td> <td>0     </td> <td>0      </td> <td>0    </td> <td>0.00494641</td> <td>0   </td> <td>0          </td> <td>0    </td> <td>0.000274801</td> <td>0.00247321</td> <td>0.0001374  </td> <td>0          </td> <td>0          </td> <td>0.000274801</td> <td>0.000274801</td> <td>0          </td> <td>0   </td> <td>0     </td> <td>0    </td> <td>0.000412201</td> <td>0   </td> <td>0      </td> <td>0   </td> <td>0.000549602</td> <td>0   </td> <td>0.0001374  </td> <td>0.000549602</td> <td>0       </td> <td>0       </td> <td>0     </td> <td>0     </td> <td>0   </td> <td>0     </td> <td>0       </td> <td>0.0001374  </td> <td>0      </td> <td>0   </td> <td>0          </td> <td>0          </td> <td>0          </td> <td>0   </td> <td>0      </td> <td>0       </td> <td>0          </td> <td>0          </td> <td>0     </td> <td>0       </td> <td>0       </td> <td>0   </td> <td>0.000687002</td> <td>0        </td> <td>0    </td> <td>0       </td> <td>0      </td> <td>0    </td> <td>0       </td> <td>0          </td> <td>0      </td> <td>0.000274801</td> <td>0          </td> <td>0      </td> <td>0      </td> <td>0          </td> <td>0          </td> <td>0   </td> <td>0   </td> <td>0          </td> <td>0.0272053</td> <td>0          </td> <td>0   </td> <td>0   </td> <td>0       </td> <td>0    </td> <td>0     </td> <td>0      </td> <td>0     </td> <td>0.0001374</td> <td>0       </td> <td>0.000549602</td> <td>0          </td> <td>0     </td> <td>0      </td> <td>0   </td> <td>0       </td> <td>0          </td> <td>0          </td> <td>0.0001374</td> <td>0      </td> <td>0     </td> <td>0.000687002</td> <td>0          </td> <td>0   </td> <td>0     </td> <td>0.000412201</td> <td>0    </td> <td>0     </td> <td>0         </td> <td>0.000687002</td> <td>0          </td> <td>0.0001374  </td> <td>0     </td> <td>0    </td> <td>0     </td> <td>0    </td> <td>0    </td> <td>0   </td> <td>0      </td> <td>0      </td> <td>0    </td> <td>0    </td> <td>0.00398461</td> <td>0.000274801</td> <td>0.000687002</td> <td>0.0001374  </td> <td>0          </td> <td>0          </td> <td>0    </td> <td>0    </td> <td>0          </td> <td>0     </td> <td>0      </td> <td>0   </td> <td>0   </td> <td>0         </td> <td>0   </td> <td>0.0001374</td> <td>0   </td> <td>0       </td> <td>0.0001374  </td> <td>0    </td> <td>0          </td> <td>0.0001374</td> <td>0     </td> <td>0          </td> <td>0          </td> <td>0    </td> <td>0    </td> <td>0        </td> <td>0   </td> <td>0.0001374</td> <td>0          </td> <td>0       </td> <td>0.0001374  </td> <td>0          </td> <td>0          </td> <td>0   </td> <td>0     </td> <td>0        </td> <td>0          </td> <td>0     </td> <td>0          </td> <td>0          </td> <td>0     </td> <td>0          </td> <td>0   </td> <td>0.000549602</td> <td>0          </td> <td>0.0001374</td> <td>0.0001374  </td> <td>0   </td> <td>0    </td> <td>0.0001374</td> <td>0          </td> <td>0    </td> <td>0          </td> <td>0      </td> <td>0    </td> <td>0.0001374</td> <td>0.000274801</td> <td>0    </td> <td>0    </td> <td>0     </td> <td>0      </td> <td>0    </td> <td>0    </td> <td>0   </td> <td>0   </td> <td>0   </td> <td>0    </td> <td>0.0001374  </td> <td>0    </td> <td>0          </td> <td>0    </td> <td>0     </td> <td>0          </td> <td>0          </td> <td>0.000824402</td> <td>0    </td> <td>0          </td> <td>0          </td> <td>0    </td> <td>0    </td> <td>0   </td> <td>0          </td> <td>0     </td> <td>0.0001374  </td> <td>0       </td> <td>0     </td> <td>0     </td> <td>0.0001374</td> <td>0    </td> <td>0          </td> <td>0   </td> <td>0       </td> <td>0      </td> <td>0.000961803</td> <td>0        </td> <td>0          </td> <td>0     </td> <td>0   </td> <td>0.000549602</td> <td>0    </td> <td>0       </td> <td>0       </td> <td>0      </td> <td>0    </td> <td>0          </td> <td>0    </td> <td>0   </td> <td>0       </td> <td>0   </td> <td>0    </td> <td>0          </td> <td>0         </td> <td>0.0001374</td> <td>0   </td> <td>0     </td> <td>0    </td> <td>0     </td> <td>0        </td> <td>0   </td> <td>0     </td> <td>0.000274801</td> <td>0          </td> <td>0.000549602</td> <td>0      </td> <td>0    </td> <td>0     </td> <td>0.000549602</td> <td>0          </td> <td>0.000412201</td> <td>0      </td> <td>0   </td> <td>0      </td> <td>0          </td> <td>0    </td> <td>0       </td> <td>0     </td> <td>0    </td> <td>0.00522121</td> <td>0     </td> <td>0          </td> <td>0    </td> <td>0      </td> <td>0      </td> <td>0     </td> <td>0     </td> <td>0.0001374  </td> <td>0    </td> <td>0          </td> <td>0.000549602</td> <td>0    </td> <td>0          </td> <td>0.0001374  </td> <td>0    </td> <td>0     </td> <td>0.000549602</td> <td>0.001374  </td> <td>0   </td> <td>0   </td> <td>0       </td> <td>0         </td> <td>0     </td> <td>0   </td> <td>0    </td> <td>0      </td> <td>0        </td> <td>0     </td> <td>0          </td> <td>0   </td> <td>0          </td> <td>0    </td> <td>0     </td> <td>0    </td> <td>0       </td> <td>0        </td> <td>0      </td> <td>0      </td> <td>0    </td> <td>0      </td> <td>0       </td> <td>0          </td> <td>0   </td> <td>0     </td> <td>0.0001374</td> <td>0    </td> <td>0     </td> <td>0          </td> <td>0   </td> <td>0     </td> <td>0    </td> <td>0          </td> <td>0      </td> <td>0.000274801</td> <td>0     </td> <td>0    </td> <td>0        </td> <td>0     </td> <td>0          </td> <td>0     </td> <td>0   </td> <td>0.00412201</td> <td>0     </td> <td>0    </td> <td>0.0001374</td> <td>0     </td> <td>0.000274801</td> <td>0     </td> <td>0         </td> <td>0      </td> <td>0          </td> <td>0.0001374</td> <td>0       </td> <td>0      </td> <td>0    </td> <td>0.000549602</td> <td>0.00796922</td> <td>0.000549602</td> <td>0    </td> <td>0.000274801</td> <td>0   </td> <td>0.000274801</td> <td>0          </td> <td>0   </td> <td>0    </td> <td>0       </td> <td>0     </td> <td>0    </td> <td>0     </td> <td>0.000687002</td> <td>0.0001374  </td> <td>0     </td> <td>0          </td> <td>0          </td> <td>0          </td> <td>0.0001374  </td> <td>0   </td> <td>0     </td> <td>0    </td> <td>0          </td> <td>0     </td> <td>0    </td> <td>0.000412201</td> <td>0.000412201</td> <td>0      </td> <td>0     </td> <td>0.0001374  </td> <td>0.000412201</td> <td>0       </td> <td>0    </td> <td>0      </td> <td>0      </td> <td>0     </td> <td>0     </td> <td>0       </td> <td>0     </td> <td>0.0001374  </td> <td>0          </td> <td>0   </td> <td>0         </td> <td>0          </td> <td>0   </td> <td>0.0010992  </td> <td>0    </td> <td>0.000274801</td> <td>0     </td> <td>0   </td> <td>0      </td> <td>0.00398461</td> <td>0      </td> <td>0          </td> <td>0.00219841 </td> <td>0    </td> <td>0     </td> <td>0          </td> <td>0     </td> <td>0.0001374</td> <td>0     </td> <td>0          </td> <td>0      </td> <td>0   </td> <td>0          </td> <td>0   </td> <td>0.00343501</td> <td>0   </td> <td>0          </td> <td>0    </td> <td>0.0001374</td> <td>0.000824402</td> <td>0.00247321 </td> <td>0    </td> <td>0          </td> <td>0   </td> <td>0      </td> <td>0.000274801</td> <td>0          </td> <td>0.000274801</td> <td>0    </td> <td>0     </td> <td>0   </td> <td>0          </td> <td>0          </td> <td>0          </td> <td>0   </td> <td>0     </td> <td>0        </td> <td>0    </td> <td>0   </td> <td>0      </td> <td>0.0001374  </td> <td>0          </td> <td>0       </td> <td>0   </td> <td>0      </td> <td>0     </td> <td>0.000412201</td> <td>0     </td> <td>0.0160758</td> <td>0   </td> <td>0   </td> <td>0            </td> <td>0     </td> <td>0       </td> <td>0      </td> <td>0       </td> <td>0      </td> <td>0      </td> <td>0   </td> <td>0       </td> <td>0          </td> <td>0.0016488 </td> <td>0        </td> <td>0     </td> <td>0     </td> <td>0    </td> <td>0          </td> <td>0          </td> <td>0.000412201</td> <td>0.000687002</td> <td>0          </td> <td>0          </td> <td>0       </td> <td>0.000274801</td> <td>0          </td> <td>0.0001374  </td> <td>0      </td> <td>0   </td> <td>0      </td> <td>0   </td> <td>0        </td> <td>0     </td> <td>0       </td> <td>0   </td> <td>0      </td> <td>0.0001374</td> <td>0          </td> <td>0      </td> <td>0          </td> <td>0   </td> <td>0          </td> <td>0          </td> <td>0   </td> <td>0.00192361 </td> <td>0      </td> <td>0       </td> <td>0   </td> <td>0          </td> <td>0      </td> <td>0     </td> <td>0     </td> <td>0.0001374</td> <td>0          </td> <td>0    </td> <td>0          </td> <td>0       </td> <td>0   </td> <td>0.0001374</td> <td>0          </td> <td>0.0001374  </td> <td>0          </td> <td>0          </td> <td>0      </td> <td>0    </td> <td>0    </td> <td>0    </td> <td>0          </td> <td>0          </td> <td>0      </td> <td>0    </td> <td>0.00233581 </td> <td>0     </td> <td>0    </td> <td>0.0001374  </td> <td>0         </td> <td>0   </td> <td>0          </td> <td>0      </td> <td>0         </td> <td>0          </td> <td>0.00453421</td> <td>0      </td> <td>0.0001374</td> <td>0.0001374</td> <td>0    </td> <td>0.0001374</td> <td>0   </td> <td>0      </td> <td>0          </td> <td>0          </td> <td>0    </td> <td>0.0001374</td> <td>0      </td> <td>0     </td> <td>0      </td> <td>0     </td> <td>0    </td> <td>0    </td> <td>0.0001374</td> <td>0      </td> <td>0.000549602</td> <td>0   </td> <td>0      </td> <td>0.0001374  </td> <td>0   </td> <td>0      </td> <td>0       </td> <td>0.000274801</td> <td>0    </td> <td>0.0001374</td> <td>0          </td> <td>0.000961803</td> <td>0   </td> <td>0.000274801</td> <td>0    </td> <td>0     </td> <td>0   </td> <td>0    </td> <td>0          </td> <td>0    </td> <td>0.0001374  </td> <td>0          </td> <td>0          </td> <td>0.0001374  </td> <td>0      </td> <td>0.000687002</td> <td>0          </td> <td>0.000274801</td> <td>0   </td> <td>0      </td> <td>0     </td> <td>0      </td> <td>0        </td> <td>0.000412201</td> <td>0          </td> <td>0   </td> <td>0    </td> <td>0    </td> <td>0          </td> <td>0   </td> <td>0.0001374  </td> <td>0.0001374  </td> <td>0     </td> <td>0     </td> <td>0    </td> <td>0          </td> <td>0.0001374  </td> <td>0          </td> <td>0    </td> <td>0    </td> <td>0   </td> <td>0          </td> <td>0    </td> <td>0    </td> <td>0         </td> <td>0   </td> <td>0   </td> <td>0      </td> <td>0.000961803</td> <td>0      </td> <td>0    </td> <td>0          </td> <td>0   </td> <td>0          </td> <td>0         </td> <td>0.000274801</td> <td>0    </td> <td>0    </td> <td>0          </td> <td>0.0114042 </td> <td>0          </td> <td>0    </td> <td>0    </td> <td>0    </td> <td>0      </td> <td>0    </td> <td>0     </td> <td>0      </td> <td>0   </td> <td>0   </td> <td>0   </td> <td>0    </td> <td>0.0001374</td> <td>0   </td> <td>0    </td> <td>0       </td> <td>0   </td> <td>0       </td> <td>0     </td> <td>0         </td> <td>0         </td> <td>0       </td> <td>0.0010992 </td> <td>0     </td> <td>0.000274801</td> <td>0   </td> <td>0.0001374  </td> <td>0    </td> <td>0   </td> <td>0    </td> <td>0          </td> <td>0           </td> <td>0      </td> <td>0    </td> <td>0.0001374</td> <td>0        </td> <td>0          </td> <td>0.00233581</td> <td>0   </td> <td>0          </td> <td>0          </td> <td>0     </td> <td>0    </td> <td>0   </td> <td>0          </td> <td>0     </td> <td>0      </td> <td>0.0001374</td> <td>0      </td> <td>0   </td> <td>0   </td> <td>0     </td> <td>0          </td> <td>0   </td> <td>0.000412201</td> <td>0    </td> <td>0   </td> <td>0   </td> <td>0     </td> <td>0.0001374</td> <td>0.000961803</td> <td>0   </td> <td>0.0001374</td> <td>0     </td> <td>0.0001374</td> <td>0          </td> <td>0          </td> <td>0.0001374  </td> <td>0   </td> <td>0   </td> <td>0   </td> <td>0          </td> <td>0      </td> <td>0   </td> <td>0     </td> <td>0      </td> <td>0.000274801</td> <td>0     </td> <td>0          </td> <td>0    </td> <td>0          </td> <td>0.0001374  </td> <td>0    </td> <td>0.000549602</td> <td>0.0001374  </td> <td>0          </td> <td>0      </td> <td>0       </td> <td>0          </td> <td>0    </td> <td>0          </td> <td>0          </td> <td>0    </td> <td>0          </td> <td>0   </td> <td>0          </td> <td>0        </td> <td>0.0001374</td> <td>0   </td> <td>0   </td> <td>0   </td> <td>0     </td> <td>0         </td> <td>0.000274801</td> <td>0     </td> <td>0          </td> <td>0       </td> <td>0   </td> <td>0      </td> <td>0.0127782 </td> <td>0.0001374  </td> <td>0   </td> <td>0.0001374</td> <td>0       </td> <td>0          </td> <td>0          </td> <td>0.000549602</td> <td>0.000412201</td> <td>0   </td> <td>0      </td> <td>0      </td> <td>0   </td> <td>0   </td> <td>0    </td> <td>0      </td> <td>0   </td> <td>0       </td> <td>0.0001374</td> <td>0.0001374  </td> <td>0     </td> <td>0          </td> <td>0.0001374</td> <td>0.000412201</td> <td>0       </td> <td>0.0001374  </td> <td>0     </td> <td>0          </td> <td>0.0001374</td> <td>0      </td> <td>0   </td> <td>0      </td> <td>0          </td> <td>0.00920583</td> <td>0          </td> <td>0.0001374  </td> <td>0   </td> <td>0          </td> <td>0        </td> <td>0   </td> <td>0          </td> <td>0.0001374  </td> <td>0         </td> <td>0   </td> <td>0    </td> <td>0     </td> <td>0         </td> <td>0        </td> <td>0          </td> <td>0          </td> <td>0   </td> <td>0          </td> <td>0.00425941</td> <td>0.000687002</td> <td>0          </td> <td>0.0001374 </td> <td>0   </td> <td>0    </td> <td>0          </td> <td>0     </td> <td>0.000412201</td> <td>0   </td> <td>0          </td> <td>0          </td> <td>0.000412201</td> <td>0    </td> <td>0.0001374  </td> <td>0    </td> <td>0.00192361 </td> <td>0   </td> <td>0        </td> <td>0      </td> <td>0    </td> <td>0     </td> <td>0       </td> <td>0     </td> <td>0     </td> <td>0   </td> <td>0   </td> <td>0   </td> <td>0          </td> <td>0.000412201</td> <td>0   </td> <td>0      </td> <td>0     </td> <td>0       </td> <td>0        </td> <td>0    </td> <td>0.0012366 </td> <td>0          </td> <td>0    </td> <td>0    </td> <td>0   </td> <td>0   </td> <td>0    </td> <td>0          </td> <td>0          </td> <td>0          </td> <td>0.0001374</td> <td>0    </td> <td>0          </td> <td>0         </td> <td>0.0015114  </td> <td>0          </td> <td>0       </td> <td>0.00329761</td> <td>0   </td> <td>0          </td> <td>0.00796922</td> <td>0   </td> <td>0        </td> <td>0          </td> <td>0   </td> <td>0   </td> <td>0.000961803</td> <td>0          </td> <td>0     </td> <td>0    </td> <td>0      </td> <td>0.0001374</td> <td>0   </td> <td>0.000274801</td> <td>0     </td> <td>0.000274801</td> <td>0       </td> <td>0.0001374  </td> <td>0.0001374</td> <td>0.000274801</td> <td>0   </td> <td>0     </td> <td>0.0001374  </td> <td>0     </td> <td>0    </td> <td>0.000274801</td> <td>0   </td> <td>0          </td> <td>0.000412201</td> <td>0        </td> <td>0   </td> <td>0   </td> <td>0          </td> <td>0          </td> <td>0     </td> <td>0.000274801</td> <td>0   </td> <td>0   </td> <td>0          </td> <td>0    </td> <td>0.0001374</td> <td>0    </td> <td>0     </td> <td>0   </td> <td>0    </td> <td>0          </td> <td>0          </td> <td>0     </td> <td>0       </td> <td>0   </td> <td>0     </td> <td>0   </td> <td>0   </td> <td>0   </td> <td>0    </td> <td>0          </td> <td>0    </td> <td>0   </td> <td>0   </td> <td>0.000687002</td> <td>0    </td> <td>0   </td> <td>0   </td> <td>0       </td> <td>0   </td> <td>0          </td> <td>0     </td> <td>0   </td> <td>0   </td> <td>0          </td> <td>0     </td> <td>0.000274801</td> <td>0     </td> <td>0          </td> <td>0.001374</td> <td>0   </td> <td>0   </td> <td>0          </td> <td>0.0012366  </td> <td>0     </td> <td>0          </td> <td>0    </td> <td>0      </td> <td>0   </td> <td>0      </td> <td>0          </td> <td>0    </td> <td>0   </td> <td>0    </td> <td>0.0001374  </td> <td>0         </td> <td>0.0001374  </td> <td>0   </td> <td>0   </td> <td>0          </td> <td>0       </td> <td>0          </td> <td>0    </td> <td>0    </td> <td>0    </td> <td>0    </td> <td>0    </td> <td>0.000274801</td> <td>0        </td> <td>0   </td> <td>0.00700742</td> <td>0     </td> <td>0   </td> <td>0      </td> <td>0     </td> <td>0          </td> <td>0       </td> <td>0          </td> <td>0          </td> <td>0.0001374  </td> <td>0    </td> <td>0   </td> <td>0     </td> <td>0      </td> <td>0     </td> <td>0   </td> <td>0     </td> <td>0          </td> <td>0        </td> <td>0       </td> <td>0     </td> <td>0     </td> <td>0     </td> <td>0.000274801</td> <td>0    </td> <td>0    </td> <td>0     </td> <td>0     </td> <td>0.001374   </td> <td>0    </td> <td>0.000687002</td> <td>0.000412201</td> <td>0     </td> <td>0       </td> <td>0          </td> <td>0     </td> <td>0.00398461</td> <td>0.0001374</td> <td>0    </td> <td>0          </td> <td>0   </td> <td>0       </td> <td>0     </td> <td>0      </td> <td>0        </td> <td>0       </td> <td>0          </td> <td>0.0012366  </td> <td>0   </td> <td>0          </td> <td>0    </td> <td>0          </td> <td>0    </td> <td>0.0001374  </td> <td>0     </td> <td>0     </td> <td>0          </td> <td>0     </td> <td>0   </td> <td>0.0001374</td> <td>0   </td> <td>0          </td> <td>0     </td> <td>0          </td> <td>0        </td> <td>0.0001374</td> <td>0    </td> <td>0            </td> <td>0    </td> <td>0       </td> <td>0.000274801</td> <td>0    </td> <td>0   </td> <td>0          </td> <td>0   </td> <td>0.000274801</td> <td>0          </td> <td>0.000274801</td> <td>0   </td> <td>0       </td> <td>0    </td> <td>0    </td> <td>0.0001374  </td> <td>0          </td> <td>0          </td> <td>0   </td> <td>0          </td> <td>0          </td> <td>0      </td> <td>0   </td> <td>0          </td> <td>0.0012366  </td> <td>0     </td> <td>0     </td> <td>0     </td> <td>0.00178621 </td> <td>0      </td> <td>0       </td> <td>0     </td> <td>0    </td> <td>0   </td> <td>0    </td> <td>0   </td> <td>0        </td> <td>0        </td> <td>0          </td> <td>0          </td> <td>0      </td> <td>0         </td> <td>0.000274801</td> <td>0     </td> <td>0.0001374  </td> <td>0.0001374</td> <td>0.00838142</td> <td>0          </td> <td>0          </td> <td>0      </td> <td>0       </td> <td>0.001374   </td> <td>0    </td> <td>0    </td> <td>0          </td> <td>0.000824402</td> <td>0      </td> <td>0.0001374</td> <td>0          </td> <td>0          </td> <td>0.000274801</td> <td>0    </td> <td>0   </td> <td>0   </td> <td>0     </td> <td>0       </td> <td>0          </td> <td>0    </td> <td>0   </td> <td>0          </td> <td>0     </td> <td>0         </td> <td>0     </td> <td>0    </td> <td>0.00329761</td> <td>0.0001374  </td> <td>0   </td> <td>0       </td> <td>0      </td> <td>0          </td> <td>0.000274801</td> <td>0    </td> <td>0      </td> <td>0.0001374</td> <td>0    </td> <td>0      </td> <td>0.000961803</td> <td>0       </td> <td>0   </td> <td>0          </td> <td>0     </td> <td>0     </td> <td>0.000549602</td> <td>0.0001374</td> <td>0      </td> <td>0   </td> <td>0          </td> <td>0.000274801</td> <td>0     </td> <td>0.000274801</td> <td>0.0001374</td> <td>0       </td> <td>0    </td> <td>0   </td> <td>0   </td> <td>0.0001374 </td> <td>0          </td> <td>0.0001374  </td> <td>0      </td> <td>0.0001374  </td> <td>0      </td> <td>0    </td> <td>0          </td> <td>0      </td> <td>0   </td> <td>0.0001374  </td> <td>0        </td> <td>0       </td> <td>0          </td> <td>0    </td> <td>0       </td> <td>0          </td> <td>0.000274801</td> <td>0      </td> <td>0    </td> <td>0      </td> <td>0.0001374  </td> <td>0    </td> <td>0          </td> <td>0.0001374  </td> <td>0.000549602</td> <td>0.0001374  </td> <td>0      </td> <td>0    </td> <td>0          </td> <td>0.0001374  </td> <td>0   </td> <td>0          </td> <td>0    </td> <td>0    </td> <td>0      </td> <td>0    </td> <td>0    </td> <td>0.000549602</td> <td>0.000274801</td> <td>0    </td> <td>0     </td> <td>0    </td> <td>0    </td> <td>0   </td> <td>0       </td> <td>0     </td> <td>0.00178621 </td> <td>0    </td> <td>0    </td> <td>0    </td> <td>0        </td> <td>0     </td> <td>0    </td> <td>0     </td> <td>0      </td> <td>0   </td> <td>0.00563342</td> <td>0     </td> <td>0.0012366  </td> <td>0.0001374</td> <td>0     </td> <td>0      </td> <td>0          </td> <td>0      </td> <td>0     </td> <td>0     </td> <td>0          </td> <td>0.000412201</td> <td>0    </td> <td>0        </td> <td>0.000274801</td> <td>0.0001374  </td> <td>0   </td> <td>0      </td> <td>0     </td> <td>0          </td> <td>0.00206101</td> <td>0        </td> <td>0      </td> <td>0.000274801</td> <td>0      </td> <td>0   </td> <td>0   </td> <td>0.000412201</td> <td>0.0001374  </td> <td>0    </td> <td>0.000412201</td> <td>0      </td> <td>0     </td> <td>0     </td> <td>0.00357241</td> <td>0    </td> <td>0          </td> <td>0.000274801</td> <td>0    </td> <td>0     </td> <td>0    </td> <td>0          </td> <td>0       </td> <td>0          </td> <td>0       </td> <td>0          </td> <td>0          </td> <td>0   </td> <td>0.0153888</td> <td>0    </td> <td>0          </td> <td>0          </td> <td>0          </td> <td>0     </td> <td>0       </td> <td>0          </td> <td>0    </td> <td>0   </td> <td>0.0001374  </td> <td>0          </td> <td>0     </td> <td>0     </td> <td>0     </td> <td>0     </td> <td>0     </td> <td>0.0001374</td> <td>0      </td> <td>0     </td> <td>0.000549602</td> <td>0     </td> <td>0        </td> <td>0   </td> <td>0        </td> <td>0     </td> <td>0.000824402</td> <td>0.0001374  </td> <td>0     </td> <td>0         </td> <td>0     </td> <td>0          </td> <td>0          </td> <td>0      </td> <td>0      </td> <td>0          </td> <td>0     </td> <td>0.0001374  </td> <td>0.001374   </td> <td>0         </td> <td>0.000274801</td> <td>0   </td> <td>0     </td> <td>0    </td> <td>0          </td> <td>0   </td> <td>0      </td> <td>0     </td> <td>0    </td> <td>0   </td> <td>0       </td> <td>0   </td> <td>0   </td> <td>0       </td> <td>0     </td> <td>0     </td> <td>0   </td> <td>0     </td> <td>0      </td> <td>0   </td> <td>0.000274801</td> <td>0.000274801</td> <td>0   </td> <td>0.00453421</td> <td>0   </td> <td>0    </td> <td>0          </td> <td>0          </td> <td>0   </td> <td>0     </td> <td>0.0001374  </td> <td>0          </td> <td>0.000274801</td> <td>0    </td> <td>0    </td> <td>0          </td> <td>0   </td> <td>0          </td> <td>0          </td> <td>0.0001374  </td> <td>0       </td> <td>0       </td> <td>0          </td> <td>0      </td> <td>0          </td> <td>0.0015114 </td> <td>0          </td> <td>0   </td> <td>0   </td> <td>0    </td> <td>0.0001374</td> <td>0.0001374</td> <td>0   </td> <td>0   </td> <td>0          </td> <td>0      </td> <td>0          </td> <td>0          </td> <td>0          </td> <td>0          </td> <td>0    </td> <td>0   </td> <td>0.0001374  </td> <td>0      </td> <td>0    </td> <td>0          </td> <td>0   </td> <td>0   </td> <td>0          </td> <td>0     </td> <td>0     </td> <td>0          </td> <td>0   </td> <td>0        </td> <td>0.000412201</td> <td>0      </td> <td>0   </td> <td>0          </td> <td>0    </td> <td>0    </td> <td>0     </td> <td>0     </td> <td>0      </td> <td>0    </td> <td>0      </td> <td>0     </td> <td>0.0001374  </td> <td>0.000687002</td> <td>0.0001374</td> <td>0     </td> <td>0.0001374</td> <td>0         </td> <td>0      </td> <td>0          </td> <td>0          </td> <td>0    </td> <td>0          </td> <td>0   </td> <td>0          </td> <td>0    </td> <td>0.000824402</td> <td>0          </td> <td>0     </td> <td>0      </td> <td>0.0001374  </td> <td>0   </td> <td>0.000961803</td> <td>0    </td> <td>0          </td> <td>0      </td> <td>0     </td> <td>0          </td> <td>0      </td> <td>0     </td> <td>0     </td> <td>0       </td> <td>0   </td> <td>0       </td> <td>0   </td> <td>0.000274801</td> <td>0      </td> <td>0.000412201</td> <td>0   </td> <td>0   </td> <td>0      </td> <td>0     </td> <td>0          </td> <td>0   </td> <td>0       </td> <td>0         </td> <td>0.000824402</td> <td>0     </td> <td>0    </td> <td>0          </td> <td>0   </td> <td>0    </td> <td>0      </td> <td>0.0001374  </td> <td>0     </td> <td>0          </td> <td>0          </td> <td>0.0010992 </td> <td>0          </td> <td>0.0001374  </td> <td>0   </td> <td>0   </td> <td>0   </td> <td>0   </td> <td>0      </td> <td>0      </td> <td>0.000687002</td> <td>0       </td> <td>0    </td> <td>0   </td> <td>0        </td> <td>0.000274801</td> <td>0.0001374</td> <td>0        </td> <td>0    </td> <td>0   </td> <td>0    </td> <td>0          </td> <td>0   </td> <td>0          </td> <td>0      </td> <td>0.000412201</td> <td>0    </td> <td>0    </td> <td>0.0001374</td> <td>0    </td> <td>0.000549602</td> <td>0.000412201</td> <td>0      </td> <td>0.0001374</td> <td>0          </td> <td>0    </td> <td>0    </td> <td>0   </td> <td>0   </td> <td>0    </td> <td>0     </td> <td>0     </td> <td>0.0010992  </td> <td>0   </td> <td>0    </td> <td>0      </td> <td>0   </td> <td>0    </td> <td>0        </td> <td>0     </td> <td>0    </td> <td>0    </td> <td>0    </td> <td>0          </td> <td>0          </td> <td>0    </td> <td>0   </td> <td>0    </td> <td>0   </td> <td>0          </td> <td>0     </td> <td>0         </td> <td>0.0001374  </td> <td>0          </td> <td>0.001374</td> <td>0      </td> <td>0.0001374  </td> <td>0       </td> <td>0    </td> <td>0   </td> <td>0      </td> <td>0.000274801</td> <td>0   </td> <td>0     </td> <td>0   </td> <td>0     </td> <td>0   </td> <td>0     </td> <td>0     </td> <td>0    </td> <td>0   </td> <td>0       </td> <td>0          </td> <td>0          </td> <td>0     </td> <td>0    </td> <td>0         </td> <td>0.0001374</td> <td>0         </td> <td>0          </td> <td>0     </td> <td>0   </td> <td>0   </td> <td>0          </td> <td>0       </td> <td>0    </td> <td>0          </td> <td>0   </td> <td>0          </td> <td>0     </td> <td>0.00632042</td> <td>0.0001374</td> <td>0      </td> <td>0      </td> <td>0      </td> <td>0     </td> <td>0.000412201</td> <td>0.0001374  </td> <td>0      </td> <td>0          </td> <td>0        </td> <td>0      </td> <td>0   </td> <td>0     </td> <td>0.000274801</td> <td>0   </td> <td>0     </td> <td>0.0015114  </td> <td>0          </td> <td>0     </td> <td>0          </td> <td>0   </td> <td>0   </td> <td>0.000549602</td> <td>0   </td> <td>0     </td> <td>0   </td> <td>0.0001374  </td> <td>0          </td> <td>0       </td> <td>0      </td> <td>0     </td> <td>0     </td> <td>0.0001374</td> <td>0     </td> <td>0    </td> <td>0     </td> <td>0.000824402</td> <td>0   </td> <td>0     </td> <td>0          </td> <td>0.0001374</td> <td>0         </td> <td>0    </td> <td>0          </td> <td>0.0001374</td> <td>0   </td> <td>0          </td> <td>0    </td> <td>0.000824402</td> <td>0      </td> <td>0          </td> <td>0          </td> <td>0     </td> <td>0          </td> <td>0    </td> <td>0      </td> <td>0        </td> <td>0          </td> <td>0.0001374</td> <td>0    </td> <td>0    </td> <td>0   </td> <td>0         </td> <td>0   </td> <td>0.000549602</td> <td>0.0001374  </td> <td>0          </td> <td>0          </td> <td>0.000274801</td> <td>0        </td> <td>0   </td> <td>0   </td> <td>0       </td> <td>0          </td> <td>0     </td> <td>0          </td> <td>0          </td> <td>0      </td> <td>0.0001374  </td> <td>0          </td> <td>0     </td> <td>0    </td> <td>0      </td> <td>0     </td> <td>0.000687002</td> <td>0     </td> <td>0   </td> <td>0          </td> <td>0   </td> <td>0.0001374  </td> <td>0      </td> <td>0   </td> <td>0          </td> <td>0    </td> <td>0   </td> <td>0   </td> <td>0          </td> <td>0     </td> <td>0    </td> <td>0     </td> <td>0.0001374</td> <td>0   </td> <td>0     </td> <td>0          </td> <td>0    </td> <td>0      </td> <td>0          </td> <td>0         </td> <td>0          </td> <td>0    </td> <td>0          </td> <td>0   </td> <td>0          </td> <td>0      </td> <td>0.0010992 </td> <td>0        </td> <td>0   </td> <td>0      </td> <td>0.000687002</td> <td>0    </td> <td>0.0001374  </td> <td>0.0001374</td> <td>0.000412201</td> <td>0   </td> <td>0   </td> <td>0.000412201</td> <td>0   </td> <td>0   </td> <td>0      </td> <td>0     </td> <td>0          </td> <td>0    </td> <td>0.000549602</td> <td>0   </td> <td>0   </td> <td>0.00467161</td> <td>0     </td> <td>0   </td> <td>0          </td> <td>0.0001374</td> <td>0    </td> <td>0    </td> <td>0   </td> <td>0    </td> <td>0          </td> <td>0          </td> <td>0   </td> <td>0    </td> <td>0.0001374  </td> <td>0          </td> <td>0      </td> <td>0.0001374</td> <td>0          </td> <td>0           </td> <td>0          </td> <td>0     </td> <td>0          </td> <td>0.0012366  </td> <td>0      </td> <td>0      </td> <td>0    </td> <td>0   </td> <td>0   </td> <td>0          </td> <td>0    </td> <td>0      </td> <td>0.0001374</td> <td>0      </td> <td>0.000961803</td> <td>0   </td> <td>0    </td> <td>0       </td> <td>0   </td> <td>0    </td> <td>0          </td> <td>0       </td> <td>0.0001374</td> <td>0          </td> <td>0          </td> <td>0          </td> <td>0          </td> <td>0    </td> <td>0     </td> <td>0    </td> <td>0    </td> <td>0     </td> <td>0.0001374  </td> <td>0     </td> <td>0     </td> <td>0    </td> <td>0    </td> <td>0    </td> <td>0     </td> <td>0.0001374  </td> <td>0.0001374  </td> <td>0    </td> <td>0      </td> <td>0.0001374</td> <td>0          </td> <td>0   </td> <td>0   </td> <td>0    </td> <td>0    </td> <td>0     </td> <td>0    </td> <td>0.0001374  </td> <td>0     </td> <td>0     </td> <td>0          </td> <td>0          </td> <td>0          </td> <td>0   </td> <td>0          </td> <td>0          </td> <td>0    </td> <td>0.014427  </td> <td>0    </td> <td>0     </td> <td>0      </td> <td>0     </td> <td>0    </td> <td>0   </td> <td>0   </td> <td>0     </td> <td>0          </td> <td>0   </td> <td>0         </td> <td>0          </td> <td>0          </td> <td>0    </td> <td>0   </td> <td>0       </td> <td>0   </td> <td>0   </td> <td>0.0001374</td> <td>0          </td> <td>0          </td> <td>0        </td> <td>0   </td> <td>0       </td> <td>0      </td> <td>0   </td> <td>0          </td> <td>0          </td> <td>0.000412201</td> <td>0          </td> <td>0    </td> <td>0.0001374 </td> <td>0     </td> <td>0     </td> <td>0.000274801</td> <td>0     </td> <td>0     </td> <td>0          </td> <td>0.00206101 </td> <td>0   </td> <td>0.000549602</td> <td>0    </td> <td>0.0001374  </td> <td>0          </td> <td>0   </td> <td>0    </td> <td>0   </td> <td>0        </td> <td>0       </td> <td>0     </td> <td>0.000687002</td> <td>0    </td> <td>0.000412201</td> <td>0.000412201</td> <td>0         </td> <td>0   </td> <td>0     </td> <td>0   </td> <td>0   </td> <td>0          </td> <td>0      </td> <td>0.0001374</td> <td>0     </td> <td>0      </td> <td>0    </td> <td>0          </td> <td>0    </td> <td>0       </td> <td>0     </td> <td>0       </td> <td>0.000412201</td> <td>0    </td> <td>0.0001374  </td> <td>0   </td> <td>0          </td> <td>0.0001374</td> <td>0   </td> <td>0.0001374  </td> <td>0    </td> <td>0.0001374  </td> <td>0     </td> <td>0   </td> <td>0.000274801</td> <td>0     </td> <td>0          </td> <td>0          </td> <td>0    </td> <td>0        </td> <td>0   </td> <td>0          </td> <td>0          </td> <td>0.0001374</td> <td>0   </td> <td>0   </td> <td>0          </td> <td>0          </td> <td>0    </td> <td>0     </td> <td>0       </td> <td>0    </td> <td>0    </td> <td>0      </td> <td>0   </td> <td>0     </td> <td>0     </td> <td>0          </td> <td>0   </td> <td>0   </td> <td>0   </td> <td>0.00329761</td> <td>0    </td> <td>0      </td> <td>0          </td> <td>0    </td> <td>0     </td> <td>0.000412201</td> <td>0     </td> <td>0.000274801</td> <td>0.000961803</td> <td>0     </td> <td>0          </td> <td>0     </td> <td>0     </td> <td>0      </td> <td>0.0001374</td> <td>0          </td> <td>0    </td> <td>0    </td> <td>0      </td> <td>0       </td> <td>0    </td> <td>0   </td> <td>0     </td> <td>0.000412201</td> <td>0      </td> <td>0   </td> <td>0     </td> <td>0    </td> <td>0.000274801</td> <td>0          </td> <td>0.000274801</td> <td>0.000274801</td> <td>0.0001374  </td> <td>0          </td> <td>0          </td> <td>0      </td> <td>0   </td> <td>0          </td> <td>0   </td> <td>0   </td> <td>0      </td> <td>0     </td> <td>0      </td> <td>0          </td> <td>0.00219841 </td> <td>0.0001374</td> <td>0          </td> <td>0          </td> <td>0          </td> <td>0.000412201</td> <td>0     </td> <td>0     </td> <td>0          </td> <td>0     </td> <td>0   </td> <td>0    </td> <td>0.0001374  </td> <td>0    </td> <td>0.0001374</td> <td>0.0001374  </td> <td>0      </td> <td>0     </td> <td>0   </td> <td>0    </td> <td>0   </td> <td>0      </td> <td>0.0001374  </td> <td>0      </td> <td>0     </td> <td>0   </td> <td>0         </td> <td>0      </td> <td>0.000274801</td> <td>0          </td> <td>0      </td> <td>0          </td> <td>0    </td> <td>0     </td> <td>0      </td> <td>0       </td> <td>0          </td> <td>0    </td> <td>0      </td> <td>0       </td> <td>0         </td> <td>0     </td> <td>0     </td> <td>0      </td> <td>0.000274801</td> <td>0    </td> <td>0     </td> <td>0          </td> <td>0          </td> <td>0    </td> <td>0       </td> <td>0    </td> <td>0.000687002</td> <td>0.000274801</td> <td>0      </td> <td>0    </td> <td>0    </td> <td>0.0001374  </td> <td>0          </td> <td>0.000687002</td> <td>0.0001374  </td> <td>0     </td> <td>0        </td> <td>0    </td> <td>0          </td> <td>0    </td> <td>0    </td> <td>0   </td> <td>0     </td> <td>0   </td> <td>0          </td> <td>0   </td> <td>0.0001374  </td> <td>0         </td> <td>0   </td> <td>0          </td> <td>0    </td> <td>0          </td> <td>0.000824402</td> <td>0.000274801</td> <td>0.0001374  </td> <td>0   </td> <td>0          </td> <td>0     </td> <td>0   </td> <td>0    </td> <td>0   </td> <td>0      </td> <td>0          </td> <td>0      </td> <td>0      </td> <td>0    </td> <td>0    </td> <td>0          </td> <td>0    </td> <td>0   </td> <td>0.0001374  </td> <td>0    </td> <td>0      </td> <td>0   </td> <td>0    </td> <td>0    </td> <td>0.000549602</td> <td>0.0001374</td> <td>0.000687002</td> <td>0   </td> <td>0          </td> <td>0      </td> <td>0   </td> <td>0      </td> <td>0     </td> <td>0   </td> <td>0     </td> <td>0     </td> <td>0    </td> <td>0   </td> <td>0.000687002</td> <td>0     </td> <td>0      </td> <td>0       </td> <td>0   </td> <td>0     </td> <td>0      </td> <td>0.0010992  </td> <td>0.0001374</td> <td>0          </td> <td>0          </td> <td>0.000412201</td> <td>0.000412201</td> <td>0    </td> <td>0      </td> <td>0          </td> <td>0          </td> <td>0        </td> <td>0     </td> <td>0          </td> <td>0   </td> <td>0   </td> <td>0          </td> <td>0    </td> <td>0        </td> <td>0          </td> <td>0   </td> <td>0      </td> <td>0   </td> <td>0    </td> <td>0    </td> <td>0     </td> <td>0     </td> <td>0.0001374  </td> <td>0       </td> <td>0    </td> <td>0          </td> <td>0     </td> <td>0.000412201</td> <td>0    </td> <td>0   </td> <td>0   </td> <td>0.000274801</td> <td>0    </td> <td>0.000274801</td> <td>0   </td> <td>0     </td> <td>0.000274801</td> <td>0          </td> <td>0     </td> <td>0       </td> <td>0          </td> <td>0     </td> <td>0.0001374  </td> <td>0    </td> <td>0          </td> <td>0     </td> <td>0    </td> <td>0        </td> <td>0    </td> <td>0    </td> <td>0          </td> <td>0   </td> <td>0   </td> <td>0    </td> <td>0   </td> <td>0.000549602</td> <td>0    </td> <td>0.0372355</td> <td>0     </td> <td>0.000274801</td> <td>0.0001374  </td> <td>0      </td> <td>0    </td> <td>0          </td> <td>0      </td> <td>0   </td> <td>0    </td> <td>0   </td> <td>0.0001374</td> <td>0    </td> <td>0     </td> <td>0.0001374</td> <td>0          </td> <td>0      </td> <td>0   </td> <td>0     </td> <td>0    </td> <td>0      </td> <td>0     </td> <td>0      </td> <td>0          </td> <td>0    </td> <td>0          </td> <td>0.0001374  </td> <td>0     </td> <td>0          </td> <td>0   </td> <td>0    </td> <td>0      </td> <td>0.0001374  </td> <td>0      </td> <td>0   </td> <td>0          </td> <td>0   </td> <td>0     </td> <td>0          </td> <td>0   </td> <td>0        </td> <td>0          </td> <td>0    </td> <td>0          </td> <td>0.0001374  </td> <td>0      </td> <td>0.000274801</td> <td>0          </td> <td>0          </td> <td>0.00206101</td> <td>0   </td> <td>0          </td> <td>0     </td> <td>0.000412201</td> <td>0      </td> <td>0    </td> <td>0   </td> <td>0.0001374</td> <td>0       </td> <td>0          </td> <td>0    </td> <td>0     </td> <td>0   </td> <td>0.0119538 </td> <td>0          </td> <td>0         </td> <td>0.0001374  </td> <td>0      </td> <td>0       </td> <td>0          </td> <td>0.0001374</td> <td>0     </td> <td>0     </td> <td>0      </td> <td>0.0001374</td> <td>0         </td> <td>0     </td> <td>0.0016488</td> <td>0   </td> <td>0.0001374</td> <td>0     </td> <td>0.0001374</td> <td>0      </td> <td>0     </td> <td>0   </td> <td>0.000549602</td> <td>0          </td> <td>0          </td> <td>0   </td> <td>0          </td> <td>0        </td> <td>0    </td> <td>0       </td> <td>0.0010992  </td> <td>0          </td> <td>0          </td> <td>0          </td> <td>0      </td> <td>0.000549602</td> <td>0   </td> <td>0     </td> <td>0    </td> <td>0        </td> <td>0     </td> <td>0     </td> <td>0     </td> <td>0      </td> <td>0          </td> <td>0     </td> <td>0.0001374</td> <td>0     </td> <td>0      </td> <td>0     </td> <td>0.0001374</td> <td>0.0001374  </td> <td>0.000412201</td> <td>0     </td> <td>0   </td> <td>0     </td> <td>0   </td> <td>0.000961803</td> <td>0     </td> <td>0          </td> <td>0   </td> <td>0    </td> <td>0.000274801</td> <td>0.000549602</td> <td>0    </td> <td>0          </td> <td>0          </td> <td>0   </td> <td>0   </td> <td>0.0001374</td> <td>0.0010992</td> <td>0          </td> <td>0      </td> <td>0.000824402</td> <td>0.0001374  </td> <td>0.0001374</td> <td>0    </td> <td>0      </td> <td>0.0001374  </td> <td>0          </td> <td>0       </td> <td>0          </td> <td>0    </td> <td>0      </td> <td>0          </td> <td>0   </td> <td>0     </td> <td>0     </td> <td>0          </td> <td>0          </td> <td>0    </td> <td>0       </td> <td>0          </td> <td>0      </td> <td>0    </td> <td>0          </td> <td>0   </td> <td>0     </td> <td>0    </td> <td>0        </td> <td>0   </td> <td>0   </td> <td>0   </td> <td>0      </td> <td>0    </td> <td>0        </td> <td>0      </td> <td>0          </td> <td>0.00590822</td> <td>0     </td> <td>0   </td> <td>0      </td> <td>0.00261061</td> <td>0     </td> <td>0          </td> <td>0     </td> <td>0    </td> <td>0    </td> <td>0   </td> <td>0    </td> <td>0      </td> <td>0   </td> <td>0      </td> <td>0          </td> <td>0     </td> <td>0    </td> <td>0.0001374</td> <td>0       </td> <td>0      </td> <td>0    </td> <td>0   </td> <td>0.00178621</td> <td>0          </td> <td>0          </td> <td>0    </td> <td>0    </td> <td>0          </td> <td>0          </td> <td>0          </td> <td>0      </td> <td>0.0001374</td> <td>0     </td> <td>0   </td> <td>0   </td> <td>0    </td> <td>0          </td> <td>0.000824402</td> <td>0.000274801</td> <td>0.000961803</td> <td>0.00687002</td> <td>0    </td> <td>0    </td> <td>0     </td> <td>0          </td> <td>0.0001374 </td> <td>0    </td> <td>0          </td> <td>0      </td> <td>0     </td> <td>0      </td> <td>0    </td> <td>0   </td> <td>0    </td> <td>0          </td> <td>0       </td> <td>0      </td> <td>0     </td> <td>0          </td> <td>0   </td> <td>0          </td> <td>0          </td> <td>0   </td> <td>0       </td> <td>0   </td> <td>0   </td> <td>0     </td> <td>0    </td> <td>0      </td> <td>0          </td> <td>0.0001374  </td> <td>0    </td> <td>0        </td> <td>0.0001374</td> <td>0      </td> <td>0     </td> <td>0          </td> <td>0    </td> <td>0.0001374</td> <td>0          </td> <td>0.000549602</td> <td>0    </td> <td>0.0010992  </td> <td>0     </td> <td>0          </td> <td>0.0001374</td> <td>0      </td> <td>0          </td> <td>0   </td> <td>0    </td> <td>0    </td> <td>0   </td> <td>0   </td> <td>0   </td> <td>0   </td> <td>0.000274801</td> <td>0    </td> <td>0    </td> <td>0      </td> <td>0     </td> <td>0.000412201</td> <td>0   </td> <td>0.000412201</td> <td>0    </td> <td>0      </td> <td>0         </td> <td>0.0001374  </td> <td>0.0001374</td> <td>0          </td> <td>0        </td> <td>0   </td> <td>0    </td> <td>0   </td> <td>0          </td> <td>0.000274801</td> <td>0.00329761</td> <td>0          </td> <td>0   </td> <td>0    </td> <td>0.00838142</td> <td>0   </td> <td>0      </td> <td>0   </td> <td>0   </td> <td>0.000824402</td> <td>0.0001374  </td> <td>0   </td> <td>0   </td> <td>0.000274801</td> <td>0    </td> <td>0.000274801</td> <td>0     </td> <td>0          </td> <td>0     </td> <td>0          </td> <td>0     </td> <td>0.0001374</td> <td>0          </td> <td>0          </td> <td>0          </td> <td>0      </td> <td>0          </td> <td>0   </td> <td>0     </td> <td>0    </td> <td>0   </td> <td>0.0001374</td> <td>0.000274801</td> <td>0.0001374</td> <td>0     </td> <td>0.000412201</td> <td>0     </td> <td>0     </td> <td>0     </td> <td>0    </td> <td>0.0016488 </td> <td>0       </td> <td>0          </td> <td>0.000274801</td> <td>0.0012366 </td> <td>0   </td> <td>0     </td> <td>0       </td> <td>0.000687002</td> <td>0   </td> <td>0   </td> <td>0     </td> <td>0.0001374  </td> <td>0     </td> <td>0    </td> <td>0.0001374</td> <td>0    </td> <td>0          </td> <td>0     </td> <td>0   </td> <td>0   </td> <td>0          </td> <td>0    </td> <td>0       </td> <td>0          </td> <td>0      </td> <td>0.000549602</td> <td>0      </td> <td>0.000412201</td> <td>0    </td> <td>0          </td> <td>0   </td> <td>0   </td> <td>0   </td> <td>0          </td> <td>0          </td> <td>0          </td> <td>0.000274801</td> <td>0     </td> <td>0     </td> <td>0    </td> <td>0.000961803</td> <td>0.0001374</td> <td>0.0001374  </td> <td>0.000961803</td> <td>0    </td> <td>0.0001374</td> <td>0.0001374</td> <td>0    </td> <td>0   </td> <td>0     </td> <td>0.00384721</td> <td>0          </td> <td>0   </td> <td>0       </td> <td>0          </td> <td>0.0001374  </td> <td>0     </td> <td>0    </td> <td>0    </td> <td>0       </td> <td>0   </td> <td>0          </td> <td>0    </td> <td>0   </td> <td>0    </td> <td>0         </td> <td>0   </td> <td>0    </td> <td>0   </td> <td>0     </td> <td>0   </td> <td>0          </td> <td>0   </td> <td>0          </td> <td>0    </td> <td>0    </td> <td>0     </td> <td>0      </td> <td>0.00247321</td> <td>0    </td> <td>0   </td> <td>0    </td> <td>0.001374   </td> <td>0.0001374</td> <td>0         </td> <td>0    </td> <td>0          </td> <td>0    </td> <td>0    </td> <td>0.0001374  </td> <td>0     </td> <td>0       </td> <td>0          </td> <td>0      </td> <td>0      </td> <td>0   </td> <td>0      </td> <td>0          </td> <td>0   </td> <td>0   </td> <td>0       </td> <td>0    </td> <td>0   </td> <td>0.0001374</td> <td>0          </td> <td>0.0001374  </td> <td>0.000274801</td> <td>0.0001374  </td> <td>0          </td> <td>0      </td> <td>0   </td> <td>0    </td> <td>0    </td> <td>0    </td> <td>0   </td> <td>0.0001374</td> <td>0     </td> <td>0          </td> <td>0.000687002</td> <td>0   </td> <td>0   </td> <td>0          </td> <td>0          </td> <td>0          </td> <td>0      </td> <td>0   </td> <td>0     </td> <td>0          </td> <td>0   </td> <td>0.0001374</td> <td>0    </td> <td>0      </td> <td>0.000961803</td> <td>0   </td> <td>0       </td> <td>0   </td> <td>0     </td> <td>0   </td> <td>0          </td> <td>0   </td> <td>0          </td> <td>0.0001374  </td> <td>0          </td> <td>0.0012366  </td> <td>0     </td> <td>0    </td> <td>0.0001374</td> <td>0.0001374</td> <td>0    </td> <td>0    </td> <td>0   </td> <td>0.00233581</td> <td>0.000274801</td> <td>0   </td> <td>0          </td> <td>0           </td> <td>0.0001374</td> <td>0.0016488  </td> <td>0    </td> <td>0          </td> <td>0      </td> <td>0     </td> <td>0      </td> <td>0   </td> <td>0       </td> <td>0.0001374</td> <td>0.000274801</td> <td>0       </td> <td>0        </td> <td>0         </td> <td>0      </td> <td>0     </td> <td>0.0001374  </td> <td>0.000412201</td> <td>0     </td> <td>0    </td> <td>0   </td> <td>0   </td> <td>0          </td> <td>0.0001374  </td> <td>0   </td> <td>0.000274801</td> <td>0        </td> <td>0     </td> <td>0     </td> <td>0     </td> <td>0.0001374</td> <td>0     </td> <td>0.000824402</td> <td>0         </td> <td>0          </td> <td>0    </td> <td>0     </td> <td>0          </td> <td>0      </td> <td>0       </td> <td>0   </td> <td>0   </td> <td>0     </td> <td>0       </td> <td>0          </td> <td>0      </td> <td>0     </td> <td>0     </td> <td>0.0001374  </td> <td>0   </td> <td>0   </td> <td>0.00219841 </td> <td>0   </td> <td>0.0001374  </td> <td>0.001374   </td> <td>0        </td> <td>0   </td> <td>0.000274801</td> <td>0.0001374</td> <td>0          </td> <td>0      </td> <td>0          </td> <td>0     </td> <td>0    </td> <td>0          </td> <td>0    </td> <td>0          </td> <td>0          </td> <td>0.000274801</td> <td>0   </td> <td>0   </td> <td>0.0001374  </td> <td>0          </td> <td>0     </td> <td>0          </td> <td>0    </td> <td>0.000274801</td> <td>0.0001374  </td> <td>0    </td> <td>0     </td> <td>0.0001374</td> <td>0   </td> <td>0    </td> <td>0      </td> <td>0.000549602</td> <td>0   </td> <td>0          </td> <td>0      </td> <td>0          </td> <td>0   </td> <td>0.0001374  </td> <td>0    </td> <td>0.0001374  </td> <td>0       </td> <td>0   </td> <td>0     </td> <td>0          </td> <td>0     </td> <td>0          </td> <td>0          </td> <td>0    </td> <td>0     </td> <td>0   </td> <td>0.00343501</td> <td>0.0001374  </td> <td>0    </td> <td>0     </td> <td>0   </td> <td>0          </td> <td>0          </td> <td>0       </td> <td>0.0001374  </td> <td>0.0001374</td> <td>0          </td> <td>0          </td> <td>0   </td> <td>0     </td> <td>0.0001374  </td> <td>0      </td> <td>0     </td> <td>0          </td> <td>0       </td> <td>0          </td> <td>0.000412201</td> <td>0.0001374  </td> <td>0          </td> <td>0    </td> <td>0    </td> <td>0    </td> <td>0    </td> <td>0    </td> <td>0.000549602</td> <td>0   </td> <td>0          </td> <td>0    </td> <td>0          </td> <td>0    </td> <td>0   </td> <td>0.0001374</td> <td>0    </td> <td>0      </td> <td>0     </td> <td>0      </td> <td>0   </td> <td>0          </td> <td>0   </td> <td>0    </td> <td>0   </td> <td>0.0001374</td> <td>0.000274801</td> <td>0      </td> <td>0       </td> <td>0          </td> <td>0          </td> <td>0.0001374  </td> <td>0.000961803</td> <td>0     </td> <td>0     </td> <td>0.0001374  </td> <td>0   </td> <td>0       </td> <td>0    </td> <td>0          </td> <td>0       </td> <td>0     </td> <td>0.0001374  </td> <td>0   </td> <td>0          </td> <td>0.0001374</td> <td>0          </td> <td>0   </td> <td>0          </td> <td>0    </td> <td>0       </td> <td>0     </td> <td>0         </td> <td>0.0001374</td> <td>0   </td> <td>0   </td> <td>0    </td> <td>0   </td> <td>0.000549602</td> <td>0       </td> <td>0    </td> <td>0.00178621</td> <td>0          </td> <td>0.0001374</td> <td>0          </td> <td>0          </td> <td>0.0001374</td> <td>0.000549602</td> <td>0          </td> <td>0         </td> <td>0.000274801</td> <td>0.0001374  </td> <td>0   </td> <td>0          </td> <td>0.000687002</td> <td>0      </td> <td>0       </td> <td>0.0001374  </td> <td>0          </td> <td>0          </td> <td>0           </td> <td>0     </td> <td>0   </td> <td>0          </td> <td>0.0001374</td> <td>0    </td> <td>0.000274801</td> <td>0    </td> <td>0          </td> <td>0          </td> <td>0      </td> <td>0      </td> <td>0   </td> <td>0.0203353</td> <td>0    </td> <td>0    </td> <td>0.0012366  </td> <td>0          </td> <td>0   </td> <td>0.000824402</td> <td>0        </td> <td>0.000412201</td> <td>0      </td> <td>0     </td> <td>0.00425941</td> <td>0      </td> <td>0     </td> <td>0          </td> <td>0    </td> <td>0    </td> <td>0   </td> <td>0          </td> <td>0   </td> <td>0    </td> <td>0    </td> <td>0          </td> <td>0   </td> <td>0.0001374</td> <td>0.000961803</td> <td>0          </td> <td>0      </td> <td>0     </td> <td>0      </td> <td>0.0001374  </td> <td>0.00233581</td> <td>0          </td> <td>0   </td> <td>0     </td> <td>0          </td> <td>0.000274801</td> <td>0    </td> <td>0     </td> <td>0       </td> <td>0      </td> <td>0          </td> <td>0   </td> <td>0    </td> <td>0      </td> <td>0    </td> <td>0          </td> <td>0       </td> <td>0    </td> <td>0   </td> <td>0.000412201</td> <td>0          </td> <td>0.000687002</td> <td>0          </td> <td>0.000274801 </td> <td>0          </td> <td>0    </td> <td>0    </td> <td>0.000961803</td> <td>0   </td> <td>0   </td> <td>0       </td> <td>0     </td> <td>0.0001374</td> <td>0.000274801</td> <td>0    </td> <td>0    </td> <td>0          </td> <td>0    </td> <td>0          </td> <td>0   </td> <td>0      </td> <td>0.000412201</td> <td>0     </td> <td>0    </td> <td>0      </td> <td>0          </td> <td>0       </td> <td>0          </td> <td>0    </td> <td>0    </td> <td>0.000549602</td> <td>0   </td> <td>0    </td> <td>0.000274801</td> <td>0.0001374</td> <td>0    </td> <td>0       </td> <td>0        </td> <td>0.00508381</td> <td>0     </td> <td>0.0001374</td> <td>0        </td> <td>0    </td> <td>0          </td> <td>0.000412201</td> <td>0       </td> <td>0      </td> <td>0     </td> <td>0      </td> <td>0   </td> <td>0     </td> <td>0      </td> <td>0    </td> <td>0    </td> <td>0      </td> <td>0   </td> <td>0    </td> <td>0          </td> <td>0          </td> <td>0         </td> <td>0        </td> <td>0          </td> <td>0     </td> <td>0   </td> <td>0          </td> <td>0          </td> <td>0     </td> <td>0          </td> <td>0.0015114  </td> <td>0.000274801</td> <td>0         </td> <td>0   </td> <td>0         </td> <td>0          </td> <td>0    </td> <td>0   </td> <td>0      </td> <td>0   </td> <td>0.000412201</td> <td>0   </td> <td>0   </td> <td>0       </td> <td>0     </td> <td>0     </td> <td>0   </td> <td>0.000549602</td> <td>0   </td> <td>0    </td> <td>0          </td> <td>0     </td> <td>0.000412201</td> <td>0   </td> <td>0    </td> <td>0          </td> <td>0   </td> <td>0.0001374 </td> <td>0.00261061 </td> <td>0.000274801</td> <td>0     </td> <td>0    </td> <td>0     </td> <td>0   </td> <td>0    </td> <td>0          </td> <td>0    </td> <td>0     </td> <td>0         </td> <td>0   </td> <td>0    </td> <td>0     </td> <td>0.0001374  </td> <td>0    </td> <td>0   </td> <td>0          </td> <td>0.0001374  </td> <td>0.0001374</td> <td>0       </td> <td>0     </td> <td>0   </td> <td>0   </td> <td>0      </td> <td>0          </td> <td>0     </td> <td>0      </td> <td>0     </td> <td>0   </td> <td>0       </td> <td>0          </td> <td>0          </td> <td>0.0001374  </td> <td>0     </td> <td>0          </td> <td>0          </td> <td>0          </td> <td>0    </td> <td>0       </td> <td>0.0016488  </td> <td>0.000274801</td> <td>0      </td> <td>0     </td> <td>0          </td> <td>0        </td> <td>0     </td> <td>0.000824402</td> <td>0     </td> <td>0     </td> <td>0    </td> <td>0      </td> <td>0          </td> <td>0          </td> <td>0   </td> <td>0.000549602</td> <td>0    </td> <td>0   </td> <td>0.000549602</td> <td>0          </td> <td>0          </td> <td>0     </td> <td>0   </td> <td>0.0010992</td> <td>0   </td> <td>0     </td> <td>0   </td> <td>0    </td> <td>0          </td> <td>0          </td> <td>0          </td> <td>0          </td> <td>0      </td> <td>0    </td> <td>0   </td> <td>0     </td> <td>0         </td> <td>0     </td> <td>0.000274801</td> <td>0   </td> <td>0   </td> <td>0   </td> <td>0.0001374  </td> <td>0     </td> <td>0     </td> <td>0   </td> <td>0.000274801</td> <td>0    </td> <td>0     </td> <td>0    </td> <td>0       </td> <td>0      </td> <td>0     </td> <td>0           </td> <td>0.00659522</td> <td>0   </td> <td>0        </td> <td>0   </td> <td>0          </td> <td>0    </td> <td>0     </td> <td>0   </td> <td>0     </td> <td>0      </td> <td>0          </td> <td>0.000549602</td> <td>0          </td> <td>0          </td> <td>0.0001374</td> <td>0.0001374  </td> <td>0   </td> <td>0    </td> <td>0      </td> <td>0        </td> <td>0          </td> <td>0.000274801</td> <td>0    </td> <td>0.0001374  </td> <td>0          </td> <td>0.001374   </td> <td>0     </td> <td>0     </td> <td>0       </td> <td>0.0001374  </td> <td>0.000824402</td> <td>0     </td> <td>0    </td> <td>0          </td> <td>0          </td> <td>0.00288541 </td> <td>0          </td> <td>0   </td> <td>0        </td> <td>0      </td> <td>0          </td> <td>0          </td> <td>0.000274801</td> <td>0      </td> <td>0   </td> <td>0       </td> <td>0     </td> <td>0          </td> <td>0    </td> <td>0          </td> <td>0.0001374</td> <td>0    </td> <td>0          </td> <td>0    </td> <td>0    </td> <td>0   </td> <td>0          </td> <td>0    </td> <td>0      </td> <td>0.000549602</td> <td>0     </td> <td>0     </td> <td>0.0001374  </td> <td>0    </td> <td>0          </td> <td>0       </td> <td>0          </td> <td>0   </td> <td>0.000412201</td> <td>0   </td> <td>0     </td> <td>0     </td> <td>0    </td> <td>0       </td> <td>0.0001374</td> <td>0    </td> <td>0     </td> <td>0.0001374  </td> <td>0          </td> <td>0          </td> <td>0          </td> <td>0    </td> <td>0      </td> <td>0          </td> <td>0    </td> <td>0    </td> <td>0          </td> <td>0    </td> <td>0   </td> <td>0          </td> <td>0    </td> <td>0.0001374</td> <td>0    </td> <td>0       </td> <td>0    </td> <td>0     </td> <td>0          </td> <td>0.0001374  </td> <td>0      </td> <td>0       </td> <td>0          </td> <td>0   </td> <td>0    </td> <td>0      </td> <td>0      </td> <td>0          </td> <td>0.0234955</td> <td>0   </td> <td>0    </td> <td>0.000274801</td> <td>0      </td> <td>0     </td> <td>0   </td> <td>0   </td> <td>0   </td> <td>0          </td> <td>0.000412201</td> <td>0.0001374  </td> <td>0        </td> <td>0    </td> <td>0.000274801</td> <td>0    </td> <td>0      </td> <td>0     </td> <td>0          </td> <td>0     </td> <td>0     </td> <td>0          </td> <td>0     </td> <td>0.0001374  </td> <td>0   </td> <td>0    </td> <td>0.000687002</td> <td>0          </td> <td>0   </td> <td>0    </td> <td>0    </td> <td>0   </td> <td>0     </td> <td>0     </td> <td>0   </td> <td>0.00810662</td> <td>0.000274801</td> <td>0.0012366  </td> <td>0       </td> <td>0          </td> <td>0     </td> <td>0    </td> <td>0.000961803</td> <td>0     </td> <td>0         </td> <td>0     </td> <td>0      </td> <td>0      </td> <td>0          </td> <td>0.000824402</td> <td>0       </td> <td>0.000824402</td> <td>0.0010992  </td> <td>0     </td> <td>0.0452047</td> <td>0      </td> <td>0      </td> <td>0.0015114  </td> <td>0     </td> <td>0    </td> <td>0.0001374  </td> <td>0   </td> <td>0   </td> <td>0       </td> <td>0   </td> <td>0      </td> <td>0          </td> <td>0          </td> <td>0     </td> <td>0    </td> <td>0   </td> <td>0   </td> <td>0          </td> <td>0     </td> <td>0    </td> <td>0     </td> <td>0     </td> <td>0          </td> <td>0   </td> <td>0          </td> <td>0          </td> <td>0.000412201</td> <td>0   </td> <td>0.0001374</td> <td>0      </td> <td>0    </td> <td>0          </td> <td>0        </td> <td>0.000274801</td> <td>0.0001374  </td> <td>0         </td> <td>0.0001374  </td> <td>0     </td> <td>0    </td> <td>0   </td> <td>0          </td> <td>0.0001374</td> <td>0.00370981 </td> <td>0     </td> <td>0          </td> <td>0     </td> <td>0   </td> <td>0   </td> <td>0       </td> <td>0       </td> <td>0   </td> <td>0   </td> <td>0    </td> <td>0   </td> <td>0.000274801</td> <td>0.0001374</td> <td>0   </td> <td>0.0001374</td> <td>0          </td> <td>0.0001374  </td> <td>0          </td> <td>0          </td> <td>0.000274801</td> <td>0   </td> <td>0     </td> <td>0.0001374  </td> <td>0   </td> <td>0    </td> <td>0          </td> <td>0.0001374</td> <td>0.0001374  </td> <td>0.000549602</td> <td>0     </td> <td>0   </td> <td>0      </td> <td>0     </td> <td>0    </td> <td>0    </td> <td>0    </td> <td>0          </td> <td>0     </td> <td>0          </td> <td>0          </td> <td>0          </td> <td>0   </td> <td>0          </td> <td>0   </td> <td>0.0001374</td> <td>0    </td> <td>0      </td> <td>0.000412201</td> <td>0.0001374  </td> <td>0     </td> <td>0      </td> <td>0.000274801</td> <td>0         </td> <td>0   </td> <td>0.00357241 </td> <td>0   </td> <td>0     </td> <td>0.0001374  </td> <td>0    </td> <td>0   </td> <td>0.00288541</td> <td>0          </td> <td>0         </td> <td>0   </td> <td>0   </td> <td>0        </td> <td>0    </td> <td>0   </td> <td>0          </td> <td>0.0001374  </td> <td>0     </td> <td>0   </td> <td>0     </td> <td>0    </td> <td>0       </td> <td>0         </td> <td>0          </td> <td>0.000274801</td> <td>0    </td> <td>0     </td> <td>0    </td> <td>0    </td> <td>0.0001374  </td> <td>0       </td> <td>0    </td> <td>0.000274801</td> <td>0          </td> <td>0          </td> <td>0.0001374  </td> <td>0    </td> <td>0       </td> <td>0          </td> <td>0          </td> <td>0.0012366  </td> <td>0   </td> <td>0.0001374</td> <td>0.0001374  </td> <td>0.000961803</td> <td>0   </td> <td>0   </td> <td>0.000274801</td> <td>0     </td> <td>0      </td> <td>0   </td> <td>0    </td> <td>0   </td> <td>0      </td> <td>0          </td> <td>0.000274801</td> <td>0          </td> <td>0         </td> <td>0.000824402</td> <td>0.0001374</td> <td>0     </td> <td>0    </td> <td>0     </td> <td>0          </td> <td>0    </td> <td>0.0010992  </td> <td>0   </td> <td>0          </td> <td>0       </td> <td>0     </td> <td>0     </td> <td>0     </td> <td>0      </td> <td>0.000412201</td> <td>0          </td> <td>0    </td> <td>0   </td> <td>0     </td> <td>0   </td> <td>0     </td> <td>0   </td> <td>0   </td> <td>0      </td> <td>0       </td> <td>0          </td> <td>0.0001374</td> <td>0      </td> <td>0    </td> <td>0       </td> <td>0    </td> <td>0.000961803</td> <td>0    </td> <td>0          </td> <td>0      </td> <td>0   </td> <td>0          </td> <td>0   </td> <td>0          </td> <td>0   </td> <td>0     </td> <td>0          </td> <td>0.000412201</td> <td>0   </td> <td>0   </td> <td>0      </td> <td>0      </td> <td>0     </td> <td>0.0001374</td> <td>0   </td> <td>0       </td> <td>0     </td> <td>0      </td> <td>0     </td> <td>0.0001374</td> <td>0.0001374</td> <td>0       </td> <td>0     </td> <td>0          </td> <td>0     </td> <td>0   </td> <td>0   </td> <td>0          </td> <td>0     </td> <td>0          </td> <td>0.000274801</td> <td>0          </td> <td>0     </td> <td>0     </td> <td>0     </td> <td>0    </td> <td>0    </td> <td>0     </td> <td>0.0001374  </td> <td>0       </td> <td>0    </td> <td>0          </td> <td>0.000549602</td> <td>0     </td> <td>0     </td> <td>0    </td> <td>0.0001374  </td> <td>0      </td> <td>0       </td> <td>0     </td> <td>0   </td> <td>0     </td> <td>0.00274801 </td> <td>0          </td> <td>0      </td> <td>0      </td> <td>0    </td> <td>0    </td> <td>0.000687002</td> <td>0          </td> <td>0          </td> <td>0   </td> <td>0.000412201</td> <td>0          </td> <td>0    </td> <td>0.000687002</td> <td>0       </td> <td>0     </td> <td>0     </td> <td>0.0012366  </td> <td>0     </td> <td>0          </td> <td>0       </td> <td>0.000412201</td> <td>0     </td> <td>0          </td> <td>0     </td> <td>0.0001374  </td> <td>0          </td> <td>0      </td> <td>0   </td> <td>0      </td> <td>0       </td> <td>0.0001374  </td> <td>0     </td> <td>0   </td> <td>0     </td> <td>0     </td> <td>0          </td> <td>0    </td> <td>0.0001374  </td> <td>0      </td> <td>0          </td> <td>0   </td> <td>0     </td> <td>0       </td> <td>0      </td> <td>0    </td> <td>0.0001374  </td> <td>0.000274801</td> <td>0       </td> <td>0.0001374</td> <td>0     </td> <td>0    </td> <td>0      </td> <td>0.000824402</td> <td>0   </td> <td>0    </td> <td>0   </td> <td>0   </td> <td>0.0001374</td> <td>0    </td> <td>0          </td> <td>0     </td> <td>0      </td> <td>0     </td> <td>0.0111294</td> <td>0.000824402</td> <td>0          </td> <td>0.000274801</td> <td>0          </td> <td>0      </td> <td>0          </td> <td>0    </td> <td>0.000412201</td> <td>0     </td> <td>0      </td> <td>0          </td> <td>0.000824402</td> <td>0.0001374</td> <td>0   </td> <td>0    </td> <td>0          </td> <td>0     </td> <td>0.0001374  </td> <td>0   </td> <td>0          </td> <td>0          </td> <td>0.0001374</td> <td>0    </td> <td>0    </td> <td>0       </td> <td>0.0001374</td> <td>0       </td> <td>0    </td> <td>0   </td> <td>0     </td> <td>0          </td> <td>0    </td> <td>0          </td> <td>0          </td> <td>0       </td> <td>0.0001374  </td> <td>0     </td> <td>0          </td> <td>0     </td> <td>0.0001374  </td> <td>0.000687002</td> <td>0     </td> <td>0          </td> <td>0    </td> <td>0   </td> <td>0     </td> <td>0.000412201</td> <td>0      </td> <td>0.0001374</td> <td>0          </td> <td>0     </td> <td>0      </td> <td>0   </td> <td>0          </td> <td>0          </td> <td>0    </td> <td>0    </td> <td>0   </td> <td>0    </td> <td>0    </td> <td>0   </td> <td>0       </td> <td>0.000274801</td> <td>0          </td> <td>0     </td> <td>0   </td> <td>0.000549602</td> <td>0          </td> <td>0.001374   </td> <td>0   </td> <td>0    </td> <td>0      </td> <td>0   </td> <td>0.0015114  </td> <td>0     </td> <td>0   </td> <td>0       </td> <td>0         </td> <td>0          </td> <td>0         </td> <td>0.0001374</td> <td>0     </td> <td>0      </td> <td>0.000274801</td> <td>0   </td> <td>0.000274801</td> <td>0   </td> <td>0.000274801</td> <td>0   </td> <td>0.000687002</td> <td>0     </td> <td>0      </td> <td>0    </td> <td>0          </td> <td>0    </td> <td>0         </td> <td>0   </td> <td>0       </td> <td>0        </td> <td>0     </td> <td>0        </td> <td>0     </td> <td>0.0001374</td> <td>0          </td> <td>0     </td> <td>0   </td> <td>0.0108546</td> <td>0    </td> <td>0   </td> <td>0.0001374</td> <td>0   </td> <td>0     </td> <td>0    </td> <td>0.0001374  </td> <td>0          </td> <td>0   </td> <td>0.0001374 </td> <td>0.0001374</td> <td>0.0010992  </td> <td>0.0010992</td> <td>0    </td> <td>0          </td> <td>0       </td> <td>0.001374   </td> <td>0.000549602</td> <td>0.0001374 </td> <td>0   </td> <td>0          </td> <td>0    </td> <td>0    </td> <td>0      </td> <td>0          </td> <td>0          </td> <td>0        </td> <td>0    </td> <td>0    </td> <td>0    </td> <td>0   </td> <td>0       </td> <td>0.000549602</td> <td>0   </td> <td>0     </td> <td>0.000549602</td> <td>0          </td> <td>0      </td> <td>0     </td> <td>0          </td> <td>0.00453421</td> <td>0.0001374  </td> <td>0   </td> <td>0      </td> <td>0   </td> <td>0.0010992 </td> <td>0   </td> <td>0   </td> <td>0          </td> <td>0   </td> <td>0    </td> <td>0.000274801</td> <td>0.000412201</td> <td>0.0001374  </td> <td>0          </td> <td>0.0001374</td> <td>0   </td> <td>0          </td> <td>0    </td> <td>0          </td> <td>0          </td> <td>0        </td> <td>0.0001374  </td> <td>0   </td> <td>0.0001374  </td> <td>0          </td> <td>0.00261061 </td> <td>0          </td> <td>0      </td> <td>0          </td> <td>0.0001374</td> <td>0   </td> <td>0    </td> <td>0    </td> <td>0.000412201</td> <td>0    </td> <td>0   </td> <td>0          </td> <td>0.0001374</td> <td>0       </td> <td>0    </td> <td>0         </td> <td>0          </td> <td>0.000961803</td> <td>0          </td> <td>0.0001374  </td> <td>0          </td> <td>0    </td> <td>0.000687002</td> <td>0    </td> <td>0   </td> <td>0   </td> <td>0    </td> <td>0     </td> <td>0   </td> <td>0.0001374 </td> <td>0    </td> <td>0.000274801</td> <td>0.0001374</td> <td>0    </td> <td>0          </td> <td>0      </td> <td>0          </td> <td>0   </td> <td>0      </td> <td>0      </td> <td>0     </td> <td>0     </td> <td>0     </td> <td>0.0001374  </td> <td>0.00288541 </td> <td>0    </td> <td>0.0012366  </td> <td>0.000549602</td> <td>0   </td> <td>0          </td> <td>0          </td> <td>0      </td> <td>0.0001374</td> <td>0      </td> <td>0    </td> <td>0     </td> <td>0    </td> <td>0        </td> <td>0      </td> <td>0   </td> <td>0.000412201</td> <td>0.0001374  </td> <td>0   </td> <td>0.000274801</td> <td>0   </td> <td>0     </td> <td>0   </td> <td>0    </td> <td>0          </td> <td>0   </td> <td>0       </td> <td>0   </td> <td>0     </td> <td>0      </td> <td>0.000961803</td> <td>0      </td> <td>0.0001374</td> <td>0        </td> <td>0      </td> <td>0.0001374</td> <td>0    </td> <td>0   </td> <td>0     </td> <td>0     </td> <td>0          </td> <td>0          </td> <td>0      </td> <td>0      </td> <td>0.0001374</td> <td>0        </td> <td>0     </td> <td>0         </td> <td>0   </td> <td>0   </td> <td>0     </td> <td>0   </td> <td>0    </td> <td>0   </td> <td>0.000274801</td> <td>0     </td> <td>0    </td> <td>0     </td> <td>0   </td> <td>0          </td> <td>0   </td> <td>0     </td> <td>0      </td> <td>0       </td> <td>0.0001374  </td> <td>0     </td> <td>0   </td> <td>0      </td> <td>0        </td> <td>0.0001374</td> <td>0.0001374  </td> <td>0      </td> <td>0       </td> <td>0    </td> <td>0          </td> <td>0          </td> <td>0          </td> <td>0          </td> <td>0.0001374</td> <td>0     </td> <td>0    </td> <td>0    </td> <td>0    </td> <td>0   </td> <td>0   </td> <td>0.0001374</td> <td>0     </td> <td>0     </td> <td>0.0001374</td> <td>0        </td> <td>0   </td> <td>0     </td> <td>0.000961803</td> <td>0   </td> <td>0          </td> <td>0.0001374  </td> <td>0.0001374</td> <td>0    </td> <td>0     </td> <td>0   </td> <td>0   </td> <td>0          </td> <td>0      </td> <td>0     </td> <td>0       </td> <td>0   </td> <td>0   </td> <td>0      </td> <td>0       </td> <td>0.0001374  </td> <td>0    </td> <td>0    </td> <td>0.000687002</td> <td>0.000824402</td> <td>0     </td> <td>0          </td> <td>0.00508381</td> <td>0.0001374</td> <td>0.00577082</td> <td>0    </td> <td>0     </td> <td>0    </td> <td>0.0001374  </td> <td>0   </td> <td>0       </td> <td>0    </td> <td>0    </td> <td>0.0001374  </td> <td>0.0001374  </td> <td>0          </td> <td>0      </td> <td>0.0001374  </td> <td>0     </td> <td>0   </td> <td>0.0001374</td> <td>0          </td> <td>0   </td> <td>0          </td> <td>0          </td> <td>0     </td> <td>0      </td> <td>0    </td> <td>0          </td> <td>0    </td> <td>0   </td> <td>0      </td> <td>0     </td> <td>0.0001374  </td> <td>0       </td> <td>0.000824402</td> <td>0   </td> <td>0      </td> <td>0.000549602</td> <td>0      </td> <td>0   </td> <td>0    </td> <td>0          </td> <td>0.00343501</td> <td>0.000274801</td> <td>0     </td> <td>0.00274801 </td> <td>0.0001374  </td> <td>0       </td> <td>0     </td> <td>0.0001374  </td> <td>0.0001374</td> <td>0     </td> <td>0     </td> <td>0         </td> <td>0          </td> <td>0    </td> <td>0     </td> <td>0          </td> <td>0     </td> <td>0     </td> <td>0.000824402</td> <td>0   </td> <td>0   </td> <td>0          </td> <td>0.0001374</td> <td>0   </td> <td>0    </td> <td>0.0001374  </td> <td>0.0001374  </td> <td>0    </td> <td>0.000412201</td> <td>0.00714482</td> <td>0.000412201</td> <td>0          </td> <td>0   </td> <td>0      </td> <td>0          </td> <td>0      </td> <td>0          </td> <td>0     </td> <td>0   </td> <td>0     </td> <td>0          </td> <td>0          </td> <td>0.000274801</td> <td>0   </td> <td>0     </td> <td>0     </td> <td>0      </td> <td>0          </td> <td>0        </td> <td>0.000274801</td> <td>0.000412201</td> <td>0    </td> <td>0     </td> <td>0    </td> <td>0     </td> <td>0    </td> <td>0   </td> <td>0    </td> <td>0      </td> <td>0   </td> <td>0   </td> <td>0   </td> <td>0    </td> <td>0      </td> <td>0.0001374  </td> <td>0    </td> <td>0   </td> <td>0   </td> <td>0.0001374</td> <td>0     </td> <td>0   </td> <td>0     </td> <td>0   </td> <td>0     </td> <td>0     </td> <td>0     </td> <td>0   </td> <td>0      </td> <td>0     </td> <td>0      </td> <td>0.000412201</td> <td>0          </td> <td>0   </td> <td>0.000412201</td> <td>0          </td> <td>0.00192361 </td> <td>0      </td> <td>0    </td> <td>0   </td> <td>0    </td> <td>0.0001374</td> <td>0     </td> <td>0    </td> <td>0     </td> <td>0          </td> <td>0      </td> <td>0   </td> <td>0.00233581 </td> <td>0      </td> <td>0   </td> <td>0    </td> <td>0   </td> <td>0   </td> <td>0.0001374  </td> <td>0          </td> <td>0   </td> <td>0      </td> <td>0          </td> <td>0          </td> <td>0.00192361</td> <td>0          </td> <td>0          </td> <td>0     </td> <td>0.000687002</td> <td>0    </td> <td>0      </td> <td>0      </td> <td>0   </td> <td>0     </td> <td>0    </td> <td>0    </td> <td>0   </td> <td>0     </td> <td>0          </td> <td>0    </td> <td>0.0001374  </td> <td>0   </td> <td>0   </td> <td>0   </td> <td>0.000274801</td> <td>0      </td> <td>0.0001374</td> <td>0        </td> <td>0          </td> <td>0      </td> <td>0        </td> <td>0.0001374  </td> <td>0   </td> <td>0.0001374</td> <td>0         </td> <td>0     </td> <td>0   </td> <td>0      </td> <td>0    </td> <td>0      </td> <td>0    </td> <td>0   </td> <td>0    </td> <td>0.0001374  </td> <td>0.0012366 </td> <td>0.0001374  </td> <td>0.000687002</td> <td>0          </td> <td>0    </td> <td>0   </td> <td>0.0016488  </td> <td>0.0001374</td> <td>0          </td> <td>0    </td> <td>0.0001374</td> <td>0   </td> <td>0   </td> <td>0.0001374</td> <td>0       </td> <td>0          </td> <td>0.000549602</td> <td>0      </td> <td>0        </td> <td>0   </td> <td>0          </td> <td>0          </td> <td>0     </td> <td>0    </td> <td>0.0010992 </td> <td>0      </td> <td>0    </td> <td>0     </td> <td>0          </td> <td>0     </td> <td>0       </td> <td>0          </td> <td>0    </td> <td>0   </td> <td>0      </td> <td>0     </td> <td>0    </td> <td>0     </td> <td>0     </td> <td>0   </td> <td>0      </td> <td>0    </td> <td>0          </td> <td>0      </td> <td>0          </td> <td>0   </td> <td>0   </td> <td>0     </td> <td>0   </td> <td>0   </td> <td>0   </td> <td>0       </td> <td>0   </td> <td>0   </td> <td>0.0001374  </td> <td>0   </td> <td>0.000412201</td> <td>0.000274801</td> <td>0          </td> <td>0     </td> <td>0    </td> <td>0.000274801</td> <td>0     </td> <td>0          </td> <td>0          </td> <td>0      </td> <td>0      </td> <td>0     </td> <td>0       </td> <td>0     </td> <td>0          </td> <td>0        </td> <td>0          </td> <td>0      </td> <td>0.0001374</td> <td>0          </td> <td>0          </td> <td>0      </td> <td>0.000549602</td> <td>0      </td> <td>0         </td> <td>0          </td> <td>0   </td> <td>0    </td> <td>0          </td> <td>0   </td> <td>0     </td> <td>0    </td> <td>0        </td> <td>0.0001374  </td> <td>0      </td> <td>0    </td> <td>0       </td> <td>0   </td> <td>0      </td> <td>0.000549602</td> <td>0          </td> <td>0     </td> <td>0   </td> <td>0      </td> <td>0.0001374</td> <td>0.000274801</td> <td>0          </td> <td>0.001374   </td> <td>0   </td> <td>0.0001374</td> <td>0      </td> <td>0   </td> <td>0   </td> <td>0      </td> <td>0      </td> <td>0     </td> <td>0     </td> <td>0   </td> <td>0      </td> <td>0     </td> <td>0     </td> <td>0   </td> <td>0   </td> <td>0   </td> <td>0         </td> <td>0    </td> <td>0          </td> <td>0      </td> <td>0     </td> <td>0     </td> <td>0   </td> <td>0          </td> <td>0.0001374  </td> <td>0.00439681</td> <td>0      </td> <td>0       </td> <td>0.000274801</td> <td>0     </td> <td>0     </td> <td>0.0001374  </td> <td>0.0001374</td> <td>0          </td> <td>0   </td> <td>0          </td> <td>0     </td> <td>0          </td> <td>0   </td> <td>0     </td> <td>0       </td> <td>0.00989283</td> <td>0.0016488  </td> <td>0       </td> <td>0     </td> <td>0      </td> <td>0   </td> <td>0      </td> <td>0   </td> <td>0     </td> <td>0     </td> <td>0        </td> <td>0.000274801</td> <td>0      </td> <td>0         </td> <td>0   </td> <td>0.0001374  </td> <td>0   </td> <td>0          </td> <td>0    </td> <td>0      </td> <td>0          </td> <td>0   </td> <td>0   </td> <td>0   </td> <td>0    </td> <td>0.000274801</td> <td>0          </td> <td>0    </td> <td>0     </td> <td>0     </td> <td>0.0001374  </td> <td>0.00247321</td> <td>0.0001374</td> <td>0    </td> <td>0.00453421</td> <td>0     </td> <td>0.0001374</td> <td>0        </td> <td>0.000412201</td> <td>0.0001374  </td> <td>0.0001374  </td> <td>0          </td> <td>0      </td> <td>0.0012366  </td> <td>0   </td> <td>0     </td> <td>0     </td> <td>0    </td> <td>0          </td> <td>0    </td> <td>0   </td> <td>0    </td> <td>0       </td> <td>0     </td> <td>0.000274801</td> <td>0     </td> <td>0         </td> <td>0          </td> <td>0   </td> <td>0          </td> <td>0     </td> <td>0   </td> <td>0      </td> <td>0    </td> <td>0    </td> <td>0          </td> <td>0     </td> <td>0   </td> <td>0      </td> <td>0    </td> <td>0   </td> <td>0.0001374</td> <td>0   </td> <td>0          </td> <td>0    </td> <td>0     </td> <td>0          </td> <td>0          </td> <td>0         </td> <td>0       </td> <td>0.001374   </td> <td>0          </td> <td>0.0015114  </td> <td>0      </td> <td>0     </td> <td>0          </td> <td>0   </td> <td>0          </td> <td>0   </td> <td>0    </td> <td>0          </td> <td>0      </td> <td>0          </td> <td>0.00288541 </td> <td>0          </td> <td>0          </td> <td>0    </td> <td>0    </td> <td>0   </td> <td>0          </td> <td>0    </td> <td>0          </td> <td>0    </td> <td>0          </td> <td>0    </td> <td>0          </td> <td>0.000412201</td> <td>0          </td> <td>0      </td> <td>0.000687002</td> <td>0     </td> <td>0      </td> <td>0.00233581 </td> <td>0.000274801</td> <td>0          </td> <td>0.001374   </td> <td>0      </td> <td>0     </td> <td>0    </td> <td>0   </td> <td>0.000549602</td> <td>0.0001374  </td> <td>0   </td> <td>0       </td> <td>0   </td> <td>0    </td> <td>0      </td> <td>0      </td> <td>0.0118164</td> <td>0   </td> <td>0     </td> <td>0     </td> <td>0          </td> <td>0    </td> <td>0   </td> <td>0      </td> <td>0   </td> <td>0   </td> <td>0     </td> <td>0       </td> <td>0     </td> <td>0    </td> <td>0          </td> <td>0          </td> <td>0   </td> <td>0    </td> <td>0     </td> <td>0   </td> <td>0.0001374  </td> <td>0   </td> <td>0.00178621 </td> <td>0      </td> <td>0          </td> <td>0          </td> <td>0.000274801</td> <td>0          </td> <td>0    </td> <td>0   </td> <td>0   </td> <td>0.0001374  </td> <td>0   </td> <td>0          </td> <td>0     </td> <td>0       </td> <td>0          </td> <td>0        </td> <td>0          </td> <td>0      </td> <td>0    </td> <td>0   </td> <td>0       </td> <td>0.000412201</td> <td>0   </td> <td>0          </td> <td>0.000274801</td> <td>0    </td> <td>0        </td> <td>0     </td> <td>0     </td> <td>0         </td> <td>0     </td> <td>0.0001374</td> <td>0      </td> <td>0.000961803</td> <td>0   </td> <td>0    </td> <td>0     </td> <td>0      </td> <td>0      </td> <td>0     </td> <td>0.0001374</td> <td>0      </td> <td>0         </td> <td>0          </td> <td>0   </td> <td>0      </td> <td>0    </td> <td>0   </td> <td>0.00261061 </td> <td>0    </td> <td>0     </td> <td>0    </td> <td>0    </td> <td>0.0001374</td> <td>0     </td> <td>0   </td> <td>0       </td> <td>0     </td> <td>0    </td> <td>0          </td> <td>0.0001374</td> <td>0          </td> <td>0   </td> <td>0          </td> <td>0   </td> <td>0          </td> <td>0.000274801</td> <td>0       </td> <td>0.0001374  </td> <td>0.0001374  </td> <td>0          </td> <td>0    </td> <td>0   </td> <td>0   </td> <td>0   </td> <td>0     </td> <td>0    </td> <td>0   </td> <td>0   </td> <td>0        </td> <td>0     </td> <td>0   </td> <td>0    </td> <td>0       </td> <td>0       </td> <td>0.000274801</td> <td>0      </td> <td>0      </td> <td>0   </td> <td>0       </td> <td>0    </td> <td>0       </td> <td>0   </td> <td>0    </td> <td>0    </td> <td>0     </td> <td>0   </td> <td>0    </td> <td>0     </td> <td>0       </td> <td>0.0001374  </td> <td>0      </td> <td>0   </td> <td>0.0001374</td> <td>0     </td> <td>0    </td> <td>0    </td> <td>0.0001374</td> <td>0     </td> <td>0      </td> <td>0.000687002</td> <td>0    </td> <td>0          </td> <td>0     </td> <td>0.0001374</td> <td>0        </td> <td>0      </td> <td>0   </td> <td>0          </td> <td>0    </td> <td>0.000549602</td> <td>0.0001374</td> <td>0    </td> <td>0.000412201</td> <td>0.00247321</td> <td>0          </td> <td>0          </td> <td>0   </td> <td>0   </td> <td>0          </td>\n",
       "        </tr>\n",
       "        <tr>\n",
       "            <td>detroit rock city    </td> <td>1999  </td> <td>6.5   </td> <td>comedy  </td> <td>4710   </td> <td>0.00411429</td> <td>0          </td> <td>0.000685714</td> <td>0          </td> <td>0    </td> <td>0   </td> <td>0     </td> <td>0         </td> <td>0   </td> <td>0    </td> <td>0        </td> <td>0.000228571</td> <td>0    </td> <td>0        </td> <td>0          </td> <td>0        </td> <td>0   </td> <td>0          </td> <td>0     </td> <td>0.000228571</td> <td>0    </td> <td>0   </td> <td>0      </td> <td>0          </td> <td>0       </td> <td>0   </td> <td>0        </td> <td>0      </td> <td>0     </td> <td>0   </td> <td>0   </td> <td>0      </td> <td>0    </td> <td>0     </td> <td>0.000228571</td> <td>0          </td> <td>0          </td> <td>0.000228571</td> <td>0     </td> <td>0          </td> <td>0.000228571</td> <td>0.000457143</td> <td>0         </td> <td>0   </td> <td>0      </td> <td>0.000685714</td> <td>0          </td> <td>0       </td> <td>0.000457143</td> <td>0        </td> <td>0   </td> <td>0          </td> <td>0          </td> <td>0.000228571</td> <td>0      </td> <td>0      </td> <td>0    </td> <td>0          </td> <td>0    </td> <td>0          </td> <td>0        </td> <td>0     </td> <td>0          </td> <td>0    </td> <td>0.000457143</td> <td>0    </td> <td>0     </td> <td>0        </td> <td>0.00228571</td> <td>0          </td> <td>0.000685714</td> <td>0     </td> <td>0    </td> <td>0.000457143</td> <td>0      </td> <td>0      </td> <td>0     </td> <td>0    </td> <td>0      </td> <td>0       </td> <td>0   </td> <td>0   </td> <td>0     </td> <td>0      </td> <td>0    </td> <td>0          </td> <td>0    </td> <td>0     </td> <td>0     </td> <td>0   </td> <td>0   </td> <td>0   </td> <td>0   </td> <td>0.00617143</td> <td>0     </td> <td>0     </td> <td>0     </td> <td>0       </td> <td>0      </td> <td>0          </td> <td>0    </td> <td>0   </td> <td>0    </td> <td>0   </td> <td>0   </td> <td>0     </td> <td>0     </td> <td>0     </td> <td>0   </td> <td>0          </td> <td>0    </td> <td>0          </td> <td>0       </td> <td>0     </td> <td>0         </td> <td>0       </td> <td>0.000457143</td> <td>0          </td> <td>0     </td> <td>0.000228571</td> <td>0.000228571</td> <td>0     </td> <td>0.00182857</td> <td>0          </td> <td>0          </td> <td>0   </td> <td>0         </td> <td>0     </td> <td>0     </td> <td>0   </td> <td>0     </td> <td>0    </td> <td>0   </td> <td>0.00182857</td> <td>0    </td> <td>0      </td> <td>0          </td> <td>0          </td> <td>0   </td> <td>0          </td> <td>0      </td> <td>0     </td> <td>0.000228571</td> <td>0       </td> <td>0      </td> <td>0      </td> <td>0      </td> <td>0   </td> <td>0      </td> <td>0      </td> <td>0   </td> <td>0.000457143</td> <td>0   </td> <td>0       </td> <td>0   </td> <td>0          </td> <td>0   </td> <td>0        </td> <td>0     </td> <td>0   </td> <td>0     </td> <td>0     </td> <td>0       </td> <td>0       </td> <td>0     </td> <td>0          </td> <td>0.00297143</td> <td>0    </td> <td>0          </td> <td>0     </td> <td>0     </td> <td>0   </td> <td>0.000457143</td> <td>0.000228571</td> <td>0.000457143</td> <td>0.000228571</td> <td>0   </td> <td>0   </td> <td>0    </td> <td>0.000228571</td> <td>0   </td> <td>0      </td> <td>0     </td> <td>0     </td> <td>0          </td> <td>0         </td> <td>0.000685714</td> <td>0     </td> <td>0     </td> <td>0          </td> <td>0     </td> <td>0     </td> <td>0      </td> <td>0      </td> <td>0.000685714</td> <td>0.000228571</td> <td>0        </td> <td>0    </td> <td>0          </td> <td>0    </td> <td>0   </td> <td>0       </td> <td>0   </td> <td>0     </td> <td>0   </td> <td>0   </td> <td>0     </td> <td>0     </td> <td>0    </td> <td>0      </td> <td>0   </td> <td>0    </td> <td>0    </td> <td>0          </td> <td>0.000228571</td> <td>0      </td> <td>0          </td> <td>0          </td> <td>0    </td> <td>0    </td> <td>0.000228571</td> <td>0.00411429</td> <td>0   </td> <td>0          </td> <td>0      </td> <td>0.00114286 </td> <td>0   </td> <td>0   </td> <td>0.000228571</td> <td>0          </td> <td>0    </td> <td>0          </td> <td>0          </td> <td>0       </td> <td>0    </td> <td>0   </td> <td>0.000914286</td> <td>0    </td> <td>0          </td> <td>0   </td> <td>0   </td> <td>0      </td> <td>0      </td> <td>0.0180571</td> <td>0         </td> <td>0.000457143</td> <td>0     </td> <td>0.000228571</td> <td>0       </td> <td>0      </td> <td>0        </td> <td>0     </td> <td>0     </td> <td>0          </td> <td>0      </td> <td>0   </td> <td>0           </td> <td>0   </td> <td>0    </td> <td>0.000457143</td> <td>0.00388571 </td> <td>0.000457143</td> <td>0          </td> <td>0   </td> <td>0    </td> <td>0   </td> <td>0          </td> <td>0.000228571</td> <td>0      </td> <td>0          </td> <td>0.000228571</td> <td>0     </td> <td>0        </td> <td>0    </td> <td>0.000228571</td> <td>0    </td> <td>0.000228571</td> <td>0     </td> <td>0        </td> <td>0          </td> <td>0   </td> <td>0      </td> <td>0          </td> <td>0   </td> <td>0.000228571</td> <td>0.000228571</td> <td>0        </td> <td>0          </td> <td>0     </td> <td>0     </td> <td>0        </td> <td>0      </td> <td>0        </td> <td>0.00182857 </td> <td>0     </td> <td>0      </td> <td>0          </td> <td>0       </td> <td>0          </td> <td>0    </td> <td>0          </td> <td>0          </td> <td>0          </td> <td>0     </td> <td>0      </td> <td>0.000685714</td> <td>0          </td> <td>0     </td> <td>0   </td> <td>0    </td> <td>0.000228571</td> <td>0   </td> <td>0     </td> <td>0          </td> <td>0   </td> <td>0.000228571</td> <td>0     </td> <td>0    </td> <td>0.000457143</td> <td>0   </td> <td>0      </td> <td>0.000457143</td> <td>0.000457143</td> <td>0     </td> <td>0     </td> <td>0       </td> <td>0     </td> <td>0     </td> <td>0        </td> <td>0.000457143</td> <td>0     </td> <td>0          </td> <td>0.000457143</td> <td>0         </td> <td>0        </td> <td>0        </td> <td>0.000228571</td> <td>0      </td> <td>0         </td> <td>0          </td> <td>0.00662857</td> <td>0         </td> <td>0        </td> <td>0     </td> <td>0     </td> <td>0        </td> <td>0.00114286 </td> <td>0       </td> <td>0.000228571</td> <td>0      </td> <td>0          </td> <td>0        </td> <td>0    </td> <td>0          </td> <td>0.000914286</td> <td>0          </td> <td>0     </td> <td>0       </td> <td>0          </td> <td>0        </td> <td>0      </td> <td>0          </td> <td>0    </td> <td>0     </td> <td>0   </td> <td>0         </td> <td>0      </td> <td>0.008     </td> <td>0.000685714</td> <td>0      </td> <td>0.000457143</td> <td>0        </td> <td>0     </td> <td>0   </td> <td>0      </td> <td>0    </td> <td>0          </td> <td>0          </td> <td>0          </td> <td>0     </td> <td>0        </td> <td>0     </td> <td>0    </td> <td>0.000457143</td> <td>0   </td> <td>0     </td> <td>0        </td> <td>0        </td> <td>0.00457143</td> <td>0   </td> <td>0          </td> <td>0          </td> <td>0.00114286 </td> <td>0          </td> <td>0    </td> <td>0   </td> <td>0.000228571</td> <td>0.000228571</td> <td>0     </td> <td>0    </td> <td>0          </td> <td>0.000228571</td> <td>0.00182857 </td> <td>0         </td> <td>0.000228571</td> <td>0     </td> <td>0    </td> <td>0     </td> <td>0    </td> <td>0   </td> <td>0      </td> <td>0   </td> <td>0.000228571</td> <td>0          </td> <td>0.000228571</td> <td>0      </td> <td>0      </td> <td>0   </td> <td>0   </td> <td>0     </td> <td>0    </td> <td>0          </td> <td>0    </td> <td>0          </td> <td>0         </td> <td>0     </td> <td>0    </td> <td>0.000228571</td> <td>0.000457143</td> <td>0   </td> <td>0    </td> <td>0    </td> <td>0        </td> <td>0   </td> <td>0.000457143</td> <td>0.000228571</td> <td>0          </td> <td>0    </td> <td>0    </td> <td>0         </td> <td>0     </td> <td>0     </td> <td>0    </td> <td>0    </td> <td>0    </td> <td>0      </td> <td>0    </td> <td>0    </td> <td>0.000228571</td> <td>0   </td> <td>0    </td> <td>0      </td> <td>0      </td> <td>0.00274286</td> <td>0     </td> <td>0.000228571</td> <td>0    </td> <td>0    </td> <td>0      </td> <td>0        </td> <td>0      </td> <td>0   </td> <td>0   </td> <td>0   </td> <td>0.000457143</td> <td>0          </td> <td>0   </td> <td>0    </td> <td>0          </td> <td>0   </td> <td>0      </td> <td>0   </td> <td>0          </td> <td>0    </td> <td>0    </td> <td>0     </td> <td>0        </td> <td>0    </td> <td>0    </td> <td>0        </td> <td>0.00114286</td> <td>0     </td> <td>0      </td> <td>0     </td> <td>0   </td> <td>0   </td> <td>0.000685714</td> <td>0          </td> <td>0       </td> <td>0.000914286</td> <td>0     </td> <td>0    </td> <td>0          </td> <td>0    </td> <td>0      </td> <td>0     </td> <td>0       </td> <td>0    </td> <td>0   </td> <td>0    </td> <td>0   </td> <td>0   </td> <td>0     </td> <td>0    </td> <td>0.000228571</td> <td>0      </td> <td>0     </td> <td>0    </td> <td>0.000228571</td> <td>0   </td> <td>0      </td> <td>0         </td> <td>0.0016     </td> <td>0.000914286</td> <td>0    </td> <td>0          </td> <td>0      </td> <td>0.000228571</td> <td>0       </td> <td>0    </td> <td>0         </td> <td>0          </td> <td>0.0016    </td> <td>0.000457143</td> <td>0   </td> <td>0      </td> <td>0    </td> <td>0.000228571</td> <td>0       </td> <td>0    </td> <td>0          </td> <td>0   </td> <td>0   </td> <td>0.000914286</td> <td>0         </td> <td>0    </td> <td>0   </td> <td>0         </td> <td>0   </td> <td>0      </td> <td>0      </td> <td>0   </td> <td>0       </td> <td>0.000228571</td> <td>0   </td> <td>0.000228571</td> <td>0.000228571</td> <td>0.000457143</td> <td>0    </td> <td>0     </td> <td>0     </td> <td>0.000228571</td> <td>0      </td> <td>0.000457143</td> <td>0.00274286</td> <td>0          </td> <td>0      </td> <td>0          </td> <td>0    </td> <td>0.000228571</td> <td>0   </td> <td>0.000228571</td> <td>0.000914286</td> <td>0         </td> <td>0      </td> <td>0     </td> <td>0     </td> <td>0     </td> <td>0.000228571</td> <td>0   </td> <td>0          </td> <td>0    </td> <td>0    </td> <td>0     </td> <td>0      </td> <td>0.0032     </td> <td>0          </td> <td>0.00228571</td> <td>0    </td> <td>0          </td> <td>0    </td> <td>0      </td> <td>0    </td> <td>0     </td> <td>0.000228571</td> <td>0      </td> <td>0    </td> <td>0        </td> <td>0     </td> <td>0      </td> <td>0   </td> <td>0      </td> <td>0     </td> <td>0          </td> <td>0          </td> <td>0.000228571</td> <td>0   </td> <td>0.000228571</td> <td>0          </td> <td>0     </td> <td>0      </td> <td>0     </td> <td>0       </td> <td>0          </td> <td>0    </td> <td>0     </td> <td>0   </td> <td>0          </td> <td>0          </td> <td>0   </td> <td>0          </td> <td>0     </td> <td>0      </td> <td>0    </td> <td>0.00571429</td> <td>0   </td> <td>0.000457143</td> <td>0    </td> <td>0          </td> <td>0.00365714</td> <td>0.000228571</td> <td>0.000685714</td> <td>0          </td> <td>0.000228571</td> <td>0.000228571</td> <td>0.000228571</td> <td>0   </td> <td>0     </td> <td>0    </td> <td>0          </td> <td>0   </td> <td>0      </td> <td>0   </td> <td>0.0016     </td> <td>0   </td> <td>0          </td> <td>0          </td> <td>0       </td> <td>0       </td> <td>0     </td> <td>0     </td> <td>0   </td> <td>0     </td> <td>0       </td> <td>0          </td> <td>0      </td> <td>0   </td> <td>0          </td> <td>0.000228571</td> <td>0.000228571</td> <td>0   </td> <td>0      </td> <td>0       </td> <td>0.000228571</td> <td>0.00114286 </td> <td>0     </td> <td>0       </td> <td>0       </td> <td>0   </td> <td>0          </td> <td>0        </td> <td>0    </td> <td>0       </td> <td>0      </td> <td>0    </td> <td>0       </td> <td>0          </td> <td>0      </td> <td>0.000457143</td> <td>0          </td> <td>0      </td> <td>0      </td> <td>0.000228571</td> <td>0.000228571</td> <td>0   </td> <td>0   </td> <td>0          </td> <td>0.0182857</td> <td>0.000228571</td> <td>0   </td> <td>0   </td> <td>0       </td> <td>0    </td> <td>0     </td> <td>0      </td> <td>0     </td> <td>0        </td> <td>0       </td> <td>0.000228571</td> <td>0          </td> <td>0     </td> <td>0      </td> <td>0   </td> <td>0       </td> <td>0          </td> <td>0          </td> <td>0        </td> <td>0      </td> <td>0     </td> <td>0.00182857 </td> <td>0.000457143</td> <td>0   </td> <td>0     </td> <td>0.0016     </td> <td>0    </td> <td>0     </td> <td>0         </td> <td>0.000228571</td> <td>0          </td> <td>0.000228571</td> <td>0     </td> <td>0    </td> <td>0     </td> <td>0    </td> <td>0    </td> <td>0   </td> <td>0      </td> <td>0      </td> <td>0    </td> <td>0    </td> <td>0.00274286</td> <td>0          </td> <td>0.000457143</td> <td>0          </td> <td>0.000228571</td> <td>0          </td> <td>0    </td> <td>0    </td> <td>0.000457143</td> <td>0     </td> <td>0      </td> <td>0   </td> <td>0   </td> <td>0         </td> <td>0   </td> <td>0        </td> <td>0   </td> <td>0       </td> <td>0.000457143</td> <td>0    </td> <td>0.000228571</td> <td>0        </td> <td>0     </td> <td>0.000228571</td> <td>0          </td> <td>0    </td> <td>0    </td> <td>0        </td> <td>0   </td> <td>0        </td> <td>0          </td> <td>0       </td> <td>0          </td> <td>0.000228571</td> <td>0.000228571</td> <td>0   </td> <td>0     </td> <td>0        </td> <td>0          </td> <td>0     </td> <td>0          </td> <td>0.000228571</td> <td>0     </td> <td>0.000228571</td> <td>0   </td> <td>0.000228571</td> <td>0          </td> <td>0        </td> <td>0          </td> <td>0   </td> <td>0    </td> <td>0        </td> <td>0.000228571</td> <td>0    </td> <td>0          </td> <td>0      </td> <td>0    </td> <td>0        </td> <td>0          </td> <td>0    </td> <td>0    </td> <td>0     </td> <td>0      </td> <td>0    </td> <td>0    </td> <td>0   </td> <td>0   </td> <td>0   </td> <td>0    </td> <td>0.000457143</td> <td>0    </td> <td>0          </td> <td>0    </td> <td>0     </td> <td>0          </td> <td>0.000228571</td> <td>0.0016     </td> <td>0    </td> <td>0          </td> <td>0.000228571</td> <td>0    </td> <td>0    </td> <td>0   </td> <td>0          </td> <td>0     </td> <td>0.000685714</td> <td>0       </td> <td>0     </td> <td>0     </td> <td>0        </td> <td>0    </td> <td>0.000228571</td> <td>0   </td> <td>0       </td> <td>0      </td> <td>0.000457143</td> <td>0        </td> <td>0          </td> <td>0     </td> <td>0   </td> <td>0          </td> <td>0    </td> <td>0       </td> <td>0       </td> <td>0      </td> <td>0    </td> <td>0.000228571</td> <td>0    </td> <td>0   </td> <td>0       </td> <td>0   </td> <td>0    </td> <td>0.000228571</td> <td>0         </td> <td>0        </td> <td>0   </td> <td>0     </td> <td>0    </td> <td>0     </td> <td>0        </td> <td>0   </td> <td>0     </td> <td>0.000228571</td> <td>0          </td> <td>0          </td> <td>0      </td> <td>0    </td> <td>0     </td> <td>0.000457143</td> <td>0          </td> <td>0          </td> <td>0      </td> <td>0   </td> <td>0      </td> <td>0          </td> <td>0    </td> <td>0       </td> <td>0     </td> <td>0    </td> <td>0.00525714</td> <td>0     </td> <td>0.000457143</td> <td>0    </td> <td>0      </td> <td>0      </td> <td>0     </td> <td>0     </td> <td>0.000228571</td> <td>0    </td> <td>0          </td> <td>0          </td> <td>0    </td> <td>0          </td> <td>0.000685714</td> <td>0    </td> <td>0     </td> <td>0.0016     </td> <td>0.00114286</td> <td>0   </td> <td>0   </td> <td>0       </td> <td>0         </td> <td>0     </td> <td>0   </td> <td>0    </td> <td>0      </td> <td>0        </td> <td>0     </td> <td>0.000228571</td> <td>0   </td> <td>0          </td> <td>0    </td> <td>0     </td> <td>0    </td> <td>0       </td> <td>0        </td> <td>0      </td> <td>0      </td> <td>0    </td> <td>0      </td> <td>0       </td> <td>0.000228571</td> <td>0   </td> <td>0     </td> <td>0        </td> <td>0    </td> <td>0     </td> <td>0          </td> <td>0   </td> <td>0     </td> <td>0    </td> <td>0          </td> <td>0      </td> <td>0.000228571</td> <td>0     </td> <td>0    </td> <td>0        </td> <td>0     </td> <td>0.000228571</td> <td>0     </td> <td>0   </td> <td>0.00205714</td> <td>0     </td> <td>0    </td> <td>0        </td> <td>0     </td> <td>0          </td> <td>0     </td> <td>0         </td> <td>0      </td> <td>0.000228571</td> <td>0        </td> <td>0       </td> <td>0      </td> <td>0    </td> <td>0.000228571</td> <td>0.0118857 </td> <td>0.000228571</td> <td>0    </td> <td>0.000228571</td> <td>0   </td> <td>0          </td> <td>0          </td> <td>0   </td> <td>0    </td> <td>0       </td> <td>0     </td> <td>0    </td> <td>0     </td> <td>0          </td> <td>0          </td> <td>0     </td> <td>0          </td> <td>0.000457143</td> <td>0          </td> <td>0.000228571</td> <td>0   </td> <td>0     </td> <td>0    </td> <td>0.000228571</td> <td>0     </td> <td>0    </td> <td>0.000228571</td> <td>0.000228571</td> <td>0      </td> <td>0     </td> <td>0.000228571</td> <td>0.000228571</td> <td>0       </td> <td>0    </td> <td>0      </td> <td>0      </td> <td>0     </td> <td>0     </td> <td>0       </td> <td>0     </td> <td>0.000228571</td> <td>0          </td> <td>0   </td> <td>0         </td> <td>0.000228571</td> <td>0   </td> <td>0.00114286 </td> <td>0    </td> <td>0          </td> <td>0     </td> <td>0   </td> <td>0      </td> <td>0.00342857</td> <td>0      </td> <td>0          </td> <td>0.000914286</td> <td>0    </td> <td>0     </td> <td>0          </td> <td>0     </td> <td>0        </td> <td>0     </td> <td>0.000228571</td> <td>0      </td> <td>0   </td> <td>0          </td> <td>0   </td> <td>0         </td> <td>0   </td> <td>0.000228571</td> <td>0    </td> <td>0        </td> <td>0.0016     </td> <td>0.00228571 </td> <td>0    </td> <td>0          </td> <td>0   </td> <td>0      </td> <td>0          </td> <td>0.000228571</td> <td>0.000228571</td> <td>0    </td> <td>0     </td> <td>0   </td> <td>0.000457143</td> <td>0          </td> <td>0.000228571</td> <td>0   </td> <td>0     </td> <td>0        </td> <td>0    </td> <td>0   </td> <td>0      </td> <td>0.000457143</td> <td>0          </td> <td>0       </td> <td>0   </td> <td>0      </td> <td>0     </td> <td>0          </td> <td>0     </td> <td>0.0224   </td> <td>0   </td> <td>0   </td> <td>0            </td> <td>0     </td> <td>0       </td> <td>0      </td> <td>0       </td> <td>0      </td> <td>0      </td> <td>0   </td> <td>0       </td> <td>0          </td> <td>0.00297143</td> <td>0        </td> <td>0     </td> <td>0     </td> <td>0    </td> <td>0.000228571</td> <td>0.000685714</td> <td>0.000228571</td> <td>0          </td> <td>0.000457143</td> <td>0.000685714</td> <td>0       </td> <td>0          </td> <td>0          </td> <td>0.000914286</td> <td>0      </td> <td>0   </td> <td>0      </td> <td>0   </td> <td>0        </td> <td>0     </td> <td>0       </td> <td>0   </td> <td>0      </td> <td>0        </td> <td>0.000228571</td> <td>0      </td> <td>0.000457143</td> <td>0   </td> <td>0          </td> <td>0.000457143</td> <td>0   </td> <td>0.00228571 </td> <td>0      </td> <td>0       </td> <td>0   </td> <td>0          </td> <td>0      </td> <td>0     </td> <td>0     </td> <td>0        </td> <td>0          </td> <td>0    </td> <td>0          </td> <td>0       </td> <td>0   </td> <td>0        </td> <td>0.000228571</td> <td>0          </td> <td>0          </td> <td>0          </td> <td>0      </td> <td>0    </td> <td>0    </td> <td>0    </td> <td>0.000228571</td> <td>0.000228571</td> <td>0      </td> <td>0    </td> <td>0.00114286 </td> <td>0     </td> <td>0    </td> <td>0          </td> <td>0         </td> <td>0   </td> <td>0          </td> <td>0      </td> <td>0         </td> <td>0.000228571</td> <td>0.00525714</td> <td>0      </td> <td>0        </td> <td>0        </td> <td>0    </td> <td>0        </td> <td>0   </td> <td>0      </td> <td>0          </td> <td>0.000457143</td> <td>0    </td> <td>0        </td> <td>0      </td> <td>0     </td> <td>0      </td> <td>0     </td> <td>0    </td> <td>0    </td> <td>0        </td> <td>0      </td> <td>0          </td> <td>0   </td> <td>0      </td> <td>0.000228571</td> <td>0   </td> <td>0      </td> <td>0       </td> <td>0.00114286 </td> <td>0    </td> <td>0        </td> <td>0          </td> <td>0.00182857 </td> <td>0   </td> <td>0          </td> <td>0    </td> <td>0     </td> <td>0   </td> <td>0    </td> <td>0.000228571</td> <td>0    </td> <td>0.000228571</td> <td>0.000228571</td> <td>0          </td> <td>0          </td> <td>0      </td> <td>0.000914286</td> <td>0.000914286</td> <td>0          </td> <td>0   </td> <td>0      </td> <td>0     </td> <td>0      </td> <td>0        </td> <td>0          </td> <td>0.00182857 </td> <td>0   </td> <td>0    </td> <td>0    </td> <td>0.000228571</td> <td>0   </td> <td>0.000228571</td> <td>0          </td> <td>0     </td> <td>0     </td> <td>0    </td> <td>0          </td> <td>0.000228571</td> <td>0.000228571</td> <td>0    </td> <td>0    </td> <td>0   </td> <td>0.000228571</td> <td>0    </td> <td>0    </td> <td>0         </td> <td>0   </td> <td>0   </td> <td>0      </td> <td>0          </td> <td>0      </td> <td>0    </td> <td>0.000228571</td> <td>0   </td> <td>0.000228571</td> <td>0         </td> <td>0          </td> <td>0    </td> <td>0    </td> <td>0.000228571</td> <td>0.0146286 </td> <td>0.000228571</td> <td>0    </td> <td>0    </td> <td>0    </td> <td>0      </td> <td>0    </td> <td>0     </td> <td>0      </td> <td>0   </td> <td>0   </td> <td>0   </td> <td>0    </td> <td>0        </td> <td>0   </td> <td>0    </td> <td>0       </td> <td>0   </td> <td>0       </td> <td>0     </td> <td>0         </td> <td>0.00342857</td> <td>0       </td> <td>0.00114286</td> <td>0     </td> <td>0          </td> <td>0   </td> <td>0          </td> <td>0    </td> <td>0   </td> <td>0    </td> <td>0.000914286</td> <td>0           </td> <td>0      </td> <td>0    </td> <td>0        </td> <td>0        </td> <td>0          </td> <td>0.00251429</td> <td>0   </td> <td>0          </td> <td>0          </td> <td>0     </td> <td>0    </td> <td>0   </td> <td>0          </td> <td>0     </td> <td>0      </td> <td>0        </td> <td>0      </td> <td>0   </td> <td>0   </td> <td>0     </td> <td>0          </td> <td>0   </td> <td>0.000457143</td> <td>0    </td> <td>0   </td> <td>0   </td> <td>0     </td> <td>0        </td> <td>0.0016     </td> <td>0   </td> <td>0        </td> <td>0     </td> <td>0        </td> <td>0          </td> <td>0.000228571</td> <td>0.00114286 </td> <td>0   </td> <td>0   </td> <td>0   </td> <td>0          </td> <td>0      </td> <td>0   </td> <td>0     </td> <td>0      </td> <td>0          </td> <td>0     </td> <td>0          </td> <td>0    </td> <td>0.000457143</td> <td>0.000457143</td> <td>0    </td> <td>0          </td> <td>0          </td> <td>0          </td> <td>0      </td> <td>0       </td> <td>0          </td> <td>0    </td> <td>0.000228571</td> <td>0          </td> <td>0    </td> <td>0.000228571</td> <td>0   </td> <td>0          </td> <td>0        </td> <td>0        </td> <td>0   </td> <td>0   </td> <td>0   </td> <td>0     </td> <td>0         </td> <td>0.000228571</td> <td>0     </td> <td>0          </td> <td>0       </td> <td>0   </td> <td>0      </td> <td>0.00914286</td> <td>0          </td> <td>0   </td> <td>0        </td> <td>0       </td> <td>0          </td> <td>0.000914286</td> <td>0.000685714</td> <td>0.000228571</td> <td>0   </td> <td>0      </td> <td>0      </td> <td>0   </td> <td>0   </td> <td>0    </td> <td>0      </td> <td>0   </td> <td>0       </td> <td>0        </td> <td>0.000457143</td> <td>0     </td> <td>0          </td> <td>0        </td> <td>0          </td> <td>0       </td> <td>0          </td> <td>0     </td> <td>0          </td> <td>0        </td> <td>0      </td> <td>0   </td> <td>0      </td> <td>0          </td> <td>0.0064    </td> <td>0          </td> <td>0.000228571</td> <td>0   </td> <td>0          </td> <td>0        </td> <td>0   </td> <td>0          </td> <td>0.000228571</td> <td>0.00114286</td> <td>0   </td> <td>0    </td> <td>0     </td> <td>0         </td> <td>0        </td> <td>0.000228571</td> <td>0.000228571</td> <td>0   </td> <td>0.000228571</td> <td>0.0064    </td> <td>0.000228571</td> <td>0          </td> <td>0         </td> <td>0   </td> <td>0    </td> <td>0.000228571</td> <td>0     </td> <td>0.00137143 </td> <td>0   </td> <td>0          </td> <td>0.000228571</td> <td>0.000685714</td> <td>0    </td> <td>0          </td> <td>0    </td> <td>0.000914286</td> <td>0   </td> <td>0        </td> <td>0      </td> <td>0    </td> <td>0     </td> <td>0       </td> <td>0     </td> <td>0     </td> <td>0   </td> <td>0   </td> <td>0   </td> <td>0.000228571</td> <td>0          </td> <td>0   </td> <td>0      </td> <td>0     </td> <td>0       </td> <td>0        </td> <td>0    </td> <td>0.00114286</td> <td>0          </td> <td>0    </td> <td>0    </td> <td>0   </td> <td>0   </td> <td>0    </td> <td>0          </td> <td>0          </td> <td>0          </td> <td>0        </td> <td>0    </td> <td>0          </td> <td>0         </td> <td>0          </td> <td>0          </td> <td>0       </td> <td>0.00388571</td> <td>0   </td> <td>0.000228571</td> <td>0.0064    </td> <td>0   </td> <td>0        </td> <td>0.000228571</td> <td>0   </td> <td>0   </td> <td>0.000685714</td> <td>0.000228571</td> <td>0     </td> <td>0    </td> <td>0      </td> <td>0        </td> <td>0   </td> <td>0          </td> <td>0     </td> <td>0.000228571</td> <td>0       </td> <td>0          </td> <td>0        </td> <td>0.000228571</td> <td>0   </td> <td>0     </td> <td>0          </td> <td>0     </td> <td>0    </td> <td>0          </td> <td>0   </td> <td>0.000457143</td> <td>0.000228571</td> <td>0        </td> <td>0   </td> <td>0   </td> <td>0.000685714</td> <td>0.000228571</td> <td>0     </td> <td>0.000228571</td> <td>0   </td> <td>0   </td> <td>0.000228571</td> <td>0    </td> <td>0        </td> <td>0    </td> <td>0     </td> <td>0   </td> <td>0    </td> <td>0          </td> <td>0.000228571</td> <td>0     </td> <td>0       </td> <td>0   </td> <td>0     </td> <td>0   </td> <td>0   </td> <td>0   </td> <td>0    </td> <td>0          </td> <td>0    </td> <td>0   </td> <td>0   </td> <td>0.00114286 </td> <td>0    </td> <td>0   </td> <td>0   </td> <td>0       </td> <td>0   </td> <td>0          </td> <td>0     </td> <td>0   </td> <td>0   </td> <td>0.000457143</td> <td>0     </td> <td>0.000685714</td> <td>0     </td> <td>0.000457143</td> <td>0       </td> <td>0   </td> <td>0   </td> <td>0.000228571</td> <td>0.000457143</td> <td>0     </td> <td>0.000228571</td> <td>0    </td> <td>0      </td> <td>0   </td> <td>0      </td> <td>0          </td> <td>0    </td> <td>0   </td> <td>0    </td> <td>0.000228571</td> <td>0.00114286</td> <td>0.000228571</td> <td>0   </td> <td>0   </td> <td>0          </td> <td>0       </td> <td>0.000228571</td> <td>0    </td> <td>0    </td> <td>0    </td> <td>0    </td> <td>0    </td> <td>0.000228571</td> <td>0        </td> <td>0   </td> <td>0.00548571</td> <td>0     </td> <td>0   </td> <td>0      </td> <td>0     </td> <td>0.000228571</td> <td>0       </td> <td>0          </td> <td>0          </td> <td>0          </td> <td>0    </td> <td>0   </td> <td>0     </td> <td>0      </td> <td>0     </td> <td>0   </td> <td>0     </td> <td>0          </td> <td>0        </td> <td>0       </td> <td>0     </td> <td>0     </td> <td>0     </td> <td>0          </td> <td>0    </td> <td>0    </td> <td>0     </td> <td>0     </td> <td>0.00182857 </td> <td>0    </td> <td>0          </td> <td>0          </td> <td>0     </td> <td>0       </td> <td>0          </td> <td>0     </td> <td>0.00548571</td> <td>0        </td> <td>0    </td> <td>0.000685714</td> <td>0   </td> <td>0       </td> <td>0     </td> <td>0      </td> <td>0        </td> <td>0       </td> <td>0.000457143</td> <td>0.000457143</td> <td>0   </td> <td>0          </td> <td>0    </td> <td>0          </td> <td>0    </td> <td>0          </td> <td>0     </td> <td>0     </td> <td>0.000228571</td> <td>0     </td> <td>0   </td> <td>0        </td> <td>0   </td> <td>0          </td> <td>0     </td> <td>0          </td> <td>0        </td> <td>0        </td> <td>0    </td> <td>0            </td> <td>0    </td> <td>0       </td> <td>0          </td> <td>0    </td> <td>0   </td> <td>0.000228571</td> <td>0   </td> <td>0          </td> <td>0.000228571</td> <td>0          </td> <td>0   </td> <td>0       </td> <td>0    </td> <td>0    </td> <td>0.000685714</td> <td>0          </td> <td>0          </td> <td>0   </td> <td>0          </td> <td>0.000228571</td> <td>0      </td> <td>0   </td> <td>0          </td> <td>0.000457143</td> <td>0     </td> <td>0     </td> <td>0     </td> <td>0.000228571</td> <td>0      </td> <td>0       </td> <td>0     </td> <td>0    </td> <td>0   </td> <td>0    </td> <td>0   </td> <td>0        </td> <td>0        </td> <td>0          </td> <td>0.000685714</td> <td>0      </td> <td>0         </td> <td>0.000228571</td> <td>0     </td> <td>0.000228571</td> <td>0        </td> <td>0.00594286</td> <td>0          </td> <td>0          </td> <td>0      </td> <td>0       </td> <td>0.000914286</td> <td>0    </td> <td>0    </td> <td>0          </td> <td>0          </td> <td>0      </td> <td>0        </td> <td>0          </td> <td>0.000228571</td> <td>0          </td> <td>0    </td> <td>0   </td> <td>0   </td> <td>0     </td> <td>0       </td> <td>0          </td> <td>0    </td> <td>0   </td> <td>0          </td> <td>0     </td> <td>0         </td> <td>0     </td> <td>0    </td> <td>0         </td> <td>0.000457143</td> <td>0   </td> <td>0       </td> <td>0      </td> <td>0          </td> <td>0.000914286</td> <td>0    </td> <td>0      </td> <td>0        </td> <td>0    </td> <td>0      </td> <td>0.000685714</td> <td>0       </td> <td>0   </td> <td>0.000228571</td> <td>0     </td> <td>0     </td> <td>0.000228571</td> <td>0        </td> <td>0      </td> <td>0   </td> <td>0          </td> <td>0          </td> <td>0     </td> <td>0          </td> <td>0        </td> <td>0       </td> <td>0    </td> <td>0   </td> <td>0   </td> <td>0         </td> <td>0          </td> <td>0          </td> <td>0      </td> <td>0.000228571</td> <td>0      </td> <td>0    </td> <td>0          </td> <td>0      </td> <td>0   </td> <td>0          </td> <td>0        </td> <td>0       </td> <td>0          </td> <td>0    </td> <td>0       </td> <td>0          </td> <td>0.000685714</td> <td>0      </td> <td>0    </td> <td>0      </td> <td>0.000228571</td> <td>0    </td> <td>0.000228571</td> <td>0.000228571</td> <td>0.000228571</td> <td>0.000228571</td> <td>0      </td> <td>0    </td> <td>0          </td> <td>0          </td> <td>0   </td> <td>0          </td> <td>0    </td> <td>0    </td> <td>0      </td> <td>0    </td> <td>0    </td> <td>0          </td> <td>0.000457143</td> <td>0    </td> <td>0     </td> <td>0    </td> <td>0    </td> <td>0   </td> <td>0       </td> <td>0     </td> <td>0.000228571</td> <td>0    </td> <td>0    </td> <td>0    </td> <td>0        </td> <td>0     </td> <td>0    </td> <td>0     </td> <td>0      </td> <td>0   </td> <td>0.00502857</td> <td>0     </td> <td>0.000914286</td> <td>0        </td> <td>0     </td> <td>0      </td> <td>0.000228571</td> <td>0      </td> <td>0     </td> <td>0     </td> <td>0          </td> <td>0          </td> <td>0    </td> <td>0        </td> <td>0.000685714</td> <td>0.000457143</td> <td>0   </td> <td>0      </td> <td>0     </td> <td>0          </td> <td>0.00137143</td> <td>0        </td> <td>0      </td> <td>0.00182857 </td> <td>0      </td> <td>0   </td> <td>0   </td> <td>0          </td> <td>0          </td> <td>0    </td> <td>0.000228571</td> <td>0      </td> <td>0     </td> <td>0     </td> <td>0.00411429</td> <td>0    </td> <td>0          </td> <td>0          </td> <td>0    </td> <td>0     </td> <td>0    </td> <td>0.000914286</td> <td>0       </td> <td>0          </td> <td>0       </td> <td>0          </td> <td>0          </td> <td>0   </td> <td>0.0116571</td> <td>0    </td> <td>0.000228571</td> <td>0          </td> <td>0.000228571</td> <td>0     </td> <td>0       </td> <td>0          </td> <td>0    </td> <td>0   </td> <td>0.000228571</td> <td>0          </td> <td>0     </td> <td>0     </td> <td>0     </td> <td>0     </td> <td>0     </td> <td>0        </td> <td>0      </td> <td>0     </td> <td>0.000685714</td> <td>0     </td> <td>0        </td> <td>0   </td> <td>0        </td> <td>0     </td> <td>0.000914286</td> <td>0.000457143</td> <td>0     </td> <td>0         </td> <td>0     </td> <td>0          </td> <td>0.000457143</td> <td>0      </td> <td>0      </td> <td>0          </td> <td>0     </td> <td>0.00137143 </td> <td>0.000457143</td> <td>0         </td> <td>0.000685714</td> <td>0   </td> <td>0     </td> <td>0    </td> <td>0          </td> <td>0   </td> <td>0      </td> <td>0     </td> <td>0    </td> <td>0   </td> <td>0       </td> <td>0   </td> <td>0   </td> <td>0       </td> <td>0     </td> <td>0     </td> <td>0   </td> <td>0     </td> <td>0      </td> <td>0   </td> <td>0.000228571</td> <td>0          </td> <td>0   </td> <td>0.00754286</td> <td>0   </td> <td>0    </td> <td>0.000228571</td> <td>0.000457143</td> <td>0   </td> <td>0     </td> <td>0.000228571</td> <td>0.000228571</td> <td>0.000457143</td> <td>0    </td> <td>0    </td> <td>0          </td> <td>0   </td> <td>0          </td> <td>0.000228571</td> <td>0.000685714</td> <td>0       </td> <td>0       </td> <td>0          </td> <td>0      </td> <td>0          </td> <td>0.00228571</td> <td>0          </td> <td>0   </td> <td>0   </td> <td>0    </td> <td>0        </td> <td>0        </td> <td>0   </td> <td>0   </td> <td>0.000228571</td> <td>0      </td> <td>0          </td> <td>0          </td> <td>0          </td> <td>0          </td> <td>0    </td> <td>0   </td> <td>0.000228571</td> <td>0      </td> <td>0    </td> <td>0          </td> <td>0   </td> <td>0   </td> <td>0.000228571</td> <td>0     </td> <td>0     </td> <td>0          </td> <td>0   </td> <td>0        </td> <td>0          </td> <td>0      </td> <td>0   </td> <td>0.000228571</td> <td>0    </td> <td>0    </td> <td>0     </td> <td>0     </td> <td>0      </td> <td>0    </td> <td>0      </td> <td>0     </td> <td>0          </td> <td>0.000457143</td> <td>0        </td> <td>0     </td> <td>0        </td> <td>0         </td> <td>0      </td> <td>0.000228571</td> <td>0.000914286</td> <td>0    </td> <td>0.000228571</td> <td>0   </td> <td>0.000228571</td> <td>0    </td> <td>0.000685714</td> <td>0.000457143</td> <td>0     </td> <td>0      </td> <td>0.000228571</td> <td>0   </td> <td>0.0016     </td> <td>0    </td> <td>0          </td> <td>0      </td> <td>0     </td> <td>0          </td> <td>0      </td> <td>0     </td> <td>0     </td> <td>0       </td> <td>0   </td> <td>0       </td> <td>0   </td> <td>0.00114286 </td> <td>0      </td> <td>0          </td> <td>0   </td> <td>0   </td> <td>0      </td> <td>0     </td> <td>0          </td> <td>0   </td> <td>0       </td> <td>0.00114286</td> <td>0.00114286 </td> <td>0     </td> <td>0    </td> <td>0          </td> <td>0   </td> <td>0    </td> <td>0      </td> <td>0          </td> <td>0     </td> <td>0.000457143</td> <td>0          </td> <td>0.00274286</td> <td>0          </td> <td>0.000457143</td> <td>0   </td> <td>0   </td> <td>0   </td> <td>0   </td> <td>0      </td> <td>0      </td> <td>0          </td> <td>0       </td> <td>0    </td> <td>0   </td> <td>0        </td> <td>0          </td> <td>0        </td> <td>0        </td> <td>0    </td> <td>0   </td> <td>0    </td> <td>0.000228571</td> <td>0   </td> <td>0          </td> <td>0      </td> <td>0          </td> <td>0    </td> <td>0    </td> <td>0        </td> <td>0    </td> <td>0.000457143</td> <td>0.000457143</td> <td>0      </td> <td>0        </td> <td>0          </td> <td>0    </td> <td>0    </td> <td>0   </td> <td>0   </td> <td>0    </td> <td>0     </td> <td>0     </td> <td>0.000457143</td> <td>0   </td> <td>0    </td> <td>0      </td> <td>0   </td> <td>0    </td> <td>0        </td> <td>0     </td> <td>0    </td> <td>0    </td> <td>0    </td> <td>0          </td> <td>0          </td> <td>0    </td> <td>0   </td> <td>0    </td> <td>0   </td> <td>0.000228571</td> <td>0     </td> <td>0         </td> <td>0.000228571</td> <td>0.000228571</td> <td>0       </td> <td>0      </td> <td>0.000457143</td> <td>0       </td> <td>0    </td> <td>0   </td> <td>0      </td> <td>0.000685714</td> <td>0   </td> <td>0     </td> <td>0   </td> <td>0     </td> <td>0   </td> <td>0     </td> <td>0     </td> <td>0    </td> <td>0   </td> <td>0       </td> <td>0.000228571</td> <td>0          </td> <td>0     </td> <td>0    </td> <td>0         </td> <td>0        </td> <td>0         </td> <td>0          </td> <td>0     </td> <td>0   </td> <td>0   </td> <td>0.000685714</td> <td>0       </td> <td>0    </td> <td>0          </td> <td>0   </td> <td>0.000228571</td> <td>0     </td> <td>0.00411429</td> <td>0        </td> <td>0      </td> <td>0      </td> <td>0      </td> <td>0     </td> <td>0.000228571</td> <td>0.000685714</td> <td>0      </td> <td>0          </td> <td>0        </td> <td>0      </td> <td>0   </td> <td>0     </td> <td>0          </td> <td>0   </td> <td>0     </td> <td>0.000914286</td> <td>0          </td> <td>0     </td> <td>0          </td> <td>0   </td> <td>0   </td> <td>0.00114286 </td> <td>0   </td> <td>0     </td> <td>0   </td> <td>0          </td> <td>0.000228571</td> <td>0       </td> <td>0      </td> <td>0     </td> <td>0     </td> <td>0        </td> <td>0     </td> <td>0    </td> <td>0     </td> <td>0.000457143</td> <td>0   </td> <td>0     </td> <td>0          </td> <td>0        </td> <td>0         </td> <td>0    </td> <td>0          </td> <td>0        </td> <td>0   </td> <td>0.000457143</td> <td>0    </td> <td>0.00228571 </td> <td>0      </td> <td>0.000228571</td> <td>0          </td> <td>0     </td> <td>0.000228571</td> <td>0    </td> <td>0      </td> <td>0        </td> <td>0.000228571</td> <td>0        </td> <td>0    </td> <td>0    </td> <td>0   </td> <td>0         </td> <td>0   </td> <td>0.000457143</td> <td>0.000228571</td> <td>0          </td> <td>0          </td> <td>0.000457143</td> <td>0        </td> <td>0   </td> <td>0   </td> <td>0       </td> <td>0.000685714</td> <td>0     </td> <td>0.000228571</td> <td>0          </td> <td>0      </td> <td>0.000228571</td> <td>0.000457143</td> <td>0     </td> <td>0    </td> <td>0      </td> <td>0     </td> <td>0.00274286 </td> <td>0     </td> <td>0   </td> <td>0          </td> <td>0   </td> <td>0.000685714</td> <td>0      </td> <td>0   </td> <td>0          </td> <td>0    </td> <td>0   </td> <td>0   </td> <td>0          </td> <td>0     </td> <td>0    </td> <td>0     </td> <td>0        </td> <td>0   </td> <td>0     </td> <td>0.000228571</td> <td>0    </td> <td>0      </td> <td>0.000228571</td> <td>0         </td> <td>0.000228571</td> <td>0    </td> <td>0          </td> <td>0   </td> <td>0          </td> <td>0      </td> <td>0.00205714</td> <td>0        </td> <td>0   </td> <td>0      </td> <td>0.00114286 </td> <td>0    </td> <td>0.000228571</td> <td>0        </td> <td>0.000228571</td> <td>0   </td> <td>0   </td> <td>0          </td> <td>0   </td> <td>0   </td> <td>0      </td> <td>0     </td> <td>0.000228571</td> <td>0    </td> <td>0.00137143 </td> <td>0   </td> <td>0   </td> <td>0.00617143</td> <td>0     </td> <td>0   </td> <td>0          </td> <td>0        </td> <td>0    </td> <td>0    </td> <td>0   </td> <td>0    </td> <td>0          </td> <td>0          </td> <td>0   </td> <td>0    </td> <td>0.000228571</td> <td>0          </td> <td>0      </td> <td>0        </td> <td>0          </td> <td>0           </td> <td>0          </td> <td>0     </td> <td>0.000228571</td> <td>0.000685714</td> <td>0      </td> <td>0      </td> <td>0    </td> <td>0   </td> <td>0   </td> <td>0          </td> <td>0    </td> <td>0      </td> <td>0        </td> <td>0      </td> <td>0.00137143 </td> <td>0   </td> <td>0    </td> <td>0       </td> <td>0   </td> <td>0    </td> <td>0          </td> <td>0       </td> <td>0        </td> <td>0          </td> <td>0          </td> <td>0          </td> <td>0          </td> <td>0    </td> <td>0     </td> <td>0    </td> <td>0    </td> <td>0     </td> <td>0.000685714</td> <td>0     </td> <td>0     </td> <td>0    </td> <td>0    </td> <td>0    </td> <td>0     </td> <td>0.000228571</td> <td>0.000228571</td> <td>0    </td> <td>0      </td> <td>0        </td> <td>0          </td> <td>0   </td> <td>0   </td> <td>0    </td> <td>0    </td> <td>0     </td> <td>0    </td> <td>0.000228571</td> <td>0     </td> <td>0     </td> <td>0          </td> <td>0          </td> <td>0          </td> <td>0   </td> <td>0          </td> <td>0          </td> <td>0    </td> <td>0.0048    </td> <td>0    </td> <td>0     </td> <td>0      </td> <td>0     </td> <td>0    </td> <td>0   </td> <td>0   </td> <td>0     </td> <td>0.000228571</td> <td>0   </td> <td>0         </td> <td>0.000228571</td> <td>0          </td> <td>0    </td> <td>0   </td> <td>0       </td> <td>0   </td> <td>0   </td> <td>0        </td> <td>0.000228571</td> <td>0          </td> <td>0        </td> <td>0   </td> <td>0       </td> <td>0      </td> <td>0   </td> <td>0          </td> <td>0          </td> <td>0          </td> <td>0          </td> <td>0    </td> <td>0         </td> <td>0     </td> <td>0     </td> <td>0          </td> <td>0     </td> <td>0     </td> <td>0          </td> <td>0.00228571 </td> <td>0   </td> <td>0.000228571</td> <td>0    </td> <td>0.000228571</td> <td>0          </td> <td>0   </td> <td>0    </td> <td>0   </td> <td>0        </td> <td>0       </td> <td>0     </td> <td>0.000228571</td> <td>0    </td> <td>0.000457143</td> <td>0.000228571</td> <td>0         </td> <td>0   </td> <td>0     </td> <td>0   </td> <td>0   </td> <td>0          </td> <td>0      </td> <td>0        </td> <td>0     </td> <td>0      </td> <td>0    </td> <td>0.000228571</td> <td>0    </td> <td>0       </td> <td>0     </td> <td>0       </td> <td>0          </td> <td>0    </td> <td>0          </td> <td>0   </td> <td>0.000228571</td> <td>0        </td> <td>0   </td> <td>0.000228571</td> <td>0    </td> <td>0          </td> <td>0     </td> <td>0   </td> <td>0          </td> <td>0     </td> <td>0          </td> <td>0.000228571</td> <td>0    </td> <td>0        </td> <td>0   </td> <td>0          </td> <td>0.000228571</td> <td>0        </td> <td>0   </td> <td>0   </td> <td>0          </td> <td>0.000228571</td> <td>0    </td> <td>0     </td> <td>0       </td> <td>0    </td> <td>0    </td> <td>0      </td> <td>0   </td> <td>0     </td> <td>0     </td> <td>0          </td> <td>0   </td> <td>0   </td> <td>0   </td> <td>0.00502857</td> <td>0    </td> <td>0      </td> <td>0          </td> <td>0    </td> <td>0     </td> <td>0          </td> <td>0     </td> <td>0          </td> <td>0.00274286 </td> <td>0     </td> <td>0.000228571</td> <td>0     </td> <td>0     </td> <td>0      </td> <td>0        </td> <td>0          </td> <td>0    </td> <td>0    </td> <td>0      </td> <td>0       </td> <td>0    </td> <td>0   </td> <td>0     </td> <td>0.000914286</td> <td>0      </td> <td>0   </td> <td>0     </td> <td>0    </td> <td>0.000228571</td> <td>0.000228571</td> <td>0.000685714</td> <td>0.000685714</td> <td>0          </td> <td>0.000228571</td> <td>0          </td> <td>0      </td> <td>0   </td> <td>0          </td> <td>0   </td> <td>0   </td> <td>0      </td> <td>0     </td> <td>0      </td> <td>0          </td> <td>0          </td> <td>0        </td> <td>0.000457143</td> <td>0.000228571</td> <td>0.000228571</td> <td>0          </td> <td>0.0016</td> <td>0     </td> <td>0          </td> <td>0     </td> <td>0   </td> <td>0    </td> <td>0.00114286 </td> <td>0    </td> <td>0        </td> <td>0.000228571</td> <td>0      </td> <td>0     </td> <td>0   </td> <td>0    </td> <td>0   </td> <td>0      </td> <td>0.000228571</td> <td>0      </td> <td>0     </td> <td>0   </td> <td>0         </td> <td>0      </td> <td>0          </td> <td>0.000228571</td> <td>0      </td> <td>0          </td> <td>0    </td> <td>0     </td> <td>0      </td> <td>0       </td> <td>0          </td> <td>0    </td> <td>0      </td> <td>0       </td> <td>0         </td> <td>0     </td> <td>0     </td> <td>0      </td> <td>0.00205714 </td> <td>0    </td> <td>0     </td> <td>0          </td> <td>0.000228571</td> <td>0    </td> <td>0       </td> <td>0    </td> <td>0          </td> <td>0          </td> <td>0      </td> <td>0    </td> <td>0    </td> <td>0.000228571</td> <td>0          </td> <td>0.000457143</td> <td>0.000228571</td> <td>0     </td> <td>0        </td> <td>0    </td> <td>0          </td> <td>0    </td> <td>0    </td> <td>0   </td> <td>0     </td> <td>0   </td> <td>0.000228571</td> <td>0   </td> <td>0          </td> <td>0         </td> <td>0   </td> <td>0.000228571</td> <td>0    </td> <td>0          </td> <td>0          </td> <td>0          </td> <td>0.000228571</td> <td>0   </td> <td>0          </td> <td>0     </td> <td>0   </td> <td>0    </td> <td>0   </td> <td>0      </td> <td>0.000228571</td> <td>0      </td> <td>0      </td> <td>0    </td> <td>0    </td> <td>0.000228571</td> <td>0    </td> <td>0   </td> <td>0.000457143</td> <td>0    </td> <td>0      </td> <td>0   </td> <td>0    </td> <td>0    </td> <td>0.000457143</td> <td>0        </td> <td>0          </td> <td>0   </td> <td>0.000228571</td> <td>0      </td> <td>0   </td> <td>0      </td> <td>0     </td> <td>0   </td> <td>0     </td> <td>0     </td> <td>0    </td> <td>0   </td> <td>0.000457143</td> <td>0     </td> <td>0      </td> <td>0       </td> <td>0   </td> <td>0     </td> <td>0      </td> <td>0.000457143</td> <td>0        </td> <td>0          </td> <td>0          </td> <td>0.000457143</td> <td>0.000228571</td> <td>0    </td> <td>0      </td> <td>0.000457143</td> <td>0          </td> <td>0        </td> <td>0     </td> <td>0          </td> <td>0   </td> <td>0   </td> <td>0          </td> <td>0    </td> <td>0        </td> <td>0          </td> <td>0   </td> <td>0      </td> <td>0   </td> <td>0    </td> <td>0    </td> <td>0     </td> <td>0     </td> <td>0          </td> <td>0       </td> <td>0    </td> <td>0.000457143</td> <td>0     </td> <td>0.000457143</td> <td>0    </td> <td>0   </td> <td>0   </td> <td>0          </td> <td>0    </td> <td>0.000228571</td> <td>0   </td> <td>0     </td> <td>0.000228571</td> <td>0.000228571</td> <td>0     </td> <td>0       </td> <td>0.000457143</td> <td>0     </td> <td>0          </td> <td>0    </td> <td>0          </td> <td>0     </td> <td>0    </td> <td>0        </td> <td>0    </td> <td>0    </td> <td>0          </td> <td>0   </td> <td>0   </td> <td>0    </td> <td>0   </td> <td>0.000685714</td> <td>0    </td> <td>0.0356571</td> <td>0     </td> <td>0          </td> <td>0.000914286</td> <td>0      </td> <td>0    </td> <td>0.000228571</td> <td>0      </td> <td>0   </td> <td>0    </td> <td>0   </td> <td>0        </td> <td>0    </td> <td>0     </td> <td>0        </td> <td>0          </td> <td>0      </td> <td>0   </td> <td>0     </td> <td>0    </td> <td>0      </td> <td>0     </td> <td>0      </td> <td>0.000685714</td> <td>0    </td> <td>0.000228571</td> <td>0.000914286</td> <td>0     </td> <td>0.000228571</td> <td>0   </td> <td>0    </td> <td>0      </td> <td>0.000685714</td> <td>0      </td> <td>0   </td> <td>0          </td> <td>0   </td> <td>0     </td> <td>0.000228571</td> <td>0   </td> <td>0        </td> <td>0          </td> <td>0    </td> <td>0          </td> <td>0.000228571</td> <td>0      </td> <td>0.000685714</td> <td>0.000457143</td> <td>0          </td> <td>0.00205714</td> <td>0   </td> <td>0.000228571</td> <td>0     </td> <td>0.000457143</td> <td>0      </td> <td>0    </td> <td>0   </td> <td>0        </td> <td>0       </td> <td>0          </td> <td>0    </td> <td>0     </td> <td>0   </td> <td>0.0121143 </td> <td>0          </td> <td>0         </td> <td>0          </td> <td>0      </td> <td>0       </td> <td>0.000228571</td> <td>0        </td> <td>0     </td> <td>0     </td> <td>0      </td> <td>0        </td> <td>0.00525714</td> <td>0     </td> <td>0        </td> <td>0   </td> <td>0        </td> <td>0     </td> <td>0        </td> <td>0      </td> <td>0     </td> <td>0   </td> <td>0          </td> <td>0          </td> <td>0.000228571</td> <td>0   </td> <td>0          </td> <td>0        </td> <td>0    </td> <td>0       </td> <td>0.000914286</td> <td>0.000457143</td> <td>0.000228571</td> <td>0          </td> <td>0      </td> <td>0.000457143</td> <td>0   </td> <td>0     </td> <td>0    </td> <td>0        </td> <td>0     </td> <td>0     </td> <td>0     </td> <td>0      </td> <td>0          </td> <td>0     </td> <td>0        </td> <td>0     </td> <td>0      </td> <td>0     </td> <td>0        </td> <td>0.000228571</td> <td>0.000228571</td> <td>0     </td> <td>0   </td> <td>0     </td> <td>0   </td> <td>0.000228571</td> <td>0     </td> <td>0.000228571</td> <td>0   </td> <td>0    </td> <td>0          </td> <td>0.000228571</td> <td>0    </td> <td>0          </td> <td>0.000228571</td> <td>0   </td> <td>0   </td> <td>0        </td> <td>0        </td> <td>0          </td> <td>0      </td> <td>0.00137143 </td> <td>0          </td> <td>0        </td> <td>0    </td> <td>0      </td> <td>0.000457143</td> <td>0          </td> <td>0       </td> <td>0          </td> <td>0    </td> <td>0      </td> <td>0          </td> <td>0   </td> <td>0     </td> <td>0     </td> <td>0.000228571</td> <td>0.000457143</td> <td>0    </td> <td>0       </td> <td>0.000228571</td> <td>0      </td> <td>0    </td> <td>0.000914286</td> <td>0   </td> <td>0     </td> <td>0    </td> <td>0        </td> <td>0   </td> <td>0   </td> <td>0   </td> <td>0      </td> <td>0    </td> <td>0        </td> <td>0      </td> <td>0          </td> <td>0.0096    </td> <td>0     </td> <td>0   </td> <td>0      </td> <td>0.0016    </td> <td>0     </td> <td>0          </td> <td>0     </td> <td>0    </td> <td>0    </td> <td>0   </td> <td>0    </td> <td>0      </td> <td>0   </td> <td>0      </td> <td>0.000228571</td> <td>0     </td> <td>0    </td> <td>0        </td> <td>0       </td> <td>0      </td> <td>0    </td> <td>0   </td> <td>0         </td> <td>0          </td> <td>0          </td> <td>0    </td> <td>0    </td> <td>0          </td> <td>0.000228571</td> <td>0          </td> <td>0      </td> <td>0        </td> <td>0     </td> <td>0   </td> <td>0   </td> <td>0    </td> <td>0.000228571</td> <td>0.000914286</td> <td>0.000228571</td> <td>0.00297143 </td> <td>0.00434286</td> <td>0    </td> <td>0    </td> <td>0     </td> <td>0.000228571</td> <td>0         </td> <td>0    </td> <td>0          </td> <td>0      </td> <td>0     </td> <td>0      </td> <td>0    </td> <td>0   </td> <td>0    </td> <td>0.000228571</td> <td>0       </td> <td>0      </td> <td>0     </td> <td>0          </td> <td>0   </td> <td>0          </td> <td>0          </td> <td>0   </td> <td>0       </td> <td>0   </td> <td>0   </td> <td>0     </td> <td>0    </td> <td>0      </td> <td>0          </td> <td>0.000457143</td> <td>0    </td> <td>0        </td> <td>0        </td> <td>0      </td> <td>0     </td> <td>0          </td> <td>0    </td> <td>0        </td> <td>0.000914286</td> <td>0          </td> <td>0    </td> <td>0.000228571</td> <td>0     </td> <td>0          </td> <td>0        </td> <td>0      </td> <td>0          </td> <td>0   </td> <td>0    </td> <td>0    </td> <td>0   </td> <td>0   </td> <td>0   </td> <td>0   </td> <td>0          </td> <td>0    </td> <td>0    </td> <td>0      </td> <td>0     </td> <td>0          </td> <td>0   </td> <td>0          </td> <td>0    </td> <td>0      </td> <td>0         </td> <td>0.000228571</td> <td>0        </td> <td>0.000228571</td> <td>0        </td> <td>0   </td> <td>0    </td> <td>0   </td> <td>0          </td> <td>0          </td> <td>0.00525714</td> <td>0          </td> <td>0   </td> <td>0    </td> <td>0.00297143</td> <td>0   </td> <td>0      </td> <td>0   </td> <td>0   </td> <td>0.000914286</td> <td>0          </td> <td>0   </td> <td>0   </td> <td>0          </td> <td>0    </td> <td>0          </td> <td>0     </td> <td>0          </td> <td>0     </td> <td>0          </td> <td>0     </td> <td>0        </td> <td>0          </td> <td>0          </td> <td>0          </td> <td>0      </td> <td>0.000457143</td> <td>0   </td> <td>0     </td> <td>0    </td> <td>0   </td> <td>0        </td> <td>0          </td> <td>0        </td> <td>0     </td> <td>0          </td> <td>0     </td> <td>0     </td> <td>0     </td> <td>0    </td> <td>0.0016    </td> <td>0       </td> <td>0.000228571</td> <td>0.000228571</td> <td>0.0016    </td> <td>0   </td> <td>0     </td> <td>0       </td> <td>0          </td> <td>0   </td> <td>0   </td> <td>0     </td> <td>0.000228571</td> <td>0     </td> <td>0    </td> <td>0        </td> <td>0    </td> <td>0.000457143</td> <td>0     </td> <td>0   </td> <td>0   </td> <td>0          </td> <td>0    </td> <td>0       </td> <td>0          </td> <td>0      </td> <td>0          </td> <td>0      </td> <td>0.000228571</td> <td>0    </td> <td>0          </td> <td>0   </td> <td>0   </td> <td>0   </td> <td>0          </td> <td>0.000228571</td> <td>0.000228571</td> <td>0          </td> <td>0     </td> <td>0     </td> <td>0    </td> <td>0          </td> <td>0        </td> <td>0.000457143</td> <td>0.000228571</td> <td>0    </td> <td>0        </td> <td>0        </td> <td>0    </td> <td>0   </td> <td>0     </td> <td>0         </td> <td>0.000457143</td> <td>0   </td> <td>0       </td> <td>0.000228571</td> <td>0.000228571</td> <td>0     </td> <td>0    </td> <td>0    </td> <td>0       </td> <td>0   </td> <td>0          </td> <td>0    </td> <td>0   </td> <td>0    </td> <td>0         </td> <td>0   </td> <td>0    </td> <td>0   </td> <td>0     </td> <td>0   </td> <td>0          </td> <td>0   </td> <td>0          </td> <td>0    </td> <td>0    </td> <td>0     </td> <td>0      </td> <td>0.00228571</td> <td>0    </td> <td>0   </td> <td>0    </td> <td>0.00457143 </td> <td>0        </td> <td>0.00274286</td> <td>0    </td> <td>0          </td> <td>0    </td> <td>0    </td> <td>0          </td> <td>0     </td> <td>0       </td> <td>0          </td> <td>0      </td> <td>0      </td> <td>0   </td> <td>0      </td> <td>0.000228571</td> <td>0   </td> <td>0   </td> <td>0       </td> <td>0    </td> <td>0   </td> <td>0        </td> <td>0          </td> <td>0.00137143 </td> <td>0          </td> <td>0          </td> <td>0          </td> <td>0      </td> <td>0   </td> <td>0    </td> <td>0    </td> <td>0    </td> <td>0   </td> <td>0        </td> <td>0     </td> <td>0.000228571</td> <td>0.00137143 </td> <td>0   </td> <td>0   </td> <td>0          </td> <td>0          </td> <td>0          </td> <td>0      </td> <td>0   </td> <td>0     </td> <td>0          </td> <td>0   </td> <td>0        </td> <td>0    </td> <td>0      </td> <td>0.0016     </td> <td>0   </td> <td>0       </td> <td>0   </td> <td>0     </td> <td>0   </td> <td>0.000228571</td> <td>0   </td> <td>0          </td> <td>0          </td> <td>0.000228571</td> <td>0.00114286 </td> <td>0     </td> <td>0    </td> <td>0        </td> <td>0        </td> <td>0    </td> <td>0    </td> <td>0   </td> <td>0.00228571</td> <td>0.000685714</td> <td>0   </td> <td>0          </td> <td>0           </td> <td>0        </td> <td>0.00205714 </td> <td>0    </td> <td>0          </td> <td>0      </td> <td>0     </td> <td>0      </td> <td>0   </td> <td>0       </td> <td>0        </td> <td>0          </td> <td>0       </td> <td>0        </td> <td>0.00114286</td> <td>0      </td> <td>0     </td> <td>0.000457143</td> <td>0.000457143</td> <td>0     </td> <td>0    </td> <td>0   </td> <td>0   </td> <td>0          </td> <td>0          </td> <td>0   </td> <td>0          </td> <td>0        </td> <td>0     </td> <td>0     </td> <td>0     </td> <td>0        </td> <td>0     </td> <td>0          </td> <td>0         </td> <td>0.000685714</td> <td>0    </td> <td>0     </td> <td>0          </td> <td>0      </td> <td>0       </td> <td>0   </td> <td>0   </td> <td>0     </td> <td>0       </td> <td>0          </td> <td>0      </td> <td>0     </td> <td>0     </td> <td>0.000457143</td> <td>0   </td> <td>0   </td> <td>0.000228571</td> <td>0   </td> <td>0.000457143</td> <td>0.000228571</td> <td>0        </td> <td>0   </td> <td>0.00114286 </td> <td>0        </td> <td>0.00114286 </td> <td>0      </td> <td>0.000228571</td> <td>0     </td> <td>0    </td> <td>0          </td> <td>0    </td> <td>0          </td> <td>0.000228571</td> <td>0          </td> <td>0   </td> <td>0   </td> <td>0.000228571</td> <td>0          </td> <td>0     </td> <td>0          </td> <td>0    </td> <td>0          </td> <td>0          </td> <td>0    </td> <td>0     </td> <td>0        </td> <td>0   </td> <td>0    </td> <td>0      </td> <td>0.000228571</td> <td>0   </td> <td>0.00114286 </td> <td>0      </td> <td>0          </td> <td>0   </td> <td>0          </td> <td>0    </td> <td>0.000228571</td> <td>0       </td> <td>0   </td> <td>0     </td> <td>0          </td> <td>0     </td> <td>0          </td> <td>0          </td> <td>0    </td> <td>0     </td> <td>0   </td> <td>0.00182857</td> <td>0.000457143</td> <td>0    </td> <td>0     </td> <td>0   </td> <td>0.000228571</td> <td>0          </td> <td>0       </td> <td>0.000228571</td> <td>0        </td> <td>0          </td> <td>0.000228571</td> <td>0   </td> <td>0     </td> <td>0.000228571</td> <td>0      </td> <td>0     </td> <td>0.000228571</td> <td>0       </td> <td>0          </td> <td>0.000685714</td> <td>0.000228571</td> <td>0.000228571</td> <td>0    </td> <td>0    </td> <td>0    </td> <td>0    </td> <td>0    </td> <td>0.00182857 </td> <td>0   </td> <td>0          </td> <td>0    </td> <td>0.000228571</td> <td>0    </td> <td>0   </td> <td>0        </td> <td>0    </td> <td>0      </td> <td>0     </td> <td>0      </td> <td>0   </td> <td>0          </td> <td>0   </td> <td>0    </td> <td>0   </td> <td>0        </td> <td>0.000228571</td> <td>0      </td> <td>0       </td> <td>0          </td> <td>0.000228571</td> <td>0.000228571</td> <td>0.000457143</td> <td>0     </td> <td>0     </td> <td>0.000457143</td> <td>0   </td> <td>0       </td> <td>0    </td> <td>0.000228571</td> <td>0       </td> <td>0     </td> <td>0.000457143</td> <td>0   </td> <td>0          </td> <td>0        </td> <td>0.000457143</td> <td>0   </td> <td>0.000228571</td> <td>0    </td> <td>0       </td> <td>0     </td> <td>0.00137143</td> <td>0        </td> <td>0   </td> <td>0   </td> <td>0    </td> <td>0   </td> <td>0.000685714</td> <td>0       </td> <td>0    </td> <td>0.00205714</td> <td>0.000228571</td> <td>0        </td> <td>0.000228571</td> <td>0.000228571</td> <td>0        </td> <td>0          </td> <td>0.000228571</td> <td>0         </td> <td>0          </td> <td>0          </td> <td>0   </td> <td>0          </td> <td>0.00205714 </td> <td>0      </td> <td>0       </td> <td>0.000228571</td> <td>0          </td> <td>0.000457143</td> <td>0           </td> <td>0     </td> <td>0   </td> <td>0.000685714</td> <td>0        </td> <td>0    </td> <td>0.000228571</td> <td>0    </td> <td>0          </td> <td>0          </td> <td>0      </td> <td>0      </td> <td>0   </td> <td>0.0288   </td> <td>0    </td> <td>0    </td> <td>0.000228571</td> <td>0.000228571</td> <td>0   </td> <td>0.000228571</td> <td>0        </td> <td>0          </td> <td>0      </td> <td>0     </td> <td>0.00137143</td> <td>0      </td> <td>0     </td> <td>0          </td> <td>0    </td> <td>0    </td> <td>0   </td> <td>0.000685714</td> <td>0   </td> <td>0    </td> <td>0    </td> <td>0.000228571</td> <td>0   </td> <td>0        </td> <td>0.00434286 </td> <td>0          </td> <td>0      </td> <td>0     </td> <td>0      </td> <td>0.000457143</td> <td>0         </td> <td>0.000228571</td> <td>0   </td> <td>0     </td> <td>0.000228571</td> <td>0.000228571</td> <td>0    </td> <td>0     </td> <td>0       </td> <td>0      </td> <td>0.000457143</td> <td>0   </td> <td>0    </td> <td>0      </td> <td>0    </td> <td>0.000228571</td> <td>0       </td> <td>0    </td> <td>0   </td> <td>0          </td> <td>0          </td> <td>0          </td> <td>0          </td> <td>0           </td> <td>0.000228571</td> <td>0    </td> <td>0    </td> <td>0.000685714</td> <td>0   </td> <td>0   </td> <td>0       </td> <td>0     </td> <td>0        </td> <td>0          </td> <td>0    </td> <td>0    </td> <td>0          </td> <td>0    </td> <td>0          </td> <td>0   </td> <td>0      </td> <td>0.000457143</td> <td>0     </td> <td>0    </td> <td>0      </td> <td>0          </td> <td>0       </td> <td>0.000457143</td> <td>0    </td> <td>0    </td> <td>0          </td> <td>0   </td> <td>0    </td> <td>0.000228571</td> <td>0        </td> <td>0    </td> <td>0       </td> <td>0        </td> <td>0.00502857</td> <td>0     </td> <td>0        </td> <td>0        </td> <td>0    </td> <td>0          </td> <td>0.000228571</td> <td>0       </td> <td>0      </td> <td>0     </td> <td>0      </td> <td>0   </td> <td>0     </td> <td>0      </td> <td>0    </td> <td>0    </td> <td>0      </td> <td>0   </td> <td>0    </td> <td>0          </td> <td>0.000228571</td> <td>0         </td> <td>0        </td> <td>0          </td> <td>0     </td> <td>0   </td> <td>0          </td> <td>0.000228571</td> <td>0     </td> <td>0          </td> <td>0.000914286</td> <td>0.000228571</td> <td>0         </td> <td>0   </td> <td>0.00137143</td> <td>0          </td> <td>0    </td> <td>0   </td> <td>0      </td> <td>0   </td> <td>0.000457143</td> <td>0   </td> <td>0   </td> <td>0       </td> <td>0     </td> <td>0     </td> <td>0   </td> <td>0.000228571</td> <td>0   </td> <td>0    </td> <td>0          </td> <td>0     </td> <td>0.000457143</td> <td>0   </td> <td>0    </td> <td>0          </td> <td>0   </td> <td>0.00114286</td> <td>0.00137143 </td> <td>0          </td> <td>0     </td> <td>0    </td> <td>0     </td> <td>0   </td> <td>0    </td> <td>0.000228571</td> <td>0    </td> <td>0     </td> <td>0.00525714</td> <td>0   </td> <td>0    </td> <td>0     </td> <td>0.000228571</td> <td>0    </td> <td>0   </td> <td>0.000228571</td> <td>0.000457143</td> <td>0        </td> <td>0       </td> <td>0     </td> <td>0   </td> <td>0   </td> <td>0      </td> <td>0          </td> <td>0     </td> <td>0      </td> <td>0     </td> <td>0   </td> <td>0       </td> <td>0.000228571</td> <td>0          </td> <td>0.000228571</td> <td>0     </td> <td>0          </td> <td>0.000228571</td> <td>0          </td> <td>0    </td> <td>0       </td> <td>0          </td> <td>0.000228571</td> <td>0      </td> <td>0     </td> <td>0          </td> <td>0        </td> <td>0     </td> <td>0.000457143</td> <td>0     </td> <td>0     </td> <td>0    </td> <td>0      </td> <td>0          </td> <td>0          </td> <td>0   </td> <td>0.00114286 </td> <td>0    </td> <td>0   </td> <td>0.00137143 </td> <td>0          </td> <td>0.000228571</td> <td>0     </td> <td>0   </td> <td>0        </td> <td>0   </td> <td>0     </td> <td>0   </td> <td>0    </td> <td>0.000228571</td> <td>0.000457143</td> <td>0.000228571</td> <td>0.000228571</td> <td>0      </td> <td>0    </td> <td>0   </td> <td>0     </td> <td>0         </td> <td>0     </td> <td>0          </td> <td>0   </td> <td>0   </td> <td>0   </td> <td>0.000228571</td> <td>0     </td> <td>0     </td> <td>0   </td> <td>0          </td> <td>0    </td> <td>0     </td> <td>0    </td> <td>0       </td> <td>0      </td> <td>0     </td> <td>0.000228571 </td> <td>0.00365714</td> <td>0   </td> <td>0        </td> <td>0   </td> <td>0          </td> <td>0    </td> <td>0     </td> <td>0   </td> <td>0     </td> <td>0      </td> <td>0          </td> <td>0.000228571</td> <td>0          </td> <td>0          </td> <td>0        </td> <td>0          </td> <td>0   </td> <td>0    </td> <td>0      </td> <td>0        </td> <td>0          </td> <td>0          </td> <td>0    </td> <td>0.000914286</td> <td>0.000228571</td> <td>0.00114286 </td> <td>0     </td> <td>0     </td> <td>0       </td> <td>0          </td> <td>0.000914286</td> <td>0     </td> <td>0    </td> <td>0.000228571</td> <td>0.000228571</td> <td>0.000685714</td> <td>0          </td> <td>0   </td> <td>0        </td> <td>0      </td> <td>0.000228571</td> <td>0          </td> <td>0          </td> <td>0      </td> <td>0   </td> <td>0       </td> <td>0     </td> <td>0.000228571</td> <td>0    </td> <td>0.000228571</td> <td>0        </td> <td>0    </td> <td>0.000228571</td> <td>0    </td> <td>0    </td> <td>0   </td> <td>0.000228571</td> <td>0    </td> <td>0      </td> <td>0          </td> <td>0     </td> <td>0     </td> <td>0          </td> <td>0    </td> <td>0          </td> <td>0       </td> <td>0          </td> <td>0   </td> <td>0.000228571</td> <td>0   </td> <td>0     </td> <td>0     </td> <td>0    </td> <td>0       </td> <td>0        </td> <td>0    </td> <td>0     </td> <td>0.000457143</td> <td>0          </td> <td>0          </td> <td>0          </td> <td>0    </td> <td>0      </td> <td>0.000228571</td> <td>0    </td> <td>0    </td> <td>0          </td> <td>0    </td> <td>0   </td> <td>0.000457143</td> <td>0    </td> <td>0        </td> <td>0    </td> <td>0       </td> <td>0    </td> <td>0     </td> <td>0          </td> <td>0          </td> <td>0      </td> <td>0       </td> <td>0.000228571</td> <td>0   </td> <td>0    </td> <td>0      </td> <td>0      </td> <td>0.000457143</td> <td>0.0278857</td> <td>0   </td> <td>0    </td> <td>0.000457143</td> <td>0      </td> <td>0     </td> <td>0   </td> <td>0   </td> <td>0   </td> <td>0.000228571</td> <td>0          </td> <td>0          </td> <td>0        </td> <td>0    </td> <td>0.000228571</td> <td>0    </td> <td>0      </td> <td>0     </td> <td>0.000457143</td> <td>0     </td> <td>0     </td> <td>0          </td> <td>0     </td> <td>0.000228571</td> <td>0   </td> <td>0    </td> <td>0.000685714</td> <td>0          </td> <td>0   </td> <td>0    </td> <td>0    </td> <td>0   </td> <td>0     </td> <td>0     </td> <td>0   </td> <td>0.0107429 </td> <td>0.000914286</td> <td>0.000914286</td> <td>0       </td> <td>0          </td> <td>0     </td> <td>0    </td> <td>0.000457143</td> <td>0     </td> <td>0         </td> <td>0     </td> <td>0      </td> <td>0      </td> <td>0          </td> <td>0          </td> <td>0       </td> <td>0.000457143</td> <td>0.000685714</td> <td>0     </td> <td>0.0329143</td> <td>0      </td> <td>0      </td> <td>0.00137143 </td> <td>0     </td> <td>0    </td> <td>0.000457143</td> <td>0   </td> <td>0   </td> <td>0       </td> <td>0   </td> <td>0      </td> <td>0.000228571</td> <td>0          </td> <td>0     </td> <td>0    </td> <td>0   </td> <td>0   </td> <td>0.000228571</td> <td>0     </td> <td>0    </td> <td>0     </td> <td>0     </td> <td>0          </td> <td>0   </td> <td>0          </td> <td>0.000914286</td> <td>0          </td> <td>0   </td> <td>0        </td> <td>0      </td> <td>0    </td> <td>0          </td> <td>0        </td> <td>0.000228571</td> <td>0          </td> <td>0         </td> <td>0.000457143</td> <td>0     </td> <td>0    </td> <td>0   </td> <td>0          </td> <td>0        </td> <td>0.000685714</td> <td>0     </td> <td>0.000228571</td> <td>0     </td> <td>0   </td> <td>0   </td> <td>0       </td> <td>0       </td> <td>0   </td> <td>0   </td> <td>0    </td> <td>0   </td> <td>0          </td> <td>0        </td> <td>0   </td> <td>0        </td> <td>0          </td> <td>0.000228571</td> <td>0          </td> <td>0          </td> <td>0.000457143</td> <td>0   </td> <td>0     </td> <td>0          </td> <td>0   </td> <td>0    </td> <td>0.000685714</td> <td>0        </td> <td>0          </td> <td>0          </td> <td>0     </td> <td>0   </td> <td>0      </td> <td>0     </td> <td>0    </td> <td>0    </td> <td>0    </td> <td>0.000228571</td> <td>0     </td> <td>0          </td> <td>0          </td> <td>0          </td> <td>0   </td> <td>0          </td> <td>0   </td> <td>0        </td> <td>0    </td> <td>0      </td> <td>0          </td> <td>0.000457143</td> <td>0     </td> <td>0      </td> <td>0.000228571</td> <td>0.00274286</td> <td>0   </td> <td>0.000685714</td> <td>0   </td> <td>0     </td> <td>0.000228571</td> <td>0    </td> <td>0   </td> <td>0.0032    </td> <td>0.000228571</td> <td>0.00434286</td> <td>0   </td> <td>0   </td> <td>0        </td> <td>0    </td> <td>0   </td> <td>0          </td> <td>0.000457143</td> <td>0     </td> <td>0   </td> <td>0     </td> <td>0    </td> <td>0       </td> <td>0         </td> <td>0.000228571</td> <td>0.000228571</td> <td>0    </td> <td>0     </td> <td>0    </td> <td>0    </td> <td>0          </td> <td>0       </td> <td>0    </td> <td>0.000457143</td> <td>0          </td> <td>0.000228571</td> <td>0          </td> <td>0    </td> <td>0       </td> <td>0          </td> <td>0          </td> <td>0.000228571</td> <td>0   </td> <td>0        </td> <td>0.000228571</td> <td>0.000228571</td> <td>0   </td> <td>0   </td> <td>0.000228571</td> <td>0     </td> <td>0      </td> <td>0   </td> <td>0    </td> <td>0   </td> <td>0      </td> <td>0.000228571</td> <td>0          </td> <td>0.000228571</td> <td>0         </td> <td>0          </td> <td>0        </td> <td>0     </td> <td>0    </td> <td>0     </td> <td>0          </td> <td>0    </td> <td>0.000228571</td> <td>0   </td> <td>0          </td> <td>0       </td> <td>0     </td> <td>0     </td> <td>0     </td> <td>0      </td> <td>0.000228571</td> <td>0.000228571</td> <td>0    </td> <td>0   </td> <td>0     </td> <td>0   </td> <td>0     </td> <td>0   </td> <td>0   </td> <td>0      </td> <td>0       </td> <td>0.000228571</td> <td>0        </td> <td>0      </td> <td>0    </td> <td>0       </td> <td>0    </td> <td>0.00114286 </td> <td>0    </td> <td>0          </td> <td>0      </td> <td>0   </td> <td>0          </td> <td>0   </td> <td>0          </td> <td>0   </td> <td>0     </td> <td>0.000228571</td> <td>0.000457143</td> <td>0   </td> <td>0   </td> <td>0      </td> <td>0      </td> <td>0     </td> <td>0        </td> <td>0   </td> <td>0       </td> <td>0     </td> <td>0      </td> <td>0     </td> <td>0        </td> <td>0        </td> <td>0       </td> <td>0     </td> <td>0.000228571</td> <td>0     </td> <td>0   </td> <td>0   </td> <td>0.000457143</td> <td>0     </td> <td>0.000685714</td> <td>0.000228571</td> <td>0          </td> <td>0     </td> <td>0     </td> <td>0     </td> <td>0    </td> <td>0    </td> <td>0     </td> <td>0.000228571</td> <td>0       </td> <td>0    </td> <td>0          </td> <td>0.000685714</td> <td>0     </td> <td>0     </td> <td>0    </td> <td>0          </td> <td>0      </td> <td>0       </td> <td>0     </td> <td>0   </td> <td>0     </td> <td>0.0016     </td> <td>0          </td> <td>0      </td> <td>0      </td> <td>0    </td> <td>0    </td> <td>0          </td> <td>0          </td> <td>0.000228571</td> <td>0   </td> <td>0          </td> <td>0          </td> <td>0    </td> <td>0.000685714</td> <td>0       </td> <td>0     </td> <td>0     </td> <td>0.00137143 </td> <td>0     </td> <td>0          </td> <td>0       </td> <td>0          </td> <td>0     </td> <td>0          </td> <td>0     </td> <td>0.000685714</td> <td>0          </td> <td>0      </td> <td>0   </td> <td>0      </td> <td>0       </td> <td>0          </td> <td>0     </td> <td>0   </td> <td>0     </td> <td>0     </td> <td>0          </td> <td>0    </td> <td>0          </td> <td>0      </td> <td>0          </td> <td>0   </td> <td>0     </td> <td>0       </td> <td>0      </td> <td>0    </td> <td>0.000685714</td> <td>0          </td> <td>0       </td> <td>0        </td> <td>0     </td> <td>0    </td> <td>0      </td> <td>0.00114286 </td> <td>0   </td> <td>0    </td> <td>0   </td> <td>0   </td> <td>0        </td> <td>0    </td> <td>0          </td> <td>0     </td> <td>0      </td> <td>0     </td> <td>0.0121143</td> <td>0          </td> <td>0          </td> <td>0.000228571</td> <td>0          </td> <td>0      </td> <td>0.000457143</td> <td>0    </td> <td>0          </td> <td>0     </td> <td>0      </td> <td>0.000228571</td> <td>0          </td> <td>0        </td> <td>0   </td> <td>0    </td> <td>0          </td> <td>0     </td> <td>0          </td> <td>0   </td> <td>0.000228571</td> <td>0.000228571</td> <td>0        </td> <td>0    </td> <td>0    </td> <td>0       </td> <td>0        </td> <td>0       </td> <td>0    </td> <td>0   </td> <td>0     </td> <td>0.000457143</td> <td>0    </td> <td>0          </td> <td>0          </td> <td>0       </td> <td>0.000228571</td> <td>0     </td> <td>0          </td> <td>0     </td> <td>0          </td> <td>0          </td> <td>0     </td> <td>0          </td> <td>0    </td> <td>0   </td> <td>0     </td> <td>0          </td> <td>0      </td> <td>0        </td> <td>0          </td> <td>0     </td> <td>0      </td> <td>0   </td> <td>0.000228571</td> <td>0.000228571</td> <td>0    </td> <td>0    </td> <td>0   </td> <td>0    </td> <td>0    </td> <td>0   </td> <td>0       </td> <td>0          </td> <td>0.000457143</td> <td>0     </td> <td>0   </td> <td>0.000457143</td> <td>0.000685714</td> <td>0.0016     </td> <td>0   </td> <td>0    </td> <td>0      </td> <td>0   </td> <td>0.000914286</td> <td>0     </td> <td>0   </td> <td>0       </td> <td>0         </td> <td>0          </td> <td>0         </td> <td>0        </td> <td>0     </td> <td>0      </td> <td>0          </td> <td>0   </td> <td>0.00137143 </td> <td>0   </td> <td>0          </td> <td>0   </td> <td>0.000685714</td> <td>0     </td> <td>0      </td> <td>0    </td> <td>0          </td> <td>0    </td> <td>0         </td> <td>0   </td> <td>0       </td> <td>0        </td> <td>0     </td> <td>0        </td> <td>0     </td> <td>0        </td> <td>0          </td> <td>0     </td> <td>0   </td> <td>0.0112   </td> <td>0    </td> <td>0   </td> <td>0        </td> <td>0   </td> <td>0     </td> <td>0    </td> <td>0.000914286</td> <td>0.000457143</td> <td>0   </td> <td>0         </td> <td>0        </td> <td>0.000457143</td> <td>0        </td> <td>0    </td> <td>0          </td> <td>0       </td> <td>0.000228571</td> <td>0          </td> <td>0.00137143</td> <td>0   </td> <td>0          </td> <td>0    </td> <td>0    </td> <td>0      </td> <td>0          </td> <td>0.000228571</td> <td>0        </td> <td>0    </td> <td>0    </td> <td>0    </td> <td>0   </td> <td>0       </td> <td>0.000228571</td> <td>0   </td> <td>0     </td> <td>0.000228571</td> <td>0.00137143 </td> <td>0      </td> <td>0     </td> <td>0.000228571</td> <td>0.00342857</td> <td>0          </td> <td>0   </td> <td>0      </td> <td>0   </td> <td>0.0032    </td> <td>0   </td> <td>0   </td> <td>0.000228571</td> <td>0   </td> <td>0    </td> <td>0          </td> <td>0.000457143</td> <td>0          </td> <td>0          </td> <td>0        </td> <td>0   </td> <td>0          </td> <td>0    </td> <td>0.000228571</td> <td>0          </td> <td>0        </td> <td>0          </td> <td>0   </td> <td>0          </td> <td>0.000457143</td> <td>0.0032     </td> <td>0          </td> <td>0      </td> <td>0.000228571</td> <td>0        </td> <td>0   </td> <td>0    </td> <td>0    </td> <td>0          </td> <td>0    </td> <td>0   </td> <td>0          </td> <td>0        </td> <td>0       </td> <td>0    </td> <td>0         </td> <td>0.000228571</td> <td>0.000457143</td> <td>0.000228571</td> <td>0.000457143</td> <td>0.000457143</td> <td>0    </td> <td>0.00114286 </td> <td>0    </td> <td>0   </td> <td>0   </td> <td>0    </td> <td>0     </td> <td>0   </td> <td>0         </td> <td>0    </td> <td>0          </td> <td>0        </td> <td>0    </td> <td>0          </td> <td>0      </td> <td>0.000914286</td> <td>0   </td> <td>0      </td> <td>0      </td> <td>0     </td> <td>0     </td> <td>0     </td> <td>0          </td> <td>0.000914286</td> <td>0    </td> <td>0.00182857 </td> <td>0.000228571</td> <td>0   </td> <td>0          </td> <td>0          </td> <td>0      </td> <td>0        </td> <td>0      </td> <td>0    </td> <td>0     </td> <td>0    </td> <td>0        </td> <td>0      </td> <td>0   </td> <td>0.00182857 </td> <td>0.000457143</td> <td>0   </td> <td>0.000457143</td> <td>0   </td> <td>0     </td> <td>0   </td> <td>0    </td> <td>0          </td> <td>0   </td> <td>0       </td> <td>0   </td> <td>0     </td> <td>0      </td> <td>0.000457143</td> <td>0      </td> <td>0        </td> <td>0        </td> <td>0      </td> <td>0        </td> <td>0    </td> <td>0   </td> <td>0     </td> <td>0     </td> <td>0          </td> <td>0          </td> <td>0      </td> <td>0      </td> <td>0        </td> <td>0        </td> <td>0     </td> <td>0.00297143</td> <td>0   </td> <td>0   </td> <td>0     </td> <td>0   </td> <td>0    </td> <td>0   </td> <td>0          </td> <td>0     </td> <td>0    </td> <td>0     </td> <td>0   </td> <td>0          </td> <td>0   </td> <td>0     </td> <td>0      </td> <td>0       </td> <td>0.000228571</td> <td>0     </td> <td>0   </td> <td>0      </td> <td>0        </td> <td>0        </td> <td>0          </td> <td>0      </td> <td>0       </td> <td>0    </td> <td>0.000457143</td> <td>0.000228571</td> <td>0          </td> <td>0          </td> <td>0        </td> <td>0     </td> <td>0    </td> <td>0    </td> <td>0    </td> <td>0   </td> <td>0   </td> <td>0        </td> <td>0     </td> <td>0     </td> <td>0        </td> <td>0        </td> <td>0   </td> <td>0     </td> <td>0.000228571</td> <td>0   </td> <td>0.000228571</td> <td>0          </td> <td>0        </td> <td>0    </td> <td>0     </td> <td>0   </td> <td>0   </td> <td>0          </td> <td>0      </td> <td>0     </td> <td>0       </td> <td>0   </td> <td>0   </td> <td>0      </td> <td>0       </td> <td>0.000228571</td> <td>0    </td> <td>0    </td> <td>0          </td> <td>0          </td> <td>0     </td> <td>0.000228571</td> <td>0         </td> <td>0        </td> <td>0.00617143</td> <td>0    </td> <td>0     </td> <td>0    </td> <td>0          </td> <td>0   </td> <td>0       </td> <td>0    </td> <td>0    </td> <td>0          </td> <td>0          </td> <td>0          </td> <td>0      </td> <td>0          </td> <td>0     </td> <td>0   </td> <td>0        </td> <td>0.000228571</td> <td>0   </td> <td>0.000228571</td> <td>0          </td> <td>0     </td> <td>0      </td> <td>0    </td> <td>0.000228571</td> <td>0    </td> <td>0   </td> <td>0      </td> <td>0     </td> <td>0          </td> <td>0       </td> <td>0          </td> <td>0   </td> <td>0      </td> <td>0.00137143 </td> <td>0      </td> <td>0   </td> <td>0    </td> <td>0          </td> <td>0.00137143</td> <td>0          </td> <td>0     </td> <td>0.000228571</td> <td>0          </td> <td>0       </td> <td>0     </td> <td>0          </td> <td>0        </td> <td>0     </td> <td>0     </td> <td>0         </td> <td>0.000457143</td> <td>0    </td> <td>0     </td> <td>0.000228571</td> <td>0     </td> <td>0     </td> <td>0          </td> <td>0   </td> <td>0   </td> <td>0.00137143 </td> <td>0        </td> <td>0   </td> <td>0    </td> <td>0.000228571</td> <td>0.000228571</td> <td>0    </td> <td>0          </td> <td>0.0032    </td> <td>0.000457143</td> <td>0          </td> <td>0   </td> <td>0      </td> <td>0          </td> <td>0      </td> <td>0          </td> <td>0     </td> <td>0   </td> <td>0     </td> <td>0          </td> <td>0.000228571</td> <td>0          </td> <td>0   </td> <td>0     </td> <td>0     </td> <td>0      </td> <td>0          </td> <td>0        </td> <td>0.000457143</td> <td>0.000228571</td> <td>0    </td> <td>0     </td> <td>0    </td> <td>0     </td> <td>0    </td> <td>0   </td> <td>0    </td> <td>0      </td> <td>0   </td> <td>0   </td> <td>0   </td> <td>0    </td> <td>0      </td> <td>0.000228571</td> <td>0    </td> <td>0   </td> <td>0   </td> <td>0        </td> <td>0     </td> <td>0   </td> <td>0     </td> <td>0   </td> <td>0     </td> <td>0     </td> <td>0     </td> <td>0   </td> <td>0      </td> <td>0     </td> <td>0      </td> <td>0.000685714</td> <td>0          </td> <td>0   </td> <td>0.000228571</td> <td>0          </td> <td>0.0016     </td> <td>0      </td> <td>0    </td> <td>0   </td> <td>0    </td> <td>0        </td> <td>0     </td> <td>0    </td> <td>0     </td> <td>0          </td> <td>0      </td> <td>0   </td> <td>0.000685714</td> <td>0      </td> <td>0   </td> <td>0    </td> <td>0   </td> <td>0   </td> <td>0          </td> <td>0.000228571</td> <td>0   </td> <td>0      </td> <td>0          </td> <td>0.000228571</td> <td>0.00274286</td> <td>0.000228571</td> <td>0.000228571</td> <td>0     </td> <td>0          </td> <td>0    </td> <td>0      </td> <td>0      </td> <td>0   </td> <td>0     </td> <td>0    </td> <td>0    </td> <td>0   </td> <td>0     </td> <td>0.000457143</td> <td>0    </td> <td>0          </td> <td>0   </td> <td>0   </td> <td>0   </td> <td>0          </td> <td>0      </td> <td>0        </td> <td>0        </td> <td>0.000228571</td> <td>0      </td> <td>0        </td> <td>0          </td> <td>0   </td> <td>0        </td> <td>0         </td> <td>0     </td> <td>0   </td> <td>0      </td> <td>0    </td> <td>0      </td> <td>0    </td> <td>0   </td> <td>0    </td> <td>0.000228571</td> <td>0.0016    </td> <td>0          </td> <td>0          </td> <td>0.000228571</td> <td>0    </td> <td>0   </td> <td>0.00182857 </td> <td>0        </td> <td>0.000228571</td> <td>0    </td> <td>0        </td> <td>0   </td> <td>0   </td> <td>0        </td> <td>0       </td> <td>0          </td> <td>0          </td> <td>0      </td> <td>0        </td> <td>0   </td> <td>0.000228571</td> <td>0          </td> <td>0     </td> <td>0    </td> <td>0.0016    </td> <td>0      </td> <td>0    </td> <td>0     </td> <td>0.000457143</td> <td>0     </td> <td>0       </td> <td>0.000228571</td> <td>0    </td> <td>0   </td> <td>0      </td> <td>0     </td> <td>0    </td> <td>0     </td> <td>0     </td> <td>0   </td> <td>0      </td> <td>0    </td> <td>0          </td> <td>0      </td> <td>0.000914286</td> <td>0   </td> <td>0   </td> <td>0     </td> <td>0   </td> <td>0   </td> <td>0   </td> <td>0       </td> <td>0   </td> <td>0   </td> <td>0.000914286</td> <td>0   </td> <td>0.00182857 </td> <td>0.00114286 </td> <td>0          </td> <td>0     </td> <td>0    </td> <td>0.000228571</td> <td>0     </td> <td>0.000228571</td> <td>0          </td> <td>0      </td> <td>0      </td> <td>0     </td> <td>0       </td> <td>0     </td> <td>0          </td> <td>0        </td> <td>0.000228571</td> <td>0      </td> <td>0        </td> <td>0.000228571</td> <td>0          </td> <td>0      </td> <td>0          </td> <td>0      </td> <td>0         </td> <td>0          </td> <td>0   </td> <td>0    </td> <td>0          </td> <td>0   </td> <td>0     </td> <td>0    </td> <td>0        </td> <td>0.000228571</td> <td>0      </td> <td>0    </td> <td>0       </td> <td>0   </td> <td>0      </td> <td>0.000228571</td> <td>0.000228571</td> <td>0     </td> <td>0   </td> <td>0      </td> <td>0        </td> <td>0.000228571</td> <td>0.000228571</td> <td>0.000228571</td> <td>0   </td> <td>0        </td> <td>0      </td> <td>0   </td> <td>0   </td> <td>0      </td> <td>0      </td> <td>0     </td> <td>0     </td> <td>0   </td> <td>0      </td> <td>0     </td> <td>0     </td> <td>0   </td> <td>0   </td> <td>0   </td> <td>0         </td> <td>0    </td> <td>0          </td> <td>0      </td> <td>0     </td> <td>0     </td> <td>0   </td> <td>0          </td> <td>0.000228571</td> <td>0.00502857</td> <td>0      </td> <td>0       </td> <td>0.000228571</td> <td>0     </td> <td>0     </td> <td>0          </td> <td>0        </td> <td>0.000228571</td> <td>0   </td> <td>0          </td> <td>0     </td> <td>0          </td> <td>0   </td> <td>0     </td> <td>0       </td> <td>0.0105143 </td> <td>0.000457143</td> <td>0       </td> <td>0     </td> <td>0      </td> <td>0   </td> <td>0      </td> <td>0   </td> <td>0     </td> <td>0     </td> <td>0        </td> <td>0          </td> <td>0      </td> <td>0         </td> <td>0   </td> <td>0          </td> <td>0   </td> <td>0          </td> <td>0    </td> <td>0      </td> <td>0          </td> <td>0   </td> <td>0   </td> <td>0   </td> <td>0    </td> <td>0          </td> <td>0          </td> <td>0    </td> <td>0     </td> <td>0     </td> <td>0.000228571</td> <td>0.00251429</td> <td>0        </td> <td>0    </td> <td>0.00708571</td> <td>0     </td> <td>0        </td> <td>0        </td> <td>0          </td> <td>0.000228571</td> <td>0          </td> <td>0          </td> <td>0      </td> <td>0.00182857 </td> <td>0   </td> <td>0     </td> <td>0     </td> <td>0    </td> <td>0          </td> <td>0    </td> <td>0   </td> <td>0    </td> <td>0       </td> <td>0     </td> <td>0          </td> <td>0     </td> <td>0         </td> <td>0.000228571</td> <td>0   </td> <td>0          </td> <td>0     </td> <td>0   </td> <td>0      </td> <td>0    </td> <td>0    </td> <td>0          </td> <td>0     </td> <td>0   </td> <td>0      </td> <td>0    </td> <td>0   </td> <td>0        </td> <td>0   </td> <td>0.000457143</td> <td>0    </td> <td>0     </td> <td>0.000457143</td> <td>0          </td> <td>0         </td> <td>0       </td> <td>0          </td> <td>0          </td> <td>0.0016     </td> <td>0      </td> <td>0     </td> <td>0          </td> <td>0   </td> <td>0          </td> <td>0   </td> <td>0    </td> <td>0          </td> <td>0      </td> <td>0.000457143</td> <td>0.000457143</td> <td>0.000228571</td> <td>0          </td> <td>0    </td> <td>0    </td> <td>0   </td> <td>0.000228571</td> <td>0    </td> <td>0          </td> <td>0    </td> <td>0          </td> <td>0    </td> <td>0.000457143</td> <td>0          </td> <td>0          </td> <td>0      </td> <td>0.000228571</td> <td>0     </td> <td>0      </td> <td>0.000228571</td> <td>0          </td> <td>0.000228571</td> <td>0.000914286</td> <td>0      </td> <td>0     </td> <td>0    </td> <td>0   </td> <td>0.000457143</td> <td>0          </td> <td>0   </td> <td>0       </td> <td>0   </td> <td>0    </td> <td>0      </td> <td>0      </td> <td>0.0123429</td> <td>0   </td> <td>0     </td> <td>0     </td> <td>0          </td> <td>0    </td> <td>0   </td> <td>0      </td> <td>0   </td> <td>0   </td> <td>0     </td> <td>0       </td> <td>0     </td> <td>0    </td> <td>0.000457143</td> <td>0          </td> <td>0   </td> <td>0    </td> <td>0     </td> <td>0   </td> <td>0          </td> <td>0   </td> <td>0.00137143 </td> <td>0      </td> <td>0          </td> <td>0          </td> <td>0          </td> <td>0          </td> <td>0    </td> <td>0   </td> <td>0   </td> <td>0.000228571</td> <td>0   </td> <td>0          </td> <td>0     </td> <td>0       </td> <td>0          </td> <td>0        </td> <td>0.000228571</td> <td>0      </td> <td>0    </td> <td>0   </td> <td>0       </td> <td>0          </td> <td>0   </td> <td>0          </td> <td>0.000228571</td> <td>0    </td> <td>0        </td> <td>0     </td> <td>0     </td> <td>0         </td> <td>0     </td> <td>0        </td> <td>0      </td> <td>0.000457143</td> <td>0   </td> <td>0    </td> <td>0     </td> <td>0      </td> <td>0      </td> <td>0     </td> <td>0        </td> <td>0      </td> <td>0         </td> <td>0.000228571</td> <td>0   </td> <td>0      </td> <td>0    </td> <td>0   </td> <td>0.000457143</td> <td>0    </td> <td>0     </td> <td>0    </td> <td>0    </td> <td>0        </td> <td>0     </td> <td>0   </td> <td>0       </td> <td>0     </td> <td>0    </td> <td>0.000228571</td> <td>0        </td> <td>0.000228571</td> <td>0   </td> <td>0.000685714</td> <td>0   </td> <td>0.000228571</td> <td>0.000228571</td> <td>0       </td> <td>0.000457143</td> <td>0.000228571</td> <td>0.000228571</td> <td>0    </td> <td>0   </td> <td>0   </td> <td>0   </td> <td>0     </td> <td>0    </td> <td>0   </td> <td>0   </td> <td>0        </td> <td>0     </td> <td>0   </td> <td>0    </td> <td>0       </td> <td>0       </td> <td>0          </td> <td>0      </td> <td>0      </td> <td>0   </td> <td>0       </td> <td>0    </td> <td>0       </td> <td>0   </td> <td>0    </td> <td>0    </td> <td>0     </td> <td>0   </td> <td>0    </td> <td>0     </td> <td>0       </td> <td>0          </td> <td>0      </td> <td>0   </td> <td>0        </td> <td>0     </td> <td>0    </td> <td>0    </td> <td>0        </td> <td>0     </td> <td>0      </td> <td>0          </td> <td>0    </td> <td>0.000228571</td> <td>0     </td> <td>0        </td> <td>0        </td> <td>0      </td> <td>0   </td> <td>0.000228571</td> <td>0    </td> <td>0          </td> <td>0        </td> <td>0    </td> <td>0          </td> <td>0         </td> <td>0.000228571</td> <td>0.000228571</td> <td>0   </td> <td>0   </td> <td>0          </td>\n",
       "        </tr>\n",
       "        <tr>\n",
       "            <td>panic room           </td> <td>2002  </td> <td>6.9   </td> <td>thriller</td> <td>2868   </td> <td>0.0112768 </td> <td>0          </td> <td>0.00109131 </td> <td>0          </td> <td>0    </td> <td>0   </td> <td>0     </td> <td>0         </td> <td>0   </td> <td>0    </td> <td>0        </td> <td>0          </td> <td>0    </td> <td>0        </td> <td>0.000363769</td> <td>0        </td> <td>0   </td> <td>0          </td> <td>0     </td> <td>0.000363769</td> <td>0    </td> <td>0   </td> <td>0      </td> <td>0          </td> <td>0       </td> <td>0   </td> <td>0        </td> <td>0      </td> <td>0     </td> <td>0   </td> <td>0   </td> <td>0      </td> <td>0    </td> <td>0     </td> <td>0          </td> <td>0          </td> <td>0.000363769</td> <td>0.000727537</td> <td>0     </td> <td>0          </td> <td>0          </td> <td>0.00145507 </td> <td>0.00109131</td> <td>0   </td> <td>0      </td> <td>0          </td> <td>0          </td> <td>0       </td> <td>0.000363769</td> <td>0        </td> <td>0   </td> <td>0          </td> <td>0          </td> <td>0          </td> <td>0      </td> <td>0      </td> <td>0    </td> <td>0.000363769</td> <td>0    </td> <td>0          </td> <td>0        </td> <td>0     </td> <td>0          </td> <td>0    </td> <td>0.00109131 </td> <td>0    </td> <td>0     </td> <td>0        </td> <td>0.00218261</td> <td>0          </td> <td>0          </td> <td>0     </td> <td>0    </td> <td>0          </td> <td>0      </td> <td>0      </td> <td>0     </td> <td>0    </td> <td>0      </td> <td>0       </td> <td>0   </td> <td>0   </td> <td>0     </td> <td>0      </td> <td>0    </td> <td>0          </td> <td>0    </td> <td>0     </td> <td>0     </td> <td>0   </td> <td>0   </td> <td>0   </td> <td>0   </td> <td>0.00545653</td> <td>0     </td> <td>0     </td> <td>0     </td> <td>0       </td> <td>0      </td> <td>0          </td> <td>0    </td> <td>0   </td> <td>0    </td> <td>0   </td> <td>0   </td> <td>0     </td> <td>0     </td> <td>0     </td> <td>0   </td> <td>0          </td> <td>0    </td> <td>0          </td> <td>0       </td> <td>0     </td> <td>0.00145507</td> <td>0       </td> <td>0.000363769</td> <td>0          </td> <td>0     </td> <td>0          </td> <td>0          </td> <td>0     </td> <td>0.00327392</td> <td>0          </td> <td>0.000363769</td> <td>0   </td> <td>0         </td> <td>0     </td> <td>0     </td> <td>0   </td> <td>0     </td> <td>0    </td> <td>0   </td> <td>0.00181884</td> <td>0    </td> <td>0      </td> <td>0          </td> <td>0          </td> <td>0   </td> <td>0.000727537</td> <td>0      </td> <td>0     </td> <td>0          </td> <td>0       </td> <td>0      </td> <td>0      </td> <td>0      </td> <td>0   </td> <td>0      </td> <td>0      </td> <td>0   </td> <td>0          </td> <td>0   </td> <td>0       </td> <td>0   </td> <td>0.000363769</td> <td>0   </td> <td>0        </td> <td>0     </td> <td>0   </td> <td>0     </td> <td>0     </td> <td>0       </td> <td>0       </td> <td>0     </td> <td>0          </td> <td>0.00327392</td> <td>0    </td> <td>0          </td> <td>0     </td> <td>0     </td> <td>0   </td> <td>0          </td> <td>0          </td> <td>0          </td> <td>0          </td> <td>0   </td> <td>0   </td> <td>0    </td> <td>0          </td> <td>0   </td> <td>0      </td> <td>0     </td> <td>0     </td> <td>0.000363769</td> <td>0         </td> <td>0.000363769</td> <td>0     </td> <td>0     </td> <td>0.000363769</td> <td>0     </td> <td>0     </td> <td>0      </td> <td>0      </td> <td>0.000727537</td> <td>0.000363769</td> <td>0        </td> <td>0    </td> <td>0          </td> <td>0    </td> <td>0   </td> <td>0       </td> <td>0   </td> <td>0     </td> <td>0   </td> <td>0   </td> <td>0     </td> <td>0     </td> <td>0    </td> <td>0      </td> <td>0   </td> <td>0    </td> <td>0    </td> <td>0.000363769</td> <td>0          </td> <td>0      </td> <td>0          </td> <td>0          </td> <td>0    </td> <td>0    </td> <td>0          </td> <td>0.00400146</td> <td>0   </td> <td>0          </td> <td>0      </td> <td>0.000363769</td> <td>0   </td> <td>0   </td> <td>0          </td> <td>0          </td> <td>0    </td> <td>0          </td> <td>0          </td> <td>0       </td> <td>0    </td> <td>0   </td> <td>0.00254638 </td> <td>0    </td> <td>0          </td> <td>0   </td> <td>0   </td> <td>0      </td> <td>0      </td> <td>0.0130957</td> <td>0         </td> <td>0.00109131 </td> <td>0     </td> <td>0          </td> <td>0       </td> <td>0      </td> <td>0        </td> <td>0     </td> <td>0     </td> <td>0          </td> <td>0      </td> <td>0   </td> <td>0           </td> <td>0   </td> <td>0    </td> <td>0          </td> <td>0.000363769</td> <td>0.000363769</td> <td>0.000363769</td> <td>0   </td> <td>0    </td> <td>0   </td> <td>0.000363769</td> <td>0          </td> <td>0      </td> <td>0          </td> <td>0          </td> <td>0     </td> <td>0        </td> <td>0    </td> <td>0.00291015 </td> <td>0    </td> <td>0          </td> <td>0     </td> <td>0        </td> <td>0          </td> <td>0   </td> <td>0      </td> <td>0.000727537</td> <td>0   </td> <td>0          </td> <td>0          </td> <td>0        </td> <td>0.000363769</td> <td>0     </td> <td>0     </td> <td>0        </td> <td>0      </td> <td>0        </td> <td>0.00109131 </td> <td>0     </td> <td>0      </td> <td>0          </td> <td>0       </td> <td>0          </td> <td>0    </td> <td>0          </td> <td>0          </td> <td>0          </td> <td>0     </td> <td>0      </td> <td>0          </td> <td>0          </td> <td>0     </td> <td>0   </td> <td>0    </td> <td>0          </td> <td>0   </td> <td>0     </td> <td>0          </td> <td>0   </td> <td>0          </td> <td>0     </td> <td>0    </td> <td>0          </td> <td>0   </td> <td>0      </td> <td>0.000363769</td> <td>0          </td> <td>0     </td> <td>0     </td> <td>0       </td> <td>0     </td> <td>0     </td> <td>0        </td> <td>0          </td> <td>0     </td> <td>0          </td> <td>0.000363769</td> <td>0         </td> <td>0        </td> <td>0        </td> <td>0          </td> <td>0      </td> <td>0         </td> <td>0          </td> <td>0.00109131</td> <td>0         </td> <td>0        </td> <td>0     </td> <td>0     </td> <td>0        </td> <td>0          </td> <td>0       </td> <td>0          </td> <td>0      </td> <td>0          </td> <td>0        </td> <td>0    </td> <td>0          </td> <td>0.000363769</td> <td>0          </td> <td>0     </td> <td>0       </td> <td>0.000363769</td> <td>0        </td> <td>0      </td> <td>0.000363769</td> <td>0    </td> <td>0     </td> <td>0   </td> <td>0         </td> <td>0      </td> <td>0.0101855 </td> <td>0          </td> <td>0      </td> <td>0          </td> <td>0        </td> <td>0     </td> <td>0   </td> <td>0      </td> <td>0    </td> <td>0          </td> <td>0.000363769</td> <td>0          </td> <td>0     </td> <td>0        </td> <td>0     </td> <td>0    </td> <td>0          </td> <td>0   </td> <td>0     </td> <td>0        </td> <td>0        </td> <td>0.0069116 </td> <td>0   </td> <td>0          </td> <td>0          </td> <td>0.000727537</td> <td>0          </td> <td>0    </td> <td>0   </td> <td>0.000363769</td> <td>0          </td> <td>0     </td> <td>0    </td> <td>0          </td> <td>0.000363769</td> <td>0.00109131 </td> <td>0         </td> <td>0          </td> <td>0     </td> <td>0    </td> <td>0     </td> <td>0    </td> <td>0   </td> <td>0      </td> <td>0   </td> <td>0.000363769</td> <td>0          </td> <td>0.000727537</td> <td>0      </td> <td>0      </td> <td>0   </td> <td>0   </td> <td>0     </td> <td>0    </td> <td>0          </td> <td>0    </td> <td>0          </td> <td>0         </td> <td>0     </td> <td>0    </td> <td>0          </td> <td>0          </td> <td>0   </td> <td>0    </td> <td>0    </td> <td>0        </td> <td>0   </td> <td>0.000727537</td> <td>0          </td> <td>0.00109131 </td> <td>0    </td> <td>0    </td> <td>0         </td> <td>0     </td> <td>0     </td> <td>0    </td> <td>0    </td> <td>0    </td> <td>0      </td> <td>0    </td> <td>0    </td> <td>0          </td> <td>0   </td> <td>0    </td> <td>0      </td> <td>0      </td> <td>0.00363769</td> <td>0     </td> <td>0          </td> <td>0    </td> <td>0    </td> <td>0      </td> <td>0        </td> <td>0      </td> <td>0   </td> <td>0   </td> <td>0   </td> <td>0.00109131 </td> <td>0          </td> <td>0   </td> <td>0    </td> <td>0          </td> <td>0   </td> <td>0      </td> <td>0   </td> <td>0          </td> <td>0    </td> <td>0    </td> <td>0     </td> <td>0        </td> <td>0    </td> <td>0    </td> <td>0        </td> <td>0.00145507</td> <td>0     </td> <td>0      </td> <td>0     </td> <td>0   </td> <td>0   </td> <td>0.000363769</td> <td>0.000363769</td> <td>0       </td> <td>0          </td> <td>0     </td> <td>0    </td> <td>0          </td> <td>0    </td> <td>0      </td> <td>0     </td> <td>0       </td> <td>0    </td> <td>0   </td> <td>0    </td> <td>0   </td> <td>0   </td> <td>0     </td> <td>0    </td> <td>0.000363769</td> <td>0      </td> <td>0     </td> <td>0    </td> <td>0          </td> <td>0   </td> <td>0      </td> <td>0         </td> <td>0.000727537</td> <td>0.000727537</td> <td>0    </td> <td>0          </td> <td>0      </td> <td>0          </td> <td>0       </td> <td>0    </td> <td>0         </td> <td>0.000363769</td> <td>0.00218261</td> <td>0          </td> <td>0   </td> <td>0      </td> <td>0    </td> <td>0          </td> <td>0       </td> <td>0    </td> <td>0.000363769</td> <td>0   </td> <td>0   </td> <td>0.00181884 </td> <td>0.00109131</td> <td>0    </td> <td>0   </td> <td>0         </td> <td>0   </td> <td>0      </td> <td>0      </td> <td>0   </td> <td>0       </td> <td>0          </td> <td>0   </td> <td>0          </td> <td>0          </td> <td>0.000363769</td> <td>0    </td> <td>0     </td> <td>0     </td> <td>0          </td> <td>0      </td> <td>0          </td> <td>0.00327392</td> <td>0          </td> <td>0      </td> <td>0.000363769</td> <td>0    </td> <td>0          </td> <td>0   </td> <td>0          </td> <td>0.000363769</td> <td>0.00109131</td> <td>0      </td> <td>0     </td> <td>0     </td> <td>0     </td> <td>0          </td> <td>0   </td> <td>0          </td> <td>0    </td> <td>0    </td> <td>0     </td> <td>0      </td> <td>0.00181884 </td> <td>0          </td> <td>0.00181884</td> <td>0    </td> <td>0.000363769</td> <td>0    </td> <td>0      </td> <td>0    </td> <td>0     </td> <td>0          </td> <td>0      </td> <td>0    </td> <td>0        </td> <td>0     </td> <td>0      </td> <td>0   </td> <td>0      </td> <td>0     </td> <td>0.000727537</td> <td>0          </td> <td>0          </td> <td>0   </td> <td>0.000363769</td> <td>0.000363769</td> <td>0     </td> <td>0      </td> <td>0     </td> <td>0       </td> <td>0          </td> <td>0    </td> <td>0     </td> <td>0   </td> <td>0          </td> <td>0.000363769</td> <td>0   </td> <td>0          </td> <td>0     </td> <td>0      </td> <td>0    </td> <td>0.0105493 </td> <td>0   </td> <td>0          </td> <td>0    </td> <td>0          </td> <td>0.00254638</td> <td>0          </td> <td>0          </td> <td>0.000363769</td> <td>0.000363769</td> <td>0.000363769</td> <td>0          </td> <td>0   </td> <td>0     </td> <td>0    </td> <td>0.000363769</td> <td>0   </td> <td>0      </td> <td>0   </td> <td>0.000363769</td> <td>0   </td> <td>0          </td> <td>0          </td> <td>0       </td> <td>0       </td> <td>0     </td> <td>0     </td> <td>0   </td> <td>0     </td> <td>0       </td> <td>0          </td> <td>0      </td> <td>0   </td> <td>0.000363769</td> <td>0          </td> <td>0.000363769</td> <td>0   </td> <td>0      </td> <td>0       </td> <td>0          </td> <td>0          </td> <td>0     </td> <td>0       </td> <td>0       </td> <td>0   </td> <td>0.000727537</td> <td>0        </td> <td>0    </td> <td>0       </td> <td>0      </td> <td>0    </td> <td>0       </td> <td>0          </td> <td>0      </td> <td>0.00109131 </td> <td>0          </td> <td>0      </td> <td>0      </td> <td>0          </td> <td>0          </td> <td>0   </td> <td>0   </td> <td>0          </td> <td>0.0152783</td> <td>0          </td> <td>0   </td> <td>0   </td> <td>0       </td> <td>0    </td> <td>0     </td> <td>0      </td> <td>0     </td> <td>0        </td> <td>0       </td> <td>0.00145507 </td> <td>0          </td> <td>0     </td> <td>0      </td> <td>0   </td> <td>0       </td> <td>0          </td> <td>0          </td> <td>0        </td> <td>0      </td> <td>0     </td> <td>0.00145507 </td> <td>0.00145507 </td> <td>0   </td> <td>0     </td> <td>0.00109131 </td> <td>0    </td> <td>0     </td> <td>0.00109131</td> <td>0.00145507 </td> <td>0.000363769</td> <td>0          </td> <td>0     </td> <td>0    </td> <td>0     </td> <td>0    </td> <td>0    </td> <td>0   </td> <td>0      </td> <td>0      </td> <td>0    </td> <td>0    </td> <td>0.00327392</td> <td>0          </td> <td>0.000727537</td> <td>0          </td> <td>0          </td> <td>0          </td> <td>0    </td> <td>0    </td> <td>0.00109131 </td> <td>0     </td> <td>0      </td> <td>0   </td> <td>0   </td> <td>0.00145507</td> <td>0   </td> <td>0        </td> <td>0   </td> <td>0       </td> <td>0          </td> <td>0    </td> <td>0          </td> <td>0        </td> <td>0     </td> <td>0          </td> <td>0          </td> <td>0    </td> <td>0    </td> <td>0        </td> <td>0   </td> <td>0        </td> <td>0          </td> <td>0       </td> <td>0          </td> <td>0          </td> <td>0          </td> <td>0   </td> <td>0     </td> <td>0        </td> <td>0          </td> <td>0     </td> <td>0          </td> <td>0          </td> <td>0     </td> <td>0          </td> <td>0   </td> <td>0          </td> <td>0          </td> <td>0        </td> <td>0          </td> <td>0   </td> <td>0    </td> <td>0        </td> <td>0          </td> <td>0    </td> <td>0          </td> <td>0      </td> <td>0    </td> <td>0        </td> <td>0          </td> <td>0    </td> <td>0    </td> <td>0     </td> <td>0      </td> <td>0    </td> <td>0    </td> <td>0   </td> <td>0   </td> <td>0   </td> <td>0    </td> <td>0          </td> <td>0    </td> <td>0          </td> <td>0    </td> <td>0     </td> <td>0          </td> <td>0          </td> <td>0.000727537</td> <td>0    </td> <td>0          </td> <td>0          </td> <td>0    </td> <td>0    </td> <td>0   </td> <td>0          </td> <td>0     </td> <td>0.000363769</td> <td>0       </td> <td>0     </td> <td>0     </td> <td>0        </td> <td>0    </td> <td>0          </td> <td>0   </td> <td>0       </td> <td>0      </td> <td>0.00109131 </td> <td>0        </td> <td>0          </td> <td>0     </td> <td>0   </td> <td>0          </td> <td>0    </td> <td>0       </td> <td>0       </td> <td>0      </td> <td>0    </td> <td>0          </td> <td>0    </td> <td>0   </td> <td>0       </td> <td>0   </td> <td>0    </td> <td>0          </td> <td>0         </td> <td>0        </td> <td>0   </td> <td>0     </td> <td>0    </td> <td>0     </td> <td>0        </td> <td>0   </td> <td>0     </td> <td>0.000727537</td> <td>0          </td> <td>0          </td> <td>0      </td> <td>0    </td> <td>0     </td> <td>0.00218261 </td> <td>0          </td> <td>0          </td> <td>0      </td> <td>0   </td> <td>0      </td> <td>0          </td> <td>0    </td> <td>0       </td> <td>0     </td> <td>0    </td> <td>0.00800291</td> <td>0     </td> <td>0          </td> <td>0    </td> <td>0      </td> <td>0      </td> <td>0     </td> <td>0     </td> <td>0          </td> <td>0    </td> <td>0.000363769</td> <td>0.000363769</td> <td>0    </td> <td>0.000363769</td> <td>0.000363769</td> <td>0    </td> <td>0     </td> <td>0.00291015 </td> <td>0         </td> <td>0   </td> <td>0   </td> <td>0       </td> <td>0         </td> <td>0     </td> <td>0   </td> <td>0    </td> <td>0      </td> <td>0        </td> <td>0     </td> <td>0          </td> <td>0   </td> <td>0          </td> <td>0    </td> <td>0     </td> <td>0    </td> <td>0       </td> <td>0        </td> <td>0      </td> <td>0      </td> <td>0    </td> <td>0      </td> <td>0       </td> <td>0          </td> <td>0   </td> <td>0     </td> <td>0        </td> <td>0    </td> <td>0     </td> <td>0.000363769</td> <td>0   </td> <td>0     </td> <td>0    </td> <td>0.000363769</td> <td>0      </td> <td>0          </td> <td>0     </td> <td>0    </td> <td>0        </td> <td>0     </td> <td>0          </td> <td>0     </td> <td>0   </td> <td>0.00327392</td> <td>0     </td> <td>0    </td> <td>0        </td> <td>0     </td> <td>0.000363769</td> <td>0     </td> <td>0         </td> <td>0      </td> <td>0          </td> <td>0        </td> <td>0       </td> <td>0      </td> <td>0    </td> <td>0          </td> <td>0.00873045</td> <td>0          </td> <td>0    </td> <td>0.000363769</td> <td>0   </td> <td>0          </td> <td>0          </td> <td>0   </td> <td>0    </td> <td>0       </td> <td>0     </td> <td>0    </td> <td>0     </td> <td>0.000363769</td> <td>0          </td> <td>0     </td> <td>0.000363769</td> <td>0          </td> <td>0          </td> <td>0.00109131 </td> <td>0   </td> <td>0     </td> <td>0    </td> <td>0          </td> <td>0     </td> <td>0    </td> <td>0          </td> <td>0          </td> <td>0      </td> <td>0     </td> <td>0          </td> <td>0          </td> <td>0       </td> <td>0    </td> <td>0      </td> <td>0      </td> <td>0     </td> <td>0     </td> <td>0       </td> <td>0     </td> <td>0          </td> <td>0.000363769</td> <td>0   </td> <td>0         </td> <td>0          </td> <td>0   </td> <td>0.000727537</td> <td>0    </td> <td>0.000363769</td> <td>0     </td> <td>0   </td> <td>0      </td> <td>0.0112768 </td> <td>0      </td> <td>0.000363769</td> <td>0.000727537</td> <td>0    </td> <td>0     </td> <td>0          </td> <td>0     </td> <td>0        </td> <td>0     </td> <td>0          </td> <td>0      </td> <td>0   </td> <td>0          </td> <td>0   </td> <td>0         </td> <td>0   </td> <td>0          </td> <td>0    </td> <td>0        </td> <td>0.000363769</td> <td>0.000727537</td> <td>0    </td> <td>0          </td> <td>0   </td> <td>0      </td> <td>0          </td> <td>0          </td> <td>0.000363769</td> <td>0    </td> <td>0     </td> <td>0   </td> <td>0          </td> <td>0.000363769</td> <td>0          </td> <td>0   </td> <td>0     </td> <td>0        </td> <td>0    </td> <td>0   </td> <td>0      </td> <td>0.000363769</td> <td>0.000363769</td> <td>0       </td> <td>0   </td> <td>0      </td> <td>0     </td> <td>0          </td> <td>0     </td> <td>0.0185522</td> <td>0   </td> <td>0   </td> <td>0            </td> <td>0     </td> <td>0       </td> <td>0      </td> <td>0       </td> <td>0      </td> <td>0      </td> <td>0   </td> <td>0       </td> <td>0.000363769</td> <td>0.00109131</td> <td>0        </td> <td>0     </td> <td>0     </td> <td>0    </td> <td>0          </td> <td>0          </td> <td>0.000363769</td> <td>0.000727537</td> <td>0          </td> <td>0          </td> <td>0       </td> <td>0          </td> <td>0          </td> <td>0.000363769</td> <td>0      </td> <td>0   </td> <td>0      </td> <td>0   </td> <td>0        </td> <td>0     </td> <td>0       </td> <td>0   </td> <td>0      </td> <td>0        </td> <td>0          </td> <td>0      </td> <td>0          </td> <td>0   </td> <td>0          </td> <td>0          </td> <td>0   </td> <td>0.000727537</td> <td>0      </td> <td>0       </td> <td>0   </td> <td>0.000363769</td> <td>0      </td> <td>0     </td> <td>0     </td> <td>0        </td> <td>0          </td> <td>0    </td> <td>0          </td> <td>0       </td> <td>0   </td> <td>0        </td> <td>0          </td> <td>0          </td> <td>0.000363769</td> <td>0.000727537</td> <td>0      </td> <td>0    </td> <td>0    </td> <td>0    </td> <td>0          </td> <td>0          </td> <td>0      </td> <td>0    </td> <td>0.00145507 </td> <td>0     </td> <td>0    </td> <td>0.000363769</td> <td>0         </td> <td>0   </td> <td>0          </td> <td>0      </td> <td>0.00109131</td> <td>0.000727537</td> <td>0.00436522</td> <td>0      </td> <td>0        </td> <td>0        </td> <td>0    </td> <td>0        </td> <td>0   </td> <td>0      </td> <td>0          </td> <td>0          </td> <td>0    </td> <td>0        </td> <td>0      </td> <td>0     </td> <td>0      </td> <td>0     </td> <td>0    </td> <td>0    </td> <td>0        </td> <td>0      </td> <td>0          </td> <td>0   </td> <td>0      </td> <td>0          </td> <td>0   </td> <td>0      </td> <td>0       </td> <td>0.000363769</td> <td>0    </td> <td>0        </td> <td>0.000363769</td> <td>0.00109131 </td> <td>0   </td> <td>0.000363769</td> <td>0    </td> <td>0     </td> <td>0   </td> <td>0    </td> <td>0          </td> <td>0    </td> <td>0          </td> <td>0          </td> <td>0.000363769</td> <td>0.000363769</td> <td>0      </td> <td>0          </td> <td>0          </td> <td>0          </td> <td>0   </td> <td>0      </td> <td>0     </td> <td>0      </td> <td>0        </td> <td>0          </td> <td>0          </td> <td>0   </td> <td>0    </td> <td>0    </td> <td>0          </td> <td>0   </td> <td>0          </td> <td>0          </td> <td>0     </td> <td>0     </td> <td>0    </td> <td>0          </td> <td>0.000363769</td> <td>0          </td> <td>0    </td> <td>0    </td> <td>0   </td> <td>0          </td> <td>0    </td> <td>0    </td> <td>0         </td> <td>0   </td> <td>0   </td> <td>0      </td> <td>0          </td> <td>0      </td> <td>0    </td> <td>0          </td> <td>0   </td> <td>0          </td> <td>0         </td> <td>0          </td> <td>0    </td> <td>0    </td> <td>0          </td> <td>0.00982175</td> <td>0          </td> <td>0    </td> <td>0    </td> <td>0    </td> <td>0      </td> <td>0    </td> <td>0     </td> <td>0      </td> <td>0   </td> <td>0   </td> <td>0   </td> <td>0    </td> <td>0        </td> <td>0   </td> <td>0    </td> <td>0       </td> <td>0   </td> <td>0       </td> <td>0     </td> <td>0         </td> <td>0         </td> <td>0       </td> <td>0.00109131</td> <td>0     </td> <td>0          </td> <td>0   </td> <td>0          </td> <td>0    </td> <td>0   </td> <td>0    </td> <td>0.000727537</td> <td>0           </td> <td>0      </td> <td>0    </td> <td>0        </td> <td>0        </td> <td>0          </td> <td>0.00145507</td> <td>0   </td> <td>0          </td> <td>0.000363769</td> <td>0     </td> <td>0    </td> <td>0   </td> <td>0          </td> <td>0     </td> <td>0      </td> <td>0        </td> <td>0      </td> <td>0   </td> <td>0   </td> <td>0     </td> <td>0.000363769</td> <td>0   </td> <td>0.00109131 </td> <td>0    </td> <td>0   </td> <td>0   </td> <td>0     </td> <td>0        </td> <td>0.000363769</td> <td>0   </td> <td>0        </td> <td>0     </td> <td>0        </td> <td>0          </td> <td>0          </td> <td>0.000363769</td> <td>0   </td> <td>0   </td> <td>0   </td> <td>0          </td> <td>0      </td> <td>0   </td> <td>0     </td> <td>0      </td> <td>0          </td> <td>0     </td> <td>0          </td> <td>0    </td> <td>0          </td> <td>0          </td> <td>0    </td> <td>0          </td> <td>0          </td> <td>0          </td> <td>0      </td> <td>0       </td> <td>0          </td> <td>0    </td> <td>0.000363769</td> <td>0          </td> <td>0    </td> <td>0          </td> <td>0   </td> <td>0          </td> <td>0        </td> <td>0        </td> <td>0   </td> <td>0   </td> <td>0   </td> <td>0     </td> <td>0         </td> <td>0.00109131 </td> <td>0     </td> <td>0          </td> <td>0       </td> <td>0   </td> <td>0      </td> <td>0.0156421 </td> <td>0          </td> <td>0   </td> <td>0        </td> <td>0       </td> <td>0          </td> <td>0          </td> <td>0.000727537</td> <td>0          </td> <td>0   </td> <td>0      </td> <td>0      </td> <td>0   </td> <td>0   </td> <td>0    </td> <td>0      </td> <td>0   </td> <td>0       </td> <td>0        </td> <td>0          </td> <td>0     </td> <td>0          </td> <td>0        </td> <td>0          </td> <td>0       </td> <td>0          </td> <td>0     </td> <td>0          </td> <td>0        </td> <td>0      </td> <td>0   </td> <td>0      </td> <td>0.000363769</td> <td>0.00327392</td> <td>0.000727537</td> <td>0          </td> <td>0   </td> <td>0          </td> <td>0        </td> <td>0   </td> <td>0          </td> <td>0          </td> <td>0         </td> <td>0   </td> <td>0    </td> <td>0     </td> <td>0.00218261</td> <td>0        </td> <td>0          </td> <td>0          </td> <td>0   </td> <td>0          </td> <td>0.00509276</td> <td>0          </td> <td>0.000363769</td> <td>0         </td> <td>0   </td> <td>0    </td> <td>0          </td> <td>0     </td> <td>0.000727537</td> <td>0   </td> <td>0          </td> <td>0          </td> <td>0.00254638 </td> <td>0    </td> <td>0.000363769</td> <td>0    </td> <td>0.000727537</td> <td>0   </td> <td>0        </td> <td>0      </td> <td>0    </td> <td>0     </td> <td>0       </td> <td>0     </td> <td>0     </td> <td>0   </td> <td>0   </td> <td>0   </td> <td>0.000363769</td> <td>0          </td> <td>0   </td> <td>0      </td> <td>0     </td> <td>0       </td> <td>0        </td> <td>0    </td> <td>0.00181884</td> <td>0          </td> <td>0    </td> <td>0    </td> <td>0   </td> <td>0   </td> <td>0    </td> <td>0          </td> <td>0          </td> <td>0          </td> <td>0        </td> <td>0    </td> <td>0          </td> <td>0         </td> <td>0          </td> <td>0          </td> <td>0       </td> <td>0.00400146</td> <td>0   </td> <td>0          </td> <td>0.0101855 </td> <td>0   </td> <td>0        </td> <td>0.000363769</td> <td>0   </td> <td>0   </td> <td>0          </td> <td>0          </td> <td>0     </td> <td>0    </td> <td>0      </td> <td>0        </td> <td>0   </td> <td>0.00109131 </td> <td>0     </td> <td>0          </td> <td>0       </td> <td>0.000363769</td> <td>0        </td> <td>0          </td> <td>0   </td> <td>0     </td> <td>0          </td> <td>0     </td> <td>0    </td> <td>0          </td> <td>0   </td> <td>0          </td> <td>0.00145507 </td> <td>0        </td> <td>0   </td> <td>0   </td> <td>0          </td> <td>0          </td> <td>0     </td> <td>0          </td> <td>0   </td> <td>0   </td> <td>0          </td> <td>0    </td> <td>0        </td> <td>0    </td> <td>0     </td> <td>0   </td> <td>0    </td> <td>0          </td> <td>0          </td> <td>0     </td> <td>0       </td> <td>0   </td> <td>0     </td> <td>0   </td> <td>0   </td> <td>0   </td> <td>0    </td> <td>0          </td> <td>0    </td> <td>0   </td> <td>0   </td> <td>0.000363769</td> <td>0    </td> <td>0   </td> <td>0   </td> <td>0       </td> <td>0   </td> <td>0.000363769</td> <td>0     </td> <td>0   </td> <td>0   </td> <td>0          </td> <td>0     </td> <td>0          </td> <td>0     </td> <td>0          </td> <td>0       </td> <td>0   </td> <td>0   </td> <td>0.000727537</td> <td>0.000727537</td> <td>0     </td> <td>0.000363769</td> <td>0    </td> <td>0      </td> <td>0   </td> <td>0      </td> <td>0.000363769</td> <td>0    </td> <td>0   </td> <td>0    </td> <td>0          </td> <td>0         </td> <td>0          </td> <td>0   </td> <td>0   </td> <td>0          </td> <td>0       </td> <td>0          </td> <td>0    </td> <td>0    </td> <td>0    </td> <td>0    </td> <td>0    </td> <td>0          </td> <td>0        </td> <td>0   </td> <td>0.00800291</td> <td>0     </td> <td>0   </td> <td>0      </td> <td>0     </td> <td>0          </td> <td>0       </td> <td>0          </td> <td>0          </td> <td>0          </td> <td>0    </td> <td>0   </td> <td>0     </td> <td>0      </td> <td>0     </td> <td>0   </td> <td>0     </td> <td>0          </td> <td>0        </td> <td>0       </td> <td>0     </td> <td>0     </td> <td>0     </td> <td>0.000727537</td> <td>0    </td> <td>0    </td> <td>0     </td> <td>0     </td> <td>0.00109131 </td> <td>0    </td> <td>0.000363769</td> <td>0          </td> <td>0     </td> <td>0       </td> <td>0          </td> <td>0     </td> <td>0.00472899</td> <td>0        </td> <td>0    </td> <td>0          </td> <td>0   </td> <td>0       </td> <td>0     </td> <td>0      </td> <td>0        </td> <td>0       </td> <td>0          </td> <td>0.000727537</td> <td>0   </td> <td>0          </td> <td>0    </td> <td>0          </td> <td>0    </td> <td>0          </td> <td>0     </td> <td>0     </td> <td>0          </td> <td>0     </td> <td>0   </td> <td>0        </td> <td>0   </td> <td>0          </td> <td>0     </td> <td>0          </td> <td>0        </td> <td>0        </td> <td>0    </td> <td>0            </td> <td>0    </td> <td>0       </td> <td>0          </td> <td>0    </td> <td>0   </td> <td>0          </td> <td>0   </td> <td>0          </td> <td>0          </td> <td>0          </td> <td>0   </td> <td>0       </td> <td>0    </td> <td>0    </td> <td>0          </td> <td>0.000363769</td> <td>0.000363769</td> <td>0   </td> <td>0          </td> <td>0          </td> <td>0      </td> <td>0   </td> <td>0.000363769</td> <td>0          </td> <td>0     </td> <td>0     </td> <td>0     </td> <td>0          </td> <td>0      </td> <td>0       </td> <td>0     </td> <td>0    </td> <td>0   </td> <td>0    </td> <td>0   </td> <td>0        </td> <td>0        </td> <td>0          </td> <td>0          </td> <td>0      </td> <td>0         </td> <td>0.000727537</td> <td>0     </td> <td>0          </td> <td>0        </td> <td>0.00436522</td> <td>0          </td> <td>0          </td> <td>0      </td> <td>0       </td> <td>0.00109131 </td> <td>0    </td> <td>0    </td> <td>0          </td> <td>0          </td> <td>0      </td> <td>0        </td> <td>0.000363769</td> <td>0.000363769</td> <td>0          </td> <td>0    </td> <td>0   </td> <td>0   </td> <td>0     </td> <td>0       </td> <td>0          </td> <td>0    </td> <td>0   </td> <td>0          </td> <td>0     </td> <td>0         </td> <td>0     </td> <td>0    </td> <td>0         </td> <td>0          </td> <td>0   </td> <td>0       </td> <td>0      </td> <td>0          </td> <td>0          </td> <td>0    </td> <td>0      </td> <td>0        </td> <td>0    </td> <td>0      </td> <td>0          </td> <td>0       </td> <td>0   </td> <td>0          </td> <td>0     </td> <td>0     </td> <td>0.00145507 </td> <td>0        </td> <td>0      </td> <td>0   </td> <td>0          </td> <td>0.000363769</td> <td>0     </td> <td>0          </td> <td>0        </td> <td>0       </td> <td>0    </td> <td>0   </td> <td>0   </td> <td>0         </td> <td>0          </td> <td>0          </td> <td>0      </td> <td>0          </td> <td>0      </td> <td>0    </td> <td>0.000363769</td> <td>0      </td> <td>0   </td> <td>0.000727537</td> <td>0        </td> <td>0       </td> <td>0.000363769</td> <td>0    </td> <td>0       </td> <td>0          </td> <td>0          </td> <td>0      </td> <td>0    </td> <td>0      </td> <td>0          </td> <td>0    </td> <td>0          </td> <td>0          </td> <td>0.000363769</td> <td>0          </td> <td>0      </td> <td>0    </td> <td>0          </td> <td>0.000363769</td> <td>0   </td> <td>0          </td> <td>0    </td> <td>0    </td> <td>0      </td> <td>0    </td> <td>0    </td> <td>0          </td> <td>0.00181884 </td> <td>0    </td> <td>0     </td> <td>0    </td> <td>0    </td> <td>0   </td> <td>0       </td> <td>0     </td> <td>0.00291015 </td> <td>0    </td> <td>0    </td> <td>0    </td> <td>0        </td> <td>0     </td> <td>0    </td> <td>0     </td> <td>0      </td> <td>0   </td> <td>0.0069116 </td> <td>0     </td> <td>0.00109131 </td> <td>0        </td> <td>0     </td> <td>0      </td> <td>0          </td> <td>0      </td> <td>0     </td> <td>0     </td> <td>0.000363769</td> <td>0          </td> <td>0    </td> <td>0        </td> <td>0.00109131 </td> <td>0          </td> <td>0   </td> <td>0      </td> <td>0     </td> <td>0          </td> <td>0.00145507</td> <td>0        </td> <td>0      </td> <td>0.00109131 </td> <td>0      </td> <td>0   </td> <td>0   </td> <td>0          </td> <td>0          </td> <td>0    </td> <td>0          </td> <td>0      </td> <td>0     </td> <td>0     </td> <td>0.00327392</td> <td>0    </td> <td>0.000363769</td> <td>0          </td> <td>0    </td> <td>0     </td> <td>0    </td> <td>0          </td> <td>0       </td> <td>0          </td> <td>0       </td> <td>0          </td> <td>0          </td> <td>0   </td> <td>0.0123681</td> <td>0    </td> <td>0.00109131 </td> <td>0          </td> <td>0          </td> <td>0     </td> <td>0       </td> <td>0          </td> <td>0    </td> <td>0   </td> <td>0.000363769</td> <td>0.000363769</td> <td>0     </td> <td>0     </td> <td>0     </td> <td>0     </td> <td>0     </td> <td>0        </td> <td>0      </td> <td>0     </td> <td>0.000363769</td> <td>0     </td> <td>0        </td> <td>0   </td> <td>0        </td> <td>0     </td> <td>0          </td> <td>0          </td> <td>0     </td> <td>0.00109131</td> <td>0     </td> <td>0          </td> <td>0          </td> <td>0      </td> <td>0      </td> <td>0.000363769</td> <td>0     </td> <td>0.000363769</td> <td>0          </td> <td>0.00109131</td> <td>0          </td> <td>0   </td> <td>0     </td> <td>0    </td> <td>0          </td> <td>0   </td> <td>0      </td> <td>0     </td> <td>0    </td> <td>0   </td> <td>0       </td> <td>0   </td> <td>0   </td> <td>0       </td> <td>0     </td> <td>0     </td> <td>0   </td> <td>0     </td> <td>0      </td> <td>0   </td> <td>0          </td> <td>0          </td> <td>0   </td> <td>0.00545653</td> <td>0   </td> <td>0    </td> <td>0          </td> <td>0          </td> <td>0   </td> <td>0     </td> <td>0.00181884 </td> <td>0          </td> <td>0          </td> <td>0    </td> <td>0    </td> <td>0.000363769</td> <td>0   </td> <td>0          </td> <td>0.00109131 </td> <td>0          </td> <td>0       </td> <td>0       </td> <td>0.000363769</td> <td>0      </td> <td>0          </td> <td>0.00327392</td> <td>0.000363769</td> <td>0   </td> <td>0   </td> <td>0    </td> <td>0        </td> <td>0        </td> <td>0   </td> <td>0   </td> <td>0          </td> <td>0      </td> <td>0.000363769</td> <td>0.00218261 </td> <td>0.000363769</td> <td>0          </td> <td>0    </td> <td>0   </td> <td>0          </td> <td>0      </td> <td>0    </td> <td>0          </td> <td>0   </td> <td>0   </td> <td>0          </td> <td>0     </td> <td>0     </td> <td>0          </td> <td>0   </td> <td>0        </td> <td>0          </td> <td>0      </td> <td>0   </td> <td>0          </td> <td>0    </td> <td>0    </td> <td>0     </td> <td>0     </td> <td>0      </td> <td>0    </td> <td>0      </td> <td>0     </td> <td>0          </td> <td>0          </td> <td>0        </td> <td>0     </td> <td>0        </td> <td>0         </td> <td>0      </td> <td>0          </td> <td>0          </td> <td>0    </td> <td>0.000363769</td> <td>0   </td> <td>0          </td> <td>0    </td> <td>0.000727537</td> <td>0          </td> <td>0     </td> <td>0      </td> <td>0          </td> <td>0   </td> <td>0          </td> <td>0    </td> <td>0.000727537</td> <td>0      </td> <td>0     </td> <td>0          </td> <td>0      </td> <td>0     </td> <td>0     </td> <td>0       </td> <td>0   </td> <td>0       </td> <td>0   </td> <td>0.000727537</td> <td>0      </td> <td>0          </td> <td>0   </td> <td>0   </td> <td>0      </td> <td>0     </td> <td>0          </td> <td>0   </td> <td>0       </td> <td>0         </td> <td>0.000363769</td> <td>0     </td> <td>0    </td> <td>0.000363769</td> <td>0   </td> <td>0    </td> <td>0      </td> <td>0          </td> <td>0     </td> <td>0          </td> <td>0          </td> <td>0.00509276</td> <td>0.00181884 </td> <td>0          </td> <td>0   </td> <td>0   </td> <td>0   </td> <td>0   </td> <td>0      </td> <td>0      </td> <td>0.00218261 </td> <td>0       </td> <td>0    </td> <td>0   </td> <td>0        </td> <td>0          </td> <td>0        </td> <td>0        </td> <td>0    </td> <td>0   </td> <td>0    </td> <td>0          </td> <td>0   </td> <td>0          </td> <td>0      </td> <td>0          </td> <td>0    </td> <td>0    </td> <td>0        </td> <td>0    </td> <td>0          </td> <td>0          </td> <td>0      </td> <td>0        </td> <td>0.000363769</td> <td>0    </td> <td>0    </td> <td>0   </td> <td>0   </td> <td>0    </td> <td>0     </td> <td>0     </td> <td>0.000363769</td> <td>0   </td> <td>0    </td> <td>0      </td> <td>0   </td> <td>0    </td> <td>0        </td> <td>0     </td> <td>0    </td> <td>0    </td> <td>0    </td> <td>0.000363769</td> <td>0          </td> <td>0    </td> <td>0   </td> <td>0    </td> <td>0   </td> <td>0          </td> <td>0     </td> <td>0         </td> <td>0          </td> <td>0.000727537</td> <td>0       </td> <td>0      </td> <td>0.00109131 </td> <td>0       </td> <td>0    </td> <td>0   </td> <td>0      </td> <td>0.00109131 </td> <td>0   </td> <td>0     </td> <td>0   </td> <td>0     </td> <td>0   </td> <td>0     </td> <td>0     </td> <td>0    </td> <td>0   </td> <td>0       </td> <td>0          </td> <td>0.000363769</td> <td>0     </td> <td>0    </td> <td>0         </td> <td>0        </td> <td>0         </td> <td>0          </td> <td>0     </td> <td>0   </td> <td>0   </td> <td>0          </td> <td>0       </td> <td>0    </td> <td>0.000363769</td> <td>0   </td> <td>0          </td> <td>0     </td> <td>0.00327392</td> <td>0        </td> <td>0      </td> <td>0      </td> <td>0      </td> <td>0     </td> <td>0          </td> <td>0.000363769</td> <td>0      </td> <td>0          </td> <td>0        </td> <td>0      </td> <td>0   </td> <td>0     </td> <td>0          </td> <td>0   </td> <td>0     </td> <td>0.00509276 </td> <td>0          </td> <td>0     </td> <td>0          </td> <td>0   </td> <td>0   </td> <td>0.000363769</td> <td>0   </td> <td>0     </td> <td>0   </td> <td>0          </td> <td>0          </td> <td>0       </td> <td>0      </td> <td>0     </td> <td>0     </td> <td>0        </td> <td>0     </td> <td>0    </td> <td>0     </td> <td>0          </td> <td>0   </td> <td>0     </td> <td>0          </td> <td>0        </td> <td>0         </td> <td>0    </td> <td>0          </td> <td>0        </td> <td>0   </td> <td>0          </td> <td>0    </td> <td>0.000363769</td> <td>0      </td> <td>0          </td> <td>0          </td> <td>0     </td> <td>0          </td> <td>0    </td> <td>0      </td> <td>0        </td> <td>0          </td> <td>0        </td> <td>0    </td> <td>0    </td> <td>0   </td> <td>0         </td> <td>0   </td> <td>0.00181884 </td> <td>0          </td> <td>0          </td> <td>0          </td> <td>0          </td> <td>0        </td> <td>0   </td> <td>0   </td> <td>0       </td> <td>0.000363769</td> <td>0     </td> <td>0          </td> <td>0.000363769</td> <td>0      </td> <td>0          </td> <td>0          </td> <td>0     </td> <td>0    </td> <td>0      </td> <td>0     </td> <td>0.000727537</td> <td>0     </td> <td>0   </td> <td>0.000727537</td> <td>0   </td> <td>0          </td> <td>0      </td> <td>0   </td> <td>0          </td> <td>0    </td> <td>0   </td> <td>0   </td> <td>0          </td> <td>0     </td> <td>0    </td> <td>0     </td> <td>0        </td> <td>0   </td> <td>0     </td> <td>0          </td> <td>0    </td> <td>0      </td> <td>0          </td> <td>0.00109131</td> <td>0          </td> <td>0    </td> <td>0          </td> <td>0   </td> <td>0          </td> <td>0      </td> <td>0.00109131</td> <td>0        </td> <td>0   </td> <td>0      </td> <td>0.00109131 </td> <td>0    </td> <td>0.000363769</td> <td>0        </td> <td>0          </td> <td>0   </td> <td>0   </td> <td>0          </td> <td>0   </td> <td>0   </td> <td>0      </td> <td>0     </td> <td>0          </td> <td>0    </td> <td>0.000727537</td> <td>0   </td> <td>0   </td> <td>0.00181884</td> <td>0     </td> <td>0   </td> <td>0          </td> <td>0        </td> <td>0    </td> <td>0    </td> <td>0   </td> <td>0    </td> <td>0.000363769</td> <td>0          </td> <td>0   </td> <td>0    </td> <td>0          </td> <td>0          </td> <td>0      </td> <td>0        </td> <td>0          </td> <td>0           </td> <td>0.000363769</td> <td>0     </td> <td>0          </td> <td>0.00218261 </td> <td>0      </td> <td>0      </td> <td>0    </td> <td>0   </td> <td>0   </td> <td>0          </td> <td>0    </td> <td>0      </td> <td>0        </td> <td>0      </td> <td>0.000363769</td> <td>0   </td> <td>0    </td> <td>0       </td> <td>0   </td> <td>0    </td> <td>0.000363769</td> <td>0       </td> <td>0        </td> <td>0          </td> <td>0          </td> <td>0          </td> <td>0          </td> <td>0    </td> <td>0     </td> <td>0    </td> <td>0    </td> <td>0     </td> <td>0          </td> <td>0     </td> <td>0     </td> <td>0    </td> <td>0    </td> <td>0    </td> <td>0     </td> <td>0          </td> <td>0.000363769</td> <td>0    </td> <td>0      </td> <td>0        </td> <td>0          </td> <td>0   </td> <td>0   </td> <td>0    </td> <td>0    </td> <td>0     </td> <td>0    </td> <td>0.000363769</td> <td>0     </td> <td>0     </td> <td>0.000363769</td> <td>0          </td> <td>0          </td> <td>0   </td> <td>0.000363769</td> <td>0          </td> <td>0    </td> <td>0.00727537</td> <td>0    </td> <td>0     </td> <td>0      </td> <td>0     </td> <td>0    </td> <td>0   </td> <td>0   </td> <td>0     </td> <td>0          </td> <td>0   </td> <td>0         </td> <td>0          </td> <td>0          </td> <td>0    </td> <td>0   </td> <td>0       </td> <td>0   </td> <td>0   </td> <td>0        </td> <td>0          </td> <td>0          </td> <td>0        </td> <td>0   </td> <td>0       </td> <td>0      </td> <td>0   </td> <td>0          </td> <td>0          </td> <td>0.000363769</td> <td>0          </td> <td>0    </td> <td>0         </td> <td>0     </td> <td>0     </td> <td>0          </td> <td>0     </td> <td>0     </td> <td>0          </td> <td>0.000727537</td> <td>0   </td> <td>0          </td> <td>0    </td> <td>0.000727537</td> <td>0          </td> <td>0   </td> <td>0    </td> <td>0   </td> <td>0        </td> <td>0       </td> <td>0     </td> <td>0          </td> <td>0    </td> <td>0          </td> <td>0.000363769</td> <td>0         </td> <td>0   </td> <td>0     </td> <td>0   </td> <td>0   </td> <td>0          </td> <td>0      </td> <td>0        </td> <td>0     </td> <td>0      </td> <td>0    </td> <td>0          </td> <td>0    </td> <td>0       </td> <td>0     </td> <td>0       </td> <td>0.000363769</td> <td>0    </td> <td>0          </td> <td>0   </td> <td>0.000363769</td> <td>0        </td> <td>0   </td> <td>0          </td> <td>0    </td> <td>0          </td> <td>0     </td> <td>0   </td> <td>0          </td> <td>0     </td> <td>0.000363769</td> <td>0          </td> <td>0    </td> <td>0        </td> <td>0   </td> <td>0          </td> <td>0          </td> <td>0        </td> <td>0   </td> <td>0   </td> <td>0          </td> <td>0          </td> <td>0    </td> <td>0     </td> <td>0       </td> <td>0    </td> <td>0    </td> <td>0      </td> <td>0   </td> <td>0     </td> <td>0     </td> <td>0          </td> <td>0   </td> <td>0   </td> <td>0   </td> <td>0.00545653</td> <td>0    </td> <td>0      </td> <td>0          </td> <td>0    </td> <td>0     </td> <td>0          </td> <td>0     </td> <td>0          </td> <td>0.000363769</td> <td>0     </td> <td>0          </td> <td>0     </td> <td>0     </td> <td>0      </td> <td>0        </td> <td>0          </td> <td>0    </td> <td>0    </td> <td>0      </td> <td>0       </td> <td>0    </td> <td>0   </td> <td>0     </td> <td>0          </td> <td>0      </td> <td>0   </td> <td>0     </td> <td>0    </td> <td>0          </td> <td>0          </td> <td>0.000363769</td> <td>0.00109131 </td> <td>0          </td> <td>0          </td> <td>0          </td> <td>0      </td> <td>0   </td> <td>0          </td> <td>0   </td> <td>0   </td> <td>0      </td> <td>0     </td> <td>0      </td> <td>0          </td> <td>0.000363769</td> <td>0        </td> <td>0          </td> <td>0          </td> <td>0          </td> <td>0          </td> <td>0     </td> <td>0     </td> <td>0          </td> <td>0     </td> <td>0   </td> <td>0    </td> <td>0.000363769</td> <td>0    </td> <td>0        </td> <td>0.000363769</td> <td>0      </td> <td>0     </td> <td>0   </td> <td>0    </td> <td>0   </td> <td>0      </td> <td>0.000363769</td> <td>0      </td> <td>0     </td> <td>0   </td> <td>0         </td> <td>0      </td> <td>0          </td> <td>0          </td> <td>0      </td> <td>0          </td> <td>0    </td> <td>0     </td> <td>0      </td> <td>0       </td> <td>0          </td> <td>0    </td> <td>0      </td> <td>0       </td> <td>0         </td> <td>0     </td> <td>0     </td> <td>0      </td> <td>0.000727537</td> <td>0    </td> <td>0     </td> <td>0.000363769</td> <td>0          </td> <td>0    </td> <td>0       </td> <td>0    </td> <td>0.000363769</td> <td>0          </td> <td>0      </td> <td>0    </td> <td>0    </td> <td>0          </td> <td>0          </td> <td>0.00109131 </td> <td>0          </td> <td>0     </td> <td>0        </td> <td>0    </td> <td>0          </td> <td>0    </td> <td>0    </td> <td>0   </td> <td>0     </td> <td>0   </td> <td>0          </td> <td>0   </td> <td>0.000363769</td> <td>0         </td> <td>0   </td> <td>0          </td> <td>0    </td> <td>0          </td> <td>0.00145507 </td> <td>0          </td> <td>0          </td> <td>0   </td> <td>0.000363769</td> <td>0     </td> <td>0   </td> <td>0    </td> <td>0   </td> <td>0      </td> <td>0          </td> <td>0      </td> <td>0      </td> <td>0    </td> <td>0    </td> <td>0          </td> <td>0    </td> <td>0   </td> <td>0          </td> <td>0    </td> <td>0      </td> <td>0   </td> <td>0    </td> <td>0    </td> <td>0          </td> <td>0        </td> <td>0          </td> <td>0   </td> <td>0          </td> <td>0      </td> <td>0   </td> <td>0      </td> <td>0     </td> <td>0   </td> <td>0     </td> <td>0     </td> <td>0    </td> <td>0   </td> <td>0.000363769</td> <td>0     </td> <td>0      </td> <td>0       </td> <td>0   </td> <td>0     </td> <td>0      </td> <td>0.000363769</td> <td>0        </td> <td>0          </td> <td>0          </td> <td>0          </td> <td>0          </td> <td>0    </td> <td>0      </td> <td>0          </td> <td>0.000363769</td> <td>0        </td> <td>0     </td> <td>0          </td> <td>0   </td> <td>0   </td> <td>0          </td> <td>0    </td> <td>0        </td> <td>0          </td> <td>0   </td> <td>0      </td> <td>0   </td> <td>0    </td> <td>0    </td> <td>0     </td> <td>0     </td> <td>0.000363769</td> <td>0       </td> <td>0    </td> <td>0.00181884 </td> <td>0     </td> <td>0.00509276 </td> <td>0    </td> <td>0   </td> <td>0   </td> <td>0          </td> <td>0    </td> <td>0.00109131 </td> <td>0   </td> <td>0     </td> <td>0          </td> <td>0          </td> <td>0     </td> <td>0       </td> <td>0          </td> <td>0     </td> <td>0          </td> <td>0    </td> <td>0          </td> <td>0     </td> <td>0    </td> <td>0        </td> <td>0    </td> <td>0    </td> <td>0          </td> <td>0   </td> <td>0   </td> <td>0    </td> <td>0   </td> <td>0          </td> <td>0    </td> <td>0.0411059</td> <td>0     </td> <td>0          </td> <td>0.00145507 </td> <td>0      </td> <td>0    </td> <td>0          </td> <td>0      </td> <td>0   </td> <td>0    </td> <td>0   </td> <td>0        </td> <td>0    </td> <td>0     </td> <td>0        </td> <td>0          </td> <td>0      </td> <td>0   </td> <td>0     </td> <td>0    </td> <td>0      </td> <td>0     </td> <td>0      </td> <td>0          </td> <td>0    </td> <td>0          </td> <td>0          </td> <td>0     </td> <td>0          </td> <td>0   </td> <td>0    </td> <td>0      </td> <td>0          </td> <td>0      </td> <td>0   </td> <td>0          </td> <td>0   </td> <td>0     </td> <td>0          </td> <td>0   </td> <td>0        </td> <td>0          </td> <td>0    </td> <td>0          </td> <td>0          </td> <td>0      </td> <td>0.000363769</td> <td>0          </td> <td>0          </td> <td>0.00109131</td> <td>0   </td> <td>0.000363769</td> <td>0     </td> <td>0.000727537</td> <td>0      </td> <td>0    </td> <td>0   </td> <td>0        </td> <td>0       </td> <td>0          </td> <td>0    </td> <td>0     </td> <td>0   </td> <td>0.0127319 </td> <td>0          </td> <td>0         </td> <td>0          </td> <td>0      </td> <td>0       </td> <td>0.00109131 </td> <td>0        </td> <td>0     </td> <td>0     </td> <td>0      </td> <td>0        </td> <td>0         </td> <td>0     </td> <td>0        </td> <td>0   </td> <td>0        </td> <td>0     </td> <td>0        </td> <td>0      </td> <td>0     </td> <td>0   </td> <td>0          </td> <td>0.000363769</td> <td>0          </td> <td>0   </td> <td>0.000363769</td> <td>0        </td> <td>0    </td> <td>0       </td> <td>0.000363769</td> <td>0          </td> <td>0.000363769</td> <td>0          </td> <td>0      </td> <td>0.00145507 </td> <td>0   </td> <td>0     </td> <td>0    </td> <td>0        </td> <td>0     </td> <td>0     </td> <td>0     </td> <td>0      </td> <td>0.000363769</td> <td>0     </td> <td>0        </td> <td>0     </td> <td>0      </td> <td>0     </td> <td>0        </td> <td>0          </td> <td>0.00109131 </td> <td>0     </td> <td>0   </td> <td>0     </td> <td>0   </td> <td>0.000363769</td> <td>0     </td> <td>0.000363769</td> <td>0   </td> <td>0    </td> <td>0          </td> <td>0.000727537</td> <td>0    </td> <td>0          </td> <td>0          </td> <td>0   </td> <td>0   </td> <td>0        </td> <td>0        </td> <td>0          </td> <td>0      </td> <td>0          </td> <td>0          </td> <td>0        </td> <td>0    </td> <td>0      </td> <td>0.000727537</td> <td>0.000363769</td> <td>0       </td> <td>0.000363769</td> <td>0    </td> <td>0      </td> <td>0          </td> <td>0   </td> <td>0     </td> <td>0     </td> <td>0          </td> <td>0.000363769</td> <td>0    </td> <td>0       </td> <td>0          </td> <td>0      </td> <td>0    </td> <td>0          </td> <td>0   </td> <td>0     </td> <td>0    </td> <td>0        </td> <td>0   </td> <td>0   </td> <td>0   </td> <td>0      </td> <td>0    </td> <td>0        </td> <td>0      </td> <td>0          </td> <td>0.00291015</td> <td>0     </td> <td>0   </td> <td>0      </td> <td>0.00254638</td> <td>0     </td> <td>0.000363769</td> <td>0     </td> <td>0    </td> <td>0    </td> <td>0   </td> <td>0    </td> <td>0      </td> <td>0   </td> <td>0      </td> <td>0.000363769</td> <td>0     </td> <td>0    </td> <td>0        </td> <td>0       </td> <td>0      </td> <td>0    </td> <td>0   </td> <td>0         </td> <td>0.000363769</td> <td>0.000363769</td> <td>0    </td> <td>0    </td> <td>0.000363769</td> <td>0          </td> <td>0          </td> <td>0      </td> <td>0        </td> <td>0     </td> <td>0   </td> <td>0   </td> <td>0    </td> <td>0          </td> <td>0.000727537</td> <td>0.00109131 </td> <td>0.00218261 </td> <td>0.00982175</td> <td>0    </td> <td>0    </td> <td>0     </td> <td>0          </td> <td>0         </td> <td>0    </td> <td>0.000363769</td> <td>0      </td> <td>0     </td> <td>0      </td> <td>0    </td> <td>0   </td> <td>0    </td> <td>0          </td> <td>0       </td> <td>0      </td> <td>0     </td> <td>0          </td> <td>0   </td> <td>0          </td> <td>0.000727537</td> <td>0   </td> <td>0       </td> <td>0   </td> <td>0   </td> <td>0     </td> <td>0    </td> <td>0      </td> <td>0          </td> <td>0          </td> <td>0    </td> <td>0        </td> <td>0        </td> <td>0      </td> <td>0     </td> <td>0          </td> <td>0    </td> <td>0        </td> <td>0          </td> <td>0          </td> <td>0    </td> <td>0.00109131 </td> <td>0     </td> <td>0.000727537</td> <td>0        </td> <td>0      </td> <td>0          </td> <td>0   </td> <td>0    </td> <td>0    </td> <td>0   </td> <td>0   </td> <td>0   </td> <td>0   </td> <td>0          </td> <td>0    </td> <td>0    </td> <td>0      </td> <td>0     </td> <td>0.00109131 </td> <td>0   </td> <td>0          </td> <td>0    </td> <td>0      </td> <td>0         </td> <td>0          </td> <td>0        </td> <td>0          </td> <td>0        </td> <td>0   </td> <td>0    </td> <td>0   </td> <td>0          </td> <td>0          </td> <td>0.0058203 </td> <td>0          </td> <td>0   </td> <td>0    </td> <td>0.00254638</td> <td>0   </td> <td>0      </td> <td>0   </td> <td>0   </td> <td>0.00254638 </td> <td>0.000363769</td> <td>0   </td> <td>0   </td> <td>0          </td> <td>0    </td> <td>0          </td> <td>0     </td> <td>0.000363769</td> <td>0     </td> <td>0          </td> <td>0     </td> <td>0        </td> <td>0.000363769</td> <td>0.000363769</td> <td>0          </td> <td>0      </td> <td>0.000363769</td> <td>0   </td> <td>0     </td> <td>0    </td> <td>0   </td> <td>0        </td> <td>0          </td> <td>0        </td> <td>0     </td> <td>0          </td> <td>0     </td> <td>0     </td> <td>0     </td> <td>0    </td> <td>0         </td> <td>0       </td> <td>0.000363769</td> <td>0          </td> <td>0.00254638</td> <td>0   </td> <td>0     </td> <td>0       </td> <td>0          </td> <td>0   </td> <td>0   </td> <td>0     </td> <td>0.000727537</td> <td>0     </td> <td>0    </td> <td>0        </td> <td>0    </td> <td>0          </td> <td>0     </td> <td>0   </td> <td>0   </td> <td>0.000363769</td> <td>0    </td> <td>0       </td> <td>0          </td> <td>0      </td> <td>0          </td> <td>0      </td> <td>0.00181884 </td> <td>0    </td> <td>0          </td> <td>0   </td> <td>0   </td> <td>0   </td> <td>0          </td> <td>0.00291015 </td> <td>0.000363769</td> <td>0.000727537</td> <td>0     </td> <td>0     </td> <td>0    </td> <td>0.000727537</td> <td>0        </td> <td>0.000727537</td> <td>0          </td> <td>0    </td> <td>0        </td> <td>0        </td> <td>0    </td> <td>0   </td> <td>0     </td> <td>0         </td> <td>0.000363769</td> <td>0   </td> <td>0       </td> <td>0          </td> <td>0.000363769</td> <td>0     </td> <td>0    </td> <td>0    </td> <td>0       </td> <td>0   </td> <td>0.000363769</td> <td>0    </td> <td>0   </td> <td>0    </td> <td>0         </td> <td>0   </td> <td>0    </td> <td>0   </td> <td>0     </td> <td>0   </td> <td>0          </td> <td>0   </td> <td>0          </td> <td>0    </td> <td>0    </td> <td>0     </td> <td>0      </td> <td>0.00363769</td> <td>0    </td> <td>0   </td> <td>0    </td> <td>0.000727537</td> <td>0        </td> <td>0         </td> <td>0    </td> <td>0          </td> <td>0    </td> <td>0    </td> <td>0          </td> <td>0     </td> <td>0       </td> <td>0.000363769</td> <td>0      </td> <td>0      </td> <td>0   </td> <td>0      </td> <td>0          </td> <td>0   </td> <td>0   </td> <td>0       </td> <td>0    </td> <td>0   </td> <td>0        </td> <td>0          </td> <td>0          </td> <td>0          </td> <td>0          </td> <td>0          </td> <td>0      </td> <td>0   </td> <td>0    </td> <td>0    </td> <td>0    </td> <td>0   </td> <td>0        </td> <td>0     </td> <td>0          </td> <td>0.00400146 </td> <td>0   </td> <td>0   </td> <td>0          </td> <td>0          </td> <td>0.000363769</td> <td>0      </td> <td>0   </td> <td>0     </td> <td>0          </td> <td>0   </td> <td>0        </td> <td>0    </td> <td>0      </td> <td>0.00254638 </td> <td>0   </td> <td>0       </td> <td>0   </td> <td>0     </td> <td>0   </td> <td>0          </td> <td>0   </td> <td>0          </td> <td>0.000363769</td> <td>0          </td> <td>0.000363769</td> <td>0     </td> <td>0    </td> <td>0        </td> <td>0        </td> <td>0    </td> <td>0    </td> <td>0   </td> <td>0.00545653</td> <td>0          </td> <td>0   </td> <td>0          </td> <td>0           </td> <td>0        </td> <td>0.000363769</td> <td>0    </td> <td>0          </td> <td>0      </td> <td>0     </td> <td>0      </td> <td>0   </td> <td>0       </td> <td>0        </td> <td>0          </td> <td>0       </td> <td>0        </td> <td>0         </td> <td>0      </td> <td>0     </td> <td>0.000727537</td> <td>0.000363769</td> <td>0     </td> <td>0    </td> <td>0   </td> <td>0   </td> <td>0          </td> <td>0.000363769</td> <td>0   </td> <td>0          </td> <td>0        </td> <td>0     </td> <td>0     </td> <td>0     </td> <td>0        </td> <td>0     </td> <td>0          </td> <td>0         </td> <td>0.000363769</td> <td>0    </td> <td>0     </td> <td>0          </td> <td>0      </td> <td>0       </td> <td>0   </td> <td>0   </td> <td>0     </td> <td>0       </td> <td>0.000727537</td> <td>0      </td> <td>0     </td> <td>0     </td> <td>0          </td> <td>0   </td> <td>0   </td> <td>0.00181884 </td> <td>0   </td> <td>0.000727537</td> <td>0          </td> <td>0        </td> <td>0   </td> <td>0          </td> <td>0        </td> <td>0.00218261 </td> <td>0      </td> <td>0          </td> <td>0     </td> <td>0    </td> <td>0          </td> <td>0    </td> <td>0          </td> <td>0          </td> <td>0.000363769</td> <td>0   </td> <td>0   </td> <td>0          </td> <td>0          </td> <td>0     </td> <td>0          </td> <td>0    </td> <td>0          </td> <td>0          </td> <td>0    </td> <td>0     </td> <td>0        </td> <td>0   </td> <td>0    </td> <td>0      </td> <td>0          </td> <td>0   </td> <td>0.000363769</td> <td>0      </td> <td>0.000363769</td> <td>0   </td> <td>0.00218261 </td> <td>0    </td> <td>0          </td> <td>0       </td> <td>0   </td> <td>0     </td> <td>0          </td> <td>0     </td> <td>0          </td> <td>0.000363769</td> <td>0    </td> <td>0     </td> <td>0   </td> <td>0.00327392</td> <td>0.000363769</td> <td>0    </td> <td>0     </td> <td>0   </td> <td>0          </td> <td>0          </td> <td>0       </td> <td>0          </td> <td>0        </td> <td>0.000363769</td> <td>0          </td> <td>0   </td> <td>0     </td> <td>0          </td> <td>0      </td> <td>0     </td> <td>0          </td> <td>0       </td> <td>0          </td> <td>0.000363769</td> <td>0          </td> <td>0.000727537</td> <td>0    </td> <td>0    </td> <td>0    </td> <td>0    </td> <td>0    </td> <td>0          </td> <td>0   </td> <td>0          </td> <td>0    </td> <td>0          </td> <td>0    </td> <td>0   </td> <td>0        </td> <td>0    </td> <td>0      </td> <td>0     </td> <td>0      </td> <td>0   </td> <td>0          </td> <td>0   </td> <td>0    </td> <td>0   </td> <td>0        </td> <td>0          </td> <td>0      </td> <td>0       </td> <td>0          </td> <td>0.000727537</td> <td>0          </td> <td>0.00145507 </td> <td>0     </td> <td>0     </td> <td>0          </td> <td>0   </td> <td>0       </td> <td>0    </td> <td>0          </td> <td>0       </td> <td>0     </td> <td>0.000363769</td> <td>0   </td> <td>0          </td> <td>0        </td> <td>0.000363769</td> <td>0   </td> <td>0          </td> <td>0    </td> <td>0       </td> <td>0     </td> <td>0         </td> <td>0        </td> <td>0   </td> <td>0   </td> <td>0    </td> <td>0   </td> <td>0.00181884 </td> <td>0       </td> <td>0    </td> <td>0.00145507</td> <td>0          </td> <td>0        </td> <td>0          </td> <td>0          </td> <td>0        </td> <td>0          </td> <td>0          </td> <td>0         </td> <td>0          </td> <td>0          </td> <td>0   </td> <td>0.000363769</td> <td>0.00109131 </td> <td>0      </td> <td>0       </td> <td>0          </td> <td>0          </td> <td>0          </td> <td>0           </td> <td>0     </td> <td>0   </td> <td>0.000727537</td> <td>0        </td> <td>0    </td> <td>0          </td> <td>0    </td> <td>0          </td> <td>0.000363769</td> <td>0      </td> <td>0      </td> <td>0   </td> <td>0.0185522</td> <td>0    </td> <td>0    </td> <td>0.000727537</td> <td>0          </td> <td>0   </td> <td>0          </td> <td>0        </td> <td>0          </td> <td>0      </td> <td>0     </td> <td>0.00181884</td> <td>0      </td> <td>0     </td> <td>0.000363769</td> <td>0    </td> <td>0    </td> <td>0   </td> <td>0          </td> <td>0   </td> <td>0    </td> <td>0    </td> <td>0          </td> <td>0   </td> <td>0        </td> <td>0.00218261 </td> <td>0          </td> <td>0      </td> <td>0     </td> <td>0      </td> <td>0          </td> <td>0         </td> <td>0          </td> <td>0   </td> <td>0     </td> <td>0          </td> <td>0          </td> <td>0    </td> <td>0     </td> <td>0       </td> <td>0      </td> <td>0          </td> <td>0   </td> <td>0    </td> <td>0      </td> <td>0    </td> <td>0          </td> <td>0       </td> <td>0    </td> <td>0   </td> <td>0.000363769</td> <td>0          </td> <td>0          </td> <td>0          </td> <td>0           </td> <td>0          </td> <td>0    </td> <td>0    </td> <td>0.00109131 </td> <td>0   </td> <td>0   </td> <td>0       </td> <td>0     </td> <td>0        </td> <td>0          </td> <td>0    </td> <td>0    </td> <td>0          </td> <td>0    </td> <td>0          </td> <td>0   </td> <td>0      </td> <td>0.000727537</td> <td>0     </td> <td>0    </td> <td>0      </td> <td>0.000363769</td> <td>0       </td> <td>0.000363769</td> <td>0    </td> <td>0    </td> <td>0          </td> <td>0   </td> <td>0    </td> <td>0          </td> <td>0        </td> <td>0    </td> <td>0       </td> <td>0        </td> <td>0.00545653</td> <td>0     </td> <td>0        </td> <td>0        </td> <td>0    </td> <td>0          </td> <td>0          </td> <td>0       </td> <td>0      </td> <td>0     </td> <td>0      </td> <td>0   </td> <td>0     </td> <td>0      </td> <td>0    </td> <td>0    </td> <td>0      </td> <td>0   </td> <td>0    </td> <td>0          </td> <td>0          </td> <td>0         </td> <td>0        </td> <td>0          </td> <td>0     </td> <td>0   </td> <td>0          </td> <td>0          </td> <td>0     </td> <td>0.000363769</td> <td>0          </td> <td>0          </td> <td>0         </td> <td>0   </td> <td>0         </td> <td>0          </td> <td>0    </td> <td>0   </td> <td>0      </td> <td>0   </td> <td>0.00145507 </td> <td>0   </td> <td>0   </td> <td>0       </td> <td>0     </td> <td>0     </td> <td>0   </td> <td>0          </td> <td>0   </td> <td>0    </td> <td>0          </td> <td>0     </td> <td>0.00400146 </td> <td>0   </td> <td>0    </td> <td>0          </td> <td>0   </td> <td>0.00363769</td> <td>0.000363769</td> <td>0          </td> <td>0     </td> <td>0    </td> <td>0     </td> <td>0   </td> <td>0    </td> <td>0          </td> <td>0    </td> <td>0     </td> <td>0         </td> <td>0   </td> <td>0    </td> <td>0     </td> <td>0.000363769</td> <td>0    </td> <td>0   </td> <td>0.000727537</td> <td>0.00109131 </td> <td>0        </td> <td>0       </td> <td>0     </td> <td>0   </td> <td>0   </td> <td>0      </td> <td>0.000363769</td> <td>0     </td> <td>0      </td> <td>0     </td> <td>0   </td> <td>0       </td> <td>0          </td> <td>0          </td> <td>0          </td> <td>0     </td> <td>0          </td> <td>0          </td> <td>0          </td> <td>0    </td> <td>0       </td> <td>0          </td> <td>0          </td> <td>0      </td> <td>0     </td> <td>0.000727537</td> <td>0        </td> <td>0     </td> <td>0.000363769</td> <td>0     </td> <td>0     </td> <td>0    </td> <td>0      </td> <td>0          </td> <td>0          </td> <td>0   </td> <td>0.000363769</td> <td>0    </td> <td>0   </td> <td>0.00109131 </td> <td>0          </td> <td>0          </td> <td>0     </td> <td>0   </td> <td>0        </td> <td>0   </td> <td>0     </td> <td>0   </td> <td>0    </td> <td>0.000727537</td> <td>0          </td> <td>0          </td> <td>0          </td> <td>0      </td> <td>0    </td> <td>0   </td> <td>0     </td> <td>0         </td> <td>0     </td> <td>0          </td> <td>0   </td> <td>0   </td> <td>0   </td> <td>0          </td> <td>0     </td> <td>0     </td> <td>0   </td> <td>0.000363769</td> <td>0    </td> <td>0     </td> <td>0    </td> <td>0       </td> <td>0      </td> <td>0     </td> <td>0           </td> <td>0.0130957 </td> <td>0   </td> <td>0        </td> <td>0   </td> <td>0          </td> <td>0    </td> <td>0     </td> <td>0   </td> <td>0     </td> <td>0      </td> <td>0          </td> <td>0          </td> <td>0          </td> <td>0.000727537</td> <td>0        </td> <td>0          </td> <td>0   </td> <td>0    </td> <td>0      </td> <td>0        </td> <td>0          </td> <td>0          </td> <td>0    </td> <td>0.000363769</td> <td>0          </td> <td>0.00218261 </td> <td>0     </td> <td>0     </td> <td>0       </td> <td>0          </td> <td>0.000363769</td> <td>0     </td> <td>0    </td> <td>0.000363769</td> <td>0.000363769</td> <td>0.00145507 </td> <td>0.000363769</td> <td>0   </td> <td>0        </td> <td>0      </td> <td>0          </td> <td>0.000363769</td> <td>0          </td> <td>0      </td> <td>0   </td> <td>0       </td> <td>0     </td> <td>0          </td> <td>0    </td> <td>0          </td> <td>0        </td> <td>0    </td> <td>0          </td> <td>0    </td> <td>0    </td> <td>0   </td> <td>0          </td> <td>0    </td> <td>0      </td> <td>0.000363769</td> <td>0     </td> <td>0     </td> <td>0          </td> <td>0    </td> <td>0          </td> <td>0       </td> <td>0          </td> <td>0   </td> <td>0.000363769</td> <td>0   </td> <td>0     </td> <td>0     </td> <td>0    </td> <td>0       </td> <td>0        </td> <td>0    </td> <td>0     </td> <td>0          </td> <td>0.000363769</td> <td>0          </td> <td>0.000363769</td> <td>0    </td> <td>0      </td> <td>0          </td> <td>0    </td> <td>0    </td> <td>0.000727537</td> <td>0    </td> <td>0   </td> <td>0          </td> <td>0    </td> <td>0        </td> <td>0    </td> <td>0       </td> <td>0    </td> <td>0     </td> <td>0.000363769</td> <td>0.000363769</td> <td>0      </td> <td>0       </td> <td>0          </td> <td>0   </td> <td>0    </td> <td>0      </td> <td>0      </td> <td>0.000363769</td> <td>0.0229174</td> <td>0   </td> <td>0    </td> <td>0.000363769</td> <td>0      </td> <td>0     </td> <td>0   </td> <td>0   </td> <td>0   </td> <td>0          </td> <td>0.000727537</td> <td>0.000363769</td> <td>0        </td> <td>0    </td> <td>0.000363769</td> <td>0    </td> <td>0      </td> <td>0     </td> <td>0          </td> <td>0     </td> <td>0     </td> <td>0          </td> <td>0     </td> <td>0          </td> <td>0   </td> <td>0    </td> <td>0          </td> <td>0          </td> <td>0   </td> <td>0    </td> <td>0    </td> <td>0   </td> <td>0     </td> <td>0     </td> <td>0   </td> <td>0.00945798</td> <td>0.000727537</td> <td>0.000727537</td> <td>0       </td> <td>0          </td> <td>0     </td> <td>0    </td> <td>0.000363769</td> <td>0     </td> <td>0         </td> <td>0     </td> <td>0      </td> <td>0      </td> <td>0.000363769</td> <td>0          </td> <td>0       </td> <td>0.000363769</td> <td>0.00254638 </td> <td>0     </td> <td>0.0367406</td> <td>0      </td> <td>0      </td> <td>0.000363769</td> <td>0     </td> <td>0    </td> <td>0          </td> <td>0   </td> <td>0   </td> <td>0       </td> <td>0   </td> <td>0      </td> <td>0          </td> <td>0          </td> <td>0     </td> <td>0    </td> <td>0   </td> <td>0   </td> <td>0          </td> <td>0     </td> <td>0    </td> <td>0     </td> <td>0     </td> <td>0          </td> <td>0   </td> <td>0          </td> <td>0          </td> <td>0          </td> <td>0   </td> <td>0        </td> <td>0      </td> <td>0    </td> <td>0          </td> <td>0        </td> <td>0          </td> <td>0          </td> <td>0         </td> <td>0          </td> <td>0     </td> <td>0    </td> <td>0   </td> <td>0          </td> <td>0        </td> <td>0.00436522 </td> <td>0     </td> <td>0          </td> <td>0     </td> <td>0   </td> <td>0   </td> <td>0       </td> <td>0       </td> <td>0   </td> <td>0   </td> <td>0    </td> <td>0   </td> <td>0          </td> <td>0        </td> <td>0   </td> <td>0        </td> <td>0.000363769</td> <td>0          </td> <td>0          </td> <td>0          </td> <td>0          </td> <td>0   </td> <td>0     </td> <td>0.000727537</td> <td>0   </td> <td>0    </td> <td>0          </td> <td>0        </td> <td>0.000363769</td> <td>0          </td> <td>0     </td> <td>0   </td> <td>0      </td> <td>0     </td> <td>0    </td> <td>0    </td> <td>0    </td> <td>0          </td> <td>0     </td> <td>0          </td> <td>0          </td> <td>0          </td> <td>0   </td> <td>0          </td> <td>0   </td> <td>0        </td> <td>0    </td> <td>0      </td> <td>0          </td> <td>0          </td> <td>0     </td> <td>0      </td> <td>0          </td> <td>0         </td> <td>0   </td> <td>0.00654784 </td> <td>0   </td> <td>0     </td> <td>0          </td> <td>0    </td> <td>0   </td> <td>0.00363769</td> <td>0          </td> <td>0         </td> <td>0   </td> <td>0   </td> <td>0        </td> <td>0    </td> <td>0   </td> <td>0          </td> <td>0          </td> <td>0     </td> <td>0   </td> <td>0     </td> <td>0    </td> <td>0       </td> <td>0         </td> <td>0          </td> <td>0.000363769</td> <td>0    </td> <td>0     </td> <td>0    </td> <td>0    </td> <td>0          </td> <td>0       </td> <td>0    </td> <td>0.00254638 </td> <td>0.000363769</td> <td>0.00109131 </td> <td>0          </td> <td>0    </td> <td>0       </td> <td>0          </td> <td>0          </td> <td>0.000363769</td> <td>0   </td> <td>0        </td> <td>0          </td> <td>0          </td> <td>0   </td> <td>0   </td> <td>0.000363769</td> <td>0     </td> <td>0      </td> <td>0   </td> <td>0    </td> <td>0   </td> <td>0      </td> <td>0          </td> <td>0          </td> <td>0          </td> <td>0         </td> <td>0          </td> <td>0        </td> <td>0     </td> <td>0    </td> <td>0     </td> <td>0          </td> <td>0    </td> <td>0.000363769</td> <td>0   </td> <td>0          </td> <td>0       </td> <td>0     </td> <td>0     </td> <td>0     </td> <td>0      </td> <td>0          </td> <td>0.000363769</td> <td>0    </td> <td>0   </td> <td>0     </td> <td>0   </td> <td>0     </td> <td>0   </td> <td>0   </td> <td>0      </td> <td>0       </td> <td>0          </td> <td>0        </td> <td>0      </td> <td>0    </td> <td>0       </td> <td>0    </td> <td>0.000363769</td> <td>0    </td> <td>0          </td> <td>0      </td> <td>0   </td> <td>0          </td> <td>0   </td> <td>0          </td> <td>0   </td> <td>0     </td> <td>0          </td> <td>0          </td> <td>0   </td> <td>0   </td> <td>0      </td> <td>0      </td> <td>0     </td> <td>0        </td> <td>0   </td> <td>0       </td> <td>0     </td> <td>0      </td> <td>0     </td> <td>0        </td> <td>0        </td> <td>0       </td> <td>0     </td> <td>0.000363769</td> <td>0     </td> <td>0   </td> <td>0   </td> <td>0          </td> <td>0     </td> <td>0          </td> <td>0.000363769</td> <td>0          </td> <td>0     </td> <td>0     </td> <td>0     </td> <td>0    </td> <td>0    </td> <td>0     </td> <td>0          </td> <td>0       </td> <td>0    </td> <td>0          </td> <td>0          </td> <td>0     </td> <td>0     </td> <td>0    </td> <td>0          </td> <td>0      </td> <td>0       </td> <td>0     </td> <td>0   </td> <td>0     </td> <td>0.00254638 </td> <td>0          </td> <td>0      </td> <td>0      </td> <td>0    </td> <td>0    </td> <td>0.00181884 </td> <td>0          </td> <td>0          </td> <td>0   </td> <td>0          </td> <td>0          </td> <td>0    </td> <td>0          </td> <td>0       </td> <td>0     </td> <td>0     </td> <td>0.000727537</td> <td>0     </td> <td>0          </td> <td>0       </td> <td>0          </td> <td>0     </td> <td>0.000727537</td> <td>0     </td> <td>0.000363769</td> <td>0.000727537</td> <td>0      </td> <td>0   </td> <td>0      </td> <td>0       </td> <td>0          </td> <td>0     </td> <td>0   </td> <td>0     </td> <td>0     </td> <td>0          </td> <td>0    </td> <td>0.000363769</td> <td>0      </td> <td>0          </td> <td>0   </td> <td>0     </td> <td>0       </td> <td>0      </td> <td>0    </td> <td>0.000363769</td> <td>0          </td> <td>0       </td> <td>0        </td> <td>0     </td> <td>0    </td> <td>0      </td> <td>0.000363769</td> <td>0   </td> <td>0    </td> <td>0   </td> <td>0   </td> <td>0        </td> <td>0    </td> <td>0          </td> <td>0     </td> <td>0      </td> <td>0     </td> <td>0.0174609</td> <td>0          </td> <td>0          </td> <td>0          </td> <td>0          </td> <td>0      </td> <td>0          </td> <td>0    </td> <td>0          </td> <td>0     </td> <td>0      </td> <td>0          </td> <td>0.00509276 </td> <td>0        </td> <td>0   </td> <td>0    </td> <td>0          </td> <td>0     </td> <td>0.000363769</td> <td>0   </td> <td>0          </td> <td>0          </td> <td>0        </td> <td>0    </td> <td>0    </td> <td>0       </td> <td>0        </td> <td>0       </td> <td>0    </td> <td>0   </td> <td>0     </td> <td>0          </td> <td>0    </td> <td>0          </td> <td>0.000363769</td> <td>0       </td> <td>0          </td> <td>0     </td> <td>0.000363769</td> <td>0     </td> <td>0          </td> <td>0          </td> <td>0     </td> <td>0          </td> <td>0    </td> <td>0   </td> <td>0     </td> <td>0          </td> <td>0      </td> <td>0        </td> <td>0.000363769</td> <td>0     </td> <td>0      </td> <td>0   </td> <td>0          </td> <td>0.000727537</td> <td>0    </td> <td>0    </td> <td>0   </td> <td>0    </td> <td>0    </td> <td>0   </td> <td>0       </td> <td>0          </td> <td>0          </td> <td>0     </td> <td>0   </td> <td>0          </td> <td>0          </td> <td>0.000363769</td> <td>0   </td> <td>0    </td> <td>0      </td> <td>0   </td> <td>0.00218261 </td> <td>0     </td> <td>0   </td> <td>0       </td> <td>0         </td> <td>0          </td> <td>0.00145507</td> <td>0        </td> <td>0     </td> <td>0      </td> <td>0          </td> <td>0   </td> <td>0.000363769</td> <td>0   </td> <td>0          </td> <td>0   </td> <td>0.00109131 </td> <td>0     </td> <td>0      </td> <td>0    </td> <td>0          </td> <td>0    </td> <td>0         </td> <td>0   </td> <td>0       </td> <td>0        </td> <td>0     </td> <td>0        </td> <td>0     </td> <td>0        </td> <td>0          </td> <td>0     </td> <td>0   </td> <td>0.0112768</td> <td>0    </td> <td>0   </td> <td>0        </td> <td>0   </td> <td>0     </td> <td>0    </td> <td>0.000727537</td> <td>0          </td> <td>0   </td> <td>0.00181884</td> <td>0        </td> <td>0.00181884 </td> <td>0        </td> <td>0    </td> <td>0          </td> <td>0       </td> <td>0          </td> <td>0          </td> <td>0         </td> <td>0   </td> <td>0.000363769</td> <td>0    </td> <td>0    </td> <td>0      </td> <td>0          </td> <td>0          </td> <td>0        </td> <td>0    </td> <td>0    </td> <td>0    </td> <td>0   </td> <td>0       </td> <td>0.000363769</td> <td>0   </td> <td>0     </td> <td>0          </td> <td>0          </td> <td>0      </td> <td>0     </td> <td>0          </td> <td>0.00618407</td> <td>0          </td> <td>0   </td> <td>0      </td> <td>0   </td> <td>0.00181884</td> <td>0   </td> <td>0   </td> <td>0          </td> <td>0   </td> <td>0    </td> <td>0          </td> <td>0          </td> <td>0.000363769</td> <td>0          </td> <td>0        </td> <td>0   </td> <td>0          </td> <td>0    </td> <td>0          </td> <td>0          </td> <td>0        </td> <td>0.000363769</td> <td>0   </td> <td>0          </td> <td>0          </td> <td>0.00254638 </td> <td>0.000363769</td> <td>0      </td> <td>0          </td> <td>0        </td> <td>0   </td> <td>0    </td> <td>0    </td> <td>0          </td> <td>0    </td> <td>0   </td> <td>0          </td> <td>0        </td> <td>0       </td> <td>0    </td> <td>0         </td> <td>0.000727537</td> <td>0.000363769</td> <td>0          </td> <td>0          </td> <td>0          </td> <td>0    </td> <td>0.000727537</td> <td>0    </td> <td>0   </td> <td>0   </td> <td>0    </td> <td>0     </td> <td>0   </td> <td>0         </td> <td>0    </td> <td>0          </td> <td>0        </td> <td>0    </td> <td>0          </td> <td>0      </td> <td>0          </td> <td>0   </td> <td>0      </td> <td>0      </td> <td>0     </td> <td>0     </td> <td>0     </td> <td>0          </td> <td>0.00254638 </td> <td>0    </td> <td>0.000363769</td> <td>0.000727537</td> <td>0   </td> <td>0.000363769</td> <td>0          </td> <td>0      </td> <td>0        </td> <td>0      </td> <td>0    </td> <td>0     </td> <td>0    </td> <td>0        </td> <td>0      </td> <td>0   </td> <td>0.00218261 </td> <td>0.000363769</td> <td>0   </td> <td>0          </td> <td>0   </td> <td>0     </td> <td>0   </td> <td>0    </td> <td>0          </td> <td>0   </td> <td>0       </td> <td>0   </td> <td>0     </td> <td>0      </td> <td>0.00109131 </td> <td>0      </td> <td>0        </td> <td>0        </td> <td>0      </td> <td>0        </td> <td>0    </td> <td>0   </td> <td>0     </td> <td>0     </td> <td>0          </td> <td>0          </td> <td>0      </td> <td>0      </td> <td>0        </td> <td>0        </td> <td>0     </td> <td>0         </td> <td>0   </td> <td>0   </td> <td>0     </td> <td>0   </td> <td>0    </td> <td>0   </td> <td>0          </td> <td>0     </td> <td>0    </td> <td>0     </td> <td>0   </td> <td>0          </td> <td>0   </td> <td>0     </td> <td>0      </td> <td>0       </td> <td>0          </td> <td>0     </td> <td>0   </td> <td>0      </td> <td>0        </td> <td>0        </td> <td>0          </td> <td>0      </td> <td>0       </td> <td>0    </td> <td>0          </td> <td>0          </td> <td>0          </td> <td>0          </td> <td>0        </td> <td>0     </td> <td>0    </td> <td>0    </td> <td>0    </td> <td>0   </td> <td>0   </td> <td>0        </td> <td>0     </td> <td>0     </td> <td>0        </td> <td>0        </td> <td>0   </td> <td>0     </td> <td>0          </td> <td>0   </td> <td>0          </td> <td>0.000363769</td> <td>0        </td> <td>0    </td> <td>0     </td> <td>0   </td> <td>0   </td> <td>0          </td> <td>0      </td> <td>0     </td> <td>0       </td> <td>0   </td> <td>0   </td> <td>0      </td> <td>0       </td> <td>0          </td> <td>0    </td> <td>0    </td> <td>0          </td> <td>0          </td> <td>0     </td> <td>0          </td> <td>0         </td> <td>0        </td> <td>0.00472899</td> <td>0    </td> <td>0     </td> <td>0    </td> <td>0          </td> <td>0   </td> <td>0       </td> <td>0    </td> <td>0    </td> <td>0.000727537</td> <td>0.000363769</td> <td>0          </td> <td>0      </td> <td>0          </td> <td>0     </td> <td>0   </td> <td>0        </td> <td>0          </td> <td>0   </td> <td>0          </td> <td>0          </td> <td>0     </td> <td>0      </td> <td>0    </td> <td>0          </td> <td>0    </td> <td>0   </td> <td>0      </td> <td>0     </td> <td>0.000363769</td> <td>0       </td> <td>0          </td> <td>0   </td> <td>0      </td> <td>0.000363769</td> <td>0      </td> <td>0   </td> <td>0    </td> <td>0          </td> <td>0.00291015</td> <td>0          </td> <td>0     </td> <td>0.000727537</td> <td>0.000363769</td> <td>0       </td> <td>0     </td> <td>0          </td> <td>0        </td> <td>0     </td> <td>0     </td> <td>0         </td> <td>0          </td> <td>0    </td> <td>0     </td> <td>0.000363769</td> <td>0     </td> <td>0     </td> <td>0          </td> <td>0   </td> <td>0   </td> <td>0          </td> <td>0        </td> <td>0   </td> <td>0    </td> <td>0          </td> <td>0          </td> <td>0    </td> <td>0          </td> <td>0.00727537</td> <td>0.000363769</td> <td>0          </td> <td>0   </td> <td>0      </td> <td>0          </td> <td>0      </td> <td>0.000363769</td> <td>0     </td> <td>0   </td> <td>0     </td> <td>0.000727537</td> <td>0          </td> <td>0          </td> <td>0   </td> <td>0     </td> <td>0     </td> <td>0      </td> <td>0          </td> <td>0        </td> <td>0          </td> <td>0.000363769</td> <td>0    </td> <td>0     </td> <td>0    </td> <td>0     </td> <td>0    </td> <td>0   </td> <td>0    </td> <td>0      </td> <td>0   </td> <td>0   </td> <td>0   </td> <td>0    </td> <td>0      </td> <td>0.00109131 </td> <td>0    </td> <td>0   </td> <td>0   </td> <td>0        </td> <td>0     </td> <td>0   </td> <td>0     </td> <td>0   </td> <td>0     </td> <td>0     </td> <td>0     </td> <td>0   </td> <td>0      </td> <td>0     </td> <td>0      </td> <td>0.00181884 </td> <td>0          </td> <td>0   </td> <td>0          </td> <td>0          </td> <td>0.00509276 </td> <td>0      </td> <td>0    </td> <td>0   </td> <td>0    </td> <td>0        </td> <td>0     </td> <td>0    </td> <td>0     </td> <td>0          </td> <td>0      </td> <td>0   </td> <td>0.00181884 </td> <td>0      </td> <td>0   </td> <td>0    </td> <td>0   </td> <td>0   </td> <td>0          </td> <td>0          </td> <td>0   </td> <td>0      </td> <td>0          </td> <td>0          </td> <td>0.00218261</td> <td>0          </td> <td>0          </td> <td>0     </td> <td>0          </td> <td>0    </td> <td>0      </td> <td>0      </td> <td>0   </td> <td>0     </td> <td>0    </td> <td>0    </td> <td>0   </td> <td>0     </td> <td>0          </td> <td>0    </td> <td>0          </td> <td>0   </td> <td>0   </td> <td>0   </td> <td>0          </td> <td>0      </td> <td>0        </td> <td>0        </td> <td>0          </td> <td>0      </td> <td>0        </td> <td>0          </td> <td>0   </td> <td>0        </td> <td>0.00109131</td> <td>0     </td> <td>0   </td> <td>0      </td> <td>0    </td> <td>0      </td> <td>0    </td> <td>0   </td> <td>0    </td> <td>0          </td> <td>0.00800291</td> <td>0          </td> <td>0          </td> <td>0          </td> <td>0    </td> <td>0   </td> <td>0.000727537</td> <td>0        </td> <td>0          </td> <td>0    </td> <td>0        </td> <td>0   </td> <td>0   </td> <td>0        </td> <td>0       </td> <td>0          </td> <td>0.00109131 </td> <td>0      </td> <td>0        </td> <td>0   </td> <td>0          </td> <td>0          </td> <td>0     </td> <td>0    </td> <td>0.00218261</td> <td>0      </td> <td>0    </td> <td>0     </td> <td>0          </td> <td>0     </td> <td>0       </td> <td>0          </td> <td>0    </td> <td>0   </td> <td>0      </td> <td>0     </td> <td>0    </td> <td>0     </td> <td>0     </td> <td>0   </td> <td>0      </td> <td>0    </td> <td>0.000727537</td> <td>0      </td> <td>0          </td> <td>0   </td> <td>0   </td> <td>0     </td> <td>0   </td> <td>0   </td> <td>0   </td> <td>0       </td> <td>0   </td> <td>0   </td> <td>0.00218261 </td> <td>0   </td> <td>0          </td> <td>0          </td> <td>0          </td> <td>0     </td> <td>0    </td> <td>0          </td> <td>0     </td> <td>0          </td> <td>0.000363769</td> <td>0      </td> <td>0      </td> <td>0     </td> <td>0       </td> <td>0     </td> <td>0.000363769</td> <td>0        </td> <td>0          </td> <td>0      </td> <td>0        </td> <td>0          </td> <td>0          </td> <td>0      </td> <td>0.000363769</td> <td>0      </td> <td>0         </td> <td>0.000363769</td> <td>0   </td> <td>0    </td> <td>0          </td> <td>0   </td> <td>0     </td> <td>0    </td> <td>0        </td> <td>0          </td> <td>0      </td> <td>0    </td> <td>0       </td> <td>0   </td> <td>0      </td> <td>0.00109131 </td> <td>0          </td> <td>0     </td> <td>0   </td> <td>0      </td> <td>0        </td> <td>0          </td> <td>0          </td> <td>0.00145507 </td> <td>0   </td> <td>0        </td> <td>0      </td> <td>0   </td> <td>0   </td> <td>0      </td> <td>0      </td> <td>0     </td> <td>0     </td> <td>0   </td> <td>0      </td> <td>0     </td> <td>0     </td> <td>0   </td> <td>0   </td> <td>0   </td> <td>0         </td> <td>0    </td> <td>0.000363769</td> <td>0      </td> <td>0     </td> <td>0     </td> <td>0   </td> <td>0.000363769</td> <td>0          </td> <td>0.00400146</td> <td>0      </td> <td>0       </td> <td>0          </td> <td>0     </td> <td>0     </td> <td>0.000727537</td> <td>0        </td> <td>0          </td> <td>0   </td> <td>0.000727537</td> <td>0     </td> <td>0          </td> <td>0   </td> <td>0     </td> <td>0       </td> <td>0.00800291</td> <td>0.00145507 </td> <td>0       </td> <td>0     </td> <td>0      </td> <td>0   </td> <td>0      </td> <td>0   </td> <td>0     </td> <td>0     </td> <td>0        </td> <td>0.000363769</td> <td>0      </td> <td>0         </td> <td>0   </td> <td>0          </td> <td>0   </td> <td>0          </td> <td>0    </td> <td>0      </td> <td>0.000363769</td> <td>0   </td> <td>0   </td> <td>0   </td> <td>0    </td> <td>0          </td> <td>0          </td> <td>0    </td> <td>0     </td> <td>0     </td> <td>0.000363769</td> <td>0.00181884</td> <td>0        </td> <td>0    </td> <td>0.0069116 </td> <td>0     </td> <td>0        </td> <td>0        </td> <td>0          </td> <td>0.000727537</td> <td>0          </td> <td>0          </td> <td>0      </td> <td>0.00145507 </td> <td>0   </td> <td>0     </td> <td>0     </td> <td>0    </td> <td>0          </td> <td>0    </td> <td>0   </td> <td>0    </td> <td>0       </td> <td>0     </td> <td>0          </td> <td>0     </td> <td>0         </td> <td>0          </td> <td>0   </td> <td>0          </td> <td>0     </td> <td>0   </td> <td>0      </td> <td>0    </td> <td>0    </td> <td>0          </td> <td>0     </td> <td>0   </td> <td>0      </td> <td>0    </td> <td>0   </td> <td>0        </td> <td>0   </td> <td>0          </td> <td>0    </td> <td>0     </td> <td>0          </td> <td>0.000363769</td> <td>0         </td> <td>0       </td> <td>0          </td> <td>0.000363769</td> <td>0.00145507 </td> <td>0      </td> <td>0     </td> <td>0          </td> <td>0   </td> <td>0.000363769</td> <td>0   </td> <td>0    </td> <td>0.000363769</td> <td>0      </td> <td>0          </td> <td>0          </td> <td>0          </td> <td>0          </td> <td>0    </td> <td>0    </td> <td>0   </td> <td>0          </td> <td>0    </td> <td>0          </td> <td>0    </td> <td>0          </td> <td>0    </td> <td>0          </td> <td>0          </td> <td>0.000363769</td> <td>0      </td> <td>0          </td> <td>0     </td> <td>0      </td> <td>0.000363769</td> <td>0          </td> <td>0          </td> <td>0.00654784 </td> <td>0      </td> <td>0     </td> <td>0    </td> <td>0   </td> <td>0          </td> <td>0          </td> <td>0   </td> <td>0       </td> <td>0   </td> <td>0    </td> <td>0      </td> <td>0      </td> <td>0.0163696</td> <td>0   </td> <td>0     </td> <td>0     </td> <td>0.000363769</td> <td>0    </td> <td>0   </td> <td>0      </td> <td>0   </td> <td>0   </td> <td>0     </td> <td>0       </td> <td>0     </td> <td>0    </td> <td>0          </td> <td>0          </td> <td>0   </td> <td>0    </td> <td>0     </td> <td>0   </td> <td>0          </td> <td>0   </td> <td>0.00109131 </td> <td>0      </td> <td>0.000363769</td> <td>0          </td> <td>0          </td> <td>0          </td> <td>0    </td> <td>0   </td> <td>0   </td> <td>0          </td> <td>0   </td> <td>0          </td> <td>0     </td> <td>0       </td> <td>0.000727537</td> <td>0        </td> <td>0          </td> <td>0      </td> <td>0    </td> <td>0   </td> <td>0       </td> <td>0          </td> <td>0   </td> <td>0          </td> <td>0.000363769</td> <td>0    </td> <td>0        </td> <td>0     </td> <td>0     </td> <td>0         </td> <td>0     </td> <td>0        </td> <td>0      </td> <td>0.000727537</td> <td>0   </td> <td>0    </td> <td>0     </td> <td>0      </td> <td>0      </td> <td>0     </td> <td>0        </td> <td>0      </td> <td>0         </td> <td>0          </td> <td>0   </td> <td>0      </td> <td>0    </td> <td>0   </td> <td>0          </td> <td>0    </td> <td>0     </td> <td>0    </td> <td>0    </td> <td>0        </td> <td>0     </td> <td>0   </td> <td>0       </td> <td>0     </td> <td>0    </td> <td>0.000363769</td> <td>0        </td> <td>0          </td> <td>0   </td> <td>0.000363769</td> <td>0   </td> <td>0          </td> <td>0          </td> <td>0       </td> <td>0.00109131 </td> <td>0          </td> <td>0          </td> <td>0    </td> <td>0   </td> <td>0   </td> <td>0   </td> <td>0     </td> <td>0    </td> <td>0   </td> <td>0   </td> <td>0        </td> <td>0     </td> <td>0   </td> <td>0    </td> <td>0       </td> <td>0       </td> <td>0.000363769</td> <td>0      </td> <td>0      </td> <td>0   </td> <td>0       </td> <td>0    </td> <td>0       </td> <td>0   </td> <td>0    </td> <td>0    </td> <td>0     </td> <td>0   </td> <td>0    </td> <td>0     </td> <td>0       </td> <td>0          </td> <td>0      </td> <td>0   </td> <td>0        </td> <td>0     </td> <td>0    </td> <td>0    </td> <td>0        </td> <td>0     </td> <td>0      </td> <td>0          </td> <td>0    </td> <td>0          </td> <td>0     </td> <td>0        </td> <td>0        </td> <td>0      </td> <td>0   </td> <td>0          </td> <td>0    </td> <td>0          </td> <td>0        </td> <td>0    </td> <td>0          </td> <td>0         </td> <td>0.00181884 </td> <td>0          </td> <td>0   </td> <td>0   </td> <td>0          </td>\n",
       "        </tr>\n",
       "    </tbody>\n",
       "</table>\n",
       "<p>... (32 rows omitted)</p>"
      ],
      "text/plain": [
       "<IPython.core.display.HTML object>"
      ]
     },
     "metadata": {},
     "output_type": "display_data"
    }
   ],
   "source": [
    "friend_movies = Table.read_table('friend_movies.csv')\n",
    "friend_movies.show(5)"
   ]
  },
  {
   "cell_type": "markdown",
   "id": "290a3b51",
   "metadata": {},
   "source": [
    "**Question 4.1** \n",
    "\n",
    "Your friend's computer is not as powerful as yours, so they tell you that the classifier you create for them can only have up to 5 words as features. Develop a new classifier with the constraint of **using no more than 5 features.** Assign `new_features` to an array of your features.\n",
    "\n",
    "Your new function should have the same arguments as `classify_feature_row` and return a classification. Name it `another_classifier`. Then, output your accuracy using code from earlier to compare the new classifier to your old one. \n",
    "\n",
    "Some ways you can change your classifier are by using different features or trying different values of `k`. (Of course, you still have to use `train_movies` as your training set!)\n",
    "\n",
    "**Make sure you don't reassign any previously used variables here**, such as `proportion_correct` from the previous question.\n",
    "\n",
    "*Note:* There's no one right way to do this! Just make sure that you can explain your reasoning behind the new choices.\n"
   ]
  },
  {
   "cell_type": "code",
   "execution_count": 108,
   "id": "eacbdd6b",
   "metadata": {
    "deletable": false,
    "execution": {
     "iopub.execute_input": "2022-04-16T06:02:14.737721Z",
     "iopub.status.busy": "2022-04-16T06:02:14.737116Z",
     "iopub.status.idle": "2022-04-16T06:02:14.744795Z",
     "shell.execute_reply": "2022-04-16T06:02:14.744034Z"
    },
    "tags": [
     "otter_assign_solution_cell"
    ]
   },
   "outputs": [],
   "source": [
    "new_features = ...\n",
    "\n",
    "train_new = train_movies.select(new_features)\n",
    "test_new = friend_movies.select(new_features)\n",
    "\n",
    "def another_classifier(row):\n",
    "    return ..."
   ]
  },
  {
   "cell_type": "code",
   "execution_count": null,
   "id": "16ef4863",
   "metadata": {
    "deletable": false,
    "editable": false
   },
   "outputs": [],
   "source": [
    "grader.check(\"q4_1\")"
   ]
  },
  {
   "cell_type": "markdown",
   "id": "6cb987ec",
   "metadata": {},
   "source": [
    "<!-- BEGIN QUESTION -->\n",
    "\n",
    "**Question 4.2** \n",
    "\n",
    "Do you see a pattern in the mistakes your new classifier makes? How good an accuracy were you able to get with your limited classifier? Did you notice an improvement from your first classifier to the second one? Describe in two sentences or less. \n",
    "\n",
    "*Hint:* You may not be able to see a pattern.\n"
   ]
  },
  {
   "cell_type": "markdown",
   "id": "c9f265ca",
   "metadata": {},
   "source": [
    "_Type your answer here, replacing this text._"
   ]
  },
  {
   "cell_type": "markdown",
   "id": "64b5f195",
   "metadata": {},
   "source": [
    "<!-- END QUESTION -->\n",
    "\n",
    "<!-- BEGIN QUESTION -->\n",
    "\n",
    "**Question 4.3** \n",
    "\n",
    "Given the constraint of five words, how did you select those five? Describe in two sentences or less.\n"
   ]
  },
  {
   "cell_type": "markdown",
   "id": "5ffb9f64",
   "metadata": {},
   "source": [
    "_Type your answer here, replacing this text._"
   ]
  },
  {
   "cell_type": "markdown",
   "id": "937f83b0",
   "metadata": {},
   "source": [
    "<!-- END QUESTION -->\n",
    "\n",
    "# Part 5: Other Classification Methods (OPTIONAL)"
   ]
  },
  {
   "cell_type": "markdown",
   "id": "9f9a900e",
   "metadata": {},
   "source": [
    "**Note**: Everything below is **OPTIONAL**. Please only work on this part after you have finished and submitted the project. If you create new cells below, do NOT reassign variables defined in previous parts of the project.\n",
    "\n",
    "Now that you've finished your k-NN classifier, you might be wondering what else you could do to improve your accuracy on the test set. Classification is one of many machine learning tasks, and there are plenty of other classification algorithms! If you feel so inclined, we encourage you to try any methods you feel might help improve your classifier. \n",
    "\n",
    "We've compiled a list of blog posts with some more information about classification and machine learning. Create as many cells as you'd like below--you can use them to import new modules or implement new algorithms. \n",
    "\n",
    "Blog posts: \n",
    "\n",
    "* [Classification algorithms/methods](https://medium.com/@sifium/machine-learning-types-of-classification-9497bd4f2e14)\n",
    "* [Train/test split and cross-validation](https://towardsdatascience.com/train-test-split-and-cross-validation-in-python-80b61beca4b6)\n",
    "* [More information about k-nearest neighbors](https://medium.com/@adi.bronshtein/a-quick-introduction-to-k-nearest-neighbors-algorithm-62214cea29c7)\n",
    "* [Overfitting](https://elitedatascience.com/overfitting-in-machine-learning)\n",
    "\n",
    "In future data science classes, such as Data Science 100, you'll learn about some of the algorithms in the blog posts above, including logistic regression. You'll also learn more about overfitting, cross-validation, and approaches to different kinds of machine learning problems.\n",
    "\n",
    "One module that you can consider using is [Scikit-learn](http://scikit-learn.org/stable/tutorial/basic/tutorial.html). There's a lot to think about, so we encourage you to find more information on your own!"
   ]
  },
  {
   "cell_type": "code",
   "execution_count": 111,
   "id": "8908bb55",
   "metadata": {
    "execution": {
     "iopub.execute_input": "2022-04-16T06:02:14.782829Z",
     "iopub.status.busy": "2022-04-16T06:02:14.782211Z",
     "iopub.status.idle": "2022-04-16T06:02:14.787291Z",
     "shell.execute_reply": "2022-04-16T06:02:14.786494Z"
    }
   },
   "outputs": [
    {
     "data": {
      "text/plain": [
       "Ellipsis"
      ]
     },
     "execution_count": 111,
     "metadata": {},
     "output_type": "execute_result"
    }
   ],
   "source": [
    "..."
   ]
  },
  {
   "cell_type": "markdown",
   "id": "95f3aecf",
   "metadata": {},
   "source": [
    "# Yoshi wants to say: Congratulations! You have finished Project 3.\n",
    "\n",
    "<img src=\"yoshi.jpeg\" alt=\"drawing\" width=\"300\"/>\n",
    "\n",
    "Using your statistics and machine learning skills you have:\n",
    "- Investigated a movie script dataset\n",
    "- Identified word associations\n",
    "- Built a machine learning model to classify movies by their scripts"
   ]
  },
  {
   "cell_type": "markdown",
   "id": "2f2ade5b",
   "metadata": {},
   "source": [
    "You're finished! Time to submit. \n",
    "\n",
    "\n",
    "**Important submission steps:** \n",
    "1. Run the tests and verify that they all pass.\n",
    "2. Choose **Save Notebook** from the **File** menu, then **run the final cell**. \n",
    "3. Click the link to download the zip file.\n",
    "4. Then submit the zip file to the corresponding assignment according to your instructor's directions. \n",
    "\n",
    "**It is your responsibility to make sure your work is saved before running the last cell.**"
   ]
  },
  {
   "cell_type": "markdown",
   "id": "f1043475",
   "metadata": {
    "deletable": false,
    "editable": false
   },
   "source": [
    "## Submission\n",
    "\n",
    "Make sure you have run all cells in your notebook in order before running the cell below, so that all images/graphs appear in the output. The cell below will generate a zip file for you to submit. **Please save before exporting!**"
   ]
  },
  {
   "cell_type": "code",
   "execution_count": null,
   "id": "be1085d6",
   "metadata": {
    "deletable": false,
    "editable": false
   },
   "outputs": [],
   "source": [
    "# Save your notebook first, then run this cell to export your submission.\n",
    "grader.export(pdf=False, run_tests=True)"
   ]
  }
 ],
 "metadata": {
  "kernelspec": {
   "display_name": "Python 3 (ipykernel)",
   "language": "python",
   "name": "python3"
  },
  "language_info": {
   "codemirror_mode": {
    "name": "ipython",
    "version": 3
   },
   "file_extension": ".py",
   "mimetype": "text/x-python",
   "name": "python",
   "nbconvert_exporter": "python",
   "pygments_lexer": "ipython3",
   "version": "3.9.10"
  },
  "otter": {
   "OK_FORMAT": true,
   "tests": {
    "q1_0": {
     "name": "q1_0",
     "points": [
      0,
      3
     ],
     "suites": [
      {
       "cases": [
        {
         "code": ">>> 0 < expected_row_sum\nTrue",
         "hidden": false,
         "locked": false
        },
        {
         "code": ">>> int(expected_row_sum) == 1\nTrue",
         "hidden": true,
         "locked": false
        }
       ],
       "scored": true,
       "setup": "",
       "teardown": "",
       "type": "doctest"
      }
     ]
    },
    "q1_1_1": {
     "name": "q1_1_1",
     "points": [
      0,
      0,
      3
     ],
     "suites": [
      {
       "cases": [
        {
         "code": ">>> type(stemmed_message) == str\nTrue",
         "hidden": false,
         "locked": false
        },
        {
         "code": ">>> len(stemmed_message) < len('elements')\nTrue",
         "hidden": false,
         "locked": false
        },
        {
         "code": ">>> stemmed_message\n'element'",
         "hidden": true,
         "locked": false
        }
       ],
       "scored": true,
       "setup": "",
       "teardown": "",
       "type": "doctest"
      }
     ]
    },
    "q1_1_2": {
     "name": "q1_1_2",
     "points": [
      0,
      3
     ],
     "suites": [
      {
       "cases": [
        {
         "code": ">>> type(most_stem) == str\nTrue",
         "hidden": false,
         "locked": false
        },
        {
         "code": ">>> most_stem\n'gener'",
         "hidden": true,
         "locked": false
        }
       ],
       "scored": true,
       "setup": "",
       "teardown": "",
       "type": "doctest"
      }
     ]
    },
    "q1_1_3": {
     "name": "q1_1_3",
     "points": [
      0,
      3
     ],
     "suites": [
      {
       "cases": [
        {
         "code": ">>> type(longest_uncut) == str\nTrue",
         "hidden": false,
         "locked": false
        },
        {
         "code": ">>> longest_uncut == 'misunderstand'\nTrue",
         "hidden": true,
         "locked": false
        }
       ],
       "scored": true,
       "setup": "",
       "teardown": "",
       "type": "doctest"
      }
     ]
    },
    "q1_1_4": {
     "name": "q1_1_4",
     "points": [
      0,
      3
     ],
     "suites": [
      {
       "cases": [
        {
         "code": ">>> type(count_single_stems) == int\nTrue",
         "hidden": false,
         "locked": false
        },
        {
         "code": ">>> count_single_stems == 1408\nTrue",
         "hidden": true,
         "locked": false
        }
       ],
       "scored": true,
       "setup": "",
       "teardown": "",
       "type": "doctest"
      }
     ]
    },
    "q1_2_1": {
     "name": "q1_2_1",
     "points": [
      0,
      3
     ],
     "suites": [
      {
       "cases": [
        {
         "code": ">>> 0.2 < outer_space_r < 0.4\nTrue",
         "hidden": false,
         "locked": false
        },
        {
         "code": ">>> np.round(outer_space_r, 3) == .319\nTrue",
         "hidden": true,
         "locked": false
        }
       ],
       "scored": true,
       "setup": "",
       "teardown": "",
       "type": "doctest"
      }
     ]
    },
    "q1_2_3": {
     "name": "q1_2_3",
     "points": [
      0,
      3
     ],
     "suites": [
      {
       "cases": [
        {
         "code": ">>> type(san_francisco) == int\nTrue",
         "hidden": false,
         "locked": false
        },
        {
         "code": ">>> san_francisco == 1\nTrue",
         "hidden": true,
         "locked": false
        }
       ],
       "scored": true,
       "setup": "",
       "teardown": "",
       "type": "doctest"
      }
     ]
    },
    "q2_1_1": {
     "name": "q2_1_1",
     "points": [
      0,
      3
     ],
     "suites": [
      {
       "cases": [
        {
         "code": ">>> 0 < one_distance < .01\nTrue",
         "hidden": false,
         "locked": false
        },
        {
         "code": ">>> np.round(one_distance, 6) == 0.001223\nTrue",
         "hidden": true,
         "locked": false
        }
       ],
       "scored": true,
       "setup": "",
       "teardown": "",
       "type": "doctest"
      }
     ]
    },
    "q2_1_2": {
     "name": "q2_1_2",
     "points": [
      1,
      2
     ],
     "suites": [
      {
       "cases": [
        {
         "code": ">>> correct_dis = 0.001406116\n>>> dis = distance_two_features(\"clerks.\", \"the godfather\", \"water\", \"feel\")\n>>> np.isclose(np.round(dis, 9), correct_dis) # Make sure you can use any two movies\nTrue",
         "hidden": false,
         "locked": false
        },
        {
         "code": ">>> correct_dis = 0.005647119\n>>> dis = distance_two_features(\"clerks.\", \"the godfather\", \"your\", \"that\")\n>>> np.isclose(np.round(dis, 9), correct_dis) # Make sure you can use any two features\nTrue",
         "hidden": false,
         "locked": false
        }
       ],
       "scored": true,
       "setup": "",
       "teardown": "",
       "type": "doctest"
      }
     ]
    },
    "q2_1_3": {
     "name": "q2_1_3",
     "points": [
      0,
      3
     ],
     "suites": [
      {
       "cases": [
        {
         "code": ">>> np.isclose(distance_from_python('clerks.'), 0.00079838)\nTrue",
         "hidden": false,
         "locked": false
        },
        {
         "code": ">>> np.isclose(distance_from_python('the godfather'), 0.001222521)\nTrue",
         "hidden": true,
         "locked": false
        }
       ],
       "scored": true,
       "setup": "",
       "teardown": "",
       "type": "doctest"
      }
     ]
    },
    "q2_1_4": {
     "name": "q2_1_4",
     "points": [
      0,
      0,
      0,
      3
     ],
     "suites": [
      {
       "cases": [
        {
         "code": ">>> set(close_movies.labels) >= {'Genre', 'Title', 'feel', 'water'}\nTrue",
         "hidden": false,
         "locked": false
        },
        {
         "code": ">>> close_movies.num_rows == 5\nTrue",
         "hidden": false,
         "locked": false
        },
        {
         "code": ">>> close_movies.column(\"Title\").item(0) != \"monty python and the holy grail\" # Make sure that you are using the training set.\nTrue",
         "hidden": false,
         "locked": false
        },
        {
         "code": ">>> [title[:6] for title in close_movies.column('Title')] == ['alien', 'tomorr', 'the si', 'inners', 'some l']\nTrue",
         "hidden": true,
         "locked": false
        }
       ],
       "scored": true,
       "setup": "",
       "teardown": "",
       "type": "doctest"
      }
     ]
    },
    "q2_1_5": {
     "name": "q2_1_5",
     "points": [
      3
     ],
     "suites": [
      {
       "cases": [
        {
         "code": ">>> [most_common('Genre', close_movies.take(range(k))) for k in range(1, 6, 2)]\n['thriller', 'thriller', 'thriller']",
         "hidden": false,
         "locked": false
        }
       ],
       "scored": true,
       "setup": "",
       "teardown": "",
       "type": "doctest"
      }
     ]
    },
    "q3_0": {
     "name": "q3_0",
     "points": [
      0,
      0,
      0,
      0.75,
      0.75,
      0.75,
      0.75
     ],
     "suites": [
      {
       "cases": [
        {
         "code": ">>> 0.0 <= distance_first_to_second <= 0.1\nTrue",
         "hidden": false,
         "locked": false
        },
        {
         "code": ">>> np.isclose(distance(make_array(1, 2), make_array(1, 2)), 0)\nTrue",
         "hidden": false,
         "locked": false
        },
        {
         "code": ">>> np.isclose(distance(make_array(1, 2, 3), make_array(2, 4, 5)), 3)\nTrue",
         "hidden": false,
         "locked": false
        },
        {
         "code": ">>> np.isclose(round(distance_first_to_second, 5), 0.03335)\nTrue",
         "hidden": true,
         "locked": false
        },
        {
         "code": ">>> a1 = np.array([1, 2, 3])\n>>> a2 = np.array([3, 4, 5])\n>>> np.isclose(round(distance(a1, a2), 4), 3.4641)\nTrue",
         "hidden": true,
         "locked": false
        },
        {
         "code": ">>> a2 = np.array([3, 4, 5])\n>>> a3 = np.array([9, 5, 4])\n>>> np.isclose(round(distance(a2, a3), 4), 6.1644)\nTrue",
         "hidden": true,
         "locked": false
        },
        {
         "code": ">>> a1 = np.array([1, 2, 3])\n>>> a3 = np.array([9, 5, 4])\n>>> np.isclose(round(distance(a1, a3), 4), 8.6023)\nTrue",
         "hidden": true,
         "locked": false
        }
       ],
       "scored": true,
       "setup": "",
       "teardown": "",
       "type": "doctest"
      }
     ]
    },
    "q3_1_1": {
     "name": "q3_1_1",
     "points": [
      0,
      3
     ],
     "suites": [
      {
       "cases": [
        {
         "code": ">>> bottom_left >= 1 and bottom_left <= 5 # It looks like you've chosen an illegal option (not within 1-5)\nTrue",
         "hidden": false,
         "locked": false
        },
        {
         "code": ">>> bottom_left == 4\nTrue",
         "hidden": true,
         "locked": false
        }
       ],
       "scored": true,
       "setup": "",
       "teardown": "",
       "type": "doctest"
      }
     ]
    },
    "q3_1_2": {
     "name": "q3_1_2",
     "points": [
      0,
      3
     ],
     "suites": [
      {
       "cases": [
        {
         "code": ">>> bottom_right >= 1 and bottom_right <= 5 # It looks like you've chosen an illegal option (not within 1-5)\nTrue",
         "hidden": false,
         "locked": false
        },
        {
         "code": ">>> bottom_right == 3\nTrue",
         "hidden": true,
         "locked": false
        }
       ],
       "scored": true,
       "setup": "",
       "teardown": "",
       "type": "doctest"
      }
     ]
    },
    "q3_1_3": {
     "name": "q3_1_3",
     "points": [
      0,
      3
     ],
     "suites": [
      {
       "cases": [
        {
         "code": ">>> top_right >= 1 and top_right <= 5 # It looks like you've chosen an illegal option (not within 1-5)\nTrue",
         "hidden": false,
         "locked": false
        },
        {
         "code": ">>> top_right == 1\nTrue",
         "hidden": true,
         "locked": false
        }
       ],
       "scored": true,
       "setup": "",
       "teardown": "",
       "type": "doctest"
      }
     ]
    },
    "q3_1_4": {
     "name": "q3_1_4",
     "points": [
      0,
      3
     ],
     "suites": [
      {
       "cases": [
        {
         "code": ">>> top_left >= 1 and top_left <= 5 # It looks like you've chosen an illegal option (not within 1-5)\nTrue",
         "hidden": false,
         "locked": false
        },
        {
         "code": ">>> top_left == 2\nTrue",
         "hidden": true,
         "locked": false
        }
       ],
       "scored": true,
       "setup": "",
       "teardown": "",
       "type": "doctest"
      }
     ]
    },
    "q3_1_5": {
     "name": "q3_1_5",
     "points": [
      0,
      3
     ],
     "suites": [
      {
       "cases": [
        {
         "code": ">>> movie_genre_guess >= 1 and movie_genre_guess <= 2\nTrue",
         "hidden": false,
         "locked": false
        },
        {
         "code": ">>> movie_genre_guess == 2\nTrue",
         "hidden": true,
         "locked": false
        }
       ],
       "scored": true,
       "setup": "",
       "teardown": "",
       "type": "doctest"
      }
     ]
    },
    "q3_1_6": {
     "name": "q3_1_6",
     "points": [
      0,
      0,
      0,
      1.5,
      1.5
     ],
     "suites": [
      {
       "cases": [
        {
         "code": ">>> len(my_features) >= 10\nTrue",
         "hidden": false,
         "locked": false
        },
        {
         "code": ">>> np.all([f in test_movies.labels for f in my_features])\nTrue",
         "hidden": false,
         "locked": false
        },
        {
         "code": ">>> len(set(my_features)) >= 10 # It looks like you may have duplicate words! Make sure not to!\nTrue",
         "hidden": false,
         "locked": false
        },
        {
         "code": ">>> help_message = \"\"\"It looks like there are many movies in the training set that \n...                   don't have any of your chosen words.  That will make your\n...                   classifier perform very poorly in some cases.  Try choosing\n...                   at least 1 common word.\n...                   \"\"\"\n>>> train_f = train_movies.select(my_features)\n>>> np.count_nonzero(train_f.apply(lambda r: np.sum(np.abs(np.array(list(r)))) == 0)) < len(my_features)\nTrue",
         "hidden": false,
         "locked": false
        },
        {
         "code": ">>> help_message = \"\"\"It looks like there are many movies in the test set that \n...                   don't have any of your chosen words.  That will make your\n...                   classifier perform very poorly in some cases.  Try choosing\n...                   at least 1 common word.\n...                   \"\"\"\n>>> test_f = test_movies.select(my_features)\n>>> np.count_nonzero(test_f.apply(lambda r: np.sum(np.abs(np.array(list(r)))) == 0)) < 5\nTrue",
         "hidden": false,
         "locked": false
        }
       ],
       "scored": true,
       "setup": "",
       "teardown": "",
       "type": "doctest"
      }
     ]
    },
    "q3_1_8": {
     "name": "q3_1_8",
     "points": [
      0,
      1,
      1,
      1
     ],
     "suites": [
      {
       "cases": [
        {
         "code": ">>> genre_and_distances.labels == ('Genre', 'Distance')\nTrue",
         "hidden": false,
         "locked": false
        },
        {
         "code": ">>> genre_and_distances.num_rows == train_movies.num_rows\nTrue",
         "hidden": false,
         "locked": false
        },
        {
         "code": ">>> print(genre_and_distances.group('Genre'))\nGenre    | count\ncomedy   | 102\nthriller | 181\n",
         "hidden": false,
         "locked": false
        },
        {
         "code": ">>> np.allclose(genre_and_distances.column('Distance'), sorted(fast_distances(test_my_features.row(0), train_my_features)))\nTrue",
         "hidden": false,
         "locked": false
        }
       ],
       "scored": true,
       "setup": "",
       "teardown": "",
       "type": "doctest"
      }
     ]
    },
    "q3_1_9": {
     "name": "q3_1_9",
     "points": [
      1,
      1
     ],
     "suites": [
      {
       "cases": [
        {
         "code": ">>> genre_and_distances.take(np.arange(7)).group('Genre').index_by('Genre')[my_assigned_genre][0].item('count') >= 4\nTrue",
         "hidden": false,
         "locked": false
        },
        {
         "code": ">>> my_assigned_genre_was_correct == (my_assigned_genre == 'thriller')\nFalse",
         "hidden": false,
         "locked": false
        }
       ],
       "scored": true,
       "setup": "",
       "teardown": "",
       "type": "doctest"
      }
     ]
    },
    "q3_2_1": {
     "name": "q3_2_1",
     "points": [
      1.5,
      1.5
     ],
     "suites": [
      {
       "cases": [
        {
         "code": ">>> # This test just checks to see if your classify function works correctly \n>>> # with k=5 nearest neighbors.\n>>> from collections import Counter\n>>> g = train_movies.column('Genre')\n>>> def check(r, k):\n...     t = test_my_features.row(r)\n...     return classify(t, train_my_features, g, k) == Counter(np.take(g, np.argsort(fast_distances(t, train_my_features))[:k])).most_common(1)[0][0]\n>>> check_5_nn = [check(i, 5) for i in np.arange(11)]\n>>> all(check_5_nn)\nTrue",
         "hidden": false,
         "locked": false
        },
        {
         "code": ">>> # This test just checks to see if your classify function works correctly \n>>> # with k=11 nearest neighbors.\n>>> from collections import Counter\n>>> g = train_movies.column('Genre')\n>>> def check(r, k):\n...     t = test_my_features.row(r)\n...     return classify(t, train_my_features, g, k) == Counter(np.take(g, np.argsort(fast_distances(t, train_my_features))[:k])).most_common(1)[0][0]\n>>> check_11_nn = [check(i, 11) for i in np.arange(11)]\n>>> all(check_11_nn)\nTrue",
         "hidden": false,
         "locked": false
        }
       ],
       "scored": true,
       "setup": "",
       "teardown": "",
       "type": "doctest"
      }
     ]
    },
    "q3_2_2": {
     "name": "q3_2_2",
     "points": [
      3
     ],
     "suites": [
      {
       "cases": [
        {
         "code": ">>> from collections import Counter\n>>> g = train_movies.column('Genre')\n>>> r = np.where(test_movies['Title'] == \"godzilla\")[0][0]\n>>> t = test_my_features.row(r)\n>>> godzilla_expected_genre = Counter(np.take(g, np.argsort(fast_distances(t, train_my_features))[:15])).most_common(1)[0][0]\n>>> godzilla_genre == godzilla_expected_genre\nTrue",
         "hidden": false,
         "locked": false
        }
       ],
       "scored": true,
       "setup": "",
       "teardown": "",
       "type": "doctest"
      }
     ]
    },
    "q3_2_3": {
     "name": "q3_2_3",
     "points": [
      3
     ],
     "suites": [
      {
       "cases": [
        {
         "code": ">>> # This test just checks that your classify_feature_row works correctly.\n>>> def check(r):\n...     t = test_my_features.row(r)\n...     return classify(t, train_my_features, train_movies.column('Genre'), 15) == classify_feature_row(t)\n>>> all([check(i) for i in np.arange(15)])\nTrue",
         "hidden": false,
         "locked": false
        }
       ],
       "scored": true,
       "setup": "",
       "teardown": "",
       "type": "doctest"
      }
     ]
    },
    "q3_3_1": {
     "name": "q3_3_1",
     "points": [
      0,
      3
     ],
     "suites": [
      {
       "cases": [
        {
         "code": ">>> 0 <= proportion_correct <= 1\nTrue",
         "hidden": false,
         "locked": false
        },
        {
         "code": ">>> r = np.count_nonzero(test_guesses == test_movies.column('Genre')) / test_movies.num_rows\n>>> proportion_correct == r\nTrue",
         "hidden": true,
         "locked": false
        }
       ],
       "scored": true,
       "setup": "",
       "teardown": "",
       "type": "doctest"
      }
     ]
    },
    "q3_3_2": {
     "name": "q3_3_2",
     "points": [
      0,
      0,
      3
     ],
     "suites": [
      {
       "cases": [
        {
         "code": ">>> test_movie_correctness.labels == ('Title', 'Genre', 'Was correct')\nTrue",
         "hidden": false,
         "locked": false
        },
        {
         "code": ">>> test_movie_correctness.num_rows == test_movies.num_rows\nTrue",
         "hidden": false,
         "locked": false
        },
        {
         "code": ">>> # Make sure that test_movie_correctness does not modify the original\n>>> # test_movies table.\n>>> print(test_movie_correctness.group('Genre'))\nGenre    | count\ncomedy   | 17\nthriller | 33\n",
         "hidden": false,
         "locked": false
        }
       ],
       "scored": true,
       "setup": "",
       "teardown": "",
       "type": "doctest"
      }
     ]
    },
    "q4_1": {
     "name": "q4_1",
     "points": [
      0,
      3
     ],
     "suites": [
      {
       "cases": [
        {
         "code": ">>> len(new_features) <= 5 # You have too many features\nTrue",
         "hidden": false,
         "locked": false
        },
        {
         "code": ">>> another_classifier(test_new.row(0)) in [\"comedy\", \"thriller\"] \nTrue",
         "hidden": false,
         "locked": false
        }
       ],
       "scored": true,
       "setup": "",
       "teardown": "",
       "type": "doctest"
      }
     ]
    }
   }
  },
  "widgets": {
   "application/vnd.jupyter.widget-state+json": {
    "state": {
     "05d5ae6aa2984768b0c14f5907eddc65": {
      "model_module": "@jupyter-widgets/controls",
      "model_module_version": "1.5.0",
      "model_name": "LabelModel",
      "state": {
       "_dom_classes": [],
       "_model_module": "@jupyter-widgets/controls",
       "_model_module_version": "1.5.0",
       "_model_name": "LabelModel",
       "_view_count": null,
       "_view_module": "@jupyter-widgets/controls",
       "_view_module_version": "1.5.0",
       "_view_name": "LabelView",
       "description": "",
       "description_tooltip": null,
       "layout": "IPY_MODEL_bfcea90c9609480d89b6e93d4a77cd8f",
       "placeholder": "​",
       "style": "IPY_MODEL_f0e7814e15114838b74c3b41270e0db1",
       "value": "Any other feedback?"
      }
     },
     "06f42294ec3d40b49a3dfae13a997900": {
      "model_module": "@jupyter-widgets/controls",
      "model_module_version": "1.5.0",
      "model_name": "ButtonStyleModel",
      "state": {
       "_model_module": "@jupyter-widgets/controls",
       "_model_module_version": "1.5.0",
       "_model_name": "ButtonStyleModel",
       "_view_count": null,
       "_view_module": "@jupyter-widgets/base",
       "_view_module_version": "1.2.0",
       "_view_name": "StyleView",
       "button_color": null,
       "font_weight": ""
      }
     },
     "092c234dfebd4a9caf3ad83415b562a2": {
      "model_module": "@jupyter-widgets/controls",
      "model_module_version": "1.5.0",
      "model_name": "DescriptionStyleModel",
      "state": {
       "_model_module": "@jupyter-widgets/controls",
       "_model_module_version": "1.5.0",
       "_model_name": "DescriptionStyleModel",
       "_view_count": null,
       "_view_module": "@jupyter-widgets/base",
       "_view_module_version": "1.2.0",
       "_view_name": "StyleView",
       "description_width": ""
      }
     },
     "0d236030e4514bb9b6efc40f4059945c": {
      "model_module": "@jupyter-widgets/controls",
      "model_module_version": "1.5.0",
      "model_name": "DescriptionStyleModel",
      "state": {
       "_model_module": "@jupyter-widgets/controls",
       "_model_module_version": "1.5.0",
       "_model_name": "DescriptionStyleModel",
       "_view_count": null,
       "_view_module": "@jupyter-widgets/base",
       "_view_module_version": "1.2.0",
       "_view_name": "StyleView",
       "description_width": ""
      }
     },
     "21bcb0dd02d4420d84ebadf2effc3505": {
      "model_module": "@jupyter-widgets/base",
      "model_module_version": "1.2.0",
      "model_name": "LayoutModel",
      "state": {
       "_model_module": "@jupyter-widgets/base",
       "_model_module_version": "1.2.0",
       "_model_name": "LayoutModel",
       "_view_count": null,
       "_view_module": "@jupyter-widgets/base",
       "_view_module_version": "1.2.0",
       "_view_name": "LayoutView",
       "align_content": null,
       "align_items": null,
       "align_self": null,
       "border": null,
       "bottom": null,
       "display": null,
       "flex": null,
       "flex_flow": null,
       "grid_area": null,
       "grid_auto_columns": null,
       "grid_auto_flow": null,
       "grid_auto_rows": null,
       "grid_column": null,
       "grid_gap": null,
       "grid_row": null,
       "grid_template_areas": null,
       "grid_template_columns": null,
       "grid_template_rows": null,
       "height": null,
       "justify_content": null,
       "justify_items": null,
       "left": null,
       "margin": null,
       "max_height": null,
       "max_width": null,
       "min_height": null,
       "min_width": null,
       "object_fit": null,
       "object_position": null,
       "order": null,
       "overflow": null,
       "overflow_x": null,
       "overflow_y": null,
       "padding": null,
       "right": null,
       "top": null,
       "visibility": null,
       "width": null
      }
     },
     "29aff87f8b8546d08e60bc537aba94dd": {
      "model_module": "@jupyter-widgets/controls",
      "model_module_version": "1.5.0",
      "model_name": "LabelModel",
      "state": {
       "_dom_classes": [],
       "_model_module": "@jupyter-widgets/controls",
       "_model_module_version": "1.5.0",
       "_model_name": "LabelModel",
       "_view_count": null,
       "_view_module": "@jupyter-widgets/controls",
       "_view_module_version": "1.5.0",
       "_view_name": "LabelView",
       "description": "",
       "description_tooltip": null,
       "layout": "IPY_MODEL_89377d4f580f4f37bcf43f96f8a6823b",
       "placeholder": "​",
       "style": "IPY_MODEL_092c234dfebd4a9caf3ad83415b562a2",
       "value": "Any other feedback?"
      }
     },
     "2a1d4311a103475083029c421916ee43": {
      "model_module": "@jupyter-widgets/base",
      "model_module_version": "1.2.0",
      "model_name": "LayoutModel",
      "state": {
       "_model_module": "@jupyter-widgets/base",
       "_model_module_version": "1.2.0",
       "_model_name": "LayoutModel",
       "_view_count": null,
       "_view_module": "@jupyter-widgets/base",
       "_view_module_version": "1.2.0",
       "_view_name": "LayoutView",
       "align_content": null,
       "align_items": null,
       "align_self": null,
       "border": null,
       "bottom": null,
       "display": null,
       "flex": null,
       "flex_flow": null,
       "grid_area": null,
       "grid_auto_columns": null,
       "grid_auto_flow": null,
       "grid_auto_rows": null,
       "grid_column": null,
       "grid_gap": null,
       "grid_row": null,
       "grid_template_areas": null,
       "grid_template_columns": null,
       "grid_template_rows": null,
       "height": null,
       "justify_content": null,
       "justify_items": null,
       "left": null,
       "margin": null,
       "max_height": null,
       "max_width": null,
       "min_height": null,
       "min_width": null,
       "object_fit": null,
       "object_position": null,
       "order": null,
       "overflow": null,
       "overflow_x": null,
       "overflow_y": null,
       "padding": null,
       "right": null,
       "top": null,
       "visibility": null,
       "width": null
      }
     },
     "3235d94f56a34f72a1af366e4ee23058": {
      "model_module": "@jupyter-widgets/base",
      "model_module_version": "1.2.0",
      "model_name": "LayoutModel",
      "state": {
       "_model_module": "@jupyter-widgets/base",
       "_model_module_version": "1.2.0",
       "_model_name": "LayoutModel",
       "_view_count": null,
       "_view_module": "@jupyter-widgets/base",
       "_view_module_version": "1.2.0",
       "_view_name": "LayoutView",
       "align_content": null,
       "align_items": "center",
       "align_self": null,
       "border": null,
       "bottom": null,
       "display": null,
       "flex": null,
       "flex_flow": null,
       "grid_area": null,
       "grid_auto_columns": null,
       "grid_auto_flow": null,
       "grid_auto_rows": null,
       "grid_column": null,
       "grid_gap": null,
       "grid_row": null,
       "grid_template_areas": null,
       "grid_template_columns": null,
       "grid_template_rows": null,
       "height": null,
       "justify_content": null,
       "justify_items": null,
       "left": null,
       "margin": null,
       "max_height": null,
       "max_width": null,
       "min_height": null,
       "min_width": null,
       "object_fit": null,
       "object_position": null,
       "order": null,
       "overflow": null,
       "overflow_x": null,
       "overflow_y": null,
       "padding": null,
       "right": null,
       "top": null,
       "visibility": null,
       "width": null
      }
     },
     "37003d22b60547ffbcfebf03d245eb88": {
      "model_module": "@jupyter-widgets/controls",
      "model_module_version": "1.5.0",
      "model_name": "DescriptionStyleModel",
      "state": {
       "_model_module": "@jupyter-widgets/controls",
       "_model_module_version": "1.5.0",
       "_model_name": "DescriptionStyleModel",
       "_view_count": null,
       "_view_module": "@jupyter-widgets/base",
       "_view_module_version": "1.2.0",
       "_view_name": "StyleView",
       "description_width": ""
      }
     },
     "38b111728e6e4c7fb097863792ca3ffe": {
      "model_module": "@jupyter-widgets/controls",
      "model_module_version": "1.5.0",
      "model_name": "DescriptionStyleModel",
      "state": {
       "_model_module": "@jupyter-widgets/controls",
       "_model_module_version": "1.5.0",
       "_model_name": "DescriptionStyleModel",
       "_view_count": null,
       "_view_module": "@jupyter-widgets/base",
       "_view_module_version": "1.2.0",
       "_view_name": "StyleView",
       "description_width": ""
      }
     },
     "3d5cdf1323894e228092c28afc88d492": {
      "model_module": "@jupyter-widgets/base",
      "model_module_version": "1.2.0",
      "model_name": "LayoutModel",
      "state": {
       "_model_module": "@jupyter-widgets/base",
       "_model_module_version": "1.2.0",
       "_model_name": "LayoutModel",
       "_view_count": null,
       "_view_module": "@jupyter-widgets/base",
       "_view_module_version": "1.2.0",
       "_view_name": "LayoutView",
       "align_content": null,
       "align_items": null,
       "align_self": null,
       "border": null,
       "bottom": null,
       "display": null,
       "flex": null,
       "flex_flow": null,
       "grid_area": null,
       "grid_auto_columns": null,
       "grid_auto_flow": null,
       "grid_auto_rows": null,
       "grid_column": null,
       "grid_gap": null,
       "grid_row": null,
       "grid_template_areas": null,
       "grid_template_columns": null,
       "grid_template_rows": null,
       "height": null,
       "justify_content": null,
       "justify_items": null,
       "left": null,
       "margin": null,
       "max_height": null,
       "max_width": null,
       "min_height": null,
       "min_width": null,
       "object_fit": null,
       "object_position": null,
       "order": null,
       "overflow": null,
       "overflow_x": null,
       "overflow_y": null,
       "padding": null,
       "right": null,
       "top": null,
       "visibility": null,
       "width": null
      }
     },
     "40cc1ff5aa9645b5b9349f8a1a169b8b": {
      "model_module": "@jupyter-widgets/controls",
      "model_module_version": "1.5.0",
      "model_name": "DropdownModel",
      "state": {
       "_dom_classes": [],
       "_model_module": "@jupyter-widgets/controls",
       "_model_module_version": "1.5.0",
       "_model_name": "DropdownModel",
       "_options_labels": [
        "",
        "Extremely useful",
        "Very useful",
        "Somewhat useful",
        "Slightly useful",
        "Not at all useful"
       ],
       "_view_count": null,
       "_view_module": "@jupyter-widgets/controls",
       "_view_module_version": "1.5.0",
       "_view_name": "DropdownView",
       "description": "",
       "description_tooltip": null,
       "disabled": false,
       "index": 0,
       "layout": "IPY_MODEL_e4ed15737d304e3e80a0fb8839b517e3",
       "style": "IPY_MODEL_0d236030e4514bb9b6efc40f4059945c"
      }
     },
     "4288f1a1c5054f69845b6511a635cb68": {
      "model_module": "@jupyter-widgets/controls",
      "model_module_version": "1.5.0",
      "model_name": "AccordionModel",
      "state": {
       "_dom_classes": [],
       "_model_module": "@jupyter-widgets/controls",
       "_model_module_version": "1.5.0",
       "_model_name": "AccordionModel",
       "_titles": {
        "0": "  Feedback Form"
       },
       "_view_count": null,
       "_view_module": "@jupyter-widgets/controls",
       "_view_module_version": "1.5.0",
       "_view_name": "AccordionView",
       "box_style": "",
       "children": [
        "IPY_MODEL_d9d2ac9e22e14426b033981d1d4cd136"
       ],
       "layout": "IPY_MODEL_4f32203f7ebd4402bc06bf760e318a76",
       "selected_index": 0
      }
     },
     "42a8403a4d2d43dc98fb2847d1dc72f7": {
      "model_module": "@jupyter-widgets/controls",
      "model_module_version": "1.5.0",
      "model_name": "DescriptionStyleModel",
      "state": {
       "_model_module": "@jupyter-widgets/controls",
       "_model_module_version": "1.5.0",
       "_model_name": "DescriptionStyleModel",
       "_view_count": null,
       "_view_module": "@jupyter-widgets/base",
       "_view_module_version": "1.2.0",
       "_view_name": "StyleView",
       "description_width": ""
      }
     },
     "42f4cad31dca46438e1d893262ca8836": {
      "model_module": "@jupyter-widgets/base",
      "model_module_version": "1.2.0",
      "model_name": "LayoutModel",
      "state": {
       "_model_module": "@jupyter-widgets/base",
       "_model_module_version": "1.2.0",
       "_model_name": "LayoutModel",
       "_view_count": null,
       "_view_module": "@jupyter-widgets/base",
       "_view_module_version": "1.2.0",
       "_view_name": "LayoutView",
       "align_content": null,
       "align_items": null,
       "align_self": null,
       "border": null,
       "bottom": null,
       "display": null,
       "flex": null,
       "flex_flow": null,
       "grid_area": null,
       "grid_auto_columns": null,
       "grid_auto_flow": null,
       "grid_auto_rows": null,
       "grid_column": null,
       "grid_gap": null,
       "grid_row": null,
       "grid_template_areas": null,
       "grid_template_columns": null,
       "grid_template_rows": null,
       "height": null,
       "justify_content": null,
       "justify_items": null,
       "left": null,
       "margin": null,
       "max_height": null,
       "max_width": null,
       "min_height": null,
       "min_width": null,
       "object_fit": null,
       "object_position": null,
       "order": null,
       "overflow": null,
       "overflow_x": null,
       "overflow_y": null,
       "padding": null,
       "right": null,
       "top": null,
       "visibility": null,
       "width": null
      }
     },
     "493c47eb86354614804669a1f8042027": {
      "model_module": "@jupyter-widgets/base",
      "model_module_version": "1.2.0",
      "model_name": "LayoutModel",
      "state": {
       "_model_module": "@jupyter-widgets/base",
       "_model_module_version": "1.2.0",
       "_model_name": "LayoutModel",
       "_view_count": null,
       "_view_module": "@jupyter-widgets/base",
       "_view_module_version": "1.2.0",
       "_view_name": "LayoutView",
       "align_content": null,
       "align_items": null,
       "align_self": null,
       "border": null,
       "bottom": null,
       "display": null,
       "flex": null,
       "flex_flow": null,
       "grid_area": null,
       "grid_auto_columns": null,
       "grid_auto_flow": null,
       "grid_auto_rows": null,
       "grid_column": null,
       "grid_gap": null,
       "grid_row": null,
       "grid_template_areas": null,
       "grid_template_columns": null,
       "grid_template_rows": null,
       "height": null,
       "justify_content": null,
       "justify_items": null,
       "left": null,
       "margin": null,
       "max_height": null,
       "max_width": null,
       "min_height": null,
       "min_width": null,
       "object_fit": null,
       "object_position": null,
       "order": null,
       "overflow": null,
       "overflow_x": null,
       "overflow_y": null,
       "padding": null,
       "right": null,
       "top": null,
       "visibility": null,
       "width": null
      }
     },
     "49f99381df8346e5a2b96c2ea3089671": {
      "model_module": "@jupyter-widgets/controls",
      "model_module_version": "1.5.0",
      "model_name": "VBoxModel",
      "state": {
       "_dom_classes": [],
       "_model_module": "@jupyter-widgets/controls",
       "_model_module_version": "1.5.0",
       "_model_name": "VBoxModel",
       "_view_count": null,
       "_view_module": "@jupyter-widgets/controls",
       "_view_module_version": "1.5.0",
       "_view_name": "VBoxView",
       "box_style": "",
       "children": [
        "IPY_MODEL_29aff87f8b8546d08e60bc537aba94dd",
        "IPY_MODEL_fbb2dbe2977f4211910b2c54fdf17eec"
       ],
       "layout": "IPY_MODEL_2a1d4311a103475083029c421916ee43"
      }
     },
     "4b247006d3324aca86d27d7cb1e6fa96": {
      "model_module": "@jupyter-widgets/controls",
      "model_module_version": "1.5.0",
      "model_name": "HBoxModel",
      "state": {
       "_dom_classes": [],
       "_model_module": "@jupyter-widgets/controls",
       "_model_module_version": "1.5.0",
       "_model_name": "HBoxModel",
       "_view_count": null,
       "_view_module": "@jupyter-widgets/controls",
       "_view_module_version": "1.5.0",
       "_view_name": "HBoxView",
       "box_style": "",
       "children": [
        "IPY_MODEL_9b3458b6a24046ef908d8c26a71ea65d",
        "IPY_MODEL_f29225ae84ef46e0a73e77a51250994e"
       ],
       "layout": "IPY_MODEL_ceec7647ed924052b624075e1a5fbce1"
      }
     },
     "4f32203f7ebd4402bc06bf760e318a76": {
      "model_module": "@jupyter-widgets/base",
      "model_module_version": "1.2.0",
      "model_name": "LayoutModel",
      "state": {
       "_model_module": "@jupyter-widgets/base",
       "_model_module_version": "1.2.0",
       "_model_name": "LayoutModel",
       "_view_count": null,
       "_view_module": "@jupyter-widgets/base",
       "_view_module_version": "1.2.0",
       "_view_name": "LayoutView",
       "align_content": null,
       "align_items": null,
       "align_self": null,
       "border": null,
       "bottom": null,
       "display": null,
       "flex": null,
       "flex_flow": null,
       "grid_area": null,
       "grid_auto_columns": null,
       "grid_auto_flow": null,
       "grid_auto_rows": null,
       "grid_column": null,
       "grid_gap": null,
       "grid_row": null,
       "grid_template_areas": null,
       "grid_template_columns": null,
       "grid_template_rows": null,
       "height": null,
       "justify_content": null,
       "justify_items": null,
       "left": null,
       "margin": null,
       "max_height": null,
       "max_width": null,
       "min_height": null,
       "min_width": null,
       "object_fit": null,
       "object_position": null,
       "order": null,
       "overflow": null,
       "overflow_x": null,
       "overflow_y": null,
       "padding": null,
       "right": null,
       "top": null,
       "visibility": null,
       "width": null
      }
     },
     "4ff708fe1e104b128085bbf3d633ca76": {
      "model_module": "@jupyter-widgets/base",
      "model_module_version": "1.2.0",
      "model_name": "LayoutModel",
      "state": {
       "_model_module": "@jupyter-widgets/base",
       "_model_module_version": "1.2.0",
       "_model_name": "LayoutModel",
       "_view_count": null,
       "_view_module": "@jupyter-widgets/base",
       "_view_module_version": "1.2.0",
       "_view_name": "LayoutView",
       "align_content": null,
       "align_items": null,
       "align_self": null,
       "border": null,
       "bottom": null,
       "display": null,
       "flex": null,
       "flex_flow": null,
       "grid_area": null,
       "grid_auto_columns": null,
       "grid_auto_flow": null,
       "grid_auto_rows": null,
       "grid_column": null,
       "grid_gap": null,
       "grid_row": null,
       "grid_template_areas": null,
       "grid_template_columns": null,
       "grid_template_rows": null,
       "height": null,
       "justify_content": null,
       "justify_items": null,
       "left": null,
       "margin": null,
       "max_height": null,
       "max_width": null,
       "min_height": null,
       "min_width": "80px",
       "object_fit": null,
       "object_position": null,
       "order": null,
       "overflow": null,
       "overflow_x": null,
       "overflow_y": null,
       "padding": null,
       "right": null,
       "top": null,
       "visibility": null,
       "width": "10%"
      }
     },
     "51284fc3d51d4e539ed69399819e1460": {
      "model_module": "@jupyter-widgets/base",
      "model_module_version": "1.2.0",
      "model_name": "LayoutModel",
      "state": {
       "_model_module": "@jupyter-widgets/base",
       "_model_module_version": "1.2.0",
       "_model_name": "LayoutModel",
       "_view_count": null,
       "_view_module": "@jupyter-widgets/base",
       "_view_module_version": "1.2.0",
       "_view_name": "LayoutView",
       "align_content": null,
       "align_items": null,
       "align_self": null,
       "border": null,
       "bottom": null,
       "display": null,
       "flex": null,
       "flex_flow": null,
       "grid_area": null,
       "grid_auto_columns": null,
       "grid_auto_flow": null,
       "grid_auto_rows": null,
       "grid_column": null,
       "grid_gap": null,
       "grid_row": null,
       "grid_template_areas": null,
       "grid_template_columns": null,
       "grid_template_rows": null,
       "height": null,
       "justify_content": null,
       "justify_items": null,
       "left": null,
       "margin": null,
       "max_height": null,
       "max_width": null,
       "min_height": null,
       "min_width": null,
       "object_fit": null,
       "object_position": null,
       "order": null,
       "overflow": null,
       "overflow_x": null,
       "overflow_y": null,
       "padding": null,
       "right": null,
       "top": null,
       "visibility": null,
       "width": null
      }
     },
     "571db8dc8c3b462eb3de6d5758ec06c9": {
      "model_module": "@jupyter-widgets/controls",
      "model_module_version": "1.5.0",
      "model_name": "ButtonModel",
      "state": {
       "_dom_classes": [],
       "_model_module": "@jupyter-widgets/controls",
       "_model_module_version": "1.5.0",
       "_model_name": "ButtonModel",
       "_view_count": null,
       "_view_module": "@jupyter-widgets/controls",
       "_view_module_version": "1.5.0",
       "_view_name": "ButtonView",
       "button_style": "",
       "description": "Submit",
       "disabled": false,
       "icon": "",
       "layout": "IPY_MODEL_e810cd269b8d41f2badf41d54303dde5",
       "style": "IPY_MODEL_70c7cfd51679406ea2da0ee5ce44c4c0",
       "tooltip": ""
      }
     },
     "62c94b9aa3754937b45cc22c485a1660": {
      "model_module": "@jupyter-widgets/controls",
      "model_module_version": "1.5.0",
      "model_name": "DropdownModel",
      "state": {
       "_dom_classes": [],
       "_model_module": "@jupyter-widgets/controls",
       "_model_module_version": "1.5.0",
       "_model_name": "DropdownModel",
       "_options_labels": [
        "",
        "Extremely useful",
        "Very useful",
        "Somewhat useful",
        "Slightly useful",
        "Not at all useful"
       ],
       "_view_count": null,
       "_view_module": "@jupyter-widgets/controls",
       "_view_module_version": "1.5.0",
       "_view_name": "DropdownView",
       "description": "",
       "description_tooltip": null,
       "disabled": false,
       "index": 0,
       "layout": "IPY_MODEL_51284fc3d51d4e539ed69399819e1460",
       "style": "IPY_MODEL_37003d22b60547ffbcfebf03d245eb88"
      }
     },
     "67474b9c02c34b378905fb36ac1575cb": {
      "model_module": "@jupyter-widgets/controls",
      "model_module_version": "1.5.0",
      "model_name": "VBoxModel",
      "state": {
       "_dom_classes": [],
       "_model_module": "@jupyter-widgets/controls",
       "_model_module_version": "1.5.0",
       "_model_name": "VBoxModel",
       "_view_count": null,
       "_view_module": "@jupyter-widgets/controls",
       "_view_module_version": "1.5.0",
       "_view_name": "VBoxView",
       "box_style": "",
       "children": [
        "IPY_MODEL_d7770d61c8de449784971c8c1efd8811",
        "IPY_MODEL_62c94b9aa3754937b45cc22c485a1660"
       ],
       "layout": "IPY_MODEL_8b4e353db1cf490aa089eb15015ad359"
      }
     },
     "6885bfa50492414d9450e7b08d531b9a": {
      "model_module": "@jupyter-widgets/controls",
      "model_module_version": "1.5.0",
      "model_name": "VBoxModel",
      "state": {
       "_dom_classes": [],
       "_model_module": "@jupyter-widgets/controls",
       "_model_module_version": "1.5.0",
       "_model_name": "VBoxModel",
       "_view_count": null,
       "_view_module": "@jupyter-widgets/controls",
       "_view_module_version": "1.5.0",
       "_view_name": "VBoxView",
       "box_style": "",
       "children": [
        "IPY_MODEL_05d5ae6aa2984768b0c14f5907eddc65",
        "IPY_MODEL_4b247006d3324aca86d27d7cb1e6fa96"
       ],
       "layout": "IPY_MODEL_8cff04b47e7d4c82af52080a50eeeed7"
      }
     },
     "70c7cfd51679406ea2da0ee5ce44c4c0": {
      "model_module": "@jupyter-widgets/controls",
      "model_module_version": "1.5.0",
      "model_name": "ButtonStyleModel",
      "state": {
       "_model_module": "@jupyter-widgets/controls",
       "_model_module_version": "1.5.0",
       "_model_name": "ButtonStyleModel",
       "_view_count": null,
       "_view_module": "@jupyter-widgets/base",
       "_view_module_version": "1.2.0",
       "_view_name": "StyleView",
       "button_color": null,
       "font_weight": ""
      }
     },
     "72fd2c285fe6444aab45b5dacacaa023": {
      "model_module": "@jupyter-widgets/controls",
      "model_module_version": "1.5.0",
      "model_name": "VBoxModel",
      "state": {
       "_dom_classes": [],
       "_model_module": "@jupyter-widgets/controls",
       "_model_module_version": "1.5.0",
       "_model_name": "VBoxModel",
       "_view_count": null,
       "_view_module": "@jupyter-widgets/controls",
       "_view_module_version": "1.5.0",
       "_view_name": "VBoxView",
       "box_style": "",
       "children": [
        "IPY_MODEL_fd191d0fa12a4f0b833c43c0e14eabe0",
        "IPY_MODEL_40cc1ff5aa9645b5b9349f8a1a169b8b"
       ],
       "layout": "IPY_MODEL_493c47eb86354614804669a1f8042027"
      }
     },
     "8737f06fc6d34d0b9b69eed931cf8b43": {
      "model_module": "@jupyter-widgets/controls",
      "model_module_version": "1.5.0",
      "model_name": "VBoxModel",
      "state": {
       "_dom_classes": [],
       "_model_module": "@jupyter-widgets/controls",
       "_model_module_version": "1.5.0",
       "_model_name": "VBoxModel",
       "_view_count": null,
       "_view_module": "@jupyter-widgets/controls",
       "_view_module_version": "1.5.0",
       "_view_name": "VBoxView",
       "box_style": "",
       "children": [
        "IPY_MODEL_67474b9c02c34b378905fb36ac1575cb",
        "IPY_MODEL_49f99381df8346e5a2b96c2ea3089671"
       ],
       "layout": "IPY_MODEL_3d5cdf1323894e228092c28afc88d492"
      }
     },
     "89377d4f580f4f37bcf43f96f8a6823b": {
      "model_module": "@jupyter-widgets/base",
      "model_module_version": "1.2.0",
      "model_name": "LayoutModel",
      "state": {
       "_model_module": "@jupyter-widgets/base",
       "_model_module_version": "1.2.0",
       "_model_name": "LayoutModel",
       "_view_count": null,
       "_view_module": "@jupyter-widgets/base",
       "_view_module_version": "1.2.0",
       "_view_name": "LayoutView",
       "align_content": null,
       "align_items": null,
       "align_self": null,
       "border": null,
       "bottom": null,
       "display": null,
       "flex": null,
       "flex_flow": null,
       "grid_area": null,
       "grid_auto_columns": null,
       "grid_auto_flow": null,
       "grid_auto_rows": null,
       "grid_column": null,
       "grid_gap": null,
       "grid_row": null,
       "grid_template_areas": null,
       "grid_template_columns": null,
       "grid_template_rows": null,
       "height": null,
       "justify_content": null,
       "justify_items": null,
       "left": null,
       "margin": null,
       "max_height": null,
       "max_width": null,
       "min_height": null,
       "min_width": null,
       "object_fit": null,
       "object_position": null,
       "order": null,
       "overflow": null,
       "overflow_x": null,
       "overflow_y": null,
       "padding": null,
       "right": null,
       "top": null,
       "visibility": null,
       "width": null
      }
     },
     "8b4e353db1cf490aa089eb15015ad359": {
      "model_module": "@jupyter-widgets/base",
      "model_module_version": "1.2.0",
      "model_name": "LayoutModel",
      "state": {
       "_model_module": "@jupyter-widgets/base",
       "_model_module_version": "1.2.0",
       "_model_name": "LayoutModel",
       "_view_count": null,
       "_view_module": "@jupyter-widgets/base",
       "_view_module_version": "1.2.0",
       "_view_name": "LayoutView",
       "align_content": null,
       "align_items": null,
       "align_self": null,
       "border": null,
       "bottom": null,
       "display": null,
       "flex": null,
       "flex_flow": null,
       "grid_area": null,
       "grid_auto_columns": null,
       "grid_auto_flow": null,
       "grid_auto_rows": null,
       "grid_column": null,
       "grid_gap": null,
       "grid_row": null,
       "grid_template_areas": null,
       "grid_template_columns": null,
       "grid_template_rows": null,
       "height": null,
       "justify_content": null,
       "justify_items": null,
       "left": null,
       "margin": null,
       "max_height": null,
       "max_width": null,
       "min_height": null,
       "min_width": null,
       "object_fit": null,
       "object_position": null,
       "order": null,
       "overflow": null,
       "overflow_x": null,
       "overflow_y": null,
       "padding": null,
       "right": null,
       "top": null,
       "visibility": null,
       "width": null
      }
     },
     "8cff04b47e7d4c82af52080a50eeeed7": {
      "model_module": "@jupyter-widgets/base",
      "model_module_version": "1.2.0",
      "model_name": "LayoutModel",
      "state": {
       "_model_module": "@jupyter-widgets/base",
       "_model_module_version": "1.2.0",
       "_model_name": "LayoutModel",
       "_view_count": null,
       "_view_module": "@jupyter-widgets/base",
       "_view_module_version": "1.2.0",
       "_view_name": "LayoutView",
       "align_content": null,
       "align_items": null,
       "align_self": null,
       "border": null,
       "bottom": null,
       "display": null,
       "flex": null,
       "flex_flow": null,
       "grid_area": null,
       "grid_auto_columns": null,
       "grid_auto_flow": null,
       "grid_auto_rows": null,
       "grid_column": null,
       "grid_gap": null,
       "grid_row": null,
       "grid_template_areas": null,
       "grid_template_columns": null,
       "grid_template_rows": null,
       "height": null,
       "justify_content": null,
       "justify_items": null,
       "left": null,
       "margin": null,
       "max_height": null,
       "max_width": null,
       "min_height": null,
       "min_width": null,
       "object_fit": null,
       "object_position": null,
       "order": null,
       "overflow": null,
       "overflow_x": null,
       "overflow_y": null,
       "padding": null,
       "right": null,
       "top": null,
       "visibility": null,
       "width": null
      }
     },
     "9b3458b6a24046ef908d8c26a71ea65d": {
      "model_module": "@jupyter-widgets/controls",
      "model_module_version": "1.5.0",
      "model_name": "TextModel",
      "state": {
       "_dom_classes": [],
       "_model_module": "@jupyter-widgets/controls",
       "_model_module_version": "1.5.0",
       "_model_name": "TextModel",
       "_view_count": null,
       "_view_module": "@jupyter-widgets/controls",
       "_view_module_version": "1.5.0",
       "_view_name": "TextView",
       "continuous_update": true,
       "description": "",
       "description_tooltip": null,
       "disabled": false,
       "layout": "IPY_MODEL_e2fec429a97f4f0694206dd9672435da",
       "placeholder": "Press enter to submit.",
       "style": "IPY_MODEL_b26693e382734c52ab0602a3dd184282",
       "value": ""
      }
     },
     "a7f218421703416a98032be9f14a878e": {
      "model_module": "@jupyter-widgets/controls",
      "model_module_version": "1.5.0",
      "model_name": "AccordionModel",
      "state": {
       "_dom_classes": [],
       "_model_module": "@jupyter-widgets/controls",
       "_model_module_version": "1.5.0",
       "_model_name": "AccordionModel",
       "_titles": {
        "0": "  Feedback Form"
       },
       "_view_count": null,
       "_view_module": "@jupyter-widgets/controls",
       "_view_module_version": "1.5.0",
       "_view_name": "AccordionView",
       "box_style": "",
       "children": [
        "IPY_MODEL_8737f06fc6d34d0b9b69eed931cf8b43"
       ],
       "layout": "IPY_MODEL_e0938cd43a9c4c37b7cdc57258dbbbb0",
       "selected_index": 0
      }
     },
     "b26693e382734c52ab0602a3dd184282": {
      "model_module": "@jupyter-widgets/controls",
      "model_module_version": "1.5.0",
      "model_name": "DescriptionStyleModel",
      "state": {
       "_model_module": "@jupyter-widgets/controls",
       "_model_module_version": "1.5.0",
       "_model_name": "DescriptionStyleModel",
       "_view_count": null,
       "_view_module": "@jupyter-widgets/base",
       "_view_module_version": "1.2.0",
       "_view_name": "StyleView",
       "description_width": ""
      }
     },
     "bfcea90c9609480d89b6e93d4a77cd8f": {
      "model_module": "@jupyter-widgets/base",
      "model_module_version": "1.2.0",
      "model_name": "LayoutModel",
      "state": {
       "_model_module": "@jupyter-widgets/base",
       "_model_module_version": "1.2.0",
       "_model_name": "LayoutModel",
       "_view_count": null,
       "_view_module": "@jupyter-widgets/base",
       "_view_module_version": "1.2.0",
       "_view_name": "LayoutView",
       "align_content": null,
       "align_items": null,
       "align_self": null,
       "border": null,
       "bottom": null,
       "display": null,
       "flex": null,
       "flex_flow": null,
       "grid_area": null,
       "grid_auto_columns": null,
       "grid_auto_flow": null,
       "grid_auto_rows": null,
       "grid_column": null,
       "grid_gap": null,
       "grid_row": null,
       "grid_template_areas": null,
       "grid_template_columns": null,
       "grid_template_rows": null,
       "height": null,
       "justify_content": null,
       "justify_items": null,
       "left": null,
       "margin": null,
       "max_height": null,
       "max_width": null,
       "min_height": null,
       "min_width": null,
       "object_fit": null,
       "object_position": null,
       "order": null,
       "overflow": null,
       "overflow_x": null,
       "overflow_y": null,
       "padding": null,
       "right": null,
       "top": null,
       "visibility": null,
       "width": null
      }
     },
     "ceec7647ed924052b624075e1a5fbce1": {
      "model_module": "@jupyter-widgets/base",
      "model_module_version": "1.2.0",
      "model_name": "LayoutModel",
      "state": {
       "_model_module": "@jupyter-widgets/base",
       "_model_module_version": "1.2.0",
       "_model_name": "LayoutModel",
       "_view_count": null,
       "_view_module": "@jupyter-widgets/base",
       "_view_module_version": "1.2.0",
       "_view_name": "LayoutView",
       "align_content": null,
       "align_items": "center",
       "align_self": null,
       "border": null,
       "bottom": null,
       "display": null,
       "flex": null,
       "flex_flow": null,
       "grid_area": null,
       "grid_auto_columns": null,
       "grid_auto_flow": null,
       "grid_auto_rows": null,
       "grid_column": null,
       "grid_gap": null,
       "grid_row": null,
       "grid_template_areas": null,
       "grid_template_columns": null,
       "grid_template_rows": null,
       "height": null,
       "justify_content": null,
       "justify_items": null,
       "left": null,
       "margin": null,
       "max_height": null,
       "max_width": null,
       "min_height": null,
       "min_width": null,
       "object_fit": null,
       "object_position": null,
       "order": null,
       "overflow": null,
       "overflow_x": null,
       "overflow_y": null,
       "padding": null,
       "right": null,
       "top": null,
       "visibility": null,
       "width": null
      }
     },
     "cf4bead1ea004359bdb2683e27676f20": {
      "model_module": "@jupyter-widgets/base",
      "model_module_version": "1.2.0",
      "model_name": "LayoutModel",
      "state": {
       "_model_module": "@jupyter-widgets/base",
       "_model_module_version": "1.2.0",
       "_model_name": "LayoutModel",
       "_view_count": null,
       "_view_module": "@jupyter-widgets/base",
       "_view_module_version": "1.2.0",
       "_view_name": "LayoutView",
       "align_content": null,
       "align_items": null,
       "align_self": null,
       "border": null,
       "bottom": null,
       "display": null,
       "flex": null,
       "flex_flow": null,
       "grid_area": null,
       "grid_auto_columns": null,
       "grid_auto_flow": null,
       "grid_auto_rows": null,
       "grid_column": null,
       "grid_gap": null,
       "grid_row": null,
       "grid_template_areas": null,
       "grid_template_columns": null,
       "grid_template_rows": null,
       "height": null,
       "justify_content": null,
       "justify_items": null,
       "left": null,
       "margin": null,
       "max_height": null,
       "max_width": null,
       "min_height": null,
       "min_width": null,
       "object_fit": null,
       "object_position": null,
       "order": null,
       "overflow": null,
       "overflow_x": null,
       "overflow_y": null,
       "padding": null,
       "right": null,
       "top": null,
       "visibility": null,
       "width": null
      }
     },
     "d7770d61c8de449784971c8c1efd8811": {
      "model_module": "@jupyter-widgets/controls",
      "model_module_version": "1.5.0",
      "model_name": "LabelModel",
      "state": {
       "_dom_classes": [],
       "_model_module": "@jupyter-widgets/controls",
       "_model_module_version": "1.5.0",
       "_model_name": "LabelModel",
       "_view_count": null,
       "_view_module": "@jupyter-widgets/controls",
       "_view_module_version": "1.5.0",
       "_view_name": "LabelView",
       "description": "",
       "description_tooltip": null,
       "layout": "IPY_MODEL_21bcb0dd02d4420d84ebadf2effc3505",
       "placeholder": "​",
       "style": "IPY_MODEL_e9f3ecd30e9148d395bd3405f3a2ec10",
       "value": "Was the message you saw useful?"
      }
     },
     "d9d2ac9e22e14426b033981d1d4cd136": {
      "model_module": "@jupyter-widgets/controls",
      "model_module_version": "1.5.0",
      "model_name": "VBoxModel",
      "state": {
       "_dom_classes": [],
       "_model_module": "@jupyter-widgets/controls",
       "_model_module_version": "1.5.0",
       "_model_name": "VBoxModel",
       "_view_count": null,
       "_view_module": "@jupyter-widgets/controls",
       "_view_module_version": "1.5.0",
       "_view_name": "VBoxView",
       "box_style": "",
       "children": [
        "IPY_MODEL_72fd2c285fe6444aab45b5dacacaa023",
        "IPY_MODEL_6885bfa50492414d9450e7b08d531b9a"
       ],
       "layout": "IPY_MODEL_cf4bead1ea004359bdb2683e27676f20"
      }
     },
     "e0938cd43a9c4c37b7cdc57258dbbbb0": {
      "model_module": "@jupyter-widgets/base",
      "model_module_version": "1.2.0",
      "model_name": "LayoutModel",
      "state": {
       "_model_module": "@jupyter-widgets/base",
       "_model_module_version": "1.2.0",
       "_model_name": "LayoutModel",
       "_view_count": null,
       "_view_module": "@jupyter-widgets/base",
       "_view_module_version": "1.2.0",
       "_view_name": "LayoutView",
       "align_content": null,
       "align_items": null,
       "align_self": null,
       "border": null,
       "bottom": null,
       "display": null,
       "flex": null,
       "flex_flow": null,
       "grid_area": null,
       "grid_auto_columns": null,
       "grid_auto_flow": null,
       "grid_auto_rows": null,
       "grid_column": null,
       "grid_gap": null,
       "grid_row": null,
       "grid_template_areas": null,
       "grid_template_columns": null,
       "grid_template_rows": null,
       "height": null,
       "justify_content": null,
       "justify_items": null,
       "left": null,
       "margin": null,
       "max_height": null,
       "max_width": null,
       "min_height": null,
       "min_width": null,
       "object_fit": null,
       "object_position": null,
       "order": null,
       "overflow": null,
       "overflow_x": null,
       "overflow_y": null,
       "padding": null,
       "right": null,
       "top": null,
       "visibility": null,
       "width": null
      }
     },
     "e2fec429a97f4f0694206dd9672435da": {
      "model_module": "@jupyter-widgets/base",
      "model_module_version": "1.2.0",
      "model_name": "LayoutModel",
      "state": {
       "_model_module": "@jupyter-widgets/base",
       "_model_module_version": "1.2.0",
       "_model_name": "LayoutModel",
       "_view_count": null,
       "_view_module": "@jupyter-widgets/base",
       "_view_module_version": "1.2.0",
       "_view_name": "LayoutView",
       "align_content": null,
       "align_items": null,
       "align_self": null,
       "border": null,
       "bottom": null,
       "display": null,
       "flex": null,
       "flex_flow": null,
       "grid_area": null,
       "grid_auto_columns": null,
       "grid_auto_flow": null,
       "grid_auto_rows": null,
       "grid_column": null,
       "grid_gap": null,
       "grid_row": null,
       "grid_template_areas": null,
       "grid_template_columns": null,
       "grid_template_rows": null,
       "height": null,
       "justify_content": null,
       "justify_items": null,
       "left": null,
       "margin": "0px 8px 0px 0px",
       "max_height": null,
       "max_width": null,
       "min_height": null,
       "min_width": null,
       "object_fit": null,
       "object_position": null,
       "order": null,
       "overflow": null,
       "overflow_x": null,
       "overflow_y": null,
       "padding": "0px",
       "right": null,
       "top": null,
       "visibility": null,
       "width": "50%"
      }
     },
     "e4e03918761846f9adeb52777ca47487": {
      "model_module": "@jupyter-widgets/controls",
      "model_module_version": "1.5.0",
      "model_name": "TextModel",
      "state": {
       "_dom_classes": [],
       "_model_module": "@jupyter-widgets/controls",
       "_model_module_version": "1.5.0",
       "_model_name": "TextModel",
       "_view_count": null,
       "_view_module": "@jupyter-widgets/controls",
       "_view_module_version": "1.5.0",
       "_view_name": "TextView",
       "continuous_update": true,
       "description": "",
       "description_tooltip": null,
       "disabled": false,
       "layout": "IPY_MODEL_fbe089044854478d8d2b2a0e947fd173",
       "placeholder": "Press enter to submit.",
       "style": "IPY_MODEL_38b111728e6e4c7fb097863792ca3ffe",
       "value": ""
      }
     },
     "e4ed15737d304e3e80a0fb8839b517e3": {
      "model_module": "@jupyter-widgets/base",
      "model_module_version": "1.2.0",
      "model_name": "LayoutModel",
      "state": {
       "_model_module": "@jupyter-widgets/base",
       "_model_module_version": "1.2.0",
       "_model_name": "LayoutModel",
       "_view_count": null,
       "_view_module": "@jupyter-widgets/base",
       "_view_module_version": "1.2.0",
       "_view_name": "LayoutView",
       "align_content": null,
       "align_items": null,
       "align_self": null,
       "border": null,
       "bottom": null,
       "display": null,
       "flex": null,
       "flex_flow": null,
       "grid_area": null,
       "grid_auto_columns": null,
       "grid_auto_flow": null,
       "grid_auto_rows": null,
       "grid_column": null,
       "grid_gap": null,
       "grid_row": null,
       "grid_template_areas": null,
       "grid_template_columns": null,
       "grid_template_rows": null,
       "height": null,
       "justify_content": null,
       "justify_items": null,
       "left": null,
       "margin": null,
       "max_height": null,
       "max_width": null,
       "min_height": null,
       "min_width": null,
       "object_fit": null,
       "object_position": null,
       "order": null,
       "overflow": null,
       "overflow_x": null,
       "overflow_y": null,
       "padding": null,
       "right": null,
       "top": null,
       "visibility": null,
       "width": null
      }
     },
     "e810cd269b8d41f2badf41d54303dde5": {
      "model_module": "@jupyter-widgets/base",
      "model_module_version": "1.2.0",
      "model_name": "LayoutModel",
      "state": {
       "_model_module": "@jupyter-widgets/base",
       "_model_module_version": "1.2.0",
       "_model_name": "LayoutModel",
       "_view_count": null,
       "_view_module": "@jupyter-widgets/base",
       "_view_module_version": "1.2.0",
       "_view_name": "LayoutView",
       "align_content": null,
       "align_items": null,
       "align_self": null,
       "border": null,
       "bottom": null,
       "display": null,
       "flex": null,
       "flex_flow": null,
       "grid_area": null,
       "grid_auto_columns": null,
       "grid_auto_flow": null,
       "grid_auto_rows": null,
       "grid_column": null,
       "grid_gap": null,
       "grid_row": null,
       "grid_template_areas": null,
       "grid_template_columns": null,
       "grid_template_rows": null,
       "height": null,
       "justify_content": null,
       "justify_items": null,
       "left": null,
       "margin": null,
       "max_height": null,
       "max_width": null,
       "min_height": null,
       "min_width": "80px",
       "object_fit": null,
       "object_position": null,
       "order": null,
       "overflow": null,
       "overflow_x": null,
       "overflow_y": null,
       "padding": null,
       "right": null,
       "top": null,
       "visibility": null,
       "width": "10%"
      }
     },
     "e9f3ecd30e9148d395bd3405f3a2ec10": {
      "model_module": "@jupyter-widgets/controls",
      "model_module_version": "1.5.0",
      "model_name": "DescriptionStyleModel",
      "state": {
       "_model_module": "@jupyter-widgets/controls",
       "_model_module_version": "1.5.0",
       "_model_name": "DescriptionStyleModel",
       "_view_count": null,
       "_view_module": "@jupyter-widgets/base",
       "_view_module_version": "1.2.0",
       "_view_name": "StyleView",
       "description_width": ""
      }
     },
     "f0e7814e15114838b74c3b41270e0db1": {
      "model_module": "@jupyter-widgets/controls",
      "model_module_version": "1.5.0",
      "model_name": "DescriptionStyleModel",
      "state": {
       "_model_module": "@jupyter-widgets/controls",
       "_model_module_version": "1.5.0",
       "_model_name": "DescriptionStyleModel",
       "_view_count": null,
       "_view_module": "@jupyter-widgets/base",
       "_view_module_version": "1.2.0",
       "_view_name": "StyleView",
       "description_width": ""
      }
     },
     "f29225ae84ef46e0a73e77a51250994e": {
      "model_module": "@jupyter-widgets/controls",
      "model_module_version": "1.5.0",
      "model_name": "ButtonModel",
      "state": {
       "_dom_classes": [],
       "_model_module": "@jupyter-widgets/controls",
       "_model_module_version": "1.5.0",
       "_model_name": "ButtonModel",
       "_view_count": null,
       "_view_module": "@jupyter-widgets/controls",
       "_view_module_version": "1.5.0",
       "_view_name": "ButtonView",
       "button_style": "",
       "description": "Submit",
       "disabled": false,
       "icon": "",
       "layout": "IPY_MODEL_4ff708fe1e104b128085bbf3d633ca76",
       "style": "IPY_MODEL_06f42294ec3d40b49a3dfae13a997900",
       "tooltip": ""
      }
     },
     "fbb2dbe2977f4211910b2c54fdf17eec": {
      "model_module": "@jupyter-widgets/controls",
      "model_module_version": "1.5.0",
      "model_name": "HBoxModel",
      "state": {
       "_dom_classes": [],
       "_model_module": "@jupyter-widgets/controls",
       "_model_module_version": "1.5.0",
       "_model_name": "HBoxModel",
       "_view_count": null,
       "_view_module": "@jupyter-widgets/controls",
       "_view_module_version": "1.5.0",
       "_view_name": "HBoxView",
       "box_style": "",
       "children": [
        "IPY_MODEL_e4e03918761846f9adeb52777ca47487",
        "IPY_MODEL_571db8dc8c3b462eb3de6d5758ec06c9"
       ],
       "layout": "IPY_MODEL_3235d94f56a34f72a1af366e4ee23058"
      }
     },
     "fbe089044854478d8d2b2a0e947fd173": {
      "model_module": "@jupyter-widgets/base",
      "model_module_version": "1.2.0",
      "model_name": "LayoutModel",
      "state": {
       "_model_module": "@jupyter-widgets/base",
       "_model_module_version": "1.2.0",
       "_model_name": "LayoutModel",
       "_view_count": null,
       "_view_module": "@jupyter-widgets/base",
       "_view_module_version": "1.2.0",
       "_view_name": "LayoutView",
       "align_content": null,
       "align_items": null,
       "align_self": null,
       "border": null,
       "bottom": null,
       "display": null,
       "flex": null,
       "flex_flow": null,
       "grid_area": null,
       "grid_auto_columns": null,
       "grid_auto_flow": null,
       "grid_auto_rows": null,
       "grid_column": null,
       "grid_gap": null,
       "grid_row": null,
       "grid_template_areas": null,
       "grid_template_columns": null,
       "grid_template_rows": null,
       "height": null,
       "justify_content": null,
       "justify_items": null,
       "left": null,
       "margin": "0px 8px 0px 0px",
       "max_height": null,
       "max_width": null,
       "min_height": null,
       "min_width": null,
       "object_fit": null,
       "object_position": null,
       "order": null,
       "overflow": null,
       "overflow_x": null,
       "overflow_y": null,
       "padding": "0px",
       "right": null,
       "top": null,
       "visibility": null,
       "width": "50%"
      }
     },
     "fd191d0fa12a4f0b833c43c0e14eabe0": {
      "model_module": "@jupyter-widgets/controls",
      "model_module_version": "1.5.0",
      "model_name": "LabelModel",
      "state": {
       "_dom_classes": [],
       "_model_module": "@jupyter-widgets/controls",
       "_model_module_version": "1.5.0",
       "_model_name": "LabelModel",
       "_view_count": null,
       "_view_module": "@jupyter-widgets/controls",
       "_view_module_version": "1.5.0",
       "_view_name": "LabelView",
       "description": "",
       "description_tooltip": null,
       "layout": "IPY_MODEL_42f4cad31dca46438e1d893262ca8836",
       "placeholder": "​",
       "style": "IPY_MODEL_42a8403a4d2d43dc98fb2847d1dc72f7",
       "value": "Was the message you saw useful?"
      }
     }
    },
    "version_major": 2,
    "version_minor": 0
   }
  }
 },
 "nbformat": 4,
 "nbformat_minor": 5
}
